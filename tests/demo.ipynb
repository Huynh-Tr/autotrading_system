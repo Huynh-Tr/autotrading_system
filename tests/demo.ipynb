{
 "cells": [
  {
   "cell_type": "code",
   "execution_count": 52,
   "id": "7f1df6b3",
   "metadata": {},
   "outputs": [
    {
     "name": "stdout",
     "output_type": "stream",
     "text": [
      "           time    open    high     low   close  volume\n",
      "2096 2025-07-22  1609.7  1630.9  1597.0  1630.5     111\n",
      "2097 2025-07-23  1640.1  1645.0  1625.0  1631.0      93\n",
      "2098 2025-07-24  1635.7  1646.0  1620.0  1634.0     199\n",
      "2099 2025-07-25  1631.0  1648.5  1629.6  1648.5      51\n",
      "2100 2025-07-28  1650.0  1670.3  1648.0  1670.3      66\n"
     ]
    }
   ],
   "source": [
    "from vnstock import Quote\n",
    "\n",
    "df = Quote(symbol='41I1G3000', source='tcbs').history(start=\"2015-01-01\", end=\"2025-07-31\", period=\"1d\")   \n",
    "print(df.tail())"
   ]
  },
  {
   "cell_type": "code",
   "execution_count": 47,
   "id": "b517f607",
   "metadata": {},
   "outputs": [
    {
     "data": {
      "text/plain": [
       "(2101, 6)"
      ]
     },
     "execution_count": 47,
     "metadata": {},
     "output_type": "execute_result"
    }
   ],
   "source": [
    "df.shape"
   ]
  },
  {
   "cell_type": "code",
   "execution_count": 48,
   "id": "93d4af32",
   "metadata": {},
   "outputs": [],
   "source": [
    "df.to_csv('41I1F8000.csv')"
   ]
  },
  {
   "cell_type": "code",
   "execution_count": null,
   "id": "29e9510f",
   "metadata": {},
   "outputs": [],
   "source": []
  }
 ],
 "metadata": {
  "kernelspec": {
   "display_name": "Python 3",
   "language": "python",
   "name": "python3"
  },
  "language_info": {
   "codemirror_mode": {
    "name": "ipython",
    "version": 3
   },
   "file_extension": ".py",
   "mimetype": "text/x-python",
   "name": "python",
   "nbconvert_exporter": "python",
   "pygments_lexer": "ipython3",
   "version": "3.12.2"
  }
 },
 "nbformat": 4,
 "nbformat_minor": 5
}
