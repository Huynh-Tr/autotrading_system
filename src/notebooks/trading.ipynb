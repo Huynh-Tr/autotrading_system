{
 "cells": [
  {
   "cell_type": "markdown",
   "id": "80277228",
   "metadata": {},
   "source": [
    "# **Import**"
   ]
  },
  {
   "cell_type": "code",
   "execution_count": 43,
   "id": "72a78104",
   "metadata": {},
   "outputs": [
    {
     "name": "stdout",
     "output_type": "stream",
     "text": [
      "Import thành công!\n"
     ]
    }
   ],
   "source": [
    "# Cell 1: Setup imports\n",
    "import os\n",
    "import sys\n",
    "import pandas as pd\n",
    "import numpy as np\n",
    "from datetime import datetime, timedelta\n",
    "from typing import Optional, Dict, Any, Tuple, List\n",
    "\n",
    "# Thêm đường dẫn gốc của dự án vào sys.path\n",
    "project_root = os.path.abspath(os.path.join(os.getcwd(), '..', '..'))\n",
    "if project_root not in sys.path:\n",
    "    sys.path.insert(0, project_root)\n",
    "from TradingviewData import Interval, TradingViewData\n",
    "\n",
    "# Import TradingEngine và components\n",
    "from src.core.trading_engine import TradingEngine\n",
    "from src.strategies.sma_crossover import SMACrossoverStrategy\n",
    "from src.strategies.rsi_strategy import RSIStrategy\n",
    "from src.strategies.macd_strategy import MACDStrategy\n",
    "from src.utils.config_manager import ConfigManager\n",
    "from src.data.data_manager import DataManager\n",
    "\n",
    "# Import visualization\n",
    "import plotly.graph_objects as go\n",
    "from plotly.subplots import make_subplots\n",
    "import matplotlib.pyplot as plt\n",
    "import seaborn as sns\n",
    "\n",
    "print(\"Import thành công!\")"
   ]
  },
  {
   "cell_type": "markdown",
   "id": "03ef51bd",
   "metadata": {},
   "source": [
    "# **Data**"
   ]
  },
  {
   "cell_type": "code",
   "execution_count": 104,
   "id": "42e525b4",
   "metadata": {},
   "outputs": [
    {
     "data": {
      "text/html": [
       "<div>\n",
       "<style scoped>\n",
       "    .dataframe tbody tr th:only-of-type {\n",
       "        vertical-align: middle;\n",
       "    }\n",
       "\n",
       "    .dataframe tbody tr th {\n",
       "        vertical-align: top;\n",
       "    }\n",
       "\n",
       "    .dataframe thead th {\n",
       "        text-align: right;\n",
       "    }\n",
       "</style>\n",
       "<table border=\"1\" class=\"dataframe\">\n",
       "  <thead>\n",
       "    <tr style=\"text-align: right;\">\n",
       "      <th></th>\n",
       "      <th>symbol</th>\n",
       "      <th>open</th>\n",
       "      <th>high</th>\n",
       "      <th>low</th>\n",
       "      <th>close</th>\n",
       "      <th>volume</th>\n",
       "    </tr>\n",
       "    <tr>\n",
       "      <th>datetime</th>\n",
       "      <th></th>\n",
       "      <th></th>\n",
       "      <th></th>\n",
       "      <th></th>\n",
       "      <th></th>\n",
       "      <th></th>\n",
       "    </tr>\n",
       "  </thead>\n",
       "  <tbody>\n",
       "    <tr>\n",
       "      <th>2025-07-28 03:00:00</th>\n",
       "      <td>Bitstamp:BTCUSD</td>\n",
       "      <td>118994.0</td>\n",
       "      <td>119798.0</td>\n",
       "      <td>118783.0</td>\n",
       "      <td>119469.0</td>\n",
       "      <td>105.979062</td>\n",
       "    </tr>\n",
       "    <tr>\n",
       "      <th>2025-07-28 07:00:00</th>\n",
       "      <td>Bitstamp:BTCUSD</td>\n",
       "      <td>119514.0</td>\n",
       "      <td>119826.0</td>\n",
       "      <td>119010.0</td>\n",
       "      <td>119300.0</td>\n",
       "      <td>150.562503</td>\n",
       "    </tr>\n",
       "    <tr>\n",
       "      <th>2025-07-28 11:00:00</th>\n",
       "      <td>Bitstamp:BTCUSD</td>\n",
       "      <td>119305.0</td>\n",
       "      <td>119698.0</td>\n",
       "      <td>118783.0</td>\n",
       "      <td>118902.0</td>\n",
       "      <td>123.203585</td>\n",
       "    </tr>\n",
       "    <tr>\n",
       "      <th>2025-07-28 15:00:00</th>\n",
       "      <td>Bitstamp:BTCUSD</td>\n",
       "      <td>118901.0</td>\n",
       "      <td>119121.0</td>\n",
       "      <td>118498.0</td>\n",
       "      <td>118836.0</td>\n",
       "      <td>66.753400</td>\n",
       "    </tr>\n",
       "    <tr>\n",
       "      <th>2025-07-28 19:00:00</th>\n",
       "      <td>Bitstamp:BTCUSD</td>\n",
       "      <td>118836.0</td>\n",
       "      <td>119096.0</td>\n",
       "      <td>117900.0</td>\n",
       "      <td>118167.0</td>\n",
       "      <td>337.011704</td>\n",
       "    </tr>\n",
       "  </tbody>\n",
       "</table>\n",
       "</div>"
      ],
      "text/plain": [
       "                              symbol      open      high       low     close  \\\n",
       "datetime                                                                       \n",
       "2025-07-28 03:00:00  Bitstamp:BTCUSD  118994.0  119798.0  118783.0  119469.0   \n",
       "2025-07-28 07:00:00  Bitstamp:BTCUSD  119514.0  119826.0  119010.0  119300.0   \n",
       "2025-07-28 11:00:00  Bitstamp:BTCUSD  119305.0  119698.0  118783.0  118902.0   \n",
       "2025-07-28 15:00:00  Bitstamp:BTCUSD  118901.0  119121.0  118498.0  118836.0   \n",
       "2025-07-28 19:00:00  Bitstamp:BTCUSD  118836.0  119096.0  117900.0  118167.0   \n",
       "\n",
       "                         volume  \n",
       "datetime                         \n",
       "2025-07-28 03:00:00  105.979062  \n",
       "2025-07-28 07:00:00  150.562503  \n",
       "2025-07-28 11:00:00  123.203585  \n",
       "2025-07-28 15:00:00   66.753400  \n",
       "2025-07-28 19:00:00  337.011704  "
      ]
     },
     "execution_count": 104,
     "metadata": {},
     "output_type": "execute_result"
    }
   ],
   "source": [
    "symbol = \"BTCUSD\"\n",
    "exchange = \"Bitstamp\"\n",
    "# intervals = ['daily', 'hour_1', 'hour_2', 'hour_3', 'hour_4', 'min_1', \n",
    "# 'min_15', 'min_3', 'min_30', 'min_45', 'min_5', 'monthly', 'weekly']\n",
    "\n",
    "request = TradingViewData()\n",
    "data = request.get_hist(\n",
    "    symbol=symbol,\n",
    "    exchange=exchange,\n",
    "    interval=Interval.hour_4,\n",
    "    n_bars=50,\n",
    "    fut_contract=None,\n",
    "    extended_session=False\n",
    ")\n",
    "data.head()"
   ]
  },
  {
   "cell_type": "code",
   "execution_count": 45,
   "id": "476c0b0d",
   "metadata": {},
   "outputs": [
    {
     "name": "stdout",
     "output_type": "stream",
     "text": [
      "<class 'pandas.core.frame.DataFrame'>\n",
      "DatetimeIndex: 1000 entries, 2025-02-19 19:00:00 to 2025-08-05 07:00:00\n",
      "Data columns (total 6 columns):\n",
      " #   Column  Non-Null Count  Dtype  \n",
      "---  ------  --------------  -----  \n",
      " 0   symbol  1000 non-null   object \n",
      " 1   open    1000 non-null   float64\n",
      " 2   high    1000 non-null   float64\n",
      " 3   low     1000 non-null   float64\n",
      " 4   close   1000 non-null   float64\n",
      " 5   volume  1000 non-null   float64\n",
      "dtypes: float64(5), object(1)\n",
      "memory usage: 54.7+ KB\n"
     ]
    }
   ],
   "source": [
    "data.info()"
   ]
  },
  {
   "cell_type": "markdown",
   "id": "88433287",
   "metadata": {},
   "source": [
    "# **Indicators**"
   ]
  },
  {
   "cell_type": "markdown",
   "id": "3d5a7792",
   "metadata": {},
   "source": [
    "### SMA"
   ]
  },
  {
   "cell_type": "code",
   "execution_count": 65,
   "id": "f1df667d",
   "metadata": {},
   "outputs": [],
   "source": [
    "def calculate_sma(prices: pd.Series, window: int) -> pd.Series:\n",
    "    \"\"\"\n",
    "    Calculate Simple Moving Average\n",
    "    \n",
    "    Args:\n",
    "        prices: Price series (typically closing prices)\n",
    "        window: Window size for SMA calculation\n",
    "        \n",
    "    Returns:\n",
    "        SMA series\n",
    "    \"\"\"\n",
    "    return prices.rolling(window=window).mean()\n",
    "\n",
    "def calculate_sma_crossover(prices: pd.Series, short_window: int, long_window: int) -> Tuple[pd.Series, pd.Series]:\n",
    "    \"\"\"\n",
    "    Calculate SMA crossover components\n",
    "    \n",
    "    Args:\n",
    "        prices: Price series (typically closing prices)\n",
    "        short_window: Short SMA window\n",
    "        long_window: Long SMA window\n",
    "        \n",
    "    Returns:\n",
    "        Tuple of (short_sma, long_sma)\n",
    "    \"\"\"\n",
    "    short_sma = calculate_sma(prices, short_window)\n",
    "    long_sma = calculate_sma(prices, long_window)\n",
    "    \n",
    "    return short_sma, long_sma\n",
    "\n",
    "def calculate_sma_components(prices: pd.Series, short_window: int, long_window: int) -> Dict[str, pd.Series]:\n",
    "    \"\"\"\n",
    "    Calculate SMA crossover components and return as dictionary\n",
    "    \n",
    "    Args:\n",
    "        prices: Price series (typically closing prices)\n",
    "        short_window: Short SMA window\n",
    "        long_window: Long SMA window\n",
    "        \n",
    "    Returns:\n",
    "        Dictionary containing SMA components\n",
    "    \"\"\"\n",
    "    short_sma, long_sma = calculate_sma_crossover(prices, short_window, long_window)\n",
    "    \n",
    "    return {\n",
    "        'short_sma': short_sma,\n",
    "        'long_sma': long_sma,\n",
    "        'sma_diff': short_sma - long_sma\n",
    "    }"
   ]
  },
  {
   "cell_type": "markdown",
   "id": "723eb32f",
   "metadata": {},
   "source": [
    "### MACD"
   ]
  },
  {
   "cell_type": "code",
   "execution_count": 6,
   "id": "83f3289d",
   "metadata": {},
   "outputs": [
    {
     "ename": "NameError",
     "evalue": "name 'Tuple' is not defined",
     "output_type": "error",
     "traceback": [
      "\u001b[31m---------------------------------------------------------------------------\u001b[39m",
      "\u001b[31mNameError\u001b[39m                                 Traceback (most recent call last)",
      "\u001b[36mCell\u001b[39m\u001b[36m \u001b[39m\u001b[32mIn[6]\u001b[39m\u001b[32m, line 2\u001b[39m\n\u001b[32m      1\u001b[39m \u001b[38;5;28;01mdef\u001b[39;00m\u001b[38;5;250m \u001b[39m\u001b[34mcalculate_macd\u001b[39m(prices: pd.Series, fast_period: \u001b[38;5;28mint\u001b[39m = \u001b[32m12\u001b[39m, \n\u001b[32m----> \u001b[39m\u001b[32m2\u001b[39m                   slow_period: \u001b[38;5;28mint\u001b[39m = \u001b[32m26\u001b[39m, signal_period: \u001b[38;5;28mint\u001b[39m = \u001b[32m9\u001b[39m) -> \u001b[43mTuple\u001b[49m[pd.Series, pd.Series, pd.Series]:\n\u001b[32m      3\u001b[39m \u001b[38;5;250m    \u001b[39m\u001b[33;03m\"\"\"\u001b[39;00m\n\u001b[32m      4\u001b[39m \u001b[33;03m    Calculate MACD indicator components\u001b[39;00m\n\u001b[32m      5\u001b[39m \n\u001b[32m   (...)\u001b[39m\u001b[32m     13\u001b[39m \u001b[33;03m        Tuple of (macd_line, signal_line, histogram)\u001b[39;00m\n\u001b[32m     14\u001b[39m \u001b[33;03m    \"\"\"\u001b[39;00m\n\u001b[32m     15\u001b[39m     \u001b[38;5;66;03m# Calculate exponential moving averages\u001b[39;00m\n",
      "\u001b[31mNameError\u001b[39m: name 'Tuple' is not defined"
     ]
    }
   ],
   "source": [
    "def calculate_macd(prices: pd.Series, fast_period: int = 12, \n",
    "                  slow_period: int = 26, signal_period: int = 9) -> Tuple[pd.Series, pd.Series, pd.Series]:\n",
    "    \"\"\"\n",
    "    Calculate MACD indicator components\n",
    "    \n",
    "    Args:\n",
    "        prices: Price series (typically closing prices)\n",
    "        fast_period: Period for fast EMA (default: 12)\n",
    "        slow_period: Period for slow EMA (default: 26)\n",
    "        signal_period: Period for signal line EMA (default: 9)\n",
    "        \n",
    "    Returns:\n",
    "        Tuple of (macd_line, signal_line, histogram)\n",
    "    \"\"\"\n",
    "    # Calculate exponential moving averages\n",
    "    ema_fast = prices.ewm(span=fast_period).mean()\n",
    "    ema_slow = prices.ewm(span=slow_period).mean()\n",
    "    \n",
    "    # MACD line\n",
    "    macd_line = ema_fast - ema_slow\n",
    "    \n",
    "    # Signal line\n",
    "    signal_line = macd_line.ewm(span=signal_period).mean()\n",
    "    \n",
    "    # Histogram\n",
    "    histogram = macd_line - signal_line\n",
    "    \n",
    "    return macd_line, signal_line, histogram\n",
    "\n",
    "\n",
    "def calculate_macd_components(prices: pd.Series, fast_period: int = 12, \n",
    "                            slow_period: int = 26, signal_period: int = 9) -> dict:\n",
    "    \"\"\"\n",
    "    Calculate all MACD components and return as dictionary\n",
    "    \n",
    "    Args:\n",
    "        prices: Price series (typically closing prices)\n",
    "        fast_period: Period for fast EMA (default: 12)\n",
    "        slow_period: Period for slow EMA (default: 26)\n",
    "        signal_period: Period for signal line EMA (default: 9)\n",
    "        \n",
    "    Returns:\n",
    "        Dictionary containing all MACD components\n",
    "    \"\"\"\n",
    "    macd_line, signal_line, histogram = calculate_macd(prices, fast_period, slow_period, signal_period)\n",
    "    \n",
    "    return {\n",
    "        'macd_line': macd_line,\n",
    "        'signal_line': signal_line,\n",
    "        'histogram': histogram,\n",
    "        'zero_line': pd.Series([0] * len(prices), index=prices.index)\n",
    "    } "
   ]
  },
  {
   "cell_type": "markdown",
   "id": "0b3f4439",
   "metadata": {},
   "source": [
    "### RSI"
   ]
  },
  {
   "cell_type": "code",
   "execution_count": 7,
   "id": "9901244e",
   "metadata": {},
   "outputs": [
    {
     "ename": "NameError",
     "evalue": "name 'Dict' is not defined",
     "output_type": "error",
     "traceback": [
      "\u001b[31m---------------------------------------------------------------------------\u001b[39m",
      "\u001b[31mNameError\u001b[39m                                 Traceback (most recent call last)",
      "\u001b[36mCell\u001b[39m\u001b[36m \u001b[39m\u001b[32mIn[7]\u001b[39m\u001b[32m, line 31\u001b[39m\n\u001b[32m     24\u001b[39m     rsi = \u001b[32m100\u001b[39m - (\u001b[32m100\u001b[39m / (\u001b[32m1\u001b[39m + rs))\n\u001b[32m     26\u001b[39m     \u001b[38;5;28;01mreturn\u001b[39;00m rsi\n\u001b[32m     29\u001b[39m \u001b[38;5;28;01mdef\u001b[39;00m\u001b[38;5;250m \u001b[39m\u001b[34mcalculate_rsi_components\u001b[39m(prices: pd.Series, period: \u001b[38;5;28mint\u001b[39m = \u001b[32m14\u001b[39m, \n\u001b[32m     30\u001b[39m                            overbought_threshold: \u001b[38;5;28mint\u001b[39m = \u001b[32m70\u001b[39m, \n\u001b[32m---> \u001b[39m\u001b[32m31\u001b[39m                            oversold_threshold: \u001b[38;5;28mint\u001b[39m = \u001b[32m30\u001b[39m) -> \u001b[43mDict\u001b[49m[\u001b[38;5;28mstr\u001b[39m, pd.Series]:\n\u001b[32m     32\u001b[39m \u001b[38;5;250m    \u001b[39m\u001b[33;03m\"\"\"\u001b[39;00m\n\u001b[32m     33\u001b[39m \u001b[33;03m    Calculate RSI and related components\u001b[39;00m\n\u001b[32m     34\u001b[39m \n\u001b[32m   (...)\u001b[39m\u001b[32m     42\u001b[39m \u001b[33;03m        Dictionary containing RSI and threshold lines\u001b[39;00m\n\u001b[32m     43\u001b[39m \u001b[33;03m    \"\"\"\u001b[39;00m\n\u001b[32m     44\u001b[39m     rsi = calculate_rsi(prices, period)\n",
      "\u001b[31mNameError\u001b[39m: name 'Dict' is not defined"
     ]
    }
   ],
   "source": [
    "def calculate_rsi(prices: pd.Series, period: int = 14) -> pd.Series:\n",
    "    \"\"\"\n",
    "    Calculate RSI (Relative Strength Index) indicator\n",
    "    \n",
    "    Args:\n",
    "        prices: Price series (typically closing prices)\n",
    "        period: Period for RSI calculation (default: 14)\n",
    "        \n",
    "    Returns:\n",
    "        RSI series\n",
    "    \"\"\"\n",
    "    delta = prices.diff()\n",
    "    \n",
    "    # Separate gains and losses\n",
    "    gains = delta.where(delta > 0, 0)\n",
    "    losses = -delta.where(delta < 0, 0)\n",
    "    \n",
    "    # Calculate average gains and losses\n",
    "    avg_gains = gains.rolling(window=period).mean()\n",
    "    avg_losses = losses.rolling(window=period).mean()\n",
    "    \n",
    "    # Calculate RS and RSI\n",
    "    rs = avg_gains / avg_losses\n",
    "    rsi = 100 - (100 / (1 + rs))\n",
    "    \n",
    "    return rsi\n",
    "\n",
    "\n",
    "def calculate_rsi_components(prices: pd.Series, period: int = 14, \n",
    "                           overbought_threshold: int = 70, \n",
    "                           oversold_threshold: int = 30) -> Dict[str, pd.Series]:\n",
    "    \"\"\"\n",
    "    Calculate RSI and related components\n",
    "    \n",
    "    Args:\n",
    "        prices: Price series (typically closing prices)\n",
    "        period: Period for RSI calculation (default: 14)\n",
    "        overbought_threshold: Overbought level (default: 70)\n",
    "        oversold_threshold: Oversold level (default: 30)\n",
    "        \n",
    "    Returns:\n",
    "        Dictionary containing RSI and threshold lines\n",
    "    \"\"\"\n",
    "    rsi = calculate_rsi(prices, period)\n",
    "    \n",
    "    return {\n",
    "        'rsi': rsi,\n",
    "        'overbought_line': pd.Series([overbought_threshold] * len(prices), index=prices.index),\n",
    "        'oversold_line': pd.Series([oversold_threshold] * len(prices), index=prices.index)\n",
    "    } "
   ]
  },
  {
   "cell_type": "markdown",
   "id": "f62601b0",
   "metadata": {},
   "source": [
    "# **Strategies**"
   ]
  },
  {
   "cell_type": "markdown",
   "id": "5c118685",
   "metadata": {},
   "source": [
    "### Base strategy"
   ]
  },
  {
   "cell_type": "code",
   "execution_count": 18,
   "id": "afb10c31",
   "metadata": {},
   "outputs": [],
   "source": [
    "def update_position(symbol: str, quantity: float, price: float):\n",
    "    \"\"\"Update strategy's position tracking\"\"\"\n",
    "    if symbol not in positions:\n",
    "        positions[symbol] = {\n",
    "            'quantity': 0,\n",
    "            'avg_price': 0,\n",
    "            'total_cost': 0\n",
    "        }\n",
    "    \n",
    "    pos = positions[symbol]\n",
    "    \n",
    "    if quantity > 0:  # Buy\n",
    "        total_quantity = pos['quantity'] + quantity\n",
    "        total_cost = pos['total_cost'] + (quantity * price)\n",
    "        pos['quantity'] = total_quantity\n",
    "        pos['total_cost'] = total_cost\n",
    "        pos['avg_price'] = total_cost / total_quantity\n",
    "    else:  # Sell\n",
    "        pos['quantity'] += quantity  # quantity is negative for sell\n",
    "        if pos['quantity'] <= 0:\n",
    "            # Position closed\n",
    "            pos['quantity'] = 0\n",
    "            pos['avg_price'] = 0\n",
    "            pos['total_cost'] = 0\n",
    "    \n",
    "def get_position(symbol: str) -> Optional[Dict[str, Any]]:\n",
    "    \"\"\"Get current position for a symbol\"\"\"\n",
    "    return positions.get(symbol)\n",
    "\n",
    "def has_position(symbol: str) -> bool:\n",
    "    \"\"\"Check if strategy has a position in symbol\"\"\"\n",
    "    return symbol in positions and positions[symbol]['quantity'] > 0\n",
    "\n",
    "def calculate_pnl(symbol: str, current_price: float) -> float:\n",
    "    \"\"\"Calculate unrealized P&L for a position\"\"\"\n",
    "    if not has_position(symbol):\n",
    "        return 0.0\n",
    "    \n",
    "    position = positions[symbol]\n",
    "    return (current_price - position['avg_price']) * position['quantity']\n",
    "\n",
    "def reset():\n",
    "    \"\"\"Reset strategy state\"\"\"\n",
    "    positions = {}\n",
    "    signals = {}\n",
    "    logger.info(f\"Reset strategy: {name}\")"
   ]
  },
  {
   "cell_type": "markdown",
   "id": "3c70a060",
   "metadata": {},
   "source": [
    "### SMA Crossover"
   ]
  },
  {
   "cell_type": "code",
   "execution_count": 29,
   "id": "d91edf6f",
   "metadata": {},
   "outputs": [],
   "source": [
    "class SMACrossoverStrategy():\n",
    "    \"\"\"Simple Moving Average Crossover Strategy\"\"\"\n",
    "    \n",
    "    def __init__(self, short_window: int, long_window: int):\n",
    "        \"\"\"Initialize SMA Crossover strategy\"\"\"\n",
    "        # super().__init__(\"sma_crossover\")\n",
    "        \n",
    "        # Strategy parameters\n",
    "        self.short_window = short_window\n",
    "        self.long_window = long_window\n",
    "        \n",
    "        # Validate parameters\n",
    "        if self.short_window >= self.long_window:\n",
    "            raise ValueError(\"Short window must be less than long window\")\n",
    "        \n",
    "        print(f\"SMA Crossover Strategy initialized: {self.short_window}/{self.long_window}\")\n",
    "        # logger.info(f\"SMA Crossover Strategy initialized: {self.short_window}/{self.long_window}\")\n",
    "    \n",
    "    def generate_signals(self, historical_data: pd.DataFrame) -> Dict[str, str]:\n",
    "        \"\"\"\n",
    "        Generate trading signals based on SMA crossover\n",
    "        \n",
    "        Args:\n",
    "            historical_data: Historical market data up to current point (OHLCV or close-only)\n",
    "            current_data: Current day's market data\n",
    "            \n",
    "        Returns:\n",
    "            Dict mapping symbol to signal ('buy', 'sell', 'hold')\n",
    "        \"\"\"\n",
    "        signals = {}\n",
    "        \n",
    "        # Legacy close-only data structure\n",
    "        for symbol in historical_data.symbol.unique():\n",
    "            # if isinstance(symbol, str) and not symbol.endswith('_SMA'):\n",
    "                # Get historical price data for this symbol\n",
    "            symbol_data = historical_data[historical_data.symbol==symbol]['close'].dropna()\n",
    "            # print(symbol_data, symbol)\n",
    "            \n",
    "            if len(symbol_data) >= self.long_window:\n",
    "                signal = self._generate_signal_for_symbol(symbol_data, symbol)\n",
    "                signals[symbol] = signal\n",
    "            else:\n",
    "                signals[symbol] = 'hold'  # Not enough data\n",
    "        \n",
    "        return signals\n",
    "    \n",
    "    def _generate_signal_for_symbol(self, price_data: pd.Series, symbol: str) -> str:\n",
    "        \"\"\"Generate signal for a single symbol\"\"\"\n",
    "        if len(price_data) < self.long_window:\n",
    "            return 'hold'  # Not enough data\n",
    "        \n",
    "        # Calculate SMAs\n",
    "        short_sma, long_sma = calculate_sma_crossover(price_data, self.short_window, self.long_window)\n",
    "\n",
    "        # Get current and previous values\n",
    "        current_short = short_sma.iloc[-1]\n",
    "        current_long = long_sma.iloc[-1]\n",
    "        prev_short = short_sma.iloc[-2] if len(short_sma) > 1 else current_short\n",
    "        prev_long = long_sma.iloc[-2] if len(long_sma) > 1 else current_long\n",
    "        \n",
    "        # Check for crossover\n",
    "        current_cross_up = current_short > current_long\n",
    "        prev_cross_up = prev_short > prev_long\n",
    "        \n",
    "        # Generate signals\n",
    "        if current_cross_up and not prev_cross_up:\n",
    "            # Golden cross (short SMA crosses above long SMA)\n",
    "            # logger.info(f\"Golden cross detected for {symbol}: {current_short:.2f} > {current_long:.2f}\")\n",
    "            print(f\"Golden cross detected for {symbol}: {current_short:.2f} > {current_long:.2f}\")\n",
    "            return 'buy'\n",
    "        elif not current_cross_up and prev_cross_up:\n",
    "            # Death cross (short SMA crosses below long SMA)\n",
    "            # logger.info(f\"Death cross detected for {symbol}: {current_short:.2f} < {current_long:.2f}\")\n",
    "            print(f\"Death cross detected for {symbol}: {current_short:.2f} < {current_long:.2f}\")\n",
    "            return 'sell'\n",
    "        else:\n",
    "            return 'hold'\n",
    "    \n",
    "    def get_indicators(self, price_data: pd.Series) -> Dict[str, pd.Series]:\n",
    "        \"\"\"Get strategy indicators for the given price data\"\"\"\n",
    "        if len(price_data) < self.long_window:\n",
    "            return {}\n",
    "        \n",
    "        # Calculate SMA components\n",
    "        result = calculate_sma_components(price_data, self.short_window, self.long_window)\n",
    "                \n",
    "        return {\n",
    "            f'{self.short_window}_SMA': result['short_sma'],\n",
    "            f'{self.long_window}_SMA': result['long_sma'],\n",
    "            f'diff': result['sma_diff']\n",
    "        }"
   ]
  },
  {
   "cell_type": "markdown",
   "id": "14c4ae2e",
   "metadata": {},
   "source": [
    "### RSI"
   ]
  },
  {
   "cell_type": "code",
   "execution_count": null,
   "id": "14ea318b",
   "metadata": {},
   "outputs": [],
   "source": []
  },
  {
   "cell_type": "code",
   "execution_count": null,
   "id": "563969ff",
   "metadata": {},
   "outputs": [],
   "source": []
  },
  {
   "cell_type": "code",
   "execution_count": null,
   "id": "149eeb2d",
   "metadata": {},
   "outputs": [],
   "source": []
  },
  {
   "cell_type": "markdown",
   "id": "f9ddd2c6",
   "metadata": {},
   "source": [
    "### Initalize strategies"
   ]
  },
  {
   "cell_type": "code",
   "execution_count": 9,
   "id": "f375498c",
   "metadata": {},
   "outputs": [
    {
     "name": "stderr",
     "output_type": "stream",
     "text": [
      "\u001b[32m2025-08-02 14:57:22.516\u001b[0m | \u001b[1mINFO    \u001b[0m | \u001b[36msrc.strategies.base_strategy\u001b[0m:\u001b[36m__init__\u001b[0m:\u001b[36m34\u001b[0m - \u001b[1mInitialized strategy: sma_crossover\u001b[0m\n",
      "\u001b[32m2025-08-02 14:57:22.518\u001b[0m | \u001b[1mINFO    \u001b[0m | \u001b[36msrc.strategies.sma_crossover\u001b[0m:\u001b[36m__init__\u001b[0m:\u001b[36m48\u001b[0m - \u001b[1mSMA Crossover Strategy initialized: 5/30\u001b[0m\n",
      "\u001b[32m2025-08-02 14:57:22.519\u001b[0m | \u001b[1mINFO    \u001b[0m | \u001b[36msrc.core.trading_engine\u001b[0m:\u001b[36madd_strategy\u001b[0m:\u001b[36m82\u001b[0m - \u001b[1mAdded strategy: sma_crossover\u001b[0m\n",
      "\u001b[32m2025-08-02 14:57:22.521\u001b[0m | \u001b[1mINFO    \u001b[0m | \u001b[36msrc.strategies.base_strategy\u001b[0m:\u001b[36m__init__\u001b[0m:\u001b[36m34\u001b[0m - \u001b[1mInitialized strategy: rsi\u001b[0m\n",
      "\u001b[32m2025-08-02 14:57:22.523\u001b[0m | \u001b[1mINFO    \u001b[0m | \u001b[36msrc.strategies.rsi_strategy\u001b[0m:\u001b[36m__init__\u001b[0m:\u001b[36m56\u001b[0m - \u001b[1mRSI Strategy initialized: period=20, overbought=70, oversold=30\u001b[0m\n",
      "\u001b[32m2025-08-02 14:57:22.525\u001b[0m | \u001b[1mINFO    \u001b[0m | \u001b[36msrc.core.trading_engine\u001b[0m:\u001b[36madd_strategy\u001b[0m:\u001b[36m82\u001b[0m - \u001b[1mAdded strategy: rsi\u001b[0m\n",
      "\u001b[32m2025-08-02 14:57:22.526\u001b[0m | \u001b[1mINFO    \u001b[0m | \u001b[36msrc.strategies.base_strategy\u001b[0m:\u001b[36m__init__\u001b[0m:\u001b[36m34\u001b[0m - \u001b[1mInitialized strategy: macd\u001b[0m\n",
      "\u001b[32m2025-08-02 14:57:22.527\u001b[0m | \u001b[1mINFO    \u001b[0m | \u001b[36msrc.strategies.macd_strategy\u001b[0m:\u001b[36m__init__\u001b[0m:\u001b[36m54\u001b[0m - \u001b[1mMACD Strategy initialized: fast=15, slow=20, signal=7\u001b[0m\n",
      "\u001b[32m2025-08-02 14:57:22.528\u001b[0m | \u001b[1mINFO    \u001b[0m | \u001b[36msrc.core.trading_engine\u001b[0m:\u001b[36madd_strategy\u001b[0m:\u001b[36m82\u001b[0m - \u001b[1mAdded strategy: macd\u001b[0m\n"
     ]
    },
    {
     "name": "stdout",
     "output_type": "stream",
     "text": [
      "Đã thêm 3 strategies:\n",
      "  - sma_crossover: SMACrossoverStrategy\n",
      "  - rsi: RSIStrategy\n",
      "  - macd: MACDStrategy\n"
     ]
    }
   ],
   "source": [
    "# Cell 4: Thêm strategies\n",
    "# SMA Crossover Strategy\n",
    "sma_strategy = SMACrossoverStrategy({\n",
    "    \"short_window\": engine.config.get(\"strategies.sma_crossover.short_window\", 5),\n",
    "    \"long_window\": engine.config.get(\"strategies.sma_crossover.long_window\", 30),\n",
    "    \"name\": \"SMA_Crossover\"\n",
    "})\n",
    "engine.add_strategy(sma_strategy)\n",
    "\n",
    "# RSI Strategy\n",
    "rsi_strategy = RSIStrategy({\n",
    "    \"period\": engine.config.get(\"strategies.rsi.period\", 14),\n",
    "    \"oversold\": engine.config.get(\"strategies.rsi.oversold\", 30),\n",
    "    \"overbought\": engine.config.get(\"strategies.rsi.overbought\", 70),\n",
    "    \"name\": \"RSI_Strategy\"\n",
    "})\n",
    "engine.add_strategy(rsi_strategy)\n",
    "\n",
    "# MACD Strategy\n",
    "macd_strategy = MACDStrategy({\n",
    "    \"fast_period\": engine.config.get(\"strategies.macd.fast_period\", 15),\n",
    "    \"slow_period\": engine.config.get(\"strategies.macd.slow_period\", 20),\n",
    "    \"signal_period\": engine.config.get(\"strategies.macd.signal_period\", 7),\n",
    "    \"name\": \"MACD_Strategy\"\n",
    "})\n",
    "engine.add_strategy(macd_strategy)\n",
    "\n",
    "print(f\"Đã thêm {len(engine.strategies)} strategies:\")\n",
    "for name, strategy in engine.strategies.items():\n",
    "    print(f\"  - {name}: {strategy.__class__.__name__}\")"
   ]
  },
  {
   "cell_type": "markdown",
   "id": "eaf671fd",
   "metadata": {},
   "source": [
    "# **Optimizing**"
   ]
  },
  {
   "cell_type": "code",
   "execution_count": null,
   "id": "1e1fd01b",
   "metadata": {},
   "outputs": [],
   "source": [
    "class ParameterGrid:\n",
    "    \"\"\"Defines parameter grids for different strategy types\"\"\"\n",
    "    \n",
    "    def __init__(self):\n",
    "        \"\"\"Initialize parameter grids for different strategies\"\"\"\n",
    "        self.grids = self._initialize_grids()\n",
    "    \n",
    "    def _initialize_grids(self) -> Dict[str, Dict[str, List]]:\n",
    "        \"\"\"Initialize parameter grids for each strategy type\"\"\"\n",
    "        return {\n",
    "            'sma_crossover': {\n",
    "                'short_window': [5, 10, 15, 20, 25, 30],\n",
    "                'long_window': [30, 40, 50, 60, 70, 80, 90, 100]\n",
    "            },\n",
    "            'rsi': {\n",
    "                'period': [10, 14, 20, 30],\n",
    "                'oversold': [20, 25, 30, 35],\n",
    "                'overbought': [65, 70, 75, 80]\n",
    "            },\n",
    "            'macd': {\n",
    "                'fast_period': [8, 10, 12, 15, 20],\n",
    "                'slow_period': [20, 26, 30, 35, 40],\n",
    "                'signal_period': [7, 9, 12, 15]\n",
    "            },\n",
    "            'bollinger_bands': {\n",
    "                'period': [10, 15, 20, 30],\n",
    "                'std_dev': [1.5, 2.0, 2.5, 3.0]\n",
    "            }\n",
    "        }\n",
    "    \n",
    "    def get_parameter_combinations(self, strategy_type: str) -> List[Dict[str, Any]]:\n",
    "        \"\"\"\n",
    "        Get all parameter combinations for a strategy type\n",
    "        \n",
    "        Args:\n",
    "            strategy_type: Type of strategy ('sma_crossover', 'rsi', 'macd', etc.)\n",
    "            \n",
    "        Returns:\n",
    "            List of parameter dictionaries\n",
    "        \"\"\"\n",
    "        if strategy_type not in self.grids:\n",
    "            logger.warning(f\"No parameter grid defined for strategy type: {strategy_type}\")\n",
    "            return []\n",
    "        \n",
    "        grid = self.grids[strategy_type]\n",
    "        param_names = list(grid.keys())\n",
    "        param_values = list(grid.values())\n",
    "        \n",
    "        # Generate all combinations\n",
    "        combinations = list(itertools.product(*param_values))\n",
    "        \n",
    "        # Convert to list of dictionaries\n",
    "        param_combinations = []\n",
    "        for combo in combinations:\n",
    "            param_dict = dict(zip(param_names, combo))\n",
    "            param_combinations.append(param_dict)\n",
    "        \n",
    "        logger.info(f\"Generated {len(param_combinations)} parameter combinations for {strategy_type}\")\n",
    "        return param_combinations\n",
    "    \n",
    "    def get_filtered_combinations(self, strategy_type: str, \n",
    "                                filters: Dict[str, Any] = None) -> List[Dict[str, Any]]:\n",
    "        \"\"\"\n",
    "        Get parameter combinations with optional filters\n",
    "        \n",
    "        Args:\n",
    "            strategy_type: Type of strategy\n",
    "            filters: Dictionary of filters to apply (e.g., {'short_window': [10, 20]})\n",
    "            \n",
    "        Returns:\n",
    "            Filtered list of parameter dictionaries\n",
    "        \"\"\"\n",
    "        combinations = self.get_parameter_combinations(strategy_type)\n",
    "        \n",
    "        if not filters:\n",
    "            return combinations\n",
    "        \n",
    "        filtered_combinations = []\n",
    "        for combo in combinations:\n",
    "            include = True\n",
    "            for param, allowed_values in filters.items():\n",
    "                if param in combo and combo[param] not in allowed_values:\n",
    "                    include = False\n",
    "                    break\n",
    "            if include:\n",
    "                filtered_combinations.append(combo)\n",
    "        \n",
    "        logger.info(f\"Filtered to {len(filtered_combinations)} combinations\")\n",
    "        return filtered_combinations\n",
    "    \n",
    "    def add_custom_grid(self, strategy_type: str, parameters: Dict[str, List]):\n",
    "        \"\"\"\n",
    "        Add custom parameter grid for a strategy type\n",
    "        \n",
    "        Args:\n",
    "            strategy_type: Name of the strategy type\n",
    "            parameters: Dictionary of parameter names to value lists\n",
    "        \"\"\"\n",
    "        self.grids[strategy_type] = parameters\n",
    "        logger.info(f\"Added custom parameter grid for {strategy_type}\")\n",
    "    \n",
    "    def get_grid_info(self, strategy_type: str) -> Dict[str, Any]:\n",
    "        \"\"\"\n",
    "        Get information about parameter grid for a strategy type\n",
    "        \n",
    "        Args:\n",
    "            strategy_type: Type of strategy\n",
    "            \n",
    "        Returns:\n",
    "            Dictionary with grid information\n",
    "        \"\"\"\n",
    "        if strategy_type not in self.grids:\n",
    "            return {}\n",
    "        \n",
    "        grid = self.grids[strategy_type]\n",
    "        total_combinations = 1\n",
    "        for values in grid.values():\n",
    "            total_combinations *= len(values)\n",
    "        \n",
    "        return {\n",
    "            'parameters': list(grid.keys()),\n",
    "            'parameter_ranges': grid,\n",
    "            'total_combinations': total_combinations\n",
    "        }\n",
    "    \n",
    "    def validate_parameters(self, strategy_type: str, parameters: Dict[str, Any]) -> bool:\n",
    "        \"\"\"\n",
    "        Validate if parameters are within the defined grid\n",
    "        \n",
    "        Args:\n",
    "            strategy_type: Type of strategy\n",
    "            parameters: Parameters to validate\n",
    "            \n",
    "        Returns:\n",
    "            True if parameters are valid\n",
    "        \"\"\"\n",
    "        if strategy_type not in self.grids:\n",
    "            return False\n",
    "        \n",
    "        grid = self.grids[strategy_type]\n",
    "        \n",
    "        for param, value in parameters.items():\n",
    "            if param in grid and value not in grid[param]:\n",
    "                logger.warning(f\"Parameter {param}={value} not in grid for {strategy_type}\")\n",
    "                return False\n",
    "        \n",
    "        return True\n",
    "    \n",
    "    def get_parameter_bounds(self, strategy_type: str) -> Dict[str, Tuple]:\n",
    "        \"\"\"\n",
    "        Get parameter bounds for a strategy type\n",
    "        \n",
    "        Args:\n",
    "            strategy_type: Type of strategy\n",
    "            \n",
    "        Returns:\n",
    "            Dictionary of parameter bounds (min, max)\n",
    "        \"\"\"\n",
    "        if strategy_type not in self.grids:\n",
    "            return {}\n",
    "        \n",
    "        grid = self.grids[strategy_type]\n",
    "        bounds = {}\n",
    "        \n",
    "        for param, values in grid.items():\n",
    "            if values:\n",
    "                bounds[param] = (min(values), max(values))\n",
    "        \n",
    "        return bounds "
   ]
  },
  {
   "cell_type": "code",
   "execution_count": null,
   "id": "8ab7d7f4",
   "metadata": {},
   "outputs": [],
   "source": [
    "class StrategyOptimizer:\n",
    "    \"\"\"Optimizes strategy parameters using risk management metrics\"\"\"\n",
    "    \n",
    "    def __init__(self, config: ConfigManager):\n",
    "        \"\"\"Initialize strategy optimizer\"\"\"\n",
    "        self.config = config\n",
    "        self.backtest_engine = BacktestEngine(config)\n",
    "        self.parameter_grid = ParameterGrid()\n",
    "        \n",
    "        # Strategy factory\n",
    "        self.strategy_factory = {\n",
    "            'sma_crossover': SMACrossoverStrategy,\n",
    "            'rsi': RSIStrategy,\n",
    "            'macd': MACDStrategy\n",
    "        }\n",
    "        \n",
    "        # Optimization results\n",
    "        self.optimization_results = {}\n",
    "        self.best_parameters = {}\n",
    "        \n",
    "        logger.info(\"Strategy optimizer initialized\")\n",
    "    \n",
    "    def optimize_strategy(self, strategy_type: str, \n",
    "                         start_date: str, end_date: str,\n",
    "                         optimization_metric: str = 'sharpe_ratio',\n",
    "                         max_combinations: int = None,\n",
    "                         filters: Dict[str, Any] = None,\n",
    "                         use_parallel: bool = True) -> Dict[str, Any]:\n",
    "        \"\"\"\n",
    "        Optimize parameters for a specific strategy type\n",
    "        \n",
    "        Args:\n",
    "            strategy_type: Type of strategy to optimize\n",
    "            start_date: Start date for optimization period\n",
    "            end_date: End date for optimization period\n",
    "            optimization_metric: Metric to optimize ('sharpe_ratio', 'total_return', 'profit_factor', etc.)\n",
    "            max_combinations: Maximum number of parameter combinations to test\n",
    "            filters: Optional filters for parameter combinations\n",
    "            use_parallel: Whether to use parallel processing\n",
    "            \n",
    "        Returns:\n",
    "            Dictionary containing optimization results\n",
    "        \"\"\"\n",
    "        logger.info(f\"Starting optimization for {strategy_type}\")\n",
    "        \n",
    "        # Get parameter combinations\n",
    "        combinations = self.parameter_grid.get_filtered_combinations(strategy_type, filters)\n",
    "        \n",
    "        if max_combinations and len(combinations) > max_combinations:\n",
    "            # Sample combinations if too many\n",
    "            combinations = np.random.choice(combinations, max_combinations, replace=False).tolist()\n",
    "            logger.info(f\"Sampled {max_combinations} combinations from {len(combinations)} total\")\n",
    "        \n",
    "        if not combinations:\n",
    "            logger.error(f\"No parameter combinations available for {strategy_type}\")\n",
    "            return {}\n",
    "        \n",
    "        # Run optimization\n",
    "        if use_parallel and len(combinations) > 10:\n",
    "            results = self._optimize_parallel(strategy_type, combinations, start_date, end_date, optimization_metric)\n",
    "        else:\n",
    "            results = self._optimize_sequential(strategy_type, combinations, start_date, end_date, optimization_metric)\n",
    "        \n",
    "        # Find best parameters\n",
    "        best_params = self._find_best_parameters(results, optimization_metric)\n",
    "        \n",
    "        # Store results\n",
    "        self.optimization_results[strategy_type] = {\n",
    "            'results': results,\n",
    "            'best_parameters': best_params,\n",
    "            'optimization_metric': optimization_metric,\n",
    "            'total_combinations': len(combinations),\n",
    "            'tested_combinations': len(results)\n",
    "        }\n",
    "        \n",
    "        self.best_parameters[strategy_type] = best_params\n",
    "        \n",
    "        logger.info(f\"Optimization completed for {strategy_type}\")\n",
    "        logger.info(f\"Best parameters: {best_params}\")\n",
    "        \n",
    "        return self.optimization_results[strategy_type]\n",
    "    \n",
    "    def _optimize_sequential(self, strategy_type: str, combinations: List[Dict[str, Any]],\n",
    "                           start_date: str, end_date: str, optimization_metric: str) -> List[Dict[str, Any]]:\n",
    "        \"\"\"Run optimization sequentially\"\"\"\n",
    "        results = []\n",
    "        \n",
    "        for i, params in enumerate(combinations):\n",
    "            try:\n",
    "                result = self._test_parameter_combination(\n",
    "                    strategy_type, params, start_date, end_date\n",
    "                )\n",
    "                result['parameters'] = params\n",
    "                result['combination_index'] = i\n",
    "                results.append(result)\n",
    "                \n",
    "                if (i + 1) % 10 == 0:\n",
    "                    logger.info(f\"Tested {i + 1}/{len(combinations)} combinations\")\n",
    "                    \n",
    "            except Exception as e:\n",
    "                logger.warning(f\"Failed to test combination {i}: {e}\")\n",
    "                continue\n",
    "        \n",
    "        return results\n",
    "    \n",
    "    def _optimize_parallel(self, strategy_type: str, combinations: List[Dict[str, Any]],\n",
    "                          start_date: str, end_date: str, optimization_metric: str) -> List[Dict[str, Any]]:\n",
    "        \"\"\"Run optimization using parallel processing\"\"\"\n",
    "        results = []\n",
    "        \n",
    "        with ProcessPoolExecutor(max_workers=min(4, len(combinations))) as executor:\n",
    "            # Submit all tasks\n",
    "            future_to_params = {\n",
    "                executor.submit(self._test_parameter_combination, strategy_type, params, start_date, end_date): params\n",
    "                for params in combinations\n",
    "            }\n",
    "            \n",
    "            # Collect results\n",
    "            for i, future in enumerate(as_completed(future_to_params)):\n",
    "                params = future_to_params[future]\n",
    "                try:\n",
    "                    result = future.result()\n",
    "                    result['parameters'] = params\n",
    "                    result['combination_index'] = i\n",
    "                    results.append(result)\n",
    "                    \n",
    "                    if (i + 1) % 10 == 0:\n",
    "                        logger.info(f\"Completed {i + 1}/{len(combinations)} combinations\")\n",
    "                        \n",
    "                except Exception as e:\n",
    "                    logger.warning(f\"Failed to test combination {i}: {e}\")\n",
    "                    continue\n",
    "        \n",
    "        return results\n",
    "    \n",
    "    def _test_parameter_combination(self, strategy_type: str, params: Dict[str, Any],\n",
    "                                  start_date: str, end_date: str) -> Dict[str, Any]:\n",
    "        \"\"\"Test a single parameter combination\"\"\"\n",
    "        try:\n",
    "            # Create strategy with parameters\n",
    "            strategy_class = self.strategy_factory.get(strategy_type)\n",
    "            if not strategy_class:\n",
    "                raise ValueError(f\"Unknown strategy type: {strategy_type}\")\n",
    "            \n",
    "            strategy = strategy_class(params)\n",
    "            \n",
    "            # Run backtest\n",
    "            strategies = {f\"{strategy_type}_test\": strategy}\n",
    "            results = self.backtest_engine.run_backtest(strategies, start_date, end_date)\n",
    "            \n",
    "            # Extract metrics\n",
    "            strategy_result = results.get(f\"{strategy_type}_test\", {})\n",
    "            performance_metrics = strategy_result.get('performance_metrics', {})\n",
    "            risk_metrics = strategy_result.get('risk_metrics', {})\n",
    "            \n",
    "            return {\n",
    "                'total_return': performance_metrics.get('total_return', 0),\n",
    "                'annualized_return': performance_metrics.get('annualized_return', 0),\n",
    "                'sharpe_ratio': performance_metrics.get('sharpe_ratio', 0),\n",
    "                'max_drawdown': performance_metrics.get('max_drawdown', 0),\n",
    "                'volatility': performance_metrics.get('volatility', 0),\n",
    "                'win_rate': performance_metrics.get('win_rate', 0),\n",
    "                'profit_factor': performance_metrics.get('profit_factor', 0),\n",
    "                'total_trades': performance_metrics.get('total_trades', 0),\n",
    "                'final_portfolio_value': performance_metrics.get('final_portfolio_value', 0),\n",
    "                'current_drawdown': risk_metrics.get('current_drawdown', 0),\n",
    "                'portfolio_volatility': risk_metrics.get('volatility', 0)\n",
    "            }\n",
    "            \n",
    "        except Exception as e:\n",
    "            logger.error(f\"Error testing parameters {params}: {e}\")\n",
    "            return {\n",
    "                'total_return': 0,\n",
    "                'annualized_return': 0,\n",
    "                'sharpe_ratio': -999,\n",
    "                'max_drawdown': 0,\n",
    "                'volatility': 0,\n",
    "                'win_rate': 0,\n",
    "                'profit_factor': 0,\n",
    "                'total_trades': 0,\n",
    "                'final_portfolio_value': 0,\n",
    "                'current_drawdown': 0,\n",
    "                'portfolio_volatility': 0\n",
    "            }\n",
    "    \n",
    "    def _find_best_parameters(self, results: List[Dict[str, Any]], \n",
    "                             optimization_metric: str) -> Dict[str, Any]:\n",
    "        \"\"\"Find the best parameters based on optimization metric\"\"\"\n",
    "        if not results:\n",
    "            return {}\n",
    "        \n",
    "        # Sort by optimization metric\n",
    "        valid_results = [r for r in results if r.get(optimization_metric) is not None]\n",
    "        \n",
    "        if not valid_results:\n",
    "            return {}\n",
    "        \n",
    "        # Sort by optimization metric (descending for most metrics, ascending for drawdown)\n",
    "        reverse = optimization_metric not in ['max_drawdown', 'volatility', 'current_drawdown']\n",
    "        sorted_results = sorted(valid_results, \n",
    "                              key=lambda x: x.get(optimization_metric, 0), \n",
    "                              reverse=reverse)\n",
    "        \n",
    "        best_result = sorted_results[0]\n",
    "        return {\n",
    "            'parameters': best_result.get('parameters', {}),\n",
    "            'metrics': {k: v for k, v in best_result.items() if k != 'parameters' and k != 'combination_index'},\n",
    "            'rank': 1\n",
    "        }\n",
    "    \n",
    "    def optimize_multiple_strategies(self, strategy_types: List[str],\n",
    "                                   start_date: str, end_date: str,\n",
    "                                   optimization_metric: str = 'sharpe_ratio',\n",
    "                                   max_combinations_per_strategy: int = None) -> Dict[str, Any]:\n",
    "        \"\"\"\n",
    "        Optimize multiple strategies\n",
    "        \n",
    "        Args:\n",
    "            strategy_types: List of strategy types to optimize\n",
    "            start_date: Start date for optimization period\n",
    "            end_date: End date for optimization period\n",
    "            optimization_metric: Metric to optimize\n",
    "            max_combinations_per_strategy: Maximum combinations per strategy\n",
    "            \n",
    "        Returns:\n",
    "            Dictionary containing results for all strategies\n",
    "        \"\"\"\n",
    "        all_results = {}\n",
    "        \n",
    "        for strategy_type in strategy_types:\n",
    "            logger.info(f\"Optimizing {strategy_type}\")\n",
    "            \n",
    "            try:\n",
    "                result = self.optimize_strategy(\n",
    "                    strategy_type, start_date, end_date, \n",
    "                    optimization_metric, max_combinations_per_strategy\n",
    "                )\n",
    "                all_results[strategy_type] = result\n",
    "                \n",
    "            except Exception as e:\n",
    "                logger.error(f\"Failed to optimize {strategy_type}: {e}\")\n",
    "                continue\n",
    "        \n",
    "        return all_results\n",
    "    \n",
    "    def get_optimization_summary(self, strategy_type: str = None) -> Dict[str, Any]:\n",
    "        \"\"\"Get summary of optimization results\"\"\"\n",
    "        if strategy_type:\n",
    "            if strategy_type not in self.optimization_results:\n",
    "                return {}\n",
    "            return self.optimization_results[strategy_type]\n",
    "        \n",
    "        return {\n",
    "            'strategies': list(self.optimization_results.keys()),\n",
    "            'best_parameters': self.best_parameters,\n",
    "            'total_optimizations': len(self.optimization_results)\n",
    "        }\n",
    "    \n",
    "    def get_top_parameters(self, strategy_type: str, top_n: int = 5, \n",
    "                          metric: str = 'sharpe_ratio') -> List[Dict[str, Any]]:\n",
    "        \"\"\"Get top N parameter combinations for a strategy\"\"\"\n",
    "        if strategy_type not in self.optimization_results:\n",
    "            return []\n",
    "        \n",
    "        results = self.optimization_results[strategy_type]['results']\n",
    "        valid_results = [r for r in results if r.get(metric) is not None]\n",
    "        \n",
    "        if not valid_results:\n",
    "            return []\n",
    "        \n",
    "        # Sort by metric\n",
    "        reverse = metric not in ['max_drawdown', 'volatility', 'current_drawdown']\n",
    "        sorted_results = sorted(valid_results, \n",
    "                              key=lambda x: x.get(metric, 0), \n",
    "                              reverse=reverse)\n",
    "        \n",
    "        top_results = []\n",
    "        for i, result in enumerate(sorted_results[:top_n]):\n",
    "            top_results.append({\n",
    "                'rank': i + 1,\n",
    "                'parameters': result.get('parameters', {}),\n",
    "                'metrics': {k: v for k, v in result.items() \n",
    "                           if k not in ['parameters', 'combination_index']}\n",
    "            })\n",
    "        \n",
    "        return top_results\n",
    "    \n",
    "    def save_optimization_results(self, filepath: str):\n",
    "        \"\"\"Save optimization results to file\"\"\"\n",
    "        # Convert results to serializable format\n",
    "        serializable_results = {}\n",
    "        for strategy_type, result in self.optimization_results.items():\n",
    "            serializable_results[strategy_type] = {\n",
    "                'best_parameters': result['best_parameters'],\n",
    "                'optimization_metric': result['optimization_metric'],\n",
    "                'total_combinations': result['total_combinations'],\n",
    "                'tested_combinations': result['tested_combinations'],\n",
    "                'top_results': self.get_top_parameters(strategy_type, top_n=10)\n",
    "            }\n",
    "        \n",
    "        with open(filepath, 'w') as f:\n",
    "            json.dump(serializable_results, f, indent=2, default=str)\n",
    "        \n",
    "        logger.info(f\"Optimization results saved to {filepath}\")\n",
    "    \n",
    "    def load_optimization_results(self, filepath: str):\n",
    "        \"\"\"Load optimization results from file\"\"\"\n",
    "        if not os.path.exists(filepath):\n",
    "            logger.warning(f\"Optimization results file not found: {filepath}\")\n",
    "            return\n",
    "        \n",
    "        with open(filepath, 'r') as f:\n",
    "            data = json.load(f)\n",
    "        \n",
    "        # Convert back to internal format\n",
    "        for strategy_type, result in data.items():\n",
    "            self.best_parameters[strategy_type] = result.get('best_parameters', {})\n",
    "        \n",
    "        logger.info(f\"Optimization results loaded from {filepath}\")\n",
    "    \n",
    "    def create_optimized_strategy(self, strategy_type: str, \n",
    "                                use_best_parameters: bool = True,\n",
    "                                custom_parameters: Dict[str, Any] = None) -> Any:\n",
    "        \"\"\"\n",
    "        Create a strategy with optimized parameters\n",
    "        \n",
    "        Args:\n",
    "            strategy_type: Type of strategy to create\n",
    "            use_best_parameters: Whether to use best parameters from optimization\n",
    "            custom_parameters: Custom parameters to use instead\n",
    "            \n",
    "        Returns:\n",
    "            Strategy instance\n",
    "        \"\"\"\n",
    "        if strategy_type not in self.strategy_factory:\n",
    "            raise ValueError(f\"Unknown strategy type: {strategy_type}\")\n",
    "        \n",
    "        if use_best_parameters and strategy_type in self.best_parameters:\n",
    "            params = self.best_parameters[strategy_type].get('parameters', {})\n",
    "        elif custom_parameters:\n",
    "            params = custom_parameters\n",
    "        else:\n",
    "            # Use default parameters\n",
    "            params = {}\n",
    "        \n",
    "        strategy_class = self.strategy_factory[strategy_type]\n",
    "        return strategy_class(params)\n",
    "    \n",
    "    def generate_optimization_report(self, strategy_type: str = None) -> str:\n",
    "        \"\"\"Generate a comprehensive optimization report\"\"\"\n",
    "        if strategy_type and strategy_type not in self.optimization_results:\n",
    "            return f\"No optimization results available for {strategy_type}\"\n",
    "        \n",
    "        report = []\n",
    "        report.append(\"=\" * 60)\n",
    "        report.append(\"STRATEGY OPTIMIZATION REPORT\")\n",
    "        report.append(\"=\" * 60)\n",
    "        \n",
    "        if strategy_type:\n",
    "            self._add_strategy_report(report, strategy_type)\n",
    "        else:\n",
    "            for strategy_type in self.optimization_results.keys():\n",
    "                self._add_strategy_report(report, strategy_type)\n",
    "                report.append(\"-\" * 40)\n",
    "        \n",
    "        return \"\\n\".join(report)\n",
    "    \n",
    "    def _add_strategy_report(self, report: List[str], strategy_type: str):\n",
    "        \"\"\"Add strategy-specific report section\"\"\"\n",
    "        result = self.optimization_results[strategy_type]\n",
    "        best_params = result['best_parameters']\n",
    "        \n",
    "        report.append(f\"\\nStrategy: {strategy_type.upper()}\")\n",
    "        report.append(f\"Optimization Metric: {result['optimization_metric']}\")\n",
    "        report.append(f\"Total Combinations Tested: {result['tested_combinations']}\")\n",
    "        report.append(f\"Best Parameters: {best_params.get('parameters', {})}\")\n",
    "        \n",
    "        metrics = best_params.get('metrics', {})\n",
    "        if metrics:\n",
    "            report.append(f\"Best Performance Metrics:\")\n",
    "            report.append(f\"  Total Return: {metrics.get('total_return', 0):.2%}\")\n",
    "            report.append(f\"  Annualized Return: {metrics.get('annualized_return', 0):.2%}\")\n",
    "            report.append(f\"  Sharpe Ratio: {metrics.get('sharpe_ratio', 0):.2f}\")\n",
    "            report.append(f\"  Max Drawdown: {metrics.get('max_drawdown', 0):.2%}\")\n",
    "            report.append(f\"  Win Rate: {metrics.get('win_rate', 0):.2%}\")\n",
    "            report.append(f\"  Profit Factor: {metrics.get('profit_factor', 0):.2f}\")\n",
    "            report.append(f\"  Total Trades: {metrics.get('total_trades', 0)}\")\n",
    "    \n",
    "    def plot_optimization_results(self, strategy_type: str, save_path: str = None):\n",
    "        \"\"\"Plot optimization results for a strategy\"\"\"\n",
    "        if strategy_type not in self.optimization_results:\n",
    "            logger.warning(f\"No optimization results for {strategy_type}\")\n",
    "            return\n",
    "        \n",
    "        import matplotlib.pyplot as plt\n",
    "        \n",
    "        results = self.optimization_results[strategy_type]['results']\n",
    "        \n",
    "        # Create scatter plot of parameter combinations vs performance\n",
    "        fig, axes = plt.subplots(2, 2, figsize=(15, 10))\n",
    "        fig.suptitle(f'Optimization Results: {strategy_type.upper()}', fontsize=16)\n",
    "        \n",
    "        # Extract data for plotting\n",
    "        sharpe_ratios = [r.get('sharpe_ratio', 0) for r in results]\n",
    "        total_returns = [r.get('total_return', 0) for r in results]\n",
    "        max_drawdowns = [r.get('max_drawdown', 0) for r in results]\n",
    "        win_rates = [r.get('win_rate', 0) for r in results]\n",
    "        \n",
    "        # Sharpe ratio distribution\n",
    "        axes[0, 0].hist(sharpe_ratios, bins=20, alpha=0.7)\n",
    "        axes[0, 0].set_title('Sharpe Ratio Distribution')\n",
    "        axes[0, 0].set_xlabel('Sharpe Ratio')\n",
    "        axes[0, 0].grid(True)\n",
    "        \n",
    "        # Total return vs max drawdown\n",
    "        axes[0, 1].scatter(max_drawdowns, total_returns, alpha=0.6)\n",
    "        axes[0, 1].set_title('Return vs Drawdown')\n",
    "        axes[0, 1].set_xlabel('Max Drawdown')\n",
    "        axes[0, 1].set_ylabel('Total Return')\n",
    "        axes[0, 1].grid(True)\n",
    "        \n",
    "        # Win rate vs profit factor\n",
    "        axes[1, 0].scatter(win_rates, [r.get('profit_factor', 0) for r in results], alpha=0.6)\n",
    "        axes[1, 0].set_title('Win Rate vs Profit Factor')\n",
    "        axes[1, 0].set_xlabel('Win Rate')\n",
    "        axes[1, 0].set_ylabel('Profit Factor')\n",
    "        axes[1, 0].grid(True)\n",
    "        \n",
    "        # Performance metrics comparison\n",
    "        metrics = ['sharpe_ratio', 'total_return', 'win_rate', 'profit_factor']\n",
    "        metric_values = []\n",
    "        for metric in metrics:\n",
    "            values = [r.get(metric, 0) for r in results]\n",
    "            metric_values.append(np.mean(values))\n",
    "        \n",
    "        axes[1, 1].bar(metrics, metric_values)\n",
    "        axes[1, 1].set_title('Average Performance Metrics')\n",
    "        axes[1, 1].set_ylabel('Average Value')\n",
    "        axes[1, 1].tick_params(axis='x', rotation=45)\n",
    "        \n",
    "        plt.tight_layout()\n",
    "        \n",
    "        if save_path:\n",
    "            plt.savefig(save_path, dpi=300, bbox_inches='tight')\n",
    "        else:\n",
    "            plt.show()\n",
    "        \n",
    "        plt.close() "
   ]
  },
  {
   "cell_type": "markdown",
   "id": "b1f92541",
   "metadata": {},
   "source": [
    "# **Backtest**"
   ]
  },
  {
   "cell_type": "code",
   "execution_count": 83,
   "id": "8053272d",
   "metadata": {},
   "outputs": [],
   "source": [
    "def generate_signal_for_symbol(price_data: pd.Series, symbol: str) -> str:\n",
    "    \"\"\"Generate signal for a single symbol\"\"\"\n",
    "    if len(price_data) < long_window:\n",
    "        return 'hold'  # Not enough data\n",
    "    \n",
    "    # Calculate SMAs\n",
    "    short_sma, long_sma = calculate_sma_crossover(price_data, short_window, long_window)\n",
    "\n",
    "    # Get current and previous values\n",
    "    current_short = short_sma.iloc[-1]\n",
    "    current_long = long_sma.iloc[-1]\n",
    "    prev_short = short_sma.iloc[-2] if len(short_sma) > 1 else current_short\n",
    "    prev_long = long_sma.iloc[-2] if len(long_sma) > 1 else current_long\n",
    "    \n",
    "    # Check for crossover\n",
    "    current_cross_up = current_short > current_long\n",
    "    prev_cross_up = prev_short > prev_long\n",
    "    \n",
    "    # Generate signals\n",
    "    if current_cross_up and not prev_cross_up:\n",
    "        # Golden cross (short SMA crosses above long SMA)\n",
    "        # logger.info(f\"Golden cross detected for {symbol}: {current_short:.2f} > {current_long:.2f}\")\n",
    "        print(f\"Golden cross detected for {symbol}: {current_short:.2f} > {current_long:.2f}\")\n",
    "        return 'buy'\n",
    "    elif not current_cross_up and prev_cross_up:\n",
    "        # Death cross (short SMA crosses below long SMA)\n",
    "        # logger.info(f\"Death cross detected for {symbol}: {current_short:.2f} < {current_long:.2f}\")\n",
    "        print(f\"Death cross detected for {symbol}: {current_short:.2f} < {current_long:.2f}\")\n",
    "        return 'sell'\n",
    "    else:\n",
    "        return 'hold'"
   ]
  },
  {
   "cell_type": "code",
   "execution_count": 147,
   "id": "14aa1cdf",
   "metadata": {},
   "outputs": [
    {
     "data": {
      "text/html": [
       "<div>\n",
       "<style scoped>\n",
       "    .dataframe tbody tr th:only-of-type {\n",
       "        vertical-align: middle;\n",
       "    }\n",
       "\n",
       "    .dataframe tbody tr th {\n",
       "        vertical-align: top;\n",
       "    }\n",
       "\n",
       "    .dataframe thead th {\n",
       "        text-align: right;\n",
       "    }\n",
       "</style>\n",
       "<table border=\"1\" class=\"dataframe\">\n",
       "  <thead>\n",
       "    <tr style=\"text-align: right;\">\n",
       "      <th></th>\n",
       "      <th>short_sma</th>\n",
       "      <th>long_sma</th>\n",
       "      <th>signal</th>\n",
       "    </tr>\n",
       "    <tr>\n",
       "      <th>datetime</th>\n",
       "      <th></th>\n",
       "      <th></th>\n",
       "      <th></th>\n",
       "    </tr>\n",
       "  </thead>\n",
       "  <tbody>\n",
       "    <tr>\n",
       "      <th>2025-07-28 03:00:00</th>\n",
       "      <td>NaN</td>\n",
       "      <td>NaN</td>\n",
       "      <td>NaN</td>\n",
       "    </tr>\n",
       "    <tr>\n",
       "      <th>2025-07-28 07:00:00</th>\n",
       "      <td>119384.5</td>\n",
       "      <td>NaN</td>\n",
       "      <td>NaN</td>\n",
       "    </tr>\n",
       "    <tr>\n",
       "      <th>2025-07-28 11:00:00</th>\n",
       "      <td>119101.0</td>\n",
       "      <td>NaN</td>\n",
       "      <td>NaN</td>\n",
       "    </tr>\n",
       "    <tr>\n",
       "      <th>2025-07-28 15:00:00</th>\n",
       "      <td>118869.0</td>\n",
       "      <td>NaN</td>\n",
       "      <td>NaN</td>\n",
       "    </tr>\n",
       "    <tr>\n",
       "      <th>2025-07-28 19:00:00</th>\n",
       "      <td>118501.5</td>\n",
       "      <td>118934.8</td>\n",
       "      <td>NaN</td>\n",
       "    </tr>\n",
       "    <tr>\n",
       "      <th>2025-07-28 23:00:00</th>\n",
       "      <td>118116.0</td>\n",
       "      <td>118654.0</td>\n",
       "      <td>NaN</td>\n",
       "    </tr>\n",
       "    <tr>\n",
       "      <th>2025-07-29 03:00:00</th>\n",
       "      <td>118058.0</td>\n",
       "      <td>118404.2</td>\n",
       "      <td>NaN</td>\n",
       "    </tr>\n",
       "    <tr>\n",
       "      <th>2025-07-29 07:00:00</th>\n",
       "      <td>118393.0</td>\n",
       "      <td>118370.8</td>\n",
       "      <td>NaN</td>\n",
       "    </tr>\n",
       "    <tr>\n",
       "      <th>2025-07-29 11:00:00</th>\n",
       "      <td>118816.5</td>\n",
       "      <td>118383.2</td>\n",
       "      <td>NaN</td>\n",
       "    </tr>\n",
       "    <tr>\n",
       "      <th>2025-07-29 15:00:00</th>\n",
       "      <td>118739.5</td>\n",
       "      <td>118466.0</td>\n",
       "      <td>NaN</td>\n",
       "    </tr>\n",
       "    <tr>\n",
       "      <th>2025-07-29 19:00:00</th>\n",
       "      <td>117989.0</td>\n",
       "      <td>118332.4</td>\n",
       "      <td>NaN</td>\n",
       "    </tr>\n",
       "    <tr>\n",
       "      <th>2025-07-29 23:00:00</th>\n",
       "      <td>117439.0</td>\n",
       "      <td>118218.4</td>\n",
       "      <td>NaN</td>\n",
       "    </tr>\n",
       "    <tr>\n",
       "      <th>2025-07-30 03:00:00</th>\n",
       "      <td>117703.5</td>\n",
       "      <td>118056.6</td>\n",
       "      <td>NaN</td>\n",
       "    </tr>\n",
       "    <tr>\n",
       "      <th>2025-07-30 07:00:00</th>\n",
       "      <td>118035.0</td>\n",
       "      <td>117905.8</td>\n",
       "      <td>NaN</td>\n",
       "    </tr>\n",
       "    <tr>\n",
       "      <th>2025-07-30 11:00:00</th>\n",
       "      <td>118128.5</td>\n",
       "      <td>117812.2</td>\n",
       "      <td>NaN</td>\n",
       "    </tr>\n",
       "    <tr>\n",
       "      <th>2025-07-30 15:00:00</th>\n",
       "      <td>117835.0</td>\n",
       "      <td>117844.2</td>\n",
       "      <td>NaN</td>\n",
       "    </tr>\n",
       "    <tr>\n",
       "      <th>2025-07-30 19:00:00</th>\n",
       "      <td>117770.5</td>\n",
       "      <td>117944.8</td>\n",
       "      <td>NaN</td>\n",
       "    </tr>\n",
       "    <tr>\n",
       "      <th>2025-07-30 23:00:00</th>\n",
       "      <td>117458.0</td>\n",
       "      <td>117746.0</td>\n",
       "      <td>NaN</td>\n",
       "    </tr>\n",
       "    <tr>\n",
       "      <th>2025-07-31 03:00:00</th>\n",
       "      <td>117383.0</td>\n",
       "      <td>117684.0</td>\n",
       "      <td>NaN</td>\n",
       "    </tr>\n",
       "    <tr>\n",
       "      <th>2025-07-31 07:00:00</th>\n",
       "      <td>118136.5</td>\n",
       "      <td>117749.2</td>\n",
       "      <td>NaN</td>\n",
       "    </tr>\n",
       "    <tr>\n",
       "      <th>2025-07-31 11:00:00</th>\n",
       "      <td>118556.5</td>\n",
       "      <td>117972.6</td>\n",
       "      <td>NaN</td>\n",
       "    </tr>\n",
       "    <tr>\n",
       "      <th>2025-07-31 15:00:00</th>\n",
       "      <td>118510.5</td>\n",
       "      <td>118045.2</td>\n",
       "      <td>NaN</td>\n",
       "    </tr>\n",
       "    <tr>\n",
       "      <th>2025-07-31 19:00:00</th>\n",
       "      <td>118318.5</td>\n",
       "      <td>118316.8</td>\n",
       "      <td>NaN</td>\n",
       "    </tr>\n",
       "    <tr>\n",
       "      <th>2025-07-31 23:00:00</th>\n",
       "      <td>117528.5</td>\n",
       "      <td>118103.4</td>\n",
       "      <td>NaN</td>\n",
       "    </tr>\n",
       "    <tr>\n",
       "      <th>2025-08-01 03:00:00</th>\n",
       "      <td>116258.5</td>\n",
       "      <td>117565.6</td>\n",
       "      <td>NaN</td>\n",
       "    </tr>\n",
       "    <tr>\n",
       "      <th>2025-08-01 07:00:00</th>\n",
       "      <td>115696.5</td>\n",
       "      <td>116959.4</td>\n",
       "      <td>NaN</td>\n",
       "    </tr>\n",
       "    <tr>\n",
       "      <th>2025-08-01 11:00:00</th>\n",
       "      <td>115353.0</td>\n",
       "      <td>116302.6</td>\n",
       "      <td>NaN</td>\n",
       "    </tr>\n",
       "    <tr>\n",
       "      <th>2025-08-01 15:00:00</th>\n",
       "      <td>115159.0</td>\n",
       "      <td>115695.6</td>\n",
       "      <td>NaN</td>\n",
       "    </tr>\n",
       "    <tr>\n",
       "      <th>2025-08-01 19:00:00</th>\n",
       "      <td>115287.5</td>\n",
       "      <td>115406.2</td>\n",
       "      <td>NaN</td>\n",
       "    </tr>\n",
       "    <tr>\n",
       "      <th>2025-08-01 23:00:00</th>\n",
       "      <td>114290.5</td>\n",
       "      <td>114908.4</td>\n",
       "      <td>NaN</td>\n",
       "    </tr>\n",
       "    <tr>\n",
       "      <th>2025-08-02 03:00:00</th>\n",
       "      <td>113252.0</td>\n",
       "      <td>114428.4</td>\n",
       "      <td>NaN</td>\n",
       "    </tr>\n",
       "    <tr>\n",
       "      <th>2025-08-02 07:00:00</th>\n",
       "      <td>113549.5</td>\n",
       "      <td>114187.0</td>\n",
       "      <td>NaN</td>\n",
       "    </tr>\n",
       "    <tr>\n",
       "      <th>2025-08-02 11:00:00</th>\n",
       "      <td>113902.5</td>\n",
       "      <td>113925.8</td>\n",
       "      <td>NaN</td>\n",
       "    </tr>\n",
       "    <tr>\n",
       "      <th>2025-08-02 15:00:00</th>\n",
       "      <td>113856.5</td>\n",
       "      <td>113614.6</td>\n",
       "      <td>NaN</td>\n",
       "    </tr>\n",
       "    <tr>\n",
       "      <th>2025-08-02 19:00:00</th>\n",
       "      <td>113282.0</td>\n",
       "      <td>113522.4</td>\n",
       "      <td>NaN</td>\n",
       "    </tr>\n",
       "    <tr>\n",
       "      <th>2025-08-02 23:00:00</th>\n",
       "      <td>112514.0</td>\n",
       "      <td>113319.4</td>\n",
       "      <td>NaN</td>\n",
       "    </tr>\n",
       "    <tr>\n",
       "      <th>2025-08-03 03:00:00</th>\n",
       "      <td>112375.0</td>\n",
       "      <td>113052.6</td>\n",
       "      <td>NaN</td>\n",
       "    </tr>\n",
       "    <tr>\n",
       "      <th>2025-08-03 07:00:00</th>\n",
       "      <td>113048.0</td>\n",
       "      <td>112977.6</td>\n",
       "      <td>NaN</td>\n",
       "    </tr>\n",
       "    <tr>\n",
       "      <th>2025-08-03 11:00:00</th>\n",
       "      <td>113633.0</td>\n",
       "      <td>112963.2</td>\n",
       "      <td>NaN</td>\n",
       "    </tr>\n",
       "    <tr>\n",
       "      <th>2025-08-03 15:00:00</th>\n",
       "      <td>113787.5</td>\n",
       "      <td>113179.8</td>\n",
       "      <td>NaN</td>\n",
       "    </tr>\n",
       "    <tr>\n",
       "      <th>2025-08-03 19:00:00</th>\n",
       "      <td>113917.0</td>\n",
       "      <td>113524.4</td>\n",
       "      <td>NaN</td>\n",
       "    </tr>\n",
       "    <tr>\n",
       "      <th>2025-08-03 23:00:00</th>\n",
       "      <td>114133.0</td>\n",
       "      <td>113883.0</td>\n",
       "      <td>NaN</td>\n",
       "    </tr>\n",
       "    <tr>\n",
       "      <th>2025-08-04 03:00:00</th>\n",
       "      <td>114270.5</td>\n",
       "      <td>114013.4</td>\n",
       "      <td>NaN</td>\n",
       "    </tr>\n",
       "    <tr>\n",
       "      <th>2025-08-04 07:00:00</th>\n",
       "      <td>114410.0</td>\n",
       "      <td>114193.8</td>\n",
       "      <td>NaN</td>\n",
       "    </tr>\n",
       "    <tr>\n",
       "      <th>2025-08-04 11:00:00</th>\n",
       "      <td>114640.5</td>\n",
       "      <td>114354.6</td>\n",
       "      <td>NaN</td>\n",
       "    </tr>\n",
       "    <tr>\n",
       "      <th>2025-08-04 15:00:00</th>\n",
       "      <td>114596.5</td>\n",
       "      <td>114465.6</td>\n",
       "      <td>NaN</td>\n",
       "    </tr>\n",
       "    <tr>\n",
       "      <th>2025-08-04 19:00:00</th>\n",
       "      <td>114672.5</td>\n",
       "      <td>114570.4</td>\n",
       "      <td>NaN</td>\n",
       "    </tr>\n",
       "    <tr>\n",
       "      <th>2025-08-04 23:00:00</th>\n",
       "      <td>114796.5</td>\n",
       "      <td>114676.0</td>\n",
       "      <td>NaN</td>\n",
       "    </tr>\n",
       "    <tr>\n",
       "      <th>2025-08-05 03:00:00</th>\n",
       "      <td>114902.5</td>\n",
       "      <td>114767.4</td>\n",
       "      <td>NaN</td>\n",
       "    </tr>\n",
       "    <tr>\n",
       "      <th>2025-08-05 07:00:00</th>\n",
       "      <td>114882.5</td>\n",
       "      <td>114772.8</td>\n",
       "      <td>NaN</td>\n",
       "    </tr>\n",
       "  </tbody>\n",
       "</table>\n",
       "</div>"
      ],
      "text/plain": [
       "                     short_sma  long_sma signal\n",
       "datetime                                       \n",
       "2025-07-28 03:00:00        NaN       NaN    NaN\n",
       "2025-07-28 07:00:00   119384.5       NaN    NaN\n",
       "2025-07-28 11:00:00   119101.0       NaN    NaN\n",
       "2025-07-28 15:00:00   118869.0       NaN    NaN\n",
       "2025-07-28 19:00:00   118501.5  118934.8    NaN\n",
       "2025-07-28 23:00:00   118116.0  118654.0    NaN\n",
       "2025-07-29 03:00:00   118058.0  118404.2    NaN\n",
       "2025-07-29 07:00:00   118393.0  118370.8    NaN\n",
       "2025-07-29 11:00:00   118816.5  118383.2    NaN\n",
       "2025-07-29 15:00:00   118739.5  118466.0    NaN\n",
       "2025-07-29 19:00:00   117989.0  118332.4    NaN\n",
       "2025-07-29 23:00:00   117439.0  118218.4    NaN\n",
       "2025-07-30 03:00:00   117703.5  118056.6    NaN\n",
       "2025-07-30 07:00:00   118035.0  117905.8    NaN\n",
       "2025-07-30 11:00:00   118128.5  117812.2    NaN\n",
       "2025-07-30 15:00:00   117835.0  117844.2    NaN\n",
       "2025-07-30 19:00:00   117770.5  117944.8    NaN\n",
       "2025-07-30 23:00:00   117458.0  117746.0    NaN\n",
       "2025-07-31 03:00:00   117383.0  117684.0    NaN\n",
       "2025-07-31 07:00:00   118136.5  117749.2    NaN\n",
       "2025-07-31 11:00:00   118556.5  117972.6    NaN\n",
       "2025-07-31 15:00:00   118510.5  118045.2    NaN\n",
       "2025-07-31 19:00:00   118318.5  118316.8    NaN\n",
       "2025-07-31 23:00:00   117528.5  118103.4    NaN\n",
       "2025-08-01 03:00:00   116258.5  117565.6    NaN\n",
       "2025-08-01 07:00:00   115696.5  116959.4    NaN\n",
       "2025-08-01 11:00:00   115353.0  116302.6    NaN\n",
       "2025-08-01 15:00:00   115159.0  115695.6    NaN\n",
       "2025-08-01 19:00:00   115287.5  115406.2    NaN\n",
       "2025-08-01 23:00:00   114290.5  114908.4    NaN\n",
       "2025-08-02 03:00:00   113252.0  114428.4    NaN\n",
       "2025-08-02 07:00:00   113549.5  114187.0    NaN\n",
       "2025-08-02 11:00:00   113902.5  113925.8    NaN\n",
       "2025-08-02 15:00:00   113856.5  113614.6    NaN\n",
       "2025-08-02 19:00:00   113282.0  113522.4    NaN\n",
       "2025-08-02 23:00:00   112514.0  113319.4    NaN\n",
       "2025-08-03 03:00:00   112375.0  113052.6    NaN\n",
       "2025-08-03 07:00:00   113048.0  112977.6    NaN\n",
       "2025-08-03 11:00:00   113633.0  112963.2    NaN\n",
       "2025-08-03 15:00:00   113787.5  113179.8    NaN\n",
       "2025-08-03 19:00:00   113917.0  113524.4    NaN\n",
       "2025-08-03 23:00:00   114133.0  113883.0    NaN\n",
       "2025-08-04 03:00:00   114270.5  114013.4    NaN\n",
       "2025-08-04 07:00:00   114410.0  114193.8    NaN\n",
       "2025-08-04 11:00:00   114640.5  114354.6    NaN\n",
       "2025-08-04 15:00:00   114596.5  114465.6    NaN\n",
       "2025-08-04 19:00:00   114672.5  114570.4    NaN\n",
       "2025-08-04 23:00:00   114796.5  114676.0    NaN\n",
       "2025-08-05 03:00:00   114902.5  114767.4    NaN\n",
       "2025-08-05 07:00:00   114882.5  114772.8    NaN"
      ]
     },
     "execution_count": 147,
     "metadata": {},
     "output_type": "execute_result"
    }
   ],
   "source": [
    "signal = pd.Series(index=symbol_data.index, dtype=str)\n",
    "short_window = 2\n",
    "long_window = 5\n",
    "symbol = 'BTCUSD'\n",
    "symbol_data = data[data.symbol.str.contains(symbol)]['close'].dropna()\n",
    "short_sma, long_sma = calculate_sma_crossover(symbol_data, short_window, long_window)\n",
    "df = pd.DataFrame({'short_sma': short_sma, 'long_sma': long_sma})\n",
    "df['signal'] = signal\n",
    "df"
   ]
  },
  {
   "cell_type": "code",
   "execution_count": 149,
   "id": "123542c4",
   "metadata": {},
   "outputs": [
    {
     "data": {
      "text/html": [
       "<div>\n",
       "<style scoped>\n",
       "    .dataframe tbody tr th:only-of-type {\n",
       "        vertical-align: middle;\n",
       "    }\n",
       "\n",
       "    .dataframe tbody tr th {\n",
       "        vertical-align: top;\n",
       "    }\n",
       "\n",
       "    .dataframe thead th {\n",
       "        text-align: right;\n",
       "    }\n",
       "</style>\n",
       "<table border=\"1\" class=\"dataframe\">\n",
       "  <thead>\n",
       "    <tr style=\"text-align: right;\">\n",
       "      <th></th>\n",
       "      <th>short_sma</th>\n",
       "      <th>long_sma</th>\n",
       "      <th>signal</th>\n",
       "    </tr>\n",
       "    <tr>\n",
       "      <th>datetime</th>\n",
       "      <th></th>\n",
       "      <th></th>\n",
       "      <th></th>\n",
       "    </tr>\n",
       "  </thead>\n",
       "  <tbody>\n",
       "    <tr>\n",
       "      <th>2025-07-28 23:00:00</th>\n",
       "      <td>118116.0</td>\n",
       "      <td>118654.0</td>\n",
       "      <td>hold</td>\n",
       "    </tr>\n",
       "    <tr>\n",
       "      <th>2025-07-29 03:00:00</th>\n",
       "      <td>118058.0</td>\n",
       "      <td>118404.2</td>\n",
       "      <td>hold</td>\n",
       "    </tr>\n",
       "    <tr>\n",
       "      <th>2025-07-29 07:00:00</th>\n",
       "      <td>118393.0</td>\n",
       "      <td>118370.8</td>\n",
       "      <td>buy</td>\n",
       "    </tr>\n",
       "    <tr>\n",
       "      <th>2025-07-29 11:00:00</th>\n",
       "      <td>118816.5</td>\n",
       "      <td>118383.2</td>\n",
       "      <td>hold</td>\n",
       "    </tr>\n",
       "    <tr>\n",
       "      <th>2025-07-29 15:00:00</th>\n",
       "      <td>118739.5</td>\n",
       "      <td>118466.0</td>\n",
       "      <td>hold</td>\n",
       "    </tr>\n",
       "    <tr>\n",
       "      <th>2025-07-29 19:00:00</th>\n",
       "      <td>117989.0</td>\n",
       "      <td>118332.4</td>\n",
       "      <td>sell</td>\n",
       "    </tr>\n",
       "    <tr>\n",
       "      <th>2025-07-29 23:00:00</th>\n",
       "      <td>117439.0</td>\n",
       "      <td>118218.4</td>\n",
       "      <td>hold</td>\n",
       "    </tr>\n",
       "    <tr>\n",
       "      <th>2025-07-30 03:00:00</th>\n",
       "      <td>117703.5</td>\n",
       "      <td>118056.6</td>\n",
       "      <td>hold</td>\n",
       "    </tr>\n",
       "    <tr>\n",
       "      <th>2025-07-30 07:00:00</th>\n",
       "      <td>118035.0</td>\n",
       "      <td>117905.8</td>\n",
       "      <td>buy</td>\n",
       "    </tr>\n",
       "    <tr>\n",
       "      <th>2025-07-30 11:00:00</th>\n",
       "      <td>118128.5</td>\n",
       "      <td>117812.2</td>\n",
       "      <td>hold</td>\n",
       "    </tr>\n",
       "    <tr>\n",
       "      <th>2025-07-30 15:00:00</th>\n",
       "      <td>117835.0</td>\n",
       "      <td>117844.2</td>\n",
       "      <td>sell</td>\n",
       "    </tr>\n",
       "    <tr>\n",
       "      <th>2025-07-30 19:00:00</th>\n",
       "      <td>117770.5</td>\n",
       "      <td>117944.8</td>\n",
       "      <td>hold</td>\n",
       "    </tr>\n",
       "    <tr>\n",
       "      <th>2025-07-30 23:00:00</th>\n",
       "      <td>117458.0</td>\n",
       "      <td>117746.0</td>\n",
       "      <td>hold</td>\n",
       "    </tr>\n",
       "    <tr>\n",
       "      <th>2025-07-31 03:00:00</th>\n",
       "      <td>117383.0</td>\n",
       "      <td>117684.0</td>\n",
       "      <td>hold</td>\n",
       "    </tr>\n",
       "    <tr>\n",
       "      <th>2025-07-31 07:00:00</th>\n",
       "      <td>118136.5</td>\n",
       "      <td>117749.2</td>\n",
       "      <td>buy</td>\n",
       "    </tr>\n",
       "    <tr>\n",
       "      <th>2025-07-31 11:00:00</th>\n",
       "      <td>118556.5</td>\n",
       "      <td>117972.6</td>\n",
       "      <td>hold</td>\n",
       "    </tr>\n",
       "    <tr>\n",
       "      <th>2025-07-31 15:00:00</th>\n",
       "      <td>118510.5</td>\n",
       "      <td>118045.2</td>\n",
       "      <td>hold</td>\n",
       "    </tr>\n",
       "    <tr>\n",
       "      <th>2025-07-31 19:00:00</th>\n",
       "      <td>118318.5</td>\n",
       "      <td>118316.8</td>\n",
       "      <td>hold</td>\n",
       "    </tr>\n",
       "    <tr>\n",
       "      <th>2025-07-31 23:00:00</th>\n",
       "      <td>117528.5</td>\n",
       "      <td>118103.4</td>\n",
       "      <td>sell</td>\n",
       "    </tr>\n",
       "    <tr>\n",
       "      <th>2025-08-01 03:00:00</th>\n",
       "      <td>116258.5</td>\n",
       "      <td>117565.6</td>\n",
       "      <td>hold</td>\n",
       "    </tr>\n",
       "    <tr>\n",
       "      <th>2025-08-01 07:00:00</th>\n",
       "      <td>115696.5</td>\n",
       "      <td>116959.4</td>\n",
       "      <td>hold</td>\n",
       "    </tr>\n",
       "    <tr>\n",
       "      <th>2025-08-01 11:00:00</th>\n",
       "      <td>115353.0</td>\n",
       "      <td>116302.6</td>\n",
       "      <td>hold</td>\n",
       "    </tr>\n",
       "    <tr>\n",
       "      <th>2025-08-01 15:00:00</th>\n",
       "      <td>115159.0</td>\n",
       "      <td>115695.6</td>\n",
       "      <td>hold</td>\n",
       "    </tr>\n",
       "    <tr>\n",
       "      <th>2025-08-01 19:00:00</th>\n",
       "      <td>115287.5</td>\n",
       "      <td>115406.2</td>\n",
       "      <td>hold</td>\n",
       "    </tr>\n",
       "    <tr>\n",
       "      <th>2025-08-01 23:00:00</th>\n",
       "      <td>114290.5</td>\n",
       "      <td>114908.4</td>\n",
       "      <td>hold</td>\n",
       "    </tr>\n",
       "    <tr>\n",
       "      <th>2025-08-02 03:00:00</th>\n",
       "      <td>113252.0</td>\n",
       "      <td>114428.4</td>\n",
       "      <td>hold</td>\n",
       "    </tr>\n",
       "    <tr>\n",
       "      <th>2025-08-02 07:00:00</th>\n",
       "      <td>113549.5</td>\n",
       "      <td>114187.0</td>\n",
       "      <td>hold</td>\n",
       "    </tr>\n",
       "    <tr>\n",
       "      <th>2025-08-02 11:00:00</th>\n",
       "      <td>113902.5</td>\n",
       "      <td>113925.8</td>\n",
       "      <td>hold</td>\n",
       "    </tr>\n",
       "    <tr>\n",
       "      <th>2025-08-02 15:00:00</th>\n",
       "      <td>113856.5</td>\n",
       "      <td>113614.6</td>\n",
       "      <td>buy</td>\n",
       "    </tr>\n",
       "    <tr>\n",
       "      <th>2025-08-02 19:00:00</th>\n",
       "      <td>113282.0</td>\n",
       "      <td>113522.4</td>\n",
       "      <td>sell</td>\n",
       "    </tr>\n",
       "    <tr>\n",
       "      <th>2025-08-02 23:00:00</th>\n",
       "      <td>112514.0</td>\n",
       "      <td>113319.4</td>\n",
       "      <td>hold</td>\n",
       "    </tr>\n",
       "    <tr>\n",
       "      <th>2025-08-03 03:00:00</th>\n",
       "      <td>112375.0</td>\n",
       "      <td>113052.6</td>\n",
       "      <td>hold</td>\n",
       "    </tr>\n",
       "    <tr>\n",
       "      <th>2025-08-03 07:00:00</th>\n",
       "      <td>113048.0</td>\n",
       "      <td>112977.6</td>\n",
       "      <td>buy</td>\n",
       "    </tr>\n",
       "    <tr>\n",
       "      <th>2025-08-03 11:00:00</th>\n",
       "      <td>113633.0</td>\n",
       "      <td>112963.2</td>\n",
       "      <td>hold</td>\n",
       "    </tr>\n",
       "    <tr>\n",
       "      <th>2025-08-03 15:00:00</th>\n",
       "      <td>113787.5</td>\n",
       "      <td>113179.8</td>\n",
       "      <td>hold</td>\n",
       "    </tr>\n",
       "    <tr>\n",
       "      <th>2025-08-03 19:00:00</th>\n",
       "      <td>113917.0</td>\n",
       "      <td>113524.4</td>\n",
       "      <td>hold</td>\n",
       "    </tr>\n",
       "    <tr>\n",
       "      <th>2025-08-03 23:00:00</th>\n",
       "      <td>114133.0</td>\n",
       "      <td>113883.0</td>\n",
       "      <td>hold</td>\n",
       "    </tr>\n",
       "    <tr>\n",
       "      <th>2025-08-04 03:00:00</th>\n",
       "      <td>114270.5</td>\n",
       "      <td>114013.4</td>\n",
       "      <td>hold</td>\n",
       "    </tr>\n",
       "    <tr>\n",
       "      <th>2025-08-04 07:00:00</th>\n",
       "      <td>114410.0</td>\n",
       "      <td>114193.8</td>\n",
       "      <td>hold</td>\n",
       "    </tr>\n",
       "    <tr>\n",
       "      <th>2025-08-04 11:00:00</th>\n",
       "      <td>114640.5</td>\n",
       "      <td>114354.6</td>\n",
       "      <td>hold</td>\n",
       "    </tr>\n",
       "    <tr>\n",
       "      <th>2025-08-04 15:00:00</th>\n",
       "      <td>114596.5</td>\n",
       "      <td>114465.6</td>\n",
       "      <td>hold</td>\n",
       "    </tr>\n",
       "    <tr>\n",
       "      <th>2025-08-04 19:00:00</th>\n",
       "      <td>114672.5</td>\n",
       "      <td>114570.4</td>\n",
       "      <td>hold</td>\n",
       "    </tr>\n",
       "    <tr>\n",
       "      <th>2025-08-04 23:00:00</th>\n",
       "      <td>114796.5</td>\n",
       "      <td>114676.0</td>\n",
       "      <td>hold</td>\n",
       "    </tr>\n",
       "    <tr>\n",
       "      <th>2025-08-05 03:00:00</th>\n",
       "      <td>114902.5</td>\n",
       "      <td>114767.4</td>\n",
       "      <td>hold</td>\n",
       "    </tr>\n",
       "    <tr>\n",
       "      <th>2025-08-05 07:00:00</th>\n",
       "      <td>114882.5</td>\n",
       "      <td>114772.8</td>\n",
       "      <td>hold</td>\n",
       "    </tr>\n",
       "  </tbody>\n",
       "</table>\n",
       "</div>"
      ],
      "text/plain": [
       "                     short_sma  long_sma signal\n",
       "datetime                                       \n",
       "2025-07-28 23:00:00   118116.0  118654.0   hold\n",
       "2025-07-29 03:00:00   118058.0  118404.2   hold\n",
       "2025-07-29 07:00:00   118393.0  118370.8    buy\n",
       "2025-07-29 11:00:00   118816.5  118383.2   hold\n",
       "2025-07-29 15:00:00   118739.5  118466.0   hold\n",
       "2025-07-29 19:00:00   117989.0  118332.4   sell\n",
       "2025-07-29 23:00:00   117439.0  118218.4   hold\n",
       "2025-07-30 03:00:00   117703.5  118056.6   hold\n",
       "2025-07-30 07:00:00   118035.0  117905.8    buy\n",
       "2025-07-30 11:00:00   118128.5  117812.2   hold\n",
       "2025-07-30 15:00:00   117835.0  117844.2   sell\n",
       "2025-07-30 19:00:00   117770.5  117944.8   hold\n",
       "2025-07-30 23:00:00   117458.0  117746.0   hold\n",
       "2025-07-31 03:00:00   117383.0  117684.0   hold\n",
       "2025-07-31 07:00:00   118136.5  117749.2    buy\n",
       "2025-07-31 11:00:00   118556.5  117972.6   hold\n",
       "2025-07-31 15:00:00   118510.5  118045.2   hold\n",
       "2025-07-31 19:00:00   118318.5  118316.8   hold\n",
       "2025-07-31 23:00:00   117528.5  118103.4   sell\n",
       "2025-08-01 03:00:00   116258.5  117565.6   hold\n",
       "2025-08-01 07:00:00   115696.5  116959.4   hold\n",
       "2025-08-01 11:00:00   115353.0  116302.6   hold\n",
       "2025-08-01 15:00:00   115159.0  115695.6   hold\n",
       "2025-08-01 19:00:00   115287.5  115406.2   hold\n",
       "2025-08-01 23:00:00   114290.5  114908.4   hold\n",
       "2025-08-02 03:00:00   113252.0  114428.4   hold\n",
       "2025-08-02 07:00:00   113549.5  114187.0   hold\n",
       "2025-08-02 11:00:00   113902.5  113925.8   hold\n",
       "2025-08-02 15:00:00   113856.5  113614.6    buy\n",
       "2025-08-02 19:00:00   113282.0  113522.4   sell\n",
       "2025-08-02 23:00:00   112514.0  113319.4   hold\n",
       "2025-08-03 03:00:00   112375.0  113052.6   hold\n",
       "2025-08-03 07:00:00   113048.0  112977.6    buy\n",
       "2025-08-03 11:00:00   113633.0  112963.2   hold\n",
       "2025-08-03 15:00:00   113787.5  113179.8   hold\n",
       "2025-08-03 19:00:00   113917.0  113524.4   hold\n",
       "2025-08-03 23:00:00   114133.0  113883.0   hold\n",
       "2025-08-04 03:00:00   114270.5  114013.4   hold\n",
       "2025-08-04 07:00:00   114410.0  114193.8   hold\n",
       "2025-08-04 11:00:00   114640.5  114354.6   hold\n",
       "2025-08-04 15:00:00   114596.5  114465.6   hold\n",
       "2025-08-04 19:00:00   114672.5  114570.4   hold\n",
       "2025-08-04 23:00:00   114796.5  114676.0   hold\n",
       "2025-08-05 03:00:00   114902.5  114767.4   hold\n",
       "2025-08-05 07:00:00   114882.5  114772.8   hold"
      ]
     },
     "execution_count": 149,
     "metadata": {},
     "output_type": "execute_result"
    }
   ],
   "source": [
    "signal = pd.Series(index=symbol_data.index, dtype=str)\n",
    "short_window = 2\n",
    "long_window = 5\n",
    "symbol = 'BTCUSD'\n",
    "symbol_data = data[data.symbol.str.contains(symbol)]['close'].dropna()\n",
    "for i in range(long_window + 1, len(symbol_data) + 1):\n",
    "    short_sma, long_sma = calculate_sma_crossover(symbol_data[:i], short_window, long_window)\n",
    "\n",
    "    current_short = short_sma.iloc[-1]\n",
    "    current_long = long_sma.iloc[-1]\n",
    "    prev_short = short_sma.iloc[-2] if len(short_sma) > 1 else current_short\n",
    "    prev_long = long_sma.iloc[-2] if len(long_sma) > 1 else current_long\n",
    "    # print(current_short, current_long, prev_short, prev_long)\n",
    "    # Check for crossover\n",
    "    current_cross_up = current_short > current_long\n",
    "    prev_cross_up = prev_short > prev_long\n",
    "\n",
    "    if current_cross_up and not prev_cross_up:\n",
    "        # print(f\"Golden cross detected for {symbol_data.index[i]}: {current_short:.2f} > {current_long:.2f}\")\n",
    "        df.iloc[i-1, 2] = 'buy'\n",
    "    elif not current_cross_up and prev_cross_up:\n",
    "        df.iloc[i-1, 2] = 'sell'\n",
    "    else:\n",
    "        df.iloc[i-1, 2] = 'hold'\n",
    "\n",
    "df.dropna()"
   ]
  },
  {
   "cell_type": "code",
   "execution_count": 86,
   "id": "bea6ba15",
   "metadata": {},
   "outputs": [
    {
     "ename": "TypeError",
     "evalue": "SMACrossoverStrategy.__init__() got an unexpected keyword argument 'short_window'",
     "output_type": "error",
     "traceback": [
      "\u001b[31m---------------------------------------------------------------------------\u001b[39m",
      "\u001b[31mTypeError\u001b[39m                                 Traceback (most recent call last)",
      "\u001b[36mCell\u001b[39m\u001b[36m \u001b[39m\u001b[32mIn[86]\u001b[39m\u001b[32m, line 6\u001b[39m\n\u001b[32m      3\u001b[39m short_window = \u001b[32m20\u001b[39m\n\u001b[32m      4\u001b[39m long_window = \u001b[32m50\u001b[39m\n\u001b[32m----> \u001b[39m\u001b[32m6\u001b[39m s1 = \u001b[43mSMACrossoverStrategy\u001b[49m\u001b[43m(\u001b[49m\u001b[43mshort_window\u001b[49m\u001b[43m=\u001b[49m\u001b[43mshort_window\u001b[49m\u001b[43m,\u001b[49m\u001b[43m \u001b[49m\u001b[43mlong_window\u001b[49m\u001b[43m=\u001b[49m\u001b[43mlong_window\u001b[49m\u001b[43m)\u001b[49m\n\u001b[32m      7\u001b[39m \u001b[38;5;66;03m# for symbol in data.symbol.unique():\u001b[39;00m\n\u001b[32m      8\u001b[39m     \u001b[38;5;66;03m# if isinstance(symbol, str) and not symbol.endswith('_SMA'):\u001b[39;00m\n\u001b[32m      9\u001b[39m         \u001b[38;5;66;03m# Get historical price data for this symbol\u001b[39;00m\n\u001b[32m   (...)\u001b[39m\u001b[32m     16\u001b[39m \u001b[38;5;66;03m# else:\u001b[39;00m\n\u001b[32m     17\u001b[39m \u001b[38;5;66;03m#     signals[symbol] = 'hold'  # Not enough data\u001b[39;00m\n",
      "\u001b[31mTypeError\u001b[39m: SMACrossoverStrategy.__init__() got an unexpected keyword argument 'short_window'"
     ]
    }
   ],
   "source": [
    "# strategy\n",
    "# cross over sma\n",
    "short_window = 20\n",
    "long_window = 50\n",
    "\n",
    "s1 = SMACrossoverStrategy(short_window=short_window, long_window=long_window)\n",
    "# for symbol in data.symbol.unique():\n",
    "    # if isinstance(symbol, str) and not symbol.endswith('_SMA'):\n",
    "        # Get historical price data for this symbol\n",
    "# symbol_data = data[data.symbol==symbol]['close'].dropna()\n",
    "# # print(symbol_data, symbol)\n",
    "\n",
    "# if len(symbol_data) >= long_window:\n",
    "#     signal = generate_signal_for_symbol(symbol_data, symbol)\n",
    "#     signals[symbol] = signal\n",
    "# else:\n",
    "#     signals[symbol] = 'hold'  # Not enough data"
   ]
  },
  {
   "cell_type": "code",
   "execution_count": 50,
   "id": "92b541df",
   "metadata": {},
   "outputs": [
    {
     "name": "stdout",
     "output_type": "stream",
     "text": [
      "Bitstamp:BTCUSD\n"
     ]
    }
   ],
   "source": [
    "for symbol in data.symbol.unique():\n",
    "    print(symbol)\n",
    "\n",
    "\n",
    "\n",
    "\n",
    "\n",
    "\n",
    "\n",
    "\n"
   ]
  },
  {
   "cell_type": "markdown",
   "id": "0efefd76",
   "metadata": {},
   "source": [
    "# **Showing Results**"
   ]
  },
  {
   "cell_type": "code",
   "execution_count": 11,
   "id": "dd952ed1",
   "metadata": {},
   "outputs": [
    {
     "name": "stdout",
     "output_type": "stream",
     "text": [
      "\n",
      "=== CHI TIẾT TRADES (6 trades) ===\n",
      "            Symbol  Side  Quantity     Price           Timestamp  Commission  \\\n",
      "0  Bitstamp:BTCUSD   buy  0.167583  119344.0 2025-07-22 23:00:00   20.000000   \n",
      "1  Bitstamp:BTCUSD  sell  0.167583  115400.0 2025-07-25 07:00:00   19.339053   \n",
      "2  Bitstamp:BTCUSD   buy  0.167959  118243.0 2025-07-27 07:00:00   19.859943   \n",
      "3  Bitstamp:BTCUSD  sell  0.167959  118144.0 2025-07-30 07:00:00   19.843315   \n",
      "4  Bitstamp:BTCUSD   buy  0.167797  118290.0 2025-07-31 19:00:00   19.848677   \n",
      "5  Bitstamp:BTCUSD  sell  0.167797  116767.0 2025-07-31 23:00:00   19.593122   \n",
      "\n",
      "        Strategy  \n",
      "0  sma_crossover  \n",
      "1  sma_crossover  \n",
      "2  sma_crossover  \n",
      "3  sma_crossover  \n",
      "4  sma_crossover  \n",
      "5  sma_crossover  \n",
      "\n",
      "=== TRADE STATISTICS ===\n",
      "Total Trades: 6\n",
      "Buy Trades: 3\n",
      "Sell Trades: 3\n",
      "Average Trade Size: 0.17\n",
      "Total Commission: $118.48\n"
     ]
    }
   ],
   "source": [
    "# Cell 8: Hiển thị chi tiết trades\n",
    "if hasattr(engine, 'trades') and engine.trades:\n",
    "    print(f\"\\n=== CHI TIẾT TRADES ({len(engine.trades)} trades) ===\")\n",
    "    \n",
    "    trades_df = pd.DataFrame([\n",
    "        {\n",
    "            'Symbol': trade.symbol,\n",
    "            'Side': trade.side,\n",
    "            'Quantity': trade.quantity,\n",
    "            'Price': trade.price,\n",
    "            'Timestamp': trade.timestamp,\n",
    "            'Commission': trade.commission,\n",
    "            'Strategy': trade.strategy\n",
    "        }\n",
    "        for trade in engine.trades\n",
    "    ])\n",
    "    \n",
    "    print(trades_df.head(10))\n",
    "    \n",
    "    # Trade statistics\n",
    "    print(f\"\\n=== TRADE STATISTICS ===\")\n",
    "    print(f\"Total Trades: {len(engine.trades)}\")\n",
    "    print(f\"Buy Trades: {len(trades_df[trades_df['Side'] == 'buy'])}\")\n",
    "    print(f\"Sell Trades: {len(trades_df[trades_df['Side'] == 'sell'])}\")\n",
    "    print(f\"Average Trade Size: {trades_df['Quantity'].mean():.2f}\")\n",
    "    print(f\"Total Commission: ${trades_df['Commission'].sum():.2f}\")\n",
    "else:\n",
    "    print(\"Không có trades nào được thực hiện\")"
   ]
  },
  {
   "cell_type": "code",
   "execution_count": 31,
   "id": "85bdd3ab",
   "metadata": {},
   "outputs": [
    {
     "ename": "NameError",
     "evalue": "name 'engine' is not defined",
     "output_type": "error",
     "traceback": [
      "\u001b[31m---------------------------------------------------------------------------\u001b[39m",
      "\u001b[31mNameError\u001b[39m                                 Traceback (most recent call last)",
      "\u001b[36mCell\u001b[39m\u001b[36m \u001b[39m\u001b[32mIn[31]\u001b[39m\u001b[32m, line 2\u001b[39m\n\u001b[32m      1\u001b[39m \u001b[38;5;66;03m# Cell 6: Lấy kết quả backtest\u001b[39;00m\n\u001b[32m----> \u001b[39m\u001b[32m2\u001b[39m portfolio_summary = \u001b[43mengine\u001b[49m.get_portfolio_summary()\n\u001b[32m      4\u001b[39m \u001b[38;5;28mprint\u001b[39m(\u001b[33m\"\u001b[39m\u001b[33m=== KẾT QUẢ BACKTEST ===\u001b[39m\u001b[33m\"\u001b[39m)\n\u001b[32m      5\u001b[39m \u001b[38;5;28mprint\u001b[39m(\u001b[33mf\u001b[39m\u001b[33m\"\u001b[39m\u001b[33mInitial Capital: $\u001b[39m\u001b[38;5;132;01m{\u001b[39;00mportfolio_summary[\u001b[33m'\u001b[39m\u001b[33minitial_capital\u001b[39m\u001b[33m'\u001b[39m]\u001b[38;5;132;01m:\u001b[39;00m\u001b[33m,.2f\u001b[39m\u001b[38;5;132;01m}\u001b[39;00m\u001b[33m\"\u001b[39m)\n",
      "\u001b[31mNameError\u001b[39m: name 'engine' is not defined"
     ]
    }
   ],
   "source": [
    "# Cell 6: Lấy kết quả backtest\n",
    "portfolio_summary = engine.get_portfolio_summary()\n",
    "\n",
    "print(\"=== KẾT QUẢ BACKTEST ===\")\n",
    "print(f\"Initial Capital: ${portfolio_summary['initial_capital']:,.2f}\")\n",
    "print(f\"Final Portfolio Value: ${portfolio_summary['total_value']:,.2f}\")\n",
    "print(f\"Total Return: {portfolio_summary['total_return']:.2%}\")\n",
    "print(f\"Annualized Return: {portfolio_summary['annualized_return']:.2%}\")\n",
    "print(f\"Sharpe Ratio: {portfolio_summary['sharpe_ratio']:.2f}\")\n",
    "print(f\"Max Drawdown: {portfolio_summary['max_drawdown']:.2%}\")\n",
    "print(f\"Win Rate: {portfolio_summary['win_rate']:.2%}\")\n",
    "print(f\"Total Trades: {portfolio_summary['total_trades']}\")\n",
    "\n",
    "# Cell 7: Visualize portfolio performance\n",
    "def plot_portfolio_performance(engine):\n",
    "    \"\"\"Plot portfolio performance\"\"\"\n",
    "    portfolio_history = engine.portfolio_history\n",
    "    \n",
    "    if not portfolio_history:\n",
    "        print(\"Không có dữ liệu portfolio history\")\n",
    "        return\n",
    "    \n",
    "    df = pd.DataFrame(portfolio_history)\n",
    "    df['date'] = pd.to_datetime(df['date'])\n",
    "    df.set_index('date', inplace=True)\n",
    "    \n",
    "    # Create subplots\n",
    "    fig = make_subplots(\n",
    "        rows=3, cols=2,\n",
    "        subplot_titles=('Portfolio Value', 'Daily Returns', 'Cumulative Returns', \n",
    "                       'Drawdown', 'Cash vs Positions', 'Trade Distribution'),\n",
    "        specs=[[{\"secondary_y\": False}, {\"secondary_y\": False}],\n",
    "               [{\"secondary_y\": False}, {\"secondary_y\": False}],\n",
    "               [{\"secondary_y\": False}, {\"secondary_y\": False}]]\n",
    "    )\n",
    "    \n",
    "    # Portfolio Value\n",
    "    fig.add_trace(\n",
    "        go.Scatter(x=df.index, y=df['total_value'], \n",
    "                  mode='lines', name='Portfolio Value'),\n",
    "        row=1, col=1\n",
    "    )\n",
    "    \n",
    "    # Daily Returns\n",
    "    daily_returns = df['total_value'].pct_change()\n",
    "    fig.add_trace(\n",
    "        go.Scatter(x=df.index, y=daily_returns, \n",
    "                  mode='lines', name='Daily Returns'),\n",
    "        row=1, col=2\n",
    "    )\n",
    "    \n",
    "    # Cumulative Returns\n",
    "    cumulative_returns = (1 + daily_returns).cumprod()\n",
    "    fig.add_trace(\n",
    "        go.Scatter(x=df.index, y=cumulative_returns, \n",
    "                  mode='lines', name='Cumulative Returns'),\n",
    "        row=2, col=1\n",
    "    )\n",
    "    \n",
    "    # Drawdown\n",
    "    running_max = df['total_value'].expanding().max()\n",
    "    drawdown = (df['total_value'] - running_max) / running_max\n",
    "    fig.add_trace(\n",
    "        go.Scatter(x=df.index, y=drawdown, \n",
    "                  mode='lines', name='Drawdown', fill='tonexty'),\n",
    "        row=2, col=2\n",
    "    )\n",
    "    \n",
    "    # Cash vs Positions\n",
    "    fig.add_trace(\n",
    "        go.Scatter(x=df.index, y=df['cash'], \n",
    "                  mode='lines', name='Cash'),\n",
    "        row=3, col=1\n",
    "    )\n",
    "    fig.add_trace(\n",
    "        go.Scatter(x=df.index, y=df['total_value'] - df['cash'], \n",
    "                  mode='lines', name='Positions'),\n",
    "        row=3, col=1\n",
    "    )\n",
    "    \n",
    "    # Trade Distribution (if available)\n",
    "    if hasattr(engine, 'trades') and engine.trades:\n",
    "        trade_returns = [trade.pnl for trade in engine.trades]\n",
    "        fig.add_trace(\n",
    "            go.Histogram(x=trade_returns, name='Trade Returns'),\n",
    "            row=3, col=2\n",
    "        )\n",
    "    \n",
    "    fig.update_layout(height=900, title_text=\"Portfolio Performance Analysis\")\n",
    "    fig.show()\n",
    "\n",
    "# Chạy visualization\n",
    "plot_portfolio_performance(engine)"
   ]
  },
  {
   "cell_type": "code",
   "execution_count": 13,
   "id": "dfe46d35",
   "metadata": {},
   "outputs": [
    {
     "data": {
      "application/vnd.plotly.v1+json": {
       "config": {
        "plotlyServerURL": "https://plot.ly"
       },
       "data": [
        {
         "close": {
          "bdata": "AAAAACAg/UAAAAAA4Pv8QAAAAAAQ2vxAAAAAAMDm/EAAAAAAwNH8QAAAAAAACf1AAAAAAPAN/UAAAAAAsB79QAAAAACgX/1AAAAAAIAp/UAAAAAAgB39QAAAAABQy/xAAAAAAFCs/EAAAAAAYND8QAAAAADA6PxAAAAAAEDf/EAAAAAAkOf8QAAAAABQ1vxAAAAAAKDT/EAAAAAAwMn8QAAAAADA0fxAAAAAAJDU/EAAAAAAIMv8QAAAAABw/PxAAAAAAIDe/EAAAAAAsKX8QAAAAABQ6/xAAAAAAMAl/UAAAAAAINb8QAAAAAAQ5/xAAAAAACCE/EAAAAAA0Kv8QAAAAAAgoPxAAAAAADDR/EAAAAAAoBv9QAAAAAAwC/1AAAAAAAAj/UAAAAAAsEz9QAAAAAAw+fxAAAAAAODo/EAAAAAAAPT8QAAAAACA9/xAAAAAAPDo/EAAAAAA0AH9QAAAAABg8vxAAAAAAADt/EAAAAAAcPj8QAAAAAAQF/1AAAAAAEAP/UAAAAAAsOT8QAAAAACALPxAAAAAABAo/EAAAAAAIHL8QAAAAAAQQvxAAAAAABCD/EAAAAAAULn8QAAAAADwsfxAAAAAAICn/EAAAAAAYMX8QAAAAABw2fxAAAAAAEDg/EAAAAAAoMz8QAAAAAAw3vxAAAAAAEDZ/EAAAAAAgNf8QAAAAAAg9vxAAAAAAAAO/UAAAAAA0Cr9QAAAAABAIP1AAAAAAGAH/UAAAAAAQAP9QAAAAABw2fxAAAAAABDT/EAAAAAAMNL8QAAAAADw/PxAAAAAACAH/UAAAAAAUPP8QAAAAABQqfxAAAAAAJCu/EAAAAAAYMr8QAAAAAAA2PxAAAAAABDW/EAAAAAAULP8QAAAAAAAzvxAAAAAAECM/EAAAAAAoMT8QAAAAABw6vxAAAAAACD5/EAAAAAAsOT8QAAAAAAg4fxAAAAAAPCB/EAAAAAAYEL8QAAAAACwO/xAAAAAAHAX/EAAAAAAcCP8QAAAAACAJ/xAAAAAANCm+0AAAAAAsKX7QAAAAAAAzPtAAAAAAKDS+0A=",
          "dtype": "f8"
         },
         "high": {
          "bdata": "AAAAAEBL/UAAAAAAYFH9QAAAAACgGv1AAAAAAGAC/UAAAAAAwBz9QAAAAABAFf1AAAAAACBI/UAAAAAAgIr9QAAAAAAggf1AAAAAAECE/UAAAAAAgDD9QAAAAADwMP1AAAAAAJDW/EAAAAAAYNT8QAAAAABg6/xAAAAAAIDq/EAAAAAAkPH8QAAAAADA5/xAAAAAAFDc/EAAAAAAkNr8QAAAAAAw3PxAAAAAAADf/EAAAAAAcOP8QAAAAACQAv1AAAAAAAAH/UAAAAAAwOL8QAAAAACw+PxAAAAAACA4/UAAAAAA0C79QAAAAAAgH/1AAAAAAKDq/EAAAAAAkLv8QAAAAABQzfxAAAAAABD2/EAAAAAAUB39QAAAAACgNP1AAAAAAHBb/UAAAAAAkF79QAAAAABQVv1AAAAAAPAP/UAAAAAAoPn8QAAAAAAQ/vxAAAAAAHD3/EAAAAAA8AH9QAAAAADgIP1AAAAAAID3/EAAAAAAMAX9QAAAAABQLv1AAAAAAOAp/UAAAAAAQBL9QAAAAADQ7vxAAAAAACBb/EAAAAAAAIT8QAAAAABAevxAAAAAAOCU/EAAAAAAcLn8QAAAAADgwPxAAAAAABC2/EAAAAAAwN38QAAAAADg3/xAAAAAAEDk/EAAAAAAgOL8QAAAAADQ5/xAAAAAAPDs/EAAAAAAcOP8QAAAAADA9vxAAAAAALAx/UAAAAAAYD/9QAAAAAAgQf1AAAAAACA5/UAAAAAAEBX9QAAAAACAE/1AAAAAAKDm/EAAAAAAcOP8QAAAAADg//xAAAAAADAe/UAAAAAAABH9QAAAAADQEP1AAAAAAKDQ/EAAAAAAYMz8QAAAAAAQ3vxAAAAAAPDm/EAAAAAAYOv8QAAAAABw//xAAAAAACDR/EAAAAAAwMj8QAAAAABg8/xAAAAAAIAH/UAAAAAA4P38QAAAAADg9/xAAAAAADAF/UAAAAAAcI78QAAAAABgVfxAAAAAAKBK/EAAAAAAgCf8QAAAAADwUPxAAAAAADA9/EAAAAAAQNb7QAAAAAAAzPtAAAAAAIDV+0A=",
          "dtype": "f8"
         },
         "low": {
          "bdata": "AAAAAEDw/EAAAAAAMO38QAAAAAAgv/xAAAAAAIDJ/EAAAAAA0ND8QAAAAAAgsPxAAAAAAIDq/EAAAAAAEO78QAAAAABAFv1AAAAAAJAm/UAAAAAAsOz8QAAAAAAQqfxAAAAAAKCe/EAAAAAAMIv8QAAAAADgvPxAAAAAANDY/EAAAAAAsNH8QAAAAABwvfxAAAAAAPC4/EAAAAAAgKb8QAAAAABgvvxAAAAAAFDF/EAAAAAA8Mf8QAAAAADAwfxAAAAAANDQ/EAAAAAAcHT8QAAAAAAgd/xAAAAAABDd/EAAAAAAINb8QAAAAABwxPxAAAAAAPB+/EAAAAAAYH78QAAAAACgXfxAAAAAAKB4/EAAAAAAwLL8QAAAAACgt/xAAAAAADDt/EAAAAAAQB39QAAAAAAg9fxAAAAAAIDl/EAAAAAAwMj8QAAAAAAAqPxAAAAAAJCp/EAAAAAAoKz8QAAAAACw8fxAAAAAABCd/EAAAAAAsNH8QAAAAADAyfxAAAAAAIDq/EAAAAAAEN78QAAAAACQKvxAAAAAAGD1+0AAAAAAUBH8QAAAAACgDvxAAAAAAHAx/EAAAAAAoHj8QAAAAADAnPxAAAAAAHCn/EAAAAAA8Kf8QAAAAABwxPxAAAAAABDP/EAAAAAAgMv8QAAAAAAAyPxAAAAAAODX/EAAAAAAwMn8QAAAAABgzPxAAAAAACD2/EAAAAAA8P/8QAAAAAAgDv1AAAAAAPD//EAAAAAAIO78QAAAAADAyPxAAAAAAICp/EAAAAAA8K/8QAAAAACArfxAAAAAAKDp/EAAAAAAoNr8QAAAAABgn/xAAAAAAACM/EAAAAAAsJP8QAAAAADQqvxAAAAAAJC7/EAAAAAAMKj8QAAAAABQp/xAAAAAAIBE/EAAAAAAwIj8QAAAAAAQwfxAAAAAAMDg/EAAAAAA4OD8QAAAAAAww/xAAAAAADCA/EAAAAAAgDP8QAAAAAAg6ftAAAAAAND7+0AAAAAAQNz7QAAAAADAzvtAAAAAAHCh+0AAAAAAgIL7QAAAAADgn/tAAAAAAHCy+0A=",
          "dtype": "f8"
         },
         "open": {
          "bdata": "AAAAAPAV/UAAAAAA8B/9QAAAAABA+vxAAAAAABDa/EAAAAAAwOb8QAAAAADA0fxAAAAAAPAI/UAAAAAAABD9QAAAAACwHv1AAAAAAKBf/UAAAAAAcCn9QAAAAABwHf1AAAAAANDJ/EAAAAAAcKz8QAAAAABw0PxAAAAAAMDo/EAAAAAAMN/8QAAAAACQ5/xAAAAAAFDW/EAAAAAAkNP8QAAAAADQyfxAAAAAAMDR/EAAAAAAkNT8QAAAAADwyvxAAAAAAKD9/EAAAAAAoNz8QAAAAABAnvxAAAAAACDr/EAAAAAAwCX9QAAAAAAw1vxAAAAAABDn/EAAAAAAMIT8QAAAAADQq/xAAAAAACCg/EAAAAAA4M/8QAAAAACQG/1AAAAAAGAL/UAAAAAAkCP9QAAAAACwTP1AAAAAAED5/EAAAAAA4Of8QAAAAAAA9PxAAAAAAHD3/EAAAAAAoOv8QAAAAACwAP1AAAAAAODz/EAAAAAAYOz8QAAAAACg9vxAAAAAABAX/UAAAAAAEA/9QAAAAAAA6PxAAAAAAIAs/EAAAAAA8Cf8QAAAAABAcvxAAAAAAABC/EAAAAAAEIP8QAAAAABAufxAAAAAAOCx/EAAAAAA8Kf8QAAAAABgxfxAAAAAAHDZ/EAAAAAAQOD8QAAAAADwzfxAAAAAAJDe/EAAAAAAQNn8QAAAAABw1/xAAAAAACD2/EAAAAAAIA39QAAAAACgLf1AAAAAAJAg/UAAAAAAUAf9QAAAAABAA/1AAAAAADDZ/EAAAAAAENP8QAAAAABA0/xAAAAAAID9/EAAAAAAwAb9QAAAAABg8/xAAAAAAECp/EAAAAAA4K78QAAAAABgyvxAAAAAACDZ/EAAAAAAENb8QAAAAACAs/xAAAAAAADO/EAAAAAAcIn8QAAAAACQxPxAAAAAAHDr/EAAAAAAMPn8QAAAAACg5PxAAAAAACDh/EAAAAAAgIH8QAAAAABQQvxAAAAAAGA7/EAAAAAA8Bb8QAAAAADAI/xAAAAAAIAn/EAAAAAAwKb7QAAAAACwpftAAAAAAADM+0A=",
          "dtype": "f8"
         },
         "type": "candlestick",
         "x": [
          "2025-07-16T23:00:00.000000000",
          "2025-07-17T03:00:00.000000000",
          "2025-07-17T07:00:00.000000000",
          "2025-07-17T11:00:00.000000000",
          "2025-07-17T15:00:00.000000000",
          "2025-07-17T19:00:00.000000000",
          "2025-07-17T23:00:00.000000000",
          "2025-07-18T03:00:00.000000000",
          "2025-07-18T07:00:00.000000000",
          "2025-07-18T11:00:00.000000000",
          "2025-07-18T15:00:00.000000000",
          "2025-07-18T19:00:00.000000000",
          "2025-07-18T23:00:00.000000000",
          "2025-07-19T03:00:00.000000000",
          "2025-07-19T07:00:00.000000000",
          "2025-07-19T11:00:00.000000000",
          "2025-07-19T15:00:00.000000000",
          "2025-07-19T19:00:00.000000000",
          "2025-07-19T23:00:00.000000000",
          "2025-07-20T03:00:00.000000000",
          "2025-07-20T07:00:00.000000000",
          "2025-07-20T11:00:00.000000000",
          "2025-07-20T15:00:00.000000000",
          "2025-07-20T19:00:00.000000000",
          "2025-07-20T23:00:00.000000000",
          "2025-07-21T03:00:00.000000000",
          "2025-07-21T07:00:00.000000000",
          "2025-07-21T11:00:00.000000000",
          "2025-07-21T15:00:00.000000000",
          "2025-07-21T19:00:00.000000000",
          "2025-07-21T23:00:00.000000000",
          "2025-07-22T03:00:00.000000000",
          "2025-07-22T07:00:00.000000000",
          "2025-07-22T11:00:00.000000000",
          "2025-07-22T15:00:00.000000000",
          "2025-07-22T19:00:00.000000000",
          "2025-07-22T23:00:00.000000000",
          "2025-07-23T03:00:00.000000000",
          "2025-07-23T07:00:00.000000000",
          "2025-07-23T11:00:00.000000000",
          "2025-07-23T15:00:00.000000000",
          "2025-07-23T19:00:00.000000000",
          "2025-07-23T23:00:00.000000000",
          "2025-07-24T03:00:00.000000000",
          "2025-07-24T07:00:00.000000000",
          "2025-07-24T11:00:00.000000000",
          "2025-07-24T15:00:00.000000000",
          "2025-07-24T19:00:00.000000000",
          "2025-07-24T23:00:00.000000000",
          "2025-07-25T03:00:00.000000000",
          "2025-07-25T07:00:00.000000000",
          "2025-07-25T11:00:00.000000000",
          "2025-07-25T15:00:00.000000000",
          "2025-07-25T19:00:00.000000000",
          "2025-07-25T23:00:00.000000000",
          "2025-07-26T03:00:00.000000000",
          "2025-07-26T07:00:00.000000000",
          "2025-07-26T11:00:00.000000000",
          "2025-07-26T15:00:00.000000000",
          "2025-07-26T19:00:00.000000000",
          "2025-07-26T23:00:00.000000000",
          "2025-07-27T03:00:00.000000000",
          "2025-07-27T07:00:00.000000000",
          "2025-07-27T11:00:00.000000000",
          "2025-07-27T15:00:00.000000000",
          "2025-07-27T19:00:00.000000000",
          "2025-07-27T23:00:00.000000000",
          "2025-07-28T03:00:00.000000000",
          "2025-07-28T07:00:00.000000000",
          "2025-07-28T11:00:00.000000000",
          "2025-07-28T15:00:00.000000000",
          "2025-07-28T19:00:00.000000000",
          "2025-07-28T23:00:00.000000000",
          "2025-07-29T03:00:00.000000000",
          "2025-07-29T07:00:00.000000000",
          "2025-07-29T11:00:00.000000000",
          "2025-07-29T15:00:00.000000000",
          "2025-07-29T19:00:00.000000000",
          "2025-07-29T23:00:00.000000000",
          "2025-07-30T03:00:00.000000000",
          "2025-07-30T07:00:00.000000000",
          "2025-07-30T11:00:00.000000000",
          "2025-07-30T15:00:00.000000000",
          "2025-07-30T19:00:00.000000000",
          "2025-07-30T23:00:00.000000000",
          "2025-07-31T03:00:00.000000000",
          "2025-07-31T07:00:00.000000000",
          "2025-07-31T11:00:00.000000000",
          "2025-07-31T15:00:00.000000000",
          "2025-07-31T19:00:00.000000000",
          "2025-07-31T23:00:00.000000000",
          "2025-08-01T03:00:00.000000000",
          "2025-08-01T07:00:00.000000000",
          "2025-08-01T11:00:00.000000000",
          "2025-08-01T15:00:00.000000000",
          "2025-08-01T19:00:00.000000000",
          "2025-08-01T23:00:00.000000000",
          "2025-08-02T03:00:00.000000000",
          "2025-08-02T07:00:00.000000000",
          "2025-08-02T11:00:00.000000000"
         ],
         "xaxis": "x",
         "yaxis": "y"
        },
        {
         "marker": {
          "color": "green",
          "size": 12,
          "symbol": "triangle-up"
         },
         "mode": "markers+text",
         "name": "Buy",
         "text": [
          "Buy",
          "Buy",
          "Buy"
         ],
         "textposition": "bottom center",
         "type": "scatter",
         "x": [
          "2025-07-22T23:00:00.000000000",
          "2025-07-27T07:00:00.000000000",
          "2025-07-31T19:00:00.000000000"
         ],
         "xaxis": "x",
         "y": {
          "bdata": "gZVDi2De/EAlBoGVQ7n8QF66SQx2tPxA",
          "dtype": "f8"
         },
         "yaxis": "y"
        },
        {
         "marker": {
          "color": "red",
          "size": 12,
          "symbol": "triangle-down"
         },
         "mode": "markers+text",
         "name": "Sell",
         "text": [
          "Sell",
          "Sell",
          "Sell"
         ],
         "textposition": "top center",
         "type": "scatter",
         "x": [
          "2025-07-25T07:00:00.000000000",
          "2025-07-30T07:00:00.000000000",
          "2025-07-31T23:00:00.000000000"
         ],
         "xaxis": "x",
         "y": {
          "bdata": "NV66SaD9/EDLoUW21+z8QLTIdr4LFP1A",
          "dtype": "f8"
         },
         "yaxis": "y"
        },
        {
         "type": "bar",
         "x": [
          "2025-07-16T23:00:00.000000000",
          "2025-07-17T03:00:00.000000000",
          "2025-07-17T07:00:00.000000000",
          "2025-07-17T11:00:00.000000000",
          "2025-07-17T15:00:00.000000000",
          "2025-07-17T19:00:00.000000000",
          "2025-07-17T23:00:00.000000000",
          "2025-07-18T03:00:00.000000000",
          "2025-07-18T07:00:00.000000000",
          "2025-07-18T11:00:00.000000000",
          "2025-07-18T15:00:00.000000000",
          "2025-07-18T19:00:00.000000000",
          "2025-07-18T23:00:00.000000000",
          "2025-07-19T03:00:00.000000000",
          "2025-07-19T07:00:00.000000000",
          "2025-07-19T11:00:00.000000000",
          "2025-07-19T15:00:00.000000000",
          "2025-07-19T19:00:00.000000000",
          "2025-07-19T23:00:00.000000000",
          "2025-07-20T03:00:00.000000000",
          "2025-07-20T07:00:00.000000000",
          "2025-07-20T11:00:00.000000000",
          "2025-07-20T15:00:00.000000000",
          "2025-07-20T19:00:00.000000000",
          "2025-07-20T23:00:00.000000000",
          "2025-07-21T03:00:00.000000000",
          "2025-07-21T07:00:00.000000000",
          "2025-07-21T11:00:00.000000000",
          "2025-07-21T15:00:00.000000000",
          "2025-07-21T19:00:00.000000000",
          "2025-07-21T23:00:00.000000000",
          "2025-07-22T03:00:00.000000000",
          "2025-07-22T07:00:00.000000000",
          "2025-07-22T11:00:00.000000000",
          "2025-07-22T15:00:00.000000000",
          "2025-07-22T19:00:00.000000000",
          "2025-07-22T23:00:00.000000000",
          "2025-07-23T03:00:00.000000000",
          "2025-07-23T07:00:00.000000000",
          "2025-07-23T11:00:00.000000000",
          "2025-07-23T15:00:00.000000000",
          "2025-07-23T19:00:00.000000000",
          "2025-07-23T23:00:00.000000000",
          "2025-07-24T03:00:00.000000000",
          "2025-07-24T07:00:00.000000000",
          "2025-07-24T11:00:00.000000000",
          "2025-07-24T15:00:00.000000000",
          "2025-07-24T19:00:00.000000000",
          "2025-07-24T23:00:00.000000000",
          "2025-07-25T03:00:00.000000000",
          "2025-07-25T07:00:00.000000000",
          "2025-07-25T11:00:00.000000000",
          "2025-07-25T15:00:00.000000000",
          "2025-07-25T19:00:00.000000000",
          "2025-07-25T23:00:00.000000000",
          "2025-07-26T03:00:00.000000000",
          "2025-07-26T07:00:00.000000000",
          "2025-07-26T11:00:00.000000000",
          "2025-07-26T15:00:00.000000000",
          "2025-07-26T19:00:00.000000000",
          "2025-07-26T23:00:00.000000000",
          "2025-07-27T03:00:00.000000000",
          "2025-07-27T07:00:00.000000000",
          "2025-07-27T11:00:00.000000000",
          "2025-07-27T15:00:00.000000000",
          "2025-07-27T19:00:00.000000000",
          "2025-07-27T23:00:00.000000000",
          "2025-07-28T03:00:00.000000000",
          "2025-07-28T07:00:00.000000000",
          "2025-07-28T11:00:00.000000000",
          "2025-07-28T15:00:00.000000000",
          "2025-07-28T19:00:00.000000000",
          "2025-07-28T23:00:00.000000000",
          "2025-07-29T03:00:00.000000000",
          "2025-07-29T07:00:00.000000000",
          "2025-07-29T11:00:00.000000000",
          "2025-07-29T15:00:00.000000000",
          "2025-07-29T19:00:00.000000000",
          "2025-07-29T23:00:00.000000000",
          "2025-07-30T03:00:00.000000000",
          "2025-07-30T07:00:00.000000000",
          "2025-07-30T11:00:00.000000000",
          "2025-07-30T15:00:00.000000000",
          "2025-07-30T19:00:00.000000000",
          "2025-07-30T23:00:00.000000000",
          "2025-07-31T03:00:00.000000000",
          "2025-07-31T07:00:00.000000000",
          "2025-07-31T11:00:00.000000000",
          "2025-07-31T15:00:00.000000000",
          "2025-07-31T19:00:00.000000000",
          "2025-07-31T23:00:00.000000000",
          "2025-08-01T03:00:00.000000000",
          "2025-08-01T07:00:00.000000000",
          "2025-08-01T11:00:00.000000000",
          "2025-08-01T15:00:00.000000000",
          "2025-08-01T19:00:00.000000000",
          "2025-08-01T23:00:00.000000000",
          "2025-08-02T03:00:00.000000000",
          "2025-08-02T07:00:00.000000000",
          "2025-08-02T11:00:00.000000000"
         ],
         "xaxis": "x2",
         "y": {
          "bdata": "YrqU4yMEckBCPZ4SR5htQNYFF4aDXmVAlD+MzgE5X0AjSRCuAEZpQGaOvN4TWXVAqwcOYDiwfEAWa/rkX8N0QJw2gAoptGtA4PQN0KZfZkBNiuoI+2ptQMJe9iV6xoBAfp4OfQocfEDTFrbqQ1FpQC5t/oCDFlRAfg9mLP3kSECD/OirlqRQQAE2e/sOZ1dAHB38aUhRXkCHNnziK+pVQNbdIzjBKVdAWjubn6yPR0DvjWMcCjlTQO82FOMhglpApCrYDJGLVkB3Hg2OL0ppQK0QmH+7J2VAQheBbyIjYkCpjSQgqv5iQJ14lGvWS3dA3YFTghJXd0ANRIEEZoFeQP2fBZnrzW9A6mNXvZAAa0D6Yu/FNytmQGG6WjhaSW9AYXf0nq47b0BVZzn5IsRiQBZwS7uDI1lABFTdyGGAU0A0De0QfYdWQNUW6CRFEHBA4WeW4/nkckBSwRuxOgdjQHAphGGCGmBAICsyGTJbZUCFKamXSEFbQLT7XfEXdm9AoEe1HW3Wa0APFmdvnYpoQC+N/E3yN5VABBEUBZudmECbGaKvOUyVQF+NHoUkhYRAZaeC/pBIfUD9U0caHgpuQF99+tcLTmRAveinD48gSkCNYMLszvBgQAV140B80l1AGmzqPCp9TECF9iSPq/xWQEunXH6zo1RA1jwFyOnERUAWP3xPm9dRQDgvb4res1hAQj4q9j4qZkDoZXf1qH5aQCvxRgcA0mJAsoeThwfNXkA63Jq2N7BQQOefKvAvEHVAuNgf7otHbUBe1qP0tdJiQPdwj8a9aWBAc8wmfhTeUkDgc9SPVYpWQCHXXQvwKnFA2jLHjyTKdEA5DrxaHhFwQG4BmYToDFtAD6ejTsYaVECUf7HnAAdfQFXDuPrlC3BA4dn1PbCBeECiYhiHpYNUQIQpb+ye8WBAgKnRcRYJVEAmUyaxexdSQKj+pE5uN3NA1/+1k/M3bkDU+zouEi5nQFptF/0V93VARb90YqjkYkDNvVURzfZxQCk/6xK0DYVAsZ3WCkb6gEBInF/ebSx0QIuj9kv5fWBAtsHkoepdYEA=",
          "dtype": "f8"
         },
         "yaxis": "y2"
        }
       ],
       "layout": {
        "height": 800,
        "template": {
         "data": {
          "bar": [
           {
            "error_x": {
             "color": "#2a3f5f"
            },
            "error_y": {
             "color": "#2a3f5f"
            },
            "marker": {
             "line": {
              "color": "#E5ECF6",
              "width": 0.5
             },
             "pattern": {
              "fillmode": "overlay",
              "size": 10,
              "solidity": 0.2
             }
            },
            "type": "bar"
           }
          ],
          "barpolar": [
           {
            "marker": {
             "line": {
              "color": "#E5ECF6",
              "width": 0.5
             },
             "pattern": {
              "fillmode": "overlay",
              "size": 10,
              "solidity": 0.2
             }
            },
            "type": "barpolar"
           }
          ],
          "carpet": [
           {
            "aaxis": {
             "endlinecolor": "#2a3f5f",
             "gridcolor": "white",
             "linecolor": "white",
             "minorgridcolor": "white",
             "startlinecolor": "#2a3f5f"
            },
            "baxis": {
             "endlinecolor": "#2a3f5f",
             "gridcolor": "white",
             "linecolor": "white",
             "minorgridcolor": "white",
             "startlinecolor": "#2a3f5f"
            },
            "type": "carpet"
           }
          ],
          "choropleth": [
           {
            "colorbar": {
             "outlinewidth": 0,
             "ticks": ""
            },
            "type": "choropleth"
           }
          ],
          "contour": [
           {
            "colorbar": {
             "outlinewidth": 0,
             "ticks": ""
            },
            "colorscale": [
             [
              0,
              "#0d0887"
             ],
             [
              0.1111111111111111,
              "#46039f"
             ],
             [
              0.2222222222222222,
              "#7201a8"
             ],
             [
              0.3333333333333333,
              "#9c179e"
             ],
             [
              0.4444444444444444,
              "#bd3786"
             ],
             [
              0.5555555555555556,
              "#d8576b"
             ],
             [
              0.6666666666666666,
              "#ed7953"
             ],
             [
              0.7777777777777778,
              "#fb9f3a"
             ],
             [
              0.8888888888888888,
              "#fdca26"
             ],
             [
              1,
              "#f0f921"
             ]
            ],
            "type": "contour"
           }
          ],
          "contourcarpet": [
           {
            "colorbar": {
             "outlinewidth": 0,
             "ticks": ""
            },
            "type": "contourcarpet"
           }
          ],
          "heatmap": [
           {
            "colorbar": {
             "outlinewidth": 0,
             "ticks": ""
            },
            "colorscale": [
             [
              0,
              "#0d0887"
             ],
             [
              0.1111111111111111,
              "#46039f"
             ],
             [
              0.2222222222222222,
              "#7201a8"
             ],
             [
              0.3333333333333333,
              "#9c179e"
             ],
             [
              0.4444444444444444,
              "#bd3786"
             ],
             [
              0.5555555555555556,
              "#d8576b"
             ],
             [
              0.6666666666666666,
              "#ed7953"
             ],
             [
              0.7777777777777778,
              "#fb9f3a"
             ],
             [
              0.8888888888888888,
              "#fdca26"
             ],
             [
              1,
              "#f0f921"
             ]
            ],
            "type": "heatmap"
           }
          ],
          "histogram": [
           {
            "marker": {
             "pattern": {
              "fillmode": "overlay",
              "size": 10,
              "solidity": 0.2
             }
            },
            "type": "histogram"
           }
          ],
          "histogram2d": [
           {
            "colorbar": {
             "outlinewidth": 0,
             "ticks": ""
            },
            "colorscale": [
             [
              0,
              "#0d0887"
             ],
             [
              0.1111111111111111,
              "#46039f"
             ],
             [
              0.2222222222222222,
              "#7201a8"
             ],
             [
              0.3333333333333333,
              "#9c179e"
             ],
             [
              0.4444444444444444,
              "#bd3786"
             ],
             [
              0.5555555555555556,
              "#d8576b"
             ],
             [
              0.6666666666666666,
              "#ed7953"
             ],
             [
              0.7777777777777778,
              "#fb9f3a"
             ],
             [
              0.8888888888888888,
              "#fdca26"
             ],
             [
              1,
              "#f0f921"
             ]
            ],
            "type": "histogram2d"
           }
          ],
          "histogram2dcontour": [
           {
            "colorbar": {
             "outlinewidth": 0,
             "ticks": ""
            },
            "colorscale": [
             [
              0,
              "#0d0887"
             ],
             [
              0.1111111111111111,
              "#46039f"
             ],
             [
              0.2222222222222222,
              "#7201a8"
             ],
             [
              0.3333333333333333,
              "#9c179e"
             ],
             [
              0.4444444444444444,
              "#bd3786"
             ],
             [
              0.5555555555555556,
              "#d8576b"
             ],
             [
              0.6666666666666666,
              "#ed7953"
             ],
             [
              0.7777777777777778,
              "#fb9f3a"
             ],
             [
              0.8888888888888888,
              "#fdca26"
             ],
             [
              1,
              "#f0f921"
             ]
            ],
            "type": "histogram2dcontour"
           }
          ],
          "mesh3d": [
           {
            "colorbar": {
             "outlinewidth": 0,
             "ticks": ""
            },
            "type": "mesh3d"
           }
          ],
          "parcoords": [
           {
            "line": {
             "colorbar": {
              "outlinewidth": 0,
              "ticks": ""
             }
            },
            "type": "parcoords"
           }
          ],
          "pie": [
           {
            "automargin": true,
            "type": "pie"
           }
          ],
          "scatter": [
           {
            "fillpattern": {
             "fillmode": "overlay",
             "size": 10,
             "solidity": 0.2
            },
            "type": "scatter"
           }
          ],
          "scatter3d": [
           {
            "line": {
             "colorbar": {
              "outlinewidth": 0,
              "ticks": ""
             }
            },
            "marker": {
             "colorbar": {
              "outlinewidth": 0,
              "ticks": ""
             }
            },
            "type": "scatter3d"
           }
          ],
          "scattercarpet": [
           {
            "marker": {
             "colorbar": {
              "outlinewidth": 0,
              "ticks": ""
             }
            },
            "type": "scattercarpet"
           }
          ],
          "scattergeo": [
           {
            "marker": {
             "colorbar": {
              "outlinewidth": 0,
              "ticks": ""
             }
            },
            "type": "scattergeo"
           }
          ],
          "scattergl": [
           {
            "marker": {
             "colorbar": {
              "outlinewidth": 0,
              "ticks": ""
             }
            },
            "type": "scattergl"
           }
          ],
          "scattermap": [
           {
            "marker": {
             "colorbar": {
              "outlinewidth": 0,
              "ticks": ""
             }
            },
            "type": "scattermap"
           }
          ],
          "scattermapbox": [
           {
            "marker": {
             "colorbar": {
              "outlinewidth": 0,
              "ticks": ""
             }
            },
            "type": "scattermapbox"
           }
          ],
          "scatterpolar": [
           {
            "marker": {
             "colorbar": {
              "outlinewidth": 0,
              "ticks": ""
             }
            },
            "type": "scatterpolar"
           }
          ],
          "scatterpolargl": [
           {
            "marker": {
             "colorbar": {
              "outlinewidth": 0,
              "ticks": ""
             }
            },
            "type": "scatterpolargl"
           }
          ],
          "scatterternary": [
           {
            "marker": {
             "colorbar": {
              "outlinewidth": 0,
              "ticks": ""
             }
            },
            "type": "scatterternary"
           }
          ],
          "surface": [
           {
            "colorbar": {
             "outlinewidth": 0,
             "ticks": ""
            },
            "colorscale": [
             [
              0,
              "#0d0887"
             ],
             [
              0.1111111111111111,
              "#46039f"
             ],
             [
              0.2222222222222222,
              "#7201a8"
             ],
             [
              0.3333333333333333,
              "#9c179e"
             ],
             [
              0.4444444444444444,
              "#bd3786"
             ],
             [
              0.5555555555555556,
              "#d8576b"
             ],
             [
              0.6666666666666666,
              "#ed7953"
             ],
             [
              0.7777777777777778,
              "#fb9f3a"
             ],
             [
              0.8888888888888888,
              "#fdca26"
             ],
             [
              1,
              "#f0f921"
             ]
            ],
            "type": "surface"
           }
          ],
          "table": [
           {
            "cells": {
             "fill": {
              "color": "#EBF0F8"
             },
             "line": {
              "color": "white"
             }
            },
            "header": {
             "fill": {
              "color": "#C8D4E3"
             },
             "line": {
              "color": "white"
             }
            },
            "type": "table"
           }
          ]
         },
         "layout": {
          "annotationdefaults": {
           "arrowcolor": "#2a3f5f",
           "arrowhead": 0,
           "arrowwidth": 1
          },
          "autotypenumbers": "strict",
          "coloraxis": {
           "colorbar": {
            "outlinewidth": 0,
            "ticks": ""
           }
          },
          "colorscale": {
           "diverging": [
            [
             0,
             "#8e0152"
            ],
            [
             0.1,
             "#c51b7d"
            ],
            [
             0.2,
             "#de77ae"
            ],
            [
             0.3,
             "#f1b6da"
            ],
            [
             0.4,
             "#fde0ef"
            ],
            [
             0.5,
             "#f7f7f7"
            ],
            [
             0.6,
             "#e6f5d0"
            ],
            [
             0.7,
             "#b8e186"
            ],
            [
             0.8,
             "#7fbc41"
            ],
            [
             0.9,
             "#4d9221"
            ],
            [
             1,
             "#276419"
            ]
           ],
           "sequential": [
            [
             0,
             "#0d0887"
            ],
            [
             0.1111111111111111,
             "#46039f"
            ],
            [
             0.2222222222222222,
             "#7201a8"
            ],
            [
             0.3333333333333333,
             "#9c179e"
            ],
            [
             0.4444444444444444,
             "#bd3786"
            ],
            [
             0.5555555555555556,
             "#d8576b"
            ],
            [
             0.6666666666666666,
             "#ed7953"
            ],
            [
             0.7777777777777778,
             "#fb9f3a"
            ],
            [
             0.8888888888888888,
             "#fdca26"
            ],
            [
             1,
             "#f0f921"
            ]
           ],
           "sequentialminus": [
            [
             0,
             "#0d0887"
            ],
            [
             0.1111111111111111,
             "#46039f"
            ],
            [
             0.2222222222222222,
             "#7201a8"
            ],
            [
             0.3333333333333333,
             "#9c179e"
            ],
            [
             0.4444444444444444,
             "#bd3786"
            ],
            [
             0.5555555555555556,
             "#d8576b"
            ],
            [
             0.6666666666666666,
             "#ed7953"
            ],
            [
             0.7777777777777778,
             "#fb9f3a"
            ],
            [
             0.8888888888888888,
             "#fdca26"
            ],
            [
             1,
             "#f0f921"
            ]
           ]
          },
          "colorway": [
           "#636efa",
           "#EF553B",
           "#00cc96",
           "#ab63fa",
           "#FFA15A",
           "#19d3f3",
           "#FF6692",
           "#B6E880",
           "#FF97FF",
           "#FECB52"
          ],
          "font": {
           "color": "#2a3f5f"
          },
          "geo": {
           "bgcolor": "white",
           "lakecolor": "white",
           "landcolor": "#E5ECF6",
           "showlakes": true,
           "showland": true,
           "subunitcolor": "white"
          },
          "hoverlabel": {
           "align": "left"
          },
          "hovermode": "closest",
          "mapbox": {
           "style": "light"
          },
          "paper_bgcolor": "white",
          "plot_bgcolor": "#E5ECF6",
          "polar": {
           "angularaxis": {
            "gridcolor": "white",
            "linecolor": "white",
            "ticks": ""
           },
           "bgcolor": "#E5ECF6",
           "radialaxis": {
            "gridcolor": "white",
            "linecolor": "white",
            "ticks": ""
           }
          },
          "scene": {
           "xaxis": {
            "backgroundcolor": "#E5ECF6",
            "gridcolor": "white",
            "gridwidth": 2,
            "linecolor": "white",
            "showbackground": true,
            "ticks": "",
            "zerolinecolor": "white"
           },
           "yaxis": {
            "backgroundcolor": "#E5ECF6",
            "gridcolor": "white",
            "gridwidth": 2,
            "linecolor": "white",
            "showbackground": true,
            "ticks": "",
            "zerolinecolor": "white"
           },
           "zaxis": {
            "backgroundcolor": "#E5ECF6",
            "gridcolor": "white",
            "gridwidth": 2,
            "linecolor": "white",
            "showbackground": true,
            "ticks": "",
            "zerolinecolor": "white"
           }
          },
          "shapedefaults": {
           "line": {
            "color": "#2a3f5f"
           }
          },
          "ternary": {
           "aaxis": {
            "gridcolor": "white",
            "linecolor": "white",
            "ticks": ""
           },
           "baxis": {
            "gridcolor": "white",
            "linecolor": "white",
            "ticks": ""
           },
           "bgcolor": "#E5ECF6",
           "caxis": {
            "gridcolor": "white",
            "linecolor": "white",
            "ticks": ""
           }
          },
          "title": {
           "x": 0.05
          },
          "xaxis": {
           "automargin": true,
           "gridcolor": "white",
           "linecolor": "white",
           "ticks": "",
           "title": {
            "standoff": 15
           },
           "zerolinecolor": "white",
           "zerolinewidth": 2
          },
          "yaxis": {
           "automargin": true,
           "gridcolor": "white",
           "linecolor": "white",
           "ticks": "",
           "title": {
            "standoff": 15
           },
           "zerolinecolor": "white",
           "zerolinewidth": 2
          }
         }
        },
        "title": {
         "text": "Bitstamp:BTCUSD"
        },
        "width": 1000,
        "xaxis": {
         "anchor": "y",
         "domain": [
          0,
          1
         ],
         "matches": "x2",
         "showticklabels": false,
         "title": {
          "text": "Date"
         }
        },
        "xaxis2": {
         "anchor": "y2",
         "domain": [
          0,
          1
         ]
        },
        "yaxis": {
         "anchor": "x",
         "domain": [
          0.24,
          1
         ],
         "range": [
          110426.4,
          123420
         ],
         "title": {
          "text": "Price"
         }
        },
        "yaxis2": {
         "anchor": "x2",
         "domain": [
          0,
          0.19
         ]
        }
       }
      }
     },
     "metadata": {},
     "output_type": "display_data"
    }
   ],
   "source": [
    "def viz(symbol, trades_df, historical_data):\n",
    "    # Visualize\n",
    "    fig = make_subplots(rows=2, cols=1, shared_xaxes=True, vertical_spacing=0.05, row_heights=[0.8, 0.2])\n",
    "    fig.add_trace(go.Candlestick(x=historical_data[symbol].index,\n",
    "                    open=historical_data[symbol].open,\n",
    "                    high=historical_data[symbol].high,\n",
    "                    low=historical_data[symbol].low,\n",
    "                    close=historical_data[symbol].close,\n",
    "                    ), row=1, col=1)\n",
    "    set_ylim = (historical_data[symbol].low.min() * 0.98, historical_data[symbol].high.max() * 1.02)\n",
    "    # Add buy/sell markers from trades_df to the candlestick chart (row 1)\n",
    "    if 'trades_df' in locals():\n",
    "        buy_trades = trades_df[trades_df['Side'] == 'buy']\n",
    "        sell_trades = trades_df[trades_df['Side'] == 'sell']\n",
    "        # Buy markers\n",
    "        fig.add_trace(\n",
    "            go.Scatter(\n",
    "                x=buy_trades['Timestamp'],\n",
    "                y=historical_data[symbol][historical_data.index.isin(buy_trades['Timestamp'])].low * 0.998,\n",
    "                mode='markers+text',\n",
    "                marker=dict(symbol='triangle-up', color='green', size=12),\n",
    "                text=['Buy']*len(buy_trades),\n",
    "                textposition='bottom center',\n",
    "                name='Buy'\n",
    "            ),\n",
    "            row=1, col=1\n",
    "        )\n",
    "        # Sell markers\n",
    "        fig.add_trace(\n",
    "            go.Scatter(\n",
    "                x=sell_trades['Timestamp'],\n",
    "                y=historical_data[symbol][historical_data.index.isin(sell_trades['Timestamp'])].high * 1.002,\n",
    "                mode='markers+text',\n",
    "                marker=dict(symbol='triangle-down', color='red', size=12),\n",
    "                text=['Sell']*len(sell_trades),\n",
    "                textposition='top center',\n",
    "                name='Sell'\n",
    "            ),\n",
    "            row=1, col=1\n",
    "        )\n",
    "\n",
    "    fig.add_trace(go.Bar(x=historical_data[symbol].index,\n",
    "                        y=historical_data[symbol].volume,\n",
    "                        ), row=2, col=1)\n",
    "\n",
    "    fig.update_layout(title=f'{symbol}',\n",
    "                    yaxis_range=(set_ylim[0], set_ylim[1]),\n",
    "                    xaxis_title='Date',\n",
    "                    yaxis_title='Price', \n",
    "                    height=800, width=1000)\n",
    "    fig.show()\n",
    "\n",
    "viz(symbols[0], trades_df, historical_data)"
   ]
  }
 ],
 "metadata": {
  "kernelspec": {
   "display_name": "Python 3",
   "language": "python",
   "name": "python3"
  },
  "language_info": {
   "codemirror_mode": {
    "name": "ipython",
    "version": 3
   },
   "file_extension": ".py",
   "mimetype": "text/x-python",
   "name": "python",
   "nbconvert_exporter": "python",
   "pygments_lexer": "ipython3",
   "version": "3.13.5"
  }
 },
 "nbformat": 4,
 "nbformat_minor": 5
}
