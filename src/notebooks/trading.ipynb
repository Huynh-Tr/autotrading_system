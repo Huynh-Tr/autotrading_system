{
 "cells": [
  {
   "cell_type": "markdown",
   "id": "80277228",
   "metadata": {},
   "source": [
    "# **Import**"
   ]
  },
  {
   "cell_type": "code",
   "execution_count": 1,
   "id": "72a78104",
   "metadata": {},
   "outputs": [
    {
     "name": "stdout",
     "output_type": "stream",
     "text": [
      "Import thành công!\n"
     ]
    }
   ],
   "source": [
    "# Cell 1: Setup imports\n",
    "import os\n",
    "import sys\n",
    "import pandas as pd\n",
    "import numpy as np\n",
    "from datetime import datetime, timedelta\n",
    "\n",
    "# Thêm đường dẫn gốc của dự án vào sys.path\n",
    "project_root = os.path.abspath(os.path.join(os.getcwd(), '..', '..'))\n",
    "if project_root not in sys.path:\n",
    "    sys.path.insert(0, project_root)\n",
    "\n",
    "# Import TradingEngine và components\n",
    "from src.core.trading_engine import TradingEngine\n",
    "from src.strategies.sma_crossover import SMACrossoverStrategy\n",
    "from src.strategies.rsi_strategy import RSIStrategy\n",
    "from src.strategies.macd_strategy import MACDStrategy\n",
    "from src.utils.config_manager import ConfigManager\n",
    "from src.data.data_manager import DataManager\n",
    "\n",
    "# Import visualization\n",
    "import plotly.graph_objects as go\n",
    "from plotly.subplots import make_subplots\n",
    "import matplotlib.pyplot as plt\n",
    "import seaborn as sns\n",
    "\n",
    "print(\"Import thành công!\")"
   ]
  },
  {
   "cell_type": "markdown",
   "id": "03ef51bd",
   "metadata": {},
   "source": [
    "# **Data**"
   ]
  },
  {
   "cell_type": "code",
   "execution_count": 2,
   "id": "1133d66c",
   "metadata": {},
   "outputs": [],
   "source": [
    "intervals = ['daily', 'hour_1', 'hour_2', 'hour_3', 'hour_4', 'min_1', \n",
    "'min_15', 'min_3', 'min_30', 'min_45', 'min_5', 'monthly', 'weekly']"
   ]
  },
  {
   "cell_type": "code",
   "execution_count": 3,
   "id": "42e525b4",
   "metadata": {},
   "outputs": [
    {
     "name": "stderr",
     "output_type": "stream",
     "text": [
      "\u001b[32m2025-08-02 14:53:21.089\u001b[0m | \u001b[1mINFO    \u001b[0m | \u001b[36msrc.utils.config_manager\u001b[0m:\u001b[36m__init__\u001b[0m:\u001b[36m31\u001b[0m - \u001b[1mConfiguration loaded from ../../config/config.yaml\u001b[0m\n",
      "\u001b[32m2025-08-02 14:53:21.090\u001b[0m | \u001b[1mINFO    \u001b[0m | \u001b[36msrc.risk.risk_manager\u001b[0m:\u001b[36m__init__\u001b[0m:\u001b[36m49\u001b[0m - \u001b[1mRisk manager initialized\u001b[0m\n",
      "\u001b[32m2025-08-02 14:53:21.091\u001b[0m | \u001b[1mINFO    \u001b[0m | \u001b[36msrc.core.trading_engine\u001b[0m:\u001b[36m__init__\u001b[0m:\u001b[36m77\u001b[0m - \u001b[1mTrading engine initialized with $100,000.00 initial capital\u001b[0m\n",
      "\u001b[32m2025-08-02 14:53:21.092\u001b[0m | \u001b[1mINFO    \u001b[0m | \u001b[36msrc.data.data_manager\u001b[0m:\u001b[36mget_historical_data\u001b[0m:\u001b[36m64\u001b[0m - \u001b[1mFetching historical OHLCV data for ['Bitstamp:BTCUSD'] from 2023-01-01 to 2025-07-31\u001b[0m\n"
     ]
    },
    {
     "name": "stdout",
     "output_type": "stream",
     "text": [
      "TradingEngine đã được khởi tạo với vốn ban đầu: $100,000.00\n",
      "Config loaded: ['Bitstamp:BTCUSD']\n",
      "Config loaded: tradingview\n"
     ]
    },
    {
     "name": "stderr",
     "output_type": "stream",
     "text": [
      "\u001b[32m2025-08-02 14:53:21.755\u001b[0m | \u001b[1mINFO    \u001b[0m | \u001b[36msrc.data.data_manager\u001b[0m:\u001b[36m_fetch_tradingview_ohlcv_data\u001b[0m:\u001b[36m159\u001b[0m - \u001b[1mSuccessfully fetched OHLCV data for 1 symbols\u001b[0m\n",
      "\u001b[32m2025-08-02 14:53:21.759\u001b[0m | \u001b[1mINFO    \u001b[0m | \u001b[36msrc.data.data_manager\u001b[0m:\u001b[36mget_historical_data\u001b[0m:\u001b[36m97\u001b[0m - \u001b[1mOHLCV data cached successfully\u001b[0m\n"
     ]
    },
    {
     "name": "stdout",
     "output_type": "stream",
     "text": [
      "Lấy data cho symbols: ['Bitstamp:BTCUSD']\n",
      "Data shape: (100, 5)\n",
      "Data columns: [('Bitstamp:BTCUSD', 'open'), ('Bitstamp:BTCUSD', 'high'), ('Bitstamp:BTCUSD', 'low'), ('Bitstamp:BTCUSD', 'close'), ('Bitstamp:BTCUSD', 'volume')]\n",
      "Date range: 2025-07-16 23:00:00         đến 2025-08-02 11:00:00             interval: 4h\n"
     ]
    }
   ],
   "source": [
    "# Cell 2: Khởi tạo TradingEngine\n",
    "config_path = \"../../config/config.yaml\"\n",
    "engine = TradingEngine(config_path)\n",
    "\n",
    "print(f\"TradingEngine đã được khởi tạo với vốn ban đầu: ${engine.cash:,.2f}\")\n",
    "print(f\"Config loaded: {engine.config.get('trading.symbols')}\")\n",
    "print(f\"Config loaded: {engine.config.get('data.source')}\")\n",
    "\n",
    "# Cell 3: Chuẩn bị data\n",
    "# Sử dụng data có sẵn hoặc lấy từ DataManager\n",
    "symbols = engine.config.get(\"trading.symbols\", [\"AAPL\"])\n",
    "start_date = engine.config.get(\"data.start_date\", \"2023-01-01\")\n",
    "end_date = engine.config.get(\"data.end_date\", \"2023-12-31\")\n",
    "\n",
    "\n",
    "# Lấy data từ DataManager\n",
    "data_manager = DataManager(engine.config)\n",
    "historical_data = data_manager.get_historical_data(\n",
    "    symbols=symbols,\n",
    "    start_date=start_date,\n",
    "    end_date=end_date,\n",
    "    interval=engine.config.get(\"data.interval\", \"1d\"),\n",
    "    n_bars=engine.config.get(\"data.n_bars\", 1000)\n",
    ")\n",
    "\n",
    "print(f\"Lấy data cho symbols: {symbols}\")\n",
    "# print(f\"Period: {start_date} đến {end_date}\")\n",
    "print(f\"Data shape: {historical_data.shape}\")\n",
    "print(f\"Data columns: {historical_data.columns.tolist()}\")\n",
    "print(\n",
    "    f\"Date range: {historical_data.index.min()} \\\n",
    "        đến {historical_data.index.max()} \\\n",
    "            interval: {engine.config.get('data.interval', '1d')}\"\n",
    ")"
   ]
  },
  {
   "cell_type": "code",
   "execution_count": 5,
   "id": "476c0b0d",
   "metadata": {},
   "outputs": [
    {
     "name": "stdout",
     "output_type": "stream",
     "text": [
      "<class 'pandas.core.frame.DataFrame'>\n",
      "DatetimeIndex: 100 entries, 2025-07-16 23:00:00 to 2025-08-02 11:00:00\n",
      "Data columns (total 5 columns):\n",
      " #   Column                     Non-Null Count  Dtype  \n",
      "---  ------                     --------------  -----  \n",
      " 0   (Bitstamp:BTCUSD, open)    100 non-null    float64\n",
      " 1   (Bitstamp:BTCUSD, high)    100 non-null    float64\n",
      " 2   (Bitstamp:BTCUSD, low)     100 non-null    float64\n",
      " 3   (Bitstamp:BTCUSD, close)   100 non-null    float64\n",
      " 4   (Bitstamp:BTCUSD, volume)  100 non-null    float64\n",
      "dtypes: float64(5)\n",
      "memory usage: 4.7 KB\n"
     ]
    }
   ],
   "source": [
    "historical_data.info()"
   ]
  },
  {
   "cell_type": "markdown",
   "id": "88433287",
   "metadata": {},
   "source": [
    "# **Indicators**"
   ]
  },
  {
   "cell_type": "markdown",
   "id": "3d5a7792",
   "metadata": {},
   "source": [
    "### SMA"
   ]
  },
  {
   "cell_type": "code",
   "execution_count": 35,
   "id": "f1df667d",
   "metadata": {},
   "outputs": [],
   "source": [
    "def calculate_sma(prices: pd.Series, window: int) -> pd.Series:\n",
    "    \"\"\"\n",
    "    Calculate Simple Moving Average\n",
    "    \n",
    "    Args:\n",
    "        prices: Price series (typically closing prices)\n",
    "        window: Window size for SMA calculation\n",
    "        \n",
    "    Returns:\n",
    "        SMA series\n",
    "    \"\"\"\n",
    "    return prices.rolling(window=window).mean()\n",
    "\n",
    "def calculate_sma_crossover(prices: pd.Series, short_window: int, long_window: int) -> Tuple[pd.Series, pd.Series]:\n",
    "    \"\"\"\n",
    "    Calculate SMA crossover components\n",
    "    \n",
    "    Args:\n",
    "        prices: Price series (typically closing prices)\n",
    "        short_window: Short SMA window\n",
    "        long_window: Long SMA window\n",
    "        \n",
    "    Returns:\n",
    "        Tuple of (short_sma, long_sma)\n",
    "    \"\"\"\n",
    "    short_sma = calculate_sma(prices, short_window)\n",
    "    long_sma = calculate_sma(prices, long_window)\n",
    "    \n",
    "    return short_sma, long_sma\n",
    "\n",
    "def calculate_sma_components(prices: pd.Series, short_window: int, long_window: int) -> Dict[str, pd.Series]:\n",
    "    \"\"\"\n",
    "    Calculate SMA crossover components and return as dictionary\n",
    "    \n",
    "    Args:\n",
    "        prices: Price series (typically closing prices)\n",
    "        short_window: Short SMA window\n",
    "        long_window: Long SMA window\n",
    "        \n",
    "    Returns:\n",
    "        Dictionary containing SMA components\n",
    "    \"\"\"\n",
    "    short_sma, long_sma = calculate_sma_crossover(prices, short_window, long_window)\n",
    "    \n",
    "    return {\n",
    "        'short_sma': short_sma,\n",
    "        'long_sma': long_sma,\n",
    "        'sma_diff': short_sma - long_sma\n",
    "    }"
   ]
  },
  {
   "cell_type": "markdown",
   "id": "723eb32f",
   "metadata": {},
   "source": [
    "### MACD"
   ]
  },
  {
   "cell_type": "code",
   "execution_count": 8,
   "id": "83f3289d",
   "metadata": {},
   "outputs": [],
   "source": [
    "def calculate_macd(prices: pd.Series, fast_period: int = 12, \n",
    "                  slow_period: int = 26, signal_period: int = 9) -> Tuple[pd.Series, pd.Series, pd.Series]:\n",
    "    \"\"\"\n",
    "    Calculate MACD indicator components\n",
    "    \n",
    "    Args:\n",
    "        prices: Price series (typically closing prices)\n",
    "        fast_period: Period for fast EMA (default: 12)\n",
    "        slow_period: Period for slow EMA (default: 26)\n",
    "        signal_period: Period for signal line EMA (default: 9)\n",
    "        \n",
    "    Returns:\n",
    "        Tuple of (macd_line, signal_line, histogram)\n",
    "    \"\"\"\n",
    "    # Calculate exponential moving averages\n",
    "    ema_fast = prices.ewm(span=fast_period).mean()\n",
    "    ema_slow = prices.ewm(span=slow_period).mean()\n",
    "    \n",
    "    # MACD line\n",
    "    macd_line = ema_fast - ema_slow\n",
    "    \n",
    "    # Signal line\n",
    "    signal_line = macd_line.ewm(span=signal_period).mean()\n",
    "    \n",
    "    # Histogram\n",
    "    histogram = macd_line - signal_line\n",
    "    \n",
    "    return macd_line, signal_line, histogram\n",
    "\n",
    "\n",
    "def calculate_macd_components(prices: pd.Series, fast_period: int = 12, \n",
    "                            slow_period: int = 26, signal_period: int = 9) -> dict:\n",
    "    \"\"\"\n",
    "    Calculate all MACD components and return as dictionary\n",
    "    \n",
    "    Args:\n",
    "        prices: Price series (typically closing prices)\n",
    "        fast_period: Period for fast EMA (default: 12)\n",
    "        slow_period: Period for slow EMA (default: 26)\n",
    "        signal_period: Period for signal line EMA (default: 9)\n",
    "        \n",
    "    Returns:\n",
    "        Dictionary containing all MACD components\n",
    "    \"\"\"\n",
    "    macd_line, signal_line, histogram = calculate_macd(prices, fast_period, slow_period, signal_period)\n",
    "    \n",
    "    return {\n",
    "        'macd_line': macd_line,\n",
    "        'signal_line': signal_line,\n",
    "        'histogram': histogram,\n",
    "        'zero_line': pd.Series([0] * len(prices), index=prices.index)\n",
    "    } "
   ]
  },
  {
   "cell_type": "markdown",
   "id": "0b3f4439",
   "metadata": {},
   "source": [
    "### RSI"
   ]
  },
  {
   "cell_type": "code",
   "execution_count": 9,
   "id": "9901244e",
   "metadata": {},
   "outputs": [],
   "source": [
    "def calculate_rsi(prices: pd.Series, period: int = 14) -> pd.Series:\n",
    "    \"\"\"\n",
    "    Calculate RSI (Relative Strength Index) indicator\n",
    "    \n",
    "    Args:\n",
    "        prices: Price series (typically closing prices)\n",
    "        period: Period for RSI calculation (default: 14)\n",
    "        \n",
    "    Returns:\n",
    "        RSI series\n",
    "    \"\"\"\n",
    "    delta = prices.diff()\n",
    "    \n",
    "    # Separate gains and losses\n",
    "    gains = delta.where(delta > 0, 0)\n",
    "    losses = -delta.where(delta < 0, 0)\n",
    "    \n",
    "    # Calculate average gains and losses\n",
    "    avg_gains = gains.rolling(window=period).mean()\n",
    "    avg_losses = losses.rolling(window=period).mean()\n",
    "    \n",
    "    # Calculate RS and RSI\n",
    "    rs = avg_gains / avg_losses\n",
    "    rsi = 100 - (100 / (1 + rs))\n",
    "    \n",
    "    return rsi\n",
    "\n",
    "\n",
    "def calculate_rsi_components(prices: pd.Series, period: int = 14, \n",
    "                           overbought_threshold: int = 70, \n",
    "                           oversold_threshold: int = 30) -> Dict[str, pd.Series]:\n",
    "    \"\"\"\n",
    "    Calculate RSI and related components\n",
    "    \n",
    "    Args:\n",
    "        prices: Price series (typically closing prices)\n",
    "        period: Period for RSI calculation (default: 14)\n",
    "        overbought_threshold: Overbought level (default: 70)\n",
    "        oversold_threshold: Oversold level (default: 30)\n",
    "        \n",
    "    Returns:\n",
    "        Dictionary containing RSI and threshold lines\n",
    "    \"\"\"\n",
    "    rsi = calculate_rsi(prices, period)\n",
    "    \n",
    "    return {\n",
    "        'rsi': rsi,\n",
    "        'overbought_line': pd.Series([overbought_threshold] * len(prices), index=prices.index),\n",
    "        'oversold_line': pd.Series([oversold_threshold] * len(prices), index=prices.index)\n",
    "    } "
   ]
  },
  {
   "cell_type": "markdown",
   "id": "f62601b0",
   "metadata": {},
   "source": [
    "# **Strategies**"
   ]
  },
  {
   "cell_type": "markdown",
   "id": "5c118685",
   "metadata": {},
   "source": [
    "### Base strategy"
   ]
  },
  {
   "cell_type": "code",
   "execution_count": 11,
   "id": "afb10c31",
   "metadata": {},
   "outputs": [],
   "source": [
    "def update_position(symbol: str, quantity: float, price: float):\n",
    "    \"\"\"Update strategy's position tracking\"\"\"\n",
    "    if symbol not in positions:\n",
    "        positions[symbol] = {\n",
    "            'quantity': 0,\n",
    "            'avg_price': 0,\n",
    "            'total_cost': 0\n",
    "        }\n",
    "    \n",
    "    pos = positions[symbol]\n",
    "    \n",
    "    if quantity > 0:  # Buy\n",
    "        total_quantity = pos['quantity'] + quantity\n",
    "        total_cost = pos['total_cost'] + (quantity * price)\n",
    "        pos['quantity'] = total_quantity\n",
    "        pos['total_cost'] = total_cost\n",
    "        pos['avg_price'] = total_cost / total_quantity\n",
    "    else:  # Sell\n",
    "        pos['quantity'] += quantity  # quantity is negative for sell\n",
    "        if pos['quantity'] <= 0:\n",
    "            # Position closed\n",
    "            pos['quantity'] = 0\n",
    "            pos['avg_price'] = 0\n",
    "            pos['total_cost'] = 0\n",
    "    \n",
    "def get_position(symbol: str) -> Optional[Dict[str, Any]]:\n",
    "    \"\"\"Get current position for a symbol\"\"\"\n",
    "    return positions.get(symbol)\n",
    "\n",
    "def has_position(symbol: str) -> bool:\n",
    "    \"\"\"Check if strategy has a position in symbol\"\"\"\n",
    "    return symbol in positions and positions[symbol]['quantity'] > 0\n",
    "\n",
    "def calculate_pnl(symbol: str, current_price: float) -> float:\n",
    "    \"\"\"Calculate unrealized P&L for a position\"\"\"\n",
    "    if not has_position(symbol):\n",
    "        return 0.0\n",
    "    \n",
    "    position = positions[symbol]\n",
    "    return (current_price - position['avg_price']) * position['quantity']\n",
    "\n",
    "def reset():\n",
    "    \"\"\"Reset strategy state\"\"\"\n",
    "    positions = {}\n",
    "    signals = {}\n",
    "    logger.info(f\"Reset strategy: {name}\")\n",
    "\n",
    "def get_summary() -> Dict[str, Any]:\n",
    "    \"\"\"Get strategy summary\"\"\"\n",
    "    return {\n",
    "        'name': name,\n",
    "        'positions': positions,\n",
    "        'total_positions': len([p for p in positions.values() if p['quantity'] > 0])\n",
    "    }"
   ]
  },
  {
   "cell_type": "code",
   "execution_count": 12,
   "id": "d30d0836",
   "metadata": {},
   "outputs": [
    {
     "data": {
      "text/html": [
       "<div>\n",
       "<style scoped>\n",
       "    .dataframe tbody tr th:only-of-type {\n",
       "        vertical-align: middle;\n",
       "    }\n",
       "\n",
       "    .dataframe tbody tr th {\n",
       "        vertical-align: top;\n",
       "    }\n",
       "\n",
       "    .dataframe thead th {\n",
       "        text-align: right;\n",
       "    }\n",
       "</style>\n",
       "<table border=\"1\" class=\"dataframe\">\n",
       "  <thead>\n",
       "    <tr style=\"text-align: right;\">\n",
       "      <th></th>\n",
       "      <th>symbol</th>\n",
       "      <th>open</th>\n",
       "      <th>high</th>\n",
       "      <th>low</th>\n",
       "      <th>close</th>\n",
       "      <th>volume</th>\n",
       "    </tr>\n",
       "    <tr>\n",
       "      <th>datetime</th>\n",
       "      <th></th>\n",
       "      <th></th>\n",
       "      <th></th>\n",
       "      <th></th>\n",
       "      <th></th>\n",
       "      <th></th>\n",
       "    </tr>\n",
       "  </thead>\n",
       "  <tbody>\n",
       "    <tr>\n",
       "      <th>2023-01-01 07:00:00</th>\n",
       "      <td>Bitstamp:BTCUSD</td>\n",
       "      <td>16530.0</td>\n",
       "      <td>16546.0</td>\n",
       "      <td>16507.0</td>\n",
       "      <td>16522.0</td>\n",
       "      <td>59.436695</td>\n",
       "    </tr>\n",
       "    <tr>\n",
       "      <th>2023-01-01 11:00:00</th>\n",
       "      <td>Bitstamp:BTCUSD</td>\n",
       "      <td>16523.0</td>\n",
       "      <td>16535.0</td>\n",
       "      <td>16496.0</td>\n",
       "      <td>16517.0</td>\n",
       "      <td>64.831896</td>\n",
       "    </tr>\n",
       "    <tr>\n",
       "      <th>2023-01-01 15:00:00</th>\n",
       "      <td>Bitstamp:BTCUSD</td>\n",
       "      <td>16517.0</td>\n",
       "      <td>16544.0</td>\n",
       "      <td>16498.0</td>\n",
       "      <td>16544.0</td>\n",
       "      <td>74.120038</td>\n",
       "    </tr>\n",
       "    <tr>\n",
       "      <th>2023-01-01 19:00:00</th>\n",
       "      <td>Bitstamp:BTCUSD</td>\n",
       "      <td>16544.0</td>\n",
       "      <td>16560.0</td>\n",
       "      <td>16535.0</td>\n",
       "      <td>16546.0</td>\n",
       "      <td>67.301095</td>\n",
       "    </tr>\n",
       "    <tr>\n",
       "      <th>2023-01-01 23:00:00</th>\n",
       "      <td>Bitstamp:BTCUSD</td>\n",
       "      <td>16546.0</td>\n",
       "      <td>16612.0</td>\n",
       "      <td>16546.0</td>\n",
       "      <td>16597.0</td>\n",
       "      <td>99.620520</td>\n",
       "    </tr>\n",
       "  </tbody>\n",
       "</table>\n",
       "</div>"
      ],
      "text/plain": [
       "                              symbol     open     high      low    close  \\\n",
       "datetime                                                                   \n",
       "2023-01-01 07:00:00  Bitstamp:BTCUSD  16530.0  16546.0  16507.0  16522.0   \n",
       "2023-01-01 11:00:00  Bitstamp:BTCUSD  16523.0  16535.0  16496.0  16517.0   \n",
       "2023-01-01 15:00:00  Bitstamp:BTCUSD  16517.0  16544.0  16498.0  16544.0   \n",
       "2023-01-01 19:00:00  Bitstamp:BTCUSD  16544.0  16560.0  16535.0  16546.0   \n",
       "2023-01-01 23:00:00  Bitstamp:BTCUSD  16546.0  16612.0  16546.0  16597.0   \n",
       "\n",
       "                        volume  \n",
       "datetime                        \n",
       "2023-01-01 07:00:00  59.436695  \n",
       "2023-01-01 11:00:00  64.831896  \n",
       "2023-01-01 15:00:00  74.120038  \n",
       "2023-01-01 19:00:00  67.301095  \n",
       "2023-01-01 23:00:00  99.620520  "
      ]
     },
     "execution_count": 12,
     "metadata": {},
     "output_type": "execute_result"
    }
   ],
   "source": [
    "df.head()"
   ]
  },
  {
   "cell_type": "code",
   "execution_count": 13,
   "id": "a02b01a6",
   "metadata": {},
   "outputs": [
    {
     "ename": "TypeError",
     "evalue": "SMACrossoverStrategy.__init__() got an unexpected keyword argument 'short_window'",
     "output_type": "error",
     "traceback": [
      "\u001b[31m---------------------------------------------------------------------------\u001b[39m",
      "\u001b[31mTypeError\u001b[39m                                 Traceback (most recent call last)",
      "\u001b[36mCell\u001b[39m\u001b[36m \u001b[39m\u001b[32mIn[13]\u001b[39m\u001b[32m, line 2\u001b[39m\n\u001b[32m      1\u001b[39m symbol = \u001b[33m'\u001b[39m\u001b[33mBitstamp:BTCUSD\u001b[39m\u001b[33m'\u001b[39m\n\u001b[32m----> \u001b[39m\u001b[32m2\u001b[39m smacrossover = \u001b[43mSMACrossoverStrategy\u001b[49m\u001b[43m(\u001b[49m\u001b[43mshort_window\u001b[49m\u001b[43m=\u001b[49m\u001b[32;43m20\u001b[39;49m\u001b[43m,\u001b[49m\u001b[43m \u001b[49m\u001b[43mlong_window\u001b[49m\u001b[43m=\u001b[49m\u001b[32;43m50\u001b[39;49m\u001b[43m)\u001b[49m\n\u001b[32m      4\u001b[39m \u001b[38;5;66;03m# Try to call and print the output to debug\u001b[39;00m\n\u001b[32m      5\u001b[39m result = calculate_sma_components(df.close, smacrossover.short_window, smacrossover.long_window)\n",
      "\u001b[31mTypeError\u001b[39m: SMACrossoverStrategy.__init__() got an unexpected keyword argument 'short_window'"
     ]
    }
   ],
   "source": [
    "symbol = 'Bitstamp:BTCUSD'\n",
    "smacrossover = SMACrossoverStrategy(short_window=20, long_window=50)\n",
    "\n",
    "# Try to call and print the output to debug\n",
    "result = calculate_sma_components(df.close, smacrossover.short_window, smacrossover.long_window)\n",
    "\n",
    "# If result is a tuple/list, get the first two elements\n",
    "short_sma, long_sma = result['short_sma'], result['long_sma']\n",
    "print(f\"Short SMA (first 5):\\n{short_sma.tail()}\")\n",
    "print(f\"Long SMA (first 5):\\n{long_sma.tail()}\")\n"
   ]
  },
  {
   "cell_type": "markdown",
   "id": "3c70a060",
   "metadata": {},
   "source": [
    "### SMA Crossover"
   ]
  },
  {
   "cell_type": "code",
   "execution_count": null,
   "id": "d91edf6f",
   "metadata": {},
   "outputs": [],
   "source": [
    "class SMACrossoverStrategy(BaseStrategy):\n",
    "    \"\"\"Simple Moving Average Crossover Strategy\"\"\"\n",
    "    \n",
    "    def __init__(self, short_window: int, long_window: int):\n",
    "        \"\"\"Initialize SMA Crossover strategy\"\"\"\n",
    "        # super().__init__(\"sma_crossover\")\n",
    "        \n",
    "        # Strategy parameters\n",
    "        self.short_window = short_window\n",
    "        self.long_window = long_window\n",
    "        \n",
    "        # Validate parameters\n",
    "        if self.short_window >= self.long_window:\n",
    "            raise ValueError(\"Short window must be less than long window\")\n",
    "        \n",
    "        print(f\"SMA Crossover Strategy initialized: {self.short_window}/{self.long_window}\")\n",
    "        # logger.info(f\"SMA Crossover Strategy initialized: {self.short_window}/{self.long_window}\")\n",
    "    \n",
    "    def generate_signals(self, historical_data: pd.DataFrame, current_data: pd.Series) -> Dict[str, str]:\n",
    "        \"\"\"\n",
    "        Generate trading signals based on SMA crossover\n",
    "        \n",
    "        Args:\n",
    "            historical_data: Historical market data up to current point (OHLCV or close-only)\n",
    "            current_data: Current day's market data\n",
    "            \n",
    "        Returns:\n",
    "            Dict mapping symbol to signal ('buy', 'sell', 'hold')\n",
    "        \"\"\"\n",
    "        signals = {}\n",
    "        \n",
    "        # Legacy close-only data structure\n",
    "        for symbol in historical_data.symbol.unique():\n",
    "            # if isinstance(symbol, str) and not symbol.endswith('_SMA'):\n",
    "                # Get historical price data for this symbol\n",
    "            symbol_data = historical_data[df.symbol==symbol]['close'].dropna()\n",
    "            # print(symbol_data, symbol)\n",
    "            \n",
    "            if len(symbol_data) >= self.long_window:\n",
    "                signal = self._generate_signal_for_symbol(symbol_data, symbol)\n",
    "                signals[symbol] = signal\n",
    "            else:\n",
    "                signals[symbol] = 'hold'  # Not enough data\n",
    "        \n",
    "        return signals\n",
    "    \n",
    "    def _generate_signal_for_symbol(self, price_data: pd.Series, symbol: str) -> str:\n",
    "        \"\"\"Generate signal for a single symbol\"\"\"\n",
    "        if len(price_data) < self.long_window:\n",
    "            return 'hold'  # Not enough data\n",
    "        \n",
    "        # Calculate SMAs\n",
    "        short_sma, long_sma = calculate_sma_crossover(price_data, self.short_window, self.long_window)\n",
    "\n",
    "        # Get current and previous values\n",
    "        current_short = short_sma.iloc[-1]\n",
    "        current_long = long_sma.iloc[-1]\n",
    "        prev_short = short_sma.iloc[-2] if len(short_sma) > 1 else current_short\n",
    "        prev_long = long_sma.iloc[-2] if len(long_sma) > 1 else current_long\n",
    "        \n",
    "        # Check for crossover\n",
    "        current_cross_up = current_short > current_long\n",
    "        prev_cross_up = prev_short > prev_long\n",
    "        \n",
    "        # Generate signals\n",
    "        if current_cross_up and not prev_cross_up:\n",
    "            # Golden cross (short SMA crosses above long SMA)\n",
    "            # logger.info(f\"Golden cross detected for {symbol}: {current_short:.2f} > {current_long:.2f}\")\n",
    "            print(f\"Golden cross detected for {symbol}: {current_short:.2f} > {current_long:.2f}\")\n",
    "            return 'buy'\n",
    "        elif not current_cross_up and prev_cross_up:\n",
    "            # Death cross (short SMA crosses below long SMA)\n",
    "            # logger.info(f\"Death cross detected for {symbol}: {current_short:.2f} < {current_long:.2f}\")\n",
    "            print(f\"Death cross detected for {symbol}: {current_short:.2f} < {current_long:.2f}\")\n",
    "            return 'sell'\n",
    "        else:\n",
    "            return 'hold'\n",
    "    \n",
    "    def validate_config(self) -> bool:\n",
    "        \"\"\"Validate strategy configuration\"\"\"\n",
    "        if self.short_window <= 0 or self.long_window <= 0:\n",
    "            logger.error(\"SMA windows must be positive\")\n",
    "            return False\n",
    "        \n",
    "        if self.short_window >= self.long_window:\n",
    "            logger.error(\"Short window must be less than long window\")\n",
    "            return False\n",
    "        \n",
    "        return True\n",
    "    \n",
    "    def get_indicators(self, price_data: pd.Series) -> Dict[str, pd.Series]:\n",
    "        \"\"\"Get strategy indicators for the given price data\"\"\"\n",
    "        if len(price_data) < self.long_window:\n",
    "            return {}\n",
    "        \n",
    "        # Calculate SMA components\n",
    "        result = calculate_sma_components(price_data, self.short_window, self.long_window)\n",
    "                \n",
    "        return {\n",
    "            f'{self.short_window}_SMA': result['short_sma'],\n",
    "            f'{self.long_window}_SMA': result['long_sma'],\n",
    "            f'diff': result['sma_diff']\n",
    "        }\n",
    "    \n",
    "    def get_summary(self) -> Dict[str, Any]:\n",
    "        \"\"\"Get strategy summary\"\"\"\n",
    "        return {\n",
    "            'name': self.name,\n",
    "            'strategy_type': 'SMA Crossover',\n",
    "            'short_window': self.short_window,\n",
    "            'long_window': self.long_window,\n",
    "            'description': f'SMA Crossover with {self.short_window}/{self.long_window} periods'\n",
    "        } "
   ]
  },
  {
   "cell_type": "markdown",
   "id": "14c4ae2e",
   "metadata": {},
   "source": [
    "### RSI"
   ]
  },
  {
   "cell_type": "code",
   "execution_count": null,
   "id": "14ea318b",
   "metadata": {},
   "outputs": [],
   "source": []
  },
  {
   "cell_type": "code",
   "execution_count": null,
   "id": "563969ff",
   "metadata": {},
   "outputs": [],
   "source": []
  },
  {
   "cell_type": "code",
   "execution_count": null,
   "id": "149eeb2d",
   "metadata": {},
   "outputs": [],
   "source": []
  },
  {
   "cell_type": "markdown",
   "id": "f9ddd2c6",
   "metadata": {},
   "source": [
    "### Initalize strategies"
   ]
  },
  {
   "cell_type": "code",
   "execution_count": 9,
   "id": "f375498c",
   "metadata": {},
   "outputs": [
    {
     "name": "stderr",
     "output_type": "stream",
     "text": [
      "\u001b[32m2025-08-02 14:57:22.516\u001b[0m | \u001b[1mINFO    \u001b[0m | \u001b[36msrc.strategies.base_strategy\u001b[0m:\u001b[36m__init__\u001b[0m:\u001b[36m34\u001b[0m - \u001b[1mInitialized strategy: sma_crossover\u001b[0m\n",
      "\u001b[32m2025-08-02 14:57:22.518\u001b[0m | \u001b[1mINFO    \u001b[0m | \u001b[36msrc.strategies.sma_crossover\u001b[0m:\u001b[36m__init__\u001b[0m:\u001b[36m48\u001b[0m - \u001b[1mSMA Crossover Strategy initialized: 5/30\u001b[0m\n",
      "\u001b[32m2025-08-02 14:57:22.519\u001b[0m | \u001b[1mINFO    \u001b[0m | \u001b[36msrc.core.trading_engine\u001b[0m:\u001b[36madd_strategy\u001b[0m:\u001b[36m82\u001b[0m - \u001b[1mAdded strategy: sma_crossover\u001b[0m\n",
      "\u001b[32m2025-08-02 14:57:22.521\u001b[0m | \u001b[1mINFO    \u001b[0m | \u001b[36msrc.strategies.base_strategy\u001b[0m:\u001b[36m__init__\u001b[0m:\u001b[36m34\u001b[0m - \u001b[1mInitialized strategy: rsi\u001b[0m\n",
      "\u001b[32m2025-08-02 14:57:22.523\u001b[0m | \u001b[1mINFO    \u001b[0m | \u001b[36msrc.strategies.rsi_strategy\u001b[0m:\u001b[36m__init__\u001b[0m:\u001b[36m56\u001b[0m - \u001b[1mRSI Strategy initialized: period=20, overbought=70, oversold=30\u001b[0m\n",
      "\u001b[32m2025-08-02 14:57:22.525\u001b[0m | \u001b[1mINFO    \u001b[0m | \u001b[36msrc.core.trading_engine\u001b[0m:\u001b[36madd_strategy\u001b[0m:\u001b[36m82\u001b[0m - \u001b[1mAdded strategy: rsi\u001b[0m\n",
      "\u001b[32m2025-08-02 14:57:22.526\u001b[0m | \u001b[1mINFO    \u001b[0m | \u001b[36msrc.strategies.base_strategy\u001b[0m:\u001b[36m__init__\u001b[0m:\u001b[36m34\u001b[0m - \u001b[1mInitialized strategy: macd\u001b[0m\n",
      "\u001b[32m2025-08-02 14:57:22.527\u001b[0m | \u001b[1mINFO    \u001b[0m | \u001b[36msrc.strategies.macd_strategy\u001b[0m:\u001b[36m__init__\u001b[0m:\u001b[36m54\u001b[0m - \u001b[1mMACD Strategy initialized: fast=15, slow=20, signal=7\u001b[0m\n",
      "\u001b[32m2025-08-02 14:57:22.528\u001b[0m | \u001b[1mINFO    \u001b[0m | \u001b[36msrc.core.trading_engine\u001b[0m:\u001b[36madd_strategy\u001b[0m:\u001b[36m82\u001b[0m - \u001b[1mAdded strategy: macd\u001b[0m\n"
     ]
    },
    {
     "name": "stdout",
     "output_type": "stream",
     "text": [
      "Đã thêm 3 strategies:\n",
      "  - sma_crossover: SMACrossoverStrategy\n",
      "  - rsi: RSIStrategy\n",
      "  - macd: MACDStrategy\n"
     ]
    }
   ],
   "source": [
    "# Cell 4: Thêm strategies\n",
    "# SMA Crossover Strategy\n",
    "sma_strategy = SMACrossoverStrategy({\n",
    "    \"short_window\": engine.config.get(\"strategies.sma_crossover.short_window\", 5),\n",
    "    \"long_window\": engine.config.get(\"strategies.sma_crossover.long_window\", 30),\n",
    "    \"name\": \"SMA_Crossover\"\n",
    "})\n",
    "engine.add_strategy(sma_strategy)\n",
    "\n",
    "# RSI Strategy\n",
    "rsi_strategy = RSIStrategy({\n",
    "    \"period\": engine.config.get(\"strategies.rsi.period\", 14),\n",
    "    \"oversold\": engine.config.get(\"strategies.rsi.oversold\", 30),\n",
    "    \"overbought\": engine.config.get(\"strategies.rsi.overbought\", 70),\n",
    "    \"name\": \"RSI_Strategy\"\n",
    "})\n",
    "engine.add_strategy(rsi_strategy)\n",
    "\n",
    "# MACD Strategy\n",
    "macd_strategy = MACDStrategy({\n",
    "    \"fast_period\": engine.config.get(\"strategies.macd.fast_period\", 15),\n",
    "    \"slow_period\": engine.config.get(\"strategies.macd.slow_period\", 20),\n",
    "    \"signal_period\": engine.config.get(\"strategies.macd.signal_period\", 7),\n",
    "    \"name\": \"MACD_Strategy\"\n",
    "})\n",
    "engine.add_strategy(macd_strategy)\n",
    "\n",
    "print(f\"Đã thêm {len(engine.strategies)} strategies:\")\n",
    "for name, strategy in engine.strategies.items():\n",
    "    print(f\"  - {name}: {strategy.__class__.__name__}\")"
   ]
  },
  {
   "cell_type": "markdown",
   "id": "eaf671fd",
   "metadata": {},
   "source": [
    "# **Optimizing**"
   ]
  },
  {
   "cell_type": "code",
   "execution_count": null,
   "id": "1e1fd01b",
   "metadata": {},
   "outputs": [],
   "source": [
    "class ParameterGrid:\n",
    "    \"\"\"Defines parameter grids for different strategy types\"\"\"\n",
    "    \n",
    "    def __init__(self):\n",
    "        \"\"\"Initialize parameter grids for different strategies\"\"\"\n",
    "        self.grids = self._initialize_grids()\n",
    "    \n",
    "    def _initialize_grids(self) -> Dict[str, Dict[str, List]]:\n",
    "        \"\"\"Initialize parameter grids for each strategy type\"\"\"\n",
    "        return {\n",
    "            'sma_crossover': {\n",
    "                'short_window': [5, 10, 15, 20, 25, 30],\n",
    "                'long_window': [30, 40, 50, 60, 70, 80, 90, 100]\n",
    "            },\n",
    "            'rsi': {\n",
    "                'period': [10, 14, 20, 30],\n",
    "                'oversold': [20, 25, 30, 35],\n",
    "                'overbought': [65, 70, 75, 80]\n",
    "            },\n",
    "            'macd': {\n",
    "                'fast_period': [8, 10, 12, 15, 20],\n",
    "                'slow_period': [20, 26, 30, 35, 40],\n",
    "                'signal_period': [7, 9, 12, 15]\n",
    "            },\n",
    "            'bollinger_bands': {\n",
    "                'period': [10, 15, 20, 30],\n",
    "                'std_dev': [1.5, 2.0, 2.5, 3.0]\n",
    "            }\n",
    "        }\n",
    "    \n",
    "    def get_parameter_combinations(self, strategy_type: str) -> List[Dict[str, Any]]:\n",
    "        \"\"\"\n",
    "        Get all parameter combinations for a strategy type\n",
    "        \n",
    "        Args:\n",
    "            strategy_type: Type of strategy ('sma_crossover', 'rsi', 'macd', etc.)\n",
    "            \n",
    "        Returns:\n",
    "            List of parameter dictionaries\n",
    "        \"\"\"\n",
    "        if strategy_type not in self.grids:\n",
    "            logger.warning(f\"No parameter grid defined for strategy type: {strategy_type}\")\n",
    "            return []\n",
    "        \n",
    "        grid = self.grids[strategy_type]\n",
    "        param_names = list(grid.keys())\n",
    "        param_values = list(grid.values())\n",
    "        \n",
    "        # Generate all combinations\n",
    "        combinations = list(itertools.product(*param_values))\n",
    "        \n",
    "        # Convert to list of dictionaries\n",
    "        param_combinations = []\n",
    "        for combo in combinations:\n",
    "            param_dict = dict(zip(param_names, combo))\n",
    "            param_combinations.append(param_dict)\n",
    "        \n",
    "        logger.info(f\"Generated {len(param_combinations)} parameter combinations for {strategy_type}\")\n",
    "        return param_combinations\n",
    "    \n",
    "    def get_filtered_combinations(self, strategy_type: str, \n",
    "                                filters: Dict[str, Any] = None) -> List[Dict[str, Any]]:\n",
    "        \"\"\"\n",
    "        Get parameter combinations with optional filters\n",
    "        \n",
    "        Args:\n",
    "            strategy_type: Type of strategy\n",
    "            filters: Dictionary of filters to apply (e.g., {'short_window': [10, 20]})\n",
    "            \n",
    "        Returns:\n",
    "            Filtered list of parameter dictionaries\n",
    "        \"\"\"\n",
    "        combinations = self.get_parameter_combinations(strategy_type)\n",
    "        \n",
    "        if not filters:\n",
    "            return combinations\n",
    "        \n",
    "        filtered_combinations = []\n",
    "        for combo in combinations:\n",
    "            include = True\n",
    "            for param, allowed_values in filters.items():\n",
    "                if param in combo and combo[param] not in allowed_values:\n",
    "                    include = False\n",
    "                    break\n",
    "            if include:\n",
    "                filtered_combinations.append(combo)\n",
    "        \n",
    "        logger.info(f\"Filtered to {len(filtered_combinations)} combinations\")\n",
    "        return filtered_combinations\n",
    "    \n",
    "    def add_custom_grid(self, strategy_type: str, parameters: Dict[str, List]):\n",
    "        \"\"\"\n",
    "        Add custom parameter grid for a strategy type\n",
    "        \n",
    "        Args:\n",
    "            strategy_type: Name of the strategy type\n",
    "            parameters: Dictionary of parameter names to value lists\n",
    "        \"\"\"\n",
    "        self.grids[strategy_type] = parameters\n",
    "        logger.info(f\"Added custom parameter grid for {strategy_type}\")\n",
    "    \n",
    "    def get_grid_info(self, strategy_type: str) -> Dict[str, Any]:\n",
    "        \"\"\"\n",
    "        Get information about parameter grid for a strategy type\n",
    "        \n",
    "        Args:\n",
    "            strategy_type: Type of strategy\n",
    "            \n",
    "        Returns:\n",
    "            Dictionary with grid information\n",
    "        \"\"\"\n",
    "        if strategy_type not in self.grids:\n",
    "            return {}\n",
    "        \n",
    "        grid = self.grids[strategy_type]\n",
    "        total_combinations = 1\n",
    "        for values in grid.values():\n",
    "            total_combinations *= len(values)\n",
    "        \n",
    "        return {\n",
    "            'parameters': list(grid.keys()),\n",
    "            'parameter_ranges': grid,\n",
    "            'total_combinations': total_combinations\n",
    "        }\n",
    "    \n",
    "    def validate_parameters(self, strategy_type: str, parameters: Dict[str, Any]) -> bool:\n",
    "        \"\"\"\n",
    "        Validate if parameters are within the defined grid\n",
    "        \n",
    "        Args:\n",
    "            strategy_type: Type of strategy\n",
    "            parameters: Parameters to validate\n",
    "            \n",
    "        Returns:\n",
    "            True if parameters are valid\n",
    "        \"\"\"\n",
    "        if strategy_type not in self.grids:\n",
    "            return False\n",
    "        \n",
    "        grid = self.grids[strategy_type]\n",
    "        \n",
    "        for param, value in parameters.items():\n",
    "            if param in grid and value not in grid[param]:\n",
    "                logger.warning(f\"Parameter {param}={value} not in grid for {strategy_type}\")\n",
    "                return False\n",
    "        \n",
    "        return True\n",
    "    \n",
    "    def get_parameter_bounds(self, strategy_type: str) -> Dict[str, Tuple]:\n",
    "        \"\"\"\n",
    "        Get parameter bounds for a strategy type\n",
    "        \n",
    "        Args:\n",
    "            strategy_type: Type of strategy\n",
    "            \n",
    "        Returns:\n",
    "            Dictionary of parameter bounds (min, max)\n",
    "        \"\"\"\n",
    "        if strategy_type not in self.grids:\n",
    "            return {}\n",
    "        \n",
    "        grid = self.grids[strategy_type]\n",
    "        bounds = {}\n",
    "        \n",
    "        for param, values in grid.items():\n",
    "            if values:\n",
    "                bounds[param] = (min(values), max(values))\n",
    "        \n",
    "        return bounds "
   ]
  },
  {
   "cell_type": "code",
   "execution_count": null,
   "id": "8ab7d7f4",
   "metadata": {},
   "outputs": [],
   "source": [
    "class StrategyOptimizer:\n",
    "    \"\"\"Optimizes strategy parameters using risk management metrics\"\"\"\n",
    "    \n",
    "    def __init__(self, config: ConfigManager):\n",
    "        \"\"\"Initialize strategy optimizer\"\"\"\n",
    "        self.config = config\n",
    "        self.backtest_engine = BacktestEngine(config)\n",
    "        self.parameter_grid = ParameterGrid()\n",
    "        \n",
    "        # Strategy factory\n",
    "        self.strategy_factory = {\n",
    "            'sma_crossover': SMACrossoverStrategy,\n",
    "            'rsi': RSIStrategy,\n",
    "            'macd': MACDStrategy\n",
    "        }\n",
    "        \n",
    "        # Optimization results\n",
    "        self.optimization_results = {}\n",
    "        self.best_parameters = {}\n",
    "        \n",
    "        logger.info(\"Strategy optimizer initialized\")\n",
    "    \n",
    "    def optimize_strategy(self, strategy_type: str, \n",
    "                         start_date: str, end_date: str,\n",
    "                         optimization_metric: str = 'sharpe_ratio',\n",
    "                         max_combinations: int = None,\n",
    "                         filters: Dict[str, Any] = None,\n",
    "                         use_parallel: bool = True) -> Dict[str, Any]:\n",
    "        \"\"\"\n",
    "        Optimize parameters for a specific strategy type\n",
    "        \n",
    "        Args:\n",
    "            strategy_type: Type of strategy to optimize\n",
    "            start_date: Start date for optimization period\n",
    "            end_date: End date for optimization period\n",
    "            optimization_metric: Metric to optimize ('sharpe_ratio', 'total_return', 'profit_factor', etc.)\n",
    "            max_combinations: Maximum number of parameter combinations to test\n",
    "            filters: Optional filters for parameter combinations\n",
    "            use_parallel: Whether to use parallel processing\n",
    "            \n",
    "        Returns:\n",
    "            Dictionary containing optimization results\n",
    "        \"\"\"\n",
    "        logger.info(f\"Starting optimization for {strategy_type}\")\n",
    "        \n",
    "        # Get parameter combinations\n",
    "        combinations = self.parameter_grid.get_filtered_combinations(strategy_type, filters)\n",
    "        \n",
    "        if max_combinations and len(combinations) > max_combinations:\n",
    "            # Sample combinations if too many\n",
    "            combinations = np.random.choice(combinations, max_combinations, replace=False).tolist()\n",
    "            logger.info(f\"Sampled {max_combinations} combinations from {len(combinations)} total\")\n",
    "        \n",
    "        if not combinations:\n",
    "            logger.error(f\"No parameter combinations available for {strategy_type}\")\n",
    "            return {}\n",
    "        \n",
    "        # Run optimization\n",
    "        if use_parallel and len(combinations) > 10:\n",
    "            results = self._optimize_parallel(strategy_type, combinations, start_date, end_date, optimization_metric)\n",
    "        else:\n",
    "            results = self._optimize_sequential(strategy_type, combinations, start_date, end_date, optimization_metric)\n",
    "        \n",
    "        # Find best parameters\n",
    "        best_params = self._find_best_parameters(results, optimization_metric)\n",
    "        \n",
    "        # Store results\n",
    "        self.optimization_results[strategy_type] = {\n",
    "            'results': results,\n",
    "            'best_parameters': best_params,\n",
    "            'optimization_metric': optimization_metric,\n",
    "            'total_combinations': len(combinations),\n",
    "            'tested_combinations': len(results)\n",
    "        }\n",
    "        \n",
    "        self.best_parameters[strategy_type] = best_params\n",
    "        \n",
    "        logger.info(f\"Optimization completed for {strategy_type}\")\n",
    "        logger.info(f\"Best parameters: {best_params}\")\n",
    "        \n",
    "        return self.optimization_results[strategy_type]\n",
    "    \n",
    "    def _optimize_sequential(self, strategy_type: str, combinations: List[Dict[str, Any]],\n",
    "                           start_date: str, end_date: str, optimization_metric: str) -> List[Dict[str, Any]]:\n",
    "        \"\"\"Run optimization sequentially\"\"\"\n",
    "        results = []\n",
    "        \n",
    "        for i, params in enumerate(combinations):\n",
    "            try:\n",
    "                result = self._test_parameter_combination(\n",
    "                    strategy_type, params, start_date, end_date\n",
    "                )\n",
    "                result['parameters'] = params\n",
    "                result['combination_index'] = i\n",
    "                results.append(result)\n",
    "                \n",
    "                if (i + 1) % 10 == 0:\n",
    "                    logger.info(f\"Tested {i + 1}/{len(combinations)} combinations\")\n",
    "                    \n",
    "            except Exception as e:\n",
    "                logger.warning(f\"Failed to test combination {i}: {e}\")\n",
    "                continue\n",
    "        \n",
    "        return results\n",
    "    \n",
    "    def _optimize_parallel(self, strategy_type: str, combinations: List[Dict[str, Any]],\n",
    "                          start_date: str, end_date: str, optimization_metric: str) -> List[Dict[str, Any]]:\n",
    "        \"\"\"Run optimization using parallel processing\"\"\"\n",
    "        results = []\n",
    "        \n",
    "        with ProcessPoolExecutor(max_workers=min(4, len(combinations))) as executor:\n",
    "            # Submit all tasks\n",
    "            future_to_params = {\n",
    "                executor.submit(self._test_parameter_combination, strategy_type, params, start_date, end_date): params\n",
    "                for params in combinations\n",
    "            }\n",
    "            \n",
    "            # Collect results\n",
    "            for i, future in enumerate(as_completed(future_to_params)):\n",
    "                params = future_to_params[future]\n",
    "                try:\n",
    "                    result = future.result()\n",
    "                    result['parameters'] = params\n",
    "                    result['combination_index'] = i\n",
    "                    results.append(result)\n",
    "                    \n",
    "                    if (i + 1) % 10 == 0:\n",
    "                        logger.info(f\"Completed {i + 1}/{len(combinations)} combinations\")\n",
    "                        \n",
    "                except Exception as e:\n",
    "                    logger.warning(f\"Failed to test combination {i}: {e}\")\n",
    "                    continue\n",
    "        \n",
    "        return results\n",
    "    \n",
    "    def _test_parameter_combination(self, strategy_type: str, params: Dict[str, Any],\n",
    "                                  start_date: str, end_date: str) -> Dict[str, Any]:\n",
    "        \"\"\"Test a single parameter combination\"\"\"\n",
    "        try:\n",
    "            # Create strategy with parameters\n",
    "            strategy_class = self.strategy_factory.get(strategy_type)\n",
    "            if not strategy_class:\n",
    "                raise ValueError(f\"Unknown strategy type: {strategy_type}\")\n",
    "            \n",
    "            strategy = strategy_class(params)\n",
    "            \n",
    "            # Run backtest\n",
    "            strategies = {f\"{strategy_type}_test\": strategy}\n",
    "            results = self.backtest_engine.run_backtest(strategies, start_date, end_date)\n",
    "            \n",
    "            # Extract metrics\n",
    "            strategy_result = results.get(f\"{strategy_type}_test\", {})\n",
    "            performance_metrics = strategy_result.get('performance_metrics', {})\n",
    "            risk_metrics = strategy_result.get('risk_metrics', {})\n",
    "            \n",
    "            return {\n",
    "                'total_return': performance_metrics.get('total_return', 0),\n",
    "                'annualized_return': performance_metrics.get('annualized_return', 0),\n",
    "                'sharpe_ratio': performance_metrics.get('sharpe_ratio', 0),\n",
    "                'max_drawdown': performance_metrics.get('max_drawdown', 0),\n",
    "                'volatility': performance_metrics.get('volatility', 0),\n",
    "                'win_rate': performance_metrics.get('win_rate', 0),\n",
    "                'profit_factor': performance_metrics.get('profit_factor', 0),\n",
    "                'total_trades': performance_metrics.get('total_trades', 0),\n",
    "                'final_portfolio_value': performance_metrics.get('final_portfolio_value', 0),\n",
    "                'current_drawdown': risk_metrics.get('current_drawdown', 0),\n",
    "                'portfolio_volatility': risk_metrics.get('volatility', 0)\n",
    "            }\n",
    "            \n",
    "        except Exception as e:\n",
    "            logger.error(f\"Error testing parameters {params}: {e}\")\n",
    "            return {\n",
    "                'total_return': 0,\n",
    "                'annualized_return': 0,\n",
    "                'sharpe_ratio': -999,\n",
    "                'max_drawdown': 0,\n",
    "                'volatility': 0,\n",
    "                'win_rate': 0,\n",
    "                'profit_factor': 0,\n",
    "                'total_trades': 0,\n",
    "                'final_portfolio_value': 0,\n",
    "                'current_drawdown': 0,\n",
    "                'portfolio_volatility': 0\n",
    "            }\n",
    "    \n",
    "    def _find_best_parameters(self, results: List[Dict[str, Any]], \n",
    "                             optimization_metric: str) -> Dict[str, Any]:\n",
    "        \"\"\"Find the best parameters based on optimization metric\"\"\"\n",
    "        if not results:\n",
    "            return {}\n",
    "        \n",
    "        # Sort by optimization metric\n",
    "        valid_results = [r for r in results if r.get(optimization_metric) is not None]\n",
    "        \n",
    "        if not valid_results:\n",
    "            return {}\n",
    "        \n",
    "        # Sort by optimization metric (descending for most metrics, ascending for drawdown)\n",
    "        reverse = optimization_metric not in ['max_drawdown', 'volatility', 'current_drawdown']\n",
    "        sorted_results = sorted(valid_results, \n",
    "                              key=lambda x: x.get(optimization_metric, 0), \n",
    "                              reverse=reverse)\n",
    "        \n",
    "        best_result = sorted_results[0]\n",
    "        return {\n",
    "            'parameters': best_result.get('parameters', {}),\n",
    "            'metrics': {k: v for k, v in best_result.items() if k != 'parameters' and k != 'combination_index'},\n",
    "            'rank': 1\n",
    "        }\n",
    "    \n",
    "    def optimize_multiple_strategies(self, strategy_types: List[str],\n",
    "                                   start_date: str, end_date: str,\n",
    "                                   optimization_metric: str = 'sharpe_ratio',\n",
    "                                   max_combinations_per_strategy: int = None) -> Dict[str, Any]:\n",
    "        \"\"\"\n",
    "        Optimize multiple strategies\n",
    "        \n",
    "        Args:\n",
    "            strategy_types: List of strategy types to optimize\n",
    "            start_date: Start date for optimization period\n",
    "            end_date: End date for optimization period\n",
    "            optimization_metric: Metric to optimize\n",
    "            max_combinations_per_strategy: Maximum combinations per strategy\n",
    "            \n",
    "        Returns:\n",
    "            Dictionary containing results for all strategies\n",
    "        \"\"\"\n",
    "        all_results = {}\n",
    "        \n",
    "        for strategy_type in strategy_types:\n",
    "            logger.info(f\"Optimizing {strategy_type}\")\n",
    "            \n",
    "            try:\n",
    "                result = self.optimize_strategy(\n",
    "                    strategy_type, start_date, end_date, \n",
    "                    optimization_metric, max_combinations_per_strategy\n",
    "                )\n",
    "                all_results[strategy_type] = result\n",
    "                \n",
    "            except Exception as e:\n",
    "                logger.error(f\"Failed to optimize {strategy_type}: {e}\")\n",
    "                continue\n",
    "        \n",
    "        return all_results\n",
    "    \n",
    "    def get_optimization_summary(self, strategy_type: str = None) -> Dict[str, Any]:\n",
    "        \"\"\"Get summary of optimization results\"\"\"\n",
    "        if strategy_type:\n",
    "            if strategy_type not in self.optimization_results:\n",
    "                return {}\n",
    "            return self.optimization_results[strategy_type]\n",
    "        \n",
    "        return {\n",
    "            'strategies': list(self.optimization_results.keys()),\n",
    "            'best_parameters': self.best_parameters,\n",
    "            'total_optimizations': len(self.optimization_results)\n",
    "        }\n",
    "    \n",
    "    def get_top_parameters(self, strategy_type: str, top_n: int = 5, \n",
    "                          metric: str = 'sharpe_ratio') -> List[Dict[str, Any]]:\n",
    "        \"\"\"Get top N parameter combinations for a strategy\"\"\"\n",
    "        if strategy_type not in self.optimization_results:\n",
    "            return []\n",
    "        \n",
    "        results = self.optimization_results[strategy_type]['results']\n",
    "        valid_results = [r for r in results if r.get(metric) is not None]\n",
    "        \n",
    "        if not valid_results:\n",
    "            return []\n",
    "        \n",
    "        # Sort by metric\n",
    "        reverse = metric not in ['max_drawdown', 'volatility', 'current_drawdown']\n",
    "        sorted_results = sorted(valid_results, \n",
    "                              key=lambda x: x.get(metric, 0), \n",
    "                              reverse=reverse)\n",
    "        \n",
    "        top_results = []\n",
    "        for i, result in enumerate(sorted_results[:top_n]):\n",
    "            top_results.append({\n",
    "                'rank': i + 1,\n",
    "                'parameters': result.get('parameters', {}),\n",
    "                'metrics': {k: v for k, v in result.items() \n",
    "                           if k not in ['parameters', 'combination_index']}\n",
    "            })\n",
    "        \n",
    "        return top_results\n",
    "    \n",
    "    def save_optimization_results(self, filepath: str):\n",
    "        \"\"\"Save optimization results to file\"\"\"\n",
    "        # Convert results to serializable format\n",
    "        serializable_results = {}\n",
    "        for strategy_type, result in self.optimization_results.items():\n",
    "            serializable_results[strategy_type] = {\n",
    "                'best_parameters': result['best_parameters'],\n",
    "                'optimization_metric': result['optimization_metric'],\n",
    "                'total_combinations': result['total_combinations'],\n",
    "                'tested_combinations': result['tested_combinations'],\n",
    "                'top_results': self.get_top_parameters(strategy_type, top_n=10)\n",
    "            }\n",
    "        \n",
    "        with open(filepath, 'w') as f:\n",
    "            json.dump(serializable_results, f, indent=2, default=str)\n",
    "        \n",
    "        logger.info(f\"Optimization results saved to {filepath}\")\n",
    "    \n",
    "    def load_optimization_results(self, filepath: str):\n",
    "        \"\"\"Load optimization results from file\"\"\"\n",
    "        if not os.path.exists(filepath):\n",
    "            logger.warning(f\"Optimization results file not found: {filepath}\")\n",
    "            return\n",
    "        \n",
    "        with open(filepath, 'r') as f:\n",
    "            data = json.load(f)\n",
    "        \n",
    "        # Convert back to internal format\n",
    "        for strategy_type, result in data.items():\n",
    "            self.best_parameters[strategy_type] = result.get('best_parameters', {})\n",
    "        \n",
    "        logger.info(f\"Optimization results loaded from {filepath}\")\n",
    "    \n",
    "    def create_optimized_strategy(self, strategy_type: str, \n",
    "                                use_best_parameters: bool = True,\n",
    "                                custom_parameters: Dict[str, Any] = None) -> Any:\n",
    "        \"\"\"\n",
    "        Create a strategy with optimized parameters\n",
    "        \n",
    "        Args:\n",
    "            strategy_type: Type of strategy to create\n",
    "            use_best_parameters: Whether to use best parameters from optimization\n",
    "            custom_parameters: Custom parameters to use instead\n",
    "            \n",
    "        Returns:\n",
    "            Strategy instance\n",
    "        \"\"\"\n",
    "        if strategy_type not in self.strategy_factory:\n",
    "            raise ValueError(f\"Unknown strategy type: {strategy_type}\")\n",
    "        \n",
    "        if use_best_parameters and strategy_type in self.best_parameters:\n",
    "            params = self.best_parameters[strategy_type].get('parameters', {})\n",
    "        elif custom_parameters:\n",
    "            params = custom_parameters\n",
    "        else:\n",
    "            # Use default parameters\n",
    "            params = {}\n",
    "        \n",
    "        strategy_class = self.strategy_factory[strategy_type]\n",
    "        return strategy_class(params)\n",
    "    \n",
    "    def generate_optimization_report(self, strategy_type: str = None) -> str:\n",
    "        \"\"\"Generate a comprehensive optimization report\"\"\"\n",
    "        if strategy_type and strategy_type not in self.optimization_results:\n",
    "            return f\"No optimization results available for {strategy_type}\"\n",
    "        \n",
    "        report = []\n",
    "        report.append(\"=\" * 60)\n",
    "        report.append(\"STRATEGY OPTIMIZATION REPORT\")\n",
    "        report.append(\"=\" * 60)\n",
    "        \n",
    "        if strategy_type:\n",
    "            self._add_strategy_report(report, strategy_type)\n",
    "        else:\n",
    "            for strategy_type in self.optimization_results.keys():\n",
    "                self._add_strategy_report(report, strategy_type)\n",
    "                report.append(\"-\" * 40)\n",
    "        \n",
    "        return \"\\n\".join(report)\n",
    "    \n",
    "    def _add_strategy_report(self, report: List[str], strategy_type: str):\n",
    "        \"\"\"Add strategy-specific report section\"\"\"\n",
    "        result = self.optimization_results[strategy_type]\n",
    "        best_params = result['best_parameters']\n",
    "        \n",
    "        report.append(f\"\\nStrategy: {strategy_type.upper()}\")\n",
    "        report.append(f\"Optimization Metric: {result['optimization_metric']}\")\n",
    "        report.append(f\"Total Combinations Tested: {result['tested_combinations']}\")\n",
    "        report.append(f\"Best Parameters: {best_params.get('parameters', {})}\")\n",
    "        \n",
    "        metrics = best_params.get('metrics', {})\n",
    "        if metrics:\n",
    "            report.append(f\"Best Performance Metrics:\")\n",
    "            report.append(f\"  Total Return: {metrics.get('total_return', 0):.2%}\")\n",
    "            report.append(f\"  Annualized Return: {metrics.get('annualized_return', 0):.2%}\")\n",
    "            report.append(f\"  Sharpe Ratio: {metrics.get('sharpe_ratio', 0):.2f}\")\n",
    "            report.append(f\"  Max Drawdown: {metrics.get('max_drawdown', 0):.2%}\")\n",
    "            report.append(f\"  Win Rate: {metrics.get('win_rate', 0):.2%}\")\n",
    "            report.append(f\"  Profit Factor: {metrics.get('profit_factor', 0):.2f}\")\n",
    "            report.append(f\"  Total Trades: {metrics.get('total_trades', 0)}\")\n",
    "    \n",
    "    def plot_optimization_results(self, strategy_type: str, save_path: str = None):\n",
    "        \"\"\"Plot optimization results for a strategy\"\"\"\n",
    "        if strategy_type not in self.optimization_results:\n",
    "            logger.warning(f\"No optimization results for {strategy_type}\")\n",
    "            return\n",
    "        \n",
    "        import matplotlib.pyplot as plt\n",
    "        \n",
    "        results = self.optimization_results[strategy_type]['results']\n",
    "        \n",
    "        # Create scatter plot of parameter combinations vs performance\n",
    "        fig, axes = plt.subplots(2, 2, figsize=(15, 10))\n",
    "        fig.suptitle(f'Optimization Results: {strategy_type.upper()}', fontsize=16)\n",
    "        \n",
    "        # Extract data for plotting\n",
    "        sharpe_ratios = [r.get('sharpe_ratio', 0) for r in results]\n",
    "        total_returns = [r.get('total_return', 0) for r in results]\n",
    "        max_drawdowns = [r.get('max_drawdown', 0) for r in results]\n",
    "        win_rates = [r.get('win_rate', 0) for r in results]\n",
    "        \n",
    "        # Sharpe ratio distribution\n",
    "        axes[0, 0].hist(sharpe_ratios, bins=20, alpha=0.7)\n",
    "        axes[0, 0].set_title('Sharpe Ratio Distribution')\n",
    "        axes[0, 0].set_xlabel('Sharpe Ratio')\n",
    "        axes[0, 0].grid(True)\n",
    "        \n",
    "        # Total return vs max drawdown\n",
    "        axes[0, 1].scatter(max_drawdowns, total_returns, alpha=0.6)\n",
    "        axes[0, 1].set_title('Return vs Drawdown')\n",
    "        axes[0, 1].set_xlabel('Max Drawdown')\n",
    "        axes[0, 1].set_ylabel('Total Return')\n",
    "        axes[0, 1].grid(True)\n",
    "        \n",
    "        # Win rate vs profit factor\n",
    "        axes[1, 0].scatter(win_rates, [r.get('profit_factor', 0) for r in results], alpha=0.6)\n",
    "        axes[1, 0].set_title('Win Rate vs Profit Factor')\n",
    "        axes[1, 0].set_xlabel('Win Rate')\n",
    "        axes[1, 0].set_ylabel('Profit Factor')\n",
    "        axes[1, 0].grid(True)\n",
    "        \n",
    "        # Performance metrics comparison\n",
    "        metrics = ['sharpe_ratio', 'total_return', 'win_rate', 'profit_factor']\n",
    "        metric_values = []\n",
    "        for metric in metrics:\n",
    "            values = [r.get(metric, 0) for r in results]\n",
    "            metric_values.append(np.mean(values))\n",
    "        \n",
    "        axes[1, 1].bar(metrics, metric_values)\n",
    "        axes[1, 1].set_title('Average Performance Metrics')\n",
    "        axes[1, 1].set_ylabel('Average Value')\n",
    "        axes[1, 1].tick_params(axis='x', rotation=45)\n",
    "        \n",
    "        plt.tight_layout()\n",
    "        \n",
    "        if save_path:\n",
    "            plt.savefig(save_path, dpi=300, bbox_inches='tight')\n",
    "        else:\n",
    "            plt.show()\n",
    "        \n",
    "        plt.close() "
   ]
  },
  {
   "cell_type": "markdown",
   "id": "b1f92541",
   "metadata": {},
   "source": [
    "# **Backtest**"
   ]
  },
  {
   "cell_type": "code",
   "execution_count": 10,
   "id": "bea6ba15",
   "metadata": {},
   "outputs": [
    {
     "name": "stderr",
     "output_type": "stream",
     "text": [
      "\u001b[32m2025-08-02 14:57:30.276\u001b[0m | \u001b[1mINFO    \u001b[0m | \u001b[36msrc.core.trading_engine\u001b[0m:\u001b[36mrun_backtest\u001b[0m:\u001b[36m86\u001b[0m - \u001b[1mStarting backtest from 2023-01-01 to 2025-07-31\u001b[0m\n",
      "\u001b[32m2025-08-02 14:57:30.277\u001b[0m | \u001b[1mINFO    \u001b[0m | \u001b[36msrc.data.data_manager\u001b[0m:\u001b[36mget_historical_data_standardized\u001b[0m:\u001b[36m589\u001b[0m - \u001b[1mFetching standardized OHLCV data for ['Bitstamp:BTCUSD'] from 2023-01-01 to 2025-07-31\u001b[0m\n",
      "\u001b[32m2025-08-02 14:57:30.278\u001b[0m | \u001b[1mINFO    \u001b[0m | \u001b[36msrc.data.data_manager\u001b[0m:\u001b[36mget_historical_data\u001b[0m:\u001b[36m64\u001b[0m - \u001b[1mFetching historical OHLCV data for ['Bitstamp:BTCUSD'] from 2023-01-01 to 2025-07-31\u001b[0m\n"
     ]
    },
    {
     "name": "stdout",
     "output_type": "stream",
     "text": [
      "Bắt đầu chạy backtest...\n",
      "SMA Crossover: True\n",
      "RSI: False\n",
      "MACD: False \n",
      "\n"
     ]
    },
    {
     "name": "stderr",
     "output_type": "stream",
     "text": [
      "\u001b[32m2025-08-02 14:57:30.669\u001b[0m | \u001b[1mINFO    \u001b[0m | \u001b[36msrc.data.data_manager\u001b[0m:\u001b[36m_fetch_tradingview_ohlcv_data\u001b[0m:\u001b[36m159\u001b[0m - \u001b[1mSuccessfully fetched OHLCV data for 1 symbols\u001b[0m\n",
      "\u001b[32m2025-08-02 14:57:30.671\u001b[0m | \u001b[1mINFO    \u001b[0m | \u001b[36msrc.data.data_manager\u001b[0m:\u001b[36mget_historical_data\u001b[0m:\u001b[36m97\u001b[0m - \u001b[1mOHLCV data cached successfully\u001b[0m\n",
      "\u001b[32m2025-08-02 14:57:30.675\u001b[0m | \u001b[1mINFO    \u001b[0m | \u001b[36msrc.data.data_manager\u001b[0m:\u001b[36mensure_ohlcv_format\u001b[0m:\u001b[36m500\u001b[0m - \u001b[1mData formatted for Bitstamp:BTCUSD: (100, 5)\u001b[0m\n",
      "\u001b[32m2025-08-02 14:57:30.676\u001b[0m | \u001b[1mINFO    \u001b[0m | \u001b[36msrc.data.data_manager\u001b[0m:\u001b[36mget_historical_data_standardized\u001b[0m:\u001b[36m622\u001b[0m - \u001b[1mSuccessfully standardized OHLCV data for 1 symbols\u001b[0m\n",
      "\u001b[32m2025-08-02 14:57:30.680\u001b[0m | \u001b[1mINFO    \u001b[0m | \u001b[36msrc.core.trading_engine\u001b[0m:\u001b[36mrun_backtest\u001b[0m:\u001b[36m107\u001b[0m - \u001b[1mLoaded 100 data points for [('Bitstamp:BTCUSD', 'open'), ('Bitstamp:BTCUSD', 'high'), ('Bitstamp:BTCUSD', 'low'), ('Bitstamp:BTCUSD', 'close'), ('Bitstamp:BTCUSD', 'volume')]\u001b[0m\n",
      "\u001b[32m2025-08-02 14:57:30.697\u001b[0m | \u001b[1mINFO    \u001b[0m | \u001b[36msrc.strategies.sma_crossover\u001b[0m:\u001b[36m_generate_signal_for_symbol\u001b[0m:\u001b[36m109\u001b[0m - \u001b[1mGolden cross detected for Bitstamp:BTCUSD: 118563.60 > 118355.17\u001b[0m\n",
      "\u001b[32m2025-08-02 14:57:30.699\u001b[0m | \u001b[1mINFO    \u001b[0m | \u001b[36msrc.core.trading_engine\u001b[0m:\u001b[36m_execute_buy_order\u001b[0m:\u001b[36m236\u001b[0m - \u001b[1mBUY: 0.168 Bitstamp:BTCUSD @ $119344.00 (sma_crossover)\u001b[0m\n",
      "\u001b[32m2025-08-02 14:57:30.706\u001b[0m | \u001b[1mINFO    \u001b[0m | \u001b[36msrc.strategies.sma_crossover\u001b[0m:\u001b[36m_generate_signal_for_symbol\u001b[0m:\u001b[36m113\u001b[0m - \u001b[1mDeath cross detected for Bitstamp:BTCUSD: 118118.20 < 118364.77\u001b[0m\n",
      "\u001b[32m2025-08-02 14:57:30.706\u001b[0m | \u001b[1mINFO    \u001b[0m | \u001b[36msrc.core.trading_engine\u001b[0m:\u001b[36m_execute_sell_order\u001b[0m:\u001b[36m274\u001b[0m - \u001b[1mSELL: 0.17 Bitstamp:BTCUSD @ $115400.00 | P&L: $-680.29 (-3.40%) (sma_crossover)\u001b[0m\n",
      "\u001b[32m2025-08-02 14:57:30.711\u001b[0m | \u001b[1mINFO    \u001b[0m | \u001b[36msrc.strategies.sma_crossover\u001b[0m:\u001b[36m_generate_signal_for_symbol\u001b[0m:\u001b[36m109\u001b[0m - \u001b[1mGolden cross detected for Bitstamp:BTCUSD: 118098.80 > 118073.20\u001b[0m\n",
      "\u001b[32m2025-08-02 14:57:30.711\u001b[0m | \u001b[1mINFO    \u001b[0m | \u001b[36msrc.core.trading_engine\u001b[0m:\u001b[36m_execute_buy_order\u001b[0m:\u001b[36m236\u001b[0m - \u001b[1mBUY: 0.168 Bitstamp:BTCUSD @ $118243.00 (sma_crossover)\u001b[0m\n",
      "\u001b[32m2025-08-02 14:57:30.723\u001b[0m | \u001b[1mINFO    \u001b[0m | \u001b[36msrc.strategies.sma_crossover\u001b[0m:\u001b[36m_generate_signal_for_symbol\u001b[0m:\u001b[36m113\u001b[0m - \u001b[1mDeath cross detected for Bitstamp:BTCUSD: 117905.80 < 117976.97\u001b[0m\n",
      "\u001b[32m2025-08-02 14:57:30.723\u001b[0m | \u001b[1mINFO    \u001b[0m | \u001b[36msrc.core.trading_engine\u001b[0m:\u001b[36m_execute_sell_order\u001b[0m:\u001b[36m274\u001b[0m - \u001b[1mSELL: 0.17 Bitstamp:BTCUSD @ $118144.00 | P&L: $-36.47 (-0.18%) (sma_crossover)\u001b[0m\n",
      "\u001b[32m2025-08-02 14:57:30.729\u001b[0m | \u001b[1mINFO    \u001b[0m | \u001b[36msrc.strategies.sma_crossover\u001b[0m:\u001b[36m_generate_signal_for_symbol\u001b[0m:\u001b[36m109\u001b[0m - \u001b[1mGolden cross detected for Bitstamp:BTCUSD: 118316.80 > 118284.57\u001b[0m\n",
      "\u001b[32m2025-08-02 14:57:30.729\u001b[0m | \u001b[1mINFO    \u001b[0m | \u001b[36msrc.core.trading_engine\u001b[0m:\u001b[36m_execute_buy_order\u001b[0m:\u001b[36m236\u001b[0m - \u001b[1mBUY: 0.168 Bitstamp:BTCUSD @ $118290.00 (sma_crossover)\u001b[0m\n",
      "\u001b[32m2025-08-02 14:57:30.731\u001b[0m | \u001b[1mINFO    \u001b[0m | \u001b[36msrc.strategies.sma_crossover\u001b[0m:\u001b[36m_generate_signal_for_symbol\u001b[0m:\u001b[36m113\u001b[0m - \u001b[1mDeath cross detected for Bitstamp:BTCUSD: 118103.40 < 118234.27\u001b[0m\n",
      "\u001b[32m2025-08-02 14:57:30.731\u001b[0m | \u001b[1mINFO    \u001b[0m | \u001b[36msrc.core.trading_engine\u001b[0m:\u001b[36m_execute_sell_order\u001b[0m:\u001b[36m274\u001b[0m - \u001b[1mSELL: 0.17 Bitstamp:BTCUSD @ $116767.00 | P&L: $-275.15 (-1.39%) (sma_crossover)\u001b[0m\n",
      "\u001b[32m2025-08-02 14:57:30.740\u001b[0m | \u001b[1mINFO    \u001b[0m | \u001b[36msrc.core.trading_engine\u001b[0m:\u001b[36m_generate_backtest_report\u001b[0m:\u001b[36m326\u001b[0m - \u001b[1m=== BACKTEST RESULTS ===\u001b[0m\n",
      "\u001b[32m2025-08-02 14:57:30.740\u001b[0m | \u001b[1mINFO    \u001b[0m | \u001b[36msrc.core.trading_engine\u001b[0m:\u001b[36m_generate_backtest_report\u001b[0m:\u001b[36m327\u001b[0m - \u001b[1mInitial Capital: $100,000.00\u001b[0m\n",
      "\u001b[32m2025-08-02 14:57:30.740\u001b[0m | \u001b[1mINFO    \u001b[0m | \u001b[36msrc.core.trading_engine\u001b[0m:\u001b[36m_generate_backtest_report\u001b[0m:\u001b[36m328\u001b[0m - \u001b[1mFinal Portfolio Value: $98,948.39\u001b[0m\n",
      "\u001b[32m2025-08-02 14:57:30.740\u001b[0m | \u001b[1mINFO    \u001b[0m | \u001b[36msrc.core.trading_engine\u001b[0m:\u001b[36m_generate_backtest_report\u001b[0m:\u001b[36m329\u001b[0m - \u001b[1mTotal Return: -1.05%\u001b[0m\n",
      "\u001b[32m2025-08-02 14:57:30.740\u001b[0m | \u001b[1mINFO    \u001b[0m | \u001b[36msrc.core.trading_engine\u001b[0m:\u001b[36m_generate_backtest_report\u001b[0m:\u001b[36m330\u001b[0m - \u001b[1mAnnualized Volatility: 1.16%\u001b[0m\n",
      "\u001b[32m2025-08-02 14:57:30.741\u001b[0m | \u001b[1mINFO    \u001b[0m | \u001b[36msrc.core.trading_engine\u001b[0m:\u001b[36m_generate_backtest_report\u001b[0m:\u001b[36m331\u001b[0m - \u001b[1mSharpe Ratio: -2.31\u001b[0m\n",
      "\u001b[32m2025-08-02 14:57:30.741\u001b[0m | \u001b[1mINFO    \u001b[0m | \u001b[36msrc.core.trading_engine\u001b[0m:\u001b[36m_generate_backtest_report\u001b[0m:\u001b[36m332\u001b[0m - \u001b[1mMaximum Drawdown: -1.14%\u001b[0m\n",
      "\u001b[32m2025-08-02 14:57:30.742\u001b[0m | \u001b[1mINFO    \u001b[0m | \u001b[36msrc.core.trading_engine\u001b[0m:\u001b[36m_generate_backtest_report\u001b[0m:\u001b[36m333\u001b[0m - \u001b[1mTotal Trades: 6\u001b[0m\n",
      "\u001b[32m2025-08-02 14:57:30.742\u001b[0m | \u001b[1mINFO    \u001b[0m | \u001b[36msrc.core.trading_engine\u001b[0m:\u001b[36m_generate_backtest_report\u001b[0m:\u001b[36m334\u001b[0m - \u001b[1mBuy Trades: 3\u001b[0m\n",
      "\u001b[32m2025-08-02 14:57:30.743\u001b[0m | \u001b[1mINFO    \u001b[0m | \u001b[36msrc.core.trading_engine\u001b[0m:\u001b[36m_generate_backtest_report\u001b[0m:\u001b[36m335\u001b[0m - \u001b[1mSell Trades: 3\u001b[0m\n",
      "\u001b[32m2025-08-02 14:57:30.750\u001b[0m | \u001b[1mINFO    \u001b[0m | \u001b[36msrc.core.trading_engine\u001b[0m:\u001b[36m_generate_backtest_report\u001b[0m:\u001b[36m343\u001b[0m - \u001b[1mBacktest results saved to data/backtest_results.csv\u001b[0m\n",
      "\u001b[32m2025-08-02 14:57:30.752\u001b[0m | \u001b[1mINFO    \u001b[0m | \u001b[36msrc.core.trading_engine\u001b[0m:\u001b[36m_generate_backtest_report\u001b[0m:\u001b[36m360\u001b[0m - \u001b[1mTrade details saved to data/trades.csv\u001b[0m\n"
     ]
    }
   ],
   "source": [
    "# Cell 5: Chạy backtest\n",
    "print(\"Bắt đầu chạy backtest...\")\n",
    "\n",
    "# Chạy chiến lược\n",
    "print('SMA Crossover:', engine.config.get('strategies.sma_crossover.enabled', False))\n",
    "print('RSI:', engine.config.get('strategies.rsi.enabled', False))\n",
    "print('MACD:', engine.config.get('strategies.macd.enabled', False), '\\n')\n",
    "\n",
    "# Chạy backtest với chiến lược đã chọn\n",
    "engine.run_backtest(start_date, end_date)"
   ]
  },
  {
   "cell_type": "markdown",
   "id": "0efefd76",
   "metadata": {},
   "source": [
    "# **Showing Results**"
   ]
  },
  {
   "cell_type": "code",
   "execution_count": 11,
   "id": "dd952ed1",
   "metadata": {},
   "outputs": [
    {
     "name": "stdout",
     "output_type": "stream",
     "text": [
      "\n",
      "=== CHI TIẾT TRADES (6 trades) ===\n",
      "            Symbol  Side  Quantity     Price           Timestamp  Commission  \\\n",
      "0  Bitstamp:BTCUSD   buy  0.167583  119344.0 2025-07-22 23:00:00   20.000000   \n",
      "1  Bitstamp:BTCUSD  sell  0.167583  115400.0 2025-07-25 07:00:00   19.339053   \n",
      "2  Bitstamp:BTCUSD   buy  0.167959  118243.0 2025-07-27 07:00:00   19.859943   \n",
      "3  Bitstamp:BTCUSD  sell  0.167959  118144.0 2025-07-30 07:00:00   19.843315   \n",
      "4  Bitstamp:BTCUSD   buy  0.167797  118290.0 2025-07-31 19:00:00   19.848677   \n",
      "5  Bitstamp:BTCUSD  sell  0.167797  116767.0 2025-07-31 23:00:00   19.593122   \n",
      "\n",
      "        Strategy  \n",
      "0  sma_crossover  \n",
      "1  sma_crossover  \n",
      "2  sma_crossover  \n",
      "3  sma_crossover  \n",
      "4  sma_crossover  \n",
      "5  sma_crossover  \n",
      "\n",
      "=== TRADE STATISTICS ===\n",
      "Total Trades: 6\n",
      "Buy Trades: 3\n",
      "Sell Trades: 3\n",
      "Average Trade Size: 0.17\n",
      "Total Commission: $118.48\n"
     ]
    }
   ],
   "source": [
    "# Cell 8: Hiển thị chi tiết trades\n",
    "if hasattr(engine, 'trades') and engine.trades:\n",
    "    print(f\"\\n=== CHI TIẾT TRADES ({len(engine.trades)} trades) ===\")\n",
    "    \n",
    "    trades_df = pd.DataFrame([\n",
    "        {\n",
    "            'Symbol': trade.symbol,\n",
    "            'Side': trade.side,\n",
    "            'Quantity': trade.quantity,\n",
    "            'Price': trade.price,\n",
    "            'Timestamp': trade.timestamp,\n",
    "            'Commission': trade.commission,\n",
    "            'Strategy': trade.strategy\n",
    "        }\n",
    "        for trade in engine.trades\n",
    "    ])\n",
    "    \n",
    "    print(trades_df.head(10))\n",
    "    \n",
    "    # Trade statistics\n",
    "    print(f\"\\n=== TRADE STATISTICS ===\")\n",
    "    print(f\"Total Trades: {len(engine.trades)}\")\n",
    "    print(f\"Buy Trades: {len(trades_df[trades_df['Side'] == 'buy'])}\")\n",
    "    print(f\"Sell Trades: {len(trades_df[trades_df['Side'] == 'sell'])}\")\n",
    "    print(f\"Average Trade Size: {trades_df['Quantity'].mean():.2f}\")\n",
    "    print(f\"Total Commission: ${trades_df['Commission'].sum():.2f}\")\n",
    "else:\n",
    "    print(\"Không có trades nào được thực hiện\")"
   ]
  },
  {
   "cell_type": "code",
   "execution_count": 12,
   "id": "85bdd3ab",
   "metadata": {},
   "outputs": [
    {
     "name": "stdout",
     "output_type": "stream",
     "text": [
      "=== KẾT QUẢ BACKTEST ===\n",
      "Initial Capital: $100,000.00\n",
      "Final Portfolio Value: $98,948.39\n",
      "Total Return: -1.05%\n",
      "Annualized Return: -2.66%\n",
      "Sharpe Ratio: -2.31\n",
      "Max Drawdown: -1.14%\n",
      "Win Rate: 0.00%\n",
      "Total Trades: 6\n"
     ]
    },
    {
     "data": {
      "application/vnd.plotly.v1+json": {
       "config": {
        "plotlyServerURL": "https://plot.ly"
       },
       "data": [
        {
         "mode": "lines",
         "name": "Portfolio Value",
         "type": "scatter",
         "x": [
          "2025-07-16T23:00:00.000000000",
          "2025-07-17T03:00:00.000000000",
          "2025-07-17T07:00:00.000000000",
          "2025-07-17T11:00:00.000000000",
          "2025-07-17T15:00:00.000000000",
          "2025-07-17T19:00:00.000000000",
          "2025-07-17T23:00:00.000000000",
          "2025-07-18T03:00:00.000000000",
          "2025-07-18T07:00:00.000000000",
          "2025-07-18T11:00:00.000000000",
          "2025-07-18T15:00:00.000000000",
          "2025-07-18T19:00:00.000000000",
          "2025-07-18T23:00:00.000000000",
          "2025-07-19T03:00:00.000000000",
          "2025-07-19T07:00:00.000000000",
          "2025-07-19T11:00:00.000000000",
          "2025-07-19T15:00:00.000000000",
          "2025-07-19T19:00:00.000000000",
          "2025-07-19T23:00:00.000000000",
          "2025-07-20T03:00:00.000000000",
          "2025-07-20T07:00:00.000000000",
          "2025-07-20T11:00:00.000000000",
          "2025-07-20T15:00:00.000000000",
          "2025-07-20T19:00:00.000000000",
          "2025-07-20T23:00:00.000000000",
          "2025-07-21T03:00:00.000000000",
          "2025-07-21T07:00:00.000000000",
          "2025-07-21T11:00:00.000000000",
          "2025-07-21T15:00:00.000000000",
          "2025-07-21T19:00:00.000000000",
          "2025-07-21T23:00:00.000000000",
          "2025-07-22T03:00:00.000000000",
          "2025-07-22T07:00:00.000000000",
          "2025-07-22T11:00:00.000000000",
          "2025-07-22T15:00:00.000000000",
          "2025-07-22T19:00:00.000000000",
          "2025-07-22T23:00:00.000000000",
          "2025-07-23T03:00:00.000000000",
          "2025-07-23T07:00:00.000000000",
          "2025-07-23T11:00:00.000000000",
          "2025-07-23T15:00:00.000000000",
          "2025-07-23T19:00:00.000000000",
          "2025-07-23T23:00:00.000000000",
          "2025-07-24T03:00:00.000000000",
          "2025-07-24T07:00:00.000000000",
          "2025-07-24T11:00:00.000000000",
          "2025-07-24T15:00:00.000000000",
          "2025-07-24T19:00:00.000000000",
          "2025-07-24T23:00:00.000000000",
          "2025-07-25T03:00:00.000000000",
          "2025-07-25T07:00:00.000000000",
          "2025-07-25T11:00:00.000000000",
          "2025-07-25T15:00:00.000000000",
          "2025-07-25T19:00:00.000000000",
          "2025-07-25T23:00:00.000000000",
          "2025-07-26T03:00:00.000000000",
          "2025-07-26T07:00:00.000000000",
          "2025-07-26T11:00:00.000000000",
          "2025-07-26T15:00:00.000000000",
          "2025-07-26T19:00:00.000000000",
          "2025-07-26T23:00:00.000000000",
          "2025-07-27T03:00:00.000000000",
          "2025-07-27T07:00:00.000000000",
          "2025-07-27T11:00:00.000000000",
          "2025-07-27T15:00:00.000000000",
          "2025-07-27T19:00:00.000000000",
          "2025-07-27T23:00:00.000000000",
          "2025-07-28T03:00:00.000000000",
          "2025-07-28T07:00:00.000000000",
          "2025-07-28T11:00:00.000000000",
          "2025-07-28T15:00:00.000000000",
          "2025-07-28T19:00:00.000000000",
          "2025-07-28T23:00:00.000000000",
          "2025-07-29T03:00:00.000000000",
          "2025-07-29T07:00:00.000000000",
          "2025-07-29T11:00:00.000000000",
          "2025-07-29T15:00:00.000000000",
          "2025-07-29T19:00:00.000000000",
          "2025-07-29T23:00:00.000000000",
          "2025-07-30T03:00:00.000000000",
          "2025-07-30T07:00:00.000000000",
          "2025-07-30T11:00:00.000000000",
          "2025-07-30T15:00:00.000000000",
          "2025-07-30T19:00:00.000000000",
          "2025-07-30T23:00:00.000000000",
          "2025-07-31T03:00:00.000000000",
          "2025-07-31T07:00:00.000000000",
          "2025-07-31T11:00:00.000000000",
          "2025-07-31T15:00:00.000000000",
          "2025-07-31T19:00:00.000000000",
          "2025-07-31T23:00:00.000000000",
          "2025-08-01T03:00:00.000000000",
          "2025-08-01T07:00:00.000000000",
          "2025-08-01T11:00:00.000000000",
          "2025-08-01T15:00:00.000000000",
          "2025-08-01T19:00:00.000000000",
          "2025-08-01T23:00:00.000000000",
          "2025-08-02T03:00:00.000000000",
          "2025-08-02T07:00:00.000000000",
          "2025-08-02T11:00:00.000000000"
         ],
         "xaxis": "x",
         "y": {
          "bdata": "AAAAAABq+EAAAAAAAGr4QAAAAAAAavhAAAAAAABq+EAAAAAAAGr4QAAAAAAAavhAAAAAAABq+EAAAAAAAGr4QAAAAAAAavhAAAAAAABq+EAAAAAAAGr4QAAAAAAAavhAAAAAAABq+EAAAAAAAGr4QAAAAAAAavhAAAAAAABq+EAAAAAAAGr4QAAAAAAAavhAAAAAAABq+EAAAAAAAGr4QAAAAAAAavhAAAAAAABq+EAAAAAAAGr4QAAAAAAAavhAAAAAAABq+EAAAAAAAGr4QAAAAAAAavhAAAAAAABq+EAAAAAAAGr4QAAAAAAAavhAAAAAAABq+EAAAAAAAGr4QAAAAAAAavhAAAAAAABq+EAAAAAAAGr4QAAAAAAAavhAAAAAAMBo+EC4oYhxvG/4QC7LoDG+YfhArs4+XgJf+ECM8tek32D4QFYJUMx1YfhAOxiqDAVf+EAOcXY3MGP4QEB68u2ZYPhA+MTnVbNf+ECVWJkEnmH4QP0f9N2/ZvhAQzaRs3Bl+EDYjiq4Tl74QLiEV247PvhAuIRXbjs++EC4hFduOz74QLiEV247PvhAuIRXbjs++EC4hFduOz74QLiEV247PvhAuIRXbjs++EC4hFduOz74QLiEV247PvhAuIRXbjs++EC4hFduOz74QIELBKz9PPhAF+9CXyk8+EAfbWkg3jv4QJXPR+wCQfhAKhiWfAVF+EApfaVZ3En4QNj1ljAWSPhASPXwoOhD+EBaHqdDN0P4QJZhI28xPPhAsixUUx87+EC2a+ez+Tr4QPdkzdcnQvhASQcb4d1D+EAiGiH+iUD4QG7rxS4cNPhAVnFS6/00+EBaHgrJqTn4QF5x3SG2OvhAXnHdIbY6+EBecd0htjr4QF5x3SG2OvhAXnHdIbY6+EBecd0htjr4QF5x3SG2OvhAXnHdIbY6+EBecd0htjr4QN94r414OfhAFLtGMUYo+EAUu0YxRij4QBS7RjFGKPhAFLtGMUYo+EAUu0YxRij4QBS7RjFGKPhAFLtGMUYo+EAUu0YxRij4QBS7RjFGKPhAFLtGMUYo+EA=",
          "dtype": "f8"
         },
         "yaxis": "y"
        },
        {
         "mode": "lines",
         "name": "Daily Returns",
         "type": "scatter",
         "x": [
          "2025-07-16T23:00:00.000000000",
          "2025-07-17T03:00:00.000000000",
          "2025-07-17T07:00:00.000000000",
          "2025-07-17T11:00:00.000000000",
          "2025-07-17T15:00:00.000000000",
          "2025-07-17T19:00:00.000000000",
          "2025-07-17T23:00:00.000000000",
          "2025-07-18T03:00:00.000000000",
          "2025-07-18T07:00:00.000000000",
          "2025-07-18T11:00:00.000000000",
          "2025-07-18T15:00:00.000000000",
          "2025-07-18T19:00:00.000000000",
          "2025-07-18T23:00:00.000000000",
          "2025-07-19T03:00:00.000000000",
          "2025-07-19T07:00:00.000000000",
          "2025-07-19T11:00:00.000000000",
          "2025-07-19T15:00:00.000000000",
          "2025-07-19T19:00:00.000000000",
          "2025-07-19T23:00:00.000000000",
          "2025-07-20T03:00:00.000000000",
          "2025-07-20T07:00:00.000000000",
          "2025-07-20T11:00:00.000000000",
          "2025-07-20T15:00:00.000000000",
          "2025-07-20T19:00:00.000000000",
          "2025-07-20T23:00:00.000000000",
          "2025-07-21T03:00:00.000000000",
          "2025-07-21T07:00:00.000000000",
          "2025-07-21T11:00:00.000000000",
          "2025-07-21T15:00:00.000000000",
          "2025-07-21T19:00:00.000000000",
          "2025-07-21T23:00:00.000000000",
          "2025-07-22T03:00:00.000000000",
          "2025-07-22T07:00:00.000000000",
          "2025-07-22T11:00:00.000000000",
          "2025-07-22T15:00:00.000000000",
          "2025-07-22T19:00:00.000000000",
          "2025-07-22T23:00:00.000000000",
          "2025-07-23T03:00:00.000000000",
          "2025-07-23T07:00:00.000000000",
          "2025-07-23T11:00:00.000000000",
          "2025-07-23T15:00:00.000000000",
          "2025-07-23T19:00:00.000000000",
          "2025-07-23T23:00:00.000000000",
          "2025-07-24T03:00:00.000000000",
          "2025-07-24T07:00:00.000000000",
          "2025-07-24T11:00:00.000000000",
          "2025-07-24T15:00:00.000000000",
          "2025-07-24T19:00:00.000000000",
          "2025-07-24T23:00:00.000000000",
          "2025-07-25T03:00:00.000000000",
          "2025-07-25T07:00:00.000000000",
          "2025-07-25T11:00:00.000000000",
          "2025-07-25T15:00:00.000000000",
          "2025-07-25T19:00:00.000000000",
          "2025-07-25T23:00:00.000000000",
          "2025-07-26T03:00:00.000000000",
          "2025-07-26T07:00:00.000000000",
          "2025-07-26T11:00:00.000000000",
          "2025-07-26T15:00:00.000000000",
          "2025-07-26T19:00:00.000000000",
          "2025-07-26T23:00:00.000000000",
          "2025-07-27T03:00:00.000000000",
          "2025-07-27T07:00:00.000000000",
          "2025-07-27T11:00:00.000000000",
          "2025-07-27T15:00:00.000000000",
          "2025-07-27T19:00:00.000000000",
          "2025-07-27T23:00:00.000000000",
          "2025-07-28T03:00:00.000000000",
          "2025-07-28T07:00:00.000000000",
          "2025-07-28T11:00:00.000000000",
          "2025-07-28T15:00:00.000000000",
          "2025-07-28T19:00:00.000000000",
          "2025-07-28T23:00:00.000000000",
          "2025-07-29T03:00:00.000000000",
          "2025-07-29T07:00:00.000000000",
          "2025-07-29T11:00:00.000000000",
          "2025-07-29T15:00:00.000000000",
          "2025-07-29T19:00:00.000000000",
          "2025-07-29T23:00:00.000000000",
          "2025-07-30T03:00:00.000000000",
          "2025-07-30T07:00:00.000000000",
          "2025-07-30T11:00:00.000000000",
          "2025-07-30T15:00:00.000000000",
          "2025-07-30T19:00:00.000000000",
          "2025-07-30T23:00:00.000000000",
          "2025-07-31T03:00:00.000000000",
          "2025-07-31T07:00:00.000000000",
          "2025-07-31T11:00:00.000000000",
          "2025-07-31T15:00:00.000000000",
          "2025-07-31T19:00:00.000000000",
          "2025-07-31T23:00:00.000000000",
          "2025-08-01T03:00:00.000000000",
          "2025-08-01T07:00:00.000000000",
          "2025-08-01T11:00:00.000000000",
          "2025-08-01T15:00:00.000000000",
          "2025-08-01T19:00:00.000000000",
          "2025-08-01T23:00:00.000000000",
          "2025-08-02T03:00:00.000000000",
          "2025-08-02T07:00:00.000000000",
          "2025-08-02T11:00:00.000000000"
         ],
         "xaxis": "x2",
         "y": {
          "bdata": "AAAAAAAA+H8AAAAAAAAAAAAAAAAAAAAAAAAAAAAAAAAAAAAAAAAAAAAAAAAAAAAAAAAAAAAAAAAAAAAAAAAAAAAAAAAAAAAAAAAAAAAAAAAAAAAAAAAAAAAAAAAAAAAAAAAAAAAAAAAAAAAAAAAAAAAAAAAAAAAAAAAAAAAAAAAAAAAAAAAAAAAAAAAAAAAAAAAAAAAAAAAAAAAAAAAAAAAAAAAAAAAAAAAAAAAAAAAAAAAAAAAAAAAAAAAAAAAAAAAAAAAAAAAAAAAAAAAAAAAAAAAAAAAAAAAAAAAAAAAAAAAAAAAAAAAAAAAAAAAAAAAAAAAAAAAAAAAAAAAAAAAAAAAAAAAAAAAAAAAAAAAAAAAAAAAAAAAAAAAAAAAAAEAc6+I2Kr8A6PAyPFFSPwDTU1sFU2K/AAjmeemzPL8AgIVYapUzPwCAMechoxg/AFBKb+2fOb8AKDxZ4ORFPwBoR0YpKDu/ACBYIjDrIr8A8LCwqyE0PwAgn6ya8Uo/ADA2ypZ4K78A/H10MrZSvwBFK65vD3W/AAAAAAAAAAAAAAAAAAAAAAAAAAAAAAAAAAAAAAAAAAAAAAAAAAAAAAAAAAAAAAAAAAAAAAAAAAAAAAAAAAAAAAAAAAAAAAAAAAAAAAAAAAAAAAAAAAAAAAAwHOviNiq/ABCikouEIb8AAOOir9YIvwA4rHQkK0s/AMBQK64pRT8AuMTw3oVJPwAYWfvUsjK/AMy1kiwGRr8AQCzK0TwdvwBc1glVhlK/AHAUt+qeJr8AgNlawNf4vgDELJMa91I/AHAKEp0OMj8AZMjZwY1BvwDS2QNQZmC/AGBVLjanIj8AuJvDabNIPwDAZLiBJyY/AAAAAAAAAAAAAAAAAAAAAAAAAAAAAAAAAAAAAAAAAAAAAAAAAAAAAAAAAAAAAAAAAAAAAAAAAAAAAAAAAAAAAABAHOviNiq/AGbB0mq3Zr8AAAAAAAAAAAAAAAAAAAAAAAAAAAAAAAAAAAAAAAAAAAAAAAAAAAAAAAAAAAAAAAAAAAAAAAAAAAAAAAAAAAAAAAAAAAAAAAA=",
          "dtype": "f8"
         },
         "yaxis": "y2"
        },
        {
         "mode": "lines",
         "name": "Cumulative Returns",
         "type": "scatter",
         "x": [
          "2025-07-16T23:00:00.000000000",
          "2025-07-17T03:00:00.000000000",
          "2025-07-17T07:00:00.000000000",
          "2025-07-17T11:00:00.000000000",
          "2025-07-17T15:00:00.000000000",
          "2025-07-17T19:00:00.000000000",
          "2025-07-17T23:00:00.000000000",
          "2025-07-18T03:00:00.000000000",
          "2025-07-18T07:00:00.000000000",
          "2025-07-18T11:00:00.000000000",
          "2025-07-18T15:00:00.000000000",
          "2025-07-18T19:00:00.000000000",
          "2025-07-18T23:00:00.000000000",
          "2025-07-19T03:00:00.000000000",
          "2025-07-19T07:00:00.000000000",
          "2025-07-19T11:00:00.000000000",
          "2025-07-19T15:00:00.000000000",
          "2025-07-19T19:00:00.000000000",
          "2025-07-19T23:00:00.000000000",
          "2025-07-20T03:00:00.000000000",
          "2025-07-20T07:00:00.000000000",
          "2025-07-20T11:00:00.000000000",
          "2025-07-20T15:00:00.000000000",
          "2025-07-20T19:00:00.000000000",
          "2025-07-20T23:00:00.000000000",
          "2025-07-21T03:00:00.000000000",
          "2025-07-21T07:00:00.000000000",
          "2025-07-21T11:00:00.000000000",
          "2025-07-21T15:00:00.000000000",
          "2025-07-21T19:00:00.000000000",
          "2025-07-21T23:00:00.000000000",
          "2025-07-22T03:00:00.000000000",
          "2025-07-22T07:00:00.000000000",
          "2025-07-22T11:00:00.000000000",
          "2025-07-22T15:00:00.000000000",
          "2025-07-22T19:00:00.000000000",
          "2025-07-22T23:00:00.000000000",
          "2025-07-23T03:00:00.000000000",
          "2025-07-23T07:00:00.000000000",
          "2025-07-23T11:00:00.000000000",
          "2025-07-23T15:00:00.000000000",
          "2025-07-23T19:00:00.000000000",
          "2025-07-23T23:00:00.000000000",
          "2025-07-24T03:00:00.000000000",
          "2025-07-24T07:00:00.000000000",
          "2025-07-24T11:00:00.000000000",
          "2025-07-24T15:00:00.000000000",
          "2025-07-24T19:00:00.000000000",
          "2025-07-24T23:00:00.000000000",
          "2025-07-25T03:00:00.000000000",
          "2025-07-25T07:00:00.000000000",
          "2025-07-25T11:00:00.000000000",
          "2025-07-25T15:00:00.000000000",
          "2025-07-25T19:00:00.000000000",
          "2025-07-25T23:00:00.000000000",
          "2025-07-26T03:00:00.000000000",
          "2025-07-26T07:00:00.000000000",
          "2025-07-26T11:00:00.000000000",
          "2025-07-26T15:00:00.000000000",
          "2025-07-26T19:00:00.000000000",
          "2025-07-26T23:00:00.000000000",
          "2025-07-27T03:00:00.000000000",
          "2025-07-27T07:00:00.000000000",
          "2025-07-27T11:00:00.000000000",
          "2025-07-27T15:00:00.000000000",
          "2025-07-27T19:00:00.000000000",
          "2025-07-27T23:00:00.000000000",
          "2025-07-28T03:00:00.000000000",
          "2025-07-28T07:00:00.000000000",
          "2025-07-28T11:00:00.000000000",
          "2025-07-28T15:00:00.000000000",
          "2025-07-28T19:00:00.000000000",
          "2025-07-28T23:00:00.000000000",
          "2025-07-29T03:00:00.000000000",
          "2025-07-29T07:00:00.000000000",
          "2025-07-29T11:00:00.000000000",
          "2025-07-29T15:00:00.000000000",
          "2025-07-29T19:00:00.000000000",
          "2025-07-29T23:00:00.000000000",
          "2025-07-30T03:00:00.000000000",
          "2025-07-30T07:00:00.000000000",
          "2025-07-30T11:00:00.000000000",
          "2025-07-30T15:00:00.000000000",
          "2025-07-30T19:00:00.000000000",
          "2025-07-30T23:00:00.000000000",
          "2025-07-31T03:00:00.000000000",
          "2025-07-31T07:00:00.000000000",
          "2025-07-31T11:00:00.000000000",
          "2025-07-31T15:00:00.000000000",
          "2025-07-31T19:00:00.000000000",
          "2025-07-31T23:00:00.000000000",
          "2025-08-01T03:00:00.000000000",
          "2025-08-01T07:00:00.000000000",
          "2025-08-01T11:00:00.000000000",
          "2025-08-01T15:00:00.000000000",
          "2025-08-01T19:00:00.000000000",
          "2025-08-01T23:00:00.000000000",
          "2025-08-02T03:00:00.000000000",
          "2025-08-02T07:00:00.000000000",
          "2025-08-02T11:00:00.000000000"
         ],
         "xaxis": "x3",
         "y": {
          "bdata": "AAAAAAAA+H8AAAAAAADwPwAAAAAAAPA/AAAAAAAA8D8AAAAAAADwPwAAAAAAAPA/AAAAAAAA8D8AAAAAAADwPwAAAAAAAPA/AAAAAAAA8D8AAAAAAADwPwAAAAAAAPA/AAAAAAAA8D8AAAAAAADwPwAAAAAAAPA/AAAAAAAA8D8AAAAAAADwPwAAAAAAAPA/AAAAAAAA8D8AAAAAAADwPwAAAAAAAPA/AAAAAAAA8D8AAAAAAADwPwAAAAAAAPA/AAAAAAAA8D8AAAAAAADwPwAAAAAAAPA/AAAAAAAA8D8AAAAAAADwPwAAAAAAAPA/AAAAAAAA8D8AAAAAAADwPwAAAAAAAPA/AAAAAAAA8D8AAAAAAADwPwAAAAAAAPA/PE7RkVz+7z/Ls+9bwgPwP/smW2Qt9e8/7RHQHZjx7z9q5vywCfTvP2xrXoDO9O8/4BiEoZvx7z+b5WZjEvfvP80xtFCu8+8/Z9w5EoDy7z+f0+o3A/XvP3AfgE69++8/HruY/wX67z+CQLKlrPDvP8ONhfKhxu8/w42F8qHG7z/DjYXyocbvP8ONhfKhxu8/w42F8qHG7z/DjYXyocbvP8ONhfKhxu8/w42F8qHG7z/DjYXyocbvP8ONhfKhxu8/w42F8qHG7z/DjYXyocbvP3/jQ3QBxe8/JBJEMOvD7z+PSRCQiMPvP71/moNGyu8/Gmc4DYjP7z/UH9ba39XvP3W35pOM0+8/DIK9rhLO7z8a4B41Ks3vP8YwbsH1w+8/OR/WeY7C7z/vOrwpXcLvP3CDP3PGy+8/ia7alwTO7z87tCICqMnvP8Uk3otdue8/g355bIW67z8w6YvepMDvPyyB2ZgEwu8/LIHZmATC7z8sgdmYBMLvPyyB2ZgEwu8/LIHZmATC7z8sgdmYBMLvPyyB2ZgEwu8/LIHZmATC7z8sgdmYBMLvP6wIFFdkwO8/E+7bE9qp7z8T7tsT2qnvPxPu2xPaqe8/E+7bE9qp7z8T7tsT2qnvPxPu2xPaqe8/E+7bE9qp7z8T7tsT2qnvPxPu2xPaqe8/E+7bE9qp7z8=",
          "dtype": "f8"
         },
         "yaxis": "y3"
        },
        {
         "fill": "tonexty",
         "mode": "lines",
         "name": "Drawdown",
         "type": "scatter",
         "x": [
          "2025-07-16T23:00:00.000000000",
          "2025-07-17T03:00:00.000000000",
          "2025-07-17T07:00:00.000000000",
          "2025-07-17T11:00:00.000000000",
          "2025-07-17T15:00:00.000000000",
          "2025-07-17T19:00:00.000000000",
          "2025-07-17T23:00:00.000000000",
          "2025-07-18T03:00:00.000000000",
          "2025-07-18T07:00:00.000000000",
          "2025-07-18T11:00:00.000000000",
          "2025-07-18T15:00:00.000000000",
          "2025-07-18T19:00:00.000000000",
          "2025-07-18T23:00:00.000000000",
          "2025-07-19T03:00:00.000000000",
          "2025-07-19T07:00:00.000000000",
          "2025-07-19T11:00:00.000000000",
          "2025-07-19T15:00:00.000000000",
          "2025-07-19T19:00:00.000000000",
          "2025-07-19T23:00:00.000000000",
          "2025-07-20T03:00:00.000000000",
          "2025-07-20T07:00:00.000000000",
          "2025-07-20T11:00:00.000000000",
          "2025-07-20T15:00:00.000000000",
          "2025-07-20T19:00:00.000000000",
          "2025-07-20T23:00:00.000000000",
          "2025-07-21T03:00:00.000000000",
          "2025-07-21T07:00:00.000000000",
          "2025-07-21T11:00:00.000000000",
          "2025-07-21T15:00:00.000000000",
          "2025-07-21T19:00:00.000000000",
          "2025-07-21T23:00:00.000000000",
          "2025-07-22T03:00:00.000000000",
          "2025-07-22T07:00:00.000000000",
          "2025-07-22T11:00:00.000000000",
          "2025-07-22T15:00:00.000000000",
          "2025-07-22T19:00:00.000000000",
          "2025-07-22T23:00:00.000000000",
          "2025-07-23T03:00:00.000000000",
          "2025-07-23T07:00:00.000000000",
          "2025-07-23T11:00:00.000000000",
          "2025-07-23T15:00:00.000000000",
          "2025-07-23T19:00:00.000000000",
          "2025-07-23T23:00:00.000000000",
          "2025-07-24T03:00:00.000000000",
          "2025-07-24T07:00:00.000000000",
          "2025-07-24T11:00:00.000000000",
          "2025-07-24T15:00:00.000000000",
          "2025-07-24T19:00:00.000000000",
          "2025-07-24T23:00:00.000000000",
          "2025-07-25T03:00:00.000000000",
          "2025-07-25T07:00:00.000000000",
          "2025-07-25T11:00:00.000000000",
          "2025-07-25T15:00:00.000000000",
          "2025-07-25T19:00:00.000000000",
          "2025-07-25T23:00:00.000000000",
          "2025-07-26T03:00:00.000000000",
          "2025-07-26T07:00:00.000000000",
          "2025-07-26T11:00:00.000000000",
          "2025-07-26T15:00:00.000000000",
          "2025-07-26T19:00:00.000000000",
          "2025-07-26T23:00:00.000000000",
          "2025-07-27T03:00:00.000000000",
          "2025-07-27T07:00:00.000000000",
          "2025-07-27T11:00:00.000000000",
          "2025-07-27T15:00:00.000000000",
          "2025-07-27T19:00:00.000000000",
          "2025-07-27T23:00:00.000000000",
          "2025-07-28T03:00:00.000000000",
          "2025-07-28T07:00:00.000000000",
          "2025-07-28T11:00:00.000000000",
          "2025-07-28T15:00:00.000000000",
          "2025-07-28T19:00:00.000000000",
          "2025-07-28T23:00:00.000000000",
          "2025-07-29T03:00:00.000000000",
          "2025-07-29T07:00:00.000000000",
          "2025-07-29T11:00:00.000000000",
          "2025-07-29T15:00:00.000000000",
          "2025-07-29T19:00:00.000000000",
          "2025-07-29T23:00:00.000000000",
          "2025-07-30T03:00:00.000000000",
          "2025-07-30T07:00:00.000000000",
          "2025-07-30T11:00:00.000000000",
          "2025-07-30T15:00:00.000000000",
          "2025-07-30T19:00:00.000000000",
          "2025-07-30T23:00:00.000000000",
          "2025-07-31T03:00:00.000000000",
          "2025-07-31T07:00:00.000000000",
          "2025-07-31T11:00:00.000000000",
          "2025-07-31T15:00:00.000000000",
          "2025-07-31T19:00:00.000000000",
          "2025-07-31T23:00:00.000000000",
          "2025-08-01T03:00:00.000000000",
          "2025-08-01T07:00:00.000000000",
          "2025-08-01T11:00:00.000000000",
          "2025-08-01T15:00:00.000000000",
          "2025-08-01T19:00:00.000000000",
          "2025-08-01T23:00:00.000000000",
          "2025-08-02T03:00:00.000000000",
          "2025-08-02T07:00:00.000000000",
          "2025-08-02T11:00:00.000000000"
         ],
         "xaxis": "x4",
         "y": {
          "bdata": "AAAAAAAAAAAAAAAAAAAAAAAAAAAAAAAAAAAAAAAAAAAAAAAAAAAAAAAAAAAAAAAAAAAAAAAAAAAAAAAAAAAAAAAAAAAAAAAAAAAAAAAAAAAAAAAAAAAAAAAAAAAAAAAAAAAAAAAAAAAAAAAAAAAAAAAAAAAAAAAAAAAAAAAAAAAAAAAAAAAAAAAAAAAAAAAAAAAAAAAAAAAAAAAAAAAAAAAAAAAAAAAAAAAAAAAAAAAAAAAAAAAAAAAAAAAAAAAAAAAAAAAAAAAAAAAAAAAAAAAAAAAAAAAAAAAAAAAAAAAAAAAAAAAAAAAAAAAAAAAAAAAAAAAAAAAAAAAAAAAAAAAAAAAAAAAAAAAAAAAAAAAAAAAAAAAAAAAAAAAAAAAALUMc6+I2Kr8AAAAAAAAAABnTU1sFU2K/Go43lXTnZb9kNJ5AdHZjv+Aj3hHTsWK/oNZhtPHjZb93Fx8oeG5gv//OUha/0WO/alUenrb/ZL/saFjlJ31iv4+vjxhLiVe/N4xEqRr3Wr/2fCZttdJmv7BcoY3iNIC/sFyhjeI0gL+wXKGN4jSAv7BcoY3iNIC/sFyhjeI0gL+wXKGN4jSAv7BcoY3iNIC/sFyhjeI0gL+wXKGN4jSAv7BcoY3iNIC/sFyhjeI0gL+wXKGN4jSAv0PuCa3pnIC/n52WWGrigL97Kd+bDPuAv5Uy0wTql36/vbYXIsP3e78s3ELomsx4v+KZLoL49Xm/bv48jUayfL8LAJMTaCZ9v9TXzqzG34C/1R5XfYM5gb/CZPue1EWBv6VeHkIf2H2/xbhRV1C5fL/AYTwmGOd+v0PfGec0hYO/rztAHU47g7/AQn+UzbOBv3VnIaXzW4G/dWchpfNbgb91ZyGl81uBv3VnIaXzW4G/dWchpfNbgb91ZyGl81uBv3VnIaXzW4G/dWchpfNbgb91ZyGl81uBvyw0Cqnrw4G/R6r81yllh79HqvzXKWWHv0eq/NcpZYe/R6r81yllh79HqvzXKWWHv0eq/NcpZYe/R6r81yllh79HqvzXKWWHv0eq/NcpZYe/R6r81yllh78=",
          "dtype": "f8"
         },
         "yaxis": "y4"
        },
        {
         "mode": "lines",
         "name": "Cash",
         "type": "scatter",
         "x": [
          "2025-07-16T23:00:00.000000000",
          "2025-07-17T03:00:00.000000000",
          "2025-07-17T07:00:00.000000000",
          "2025-07-17T11:00:00.000000000",
          "2025-07-17T15:00:00.000000000",
          "2025-07-17T19:00:00.000000000",
          "2025-07-17T23:00:00.000000000",
          "2025-07-18T03:00:00.000000000",
          "2025-07-18T07:00:00.000000000",
          "2025-07-18T11:00:00.000000000",
          "2025-07-18T15:00:00.000000000",
          "2025-07-18T19:00:00.000000000",
          "2025-07-18T23:00:00.000000000",
          "2025-07-19T03:00:00.000000000",
          "2025-07-19T07:00:00.000000000",
          "2025-07-19T11:00:00.000000000",
          "2025-07-19T15:00:00.000000000",
          "2025-07-19T19:00:00.000000000",
          "2025-07-19T23:00:00.000000000",
          "2025-07-20T03:00:00.000000000",
          "2025-07-20T07:00:00.000000000",
          "2025-07-20T11:00:00.000000000",
          "2025-07-20T15:00:00.000000000",
          "2025-07-20T19:00:00.000000000",
          "2025-07-20T23:00:00.000000000",
          "2025-07-21T03:00:00.000000000",
          "2025-07-21T07:00:00.000000000",
          "2025-07-21T11:00:00.000000000",
          "2025-07-21T15:00:00.000000000",
          "2025-07-21T19:00:00.000000000",
          "2025-07-21T23:00:00.000000000",
          "2025-07-22T03:00:00.000000000",
          "2025-07-22T07:00:00.000000000",
          "2025-07-22T11:00:00.000000000",
          "2025-07-22T15:00:00.000000000",
          "2025-07-22T19:00:00.000000000",
          "2025-07-22T23:00:00.000000000",
          "2025-07-23T03:00:00.000000000",
          "2025-07-23T07:00:00.000000000",
          "2025-07-23T11:00:00.000000000",
          "2025-07-23T15:00:00.000000000",
          "2025-07-23T19:00:00.000000000",
          "2025-07-23T23:00:00.000000000",
          "2025-07-24T03:00:00.000000000",
          "2025-07-24T07:00:00.000000000",
          "2025-07-24T11:00:00.000000000",
          "2025-07-24T15:00:00.000000000",
          "2025-07-24T19:00:00.000000000",
          "2025-07-24T23:00:00.000000000",
          "2025-07-25T03:00:00.000000000",
          "2025-07-25T07:00:00.000000000",
          "2025-07-25T11:00:00.000000000",
          "2025-07-25T15:00:00.000000000",
          "2025-07-25T19:00:00.000000000",
          "2025-07-25T23:00:00.000000000",
          "2025-07-26T03:00:00.000000000",
          "2025-07-26T07:00:00.000000000",
          "2025-07-26T11:00:00.000000000",
          "2025-07-26T15:00:00.000000000",
          "2025-07-26T19:00:00.000000000",
          "2025-07-26T23:00:00.000000000",
          "2025-07-27T03:00:00.000000000",
          "2025-07-27T07:00:00.000000000",
          "2025-07-27T11:00:00.000000000",
          "2025-07-27T15:00:00.000000000",
          "2025-07-27T19:00:00.000000000",
          "2025-07-27T23:00:00.000000000",
          "2025-07-28T03:00:00.000000000",
          "2025-07-28T07:00:00.000000000",
          "2025-07-28T11:00:00.000000000",
          "2025-07-28T15:00:00.000000000",
          "2025-07-28T19:00:00.000000000",
          "2025-07-28T23:00:00.000000000",
          "2025-07-29T03:00:00.000000000",
          "2025-07-29T07:00:00.000000000",
          "2025-07-29T11:00:00.000000000",
          "2025-07-29T15:00:00.000000000",
          "2025-07-29T19:00:00.000000000",
          "2025-07-29T23:00:00.000000000",
          "2025-07-30T03:00:00.000000000",
          "2025-07-30T07:00:00.000000000",
          "2025-07-30T11:00:00.000000000",
          "2025-07-30T15:00:00.000000000",
          "2025-07-30T19:00:00.000000000",
          "2025-07-30T23:00:00.000000000",
          "2025-07-31T03:00:00.000000000",
          "2025-07-31T07:00:00.000000000",
          "2025-07-31T11:00:00.000000000",
          "2025-07-31T15:00:00.000000000",
          "2025-07-31T19:00:00.000000000",
          "2025-07-31T23:00:00.000000000",
          "2025-08-01T03:00:00.000000000",
          "2025-08-01T07:00:00.000000000",
          "2025-08-01T11:00:00.000000000",
          "2025-08-01T15:00:00.000000000",
          "2025-08-01T19:00:00.000000000",
          "2025-08-01T23:00:00.000000000",
          "2025-08-02T03:00:00.000000000",
          "2025-08-02T07:00:00.000000000",
          "2025-08-02T11:00:00.000000000"
         ],
         "xaxis": "x5",
         "y": {
          "bdata": "AAAAAABq+EAAAAAAAGr4QAAAAAAAavhAAAAAAABq+EAAAAAAAGr4QAAAAAAAavhAAAAAAABq+EAAAAAAAGr4QAAAAAAAavhAAAAAAABq+EAAAAAAAGr4QAAAAAAAavhAAAAAAABq+EAAAAAAAGr4QAAAAAAAavhAAAAAAABq+EAAAAAAAGr4QAAAAAAAavhAAAAAAABq+EAAAAAAAGr4QAAAAAAAavhAAAAAAABq+EAAAAAAAGr4QAAAAAAAavhAAAAAAABq+EAAAAAAAGr4QAAAAAAAavhAAAAAAABq+EAAAAAAAGr4QAAAAAAAavhAAAAAAABq+EAAAAAAAGr4QAAAAAAAavhAAAAAAABq+EAAAAAAAGr4QAAAAAAAavhAAAAAAMCG80AAAAAAwIbzQAAAAADAhvNAAAAAAMCG80AAAAAAwIbzQAAAAADAhvNAAAAAAMCG80AAAAAAwIbzQAAAAADAhvNAAAAAAMCG80AAAAAAwIbzQAAAAADAhvNAAAAAAMCG80AAAAAAwIbzQLiEV247PvhAuIRXbjs++EC4hFduOz74QLiEV247PvhAuIRXbjs++EC4hFduOz74QLiEV247PvhAuIRXbjs++EC4hFduOz74QLiEV247PvhAuIRXbjs++EC4hFduOz74QI+K8pW+Y/NAj4rylb5j80CPivKVvmPzQI+K8pW+Y/NAj4rylb5j80CPivKVvmPzQI+K8pW+Y/NAj4rylb5j80CPivKVvmPzQI+K8pW+Y/NAj4rylb5j80CPivKVvmPzQI+K8pW+Y/NAj4rylb5j80CPivKVvmPzQI+K8pW+Y/NAj4rylb5j80CPivKVvmPzQF5x3SG2OvhAXnHdIbY6+EBecd0htjr4QF5x3SG2OvhAXnHdIbY6+EBecd0htjr4QF5x3SG2OvhAXnHdIbY6+EBecd0htjr4QJnIHLrtYPNAFLtGMUYo+EAUu0YxRij4QBS7RjFGKPhAFLtGMUYo+EAUu0YxRij4QBS7RjFGKPhAFLtGMUYo+EAUu0YxRij4QBS7RjFGKPhAFLtGMUYo+EA=",
          "dtype": "f8"
         },
         "yaxis": "y5"
        },
        {
         "mode": "lines",
         "name": "Positions",
         "type": "scatter",
         "x": [
          "2025-07-16T23:00:00.000000000",
          "2025-07-17T03:00:00.000000000",
          "2025-07-17T07:00:00.000000000",
          "2025-07-17T11:00:00.000000000",
          "2025-07-17T15:00:00.000000000",
          "2025-07-17T19:00:00.000000000",
          "2025-07-17T23:00:00.000000000",
          "2025-07-18T03:00:00.000000000",
          "2025-07-18T07:00:00.000000000",
          "2025-07-18T11:00:00.000000000",
          "2025-07-18T15:00:00.000000000",
          "2025-07-18T19:00:00.000000000",
          "2025-07-18T23:00:00.000000000",
          "2025-07-19T03:00:00.000000000",
          "2025-07-19T07:00:00.000000000",
          "2025-07-19T11:00:00.000000000",
          "2025-07-19T15:00:00.000000000",
          "2025-07-19T19:00:00.000000000",
          "2025-07-19T23:00:00.000000000",
          "2025-07-20T03:00:00.000000000",
          "2025-07-20T07:00:00.000000000",
          "2025-07-20T11:00:00.000000000",
          "2025-07-20T15:00:00.000000000",
          "2025-07-20T19:00:00.000000000",
          "2025-07-20T23:00:00.000000000",
          "2025-07-21T03:00:00.000000000",
          "2025-07-21T07:00:00.000000000",
          "2025-07-21T11:00:00.000000000",
          "2025-07-21T15:00:00.000000000",
          "2025-07-21T19:00:00.000000000",
          "2025-07-21T23:00:00.000000000",
          "2025-07-22T03:00:00.000000000",
          "2025-07-22T07:00:00.000000000",
          "2025-07-22T11:00:00.000000000",
          "2025-07-22T15:00:00.000000000",
          "2025-07-22T19:00:00.000000000",
          "2025-07-22T23:00:00.000000000",
          "2025-07-23T03:00:00.000000000",
          "2025-07-23T07:00:00.000000000",
          "2025-07-23T11:00:00.000000000",
          "2025-07-23T15:00:00.000000000",
          "2025-07-23T19:00:00.000000000",
          "2025-07-23T23:00:00.000000000",
          "2025-07-24T03:00:00.000000000",
          "2025-07-24T07:00:00.000000000",
          "2025-07-24T11:00:00.000000000",
          "2025-07-24T15:00:00.000000000",
          "2025-07-24T19:00:00.000000000",
          "2025-07-24T23:00:00.000000000",
          "2025-07-25T03:00:00.000000000",
          "2025-07-25T07:00:00.000000000",
          "2025-07-25T11:00:00.000000000",
          "2025-07-25T15:00:00.000000000",
          "2025-07-25T19:00:00.000000000",
          "2025-07-25T23:00:00.000000000",
          "2025-07-26T03:00:00.000000000",
          "2025-07-26T07:00:00.000000000",
          "2025-07-26T11:00:00.000000000",
          "2025-07-26T15:00:00.000000000",
          "2025-07-26T19:00:00.000000000",
          "2025-07-26T23:00:00.000000000",
          "2025-07-27T03:00:00.000000000",
          "2025-07-27T07:00:00.000000000",
          "2025-07-27T11:00:00.000000000",
          "2025-07-27T15:00:00.000000000",
          "2025-07-27T19:00:00.000000000",
          "2025-07-27T23:00:00.000000000",
          "2025-07-28T03:00:00.000000000",
          "2025-07-28T07:00:00.000000000",
          "2025-07-28T11:00:00.000000000",
          "2025-07-28T15:00:00.000000000",
          "2025-07-28T19:00:00.000000000",
          "2025-07-28T23:00:00.000000000",
          "2025-07-29T03:00:00.000000000",
          "2025-07-29T07:00:00.000000000",
          "2025-07-29T11:00:00.000000000",
          "2025-07-29T15:00:00.000000000",
          "2025-07-29T19:00:00.000000000",
          "2025-07-29T23:00:00.000000000",
          "2025-07-30T03:00:00.000000000",
          "2025-07-30T07:00:00.000000000",
          "2025-07-30T11:00:00.000000000",
          "2025-07-30T15:00:00.000000000",
          "2025-07-30T19:00:00.000000000",
          "2025-07-30T23:00:00.000000000",
          "2025-07-31T03:00:00.000000000",
          "2025-07-31T07:00:00.000000000",
          "2025-07-31T11:00:00.000000000",
          "2025-07-31T15:00:00.000000000",
          "2025-07-31T19:00:00.000000000",
          "2025-07-31T23:00:00.000000000",
          "2025-08-01T03:00:00.000000000",
          "2025-08-01T07:00:00.000000000",
          "2025-08-01T11:00:00.000000000",
          "2025-08-01T15:00:00.000000000",
          "2025-08-01T19:00:00.000000000",
          "2025-08-01T23:00:00.000000000",
          "2025-08-02T03:00:00.000000000",
          "2025-08-02T07:00:00.000000000",
          "2025-08-02T11:00:00.000000000"
         ],
         "xaxis": "x5",
         "y": {
          "bdata": "AAAAAAAAAAAAAAAAAAAAAAAAAAAAAAAAAAAAAAAAAAAAAAAAAAAAAAAAAAAAAAAAAAAAAAAAAAAAAAAAAAAAAAAAAAAAAAAAAAAAAAAAAAAAAAAAAAAAAAAAAAAAAAAAAAAAAAAAAAAAAAAAAAAAAAAAAAAAAAAAAAAAAAAAAAAAAAAAAAAAAAAAAAAAAAAAAAAAAAAAAAAAAAAAAAAAAAAAAAAAAAAAAAAAAAAAAAAAAAAAAAAAAAAAAAAAAAAAAAAAAAAAAAAAAAAAAAAAAAAAAAAAAAAAAAAAAAAAAAAAAAAAAAAAAAAAAAAAAAAAAAAAAAAAAAAAAAAAAAAAAAAAAAAAAAAAAAAAAAAAAAAAAAAAAAAAAAAAAAAAAAAAAAAAAACI00DghiLG8aPTQLgsg8b4a9NAuDr7eAlh00Awyl+TfmjTQFglQDHXatNA7GCoMhRh00A4xNndwHHTQADpybdnZ9NA4BOfV81j00BUYmUSeGvTQPR/0Hf/f9NADNlEzsJ600BgO6rgOl7TQAAAAAAAAAAAAAAAAAAAAAAAAAAAAAAAAAAAAAAAAAAAAAAAAAAAAAAAAAAAAAAAAAAAAAAAAAAAAAAAAAAAAAAAAAAAAAAAAAAAAAAAAAAAAAAAAAAAAAAAAAAAAAAAAMgDRlj8ZNNAIJJBJath00BAitspfmDTQBgUVVkRddNAbDaOmhuF00BoyssOd5jTQCStkWpekdNA5Kr5K6iA00AsT9K24n3TQBxcw2TLYdNAjIiG9YJd00CchNN37FzTQKBpaweledNA6PKhLH2A00BMPrqgLXPTQHyDTWN2QdNAHJt/Vf1E00AsT17MrFfTQAAAAAAAAAAAAAAAAAAAAAAAAAAAAAAAAAAAAAAAAAAAAAAAAAAAAAAAAAAAAAAAAAAAAAAAAAAAAAAAAAAAAAAAAAAAAAAAABjBSk4rYtNAAAAAAAAAAAAAAAAAAAAAAAAAAAAAAAAAAAAAAAAAAAAAAAAAAAAAAAAAAAAAAAAAAAAAAAAAAAAAAAAAAAAAAAAAAAAAAAAAAAAAAAAAAAA=",
          "dtype": "f8"
         },
         "yaxis": "y5"
        },
        {
         "name": "Trade Returns",
         "type": "histogram",
         "x": [
          0,
          -680.2855610671686,
          0,
          -36.47122822006713,
          0,
          -275.14756082666645
         ],
         "xaxis": "x6",
         "yaxis": "y6"
        }
       ],
       "layout": {
        "annotations": [
         {
          "font": {
           "size": 16
          },
          "showarrow": false,
          "text": "Portfolio Value",
          "x": 0.225,
          "xanchor": "center",
          "xref": "paper",
          "y": 1,
          "yanchor": "bottom",
          "yref": "paper"
         },
         {
          "font": {
           "size": 16
          },
          "showarrow": false,
          "text": "Daily Returns",
          "x": 0.775,
          "xanchor": "center",
          "xref": "paper",
          "y": 1,
          "yanchor": "bottom",
          "yref": "paper"
         },
         {
          "font": {
           "size": 16
          },
          "showarrow": false,
          "text": "Cumulative Returns",
          "x": 0.225,
          "xanchor": "center",
          "xref": "paper",
          "y": 0.6111111111111112,
          "yanchor": "bottom",
          "yref": "paper"
         },
         {
          "font": {
           "size": 16
          },
          "showarrow": false,
          "text": "Drawdown",
          "x": 0.775,
          "xanchor": "center",
          "xref": "paper",
          "y": 0.6111111111111112,
          "yanchor": "bottom",
          "yref": "paper"
         },
         {
          "font": {
           "size": 16
          },
          "showarrow": false,
          "text": "Cash vs Positions",
          "x": 0.225,
          "xanchor": "center",
          "xref": "paper",
          "y": 0.22222222222222224,
          "yanchor": "bottom",
          "yref": "paper"
         },
         {
          "font": {
           "size": 16
          },
          "showarrow": false,
          "text": "Trade Distribution",
          "x": 0.775,
          "xanchor": "center",
          "xref": "paper",
          "y": 0.22222222222222224,
          "yanchor": "bottom",
          "yref": "paper"
         }
        ],
        "height": 900,
        "template": {
         "data": {
          "bar": [
           {
            "error_x": {
             "color": "#2a3f5f"
            },
            "error_y": {
             "color": "#2a3f5f"
            },
            "marker": {
             "line": {
              "color": "#E5ECF6",
              "width": 0.5
             },
             "pattern": {
              "fillmode": "overlay",
              "size": 10,
              "solidity": 0.2
             }
            },
            "type": "bar"
           }
          ],
          "barpolar": [
           {
            "marker": {
             "line": {
              "color": "#E5ECF6",
              "width": 0.5
             },
             "pattern": {
              "fillmode": "overlay",
              "size": 10,
              "solidity": 0.2
             }
            },
            "type": "barpolar"
           }
          ],
          "carpet": [
           {
            "aaxis": {
             "endlinecolor": "#2a3f5f",
             "gridcolor": "white",
             "linecolor": "white",
             "minorgridcolor": "white",
             "startlinecolor": "#2a3f5f"
            },
            "baxis": {
             "endlinecolor": "#2a3f5f",
             "gridcolor": "white",
             "linecolor": "white",
             "minorgridcolor": "white",
             "startlinecolor": "#2a3f5f"
            },
            "type": "carpet"
           }
          ],
          "choropleth": [
           {
            "colorbar": {
             "outlinewidth": 0,
             "ticks": ""
            },
            "type": "choropleth"
           }
          ],
          "contour": [
           {
            "colorbar": {
             "outlinewidth": 0,
             "ticks": ""
            },
            "colorscale": [
             [
              0,
              "#0d0887"
             ],
             [
              0.1111111111111111,
              "#46039f"
             ],
             [
              0.2222222222222222,
              "#7201a8"
             ],
             [
              0.3333333333333333,
              "#9c179e"
             ],
             [
              0.4444444444444444,
              "#bd3786"
             ],
             [
              0.5555555555555556,
              "#d8576b"
             ],
             [
              0.6666666666666666,
              "#ed7953"
             ],
             [
              0.7777777777777778,
              "#fb9f3a"
             ],
             [
              0.8888888888888888,
              "#fdca26"
             ],
             [
              1,
              "#f0f921"
             ]
            ],
            "type": "contour"
           }
          ],
          "contourcarpet": [
           {
            "colorbar": {
             "outlinewidth": 0,
             "ticks": ""
            },
            "type": "contourcarpet"
           }
          ],
          "heatmap": [
           {
            "colorbar": {
             "outlinewidth": 0,
             "ticks": ""
            },
            "colorscale": [
             [
              0,
              "#0d0887"
             ],
             [
              0.1111111111111111,
              "#46039f"
             ],
             [
              0.2222222222222222,
              "#7201a8"
             ],
             [
              0.3333333333333333,
              "#9c179e"
             ],
             [
              0.4444444444444444,
              "#bd3786"
             ],
             [
              0.5555555555555556,
              "#d8576b"
             ],
             [
              0.6666666666666666,
              "#ed7953"
             ],
             [
              0.7777777777777778,
              "#fb9f3a"
             ],
             [
              0.8888888888888888,
              "#fdca26"
             ],
             [
              1,
              "#f0f921"
             ]
            ],
            "type": "heatmap"
           }
          ],
          "histogram": [
           {
            "marker": {
             "pattern": {
              "fillmode": "overlay",
              "size": 10,
              "solidity": 0.2
             }
            },
            "type": "histogram"
           }
          ],
          "histogram2d": [
           {
            "colorbar": {
             "outlinewidth": 0,
             "ticks": ""
            },
            "colorscale": [
             [
              0,
              "#0d0887"
             ],
             [
              0.1111111111111111,
              "#46039f"
             ],
             [
              0.2222222222222222,
              "#7201a8"
             ],
             [
              0.3333333333333333,
              "#9c179e"
             ],
             [
              0.4444444444444444,
              "#bd3786"
             ],
             [
              0.5555555555555556,
              "#d8576b"
             ],
             [
              0.6666666666666666,
              "#ed7953"
             ],
             [
              0.7777777777777778,
              "#fb9f3a"
             ],
             [
              0.8888888888888888,
              "#fdca26"
             ],
             [
              1,
              "#f0f921"
             ]
            ],
            "type": "histogram2d"
           }
          ],
          "histogram2dcontour": [
           {
            "colorbar": {
             "outlinewidth": 0,
             "ticks": ""
            },
            "colorscale": [
             [
              0,
              "#0d0887"
             ],
             [
              0.1111111111111111,
              "#46039f"
             ],
             [
              0.2222222222222222,
              "#7201a8"
             ],
             [
              0.3333333333333333,
              "#9c179e"
             ],
             [
              0.4444444444444444,
              "#bd3786"
             ],
             [
              0.5555555555555556,
              "#d8576b"
             ],
             [
              0.6666666666666666,
              "#ed7953"
             ],
             [
              0.7777777777777778,
              "#fb9f3a"
             ],
             [
              0.8888888888888888,
              "#fdca26"
             ],
             [
              1,
              "#f0f921"
             ]
            ],
            "type": "histogram2dcontour"
           }
          ],
          "mesh3d": [
           {
            "colorbar": {
             "outlinewidth": 0,
             "ticks": ""
            },
            "type": "mesh3d"
           }
          ],
          "parcoords": [
           {
            "line": {
             "colorbar": {
              "outlinewidth": 0,
              "ticks": ""
             }
            },
            "type": "parcoords"
           }
          ],
          "pie": [
           {
            "automargin": true,
            "type": "pie"
           }
          ],
          "scatter": [
           {
            "fillpattern": {
             "fillmode": "overlay",
             "size": 10,
             "solidity": 0.2
            },
            "type": "scatter"
           }
          ],
          "scatter3d": [
           {
            "line": {
             "colorbar": {
              "outlinewidth": 0,
              "ticks": ""
             }
            },
            "marker": {
             "colorbar": {
              "outlinewidth": 0,
              "ticks": ""
             }
            },
            "type": "scatter3d"
           }
          ],
          "scattercarpet": [
           {
            "marker": {
             "colorbar": {
              "outlinewidth": 0,
              "ticks": ""
             }
            },
            "type": "scattercarpet"
           }
          ],
          "scattergeo": [
           {
            "marker": {
             "colorbar": {
              "outlinewidth": 0,
              "ticks": ""
             }
            },
            "type": "scattergeo"
           }
          ],
          "scattergl": [
           {
            "marker": {
             "colorbar": {
              "outlinewidth": 0,
              "ticks": ""
             }
            },
            "type": "scattergl"
           }
          ],
          "scattermap": [
           {
            "marker": {
             "colorbar": {
              "outlinewidth": 0,
              "ticks": ""
             }
            },
            "type": "scattermap"
           }
          ],
          "scattermapbox": [
           {
            "marker": {
             "colorbar": {
              "outlinewidth": 0,
              "ticks": ""
             }
            },
            "type": "scattermapbox"
           }
          ],
          "scatterpolar": [
           {
            "marker": {
             "colorbar": {
              "outlinewidth": 0,
              "ticks": ""
             }
            },
            "type": "scatterpolar"
           }
          ],
          "scatterpolargl": [
           {
            "marker": {
             "colorbar": {
              "outlinewidth": 0,
              "ticks": ""
             }
            },
            "type": "scatterpolargl"
           }
          ],
          "scatterternary": [
           {
            "marker": {
             "colorbar": {
              "outlinewidth": 0,
              "ticks": ""
             }
            },
            "type": "scatterternary"
           }
          ],
          "surface": [
           {
            "colorbar": {
             "outlinewidth": 0,
             "ticks": ""
            },
            "colorscale": [
             [
              0,
              "#0d0887"
             ],
             [
              0.1111111111111111,
              "#46039f"
             ],
             [
              0.2222222222222222,
              "#7201a8"
             ],
             [
              0.3333333333333333,
              "#9c179e"
             ],
             [
              0.4444444444444444,
              "#bd3786"
             ],
             [
              0.5555555555555556,
              "#d8576b"
             ],
             [
              0.6666666666666666,
              "#ed7953"
             ],
             [
              0.7777777777777778,
              "#fb9f3a"
             ],
             [
              0.8888888888888888,
              "#fdca26"
             ],
             [
              1,
              "#f0f921"
             ]
            ],
            "type": "surface"
           }
          ],
          "table": [
           {
            "cells": {
             "fill": {
              "color": "#EBF0F8"
             },
             "line": {
              "color": "white"
             }
            },
            "header": {
             "fill": {
              "color": "#C8D4E3"
             },
             "line": {
              "color": "white"
             }
            },
            "type": "table"
           }
          ]
         },
         "layout": {
          "annotationdefaults": {
           "arrowcolor": "#2a3f5f",
           "arrowhead": 0,
           "arrowwidth": 1
          },
          "autotypenumbers": "strict",
          "coloraxis": {
           "colorbar": {
            "outlinewidth": 0,
            "ticks": ""
           }
          },
          "colorscale": {
           "diverging": [
            [
             0,
             "#8e0152"
            ],
            [
             0.1,
             "#c51b7d"
            ],
            [
             0.2,
             "#de77ae"
            ],
            [
             0.3,
             "#f1b6da"
            ],
            [
             0.4,
             "#fde0ef"
            ],
            [
             0.5,
             "#f7f7f7"
            ],
            [
             0.6,
             "#e6f5d0"
            ],
            [
             0.7,
             "#b8e186"
            ],
            [
             0.8,
             "#7fbc41"
            ],
            [
             0.9,
             "#4d9221"
            ],
            [
             1,
             "#276419"
            ]
           ],
           "sequential": [
            [
             0,
             "#0d0887"
            ],
            [
             0.1111111111111111,
             "#46039f"
            ],
            [
             0.2222222222222222,
             "#7201a8"
            ],
            [
             0.3333333333333333,
             "#9c179e"
            ],
            [
             0.4444444444444444,
             "#bd3786"
            ],
            [
             0.5555555555555556,
             "#d8576b"
            ],
            [
             0.6666666666666666,
             "#ed7953"
            ],
            [
             0.7777777777777778,
             "#fb9f3a"
            ],
            [
             0.8888888888888888,
             "#fdca26"
            ],
            [
             1,
             "#f0f921"
            ]
           ],
           "sequentialminus": [
            [
             0,
             "#0d0887"
            ],
            [
             0.1111111111111111,
             "#46039f"
            ],
            [
             0.2222222222222222,
             "#7201a8"
            ],
            [
             0.3333333333333333,
             "#9c179e"
            ],
            [
             0.4444444444444444,
             "#bd3786"
            ],
            [
             0.5555555555555556,
             "#d8576b"
            ],
            [
             0.6666666666666666,
             "#ed7953"
            ],
            [
             0.7777777777777778,
             "#fb9f3a"
            ],
            [
             0.8888888888888888,
             "#fdca26"
            ],
            [
             1,
             "#f0f921"
            ]
           ]
          },
          "colorway": [
           "#636efa",
           "#EF553B",
           "#00cc96",
           "#ab63fa",
           "#FFA15A",
           "#19d3f3",
           "#FF6692",
           "#B6E880",
           "#FF97FF",
           "#FECB52"
          ],
          "font": {
           "color": "#2a3f5f"
          },
          "geo": {
           "bgcolor": "white",
           "lakecolor": "white",
           "landcolor": "#E5ECF6",
           "showlakes": true,
           "showland": true,
           "subunitcolor": "white"
          },
          "hoverlabel": {
           "align": "left"
          },
          "hovermode": "closest",
          "mapbox": {
           "style": "light"
          },
          "paper_bgcolor": "white",
          "plot_bgcolor": "#E5ECF6",
          "polar": {
           "angularaxis": {
            "gridcolor": "white",
            "linecolor": "white",
            "ticks": ""
           },
           "bgcolor": "#E5ECF6",
           "radialaxis": {
            "gridcolor": "white",
            "linecolor": "white",
            "ticks": ""
           }
          },
          "scene": {
           "xaxis": {
            "backgroundcolor": "#E5ECF6",
            "gridcolor": "white",
            "gridwidth": 2,
            "linecolor": "white",
            "showbackground": true,
            "ticks": "",
            "zerolinecolor": "white"
           },
           "yaxis": {
            "backgroundcolor": "#E5ECF6",
            "gridcolor": "white",
            "gridwidth": 2,
            "linecolor": "white",
            "showbackground": true,
            "ticks": "",
            "zerolinecolor": "white"
           },
           "zaxis": {
            "backgroundcolor": "#E5ECF6",
            "gridcolor": "white",
            "gridwidth": 2,
            "linecolor": "white",
            "showbackground": true,
            "ticks": "",
            "zerolinecolor": "white"
           }
          },
          "shapedefaults": {
           "line": {
            "color": "#2a3f5f"
           }
          },
          "ternary": {
           "aaxis": {
            "gridcolor": "white",
            "linecolor": "white",
            "ticks": ""
           },
           "baxis": {
            "gridcolor": "white",
            "linecolor": "white",
            "ticks": ""
           },
           "bgcolor": "#E5ECF6",
           "caxis": {
            "gridcolor": "white",
            "linecolor": "white",
            "ticks": ""
           }
          },
          "title": {
           "x": 0.05
          },
          "xaxis": {
           "automargin": true,
           "gridcolor": "white",
           "linecolor": "white",
           "ticks": "",
           "title": {
            "standoff": 15
           },
           "zerolinecolor": "white",
           "zerolinewidth": 2
          },
          "yaxis": {
           "automargin": true,
           "gridcolor": "white",
           "linecolor": "white",
           "ticks": "",
           "title": {
            "standoff": 15
           },
           "zerolinecolor": "white",
           "zerolinewidth": 2
          }
         }
        },
        "title": {
         "text": "Portfolio Performance Analysis"
        },
        "xaxis": {
         "anchor": "y",
         "domain": [
          0,
          0.45
         ]
        },
        "xaxis2": {
         "anchor": "y2",
         "domain": [
          0.55,
          1
         ]
        },
        "xaxis3": {
         "anchor": "y3",
         "domain": [
          0,
          0.45
         ]
        },
        "xaxis4": {
         "anchor": "y4",
         "domain": [
          0.55,
          1
         ]
        },
        "xaxis5": {
         "anchor": "y5",
         "domain": [
          0,
          0.45
         ]
        },
        "xaxis6": {
         "anchor": "y6",
         "domain": [
          0.55,
          1
         ]
        },
        "yaxis": {
         "anchor": "x",
         "domain": [
          0.7777777777777778,
          1
         ]
        },
        "yaxis2": {
         "anchor": "x2",
         "domain": [
          0.7777777777777778,
          1
         ]
        },
        "yaxis3": {
         "anchor": "x3",
         "domain": [
          0.3888888888888889,
          0.6111111111111112
         ]
        },
        "yaxis4": {
         "anchor": "x4",
         "domain": [
          0.3888888888888889,
          0.6111111111111112
         ]
        },
        "yaxis5": {
         "anchor": "x5",
         "domain": [
          0,
          0.22222222222222224
         ]
        },
        "yaxis6": {
         "anchor": "x6",
         "domain": [
          0,
          0.22222222222222224
         ]
        }
       }
      }
     },
     "metadata": {},
     "output_type": "display_data"
    }
   ],
   "source": [
    "# Cell 6: Lấy kết quả backtest\n",
    "portfolio_summary = engine.get_portfolio_summary()\n",
    "\n",
    "print(\"=== KẾT QUẢ BACKTEST ===\")\n",
    "print(f\"Initial Capital: ${portfolio_summary['initial_capital']:,.2f}\")\n",
    "print(f\"Final Portfolio Value: ${portfolio_summary['total_value']:,.2f}\")\n",
    "print(f\"Total Return: {portfolio_summary['total_return']:.2%}\")\n",
    "print(f\"Annualized Return: {portfolio_summary['annualized_return']:.2%}\")\n",
    "print(f\"Sharpe Ratio: {portfolio_summary['sharpe_ratio']:.2f}\")\n",
    "print(f\"Max Drawdown: {portfolio_summary['max_drawdown']:.2%}\")\n",
    "print(f\"Win Rate: {portfolio_summary['win_rate']:.2%}\")\n",
    "print(f\"Total Trades: {portfolio_summary['total_trades']}\")\n",
    "\n",
    "# Cell 7: Visualize portfolio performance\n",
    "def plot_portfolio_performance(engine):\n",
    "    \"\"\"Plot portfolio performance\"\"\"\n",
    "    portfolio_history = engine.portfolio_history\n",
    "    \n",
    "    if not portfolio_history:\n",
    "        print(\"Không có dữ liệu portfolio history\")\n",
    "        return\n",
    "    \n",
    "    df = pd.DataFrame(portfolio_history)\n",
    "    df['date'] = pd.to_datetime(df['date'])\n",
    "    df.set_index('date', inplace=True)\n",
    "    \n",
    "    # Create subplots\n",
    "    fig = make_subplots(\n",
    "        rows=3, cols=2,\n",
    "        subplot_titles=('Portfolio Value', 'Daily Returns', 'Cumulative Returns', \n",
    "                       'Drawdown', 'Cash vs Positions', 'Trade Distribution'),\n",
    "        specs=[[{\"secondary_y\": False}, {\"secondary_y\": False}],\n",
    "               [{\"secondary_y\": False}, {\"secondary_y\": False}],\n",
    "               [{\"secondary_y\": False}, {\"secondary_y\": False}]]\n",
    "    )\n",
    "    \n",
    "    # Portfolio Value\n",
    "    fig.add_trace(\n",
    "        go.Scatter(x=df.index, y=df['total_value'], \n",
    "                  mode='lines', name='Portfolio Value'),\n",
    "        row=1, col=1\n",
    "    )\n",
    "    \n",
    "    # Daily Returns\n",
    "    daily_returns = df['total_value'].pct_change()\n",
    "    fig.add_trace(\n",
    "        go.Scatter(x=df.index, y=daily_returns, \n",
    "                  mode='lines', name='Daily Returns'),\n",
    "        row=1, col=2\n",
    "    )\n",
    "    \n",
    "    # Cumulative Returns\n",
    "    cumulative_returns = (1 + daily_returns).cumprod()\n",
    "    fig.add_trace(\n",
    "        go.Scatter(x=df.index, y=cumulative_returns, \n",
    "                  mode='lines', name='Cumulative Returns'),\n",
    "        row=2, col=1\n",
    "    )\n",
    "    \n",
    "    # Drawdown\n",
    "    running_max = df['total_value'].expanding().max()\n",
    "    drawdown = (df['total_value'] - running_max) / running_max\n",
    "    fig.add_trace(\n",
    "        go.Scatter(x=df.index, y=drawdown, \n",
    "                  mode='lines', name='Drawdown', fill='tonexty'),\n",
    "        row=2, col=2\n",
    "    )\n",
    "    \n",
    "    # Cash vs Positions\n",
    "    fig.add_trace(\n",
    "        go.Scatter(x=df.index, y=df['cash'], \n",
    "                  mode='lines', name='Cash'),\n",
    "        row=3, col=1\n",
    "    )\n",
    "    fig.add_trace(\n",
    "        go.Scatter(x=df.index, y=df['total_value'] - df['cash'], \n",
    "                  mode='lines', name='Positions'),\n",
    "        row=3, col=1\n",
    "    )\n",
    "    \n",
    "    # Trade Distribution (if available)\n",
    "    if hasattr(engine, 'trades') and engine.trades:\n",
    "        trade_returns = [trade.pnl for trade in engine.trades]\n",
    "        fig.add_trace(\n",
    "            go.Histogram(x=trade_returns, name='Trade Returns'),\n",
    "            row=3, col=2\n",
    "        )\n",
    "    \n",
    "    fig.update_layout(height=900, title_text=\"Portfolio Performance Analysis\")\n",
    "    fig.show()\n",
    "\n",
    "# Chạy visualization\n",
    "plot_portfolio_performance(engine)"
   ]
  },
  {
   "cell_type": "code",
   "execution_count": 13,
   "id": "dfe46d35",
   "metadata": {},
   "outputs": [
    {
     "data": {
      "application/vnd.plotly.v1+json": {
       "config": {
        "plotlyServerURL": "https://plot.ly"
       },
       "data": [
        {
         "close": {
          "bdata": "AAAAACAg/UAAAAAA4Pv8QAAAAAAQ2vxAAAAAAMDm/EAAAAAAwNH8QAAAAAAACf1AAAAAAPAN/UAAAAAAsB79QAAAAACgX/1AAAAAAIAp/UAAAAAAgB39QAAAAABQy/xAAAAAAFCs/EAAAAAAYND8QAAAAADA6PxAAAAAAEDf/EAAAAAAkOf8QAAAAABQ1vxAAAAAAKDT/EAAAAAAwMn8QAAAAADA0fxAAAAAAJDU/EAAAAAAIMv8QAAAAABw/PxAAAAAAIDe/EAAAAAAsKX8QAAAAABQ6/xAAAAAAMAl/UAAAAAAINb8QAAAAAAQ5/xAAAAAACCE/EAAAAAA0Kv8QAAAAAAgoPxAAAAAADDR/EAAAAAAoBv9QAAAAAAwC/1AAAAAAAAj/UAAAAAAsEz9QAAAAAAw+fxAAAAAAODo/EAAAAAAAPT8QAAAAACA9/xAAAAAAPDo/EAAAAAA0AH9QAAAAABg8vxAAAAAAADt/EAAAAAAcPj8QAAAAAAQF/1AAAAAAEAP/UAAAAAAsOT8QAAAAACALPxAAAAAABAo/EAAAAAAIHL8QAAAAAAQQvxAAAAAABCD/EAAAAAAULn8QAAAAADwsfxAAAAAAICn/EAAAAAAYMX8QAAAAABw2fxAAAAAAEDg/EAAAAAAoMz8QAAAAAAw3vxAAAAAAEDZ/EAAAAAAgNf8QAAAAAAg9vxAAAAAAAAO/UAAAAAA0Cr9QAAAAABAIP1AAAAAAGAH/UAAAAAAQAP9QAAAAABw2fxAAAAAABDT/EAAAAAAMNL8QAAAAADw/PxAAAAAACAH/UAAAAAAUPP8QAAAAABQqfxAAAAAAJCu/EAAAAAAYMr8QAAAAAAA2PxAAAAAABDW/EAAAAAAULP8QAAAAAAAzvxAAAAAAECM/EAAAAAAoMT8QAAAAABw6vxAAAAAACD5/EAAAAAAsOT8QAAAAAAg4fxAAAAAAPCB/EAAAAAAYEL8QAAAAACwO/xAAAAAAHAX/EAAAAAAcCP8QAAAAACAJ/xAAAAAANCm+0AAAAAAsKX7QAAAAAAAzPtAAAAAAKDS+0A=",
          "dtype": "f8"
         },
         "high": {
          "bdata": "AAAAAEBL/UAAAAAAYFH9QAAAAACgGv1AAAAAAGAC/UAAAAAAwBz9QAAAAABAFf1AAAAAACBI/UAAAAAAgIr9QAAAAAAggf1AAAAAAECE/UAAAAAAgDD9QAAAAADwMP1AAAAAAJDW/EAAAAAAYNT8QAAAAABg6/xAAAAAAIDq/EAAAAAAkPH8QAAAAADA5/xAAAAAAFDc/EAAAAAAkNr8QAAAAAAw3PxAAAAAAADf/EAAAAAAcOP8QAAAAACQAv1AAAAAAAAH/UAAAAAAwOL8QAAAAACw+PxAAAAAACA4/UAAAAAA0C79QAAAAAAgH/1AAAAAAKDq/EAAAAAAkLv8QAAAAABQzfxAAAAAABD2/EAAAAAAUB39QAAAAACgNP1AAAAAAHBb/UAAAAAAkF79QAAAAABQVv1AAAAAAPAP/UAAAAAAoPn8QAAAAAAQ/vxAAAAAAHD3/EAAAAAA8AH9QAAAAADgIP1AAAAAAID3/EAAAAAAMAX9QAAAAABQLv1AAAAAAOAp/UAAAAAAQBL9QAAAAADQ7vxAAAAAACBb/EAAAAAAAIT8QAAAAABAevxAAAAAAOCU/EAAAAAAcLn8QAAAAADgwPxAAAAAABC2/EAAAAAAwN38QAAAAADg3/xAAAAAAEDk/EAAAAAAgOL8QAAAAADQ5/xAAAAAAPDs/EAAAAAAcOP8QAAAAADA9vxAAAAAALAx/UAAAAAAYD/9QAAAAAAgQf1AAAAAACA5/UAAAAAAEBX9QAAAAACAE/1AAAAAAKDm/EAAAAAAcOP8QAAAAADg//xAAAAAADAe/UAAAAAAABH9QAAAAADQEP1AAAAAAKDQ/EAAAAAAYMz8QAAAAAAQ3vxAAAAAAPDm/EAAAAAAYOv8QAAAAABw//xAAAAAACDR/EAAAAAAwMj8QAAAAABg8/xAAAAAAIAH/UAAAAAA4P38QAAAAADg9/xAAAAAADAF/UAAAAAAcI78QAAAAABgVfxAAAAAAKBK/EAAAAAAgCf8QAAAAADwUPxAAAAAADA9/EAAAAAAQNb7QAAAAAAAzPtAAAAAAIDV+0A=",
          "dtype": "f8"
         },
         "low": {
          "bdata": "AAAAAEDw/EAAAAAAMO38QAAAAAAgv/xAAAAAAIDJ/EAAAAAA0ND8QAAAAAAgsPxAAAAAAIDq/EAAAAAAEO78QAAAAABAFv1AAAAAAJAm/UAAAAAAsOz8QAAAAAAQqfxAAAAAAKCe/EAAAAAAMIv8QAAAAADgvPxAAAAAANDY/EAAAAAAsNH8QAAAAABwvfxAAAAAAPC4/EAAAAAAgKb8QAAAAABgvvxAAAAAAFDF/EAAAAAA8Mf8QAAAAADAwfxAAAAAANDQ/EAAAAAAcHT8QAAAAAAgd/xAAAAAABDd/EAAAAAAINb8QAAAAABwxPxAAAAAAPB+/EAAAAAAYH78QAAAAACgXfxAAAAAAKB4/EAAAAAAwLL8QAAAAACgt/xAAAAAADDt/EAAAAAAQB39QAAAAAAg9fxAAAAAAIDl/EAAAAAAwMj8QAAAAAAAqPxAAAAAAJCp/EAAAAAAoKz8QAAAAACw8fxAAAAAABCd/EAAAAAAsNH8QAAAAADAyfxAAAAAAIDq/EAAAAAAEN78QAAAAACQKvxAAAAAAGD1+0AAAAAAUBH8QAAAAACgDvxAAAAAAHAx/EAAAAAAoHj8QAAAAADAnPxAAAAAAHCn/EAAAAAA8Kf8QAAAAABwxPxAAAAAABDP/EAAAAAAgMv8QAAAAAAAyPxAAAAAAODX/EAAAAAAwMn8QAAAAABgzPxAAAAAACD2/EAAAAAA8P/8QAAAAAAgDv1AAAAAAPD//EAAAAAAIO78QAAAAADAyPxAAAAAAICp/EAAAAAA8K/8QAAAAACArfxAAAAAAKDp/EAAAAAAoNr8QAAAAABgn/xAAAAAAACM/EAAAAAAsJP8QAAAAADQqvxAAAAAAJC7/EAAAAAAMKj8QAAAAABQp/xAAAAAAIBE/EAAAAAAwIj8QAAAAAAQwfxAAAAAAMDg/EAAAAAA4OD8QAAAAAAww/xAAAAAADCA/EAAAAAAgDP8QAAAAAAg6ftAAAAAAND7+0AAAAAAQNz7QAAAAADAzvtAAAAAAHCh+0AAAAAAgIL7QAAAAADgn/tAAAAAAHCy+0A=",
          "dtype": "f8"
         },
         "open": {
          "bdata": "AAAAAPAV/UAAAAAA8B/9QAAAAABA+vxAAAAAABDa/EAAAAAAwOb8QAAAAADA0fxAAAAAAPAI/UAAAAAAABD9QAAAAACwHv1AAAAAAKBf/UAAAAAAcCn9QAAAAABwHf1AAAAAANDJ/EAAAAAAcKz8QAAAAABw0PxAAAAAAMDo/EAAAAAAMN/8QAAAAACQ5/xAAAAAAFDW/EAAAAAAkNP8QAAAAADQyfxAAAAAAMDR/EAAAAAAkNT8QAAAAADwyvxAAAAAAKD9/EAAAAAAoNz8QAAAAABAnvxAAAAAACDr/EAAAAAAwCX9QAAAAAAw1vxAAAAAABDn/EAAAAAAMIT8QAAAAADQq/xAAAAAACCg/EAAAAAA4M/8QAAAAACQG/1AAAAAAGAL/UAAAAAAkCP9QAAAAACwTP1AAAAAAED5/EAAAAAA4Of8QAAAAAAA9PxAAAAAAHD3/EAAAAAAoOv8QAAAAACwAP1AAAAAAODz/EAAAAAAYOz8QAAAAACg9vxAAAAAABAX/UAAAAAAEA/9QAAAAAAA6PxAAAAAAIAs/EAAAAAA8Cf8QAAAAABAcvxAAAAAAABC/EAAAAAAEIP8QAAAAABAufxAAAAAAOCx/EAAAAAA8Kf8QAAAAABgxfxAAAAAAHDZ/EAAAAAAQOD8QAAAAADwzfxAAAAAAJDe/EAAAAAAQNn8QAAAAABw1/xAAAAAACD2/EAAAAAAIA39QAAAAACgLf1AAAAAAJAg/UAAAAAAUAf9QAAAAABAA/1AAAAAADDZ/EAAAAAAENP8QAAAAABA0/xAAAAAAID9/EAAAAAAwAb9QAAAAABg8/xAAAAAAECp/EAAAAAA4K78QAAAAABgyvxAAAAAACDZ/EAAAAAAENb8QAAAAACAs/xAAAAAAADO/EAAAAAAcIn8QAAAAACQxPxAAAAAAHDr/EAAAAAAMPn8QAAAAACg5PxAAAAAACDh/EAAAAAAgIH8QAAAAABQQvxAAAAAAGA7/EAAAAAA8Bb8QAAAAADAI/xAAAAAAIAn/EAAAAAAwKb7QAAAAACwpftAAAAAAADM+0A=",
          "dtype": "f8"
         },
         "type": "candlestick",
         "x": [
          "2025-07-16T23:00:00.000000000",
          "2025-07-17T03:00:00.000000000",
          "2025-07-17T07:00:00.000000000",
          "2025-07-17T11:00:00.000000000",
          "2025-07-17T15:00:00.000000000",
          "2025-07-17T19:00:00.000000000",
          "2025-07-17T23:00:00.000000000",
          "2025-07-18T03:00:00.000000000",
          "2025-07-18T07:00:00.000000000",
          "2025-07-18T11:00:00.000000000",
          "2025-07-18T15:00:00.000000000",
          "2025-07-18T19:00:00.000000000",
          "2025-07-18T23:00:00.000000000",
          "2025-07-19T03:00:00.000000000",
          "2025-07-19T07:00:00.000000000",
          "2025-07-19T11:00:00.000000000",
          "2025-07-19T15:00:00.000000000",
          "2025-07-19T19:00:00.000000000",
          "2025-07-19T23:00:00.000000000",
          "2025-07-20T03:00:00.000000000",
          "2025-07-20T07:00:00.000000000",
          "2025-07-20T11:00:00.000000000",
          "2025-07-20T15:00:00.000000000",
          "2025-07-20T19:00:00.000000000",
          "2025-07-20T23:00:00.000000000",
          "2025-07-21T03:00:00.000000000",
          "2025-07-21T07:00:00.000000000",
          "2025-07-21T11:00:00.000000000",
          "2025-07-21T15:00:00.000000000",
          "2025-07-21T19:00:00.000000000",
          "2025-07-21T23:00:00.000000000",
          "2025-07-22T03:00:00.000000000",
          "2025-07-22T07:00:00.000000000",
          "2025-07-22T11:00:00.000000000",
          "2025-07-22T15:00:00.000000000",
          "2025-07-22T19:00:00.000000000",
          "2025-07-22T23:00:00.000000000",
          "2025-07-23T03:00:00.000000000",
          "2025-07-23T07:00:00.000000000",
          "2025-07-23T11:00:00.000000000",
          "2025-07-23T15:00:00.000000000",
          "2025-07-23T19:00:00.000000000",
          "2025-07-23T23:00:00.000000000",
          "2025-07-24T03:00:00.000000000",
          "2025-07-24T07:00:00.000000000",
          "2025-07-24T11:00:00.000000000",
          "2025-07-24T15:00:00.000000000",
          "2025-07-24T19:00:00.000000000",
          "2025-07-24T23:00:00.000000000",
          "2025-07-25T03:00:00.000000000",
          "2025-07-25T07:00:00.000000000",
          "2025-07-25T11:00:00.000000000",
          "2025-07-25T15:00:00.000000000",
          "2025-07-25T19:00:00.000000000",
          "2025-07-25T23:00:00.000000000",
          "2025-07-26T03:00:00.000000000",
          "2025-07-26T07:00:00.000000000",
          "2025-07-26T11:00:00.000000000",
          "2025-07-26T15:00:00.000000000",
          "2025-07-26T19:00:00.000000000",
          "2025-07-26T23:00:00.000000000",
          "2025-07-27T03:00:00.000000000",
          "2025-07-27T07:00:00.000000000",
          "2025-07-27T11:00:00.000000000",
          "2025-07-27T15:00:00.000000000",
          "2025-07-27T19:00:00.000000000",
          "2025-07-27T23:00:00.000000000",
          "2025-07-28T03:00:00.000000000",
          "2025-07-28T07:00:00.000000000",
          "2025-07-28T11:00:00.000000000",
          "2025-07-28T15:00:00.000000000",
          "2025-07-28T19:00:00.000000000",
          "2025-07-28T23:00:00.000000000",
          "2025-07-29T03:00:00.000000000",
          "2025-07-29T07:00:00.000000000",
          "2025-07-29T11:00:00.000000000",
          "2025-07-29T15:00:00.000000000",
          "2025-07-29T19:00:00.000000000",
          "2025-07-29T23:00:00.000000000",
          "2025-07-30T03:00:00.000000000",
          "2025-07-30T07:00:00.000000000",
          "2025-07-30T11:00:00.000000000",
          "2025-07-30T15:00:00.000000000",
          "2025-07-30T19:00:00.000000000",
          "2025-07-30T23:00:00.000000000",
          "2025-07-31T03:00:00.000000000",
          "2025-07-31T07:00:00.000000000",
          "2025-07-31T11:00:00.000000000",
          "2025-07-31T15:00:00.000000000",
          "2025-07-31T19:00:00.000000000",
          "2025-07-31T23:00:00.000000000",
          "2025-08-01T03:00:00.000000000",
          "2025-08-01T07:00:00.000000000",
          "2025-08-01T11:00:00.000000000",
          "2025-08-01T15:00:00.000000000",
          "2025-08-01T19:00:00.000000000",
          "2025-08-01T23:00:00.000000000",
          "2025-08-02T03:00:00.000000000",
          "2025-08-02T07:00:00.000000000",
          "2025-08-02T11:00:00.000000000"
         ],
         "xaxis": "x",
         "yaxis": "y"
        },
        {
         "marker": {
          "color": "green",
          "size": 12,
          "symbol": "triangle-up"
         },
         "mode": "markers+text",
         "name": "Buy",
         "text": [
          "Buy",
          "Buy",
          "Buy"
         ],
         "textposition": "bottom center",
         "type": "scatter",
         "x": [
          "2025-07-22T23:00:00.000000000",
          "2025-07-27T07:00:00.000000000",
          "2025-07-31T19:00:00.000000000"
         ],
         "xaxis": "x",
         "y": {
          "bdata": "gZVDi2De/EAlBoGVQ7n8QF66SQx2tPxA",
          "dtype": "f8"
         },
         "yaxis": "y"
        },
        {
         "marker": {
          "color": "red",
          "size": 12,
          "symbol": "triangle-down"
         },
         "mode": "markers+text",
         "name": "Sell",
         "text": [
          "Sell",
          "Sell",
          "Sell"
         ],
         "textposition": "top center",
         "type": "scatter",
         "x": [
          "2025-07-25T07:00:00.000000000",
          "2025-07-30T07:00:00.000000000",
          "2025-07-31T23:00:00.000000000"
         ],
         "xaxis": "x",
         "y": {
          "bdata": "NV66SaD9/EDLoUW21+z8QLTIdr4LFP1A",
          "dtype": "f8"
         },
         "yaxis": "y"
        },
        {
         "type": "bar",
         "x": [
          "2025-07-16T23:00:00.000000000",
          "2025-07-17T03:00:00.000000000",
          "2025-07-17T07:00:00.000000000",
          "2025-07-17T11:00:00.000000000",
          "2025-07-17T15:00:00.000000000",
          "2025-07-17T19:00:00.000000000",
          "2025-07-17T23:00:00.000000000",
          "2025-07-18T03:00:00.000000000",
          "2025-07-18T07:00:00.000000000",
          "2025-07-18T11:00:00.000000000",
          "2025-07-18T15:00:00.000000000",
          "2025-07-18T19:00:00.000000000",
          "2025-07-18T23:00:00.000000000",
          "2025-07-19T03:00:00.000000000",
          "2025-07-19T07:00:00.000000000",
          "2025-07-19T11:00:00.000000000",
          "2025-07-19T15:00:00.000000000",
          "2025-07-19T19:00:00.000000000",
          "2025-07-19T23:00:00.000000000",
          "2025-07-20T03:00:00.000000000",
          "2025-07-20T07:00:00.000000000",
          "2025-07-20T11:00:00.000000000",
          "2025-07-20T15:00:00.000000000",
          "2025-07-20T19:00:00.000000000",
          "2025-07-20T23:00:00.000000000",
          "2025-07-21T03:00:00.000000000",
          "2025-07-21T07:00:00.000000000",
          "2025-07-21T11:00:00.000000000",
          "2025-07-21T15:00:00.000000000",
          "2025-07-21T19:00:00.000000000",
          "2025-07-21T23:00:00.000000000",
          "2025-07-22T03:00:00.000000000",
          "2025-07-22T07:00:00.000000000",
          "2025-07-22T11:00:00.000000000",
          "2025-07-22T15:00:00.000000000",
          "2025-07-22T19:00:00.000000000",
          "2025-07-22T23:00:00.000000000",
          "2025-07-23T03:00:00.000000000",
          "2025-07-23T07:00:00.000000000",
          "2025-07-23T11:00:00.000000000",
          "2025-07-23T15:00:00.000000000",
          "2025-07-23T19:00:00.000000000",
          "2025-07-23T23:00:00.000000000",
          "2025-07-24T03:00:00.000000000",
          "2025-07-24T07:00:00.000000000",
          "2025-07-24T11:00:00.000000000",
          "2025-07-24T15:00:00.000000000",
          "2025-07-24T19:00:00.000000000",
          "2025-07-24T23:00:00.000000000",
          "2025-07-25T03:00:00.000000000",
          "2025-07-25T07:00:00.000000000",
          "2025-07-25T11:00:00.000000000",
          "2025-07-25T15:00:00.000000000",
          "2025-07-25T19:00:00.000000000",
          "2025-07-25T23:00:00.000000000",
          "2025-07-26T03:00:00.000000000",
          "2025-07-26T07:00:00.000000000",
          "2025-07-26T11:00:00.000000000",
          "2025-07-26T15:00:00.000000000",
          "2025-07-26T19:00:00.000000000",
          "2025-07-26T23:00:00.000000000",
          "2025-07-27T03:00:00.000000000",
          "2025-07-27T07:00:00.000000000",
          "2025-07-27T11:00:00.000000000",
          "2025-07-27T15:00:00.000000000",
          "2025-07-27T19:00:00.000000000",
          "2025-07-27T23:00:00.000000000",
          "2025-07-28T03:00:00.000000000",
          "2025-07-28T07:00:00.000000000",
          "2025-07-28T11:00:00.000000000",
          "2025-07-28T15:00:00.000000000",
          "2025-07-28T19:00:00.000000000",
          "2025-07-28T23:00:00.000000000",
          "2025-07-29T03:00:00.000000000",
          "2025-07-29T07:00:00.000000000",
          "2025-07-29T11:00:00.000000000",
          "2025-07-29T15:00:00.000000000",
          "2025-07-29T19:00:00.000000000",
          "2025-07-29T23:00:00.000000000",
          "2025-07-30T03:00:00.000000000",
          "2025-07-30T07:00:00.000000000",
          "2025-07-30T11:00:00.000000000",
          "2025-07-30T15:00:00.000000000",
          "2025-07-30T19:00:00.000000000",
          "2025-07-30T23:00:00.000000000",
          "2025-07-31T03:00:00.000000000",
          "2025-07-31T07:00:00.000000000",
          "2025-07-31T11:00:00.000000000",
          "2025-07-31T15:00:00.000000000",
          "2025-07-31T19:00:00.000000000",
          "2025-07-31T23:00:00.000000000",
          "2025-08-01T03:00:00.000000000",
          "2025-08-01T07:00:00.000000000",
          "2025-08-01T11:00:00.000000000",
          "2025-08-01T15:00:00.000000000",
          "2025-08-01T19:00:00.000000000",
          "2025-08-01T23:00:00.000000000",
          "2025-08-02T03:00:00.000000000",
          "2025-08-02T07:00:00.000000000",
          "2025-08-02T11:00:00.000000000"
         ],
         "xaxis": "x2",
         "y": {
          "bdata": "YrqU4yMEckBCPZ4SR5htQNYFF4aDXmVAlD+MzgE5X0AjSRCuAEZpQGaOvN4TWXVAqwcOYDiwfEAWa/rkX8N0QJw2gAoptGtA4PQN0KZfZkBNiuoI+2ptQMJe9iV6xoBAfp4OfQocfEDTFrbqQ1FpQC5t/oCDFlRAfg9mLP3kSECD/OirlqRQQAE2e/sOZ1dAHB38aUhRXkCHNnziK+pVQNbdIzjBKVdAWjubn6yPR0DvjWMcCjlTQO82FOMhglpApCrYDJGLVkB3Hg2OL0ppQK0QmH+7J2VAQheBbyIjYkCpjSQgqv5iQJ14lGvWS3dA3YFTghJXd0ANRIEEZoFeQP2fBZnrzW9A6mNXvZAAa0D6Yu/FNytmQGG6WjhaSW9AYXf0nq47b0BVZzn5IsRiQBZwS7uDI1lABFTdyGGAU0A0De0QfYdWQNUW6CRFEHBA4WeW4/nkckBSwRuxOgdjQHAphGGCGmBAICsyGTJbZUCFKamXSEFbQLT7XfEXdm9AoEe1HW3Wa0APFmdvnYpoQC+N/E3yN5VABBEUBZudmECbGaKvOUyVQF+NHoUkhYRAZaeC/pBIfUD9U0caHgpuQF99+tcLTmRAveinD48gSkCNYMLszvBgQAV140B80l1AGmzqPCp9TECF9iSPq/xWQEunXH6zo1RA1jwFyOnERUAWP3xPm9dRQDgvb4res1hAQj4q9j4qZkDoZXf1qH5aQCvxRgcA0mJAsoeThwfNXkA63Jq2N7BQQOefKvAvEHVAuNgf7otHbUBe1qP0tdJiQPdwj8a9aWBAc8wmfhTeUkDgc9SPVYpWQCHXXQvwKnFA2jLHjyTKdEA5DrxaHhFwQG4BmYToDFtAD6ejTsYaVECUf7HnAAdfQFXDuPrlC3BA4dn1PbCBeECiYhiHpYNUQIQpb+ye8WBAgKnRcRYJVEAmUyaxexdSQKj+pE5uN3NA1/+1k/M3bkDU+zouEi5nQFptF/0V93VARb90YqjkYkDNvVURzfZxQCk/6xK0DYVAsZ3WCkb6gEBInF/ebSx0QIuj9kv5fWBAtsHkoepdYEA=",
          "dtype": "f8"
         },
         "yaxis": "y2"
        }
       ],
       "layout": {
        "height": 800,
        "template": {
         "data": {
          "bar": [
           {
            "error_x": {
             "color": "#2a3f5f"
            },
            "error_y": {
             "color": "#2a3f5f"
            },
            "marker": {
             "line": {
              "color": "#E5ECF6",
              "width": 0.5
             },
             "pattern": {
              "fillmode": "overlay",
              "size": 10,
              "solidity": 0.2
             }
            },
            "type": "bar"
           }
          ],
          "barpolar": [
           {
            "marker": {
             "line": {
              "color": "#E5ECF6",
              "width": 0.5
             },
             "pattern": {
              "fillmode": "overlay",
              "size": 10,
              "solidity": 0.2
             }
            },
            "type": "barpolar"
           }
          ],
          "carpet": [
           {
            "aaxis": {
             "endlinecolor": "#2a3f5f",
             "gridcolor": "white",
             "linecolor": "white",
             "minorgridcolor": "white",
             "startlinecolor": "#2a3f5f"
            },
            "baxis": {
             "endlinecolor": "#2a3f5f",
             "gridcolor": "white",
             "linecolor": "white",
             "minorgridcolor": "white",
             "startlinecolor": "#2a3f5f"
            },
            "type": "carpet"
           }
          ],
          "choropleth": [
           {
            "colorbar": {
             "outlinewidth": 0,
             "ticks": ""
            },
            "type": "choropleth"
           }
          ],
          "contour": [
           {
            "colorbar": {
             "outlinewidth": 0,
             "ticks": ""
            },
            "colorscale": [
             [
              0,
              "#0d0887"
             ],
             [
              0.1111111111111111,
              "#46039f"
             ],
             [
              0.2222222222222222,
              "#7201a8"
             ],
             [
              0.3333333333333333,
              "#9c179e"
             ],
             [
              0.4444444444444444,
              "#bd3786"
             ],
             [
              0.5555555555555556,
              "#d8576b"
             ],
             [
              0.6666666666666666,
              "#ed7953"
             ],
             [
              0.7777777777777778,
              "#fb9f3a"
             ],
             [
              0.8888888888888888,
              "#fdca26"
             ],
             [
              1,
              "#f0f921"
             ]
            ],
            "type": "contour"
           }
          ],
          "contourcarpet": [
           {
            "colorbar": {
             "outlinewidth": 0,
             "ticks": ""
            },
            "type": "contourcarpet"
           }
          ],
          "heatmap": [
           {
            "colorbar": {
             "outlinewidth": 0,
             "ticks": ""
            },
            "colorscale": [
             [
              0,
              "#0d0887"
             ],
             [
              0.1111111111111111,
              "#46039f"
             ],
             [
              0.2222222222222222,
              "#7201a8"
             ],
             [
              0.3333333333333333,
              "#9c179e"
             ],
             [
              0.4444444444444444,
              "#bd3786"
             ],
             [
              0.5555555555555556,
              "#d8576b"
             ],
             [
              0.6666666666666666,
              "#ed7953"
             ],
             [
              0.7777777777777778,
              "#fb9f3a"
             ],
             [
              0.8888888888888888,
              "#fdca26"
             ],
             [
              1,
              "#f0f921"
             ]
            ],
            "type": "heatmap"
           }
          ],
          "histogram": [
           {
            "marker": {
             "pattern": {
              "fillmode": "overlay",
              "size": 10,
              "solidity": 0.2
             }
            },
            "type": "histogram"
           }
          ],
          "histogram2d": [
           {
            "colorbar": {
             "outlinewidth": 0,
             "ticks": ""
            },
            "colorscale": [
             [
              0,
              "#0d0887"
             ],
             [
              0.1111111111111111,
              "#46039f"
             ],
             [
              0.2222222222222222,
              "#7201a8"
             ],
             [
              0.3333333333333333,
              "#9c179e"
             ],
             [
              0.4444444444444444,
              "#bd3786"
             ],
             [
              0.5555555555555556,
              "#d8576b"
             ],
             [
              0.6666666666666666,
              "#ed7953"
             ],
             [
              0.7777777777777778,
              "#fb9f3a"
             ],
             [
              0.8888888888888888,
              "#fdca26"
             ],
             [
              1,
              "#f0f921"
             ]
            ],
            "type": "histogram2d"
           }
          ],
          "histogram2dcontour": [
           {
            "colorbar": {
             "outlinewidth": 0,
             "ticks": ""
            },
            "colorscale": [
             [
              0,
              "#0d0887"
             ],
             [
              0.1111111111111111,
              "#46039f"
             ],
             [
              0.2222222222222222,
              "#7201a8"
             ],
             [
              0.3333333333333333,
              "#9c179e"
             ],
             [
              0.4444444444444444,
              "#bd3786"
             ],
             [
              0.5555555555555556,
              "#d8576b"
             ],
             [
              0.6666666666666666,
              "#ed7953"
             ],
             [
              0.7777777777777778,
              "#fb9f3a"
             ],
             [
              0.8888888888888888,
              "#fdca26"
             ],
             [
              1,
              "#f0f921"
             ]
            ],
            "type": "histogram2dcontour"
           }
          ],
          "mesh3d": [
           {
            "colorbar": {
             "outlinewidth": 0,
             "ticks": ""
            },
            "type": "mesh3d"
           }
          ],
          "parcoords": [
           {
            "line": {
             "colorbar": {
              "outlinewidth": 0,
              "ticks": ""
             }
            },
            "type": "parcoords"
           }
          ],
          "pie": [
           {
            "automargin": true,
            "type": "pie"
           }
          ],
          "scatter": [
           {
            "fillpattern": {
             "fillmode": "overlay",
             "size": 10,
             "solidity": 0.2
            },
            "type": "scatter"
           }
          ],
          "scatter3d": [
           {
            "line": {
             "colorbar": {
              "outlinewidth": 0,
              "ticks": ""
             }
            },
            "marker": {
             "colorbar": {
              "outlinewidth": 0,
              "ticks": ""
             }
            },
            "type": "scatter3d"
           }
          ],
          "scattercarpet": [
           {
            "marker": {
             "colorbar": {
              "outlinewidth": 0,
              "ticks": ""
             }
            },
            "type": "scattercarpet"
           }
          ],
          "scattergeo": [
           {
            "marker": {
             "colorbar": {
              "outlinewidth": 0,
              "ticks": ""
             }
            },
            "type": "scattergeo"
           }
          ],
          "scattergl": [
           {
            "marker": {
             "colorbar": {
              "outlinewidth": 0,
              "ticks": ""
             }
            },
            "type": "scattergl"
           }
          ],
          "scattermap": [
           {
            "marker": {
             "colorbar": {
              "outlinewidth": 0,
              "ticks": ""
             }
            },
            "type": "scattermap"
           }
          ],
          "scattermapbox": [
           {
            "marker": {
             "colorbar": {
              "outlinewidth": 0,
              "ticks": ""
             }
            },
            "type": "scattermapbox"
           }
          ],
          "scatterpolar": [
           {
            "marker": {
             "colorbar": {
              "outlinewidth": 0,
              "ticks": ""
             }
            },
            "type": "scatterpolar"
           }
          ],
          "scatterpolargl": [
           {
            "marker": {
             "colorbar": {
              "outlinewidth": 0,
              "ticks": ""
             }
            },
            "type": "scatterpolargl"
           }
          ],
          "scatterternary": [
           {
            "marker": {
             "colorbar": {
              "outlinewidth": 0,
              "ticks": ""
             }
            },
            "type": "scatterternary"
           }
          ],
          "surface": [
           {
            "colorbar": {
             "outlinewidth": 0,
             "ticks": ""
            },
            "colorscale": [
             [
              0,
              "#0d0887"
             ],
             [
              0.1111111111111111,
              "#46039f"
             ],
             [
              0.2222222222222222,
              "#7201a8"
             ],
             [
              0.3333333333333333,
              "#9c179e"
             ],
             [
              0.4444444444444444,
              "#bd3786"
             ],
             [
              0.5555555555555556,
              "#d8576b"
             ],
             [
              0.6666666666666666,
              "#ed7953"
             ],
             [
              0.7777777777777778,
              "#fb9f3a"
             ],
             [
              0.8888888888888888,
              "#fdca26"
             ],
             [
              1,
              "#f0f921"
             ]
            ],
            "type": "surface"
           }
          ],
          "table": [
           {
            "cells": {
             "fill": {
              "color": "#EBF0F8"
             },
             "line": {
              "color": "white"
             }
            },
            "header": {
             "fill": {
              "color": "#C8D4E3"
             },
             "line": {
              "color": "white"
             }
            },
            "type": "table"
           }
          ]
         },
         "layout": {
          "annotationdefaults": {
           "arrowcolor": "#2a3f5f",
           "arrowhead": 0,
           "arrowwidth": 1
          },
          "autotypenumbers": "strict",
          "coloraxis": {
           "colorbar": {
            "outlinewidth": 0,
            "ticks": ""
           }
          },
          "colorscale": {
           "diverging": [
            [
             0,
             "#8e0152"
            ],
            [
             0.1,
             "#c51b7d"
            ],
            [
             0.2,
             "#de77ae"
            ],
            [
             0.3,
             "#f1b6da"
            ],
            [
             0.4,
             "#fde0ef"
            ],
            [
             0.5,
             "#f7f7f7"
            ],
            [
             0.6,
             "#e6f5d0"
            ],
            [
             0.7,
             "#b8e186"
            ],
            [
             0.8,
             "#7fbc41"
            ],
            [
             0.9,
             "#4d9221"
            ],
            [
             1,
             "#276419"
            ]
           ],
           "sequential": [
            [
             0,
             "#0d0887"
            ],
            [
             0.1111111111111111,
             "#46039f"
            ],
            [
             0.2222222222222222,
             "#7201a8"
            ],
            [
             0.3333333333333333,
             "#9c179e"
            ],
            [
             0.4444444444444444,
             "#bd3786"
            ],
            [
             0.5555555555555556,
             "#d8576b"
            ],
            [
             0.6666666666666666,
             "#ed7953"
            ],
            [
             0.7777777777777778,
             "#fb9f3a"
            ],
            [
             0.8888888888888888,
             "#fdca26"
            ],
            [
             1,
             "#f0f921"
            ]
           ],
           "sequentialminus": [
            [
             0,
             "#0d0887"
            ],
            [
             0.1111111111111111,
             "#46039f"
            ],
            [
             0.2222222222222222,
             "#7201a8"
            ],
            [
             0.3333333333333333,
             "#9c179e"
            ],
            [
             0.4444444444444444,
             "#bd3786"
            ],
            [
             0.5555555555555556,
             "#d8576b"
            ],
            [
             0.6666666666666666,
             "#ed7953"
            ],
            [
             0.7777777777777778,
             "#fb9f3a"
            ],
            [
             0.8888888888888888,
             "#fdca26"
            ],
            [
             1,
             "#f0f921"
            ]
           ]
          },
          "colorway": [
           "#636efa",
           "#EF553B",
           "#00cc96",
           "#ab63fa",
           "#FFA15A",
           "#19d3f3",
           "#FF6692",
           "#B6E880",
           "#FF97FF",
           "#FECB52"
          ],
          "font": {
           "color": "#2a3f5f"
          },
          "geo": {
           "bgcolor": "white",
           "lakecolor": "white",
           "landcolor": "#E5ECF6",
           "showlakes": true,
           "showland": true,
           "subunitcolor": "white"
          },
          "hoverlabel": {
           "align": "left"
          },
          "hovermode": "closest",
          "mapbox": {
           "style": "light"
          },
          "paper_bgcolor": "white",
          "plot_bgcolor": "#E5ECF6",
          "polar": {
           "angularaxis": {
            "gridcolor": "white",
            "linecolor": "white",
            "ticks": ""
           },
           "bgcolor": "#E5ECF6",
           "radialaxis": {
            "gridcolor": "white",
            "linecolor": "white",
            "ticks": ""
           }
          },
          "scene": {
           "xaxis": {
            "backgroundcolor": "#E5ECF6",
            "gridcolor": "white",
            "gridwidth": 2,
            "linecolor": "white",
            "showbackground": true,
            "ticks": "",
            "zerolinecolor": "white"
           },
           "yaxis": {
            "backgroundcolor": "#E5ECF6",
            "gridcolor": "white",
            "gridwidth": 2,
            "linecolor": "white",
            "showbackground": true,
            "ticks": "",
            "zerolinecolor": "white"
           },
           "zaxis": {
            "backgroundcolor": "#E5ECF6",
            "gridcolor": "white",
            "gridwidth": 2,
            "linecolor": "white",
            "showbackground": true,
            "ticks": "",
            "zerolinecolor": "white"
           }
          },
          "shapedefaults": {
           "line": {
            "color": "#2a3f5f"
           }
          },
          "ternary": {
           "aaxis": {
            "gridcolor": "white",
            "linecolor": "white",
            "ticks": ""
           },
           "baxis": {
            "gridcolor": "white",
            "linecolor": "white",
            "ticks": ""
           },
           "bgcolor": "#E5ECF6",
           "caxis": {
            "gridcolor": "white",
            "linecolor": "white",
            "ticks": ""
           }
          },
          "title": {
           "x": 0.05
          },
          "xaxis": {
           "automargin": true,
           "gridcolor": "white",
           "linecolor": "white",
           "ticks": "",
           "title": {
            "standoff": 15
           },
           "zerolinecolor": "white",
           "zerolinewidth": 2
          },
          "yaxis": {
           "automargin": true,
           "gridcolor": "white",
           "linecolor": "white",
           "ticks": "",
           "title": {
            "standoff": 15
           },
           "zerolinecolor": "white",
           "zerolinewidth": 2
          }
         }
        },
        "title": {
         "text": "Bitstamp:BTCUSD"
        },
        "width": 1000,
        "xaxis": {
         "anchor": "y",
         "domain": [
          0,
          1
         ],
         "matches": "x2",
         "showticklabels": false,
         "title": {
          "text": "Date"
         }
        },
        "xaxis2": {
         "anchor": "y2",
         "domain": [
          0,
          1
         ]
        },
        "yaxis": {
         "anchor": "x",
         "domain": [
          0.24,
          1
         ],
         "range": [
          110426.4,
          123420
         ],
         "title": {
          "text": "Price"
         }
        },
        "yaxis2": {
         "anchor": "x2",
         "domain": [
          0,
          0.19
         ]
        }
       }
      }
     },
     "metadata": {},
     "output_type": "display_data"
    }
   ],
   "source": [
    "def viz(symbol, trades_df, historical_data):\n",
    "    # Visualize\n",
    "    fig = make_subplots(rows=2, cols=1, shared_xaxes=True, vertical_spacing=0.05, row_heights=[0.8, 0.2])\n",
    "    fig.add_trace(go.Candlestick(x=historical_data[symbol].index,\n",
    "                    open=historical_data[symbol].open,\n",
    "                    high=historical_data[symbol].high,\n",
    "                    low=historical_data[symbol].low,\n",
    "                    close=historical_data[symbol].close,\n",
    "                    ), row=1, col=1)\n",
    "    set_ylim = (historical_data[symbol].low.min() * 0.98, historical_data[symbol].high.max() * 1.02)\n",
    "    # Add buy/sell markers from trades_df to the candlestick chart (row 1)\n",
    "    if 'trades_df' in locals():\n",
    "        buy_trades = trades_df[trades_df['Side'] == 'buy']\n",
    "        sell_trades = trades_df[trades_df['Side'] == 'sell']\n",
    "        # Buy markers\n",
    "        fig.add_trace(\n",
    "            go.Scatter(\n",
    "                x=buy_trades['Timestamp'],\n",
    "                y=historical_data[symbol][historical_data.index.isin(buy_trades['Timestamp'])].low * 0.998,\n",
    "                mode='markers+text',\n",
    "                marker=dict(symbol='triangle-up', color='green', size=12),\n",
    "                text=['Buy']*len(buy_trades),\n",
    "                textposition='bottom center',\n",
    "                name='Buy'\n",
    "            ),\n",
    "            row=1, col=1\n",
    "        )\n",
    "        # Sell markers\n",
    "        fig.add_trace(\n",
    "            go.Scatter(\n",
    "                x=sell_trades['Timestamp'],\n",
    "                y=historical_data[symbol][historical_data.index.isin(sell_trades['Timestamp'])].high * 1.002,\n",
    "                mode='markers+text',\n",
    "                marker=dict(symbol='triangle-down', color='red', size=12),\n",
    "                text=['Sell']*len(sell_trades),\n",
    "                textposition='top center',\n",
    "                name='Sell'\n",
    "            ),\n",
    "            row=1, col=1\n",
    "        )\n",
    "\n",
    "    fig.add_trace(go.Bar(x=historical_data[symbol].index,\n",
    "                        y=historical_data[symbol].volume,\n",
    "                        ), row=2, col=1)\n",
    "\n",
    "    fig.update_layout(title=f'{symbol}',\n",
    "                    yaxis_range=(set_ylim[0], set_ylim[1]),\n",
    "                    xaxis_title='Date',\n",
    "                    yaxis_title='Price', \n",
    "                    height=800, width=1000)\n",
    "    fig.show()\n",
    "\n",
    "viz(symbols[0], trades_df, historical_data)"
   ]
  }
 ],
 "metadata": {
  "kernelspec": {
   "display_name": "Python 3",
   "language": "python",
   "name": "python3"
  },
  "language_info": {
   "codemirror_mode": {
    "name": "ipython",
    "version": 3
   },
   "file_extension": ".py",
   "mimetype": "text/x-python",
   "name": "python",
   "nbconvert_exporter": "python",
   "pygments_lexer": "ipython3",
   "version": "3.12.2"
  }
 },
 "nbformat": 4,
 "nbformat_minor": 5
}
