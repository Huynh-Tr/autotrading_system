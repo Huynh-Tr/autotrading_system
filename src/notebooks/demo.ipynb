{
 "cells": [
  {
   "cell_type": "code",
   "execution_count": 1,
   "id": "b0806164",
   "metadata": {},
   "outputs": [
    {
     "name": "stdout",
     "output_type": "stream",
     "text": [
      "Import thành công!\n"
     ]
    }
   ],
   "source": [
    "# Cell 1: Setup imports\n",
    "import os\n",
    "import sys\n",
    "import pandas as pd\n",
    "import numpy as np\n",
    "from datetime import datetime, timedelta\n",
    "\n",
    "# Thêm đường dẫn gốc của dự án vào sys.path\n",
    "project_root = os.path.abspath(os.path.join(os.getcwd(), '..', '..'))\n",
    "if project_root not in sys.path:\n",
    "    sys.path.insert(0, project_root)\n",
    "\n",
    "# Import TradingEngine và components\n",
    "from src.core.trading_engine import TradingEngine\n",
    "from src.strategies.sma_crossover import SMACrossoverStrategy\n",
    "from src.strategies.rsi_strategy import RSIStrategy\n",
    "from src.strategies.macd_strategy import MACDStrategy\n",
    "from src.utils.config_manager import ConfigManager\n",
    "from src.data.data_manager import DataManager\n",
    "\n",
    "# Import optimization components\n",
    "from src.optimization.optimizer import StrategyOptimizer\n",
    "from src.optimization.parameter_grid import ParameterGrid\n",
    "\n",
    "# Import optimization visualization\n",
    "from optimization_visualization import (\n",
    "    plot_optimization_results, \n",
    "    plot_parameter_heatmap, \n",
    "    plot_optimization_progress,\n",
    "    create_optimization_report\n",
    ")\n",
    "\n",
    "# Import visualization\n",
    "import plotly.graph_objects as go\n",
    "from plotly.subplots import make_subplots\n",
    "import matplotlib.pyplot as plt\n",
    "import seaborn as sns\n",
    "\n",
    "print(\"Import thành công!\")"
   ]
  },
  {
   "cell_type": "code",
   "execution_count": 2,
   "id": "75e3eb6d",
   "metadata": {},
   "outputs": [
    {
     "name": "stderr",
     "output_type": "stream",
     "text": [
      "\u001b[32m2025-08-02 15:11:57.333\u001b[0m | \u001b[1mINFO    \u001b[0m | \u001b[36msrc.utils.config_manager\u001b[0m:\u001b[36m__init__\u001b[0m:\u001b[36m31\u001b[0m - \u001b[1mConfiguration loaded from ../../config/config.yaml\u001b[0m\n",
      "\u001b[32m2025-08-02 15:11:57.334\u001b[0m | \u001b[1mINFO    \u001b[0m | \u001b[36msrc.risk.risk_manager\u001b[0m:\u001b[36m__init__\u001b[0m:\u001b[36m49\u001b[0m - \u001b[1mRisk manager initialized\u001b[0m\n",
      "\u001b[32m2025-08-02 15:11:57.334\u001b[0m | \u001b[1mINFO    \u001b[0m | \u001b[36msrc.core.trading_engine\u001b[0m:\u001b[36m__init__\u001b[0m:\u001b[36m77\u001b[0m - \u001b[1mTrading engine initialized with $100,000.00 initial capital\u001b[0m\n"
     ]
    },
    {
     "name": "stdout",
     "output_type": "stream",
     "text": [
      "TradingEngine đã được khởi tạo với vốn ban đầu: $100,000.00\n",
      "Config loaded: ['Bitstamp:BTCUSD']\n",
      "Config loaded: tradingview\n"
     ]
    }
   ],
   "source": [
    "# Cell 2: Khởi tạo TradingEngine\n",
    "config_path = \"../../config/config.yaml\"\n",
    "engine = TradingEngine(config_path)\n",
    "\n",
    "print(f\"TradingEngine đã được khởi tạo với vốn ban đầu: ${engine.cash:,.2f}\")\n",
    "print(f\"Config loaded: {engine.config.get('trading.symbols')}\")\n",
    "print(f\"Config loaded: {engine.config.get('data.source')}\")"
   ]
  },
  {
   "cell_type": "code",
   "execution_count": 3,
   "id": "b92987be",
   "metadata": {},
   "outputs": [
    {
     "name": "stderr",
     "output_type": "stream",
     "text": [
      "\u001b[32m2025-08-02 15:12:00.856\u001b[0m | \u001b[1mINFO    \u001b[0m | \u001b[36msrc.data.data_manager\u001b[0m:\u001b[36mget_historical_data\u001b[0m:\u001b[36m64\u001b[0m - \u001b[1mFetching historical OHLCV data for ['Bitstamp:BTCUSD'] from 2023-01-01 to 2025-07-31\u001b[0m\n",
      "\u001b[32m2025-08-02 15:12:01.223\u001b[0m | \u001b[1mINFO    \u001b[0m | \u001b[36msrc.data.data_manager\u001b[0m:\u001b[36m_fetch_tradingview_ohlcv_data\u001b[0m:\u001b[36m159\u001b[0m - \u001b[1mSuccessfully fetched OHLCV data for 1 symbols\u001b[0m\n",
      "\u001b[32m2025-08-02 15:12:01.226\u001b[0m | \u001b[1mINFO    \u001b[0m | \u001b[36msrc.data.data_manager\u001b[0m:\u001b[36mget_historical_data\u001b[0m:\u001b[36m97\u001b[0m - \u001b[1mOHLCV data cached successfully\u001b[0m\n"
     ]
    },
    {
     "name": "stdout",
     "output_type": "stream",
     "text": [
      "Lấy data cho symbols: ['Bitstamp:BTCUSD']\n",
      "Data shape: (100, 5)\n",
      "Data columns: [('Bitstamp:BTCUSD', 'open'), ('Bitstamp:BTCUSD', 'high'), ('Bitstamp:BTCUSD', 'low'), ('Bitstamp:BTCUSD', 'close'), ('Bitstamp:BTCUSD', 'volume')]\n",
      "Date range: 2025-07-17 03:00:00         đến 2025-08-02 15:00:00             interval: 4h\n"
     ]
    }
   ],
   "source": [
    "# Cell 3: Chuẩn bị data\n",
    "# Sử dụng data có sẵn hoặc lấy từ DataManager\n",
    "symbols = engine.config.get(\"trading.symbols\", [\"AAPL\"])\n",
    "start_date = engine.config.get(\"data.start_date\", \"2023-01-01\")\n",
    "end_date = engine.config.get(\"data.end_date\", \"2023-12-31\")\n",
    "\n",
    "\n",
    "# Lấy data từ DataManager\n",
    "data_manager = DataManager(engine.config)\n",
    "historical_data = data_manager.get_historical_data(\n",
    "    symbols=symbols,\n",
    "    start_date=start_date,\n",
    "    end_date=end_date,\n",
    "    interval=engine.config.get(\"data.interval\", \"1d\"),\n",
    "    n_bars=engine.config.get(\"data.n_bars\", 1000)\n",
    ")\n",
    "\n",
    "print(f\"Lấy data cho symbols: {symbols}\")\n",
    "# print(f\"Period: {start_date} đến {end_date}\")\n",
    "print(f\"Data shape: {historical_data.shape}\")\n",
    "print(f\"Data columns: {historical_data.columns.tolist()}\")\n",
    "print(\n",
    "    f\"Date range: {historical_data.index.min()} \\\n",
    "        đến {historical_data.index.max()} \\\n",
    "            interval: {engine.config.get('data.interval', '1d')}\"\n",
    ")"
   ]
  },
  {
   "cell_type": "code",
   "execution_count": 4,
   "id": "576a4205",
   "metadata": {},
   "outputs": [
    {
     "name": "stderr",
     "output_type": "stream",
     "text": [
      "\u001b[32m2025-08-02 15:12:05.418\u001b[0m | \u001b[1mINFO    \u001b[0m | \u001b[36msrc.risk.risk_manager\u001b[0m:\u001b[36m__init__\u001b[0m:\u001b[36m49\u001b[0m - \u001b[1mRisk manager initialized\u001b[0m\n",
      "\u001b[32m2025-08-02 15:12:05.419\u001b[0m | \u001b[1mINFO    \u001b[0m | \u001b[36msrc.backtesting.backtest_engine\u001b[0m:\u001b[36m__init__\u001b[0m:\u001b[36m38\u001b[0m - \u001b[1mBacktest engine initialized\u001b[0m\n",
      "\u001b[32m2025-08-02 15:12:05.419\u001b[0m | \u001b[1mINFO    \u001b[0m | \u001b[36msrc.optimization.optimizer\u001b[0m:\u001b[36m__init__\u001b[0m:\u001b[36m42\u001b[0m - \u001b[1mStrategy optimizer initialized\u001b[0m\n"
     ]
    },
    {
     "name": "stdout",
     "output_type": "stream",
     "text": [
      "Strategy Optimizer đã được khởi tạo\n",
      "Available strategy types for optimization:\n",
      "  - sma_crossover\n",
      "  - rsi\n",
      "  - macd\n",
      "  - bollinger_bands\n"
     ]
    }
   ],
   "source": [
    "# Cell 4: Khởi tạo Strategy Optimizer\n",
    "optimizer = StrategyOptimizer(engine.config)\n",
    "parameter_grid = ParameterGrid()\n",
    "\n",
    "print(\"Strategy Optimizer đã được khởi tạo\")\n",
    "print(\"Available strategy types for optimization:\")\n",
    "for strategy_type in parameter_grid.grids.keys():\n",
    "    print(f\"  - {strategy_type}\")"
   ]
  },
  {
   "cell_type": "code",
   "execution_count": 5,
   "id": "7210fa69",
   "metadata": {},
   "outputs": [
    {
     "name": "stderr",
     "output_type": "stream",
     "text": [
      "\u001b[32m2025-08-02 15:12:33.760\u001b[0m | \u001b[1mINFO    \u001b[0m | \u001b[36msrc.optimization.optimizer\u001b[0m:\u001b[36moptimize_strategy\u001b[0m:\u001b[36m65\u001b[0m - \u001b[1mStarting optimization for sma_crossover\u001b[0m\n",
      "\u001b[32m2025-08-02 15:12:33.762\u001b[0m | \u001b[1mINFO    \u001b[0m | \u001b[36msrc.optimization.parameter_grid\u001b[0m:\u001b[36mget_parameter_combinations\u001b[0m:\u001b[36m67\u001b[0m - \u001b[1mGenerated 48 parameter combinations for sma_crossover\u001b[0m\n"
     ]
    },
    {
     "name": "stdout",
     "output_type": "stream",
     "text": [
      "=== BẮT ĐẦU OPTIMIZE PARAMETERS ===\n",
      "\n",
      "--- Optimizing SMA_CROSSOVER ---\n"
     ]
    },
    {
     "name": "stderr",
     "output_type": "stream",
     "text": [
      "2025-08-02 15:12:38.058 | INFO     | src.strategies.base_strategy:__init__:34 - Initialized strategy: sma_crossover\n",
      "2025-08-02 15:12:38.058 | INFO     | src.strategies.base_strategy:__init__:34 - Initialized strategy: sma_crossover\n",
      "2025-08-02 15:12:38.058 | INFO     | src.strategies.base_strategy:__init__:34 - Initialized strategy: sma_crossover\n",
      "2025-08-02 15:12:38.058 | INFO     | src.strategies.base_strategy:__init__:34 - Initialized strategy: sma_crossover\n",
      "2025-08-02 15:12:38.058 | INFO     | src.strategies.sma_crossover:__init__:48 - SMA Crossover Strategy initialized: 5/60\n",
      "2025-08-02 15:12:38.058 | INFO     | src.strategies.sma_crossover:__init__:48 - SMA Crossover Strategy initialized: 5/50\n",
      "2025-08-02 15:12:38.058 | INFO     | src.strategies.sma_crossover:__init__:48 - SMA Crossover Strategy initialized: 5/40\n",
      "2025-08-02 15:12:38.058 | INFO     | src.strategies.sma_crossover:__init__:48 - SMA Crossover Strategy initialized: 5/30\n",
      "2025-08-02 15:12:38.058 | INFO     | src.backtesting.backtest_engine:run_backtest:53 - Starting backtest from 2023-01-01 to 2023-06-30\n",
      "2025-08-02 15:12:38.058 | INFO     | src.backtesting.backtest_engine:run_backtest:53 - Starting backtest from 2023-01-01 to 2023-06-30\n",
      "2025-08-02 15:12:38.058 | INFO     | src.backtesting.backtest_engine:run_backtest:53 - Starting backtest from 2023-01-01 to 2023-06-30\n",
      "2025-08-02 15:12:38.058 | INFO     | src.backtesting.backtest_engine:run_backtest:53 - Starting backtest from 2023-01-01 to 2023-06-30\n",
      "2025-08-02 15:12:38.058 | INFO     | src.data.data_manager:get_historical_data_standardized:589 - Fetching standardized OHLCV data for ['Bitstamp:BTCUSD'] from 2023-01-01 to 2023-06-30\n",
      "2025-08-02 15:12:38.058 | INFO     | src.data.data_manager:get_historical_data_standardized:589 - Fetching standardized OHLCV data for ['Bitstamp:BTCUSD'] from 2023-01-01 to 2023-06-30\n",
      "2025-08-02 15:12:38.058 | INFO     | src.data.data_manager:get_historical_data_standardized:589 - Fetching standardized OHLCV data for ['Bitstamp:BTCUSD'] from 2023-01-01 to 2023-06-30\n",
      "2025-08-02 15:12:38.058 | INFO     | src.data.data_manager:get_historical_data_standardized:589 - Fetching standardized OHLCV data for ['Bitstamp:BTCUSD'] from 2023-01-01 to 2023-06-30\n",
      "2025-08-02 15:12:38.058 | INFO     | src.data.data_manager:get_historical_data:64 - Fetching historical OHLCV data for ['Bitstamp:BTCUSD'] from 2023-01-01 to 2023-06-30\n",
      "2025-08-02 15:12:38.058 | INFO     | src.data.data_manager:get_historical_data:64 - Fetching historical OHLCV data for ['Bitstamp:BTCUSD'] from 2023-01-01 to 2023-06-30\n",
      "2025-08-02 15:12:38.058 | INFO     | src.data.data_manager:get_historical_data:64 - Fetching historical OHLCV data for ['Bitstamp:BTCUSD'] from 2023-01-01 to 2023-06-30\n",
      "2025-08-02 15:12:38.058 | INFO     | src.data.data_manager:get_historical_data:64 - Fetching historical OHLCV data for ['Bitstamp:BTCUSD'] from 2023-01-01 to 2023-06-30\n",
      "2025-08-02 15:12:38.439 | INFO     | src.data.data_manager:_fetch_tradingview_ohlcv_data:159 - Successfully fetched OHLCV data for 1 symbols\n",
      "2025-08-02 15:12:38.440 | INFO     | src.data.data_manager:get_historical_data:97 - OHLCV data cached successfully\n",
      "2025-08-02 15:12:38.443 | INFO     | src.data.data_manager:ensure_ohlcv_format:500 - Data formatted for Bitstamp:BTCUSD: (100, 5)\n",
      "2025-08-02 15:12:38.443 | INFO     | src.data.data_manager:get_historical_data_standardized:622 - Successfully standardized OHLCV data for 1 symbols\n",
      "2025-08-02 15:12:38.443 | INFO     | src.backtesting.backtest_engine:run_backtest:65 - Running backtest for strategy: sma_crossover_test\n",
      "2025-08-02 15:12:38.443 | INFO     | src.strategies.base_strategy:reset:99 - Reset strategy: sma_crossover\n",
      "2025-08-02 15:12:38.444 | INFO     | src.risk.risk_manager:__init__:49 - Risk manager initialized\n",
      "2025-08-02 15:12:38.469 | INFO     | src.strategies.sma_crossover:_generate_signal_for_symbol:109 - Golden cross detected for Bitstamp:BTCUSD: 108681.60 > 101020.10\n",
      "2025-08-02 15:12:38.469 | DEBUG    | src.backtesting.backtest_engine:_execute_trades:216 - BUY 0.19 Bitstamp:BTCUSD @ $107799.00\n",
      "2025-08-02 15:12:38.474 | INFO     | src.strategies.sma_crossover:_generate_signal_for_symbol:113 - Death cross detected for Bitstamp:BTCUSD: 104673.60 < 105388.70\n",
      "2025-08-02 15:12:38.474 | DEBUG    | src.backtesting.backtest_engine:_execute_trades:245 - SELL 0.19 Bitstamp:BTCUSD @ $101559.00\n",
      "2025-08-02 15:12:38.475 | INFO     | src.strategies.sma_crossover:_generate_signal_for_symbol:109 - Golden cross detected for Bitstamp:BTCUSD: 107280.60 > 106194.00\n",
      "2025-08-02 15:12:38.475 | DEBUG    | src.backtesting.backtest_engine:_execute_trades:216 - BUY 0.18 Bitstamp:BTCUSD @ $110292.00\n",
      "2025-08-02 15:12:38.477 | INFO     | src.strategies.sma_crossover:_generate_signal_for_symbol:113 - Death cross detected for Bitstamp:BTCUSD: 106321.60 < 106655.57\n",
      "2025-08-02 15:12:38.477 | DEBUG    | src.backtesting.backtest_engine:_execute_trades:245 - SELL 0.18 Bitstamp:BTCUSD @ $105617.00\n",
      "2025-08-02 15:12:38.480 | INFO     | src.strategies.sma_crossover:_generate_signal_for_symbol:109 - Golden cross detected for Bitstamp:BTCUSD: 106623.40 > 105541.57\n",
      "2025-08-02 15:12:38.480 | DEBUG    | src.backtesting.backtest_engine:_execute_trades:216 - BUY 0.18 Bitstamp:BTCUSD @ $107100.00\n",
      "2025-08-02 15:12:38.490 | INFO     | src.strategies.sma_crossover:_generate_signal_for_symbol:113 - Death cross detected for Bitstamp:BTCUSD: 115735.00 < 115985.73\n",
      "2025-08-02 15:12:38.490 | DEBUG    | src.backtesting.backtest_engine:_execute_trades:245 - SELL 0.18 Bitstamp:BTCUSD @ $113922.00\n",
      "2025-08-02 15:12:38.495 | INFO     | src.strategies.base_strategy:__init__:34 - Initialized strategy: sma_crossover\n",
      "2025-08-02 15:12:38.495 | INFO     | src.strategies.sma_crossover:__init__:48 - SMA Crossover Strategy initialized: 5/70\n",
      "2025-08-02 15:12:38.495 | INFO     | src.backtesting.backtest_engine:run_backtest:53 - Starting backtest from 2023-01-01 to 2023-06-30\n",
      "2025-08-02 15:12:38.495 | INFO     | src.data.data_manager:get_historical_data_standardized:589 - Fetching standardized OHLCV data for ['Bitstamp:BTCUSD'] from 2023-01-01 to 2023-06-30\n",
      "2025-08-02 15:12:38.495 | INFO     | src.data.data_manager:get_historical_data:64 - Fetching historical OHLCV data for ['Bitstamp:BTCUSD'] from 2023-01-01 to 2023-06-30\n",
      "2025-08-02 15:12:38.852 | INFO     | src.data.data_manager:_fetch_tradingview_ohlcv_data:159 - Successfully fetched OHLCV data for 1 symbols\n",
      "2025-08-02 15:12:38.853 | INFO     | src.data.data_manager:get_historical_data:97 - OHLCV data cached successfully\n",
      "2025-08-02 15:12:38.855 | INFO     | src.data.data_manager:ensure_ohlcv_format:500 - Data formatted for Bitstamp:BTCUSD: (100, 5)\n",
      "2025-08-02 15:12:38.855 | INFO     | src.data.data_manager:get_historical_data_standardized:622 - Successfully standardized OHLCV data for 1 symbols\n",
      "2025-08-02 15:12:38.855 | INFO     | src.backtesting.backtest_engine:run_backtest:65 - Running backtest for strategy: sma_crossover_test\n",
      "2025-08-02 15:12:38.855 | INFO     | src.strategies.base_strategy:reset:99 - Reset strategy: sma_crossover\n",
      "2025-08-02 15:12:38.855 | INFO     | src.risk.risk_manager:__init__:49 - Risk manager initialized\n",
      "2025-08-02 15:12:38.866 | INFO     | src.strategies.sma_crossover:_generate_signal_for_symbol:109 - Golden cross detected for Bitstamp:BTCUSD: 105148.80 > 102431.30\n",
      "2025-08-02 15:12:38.866 | DEBUG    | src.backtesting.backtest_engine:_execute_trades:216 - BUY 0.19 Bitstamp:BTCUSD @ $105454.00\n",
      "2025-08-02 15:12:38.872 | INFO     | src.strategies.sma_crossover:_generate_signal_for_symbol:113 - Death cross detected for Bitstamp:BTCUSD: 105951.80 < 105986.18\n",
      "2025-08-02 15:12:38.872 | DEBUG    | src.backtesting.backtest_engine:_execute_trades:245 - SELL 0.19 Bitstamp:BTCUSD @ $106829.00\n",
      "2025-08-02 15:12:38.876 | INFO     | src.strategies.sma_crossover:_generate_signal_for_symbol:109 - Golden cross detected for Bitstamp:BTCUSD: 106623.40 > 106265.10\n",
      "2025-08-02 15:12:38.876 | DEBUG    | src.backtesting.backtest_engine:_execute_trades:216 - BUY 0.19 Bitstamp:BTCUSD @ $107100.00\n",
      "2025-08-02 15:12:38.891 | INFO     | src.strategies.base_strategy:__init__:34 - Initialized strategy: sma_crossover\n",
      "2025-08-02 15:12:38.891 | INFO     | src.strategies.sma_crossover:__init__:48 - SMA Crossover Strategy initialized: 5/80\n",
      "2025-08-02 15:12:38.891 | INFO     | src.backtesting.backtest_engine:run_backtest:53 - Starting backtest from 2023-01-01 to 2023-06-30\n",
      "2025-08-02 15:12:38.891 | INFO     | src.data.data_manager:get_historical_data_standardized:589 - Fetching standardized OHLCV data for ['Bitstamp:BTCUSD'] from 2023-01-01 to 2023-06-30\n",
      "2025-08-02 15:12:38.891 | INFO     | src.data.data_manager:get_historical_data:64 - Fetching historical OHLCV data for ['Bitstamp:BTCUSD'] from 2023-01-01 to 2023-06-30\n",
      "2025-08-02 15:12:39.356 | INFO     | src.data.data_manager:_fetch_tradingview_ohlcv_data:159 - Successfully fetched OHLCV data for 1 symbols\n",
      "2025-08-02 15:12:39.357 | INFO     | src.data.data_manager:get_historical_data:97 - OHLCV data cached successfully\n",
      "2025-08-02 15:12:39.358 | INFO     | src.data.data_manager:ensure_ohlcv_format:500 - Data formatted for Bitstamp:BTCUSD: (100, 5)\n",
      "2025-08-02 15:12:39.358 | INFO     | src.data.data_manager:get_historical_data_standardized:622 - Successfully standardized OHLCV data for 1 symbols\n",
      "2025-08-02 15:12:39.358 | INFO     | src.backtesting.backtest_engine:run_backtest:65 - Running backtest for strategy: sma_crossover_test\n",
      "2025-08-02 15:12:39.358 | INFO     | src.strategies.base_strategy:reset:99 - Reset strategy: sma_crossover\n",
      "2025-08-02 15:12:39.359 | INFO     | src.risk.risk_manager:__init__:49 - Risk manager initialized\n",
      "2025-08-02 15:12:39.371 | INFO     | src.strategies.sma_crossover:_generate_signal_for_symbol:109 - Golden cross detected for Bitstamp:BTCUSD: 103613.00 > 103598.82\n",
      "2025-08-02 15:12:39.372 | DEBUG    | src.backtesting.backtest_engine:_execute_trades:216 - BUY 0.19 Bitstamp:BTCUSD @ $106131.00\n",
      "2025-08-02 15:12:39.388 | INFO     | src.strategies.base_strategy:__init__:34 - Initialized strategy: sma_crossover\n",
      "2025-08-02 15:12:39.388 | INFO     | src.strategies.sma_crossover:__init__:48 - SMA Crossover Strategy initialized: 5/90\n",
      "2025-08-02 15:12:39.388 | INFO     | src.backtesting.backtest_engine:run_backtest:53 - Starting backtest from 2023-01-01 to 2023-06-30\n",
      "2025-08-02 15:12:39.388 | INFO     | src.data.data_manager:get_historical_data_standardized:589 - Fetching standardized OHLCV data for ['Bitstamp:BTCUSD'] from 2023-01-01 to 2023-06-30\n",
      "2025-08-02 15:12:39.388 | INFO     | src.data.data_manager:get_historical_data:64 - Fetching historical OHLCV data for ['Bitstamp:BTCUSD'] from 2023-01-01 to 2023-06-30\n",
      "2025-08-02 15:12:39.877 | INFO     | src.data.data_manager:_fetch_tradingview_ohlcv_data:159 - Successfully fetched OHLCV data for 1 symbols\n",
      "2025-08-02 15:12:39.877 | INFO     | src.data.data_manager:get_historical_data:97 - OHLCV data cached successfully\n",
      "2025-08-02 15:12:39.889 | INFO     | src.data.data_manager:ensure_ohlcv_format:500 - Data formatted for Bitstamp:BTCUSD: (100, 5)\n",
      "2025-08-02 15:12:39.890 | INFO     | src.data.data_manager:get_historical_data_standardized:622 - Successfully standardized OHLCV data for 1 symbols\n",
      "2025-08-02 15:12:39.890 | INFO     | src.backtesting.backtest_engine:run_backtest:65 - Running backtest for strategy: sma_crossover_test\n",
      "2025-08-02 15:12:39.891 | INFO     | src.strategies.base_strategy:reset:99 - Reset strategy: sma_crossover\n",
      "2025-08-02 15:12:39.891 | INFO     | src.risk.risk_manager:__init__:49 - Risk manager initialized\n",
      "2025-08-02 15:12:39.908 | INFO     | src.strategies.sma_crossover:_generate_signal_for_symbol:109 - Golden cross detected for Bitstamp:BTCUSD: 108225.20 > 103209.72\n",
      "2025-08-02 15:12:39.908 | DEBUG    | src.backtesting.backtest_engine:_execute_trades:216 - BUY 0.19 Bitstamp:BTCUSD @ $106118.00\n",
      "2025-08-02 15:12:39.911 | INFO     | src.strategies.sma_crossover:_generate_signal_for_symbol:113 - Death cross detected for Bitstamp:BTCUSD: 103929.80 < 104758.42\n",
      "2025-08-02 15:12:39.911 | DEBUG    | src.backtesting.backtest_engine:_execute_trades:245 - SELL 0.19 Bitstamp:BTCUSD @ $102139.00\n",
      "2025-08-02 15:12:39.914 | INFO     | src.strategies.sma_crossover:_generate_signal_for_symbol:109 - Golden cross detected for Bitstamp:BTCUSD: 106623.40 > 105799.34\n",
      "2025-08-02 15:12:39.914 | DEBUG    | src.backtesting.backtest_engine:_execute_trades:216 - BUY 0.19 Bitstamp:BTCUSD @ $107100.00\n",
      "2025-08-02 15:12:39.930 | INFO     | src.strategies.base_strategy:__init__:34 - Initialized strategy: sma_crossover\n",
      "2025-08-02 15:12:39.930 | INFO     | src.strategies.sma_crossover:__init__:48 - SMA Crossover Strategy initialized: 5/100\n",
      "2025-08-02 15:12:39.931 | INFO     | src.backtesting.backtest_engine:run_backtest:53 - Starting backtest from 2023-01-01 to 2023-06-30\n",
      "2025-08-02 15:12:39.931 | INFO     | src.data.data_manager:get_historical_data_standardized:589 - Fetching standardized OHLCV data for ['Bitstamp:BTCUSD'] from 2023-01-01 to 2023-06-30\n",
      "2025-08-02 15:12:39.931 | INFO     | src.data.data_manager:get_historical_data:64 - Fetching historical OHLCV data for ['Bitstamp:BTCUSD'] from 2023-01-01 to 2023-06-30\n",
      "ERROR:TradingviewData.main:Connection to remote host was lost.\n",
      "ERROR:TradingviewData.main:no data, please check the exchange and symbol\n",
      "2025-08-02 15:12:40.444 | ERROR    | src.data.data_manager:_fetch_tradingview_ohlcv_data:166 - Error fetching OHLCV data from TradingView: 'NoneType' object has no attribute 'reset_index'\n",
      "2025-08-02 15:12:40.444 | ERROR    | src.optimization.optimizer:_test_parameter_combination:192 - Error testing parameters {'short_window': 5, 'long_window': 70}: 'NoneType' object has no attribute 'reset_index'\n",
      "2025-08-02 15:12:40.445 | INFO     | src.strategies.base_strategy:__init__:34 - Initialized strategy: sma_crossover\n",
      "2025-08-02 15:12:40.445 | INFO     | src.strategies.sma_crossover:__init__:48 - SMA Crossover Strategy initialized: 10/30\n",
      "2025-08-02 15:12:40.445 | INFO     | src.backtesting.backtest_engine:run_backtest:53 - Starting backtest from 2023-01-01 to 2023-06-30\n",
      "2025-08-02 15:12:40.445 | INFO     | src.data.data_manager:get_historical_data_standardized:589 - Fetching standardized OHLCV data for ['Bitstamp:BTCUSD'] from 2023-01-01 to 2023-06-30\n",
      "2025-08-02 15:12:40.445 | INFO     | src.data.data_manager:get_historical_data:64 - Fetching historical OHLCV data for ['Bitstamp:BTCUSD'] from 2023-01-01 to 2023-06-30\n",
      "2025-08-02 15:12:40.846 | INFO     | src.data.data_manager:_fetch_tradingview_ohlcv_data:159 - Successfully fetched OHLCV data for 1 symbols\n",
      "2025-08-02 15:12:40.847 | INFO     | src.data.data_manager:get_historical_data:97 - OHLCV data cached successfully\n",
      "2025-08-02 15:12:40.849 | INFO     | src.data.data_manager:ensure_ohlcv_format:500 - Data formatted for Bitstamp:BTCUSD: (100, 5)\n",
      "2025-08-02 15:12:40.849 | INFO     | src.data.data_manager:get_historical_data_standardized:622 - Successfully standardized OHLCV data for 1 symbols\n",
      "2025-08-02 15:12:40.849 | INFO     | src.backtesting.backtest_engine:run_backtest:65 - Running backtest for strategy: sma_crossover_test\n",
      "2025-08-02 15:12:40.849 | INFO     | src.strategies.base_strategy:reset:99 - Reset strategy: sma_crossover\n",
      "2025-08-02 15:12:40.849 | INFO     | src.risk.risk_manager:__init__:49 - Risk manager initialized\n",
      "2025-08-02 15:12:40.869 | INFO     | src.strategies.sma_crossover:_generate_signal_for_symbol:109 - Golden cross detected for Bitstamp:BTCUSD: 116299.20 > 105044.57\n",
      "2025-08-02 15:12:40.869 | DEBUG    | src.backtesting.backtest_engine:_execute_trades:216 - BUY 0.17 Bitstamp:BTCUSD @ $119135.00\n",
      "2025-08-02 15:12:40.881 | INFO     | src.strategies.base_strategy:__init__:34 - Initialized strategy: sma_crossover\n",
      "2025-08-02 15:12:40.881 | INFO     | src.strategies.sma_crossover:__init__:48 - SMA Crossover Strategy initialized: 10/40\n",
      "2025-08-02 15:12:40.881 | INFO     | src.backtesting.backtest_engine:run_backtest:53 - Starting backtest from 2023-01-01 to 2023-06-30\n",
      "2025-08-02 15:12:40.881 | INFO     | src.data.data_manager:get_historical_data_standardized:589 - Fetching standardized OHLCV data for ['Bitstamp:BTCUSD'] from 2023-01-01 to 2023-06-30\n",
      "2025-08-02 15:12:40.881 | INFO     | src.data.data_manager:get_historical_data:64 - Fetching historical OHLCV data for ['Bitstamp:BTCUSD'] from 2023-01-01 to 2023-06-30\n",
      "2025-08-02 15:12:41.357 | INFO     | src.data.data_manager:_fetch_tradingview_ohlcv_data:159 - Successfully fetched OHLCV data for 1 symbols\n",
      "2025-08-02 15:12:41.358 | INFO     | src.data.data_manager:get_historical_data:97 - OHLCV data cached successfully\n",
      "2025-08-02 15:12:41.360 | INFO     | src.data.data_manager:ensure_ohlcv_format:500 - Data formatted for Bitstamp:BTCUSD: (100, 5)\n",
      "2025-08-02 15:12:41.361 | INFO     | src.data.data_manager:get_historical_data_standardized:622 - Successfully standardized OHLCV data for 1 symbols\n",
      "2025-08-02 15:12:41.361 | INFO     | src.backtesting.backtest_engine:run_backtest:65 - Running backtest for strategy: sma_crossover_test\n",
      "2025-08-02 15:12:41.361 | INFO     | src.strategies.base_strategy:reset:99 - Reset strategy: sma_crossover\n",
      "2025-08-02 15:12:41.361 | INFO     | src.risk.risk_manager:__init__:49 - Risk manager initialized\n",
      "2025-08-02 15:12:41.389 | INFO     | src.strategies.sma_crossover:_generate_signal_for_symbol:109 - Golden cross detected for Bitstamp:BTCUSD: 118303.20 > 106541.61\n",
      "2025-08-02 15:12:41.390 | DEBUG    | src.backtesting.backtest_engine:_execute_trades:216 - BUY 0.17 Bitstamp:BTCUSD @ $118813.00\n",
      "2025-08-02 15:12:41.399 | INFO     | src.strategies.base_strategy:__init__:34 - Initialized strategy: sma_crossover\n",
      "2025-08-02 15:12:41.399 | INFO     | src.strategies.sma_crossover:__init__:48 - SMA Crossover Strategy initialized: 10/50\n",
      "2025-08-02 15:12:41.399 | INFO     | src.backtesting.backtest_engine:run_backtest:53 - Starting backtest from 2023-01-01 to 2023-06-30\n",
      "2025-08-02 15:12:41.399 | INFO     | src.data.data_manager:get_historical_data_standardized:589 - Fetching standardized OHLCV data for ['Bitstamp:BTCUSD'] from 2023-01-01 to 2023-06-30\n",
      "2025-08-02 15:12:41.399 | INFO     | src.data.data_manager:get_historical_data:64 - Fetching historical OHLCV data for ['Bitstamp:BTCUSD'] from 2023-01-01 to 2023-06-30\n",
      "2025-08-02 15:12:41.853 | INFO     | src.data.data_manager:_fetch_tradingview_ohlcv_data:159 - Successfully fetched OHLCV data for 1 symbols\n",
      "2025-08-02 15:12:41.854 | INFO     | src.data.data_manager:get_historical_data:97 - OHLCV data cached successfully\n",
      "2025-08-02 15:12:41.856 | INFO     | src.data.data_manager:ensure_ohlcv_format:500 - Data formatted for Bitstamp:BTCUSD: (100, 5)\n",
      "2025-08-02 15:12:41.856 | INFO     | src.data.data_manager:get_historical_data_standardized:622 - Successfully standardized OHLCV data for 1 symbols\n",
      "2025-08-02 15:12:41.856 | INFO     | src.backtesting.backtest_engine:run_backtest:65 - Running backtest for strategy: sma_crossover_test\n",
      "2025-08-02 15:12:41.856 | INFO     | src.strategies.base_strategy:reset:99 - Reset strategy: sma_crossover\n",
      "2025-08-02 15:12:41.856 | INFO     | src.risk.risk_manager:__init__:49 - Risk manager initialized\n",
      "2025-08-02 15:12:41.888 | INFO     | src.strategies.sma_crossover:_generate_signal_for_symbol:109 - Golden cross detected for Bitstamp:BTCUSD: 115735.00 > 107589.02\n",
      "2025-08-02 15:12:41.888 | DEBUG    | src.backtesting.backtest_engine:_execute_trades:216 - BUY 0.18 Bitstamp:BTCUSD @ $113922.00\n",
      "2025-08-02 15:12:41.891 | INFO     | src.strategies.base_strategy:__init__:34 - Initialized strategy: sma_crossover\n",
      "2025-08-02 15:12:41.891 | INFO     | src.strategies.sma_crossover:__init__:48 - SMA Crossover Strategy initialized: 10/60\n",
      "2025-08-02 15:12:41.891 | INFO     | src.backtesting.backtest_engine:run_backtest:53 - Starting backtest from 2023-01-01 to 2023-06-30\n",
      "2025-08-02 15:12:41.891 | INFO     | src.data.data_manager:get_historical_data_standardized:589 - Fetching standardized OHLCV data for ['Bitstamp:BTCUSD'] from 2023-01-01 to 2023-06-30\n",
      "2025-08-02 15:12:41.891 | INFO     | src.data.data_manager:get_historical_data:64 - Fetching historical OHLCV data for ['Bitstamp:BTCUSD'] from 2023-01-01 to 2023-06-30\n",
      "2025-08-02 15:12:42.358 | INFO     | src.data.data_manager:_fetch_tradingview_ohlcv_data:159 - Successfully fetched OHLCV data for 1 symbols\n",
      "2025-08-02 15:12:42.359 | INFO     | src.data.data_manager:get_historical_data:97 - OHLCV data cached successfully\n",
      "2025-08-02 15:12:42.361 | INFO     | src.data.data_manager:ensure_ohlcv_format:500 - Data formatted for Bitstamp:BTCUSD: (100, 5)\n",
      "2025-08-02 15:12:42.362 | INFO     | src.data.data_manager:get_historical_data_standardized:622 - Successfully standardized OHLCV data for 1 symbols\n",
      "2025-08-02 15:12:42.362 | INFO     | src.backtesting.backtest_engine:run_backtest:65 - Running backtest for strategy: sma_crossover_test\n",
      "2025-08-02 15:12:42.362 | INFO     | src.strategies.base_strategy:reset:99 - Reset strategy: sma_crossover\n",
      "2025-08-02 15:12:42.362 | INFO     | src.risk.risk_manager:__init__:49 - Risk manager initialized\n",
      "2025-08-02 15:12:42.374 | INFO     | src.strategies.sma_crossover:_generate_signal_for_symbol:109 - Golden cross detected for Bitstamp:BTCUSD: 106600.20 > 101020.10\n",
      "2025-08-02 15:12:42.374 | DEBUG    | src.backtesting.backtest_engine:_execute_trades:216 - BUY 0.19 Bitstamp:BTCUSD @ $107799.00\n",
      "2025-08-02 15:12:42.382 | INFO     | src.risk.risk_manager:check_stop_loss:155 - Stop loss triggered for Bitstamp:BTCUSD: -5.79%\n",
      "2025-08-02 15:12:42.382 | INFO     | src.backtesting.backtest_engine:_execute_trades:276 - STOP LOSS: 0.19 Bitstamp:BTCUSD @ $101559.00\n",
      "2025-08-02 15:12:42.382 | INFO     | src.strategies.sma_crossover:_generate_signal_for_symbol:113 - Death cross detected for Bitstamp:BTCUSD: 104983.00 < 105633.33\n",
      "2025-08-02 15:12:42.388 | INFO     | src.strategies.sma_crossover:_generate_signal_for_symbol:109 - Golden cross detected for Bitstamp:BTCUSD: 106801.10 > 106655.57\n",
      "2025-08-02 15:12:42.389 | DEBUG    | src.backtesting.backtest_engine:_execute_trades:216 - BUY 0.19 Bitstamp:BTCUSD @ $105617.00\n",
      "2025-08-02 15:12:42.391 | INFO     | src.strategies.sma_crossover:_generate_signal_for_symbol:113 - Death cross detected for Bitstamp:BTCUSD: 106292.30 < 106618.00\n",
      "2025-08-02 15:12:42.391 | DEBUG    | src.backtesting.backtest_engine:_execute_trades:245 - SELL 0.19 Bitstamp:BTCUSD @ $104688.00\n",
      "2025-08-02 15:12:42.396 | INFO     | src.strategies.sma_crossover:_generate_signal_for_symbol:109 - Golden cross detected for Bitstamp:BTCUSD: 105918.20 > 105830.00\n",
      "2025-08-02 15:12:42.396 | DEBUG    | src.backtesting.backtest_engine:_execute_trades:216 - BUY 0.18 Bitstamp:BTCUSD @ $107179.00\n",
      "2025-08-02 15:12:42.413 | INFO     | src.strategies.base_strategy:__init__:34 - Initialized strategy: sma_crossover\n",
      "2025-08-02 15:12:42.413 | INFO     | src.strategies.sma_crossover:__init__:48 - SMA Crossover Strategy initialized: 10/70\n",
      "2025-08-02 15:12:42.413 | INFO     | src.backtesting.backtest_engine:run_backtest:53 - Starting backtest from 2023-01-01 to 2023-06-30\n",
      "2025-08-02 15:12:42.413 | INFO     | src.data.data_manager:get_historical_data_standardized:589 - Fetching standardized OHLCV data for ['Bitstamp:BTCUSD'] from 2023-01-01 to 2023-06-30\n",
      "2025-08-02 15:12:42.413 | INFO     | src.data.data_manager:get_historical_data:64 - Fetching historical OHLCV data for ['Bitstamp:BTCUSD'] from 2023-01-01 to 2023-06-30\n",
      "2025-08-02 15:12:42.851 | INFO     | src.data.data_manager:_fetch_tradingview_ohlcv_data:159 - Successfully fetched OHLCV data for 1 symbols\n",
      "2025-08-02 15:12:42.851 | INFO     | src.data.data_manager:get_historical_data:97 - OHLCV data cached successfully\n",
      "2025-08-02 15:12:42.853 | INFO     | src.data.data_manager:ensure_ohlcv_format:500 - Data formatted for Bitstamp:BTCUSD: (100, 5)\n",
      "2025-08-02 15:12:42.854 | INFO     | src.data.data_manager:get_historical_data_standardized:622 - Successfully standardized OHLCV data for 1 symbols\n",
      "2025-08-02 15:12:42.854 | INFO     | src.backtesting.backtest_engine:run_backtest:65 - Running backtest for strategy: sma_crossover_test\n",
      "2025-08-02 15:12:42.854 | INFO     | src.strategies.base_strategy:reset:99 - Reset strategy: sma_crossover\n",
      "2025-08-02 15:12:42.854 | INFO     | src.risk.risk_manager:__init__:49 - Risk manager initialized\n",
      "2025-08-02 15:12:42.866 | INFO     | src.strategies.sma_crossover:_generate_signal_for_symbol:109 - Golden cross detected for Bitstamp:BTCUSD: 106664.90 > 102431.30\n",
      "2025-08-02 15:12:42.866 | DEBUG    | src.backtesting.backtest_engine:_execute_trades:216 - BUY 0.19 Bitstamp:BTCUSD @ $105454.00\n",
      "2025-08-02 15:12:42.875 | INFO     | src.strategies.sma_crossover:_generate_signal_for_symbol:113 - Death cross detected for Bitstamp:BTCUSD: 105594.70 < 106044.18\n",
      "2025-08-02 15:12:42.875 | DEBUG    | src.backtesting.backtest_engine:_execute_trades:245 - SELL 0.19 Bitstamp:BTCUSD @ $103316.00\n",
      "2025-08-02 15:12:42.880 | INFO     | src.strategies.sma_crossover:_generate_signal_for_symbol:109 - Golden cross detected for Bitstamp:BTCUSD: 106275.20 > 106133.05\n",
      "2025-08-02 15:12:42.880 | DEBUG    | src.backtesting.backtest_engine:_execute_trades:216 - BUY 0.19 Bitstamp:BTCUSD @ $105709.00\n",
      "\u001b[32m2025-08-02 15:12:42.895\u001b[0m | \u001b[1mINFO    \u001b[0m | \u001b[36msrc.optimization.optimizer\u001b[0m:\u001b[36m_optimize_parallel\u001b[0m:\u001b[36m149\u001b[0m - \u001b[1mCompleted 10/48 combinations\u001b[0m\n",
      "2025-08-02 15:12:42.895 | INFO     | src.strategies.base_strategy:__init__:34 - Initialized strategy: sma_crossover\n",
      "2025-08-02 15:12:42.895 | INFO     | src.strategies.sma_crossover:__init__:48 - SMA Crossover Strategy initialized: 10/80\n",
      "2025-08-02 15:12:42.895 | INFO     | src.backtesting.backtest_engine:run_backtest:53 - Starting backtest from 2023-01-01 to 2023-06-30\n",
      "2025-08-02 15:12:42.895 | INFO     | src.data.data_manager:get_historical_data_standardized:589 - Fetching standardized OHLCV data for ['Bitstamp:BTCUSD'] from 2023-01-01 to 2023-06-30\n",
      "2025-08-02 15:12:42.895 | INFO     | src.data.data_manager:get_historical_data:64 - Fetching historical OHLCV data for ['Bitstamp:BTCUSD'] from 2023-01-01 to 2023-06-30\n",
      "ERROR:TradingviewData.main:Connection to remote host was lost.\n",
      "ERROR:TradingviewData.main:no data, please check the exchange and symbol\n",
      "2025-08-02 15:12:43.446 | ERROR    | src.data.data_manager:_fetch_tradingview_ohlcv_data:166 - Error fetching OHLCV data from TradingView: 'NoneType' object has no attribute 'reset_index'\n",
      "2025-08-02 15:12:43.447 | ERROR    | src.optimization.optimizer:_test_parameter_combination:192 - Error testing parameters {'short_window': 10, 'long_window': 50}: 'NoneType' object has no attribute 'reset_index'\n",
      "2025-08-02 15:12:43.447 | INFO     | src.strategies.base_strategy:__init__:34 - Initialized strategy: sma_crossover\n",
      "2025-08-02 15:12:43.447 | INFO     | src.strategies.sma_crossover:__init__:48 - SMA Crossover Strategy initialized: 10/90\n",
      "2025-08-02 15:12:43.447 | INFO     | src.backtesting.backtest_engine:run_backtest:53 - Starting backtest from 2023-01-01 to 2023-06-30\n",
      "2025-08-02 15:12:43.448 | INFO     | src.data.data_manager:get_historical_data_standardized:589 - Fetching standardized OHLCV data for ['Bitstamp:BTCUSD'] from 2023-01-01 to 2023-06-30\n",
      "2025-08-02 15:12:43.448 | INFO     | src.data.data_manager:get_historical_data:64 - Fetching historical OHLCV data for ['Bitstamp:BTCUSD'] from 2023-01-01 to 2023-06-30\n",
      "2025-08-02 15:12:43.856 | INFO     | src.data.data_manager:_fetch_tradingview_ohlcv_data:159 - Successfully fetched OHLCV data for 1 symbols\n",
      "2025-08-02 15:12:43.857 | INFO     | src.data.data_manager:get_historical_data:97 - OHLCV data cached successfully\n",
      "2025-08-02 15:12:43.859 | INFO     | src.data.data_manager:ensure_ohlcv_format:500 - Data formatted for Bitstamp:BTCUSD: (100, 5)\n",
      "2025-08-02 15:12:43.860 | INFO     | src.data.data_manager:get_historical_data_standardized:622 - Successfully standardized OHLCV data for 1 symbols\n",
      "2025-08-02 15:12:43.860 | INFO     | src.backtesting.backtest_engine:run_backtest:65 - Running backtest for strategy: sma_crossover_test\n",
      "2025-08-02 15:12:43.860 | INFO     | src.strategies.base_strategy:reset:99 - Reset strategy: sma_crossover\n",
      "2025-08-02 15:12:43.860 | INFO     | src.risk.risk_manager:__init__:49 - Risk manager initialized\n",
      "2025-08-02 15:12:43.882 | INFO     | src.strategies.sma_crossover:_generate_signal_for_symbol:109 - Golden cross detected for Bitstamp:BTCUSD: 104403.80 > 103408.73\n",
      "2025-08-02 15:12:43.883 | DEBUG    | src.backtesting.backtest_engine:_execute_trades:216 - BUY 0.19 Bitstamp:BTCUSD @ $105464.00\n",
      "2025-08-02 15:12:43.904 | INFO     | src.strategies.base_strategy:__init__:34 - Initialized strategy: sma_crossover\n",
      "2025-08-02 15:12:43.904 | INFO     | src.strategies.sma_crossover:__init__:48 - SMA Crossover Strategy initialized: 10/100\n",
      "2025-08-02 15:12:43.904 | INFO     | src.backtesting.backtest_engine:run_backtest:53 - Starting backtest from 2023-01-01 to 2023-06-30\n",
      "2025-08-02 15:12:43.904 | INFO     | src.data.data_manager:get_historical_data_standardized:589 - Fetching standardized OHLCV data for ['Bitstamp:BTCUSD'] from 2023-01-01 to 2023-06-30\n",
      "2025-08-02 15:12:43.904 | INFO     | src.data.data_manager:get_historical_data:64 - Fetching historical OHLCV data for ['Bitstamp:BTCUSD'] from 2023-01-01 to 2023-06-30\n",
      "2025-08-02 15:12:44.365 | INFO     | src.data.data_manager:_fetch_tradingview_ohlcv_data:159 - Successfully fetched OHLCV data for 1 symbols\n",
      "2025-08-02 15:12:44.366 | INFO     | src.data.data_manager:get_historical_data:97 - OHLCV data cached successfully\n",
      "2025-08-02 15:12:44.368 | INFO     | src.data.data_manager:ensure_ohlcv_format:500 - Data formatted for Bitstamp:BTCUSD: (100, 5)\n",
      "2025-08-02 15:12:44.368 | INFO     | src.data.data_manager:get_historical_data_standardized:622 - Successfully standardized OHLCV data for 1 symbols\n",
      "2025-08-02 15:12:44.368 | INFO     | src.backtesting.backtest_engine:run_backtest:65 - Running backtest for strategy: sma_crossover_test\n",
      "2025-08-02 15:12:44.368 | INFO     | src.strategies.base_strategy:reset:99 - Reset strategy: sma_crossover\n",
      "2025-08-02 15:12:44.369 | INFO     | src.risk.risk_manager:__init__:49 - Risk manager initialized\n",
      "2025-08-02 15:12:44.397 | INFO     | src.strategies.sma_crossover:_generate_signal_for_symbol:109 - Golden cross detected for Bitstamp:BTCUSD: 107480.60 > 103990.43\n",
      "2025-08-02 15:12:44.397 | DEBUG    | src.backtesting.backtest_engine:_execute_trades:216 - BUY 0.18 Bitstamp:BTCUSD @ $109648.00\n",
      "2025-08-02 15:12:44.414 | INFO     | src.strategies.base_strategy:__init__:34 - Initialized strategy: sma_crossover\n",
      "2025-08-02 15:12:44.414 | INFO     | src.strategies.sma_crossover:__init__:48 - SMA Crossover Strategy initialized: 15/30\n",
      "2025-08-02 15:12:44.414 | INFO     | src.backtesting.backtest_engine:run_backtest:53 - Starting backtest from 2023-01-01 to 2023-06-30\n",
      "2025-08-02 15:12:44.414 | INFO     | src.data.data_manager:get_historical_data_standardized:589 - Fetching standardized OHLCV data for ['Bitstamp:BTCUSD'] from 2023-01-01 to 2023-06-30\n",
      "2025-08-02 15:12:44.414 | INFO     | src.data.data_manager:get_historical_data:64 - Fetching historical OHLCV data for ['Bitstamp:BTCUSD'] from 2023-01-01 to 2023-06-30\n",
      "2025-08-02 15:12:44.853 | INFO     | src.data.data_manager:_fetch_tradingview_ohlcv_data:159 - Successfully fetched OHLCV data for 1 symbols\n",
      "2025-08-02 15:12:44.854 | INFO     | src.data.data_manager:get_historical_data:97 - OHLCV data cached successfully\n",
      "2025-08-02 15:12:44.856 | INFO     | src.data.data_manager:ensure_ohlcv_format:500 - Data formatted for Bitstamp:BTCUSD: (100, 5)\n",
      "2025-08-02 15:12:44.857 | INFO     | src.data.data_manager:get_historical_data_standardized:622 - Successfully standardized OHLCV data for 1 symbols\n",
      "2025-08-02 15:12:44.857 | INFO     | src.backtesting.backtest_engine:run_backtest:65 - Running backtest for strategy: sma_crossover_test\n",
      "2025-08-02 15:12:44.857 | INFO     | src.strategies.base_strategy:reset:99 - Reset strategy: sma_crossover\n",
      "2025-08-02 15:12:44.857 | INFO     | src.risk.risk_manager:__init__:49 - Risk manager initialized\n",
      "2025-08-02 15:12:44.887 | INFO     | src.strategies.sma_crossover:_generate_signal_for_symbol:109 - Golden cross detected for Bitstamp:BTCUSD: 112423.60 > 105044.57\n",
      "2025-08-02 15:12:44.887 | DEBUG    | src.backtesting.backtest_engine:_execute_trades:216 - BUY 0.17 Bitstamp:BTCUSD @ $119135.00\n",
      "2025-08-02 15:12:44.900 | INFO     | src.strategies.base_strategy:__init__:34 - Initialized strategy: sma_crossover\n",
      "2025-08-02 15:12:44.900 | INFO     | src.strategies.sma_crossover:__init__:48 - SMA Crossover Strategy initialized: 15/40\n",
      "2025-08-02 15:12:44.900 | INFO     | src.backtesting.backtest_engine:run_backtest:53 - Starting backtest from 2023-01-01 to 2023-06-30\n",
      "2025-08-02 15:12:44.900 | INFO     | src.data.data_manager:get_historical_data_standardized:589 - Fetching standardized OHLCV data for ['Bitstamp:BTCUSD'] from 2023-01-01 to 2023-06-30\n",
      "2025-08-02 15:12:44.900 | INFO     | src.data.data_manager:get_historical_data:64 - Fetching historical OHLCV data for ['Bitstamp:BTCUSD'] from 2023-01-01 to 2023-06-30\n",
      "2025-08-02 15:12:45.349 | INFO     | src.data.data_manager:_fetch_tradingview_ohlcv_data:159 - Successfully fetched OHLCV data for 1 symbols\n",
      "2025-08-02 15:12:45.350 | INFO     | src.data.data_manager:get_historical_data:97 - OHLCV data cached successfully\n",
      "2025-08-02 15:12:45.351 | INFO     | src.data.data_manager:ensure_ohlcv_format:500 - Data formatted for Bitstamp:BTCUSD: (100, 5)\n",
      "2025-08-02 15:12:45.351 | INFO     | src.data.data_manager:get_historical_data_standardized:622 - Successfully standardized OHLCV data for 1 symbols\n",
      "2025-08-02 15:12:45.351 | INFO     | src.backtesting.backtest_engine:run_backtest:65 - Running backtest for strategy: sma_crossover_test\n",
      "2025-08-02 15:12:45.351 | INFO     | src.strategies.base_strategy:reset:99 - Reset strategy: sma_crossover\n",
      "2025-08-02 15:12:45.351 | INFO     | src.risk.risk_manager:__init__:49 - Risk manager initialized\n",
      "2025-08-02 15:12:45.370 | INFO     | src.strategies.sma_crossover:_generate_signal_for_symbol:109 - Golden cross detected for Bitstamp:BTCUSD: 118517.90 > 106541.61\n",
      "2025-08-02 15:12:45.370 | DEBUG    | src.backtesting.backtest_engine:_execute_trades:216 - BUY 0.17 Bitstamp:BTCUSD @ $118813.00\n",
      "2025-08-02 15:12:45.376 | INFO     | src.strategies.base_strategy:__init__:34 - Initialized strategy: sma_crossover\n",
      "2025-08-02 15:12:45.376 | INFO     | src.strategies.sma_crossover:__init__:48 - SMA Crossover Strategy initialized: 15/50\n",
      "2025-08-02 15:12:45.376 | INFO     | src.backtesting.backtest_engine:run_backtest:53 - Starting backtest from 2023-01-01 to 2023-06-30\n",
      "2025-08-02 15:12:45.376 | INFO     | src.data.data_manager:get_historical_data_standardized:589 - Fetching standardized OHLCV data for ['Bitstamp:BTCUSD'] from 2023-01-01 to 2023-06-30\n",
      "2025-08-02 15:12:45.376 | INFO     | src.data.data_manager:get_historical_data:64 - Fetching historical OHLCV data for ['Bitstamp:BTCUSD'] from 2023-01-01 to 2023-06-30\n",
      "2025-08-02 15:12:45.850 | INFO     | src.data.data_manager:_fetch_tradingview_ohlcv_data:159 - Successfully fetched OHLCV data for 1 symbols\n",
      "2025-08-02 15:12:45.851 | INFO     | src.data.data_manager:get_historical_data:97 - OHLCV data cached successfully\n",
      "2025-08-02 15:12:45.853 | INFO     | src.data.data_manager:ensure_ohlcv_format:500 - Data formatted for Bitstamp:BTCUSD: (100, 5)\n",
      "2025-08-02 15:12:45.853 | INFO     | src.data.data_manager:get_historical_data_standardized:622 - Successfully standardized OHLCV data for 1 symbols\n",
      "2025-08-02 15:12:45.853 | INFO     | src.backtesting.backtest_engine:run_backtest:65 - Running backtest for strategy: sma_crossover_test\n",
      "2025-08-02 15:12:45.853 | INFO     | src.strategies.base_strategy:reset:99 - Reset strategy: sma_crossover\n",
      "2025-08-02 15:12:45.853 | INFO     | src.risk.risk_manager:__init__:49 - Risk manager initialized\n",
      "2025-08-02 15:12:45.889 | INFO     | src.strategies.sma_crossover:_generate_signal_for_symbol:109 - Golden cross detected for Bitstamp:BTCUSD: 117015.70 > 107589.02\n",
      "2025-08-02 15:12:45.889 | DEBUG    | src.backtesting.backtest_engine:_execute_trades:216 - BUY 0.18 Bitstamp:BTCUSD @ $113922.00\n",
      "2025-08-02 15:12:45.892 | INFO     | src.strategies.base_strategy:__init__:34 - Initialized strategy: sma_crossover\n",
      "2025-08-02 15:12:45.892 | INFO     | src.strategies.sma_crossover:__init__:48 - SMA Crossover Strategy initialized: 15/60\n",
      "2025-08-02 15:12:45.892 | INFO     | src.backtesting.backtest_engine:run_backtest:53 - Starting backtest from 2023-01-01 to 2023-06-30\n",
      "2025-08-02 15:12:45.892 | INFO     | src.data.data_manager:get_historical_data_standardized:589 - Fetching standardized OHLCV data for ['Bitstamp:BTCUSD'] from 2023-01-01 to 2023-06-30\n",
      "2025-08-02 15:12:45.892 | INFO     | src.data.data_manager:get_historical_data:64 - Fetching historical OHLCV data for ['Bitstamp:BTCUSD'] from 2023-01-01 to 2023-06-30\n",
      "2025-08-02 15:12:46.352 | INFO     | src.data.data_manager:_fetch_tradingview_ohlcv_data:159 - Successfully fetched OHLCV data for 1 symbols\n",
      "2025-08-02 15:12:46.353 | INFO     | src.data.data_manager:get_historical_data:97 - OHLCV data cached successfully\n",
      "2025-08-02 15:12:46.355 | INFO     | src.data.data_manager:ensure_ohlcv_format:500 - Data formatted for Bitstamp:BTCUSD: (100, 5)\n",
      "2025-08-02 15:12:46.356 | INFO     | src.data.data_manager:get_historical_data_standardized:622 - Successfully standardized OHLCV data for 1 symbols\n",
      "2025-08-02 15:12:46.356 | INFO     | src.backtesting.backtest_engine:run_backtest:65 - Running backtest for strategy: sma_crossover_test\n",
      "2025-08-02 15:12:46.356 | INFO     | src.strategies.base_strategy:reset:99 - Reset strategy: sma_crossover\n",
      "2025-08-02 15:12:46.356 | INFO     | src.risk.risk_manager:__init__:49 - Risk manager initialized\n",
      "2025-08-02 15:12:46.367 | INFO     | src.strategies.sma_crossover:_generate_signal_for_symbol:109 - Golden cross detected for Bitstamp:BTCUSD: 105693.47 > 101020.10\n",
      "2025-08-02 15:12:46.367 | DEBUG    | src.backtesting.backtest_engine:_execute_trades:216 - BUY 0.19 Bitstamp:BTCUSD @ $107799.00\n",
      "2025-08-02 15:12:46.374 | INFO     | src.risk.risk_manager:check_stop_loss:155 - Stop loss triggered for Bitstamp:BTCUSD: -5.79%\n",
      "2025-08-02 15:12:46.375 | INFO     | src.backtesting.backtest_engine:_execute_trades:276 - STOP LOSS: 0.19 Bitstamp:BTCUSD @ $101559.00\n",
      "2025-08-02 15:12:46.378 | INFO     | src.strategies.sma_crossover:_generate_signal_for_symbol:113 - Death cross detected for Bitstamp:BTCUSD: 106054.67 < 106194.00\n",
      "2025-08-02 15:12:46.390 | INFO     | src.strategies.sma_crossover:_generate_signal_for_symbol:109 - Golden cross detected for Bitstamp:BTCUSD: 106095.20 > 106069.27\n",
      "2025-08-02 15:12:46.390 | DEBUG    | src.backtesting.backtest_engine:_execute_trades:216 - BUY 0.18 Bitstamp:BTCUSD @ $109648.00\n",
      "2025-08-02 15:12:46.406 | INFO     | src.strategies.base_strategy:__init__:34 - Initialized strategy: sma_crossover\n",
      "2025-08-02 15:12:46.406 | INFO     | src.strategies.sma_crossover:__init__:48 - SMA Crossover Strategy initialized: 15/70\n",
      "2025-08-02 15:12:46.406 | INFO     | src.backtesting.backtest_engine:run_backtest:53 - Starting backtest from 2023-01-01 to 2023-06-30\n",
      "2025-08-02 15:12:46.406 | INFO     | src.data.data_manager:get_historical_data_standardized:589 - Fetching standardized OHLCV data for ['Bitstamp:BTCUSD'] from 2023-01-01 to 2023-06-30\n",
      "2025-08-02 15:12:46.406 | INFO     | src.data.data_manager:get_historical_data:64 - Fetching historical OHLCV data for ['Bitstamp:BTCUSD'] from 2023-01-01 to 2023-06-30\n",
      "2025-08-02 15:12:46.854 | INFO     | src.data.data_manager:_fetch_tradingview_ohlcv_data:159 - Successfully fetched OHLCV data for 1 symbols\n",
      "2025-08-02 15:12:46.855 | INFO     | src.data.data_manager:get_historical_data:97 - OHLCV data cached successfully\n",
      "2025-08-02 15:12:46.857 | INFO     | src.data.data_manager:ensure_ohlcv_format:500 - Data formatted for Bitstamp:BTCUSD: (100, 5)\n",
      "2025-08-02 15:12:46.857 | INFO     | src.data.data_manager:get_historical_data_standardized:622 - Successfully standardized OHLCV data for 1 symbols\n",
      "2025-08-02 15:12:46.857 | INFO     | src.backtesting.backtest_engine:run_backtest:65 - Running backtest for strategy: sma_crossover_test\n",
      "2025-08-02 15:12:46.857 | INFO     | src.strategies.base_strategy:reset:99 - Reset strategy: sma_crossover\n",
      "2025-08-02 15:12:46.857 | INFO     | src.risk.risk_manager:__init__:49 - Risk manager initialized\n",
      "2025-08-02 15:12:46.872 | INFO     | src.strategies.sma_crossover:_generate_signal_for_symbol:109 - Golden cross detected for Bitstamp:BTCUSD: 107337.13 > 102431.30\n",
      "2025-08-02 15:12:46.872 | DEBUG    | src.backtesting.backtest_engine:_execute_trades:216 - BUY 0.19 Bitstamp:BTCUSD @ $105454.00\n",
      "2025-08-02 15:12:46.883 | INFO     | src.strategies.sma_crossover:_generate_signal_for_symbol:113 - Death cross detected for Bitstamp:BTCUSD: 106043.33 < 106067.52\n",
      "2025-08-02 15:12:46.883 | DEBUG    | src.backtesting.backtest_engine:_execute_trades:245 - SELL 0.19 Bitstamp:BTCUSD @ $104922.00\n",
      "2025-08-02 15:12:46.884 | INFO     | src.strategies.sma_crossover:_generate_signal_for_symbol:109 - Golden cross detected for Bitstamp:BTCUSD: 106156.67 > 106044.18\n",
      "2025-08-02 15:12:46.884 | DEBUG    | src.backtesting.backtest_engine:_execute_trades:216 - BUY 0.19 Bitstamp:BTCUSD @ $103316.00\n",
      "2025-08-02 15:12:46.885 | INFO     | src.strategies.sma_crossover:_generate_signal_for_symbol:113 - Death cross detected for Bitstamp:BTCUSD: 106006.40 < 106027.75\n",
      "2025-08-02 15:12:46.885 | DEBUG    | src.backtesting.backtest_engine:_execute_trades:245 - SELL 0.19 Bitstamp:BTCUSD @ $102139.00\n",
      "2025-08-02 15:12:46.890 | INFO     | src.strategies.sma_crossover:_generate_signal_for_symbol:109 - Golden cross detected for Bitstamp:BTCUSD: 106318.20 > 106192.30\n",
      "2025-08-02 15:12:46.890 | DEBUG    | src.backtesting.backtest_engine:_execute_trades:216 - BUY 0.18 Bitstamp:BTCUSD @ $108033.00\n",
      "2025-08-02 15:12:46.906 | INFO     | src.strategies.base_strategy:__init__:34 - Initialized strategy: sma_crossover\n",
      "2025-08-02 15:12:46.906 | INFO     | src.strategies.sma_crossover:__init__:48 - SMA Crossover Strategy initialized: 15/80\n",
      "2025-08-02 15:12:46.906 | INFO     | src.backtesting.backtest_engine:run_backtest:53 - Starting backtest from 2023-01-01 to 2023-06-30\n",
      "2025-08-02 15:12:46.906 | INFO     | src.data.data_manager:get_historical_data_standardized:589 - Fetching standardized OHLCV data for ['Bitstamp:BTCUSD'] from 2023-01-01 to 2023-06-30\n",
      "2025-08-02 15:12:46.906 | INFO     | src.data.data_manager:get_historical_data:64 - Fetching historical OHLCV data for ['Bitstamp:BTCUSD'] from 2023-01-01 to 2023-06-30\n",
      "2025-08-02 15:12:47.351 | INFO     | src.data.data_manager:_fetch_tradingview_ohlcv_data:159 - Successfully fetched OHLCV data for 1 symbols\n",
      "2025-08-02 15:12:47.351 | INFO     | src.data.data_manager:get_historical_data:97 - OHLCV data cached successfully\n",
      "2025-08-02 15:12:47.353 | INFO     | src.data.data_manager:ensure_ohlcv_format:500 - Data formatted for Bitstamp:BTCUSD: (100, 5)\n",
      "2025-08-02 15:12:47.354 | INFO     | src.data.data_manager:get_historical_data_standardized:622 - Successfully standardized OHLCV data for 1 symbols\n",
      "2025-08-02 15:12:47.354 | INFO     | src.backtesting.backtest_engine:run_backtest:65 - Running backtest for strategy: sma_crossover_test\n",
      "2025-08-02 15:12:47.354 | INFO     | src.strategies.base_strategy:reset:99 - Reset strategy: sma_crossover\n",
      "2025-08-02 15:12:47.354 | INFO     | src.risk.risk_manager:__init__:49 - Risk manager initialized\n",
      "2025-08-02 15:12:47.370 | INFO     | src.strategies.sma_crossover:_generate_signal_for_symbol:109 - Golden cross detected for Bitstamp:BTCUSD: 105931.87 > 103209.72\n",
      "2025-08-02 15:12:47.370 | DEBUG    | src.backtesting.backtest_engine:_execute_trades:216 - BUY 0.19 Bitstamp:BTCUSD @ $106118.00\n",
      "2025-08-02 15:12:47.385 | INFO     | src.strategies.sma_crossover:_generate_signal_for_symbol:113 - Death cross detected for Bitstamp:BTCUSD: 105207.60 < 105523.56\n",
      "2025-08-02 15:12:47.385 | DEBUG    | src.backtesting.backtest_engine:_execute_trades:245 - SELL 0.19 Bitstamp:BTCUSD @ $107418.00\n",
      "2025-08-02 15:12:47.390 | INFO     | src.strategies.sma_crossover:_generate_signal_for_symbol:109 - Golden cross detected for Bitstamp:BTCUSD: 106646.47 > 106474.06\n",
      "2025-08-02 15:12:47.390 | DEBUG    | src.backtesting.backtest_engine:_execute_trades:216 - BUY 0.19 Bitstamp:BTCUSD @ $108240.00\n",
      "2025-08-02 15:12:47.405 | INFO     | src.strategies.base_strategy:__init__:34 - Initialized strategy: sma_crossover\n",
      "2025-08-02 15:12:47.405 | INFO     | src.strategies.sma_crossover:__init__:48 - SMA Crossover Strategy initialized: 15/90\n",
      "2025-08-02 15:12:47.405 | INFO     | src.backtesting.backtest_engine:run_backtest:53 - Starting backtest from 2023-01-01 to 2023-06-30\n",
      "2025-08-02 15:12:47.405 | INFO     | src.data.data_manager:get_historical_data_standardized:589 - Fetching standardized OHLCV data for ['Bitstamp:BTCUSD'] from 2023-01-01 to 2023-06-30\n",
      "2025-08-02 15:12:47.405 | INFO     | src.data.data_manager:get_historical_data:64 - Fetching historical OHLCV data for ['Bitstamp:BTCUSD'] from 2023-01-01 to 2023-06-30\n",
      "2025-08-02 15:12:47.854 | INFO     | src.data.data_manager:_fetch_tradingview_ohlcv_data:159 - Successfully fetched OHLCV data for 1 symbols\n",
      "2025-08-02 15:12:47.855 | INFO     | src.data.data_manager:get_historical_data:97 - OHLCV data cached successfully\n",
      "2025-08-02 15:12:47.857 | INFO     | src.data.data_manager:ensure_ohlcv_format:500 - Data formatted for Bitstamp:BTCUSD: (100, 5)\n",
      "2025-08-02 15:12:47.857 | INFO     | src.data.data_manager:get_historical_data_standardized:622 - Successfully standardized OHLCV data for 1 symbols\n",
      "2025-08-02 15:12:47.858 | INFO     | src.backtesting.backtest_engine:run_backtest:65 - Running backtest for strategy: sma_crossover_test\n",
      "2025-08-02 15:12:47.858 | INFO     | src.strategies.base_strategy:reset:99 - Reset strategy: sma_crossover\n",
      "2025-08-02 15:12:47.858 | INFO     | src.risk.risk_manager:__init__:49 - Risk manager initialized\n",
      "2025-08-02 15:12:47.878 | INFO     | src.strategies.sma_crossover:_generate_signal_for_symbol:109 - Golden cross detected for Bitstamp:BTCUSD: 105677.60 > 103408.73\n",
      "2025-08-02 15:12:47.878 | DEBUG    | src.backtesting.backtest_engine:_execute_trades:216 - BUY 0.19 Bitstamp:BTCUSD @ $105464.00\n",
      "\u001b[32m2025-08-02 15:12:47.900\u001b[0m | \u001b[1mINFO    \u001b[0m | \u001b[36msrc.optimization.optimizer\u001b[0m:\u001b[36m_optimize_parallel\u001b[0m:\u001b[36m149\u001b[0m - \u001b[1mCompleted 20/48 combinations\u001b[0m\n",
      "2025-08-02 15:12:47.900 | INFO     | src.strategies.base_strategy:__init__:34 - Initialized strategy: sma_crossover\n",
      "2025-08-02 15:12:47.900 | INFO     | src.strategies.sma_crossover:__init__:48 - SMA Crossover Strategy initialized: 15/100\n",
      "2025-08-02 15:12:47.900 | INFO     | src.backtesting.backtest_engine:run_backtest:53 - Starting backtest from 2023-01-01 to 2023-06-30\n",
      "2025-08-02 15:12:47.900 | INFO     | src.data.data_manager:get_historical_data_standardized:589 - Fetching standardized OHLCV data for ['Bitstamp:BTCUSD'] from 2023-01-01 to 2023-06-30\n",
      "2025-08-02 15:12:47.900 | INFO     | src.data.data_manager:get_historical_data:64 - Fetching historical OHLCV data for ['Bitstamp:BTCUSD'] from 2023-01-01 to 2023-06-30\n",
      "2025-08-02 15:12:48.354 | INFO     | src.data.data_manager:_fetch_tradingview_ohlcv_data:159 - Successfully fetched OHLCV data for 1 symbols\n",
      "2025-08-02 15:12:48.355 | INFO     | src.data.data_manager:get_historical_data:97 - OHLCV data cached successfully\n",
      "2025-08-02 15:12:48.356 | INFO     | src.data.data_manager:ensure_ohlcv_format:500 - Data formatted for Bitstamp:BTCUSD: (100, 5)\n",
      "2025-08-02 15:12:48.357 | INFO     | src.data.data_manager:get_historical_data_standardized:622 - Successfully standardized OHLCV data for 1 symbols\n",
      "2025-08-02 15:12:48.357 | INFO     | src.backtesting.backtest_engine:run_backtest:65 - Running backtest for strategy: sma_crossover_test\n",
      "2025-08-02 15:12:48.357 | INFO     | src.strategies.base_strategy:reset:99 - Reset strategy: sma_crossover\n",
      "2025-08-02 15:12:48.357 | INFO     | src.risk.risk_manager:__init__:49 - Risk manager initialized\n",
      "2025-08-02 15:12:48.378 | INFO     | src.strategies.sma_crossover:_generate_signal_for_symbol:109 - Golden cross detected for Bitstamp:BTCUSD: 106095.20 > 103990.43\n",
      "2025-08-02 15:12:48.378 | DEBUG    | src.backtesting.backtest_engine:_execute_trades:216 - BUY 0.18 Bitstamp:BTCUSD @ $109648.00\n",
      "2025-08-02 15:12:48.394 | INFO     | src.strategies.base_strategy:__init__:34 - Initialized strategy: sma_crossover\n",
      "2025-08-02 15:12:48.395 | INFO     | src.strategies.sma_crossover:__init__:48 - SMA Crossover Strategy initialized: 20/30\n",
      "2025-08-02 15:12:48.395 | INFO     | src.backtesting.backtest_engine:run_backtest:53 - Starting backtest from 2023-01-01 to 2023-06-30\n",
      "2025-08-02 15:12:48.395 | INFO     | src.data.data_manager:get_historical_data_standardized:589 - Fetching standardized OHLCV data for ['Bitstamp:BTCUSD'] from 2023-01-01 to 2023-06-30\n",
      "2025-08-02 15:12:48.395 | INFO     | src.data.data_manager:get_historical_data:64 - Fetching historical OHLCV data for ['Bitstamp:BTCUSD'] from 2023-01-01 to 2023-06-30\n",
      "2025-08-02 15:12:48.850 | INFO     | src.data.data_manager:_fetch_tradingview_ohlcv_data:159 - Successfully fetched OHLCV data for 1 symbols\n",
      "2025-08-02 15:12:48.851 | INFO     | src.data.data_manager:get_historical_data:97 - OHLCV data cached successfully\n",
      "2025-08-02 15:12:48.852 | INFO     | src.data.data_manager:ensure_ohlcv_format:500 - Data formatted for Bitstamp:BTCUSD: (100, 5)\n",
      "2025-08-02 15:12:48.852 | INFO     | src.data.data_manager:get_historical_data_standardized:622 - Successfully standardized OHLCV data for 1 symbols\n",
      "2025-08-02 15:12:48.853 | INFO     | src.backtesting.backtest_engine:run_backtest:65 - Running backtest for strategy: sma_crossover_test\n",
      "2025-08-02 15:12:48.853 | INFO     | src.strategies.base_strategy:reset:99 - Reset strategy: sma_crossover\n",
      "2025-08-02 15:12:48.853 | INFO     | src.risk.risk_manager:__init__:49 - Risk manager initialized\n",
      "2025-08-02 15:12:48.873 | INFO     | src.strategies.sma_crossover:_generate_signal_for_symbol:109 - Golden cross detected for Bitstamp:BTCUSD: 110936.07 > 105044.57\n",
      "2025-08-02 15:12:48.873 | DEBUG    | src.backtesting.backtest_engine:_execute_trades:216 - BUY 0.17 Bitstamp:BTCUSD @ $119135.00\n",
      "2025-08-02 15:12:48.883 | INFO     | src.strategies.base_strategy:__init__:34 - Initialized strategy: sma_crossover\n",
      "2025-08-02 15:12:48.883 | INFO     | src.strategies.sma_crossover:__init__:48 - SMA Crossover Strategy initialized: 20/40\n",
      "2025-08-02 15:12:48.883 | INFO     | src.backtesting.backtest_engine:run_backtest:53 - Starting backtest from 2023-01-01 to 2023-06-30\n",
      "2025-08-02 15:12:48.883 | INFO     | src.data.data_manager:get_historical_data_standardized:589 - Fetching standardized OHLCV data for ['Bitstamp:BTCUSD'] from 2023-01-01 to 2023-06-30\n",
      "2025-08-02 15:12:48.883 | INFO     | src.data.data_manager:get_historical_data:64 - Fetching historical OHLCV data for ['Bitstamp:BTCUSD'] from 2023-01-01 to 2023-06-30\n",
      "2025-08-02 15:12:49.352 | INFO     | src.data.data_manager:_fetch_tradingview_ohlcv_data:159 - Successfully fetched OHLCV data for 1 symbols\n",
      "2025-08-02 15:12:49.353 | INFO     | src.data.data_manager:get_historical_data:97 - OHLCV data cached successfully\n",
      "2025-08-02 15:12:49.354 | INFO     | src.data.data_manager:ensure_ohlcv_format:500 - Data formatted for Bitstamp:BTCUSD: (100, 5)\n",
      "2025-08-02 15:12:49.355 | INFO     | src.data.data_manager:get_historical_data_standardized:622 - Successfully standardized OHLCV data for 1 symbols\n",
      "2025-08-02 15:12:49.355 | INFO     | src.backtesting.backtest_engine:run_backtest:65 - Running backtest for strategy: sma_crossover_test\n",
      "2025-08-02 15:12:49.355 | INFO     | src.strategies.base_strategy:reset:99 - Reset strategy: sma_crossover\n",
      "2025-08-02 15:12:49.355 | INFO     | src.risk.risk_manager:__init__:49 - Risk manager initialized\n",
      "2025-08-02 15:12:49.382 | INFO     | src.strategies.sma_crossover:_generate_signal_for_symbol:109 - Golden cross detected for Bitstamp:BTCUSD: 117778.33 > 106541.61\n",
      "2025-08-02 15:12:49.383 | DEBUG    | src.backtesting.backtest_engine:_execute_trades:216 - BUY 0.17 Bitstamp:BTCUSD @ $118813.00\n",
      "2025-08-02 15:12:49.390 | INFO     | src.strategies.base_strategy:__init__:34 - Initialized strategy: sma_crossover\n",
      "2025-08-02 15:12:49.390 | INFO     | src.strategies.sma_crossover:__init__:48 - SMA Crossover Strategy initialized: 20/50\n",
      "2025-08-02 15:12:49.390 | INFO     | src.backtesting.backtest_engine:run_backtest:53 - Starting backtest from 2023-01-01 to 2023-06-30\n",
      "2025-08-02 15:12:49.390 | INFO     | src.data.data_manager:get_historical_data_standardized:589 - Fetching standardized OHLCV data for ['Bitstamp:BTCUSD'] from 2023-01-01 to 2023-06-30\n",
      "2025-08-02 15:12:49.390 | INFO     | src.data.data_manager:get_historical_data:64 - Fetching historical OHLCV data for ['Bitstamp:BTCUSD'] from 2023-01-01 to 2023-06-30\n",
      "2025-08-02 15:12:49.844 | INFO     | src.data.data_manager:_fetch_tradingview_ohlcv_data:159 - Successfully fetched OHLCV data for 1 symbols\n",
      "2025-08-02 15:12:49.845 | INFO     | src.data.data_manager:get_historical_data:97 - OHLCV data cached successfully\n",
      "2025-08-02 15:12:49.846 | INFO     | src.data.data_manager:ensure_ohlcv_format:500 - Data formatted for Bitstamp:BTCUSD: (100, 5)\n",
      "2025-08-02 15:12:49.847 | INFO     | src.data.data_manager:get_historical_data_standardized:622 - Successfully standardized OHLCV data for 1 symbols\n",
      "2025-08-02 15:12:49.847 | INFO     | src.backtesting.backtest_engine:run_backtest:65 - Running backtest for strategy: sma_crossover_test\n",
      "2025-08-02 15:12:49.847 | INFO     | src.strategies.base_strategy:reset:99 - Reset strategy: sma_crossover\n",
      "2025-08-02 15:12:49.847 | INFO     | src.risk.risk_manager:__init__:49 - Risk manager initialized\n",
      "2025-08-02 15:12:49.866 | INFO     | src.strategies.sma_crossover:_generate_signal_for_symbol:109 - Golden cross detected for Bitstamp:BTCUSD: 117444.87 > 107589.02\n",
      "2025-08-02 15:12:49.866 | DEBUG    | src.backtesting.backtest_engine:_execute_trades:216 - BUY 0.18 Bitstamp:BTCUSD @ $113922.00\n",
      "2025-08-02 15:12:49.869 | INFO     | src.strategies.base_strategy:__init__:34 - Initialized strategy: sma_crossover\n",
      "2025-08-02 15:12:49.869 | INFO     | src.strategies.sma_crossover:__init__:48 - SMA Crossover Strategy initialized: 20/60\n",
      "2025-08-02 15:12:49.869 | INFO     | src.backtesting.backtest_engine:run_backtest:53 - Starting backtest from 2023-01-01 to 2023-06-30\n",
      "2025-08-02 15:12:49.869 | INFO     | src.data.data_manager:get_historical_data_standardized:589 - Fetching standardized OHLCV data for ['Bitstamp:BTCUSD'] from 2023-01-01 to 2023-06-30\n",
      "2025-08-02 15:12:49.869 | INFO     | src.data.data_manager:get_historical_data:64 - Fetching historical OHLCV data for ['Bitstamp:BTCUSD'] from 2023-01-01 to 2023-06-30\n",
      "2025-08-02 15:12:50.362 | INFO     | src.data.data_manager:_fetch_tradingview_ohlcv_data:159 - Successfully fetched OHLCV data for 1 symbols\n",
      "2025-08-02 15:12:50.363 | INFO     | src.data.data_manager:get_historical_data:97 - OHLCV data cached successfully\n",
      "2025-08-02 15:12:50.366 | INFO     | src.data.data_manager:ensure_ohlcv_format:500 - Data formatted for Bitstamp:BTCUSD: (100, 5)\n",
      "2025-08-02 15:12:50.367 | INFO     | src.data.data_manager:get_historical_data_standardized:622 - Successfully standardized OHLCV data for 1 symbols\n",
      "2025-08-02 15:12:50.367 | INFO     | src.backtesting.backtest_engine:run_backtest:65 - Running backtest for strategy: sma_crossover_test\n",
      "2025-08-02 15:12:50.367 | INFO     | src.strategies.base_strategy:reset:99 - Reset strategy: sma_crossover\n",
      "2025-08-02 15:12:50.367 | INFO     | src.risk.risk_manager:__init__:49 - Risk manager initialized\n",
      "2025-08-02 15:12:50.376 | INFO     | src.strategies.sma_crossover:_generate_signal_for_symbol:109 - Golden cross detected for Bitstamp:BTCUSD: 104012.35 > 101020.10\n",
      "2025-08-02 15:12:50.376 | DEBUG    | src.backtesting.backtest_engine:_execute_trades:216 - BUY 0.19 Bitstamp:BTCUSD @ $107799.00\n",
      "2025-08-02 15:12:50.383 | INFO     | src.risk.risk_manager:check_stop_loss:155 - Stop loss triggered for Bitstamp:BTCUSD: -5.79%\n",
      "2025-08-02 15:12:50.383 | INFO     | src.backtesting.backtest_engine:_execute_trades:276 - STOP LOSS: 0.19 Bitstamp:BTCUSD @ $101559.00\n",
      "2025-08-02 15:12:50.390 | INFO     | src.strategies.sma_crossover:_generate_signal_for_symbol:113 - Death cross detected for Bitstamp:BTCUSD: 106494.15 < 106529.50\n",
      "2025-08-02 15:12:50.393 | INFO     | src.strategies.sma_crossover:_generate_signal_for_symbol:109 - Golden cross detected for Bitstamp:BTCUSD: 105725.85 > 105631.13\n",
      "2025-08-02 15:12:50.394 | DEBUG    | src.backtesting.backtest_engine:_execute_trades:216 - BUY 0.18 Bitstamp:BTCUSD @ $107418.00\n",
      "2025-08-02 15:12:50.395 | INFO     | src.strategies.sma_crossover:_generate_signal_for_symbol:113 - Death cross detected for Bitstamp:BTCUSD: 105756.45 < 105830.00\n",
      "2025-08-02 15:12:50.395 | DEBUG    | src.backtesting.backtest_engine:_execute_trades:245 - SELL 0.18 Bitstamp:BTCUSD @ $107179.00\n",
      "2025-08-02 15:12:50.399 | INFO     | src.strategies.sma_crossover:_generate_signal_for_symbol:109 - Golden cross detected for Bitstamp:BTCUSD: 107038.35 > 106789.67\n",
      "2025-08-02 15:12:50.399 | DEBUG    | src.backtesting.backtest_engine:_execute_trades:216 - BUY 0.18 Bitstamp:BTCUSD @ $111287.00\n",
      "2025-08-02 15:12:50.411 | INFO     | src.strategies.base_strategy:__init__:34 - Initialized strategy: sma_crossover\n",
      "2025-08-02 15:12:50.411 | INFO     | src.strategies.sma_crossover:__init__:48 - SMA Crossover Strategy initialized: 20/70\n",
      "2025-08-02 15:12:50.411 | INFO     | src.backtesting.backtest_engine:run_backtest:53 - Starting backtest from 2023-01-01 to 2023-06-30\n",
      "2025-08-02 15:12:50.411 | INFO     | src.data.data_manager:get_historical_data_standardized:589 - Fetching standardized OHLCV data for ['Bitstamp:BTCUSD'] from 2023-01-01 to 2023-06-30\n",
      "2025-08-02 15:12:50.411 | INFO     | src.data.data_manager:get_historical_data:64 - Fetching historical OHLCV data for ['Bitstamp:BTCUSD'] from 2023-01-01 to 2023-06-30\n",
      "2025-08-02 15:12:50.860 | INFO     | src.data.data_manager:_fetch_tradingview_ohlcv_data:159 - Successfully fetched OHLCV data for 1 symbols\n",
      "2025-08-02 15:12:50.861 | INFO     | src.data.data_manager:get_historical_data:97 - OHLCV data cached successfully\n",
      "2025-08-02 15:12:50.864 | INFO     | src.data.data_manager:ensure_ohlcv_format:500 - Data formatted for Bitstamp:BTCUSD: (100, 5)\n",
      "2025-08-02 15:12:50.865 | INFO     | src.data.data_manager:get_historical_data_standardized:622 - Successfully standardized OHLCV data for 1 symbols\n",
      "2025-08-02 15:12:50.865 | INFO     | src.backtesting.backtest_engine:run_backtest:65 - Running backtest for strategy: sma_crossover_test\n",
      "2025-08-02 15:12:50.865 | INFO     | src.strategies.base_strategy:reset:99 - Reset strategy: sma_crossover\n",
      "2025-08-02 15:12:50.865 | INFO     | src.risk.risk_manager:__init__:49 - Risk manager initialized\n",
      "2025-08-02 15:12:50.879 | INFO     | src.strategies.sma_crossover:_generate_signal_for_symbol:109 - Golden cross detected for Bitstamp:BTCUSD: 106632.55 > 102431.30\n",
      "2025-08-02 15:12:50.879 | DEBUG    | src.backtesting.backtest_engine:_execute_trades:216 - BUY 0.19 Bitstamp:BTCUSD @ $105454.00\n",
      "2025-08-02 15:12:50.890 | INFO     | src.strategies.sma_crossover:_generate_signal_for_symbol:113 - Death cross detected for Bitstamp:BTCUSD: 105852.50 < 106019.25\n",
      "2025-08-02 15:12:50.891 | DEBUG    | src.backtesting.backtest_engine:_execute_trades:245 - SELL 0.19 Bitstamp:BTCUSD @ $104584.00\n",
      "2025-08-02 15:12:50.898 | INFO     | src.strategies.sma_crossover:_generate_signal_for_symbol:109 - Golden cross detected for Bitstamp:BTCUSD: 106201.80 > 106161.60\n",
      "2025-08-02 15:12:50.899 | DEBUG    | src.backtesting.backtest_engine:_execute_trades:216 - BUY 0.18 Bitstamp:BTCUSD @ $108240.00\n",
      "2025-08-02 15:12:50.912 | INFO     | src.strategies.base_strategy:__init__:34 - Initialized strategy: sma_crossover\n",
      "2025-08-02 15:12:50.912 | INFO     | src.strategies.sma_crossover:__init__:48 - SMA Crossover Strategy initialized: 20/80\n",
      "2025-08-02 15:12:50.912 | INFO     | src.backtesting.backtest_engine:run_backtest:53 - Starting backtest from 2023-01-01 to 2023-06-30\n",
      "2025-08-02 15:12:50.912 | INFO     | src.data.data_manager:get_historical_data_standardized:589 - Fetching standardized OHLCV data for ['Bitstamp:BTCUSD'] from 2023-01-01 to 2023-06-30\n",
      "2025-08-02 15:12:50.912 | INFO     | src.data.data_manager:get_historical_data:64 - Fetching historical OHLCV data for ['Bitstamp:BTCUSD'] from 2023-01-01 to 2023-06-30\n",
      "2025-08-02 15:12:51.364 | INFO     | src.data.data_manager:_fetch_tradingview_ohlcv_data:159 - Successfully fetched OHLCV data for 1 symbols\n",
      "2025-08-02 15:12:51.365 | INFO     | src.data.data_manager:get_historical_data:97 - OHLCV data cached successfully\n",
      "2025-08-02 15:12:51.367 | INFO     | src.data.data_manager:ensure_ohlcv_format:500 - Data formatted for Bitstamp:BTCUSD: (100, 5)\n",
      "2025-08-02 15:12:51.368 | INFO     | src.data.data_manager:get_historical_data_standardized:622 - Successfully standardized OHLCV data for 1 symbols\n",
      "2025-08-02 15:12:51.368 | INFO     | src.backtesting.backtest_engine:run_backtest:65 - Running backtest for strategy: sma_crossover_test\n",
      "2025-08-02 15:12:51.368 | INFO     | src.strategies.base_strategy:reset:99 - Reset strategy: sma_crossover\n",
      "2025-08-02 15:12:51.368 | INFO     | src.risk.risk_manager:__init__:49 - Risk manager initialized\n",
      "2025-08-02 15:12:51.384 | INFO     | src.strategies.sma_crossover:_generate_signal_for_symbol:109 - Golden cross detected for Bitstamp:BTCUSD: 106494.15 > 103209.72\n",
      "2025-08-02 15:12:51.384 | DEBUG    | src.backtesting.backtest_engine:_execute_trades:216 - BUY 0.19 Bitstamp:BTCUSD @ $106118.00\n",
      "2025-08-02 15:12:51.395 | INFO     | src.strategies.sma_crossover:_generate_signal_for_symbol:113 - Death cross detected for Bitstamp:BTCUSD: 105912.10 < 105957.98\n",
      "2025-08-02 15:12:51.395 | DEBUG    | src.backtesting.backtest_engine:_execute_trades:245 - SELL 0.19 Bitstamp:BTCUSD @ $108384.00\n",
      "2025-08-02 15:12:51.399 | INFO     | src.strategies.sma_crossover:_generate_signal_for_symbol:109 - Golden cross detected for Bitstamp:BTCUSD: 106708.40 > 106697.50\n",
      "2025-08-02 15:12:51.399 | DEBUG    | src.backtesting.backtest_engine:_execute_trades:216 - BUY 0.18 Bitstamp:BTCUSD @ $108947.00\n",
      "2025-08-02 15:12:51.412 | INFO     | src.strategies.base_strategy:__init__:34 - Initialized strategy: sma_crossover\n",
      "2025-08-02 15:12:51.412 | INFO     | src.strategies.sma_crossover:__init__:48 - SMA Crossover Strategy initialized: 20/90\n",
      "2025-08-02 15:12:51.412 | INFO     | src.backtesting.backtest_engine:run_backtest:53 - Starting backtest from 2023-01-01 to 2023-06-30\n",
      "2025-08-02 15:12:51.412 | INFO     | src.data.data_manager:get_historical_data_standardized:589 - Fetching standardized OHLCV data for ['Bitstamp:BTCUSD'] from 2023-01-01 to 2023-06-30\n",
      "2025-08-02 15:12:51.412 | INFO     | src.data.data_manager:get_historical_data:64 - Fetching historical OHLCV data for ['Bitstamp:BTCUSD'] from 2023-01-01 to 2023-06-30\n",
      "2025-08-02 15:12:51.854 | INFO     | src.data.data_manager:_fetch_tradingview_ohlcv_data:159 - Successfully fetched OHLCV data for 1 symbols\n",
      "2025-08-02 15:12:51.855 | INFO     | src.data.data_manager:get_historical_data:97 - OHLCV data cached successfully\n",
      "2025-08-02 15:12:51.857 | INFO     | src.data.data_manager:ensure_ohlcv_format:500 - Data formatted for Bitstamp:BTCUSD: (100, 5)\n",
      "2025-08-02 15:12:51.858 | INFO     | src.data.data_manager:get_historical_data_standardized:622 - Successfully standardized OHLCV data for 1 symbols\n",
      "2025-08-02 15:12:51.858 | INFO     | src.backtesting.backtest_engine:run_backtest:65 - Running backtest for strategy: sma_crossover_test\n",
      "2025-08-02 15:12:51.858 | INFO     | src.strategies.base_strategy:reset:99 - Reset strategy: sma_crossover\n",
      "2025-08-02 15:12:51.858 | INFO     | src.risk.risk_manager:__init__:49 - Risk manager initialized\n",
      "2025-08-02 15:12:51.881 | INFO     | src.strategies.sma_crossover:_generate_signal_for_symbol:109 - Golden cross detected for Bitstamp:BTCUSD: 105363.60 > 103408.73\n",
      "2025-08-02 15:12:51.881 | DEBUG    | src.backtesting.backtest_engine:_execute_trades:216 - BUY 0.19 Bitstamp:BTCUSD @ $105464.00\n",
      "2025-08-02 15:12:51.905 | INFO     | src.strategies.base_strategy:__init__:34 - Initialized strategy: sma_crossover\n",
      "2025-08-02 15:12:51.905 | INFO     | src.strategies.sma_crossover:__init__:48 - SMA Crossover Strategy initialized: 20/100\n",
      "2025-08-02 15:12:51.905 | INFO     | src.backtesting.backtest_engine:run_backtest:53 - Starting backtest from 2023-01-01 to 2023-06-30\n",
      "2025-08-02 15:12:51.905 | INFO     | src.data.data_manager:get_historical_data_standardized:589 - Fetching standardized OHLCV data for ['Bitstamp:BTCUSD'] from 2023-01-01 to 2023-06-30\n",
      "2025-08-02 15:12:51.905 | INFO     | src.data.data_manager:get_historical_data:64 - Fetching historical OHLCV data for ['Bitstamp:BTCUSD'] from 2023-01-01 to 2023-06-30\n",
      "2025-08-02 15:12:52.351 | INFO     | src.data.data_manager:_fetch_tradingview_ohlcv_data:159 - Successfully fetched OHLCV data for 1 symbols\n",
      "2025-08-02 15:12:52.352 | INFO     | src.data.data_manager:get_historical_data:97 - OHLCV data cached successfully\n",
      "2025-08-02 15:12:52.353 | INFO     | src.data.data_manager:ensure_ohlcv_format:500 - Data formatted for Bitstamp:BTCUSD: (100, 5)\n",
      "2025-08-02 15:12:52.354 | INFO     | src.data.data_manager:get_historical_data_standardized:622 - Successfully standardized OHLCV data for 1 symbols\n",
      "2025-08-02 15:12:52.354 | INFO     | src.backtesting.backtest_engine:run_backtest:65 - Running backtest for strategy: sma_crossover_test\n",
      "2025-08-02 15:12:52.354 | INFO     | src.strategies.base_strategy:reset:99 - Reset strategy: sma_crossover\n",
      "2025-08-02 15:12:52.354 | INFO     | src.risk.risk_manager:__init__:49 - Risk manager initialized\n",
      "2025-08-02 15:12:52.376 | INFO     | src.strategies.sma_crossover:_generate_signal_for_symbol:109 - Golden cross detected for Bitstamp:BTCUSD: 105942.20 > 103990.43\n",
      "2025-08-02 15:12:52.376 | DEBUG    | src.backtesting.backtest_engine:_execute_trades:216 - BUY 0.18 Bitstamp:BTCUSD @ $109648.00\n",
      "2025-08-02 15:12:52.392 | INFO     | src.strategies.base_strategy:__init__:34 - Initialized strategy: sma_crossover\n",
      "2025-08-02 15:12:52.392 | INFO     | src.strategies.sma_crossover:__init__:48 - SMA Crossover Strategy initialized: 25/30\n",
      "2025-08-02 15:12:52.393 | INFO     | src.backtesting.backtest_engine:run_backtest:53 - Starting backtest from 2023-01-01 to 2023-06-30\n",
      "2025-08-02 15:12:52.393 | INFO     | src.data.data_manager:get_historical_data_standardized:589 - Fetching standardized OHLCV data for ['Bitstamp:BTCUSD'] from 2023-01-01 to 2023-06-30\n",
      "2025-08-02 15:12:52.393 | INFO     | src.data.data_manager:get_historical_data:64 - Fetching historical OHLCV data for ['Bitstamp:BTCUSD'] from 2023-01-01 to 2023-06-30\n",
      "2025-08-02 15:12:52.845 | INFO     | src.data.data_manager:_fetch_tradingview_ohlcv_data:159 - Successfully fetched OHLCV data for 1 symbols\n",
      "2025-08-02 15:12:52.845 | INFO     | src.data.data_manager:get_historical_data:97 - OHLCV data cached successfully\n",
      "2025-08-02 15:12:52.848 | INFO     | src.data.data_manager:ensure_ohlcv_format:500 - Data formatted for Bitstamp:BTCUSD: (100, 5)\n",
      "2025-08-02 15:12:52.848 | INFO     | src.data.data_manager:get_historical_data_standardized:622 - Successfully standardized OHLCV data for 1 symbols\n",
      "2025-08-02 15:12:52.849 | INFO     | src.backtesting.backtest_engine:run_backtest:65 - Running backtest for strategy: sma_crossover_test\n",
      "2025-08-02 15:12:52.849 | INFO     | src.strategies.base_strategy:reset:99 - Reset strategy: sma_crossover\n",
      "2025-08-02 15:12:52.849 | INFO     | src.risk.risk_manager:__init__:49 - Risk manager initialized\n",
      "2025-08-02 15:12:52.866 | INFO     | src.strategies.sma_crossover:_generate_signal_for_symbol:109 - Golden cross detected for Bitstamp:BTCUSD: 109952.10 > 105044.57\n",
      "2025-08-02 15:12:52.867 | DEBUG    | src.backtesting.backtest_engine:_execute_trades:216 - BUY 0.17 Bitstamp:BTCUSD @ $119135.00\n",
      "\u001b[32m2025-08-02 15:12:52.876\u001b[0m | \u001b[1mINFO    \u001b[0m | \u001b[36msrc.optimization.optimizer\u001b[0m:\u001b[36m_optimize_parallel\u001b[0m:\u001b[36m149\u001b[0m - \u001b[1mCompleted 30/48 combinations\u001b[0m\n",
      "2025-08-02 15:12:52.876 | INFO     | src.strategies.base_strategy:__init__:34 - Initialized strategy: sma_crossover\n",
      "2025-08-02 15:12:52.876 | INFO     | src.strategies.sma_crossover:__init__:48 - SMA Crossover Strategy initialized: 25/40\n",
      "2025-08-02 15:12:52.876 | INFO     | src.backtesting.backtest_engine:run_backtest:53 - Starting backtest from 2023-01-01 to 2023-06-30\n",
      "2025-08-02 15:12:52.876 | INFO     | src.data.data_manager:get_historical_data_standardized:589 - Fetching standardized OHLCV data for ['Bitstamp:BTCUSD'] from 2023-01-01 to 2023-06-30\n",
      "2025-08-02 15:12:52.876 | INFO     | src.data.data_manager:get_historical_data:64 - Fetching historical OHLCV data for ['Bitstamp:BTCUSD'] from 2023-01-01 to 2023-06-30\n",
      "2025-08-02 15:12:53.346 | INFO     | src.data.data_manager:_fetch_tradingview_ohlcv_data:159 - Successfully fetched OHLCV data for 1 symbols\n",
      "2025-08-02 15:12:53.346 | INFO     | src.data.data_manager:get_historical_data:97 - OHLCV data cached successfully\n",
      "2025-08-02 15:12:53.348 | INFO     | src.data.data_manager:ensure_ohlcv_format:500 - Data formatted for Bitstamp:BTCUSD: (100, 5)\n",
      "2025-08-02 15:12:53.348 | INFO     | src.data.data_manager:get_historical_data_standardized:622 - Successfully standardized OHLCV data for 1 symbols\n",
      "2025-08-02 15:12:53.348 | INFO     | src.backtesting.backtest_engine:run_backtest:65 - Running backtest for strategy: sma_crossover_test\n",
      "2025-08-02 15:12:53.348 | INFO     | src.strategies.base_strategy:reset:99 - Reset strategy: sma_crossover\n",
      "2025-08-02 15:12:53.348 | INFO     | src.risk.risk_manager:__init__:49 - Risk manager initialized\n",
      "2025-08-02 15:12:53.362 | INFO     | src.strategies.sma_crossover:_generate_signal_for_symbol:109 - Golden cross detected for Bitstamp:BTCUSD: 115470.75 > 106541.61\n",
      "2025-08-02 15:12:53.362 | DEBUG    | src.backtesting.backtest_engine:_execute_trades:216 - BUY 0.17 Bitstamp:BTCUSD @ $118813.00\n",
      "2025-08-02 15:12:53.368 | INFO     | src.strategies.base_strategy:__init__:34 - Initialized strategy: sma_crossover\n",
      "2025-08-02 15:12:53.368 | INFO     | src.strategies.sma_crossover:__init__:48 - SMA Crossover Strategy initialized: 25/50\n",
      "2025-08-02 15:12:53.368 | INFO     | src.backtesting.backtest_engine:run_backtest:53 - Starting backtest from 2023-01-01 to 2023-06-30\n",
      "2025-08-02 15:12:53.368 | INFO     | src.data.data_manager:get_historical_data_standardized:589 - Fetching standardized OHLCV data for ['Bitstamp:BTCUSD'] from 2023-01-01 to 2023-06-30\n",
      "2025-08-02 15:12:53.368 | INFO     | src.data.data_manager:get_historical_data:64 - Fetching historical OHLCV data for ['Bitstamp:BTCUSD'] from 2023-01-01 to 2023-06-30\n",
      "2025-08-02 15:12:53.852 | INFO     | src.data.data_manager:_fetch_tradingview_ohlcv_data:159 - Successfully fetched OHLCV data for 1 symbols\n",
      "2025-08-02 15:12:53.853 | INFO     | src.data.data_manager:get_historical_data:97 - OHLCV data cached successfully\n",
      "2025-08-02 15:12:53.854 | INFO     | src.data.data_manager:ensure_ohlcv_format:500 - Data formatted for Bitstamp:BTCUSD: (100, 5)\n",
      "2025-08-02 15:12:53.855 | INFO     | src.data.data_manager:get_historical_data_standardized:622 - Successfully standardized OHLCV data for 1 symbols\n",
      "2025-08-02 15:12:53.855 | INFO     | src.backtesting.backtest_engine:run_backtest:65 - Running backtest for strategy: sma_crossover_test\n",
      "2025-08-02 15:12:53.855 | INFO     | src.strategies.base_strategy:reset:99 - Reset strategy: sma_crossover\n",
      "2025-08-02 15:12:53.855 | INFO     | src.risk.risk_manager:__init__:49 - Risk manager initialized\n",
      "2025-08-02 15:12:53.882 | INFO     | src.strategies.sma_crossover:_generate_signal_for_symbol:109 - Golden cross detected for Bitstamp:BTCUSD: 117766.80 > 107589.02\n",
      "2025-08-02 15:12:53.882 | DEBUG    | src.backtesting.backtest_engine:_execute_trades:216 - BUY 0.18 Bitstamp:BTCUSD @ $113922.00\n",
      "2025-08-02 15:12:53.886 | INFO     | src.strategies.base_strategy:__init__:34 - Initialized strategy: sma_crossover\n",
      "2025-08-02 15:12:53.886 | INFO     | src.strategies.sma_crossover:__init__:48 - SMA Crossover Strategy initialized: 25/60\n",
      "2025-08-02 15:12:53.886 | INFO     | src.backtesting.backtest_engine:run_backtest:53 - Starting backtest from 2023-01-01 to 2023-06-30\n",
      "2025-08-02 15:12:53.886 | INFO     | src.data.data_manager:get_historical_data_standardized:589 - Fetching standardized OHLCV data for ['Bitstamp:BTCUSD'] from 2023-01-01 to 2023-06-30\n",
      "2025-08-02 15:12:53.886 | INFO     | src.data.data_manager:get_historical_data:64 - Fetching historical OHLCV data for ['Bitstamp:BTCUSD'] from 2023-01-01 to 2023-06-30\n",
      "2025-08-02 15:12:54.357 | INFO     | src.data.data_manager:_fetch_tradingview_ohlcv_data:159 - Successfully fetched OHLCV data for 1 symbols\n",
      "2025-08-02 15:12:54.358 | INFO     | src.data.data_manager:get_historical_data:97 - OHLCV data cached successfully\n",
      "2025-08-02 15:12:54.360 | INFO     | src.data.data_manager:ensure_ohlcv_format:500 - Data formatted for Bitstamp:BTCUSD: (100, 5)\n",
      "2025-08-02 15:12:54.361 | INFO     | src.data.data_manager:get_historical_data_standardized:622 - Successfully standardized OHLCV data for 1 symbols\n",
      "2025-08-02 15:12:54.361 | INFO     | src.backtesting.backtest_engine:run_backtest:65 - Running backtest for strategy: sma_crossover_test\n",
      "2025-08-02 15:12:54.361 | INFO     | src.strategies.base_strategy:reset:99 - Reset strategy: sma_crossover\n",
      "2025-08-02 15:12:54.361 | INFO     | src.risk.risk_manager:__init__:49 - Risk manager initialized\n",
      "2025-08-02 15:12:54.372 | INFO     | src.strategies.sma_crossover:_generate_signal_for_symbol:109 - Golden cross detected for Bitstamp:BTCUSD: 102324.80 > 101020.10\n",
      "2025-08-02 15:12:54.372 | DEBUG    | src.backtesting.backtest_engine:_execute_trades:216 - BUY 0.19 Bitstamp:BTCUSD @ $107799.00\n",
      "2025-08-02 15:12:54.379 | INFO     | src.risk.risk_manager:check_stop_loss:155 - Stop loss triggered for Bitstamp:BTCUSD: -5.79%\n",
      "2025-08-02 15:12:54.379 | INFO     | src.backtesting.backtest_engine:_execute_trades:276 - STOP LOSS: 0.19 Bitstamp:BTCUSD @ $101559.00\n",
      "2025-08-02 15:12:54.387 | INFO     | src.strategies.sma_crossover:_generate_signal_for_symbol:113 - Death cross detected for Bitstamp:BTCUSD: 106516.84 < 106778.10\n",
      "2025-08-02 15:12:54.391 | INFO     | src.strategies.sma_crossover:_generate_signal_for_symbol:109 - Golden cross detected for Bitstamp:BTCUSD: 105567.36 > 105565.27\n",
      "2025-08-02 15:12:54.391 | DEBUG    | src.backtesting.backtest_engine:_execute_trades:216 - BUY 0.18 Bitstamp:BTCUSD @ $107004.00\n",
      "2025-08-02 15:12:54.395 | INFO     | src.strategies.sma_crossover:_generate_signal_for_symbol:113 - Death cross detected for Bitstamp:BTCUSD: 106225.76 < 106401.57\n",
      "2025-08-02 15:12:54.395 | DEBUG    | src.backtesting.backtest_engine:_execute_trades:245 - SELL 0.18 Bitstamp:BTCUSD @ $108240.00\n",
      "2025-08-02 15:12:54.398 | INFO     | src.strategies.sma_crossover:_generate_signal_for_symbol:109 - Golden cross detected for Bitstamp:BTCUSD: 107112.84 > 106980.97\n",
      "2025-08-02 15:12:54.398 | DEBUG    | src.backtesting.backtest_engine:_execute_trades:216 - BUY 0.17 Bitstamp:BTCUSD @ $116031.00\n",
      "2025-08-02 15:12:54.410 | INFO     | src.strategies.base_strategy:__init__:34 - Initialized strategy: sma_crossover\n",
      "2025-08-02 15:12:54.410 | INFO     | src.strategies.sma_crossover:__init__:48 - SMA Crossover Strategy initialized: 25/70\n",
      "2025-08-02 15:12:54.410 | INFO     | src.backtesting.backtest_engine:run_backtest:53 - Starting backtest from 2023-01-01 to 2023-06-30\n",
      "2025-08-02 15:12:54.410 | INFO     | src.data.data_manager:get_historical_data_standardized:589 - Fetching standardized OHLCV data for ['Bitstamp:BTCUSD'] from 2023-01-01 to 2023-06-30\n",
      "2025-08-02 15:12:54.410 | INFO     | src.data.data_manager:get_historical_data:64 - Fetching historical OHLCV data for ['Bitstamp:BTCUSD'] from 2023-01-01 to 2023-06-30\n",
      "2025-08-02 15:12:54.852 | INFO     | src.data.data_manager:_fetch_tradingview_ohlcv_data:159 - Successfully fetched OHLCV data for 1 symbols\n",
      "2025-08-02 15:12:54.853 | INFO     | src.data.data_manager:get_historical_data:97 - OHLCV data cached successfully\n",
      "2025-08-02 15:12:54.854 | INFO     | src.data.data_manager:ensure_ohlcv_format:500 - Data formatted for Bitstamp:BTCUSD: (100, 5)\n",
      "2025-08-02 15:12:54.855 | INFO     | src.data.data_manager:get_historical_data_standardized:622 - Successfully standardized OHLCV data for 1 symbols\n",
      "2025-08-02 15:12:54.855 | INFO     | src.backtesting.backtest_engine:run_backtest:65 - Running backtest for strategy: sma_crossover_test\n",
      "2025-08-02 15:12:54.855 | INFO     | src.strategies.base_strategy:reset:99 - Reset strategy: sma_crossover\n",
      "2025-08-02 15:12:54.855 | INFO     | src.risk.risk_manager:__init__:49 - Risk manager initialized\n",
      "2025-08-02 15:12:54.867 | INFO     | src.strategies.sma_crossover:_generate_signal_for_symbol:109 - Golden cross detected for Bitstamp:BTCUSD: 106082.04 > 102431.30\n",
      "2025-08-02 15:12:54.867 | DEBUG    | src.backtesting.backtest_engine:_execute_trades:216 - BUY 0.19 Bitstamp:BTCUSD @ $105454.00\n",
      "2025-08-02 15:12:54.879 | INFO     | src.strategies.sma_crossover:_generate_signal_for_symbol:113 - Death cross detected for Bitstamp:BTCUSD: 105870.68 < 106044.18\n",
      "2025-08-02 15:12:54.879 | DEBUG    | src.backtesting.backtest_engine:_execute_trades:245 - SELL 0.19 Bitstamp:BTCUSD @ $103316.00\n",
      "2025-08-02 15:12:54.885 | INFO     | src.strategies.sma_crossover:_generate_signal_for_symbol:109 - Golden cross detected for Bitstamp:BTCUSD: 106244.56 > 106171.95\n",
      "2025-08-02 15:12:54.886 | DEBUG    | src.backtesting.backtest_engine:_execute_trades:216 - BUY 0.18 Bitstamp:BTCUSD @ $108885.00\n",
      "2025-08-02 15:12:54.902 | INFO     | src.strategies.base_strategy:__init__:34 - Initialized strategy: sma_crossover\n",
      "2025-08-02 15:12:54.902 | INFO     | src.strategies.sma_crossover:__init__:48 - SMA Crossover Strategy initialized: 25/80\n",
      "2025-08-02 15:12:54.902 | INFO     | src.backtesting.backtest_engine:run_backtest:53 - Starting backtest from 2023-01-01 to 2023-06-30\n",
      "2025-08-02 15:12:54.902 | INFO     | src.data.data_manager:get_historical_data_standardized:589 - Fetching standardized OHLCV data for ['Bitstamp:BTCUSD'] from 2023-01-01 to 2023-06-30\n",
      "2025-08-02 15:12:54.902 | INFO     | src.data.data_manager:get_historical_data:64 - Fetching historical OHLCV data for ['Bitstamp:BTCUSD'] from 2023-01-01 to 2023-06-30\n",
      "2025-08-02 15:12:55.353 | INFO     | src.data.data_manager:_fetch_tradingview_ohlcv_data:159 - Successfully fetched OHLCV data for 1 symbols\n",
      "2025-08-02 15:12:55.354 | INFO     | src.data.data_manager:get_historical_data:97 - OHLCV data cached successfully\n",
      "2025-08-02 15:12:55.356 | INFO     | src.data.data_manager:ensure_ohlcv_format:500 - Data formatted for Bitstamp:BTCUSD: (100, 5)\n",
      "2025-08-02 15:12:55.356 | INFO     | src.data.data_manager:get_historical_data_standardized:622 - Successfully standardized OHLCV data for 1 symbols\n",
      "2025-08-02 15:12:55.356 | INFO     | src.backtesting.backtest_engine:run_backtest:65 - Running backtest for strategy: sma_crossover_test\n",
      "2025-08-02 15:12:55.356 | INFO     | src.strategies.base_strategy:reset:99 - Reset strategy: sma_crossover\n",
      "2025-08-02 15:12:55.356 | INFO     | src.risk.risk_manager:__init__:49 - Risk manager initialized\n",
      "2025-08-02 15:12:55.372 | INFO     | src.strategies.sma_crossover:_generate_signal_for_symbol:109 - Golden cross detected for Bitstamp:BTCUSD: 106931.64 > 103209.72\n",
      "2025-08-02 15:12:55.373 | DEBUG    | src.backtesting.backtest_engine:_execute_trades:216 - BUY 0.19 Bitstamp:BTCUSD @ $106118.00\n",
      "2025-08-02 15:12:55.381 | INFO     | src.strategies.sma_crossover:_generate_signal_for_symbol:113 - Death cross detected for Bitstamp:BTCUSD: 105515.40 < 105523.56\n",
      "2025-08-02 15:12:55.381 | DEBUG    | src.backtesting.backtest_engine:_execute_trades:245 - SELL 0.19 Bitstamp:BTCUSD @ $107418.00\n",
      "2025-08-02 15:12:55.384 | INFO     | src.strategies.sma_crossover:_generate_signal_for_symbol:109 - Golden cross detected for Bitstamp:BTCUSD: 106061.28 > 106018.98\n",
      "2025-08-02 15:12:55.384 | DEBUG    | src.backtesting.backtest_engine:_execute_trades:216 - BUY 0.19 Bitstamp:BTCUSD @ $107179.00\n",
      "2025-08-02 15:12:55.386 | INFO     | src.strategies.sma_crossover:_generate_signal_for_symbol:113 - Death cross detected for Bitstamp:BTCUSD: 106307.84 < 106379.38\n",
      "2025-08-02 15:12:55.386 | DEBUG    | src.backtesting.backtest_engine:_execute_trades:245 - SELL 0.19 Bitstamp:BTCUSD @ $108033.00\n",
      "2025-08-02 15:12:55.388 | INFO     | src.strategies.sma_crossover:_generate_signal_for_symbol:109 - Golden cross detected for Bitstamp:BTCUSD: 107112.84 > 106913.12\n",
      "2025-08-02 15:12:55.388 | DEBUG    | src.backtesting.backtest_engine:_execute_trades:216 - BUY 0.17 Bitstamp:BTCUSD @ $116031.00\n",
      "2025-08-02 15:12:55.401 | INFO     | src.strategies.base_strategy:__init__:34 - Initialized strategy: sma_crossover\n",
      "2025-08-02 15:12:55.401 | INFO     | src.strategies.sma_crossover:__init__:48 - SMA Crossover Strategy initialized: 25/90\n",
      "2025-08-02 15:12:55.401 | INFO     | src.backtesting.backtest_engine:run_backtest:53 - Starting backtest from 2023-01-01 to 2023-06-30\n",
      "2025-08-02 15:12:55.401 | INFO     | src.data.data_manager:get_historical_data_standardized:589 - Fetching standardized OHLCV data for ['Bitstamp:BTCUSD'] from 2023-01-01 to 2023-06-30\n",
      "2025-08-02 15:12:55.401 | INFO     | src.data.data_manager:get_historical_data:64 - Fetching historical OHLCV data for ['Bitstamp:BTCUSD'] from 2023-01-01 to 2023-06-30\n",
      "2025-08-02 15:12:55.848 | INFO     | src.data.data_manager:_fetch_tradingview_ohlcv_data:159 - Successfully fetched OHLCV data for 1 symbols\n",
      "2025-08-02 15:12:55.849 | INFO     | src.data.data_manager:get_historical_data:97 - OHLCV data cached successfully\n",
      "2025-08-02 15:12:55.850 | INFO     | src.data.data_manager:ensure_ohlcv_format:500 - Data formatted for Bitstamp:BTCUSD: (100, 5)\n",
      "2025-08-02 15:12:55.851 | INFO     | src.data.data_manager:get_historical_data_standardized:622 - Successfully standardized OHLCV data for 1 symbols\n",
      "2025-08-02 15:12:55.851 | INFO     | src.backtesting.backtest_engine:run_backtest:65 - Running backtest for strategy: sma_crossover_test\n",
      "2025-08-02 15:12:55.851 | INFO     | src.strategies.base_strategy:reset:99 - Reset strategy: sma_crossover\n",
      "2025-08-02 15:12:55.851 | INFO     | src.risk.risk_manager:__init__:49 - Risk manager initialized\n",
      "2025-08-02 15:12:55.863 | INFO     | src.strategies.sma_crossover:_generate_signal_for_symbol:109 - Golden cross detected for Bitstamp:BTCUSD: 105320.64 > 103408.73\n",
      "2025-08-02 15:12:55.863 | DEBUG    | src.backtesting.backtest_engine:_execute_trades:216 - BUY 0.19 Bitstamp:BTCUSD @ $105464.00\n",
      "2025-08-02 15:12:55.883 | INFO     | src.strategies.base_strategy:__init__:34 - Initialized strategy: sma_crossover\n",
      "2025-08-02 15:12:55.883 | INFO     | src.strategies.sma_crossover:__init__:48 - SMA Crossover Strategy initialized: 25/100\n",
      "2025-08-02 15:12:55.883 | INFO     | src.backtesting.backtest_engine:run_backtest:53 - Starting backtest from 2023-01-01 to 2023-06-30\n",
      "2025-08-02 15:12:55.883 | INFO     | src.data.data_manager:get_historical_data_standardized:589 - Fetching standardized OHLCV data for ['Bitstamp:BTCUSD'] from 2023-01-01 to 2023-06-30\n",
      "2025-08-02 15:12:55.883 | INFO     | src.data.data_manager:get_historical_data:64 - Fetching historical OHLCV data for ['Bitstamp:BTCUSD'] from 2023-01-01 to 2023-06-30\n",
      "2025-08-02 15:12:56.360 | INFO     | src.data.data_manager:_fetch_tradingview_ohlcv_data:159 - Successfully fetched OHLCV data for 1 symbols\n",
      "2025-08-02 15:12:56.361 | INFO     | src.data.data_manager:get_historical_data:97 - OHLCV data cached successfully\n",
      "2025-08-02 15:12:56.364 | INFO     | src.data.data_manager:ensure_ohlcv_format:500 - Data formatted for Bitstamp:BTCUSD: (100, 5)\n",
      "2025-08-02 15:12:56.364 | INFO     | src.data.data_manager:get_historical_data_standardized:622 - Successfully standardized OHLCV data for 1 symbols\n",
      "2025-08-02 15:12:56.364 | INFO     | src.backtesting.backtest_engine:run_backtest:65 - Running backtest for strategy: sma_crossover_test\n",
      "2025-08-02 15:12:56.365 | INFO     | src.strategies.base_strategy:reset:99 - Reset strategy: sma_crossover\n",
      "2025-08-02 15:12:56.365 | INFO     | src.risk.risk_manager:__init__:49 - Risk manager initialized\n",
      "2025-08-02 15:12:56.388 | INFO     | src.strategies.sma_crossover:_generate_signal_for_symbol:109 - Golden cross detected for Bitstamp:BTCUSD: 106398.80 > 103990.43\n",
      "2025-08-02 15:12:56.388 | DEBUG    | src.backtesting.backtest_engine:_execute_trades:216 - BUY 0.18 Bitstamp:BTCUSD @ $109648.00\n",
      "2025-08-02 15:12:56.405 | INFO     | src.strategies.base_strategy:__init__:34 - Initialized strategy: sma_crossover\n",
      "2025-08-02 15:12:56.406 | ERROR    | src.optimization.optimizer:_test_parameter_combination:192 - Error testing parameters {'short_window': 30, 'long_window': 30}: Short window must be less than long window\n",
      "2025-08-02 15:12:56.406 | INFO     | src.strategies.base_strategy:__init__:34 - Initialized strategy: sma_crossover\n",
      "2025-08-02 15:12:56.406 | INFO     | src.strategies.sma_crossover:__init__:48 - SMA Crossover Strategy initialized: 30/40\n",
      "2025-08-02 15:12:56.406 | INFO     | src.backtesting.backtest_engine:run_backtest:53 - Starting backtest from 2023-01-01 to 2023-06-30\n",
      "2025-08-02 15:12:56.406 | INFO     | src.data.data_manager:get_historical_data_standardized:589 - Fetching standardized OHLCV data for ['Bitstamp:BTCUSD'] from 2023-01-01 to 2023-06-30\n",
      "2025-08-02 15:12:56.406 | INFO     | src.data.data_manager:get_historical_data:64 - Fetching historical OHLCV data for ['Bitstamp:BTCUSD'] from 2023-01-01 to 2023-06-30\n",
      "2025-08-02 15:12:56.856 | INFO     | src.data.data_manager:_fetch_tradingview_ohlcv_data:159 - Successfully fetched OHLCV data for 1 symbols\n",
      "2025-08-02 15:12:56.857 | INFO     | src.data.data_manager:get_historical_data:97 - OHLCV data cached successfully\n",
      "2025-08-02 15:12:56.860 | INFO     | src.data.data_manager:ensure_ohlcv_format:500 - Data formatted for Bitstamp:BTCUSD: (100, 5)\n",
      "2025-08-02 15:12:56.860 | INFO     | src.data.data_manager:get_historical_data_standardized:622 - Successfully standardized OHLCV data for 1 symbols\n",
      "2025-08-02 15:12:56.861 | INFO     | src.backtesting.backtest_engine:run_backtest:65 - Running backtest for strategy: sma_crossover_test\n",
      "2025-08-02 15:12:56.861 | INFO     | src.strategies.base_strategy:reset:99 - Reset strategy: sma_crossover\n",
      "2025-08-02 15:12:56.861 | INFO     | src.risk.risk_manager:__init__:49 - Risk manager initialized\n",
      "2025-08-02 15:12:56.888 | INFO     | src.strategies.sma_crossover:_generate_signal_for_symbol:109 - Golden cross detected for Bitstamp:BTCUSD: 108626.56 > 105044.57\n",
      "2025-08-02 15:12:56.888 | DEBUG    | src.backtesting.backtest_engine:_execute_trades:216 - BUY 0.17 Bitstamp:BTCUSD @ $119135.00\n",
      "2025-08-02 15:12:56.901 | INFO     | src.strategies.base_strategy:__init__:34 - Initialized strategy: sma_crossover\n",
      "2025-08-02 15:12:56.901 | INFO     | src.strategies.sma_crossover:__init__:48 - SMA Crossover Strategy initialized: 30/50\n",
      "2025-08-02 15:12:56.901 | INFO     | src.backtesting.backtest_engine:run_backtest:53 - Starting backtest from 2023-01-01 to 2023-06-30\n",
      "2025-08-02 15:12:56.901 | INFO     | src.data.data_manager:get_historical_data_standardized:589 - Fetching standardized OHLCV data for ['Bitstamp:BTCUSD'] from 2023-01-01 to 2023-06-30\n",
      "2025-08-02 15:12:56.901 | INFO     | src.data.data_manager:get_historical_data:64 - Fetching historical OHLCV data for ['Bitstamp:BTCUSD'] from 2023-01-01 to 2023-06-30\n",
      "2025-08-02 15:12:57.355 | INFO     | src.data.data_manager:_fetch_tradingview_ohlcv_data:159 - Successfully fetched OHLCV data for 1 symbols\n",
      "2025-08-02 15:12:57.356 | INFO     | src.data.data_manager:get_historical_data:97 - OHLCV data cached successfully\n",
      "2025-08-02 15:12:57.358 | INFO     | src.data.data_manager:ensure_ohlcv_format:500 - Data formatted for Bitstamp:BTCUSD: (100, 5)\n",
      "2025-08-02 15:12:57.358 | INFO     | src.data.data_manager:get_historical_data_standardized:622 - Successfully standardized OHLCV data for 1 symbols\n",
      "2025-08-02 15:12:57.358 | INFO     | src.backtesting.backtest_engine:run_backtest:65 - Running backtest for strategy: sma_crossover_test\n",
      "2025-08-02 15:12:57.358 | INFO     | src.strategies.base_strategy:reset:99 - Reset strategy: sma_crossover\n",
      "2025-08-02 15:12:57.358 | INFO     | src.risk.risk_manager:__init__:49 - Risk manager initialized\n",
      "2025-08-02 15:12:57.388 | INFO     | src.strategies.sma_crossover:_generate_signal_for_symbol:109 - Golden cross detected for Bitstamp:BTCUSD: 113968.80 > 106541.61\n",
      "2025-08-02 15:12:57.388 | DEBUG    | src.backtesting.backtest_engine:_execute_trades:216 - BUY 0.17 Bitstamp:BTCUSD @ $118813.00\n",
      "\u001b[32m2025-08-02 15:12:57.397\u001b[0m | \u001b[1mINFO    \u001b[0m | \u001b[36msrc.optimization.optimizer\u001b[0m:\u001b[36m_optimize_parallel\u001b[0m:\u001b[36m149\u001b[0m - \u001b[1mCompleted 40/48 combinations\u001b[0m\n",
      "2025-08-02 15:12:57.396 | INFO     | src.strategies.base_strategy:__init__:34 - Initialized strategy: sma_crossover\n",
      "2025-08-02 15:12:57.396 | INFO     | src.strategies.sma_crossover:__init__:48 - SMA Crossover Strategy initialized: 30/60\n",
      "2025-08-02 15:12:57.396 | INFO     | src.backtesting.backtest_engine:run_backtest:53 - Starting backtest from 2023-01-01 to 2023-06-30\n",
      "2025-08-02 15:12:57.397 | INFO     | src.data.data_manager:get_historical_data_standardized:589 - Fetching standardized OHLCV data for ['Bitstamp:BTCUSD'] from 2023-01-01 to 2023-06-30\n",
      "2025-08-02 15:12:57.397 | INFO     | src.data.data_manager:get_historical_data:64 - Fetching historical OHLCV data for ['Bitstamp:BTCUSD'] from 2023-01-01 to 2023-06-30\n",
      "2025-08-02 15:12:57.853 | INFO     | src.data.data_manager:_fetch_tradingview_ohlcv_data:159 - Successfully fetched OHLCV data for 1 symbols\n",
      "2025-08-02 15:12:57.854 | INFO     | src.data.data_manager:get_historical_data:97 - OHLCV data cached successfully\n",
      "2025-08-02 15:12:57.856 | INFO     | src.data.data_manager:ensure_ohlcv_format:500 - Data formatted for Bitstamp:BTCUSD: (100, 5)\n",
      "2025-08-02 15:12:57.856 | INFO     | src.data.data_manager:get_historical_data_standardized:622 - Successfully standardized OHLCV data for 1 symbols\n",
      "2025-08-02 15:12:57.856 | INFO     | src.backtesting.backtest_engine:run_backtest:65 - Running backtest for strategy: sma_crossover_test\n",
      "2025-08-02 15:12:57.856 | INFO     | src.strategies.base_strategy:reset:99 - Reset strategy: sma_crossover\n",
      "2025-08-02 15:12:57.856 | INFO     | src.risk.risk_manager:__init__:49 - Risk manager initialized\n",
      "2025-08-02 15:12:57.886 | INFO     | src.strategies.sma_crossover:_generate_signal_for_symbol:109 - Golden cross detected for Bitstamp:BTCUSD: 117473.28 > 107589.02\n",
      "2025-08-02 15:12:57.886 | DEBUG    | src.backtesting.backtest_engine:_execute_trades:216 - BUY 0.18 Bitstamp:BTCUSD @ $113922.00\n",
      "2025-08-02 15:12:57.889 | INFO     | src.strategies.base_strategy:__init__:34 - Initialized strategy: sma_crossover\n",
      "2025-08-02 15:12:57.889 | INFO     | src.strategies.sma_crossover:__init__:48 - SMA Crossover Strategy initialized: 30/70\n",
      "2025-08-02 15:12:57.889 | INFO     | src.backtesting.backtest_engine:run_backtest:53 - Starting backtest from 2023-01-01 to 2023-06-30\n",
      "2025-08-02 15:12:57.889 | INFO     | src.data.data_manager:get_historical_data_standardized:589 - Fetching standardized OHLCV data for ['Bitstamp:BTCUSD'] from 2023-01-01 to 2023-06-30\n",
      "2025-08-02 15:12:57.889 | INFO     | src.data.data_manager:get_historical_data:64 - Fetching historical OHLCV data for ['Bitstamp:BTCUSD'] from 2023-01-01 to 2023-06-30\n",
      "2025-08-02 15:12:58.853 | INFO     | src.data.data_manager:_fetch_tradingview_ohlcv_data:159 - Successfully fetched OHLCV data for 1 symbols\n",
      "2025-08-02 15:12:58.853 | INFO     | src.data.data_manager:get_historical_data:97 - OHLCV data cached successfully\n",
      "2025-08-02 15:12:58.855 | INFO     | src.data.data_manager:ensure_ohlcv_format:500 - Data formatted for Bitstamp:BTCUSD: (100, 5)\n",
      "2025-08-02 15:12:58.855 | INFO     | src.data.data_manager:get_historical_data_standardized:622 - Successfully standardized OHLCV data for 1 symbols\n",
      "2025-08-02 15:12:58.855 | INFO     | src.backtesting.backtest_engine:run_backtest:65 - Running backtest for strategy: sma_crossover_test\n",
      "2025-08-02 15:12:58.855 | INFO     | src.strategies.base_strategy:reset:99 - Reset strategy: sma_crossover\n",
      "2025-08-02 15:12:58.855 | INFO     | src.risk.risk_manager:__init__:49 - Risk manager initialized\n",
      "2025-08-02 15:12:58.868 | INFO     | src.strategies.sma_crossover:_generate_signal_for_symbol:109 - Golden cross detected for Bitstamp:BTCUSD: 106529.50 > 103209.72\n",
      "2025-08-02 15:12:58.868 | DEBUG    | src.backtesting.backtest_engine:_execute_trades:216 - BUY 0.19 Bitstamp:BTCUSD @ $106118.00\n",
      "2025-08-02 15:12:58.877 | INFO     | src.strategies.sma_crossover:_generate_signal_for_symbol:113 - Death cross detected for Bitstamp:BTCUSD: 105565.27 < 105722.56\n",
      "2025-08-02 15:12:58.877 | DEBUG    | src.backtesting.backtest_engine:_execute_trades:245 - SELL 0.19 Bitstamp:BTCUSD @ $107004.00\n",
      "2025-08-02 15:12:58.884 | INFO     | src.strategies.sma_crossover:_generate_signal_for_symbol:109 - Golden cross detected for Bitstamp:BTCUSD: 106651.83 > 106631.00\n",
      "2025-08-02 15:12:58.884 | DEBUG    | src.backtesting.backtest_engine:_execute_trades:216 - BUY 0.18 Bitstamp:BTCUSD @ $108287.00\n",
      "2025-08-02 15:12:58.901 | INFO     | src.strategies.base_strategy:__init__:34 - Initialized strategy: sma_crossover\n",
      "2025-08-02 15:12:58.901 | INFO     | src.strategies.sma_crossover:__init__:48 - SMA Crossover Strategy initialized: 30/80\n",
      "2025-08-02 15:12:58.901 | INFO     | src.backtesting.backtest_engine:run_backtest:53 - Starting backtest from 2023-01-01 to 2023-06-30\n",
      "2025-08-02 15:12:58.901 | INFO     | src.data.data_manager:get_historical_data_standardized:589 - Fetching standardized OHLCV data for ['Bitstamp:BTCUSD'] from 2023-01-01 to 2023-06-30\n",
      "2025-08-02 15:12:58.901 | INFO     | src.data.data_manager:get_historical_data:64 - Fetching historical OHLCV data for ['Bitstamp:BTCUSD'] from 2023-01-01 to 2023-06-30\n",
      "2025-08-02 15:12:59.354 | INFO     | src.data.data_manager:_fetch_tradingview_ohlcv_data:159 - Successfully fetched OHLCV data for 1 symbols\n",
      "2025-08-02 15:12:59.354 | INFO     | src.data.data_manager:get_historical_data:97 - OHLCV data cached successfully\n",
      "2025-08-02 15:12:59.356 | INFO     | src.data.data_manager:ensure_ohlcv_format:500 - Data formatted for Bitstamp:BTCUSD: (100, 5)\n",
      "2025-08-02 15:12:59.356 | INFO     | src.data.data_manager:get_historical_data_standardized:622 - Successfully standardized OHLCV data for 1 symbols\n",
      "2025-08-02 15:12:59.356 | INFO     | src.backtesting.backtest_engine:run_backtest:65 - Running backtest for strategy: sma_crossover_test\n",
      "2025-08-02 15:12:59.356 | INFO     | src.strategies.base_strategy:reset:99 - Reset strategy: sma_crossover\n",
      "2025-08-02 15:12:59.356 | INFO     | src.risk.risk_manager:__init__:49 - Risk manager initialized\n",
      "2025-08-02 15:12:59.372 | INFO     | src.strategies.sma_crossover:_generate_signal_for_symbol:109 - Golden cross detected for Bitstamp:BTCUSD: 105797.37 > 103408.73\n",
      "2025-08-02 15:12:59.372 | DEBUG    | src.backtesting.backtest_engine:_execute_trades:216 - BUY 0.19 Bitstamp:BTCUSD @ $105464.00\n",
      "2025-08-02 15:12:59.391 | INFO     | src.strategies.base_strategy:__init__:34 - Initialized strategy: sma_crossover\n",
      "2025-08-02 15:12:59.391 | INFO     | src.strategies.sma_crossover:__init__:48 - SMA Crossover Strategy initialized: 30/90\n",
      "2025-08-02 15:12:59.391 | INFO     | src.backtesting.backtest_engine:run_backtest:53 - Starting backtest from 2023-01-01 to 2023-06-30\n",
      "2025-08-02 15:12:59.391 | INFO     | src.data.data_manager:get_historical_data_standardized:589 - Fetching standardized OHLCV data for ['Bitstamp:BTCUSD'] from 2023-01-01 to 2023-06-30\n",
      "2025-08-02 15:12:59.391 | INFO     | src.data.data_manager:get_historical_data:64 - Fetching historical OHLCV data for ['Bitstamp:BTCUSD'] from 2023-01-01 to 2023-06-30\n",
      "2025-08-02 15:12:59.859 | INFO     | src.data.data_manager:_fetch_tradingview_ohlcv_data:159 - Successfully fetched OHLCV data for 1 symbols\n",
      "2025-08-02 15:12:59.859 | INFO     | src.data.data_manager:get_historical_data:97 - OHLCV data cached successfully\n",
      "2025-08-02 15:12:59.860 | INFO     | src.data.data_manager:ensure_ohlcv_format:500 - Data formatted for Bitstamp:BTCUSD: (100, 5)\n",
      "2025-08-02 15:12:59.860 | INFO     | src.data.data_manager:get_historical_data_standardized:622 - Successfully standardized OHLCV data for 1 symbols\n",
      "2025-08-02 15:12:59.860 | INFO     | src.backtesting.backtest_engine:run_backtest:65 - Running backtest for strategy: sma_crossover_test\n",
      "2025-08-02 15:12:59.860 | INFO     | src.strategies.base_strategy:reset:99 - Reset strategy: sma_crossover\n",
      "2025-08-02 15:12:59.860 | INFO     | src.risk.risk_manager:__init__:49 - Risk manager initialized\n",
      "2025-08-02 15:12:59.896 | INFO     | src.strategies.sma_crossover:_generate_signal_for_symbol:109 - Golden cross detected for Bitstamp:BTCUSD: 106069.27 > 103990.43\n",
      "2025-08-02 15:12:59.897 | DEBUG    | src.backtesting.backtest_engine:_execute_trades:216 - BUY 0.18 Bitstamp:BTCUSD @ $109648.00\n",
      "2025-08-02 15:12:59.908 | INFO     | src.strategies.base_strategy:__init__:34 - Initialized strategy: sma_crossover\n",
      "2025-08-02 15:12:59.908 | INFO     | src.strategies.sma_crossover:__init__:48 - SMA Crossover Strategy initialized: 30/100\n",
      "2025-08-02 15:12:59.908 | INFO     | src.backtesting.backtest_engine:run_backtest:53 - Starting backtest from 2023-01-01 to 2023-06-30\n",
      "2025-08-02 15:12:59.908 | INFO     | src.data.data_manager:get_historical_data_standardized:589 - Fetching standardized OHLCV data for ['Bitstamp:BTCUSD'] from 2023-01-01 to 2023-06-30\n",
      "2025-08-02 15:12:59.908 | INFO     | src.data.data_manager:get_historical_data:64 - Fetching historical OHLCV data for ['Bitstamp:BTCUSD'] from 2023-01-01 to 2023-06-30\n",
      "ERROR:TradingviewData.main:Connection to remote host was lost.\n",
      "ERROR:TradingviewData.main:no data, please check the exchange and symbol\n",
      "2025-08-02 15:13:00.443 | ERROR    | src.data.data_manager:_fetch_tradingview_ohlcv_data:166 - Error fetching OHLCV data from TradingView: 'NoneType' object has no attribute 'reset_index'\n",
      "2025-08-02 15:13:00.443 | ERROR    | src.optimization.optimizer:_test_parameter_combination:192 - Error testing parameters {'short_window': 30, 'long_window': 80}: 'NoneType' object has no attribute 'reset_index'\n",
      "2025-08-02 15:13:00.854 | INFO     | src.data.data_manager:_fetch_tradingview_ohlcv_data:159 - Successfully fetched OHLCV data for 1 symbols\n",
      "2025-08-02 15:13:00.855 | INFO     | src.data.data_manager:get_historical_data:97 - OHLCV data cached successfully\n",
      "2025-08-02 15:13:00.857 | INFO     | src.data.data_manager:ensure_ohlcv_format:500 - Data formatted for Bitstamp:BTCUSD: (100, 5)\n",
      "2025-08-02 15:13:00.857 | INFO     | src.data.data_manager:get_historical_data_standardized:622 - Successfully standardized OHLCV data for 1 symbols\n",
      "2025-08-02 15:13:00.857 | INFO     | src.backtesting.backtest_engine:run_backtest:65 - Running backtest for strategy: sma_crossover_test\n",
      "2025-08-02 15:13:00.857 | INFO     | src.strategies.base_strategy:reset:99 - Reset strategy: sma_crossover\n",
      "2025-08-02 15:13:00.857 | INFO     | src.risk.risk_manager:__init__:49 - Risk manager initialized\n",
      "2025-08-02 15:13:00.885 | INFO     | src.strategies.sma_crossover:_generate_signal_for_symbol:109 - Golden cross detected for Bitstamp:BTCUSD: 112807.37 > 106541.61\n",
      "2025-08-02 15:13:00.886 | DEBUG    | src.backtesting.backtest_engine:_execute_trades:216 - BUY 0.17 Bitstamp:BTCUSD @ $118813.00\n",
      "ERROR:TradingviewData.main:Connection timed out\n",
      "ERROR:TradingviewData.main:no data, please check the exchange and symbol\n",
      "2025-08-02 15:13:03.347 | ERROR    | src.data.data_manager:_fetch_tradingview_ohlcv_data:166 - Error fetching OHLCV data from TradingView: 'NoneType' object has no attribute 'reset_index'\n",
      "2025-08-02 15:13:03.349 | ERROR    | src.optimization.optimizer:_test_parameter_combination:192 - Error testing parameters {'short_window': 30, 'long_window': 40}: 'NoneType' object has no attribute 'reset_index'\n",
      "2025-08-02 15:13:05.676 | INFO     | src.data.data_manager:_fetch_tradingview_ohlcv_data:159 - Successfully fetched OHLCV data for 1 symbols\n",
      "2025-08-02 15:13:05.677 | INFO     | src.data.data_manager:get_historical_data:97 - OHLCV data cached successfully\n",
      "2025-08-02 15:13:05.680 | INFO     | src.data.data_manager:ensure_ohlcv_format:500 - Data formatted for Bitstamp:BTCUSD: (100, 5)\n",
      "2025-08-02 15:13:05.681 | INFO     | src.data.data_manager:get_historical_data_standardized:622 - Successfully standardized OHLCV data for 1 symbols\n",
      "2025-08-02 15:13:05.681 | INFO     | src.backtesting.backtest_engine:run_backtest:65 - Running backtest for strategy: sma_crossover_test\n",
      "2025-08-02 15:13:05.681 | INFO     | src.strategies.base_strategy:reset:99 - Reset strategy: sma_crossover\n",
      "2025-08-02 15:13:05.681 | INFO     | src.risk.risk_manager:__init__:49 - Risk manager initialized\n",
      "2025-08-02 15:13:05.712 | INFO     | src.strategies.sma_crossover:_generate_signal_for_symbol:109 - Golden cross detected for Bitstamp:BTCUSD: 115985.77 > 107589.03\n",
      "2025-08-02 15:13:05.712 | DEBUG    | src.backtesting.backtest_engine:_execute_trades:216 - BUY 0.18 Bitstamp:BTCUSD @ $113923.00\n",
      "\u001b[32m2025-08-02 15:13:06.301\u001b[0m | \u001b[1mINFO    \u001b[0m | \u001b[36msrc.optimization.optimizer\u001b[0m:\u001b[36moptimize_strategy\u001b[0m:\u001b[36m99\u001b[0m - \u001b[1mOptimization completed for sma_crossover\u001b[0m\n",
      "\u001b[32m2025-08-02 15:13:06.302\u001b[0m | \u001b[1mINFO    \u001b[0m | \u001b[36msrc.optimization.optimizer\u001b[0m:\u001b[36moptimize_strategy\u001b[0m:\u001b[36m100\u001b[0m - \u001b[1mBest parameters: {'parameters': {'short_window': 10, 'long_window': 60}, 'metrics': {'total_return': 0.01583959644997357, 'annualized_return': 0.05965229884864942, 'sharpe_ratio': 0.7266163316764024, 'max_drawdown': -0.012492581237808715, 'volatility': 0.028069029884101097, 'win_rate': 0.0, 'profit_factor': 0.0, 'total_trades': 0, 'final_portfolio_value': 101583.95964499735, 'current_drawdown': -0.011239262286793294, 'portfolio_volatility': 0.028069029884101097}, 'rank': 1}\u001b[0m\n",
      "\u001b[32m2025-08-02 15:13:06.302\u001b[0m | \u001b[1mINFO    \u001b[0m | \u001b[36msrc.optimization.optimizer\u001b[0m:\u001b[36moptimize_strategy\u001b[0m:\u001b[36m65\u001b[0m - \u001b[1mStarting optimization for rsi\u001b[0m\n",
      "\u001b[32m2025-08-02 15:13:06.302\u001b[0m | \u001b[1mINFO    \u001b[0m | \u001b[36msrc.optimization.parameter_grid\u001b[0m:\u001b[36mget_parameter_combinations\u001b[0m:\u001b[36m67\u001b[0m - \u001b[1mGenerated 64 parameter combinations for rsi\u001b[0m\n",
      "\u001b[32m2025-08-02 15:13:06.304\u001b[0m | \u001b[1mINFO    \u001b[0m | \u001b[36msrc.optimization.optimizer\u001b[0m:\u001b[36moptimize_strategy\u001b[0m:\u001b[36m73\u001b[0m - \u001b[1mSampled 50 combinations from 50 total\u001b[0m\n"
     ]
    },
    {
     "name": "stdout",
     "output_type": "stream",
     "text": [
      "✅ Optimization completed for sma_crossover\n",
      "Best parameters: {'parameters': {'short_window': 10, 'long_window': 60}, 'metrics': {'total_return': 0.01583959644997357, 'annualized_return': 0.05965229884864942, 'sharpe_ratio': 0.7266163316764024, 'max_drawdown': -0.012492581237808715, 'volatility': 0.028069029884101097, 'win_rate': 0.0, 'profit_factor': 0.0, 'total_trades': 0, 'final_portfolio_value': 101583.95964499735, 'current_drawdown': -0.011239262286793294, 'portfolio_volatility': 0.028069029884101097}, 'rank': 1}\n",
      "Best sharpe_ratio: N/A\n",
      "\n",
      "--- Optimizing RSI ---\n"
     ]
    },
    {
     "name": "stderr",
     "output_type": "stream",
     "text": [
      "2025-08-02 15:13:09.732 | INFO     | src.strategies.base_strategy:__init__:34 - Initialized strategy: rsi\n",
      "2025-08-02 15:13:09.732 | INFO     | src.strategies.rsi_strategy:__init__:56 - RSI Strategy initialized: period=20, overbought=70, oversold=30\n",
      "2025-08-02 15:13:09.732 | INFO     | src.strategies.base_strategy:__init__:34 - Initialized strategy: rsi\n",
      "2025-08-02 15:13:09.732 | INFO     | src.backtesting.backtest_engine:run_backtest:53 - Starting backtest from 2023-01-01 to 2023-06-30\n",
      "2025-08-02 15:13:09.732 | INFO     | src.data.data_manager:get_historical_data_standardized:589 - Fetching standardized OHLCV data for ['Bitstamp:BTCUSD'] from 2023-01-01 to 2023-06-30\n",
      "2025-08-02 15:13:09.732 | INFO     | src.strategies.rsi_strategy:__init__:56 - RSI Strategy initialized: period=10, overbought=70, oversold=30\n",
      "2025-08-02 15:13:09.732 | INFO     | src.data.data_manager:get_historical_data:64 - Fetching historical OHLCV data for ['Bitstamp:BTCUSD'] from 2023-01-01 to 2023-06-30\n",
      "2025-08-02 15:13:09.732 | INFO     | src.backtesting.backtest_engine:run_backtest:53 - Starting backtest from 2023-01-01 to 2023-06-30\n",
      "2025-08-02 15:13:09.732 | INFO     | src.strategies.base_strategy:__init__:34 - Initialized strategy: rsi\n",
      "2025-08-02 15:13:09.733 | INFO     | src.data.data_manager:get_historical_data_standardized:589 - Fetching standardized OHLCV data for ['Bitstamp:BTCUSD'] from 2023-01-01 to 2023-06-30\n",
      "2025-08-02 15:13:09.733 | INFO     | src.data.data_manager:get_historical_data:64 - Fetching historical OHLCV data for ['Bitstamp:BTCUSD'] from 2023-01-01 to 2023-06-30\n",
      "2025-08-02 15:13:09.733 | INFO     | src.strategies.rsi_strategy:__init__:56 - RSI Strategy initialized: period=10, overbought=70, oversold=30\n",
      "2025-08-02 15:13:09.732 | INFO     | src.strategies.base_strategy:__init__:34 - Initialized strategy: rsi\n",
      "2025-08-02 15:13:09.733 | INFO     | src.backtesting.backtest_engine:run_backtest:53 - Starting backtest from 2023-01-01 to 2023-06-30\n",
      "2025-08-02 15:13:09.733 | INFO     | src.data.data_manager:get_historical_data_standardized:589 - Fetching standardized OHLCV data for ['Bitstamp:BTCUSD'] from 2023-01-01 to 2023-06-30\n",
      "2025-08-02 15:13:09.733 | INFO     | src.strategies.rsi_strategy:__init__:56 - RSI Strategy initialized: period=14, overbought=70, oversold=30\n",
      "2025-08-02 15:13:09.733 | INFO     | src.data.data_manager:get_historical_data:64 - Fetching historical OHLCV data for ['Bitstamp:BTCUSD'] from 2023-01-01 to 2023-06-30\n",
      "2025-08-02 15:13:09.733 | INFO     | src.backtesting.backtest_engine:run_backtest:53 - Starting backtest from 2023-01-01 to 2023-06-30\n",
      "2025-08-02 15:13:09.733 | INFO     | src.data.data_manager:get_historical_data_standardized:589 - Fetching standardized OHLCV data for ['Bitstamp:BTCUSD'] from 2023-01-01 to 2023-06-30\n",
      "2025-08-02 15:13:09.733 | INFO     | src.data.data_manager:get_historical_data:64 - Fetching historical OHLCV data for ['Bitstamp:BTCUSD'] from 2023-01-01 to 2023-06-30\n",
      "2025-08-02 15:13:10.525 | INFO     | src.data.data_manager:_fetch_tradingview_ohlcv_data:159 - Successfully fetched OHLCV data for 1 symbols\n",
      "2025-08-02 15:13:10.526 | INFO     | src.data.data_manager:get_historical_data:97 - OHLCV data cached successfully\n",
      "2025-08-02 15:13:10.529 | INFO     | src.data.data_manager:ensure_ohlcv_format:500 - Data formatted for Bitstamp:BTCUSD: (100, 5)\n",
      "2025-08-02 15:13:10.530 | INFO     | src.data.data_manager:get_historical_data_standardized:622 - Successfully standardized OHLCV data for 1 symbols\n",
      "2025-08-02 15:13:10.530 | INFO     | src.backtesting.backtest_engine:run_backtest:65 - Running backtest for strategy: rsi_test\n",
      "2025-08-02 15:13:10.530 | INFO     | src.strategies.base_strategy:reset:99 - Reset strategy: rsi\n",
      "2025-08-02 15:13:10.530 | INFO     | src.risk.risk_manager:__init__:49 - Risk manager initialized\n",
      "2025-08-02 15:13:10.542 | INFO     | src.strategies.rsi_strategy:_generate_signal_for_symbol:133 - RSI sustained overbought for Bitstamp:BTCUSD: 76.14\n",
      "2025-08-02 15:13:10.543 | INFO     | src.strategies.rsi_strategy:_generate_signal_for_symbol:133 - RSI sustained overbought for Bitstamp:BTCUSD: 76.98\n",
      "2025-08-02 15:13:10.544 | INFO     | src.strategies.rsi_strategy:_generate_signal_for_symbol:133 - RSI sustained overbought for Bitstamp:BTCUSD: 70.13\n",
      "2025-08-02 15:13:10.546 | INFO     | src.strategies.rsi_strategy:_generate_signal_for_symbol:133 - RSI sustained overbought for Bitstamp:BTCUSD: 74.82\n",
      "2025-08-02 15:13:10.548 | INFO     | src.strategies.rsi_strategy:_generate_signal_for_symbol:133 - RSI sustained overbought for Bitstamp:BTCUSD: 72.98\n",
      "2025-08-02 15:13:10.551 | INFO     | src.strategies.rsi_strategy:_generate_signal_for_symbol:118 - RSI overbought signal for Bitstamp:BTCUSD: 70.69 > 70\n",
      "2025-08-02 15:13:10.552 | INFO     | src.strategies.rsi_strategy:_generate_signal_for_symbol:133 - RSI sustained overbought for Bitstamp:BTCUSD: 81.69\n",
      "2025-08-02 15:13:10.553 | INFO     | src.strategies.rsi_strategy:_generate_signal_for_symbol:133 - RSI sustained overbought for Bitstamp:BTCUSD: 77.59\n",
      "2025-08-02 15:13:10.554 | INFO     | src.strategies.rsi_strategy:_generate_signal_for_symbol:133 - RSI sustained overbought for Bitstamp:BTCUSD: 76.58\n",
      "2025-08-02 15:13:10.555 | INFO     | src.strategies.rsi_strategy:_generate_signal_for_symbol:133 - RSI sustained overbought for Bitstamp:BTCUSD: 79.40\n",
      "2025-08-02 15:13:10.556 | INFO     | src.strategies.rsi_strategy:_generate_signal_for_symbol:133 - RSI sustained overbought for Bitstamp:BTCUSD: 74.47\n",
      "2025-08-02 15:13:10.568 | INFO     | src.strategies.rsi_strategy:_generate_signal_for_symbol:112 - RSI oversold signal for Bitstamp:BTCUSD: 22.03 < 30\n",
      "2025-08-02 15:13:10.568 | DEBUG    | src.backtesting.backtest_engine:_execute_trades:216 - BUY 0.20 Bitstamp:BTCUSD @ $101559.00\n",
      "2025-08-02 15:13:10.590 | INFO     | src.strategies.rsi_strategy:_generate_signal_for_symbol:118 - RSI overbought signal for Bitstamp:BTCUSD: 73.31 > 70\n",
      "2025-08-02 15:13:10.590 | DEBUG    | src.backtesting.backtest_engine:_execute_trades:245 - SELL 0.20 Bitstamp:BTCUSD @ $109233.00\n",
      "2025-08-02 15:13:10.592 | INFO     | src.strategies.rsi_strategy:_generate_signal_for_symbol:118 - RSI overbought signal for Bitstamp:BTCUSD: 73.15 > 70\n",
      "2025-08-02 15:13:10.593 | INFO     | src.strategies.rsi_strategy:_generate_signal_for_symbol:133 - RSI sustained overbought for Bitstamp:BTCUSD: 75.01\n",
      "2025-08-02 15:13:10.594 | INFO     | src.strategies.rsi_strategy:_generate_signal_for_symbol:133 - RSI sustained overbought for Bitstamp:BTCUSD: 74.30\n",
      "2025-08-02 15:13:10.594 | INFO     | src.strategies.rsi_strategy:_generate_signal_for_symbol:133 - RSI sustained overbought for Bitstamp:BTCUSD: 75.06\n",
      "2025-08-02 15:13:10.595 | INFO     | src.strategies.rsi_strategy:_generate_signal_for_symbol:133 - RSI sustained overbought for Bitstamp:BTCUSD: 80.25\n",
      "2025-08-02 15:13:10.596 | INFO     | src.strategies.rsi_strategy:_generate_signal_for_symbol:133 - RSI sustained overbought for Bitstamp:BTCUSD: 77.88\n",
      "2025-08-02 15:13:10.597 | INFO     | src.strategies.rsi_strategy:_generate_signal_for_symbol:133 - RSI sustained overbought for Bitstamp:BTCUSD: 75.34\n",
      "2025-08-02 15:13:10.598 | INFO     | src.strategies.rsi_strategy:_generate_signal_for_symbol:133 - RSI sustained overbought for Bitstamp:BTCUSD: 75.07\n",
      "2025-08-02 15:13:10.598 | INFO     | src.strategies.rsi_strategy:_generate_signal_for_symbol:133 - RSI sustained overbought for Bitstamp:BTCUSD: 76.51\n",
      "2025-08-02 15:13:10.599 | INFO     | src.strategies.rsi_strategy:_generate_signal_for_symbol:133 - RSI sustained overbought for Bitstamp:BTCUSD: 75.82\n",
      "2025-08-02 15:13:10.600 | INFO     | src.strategies.rsi_strategy:_generate_signal_for_symbol:133 - RSI sustained overbought for Bitstamp:BTCUSD: 72.12\n",
      "2025-08-02 15:13:10.601 | INFO     | src.strategies.rsi_strategy:_generate_signal_for_symbol:133 - RSI sustained overbought for Bitstamp:BTCUSD: 76.18\n",
      "2025-08-02 15:13:10.601 | INFO     | src.strategies.rsi_strategy:_generate_signal_for_symbol:133 - RSI sustained overbought for Bitstamp:BTCUSD: 78.54\n",
      "2025-08-02 15:13:10.602 | INFO     | src.strategies.rsi_strategy:_generate_signal_for_symbol:133 - RSI sustained overbought for Bitstamp:BTCUSD: 70.63\n",
      "2025-08-02 15:13:10.610 | INFO     | src.strategies.base_strategy:__init__:34 - Initialized strategy: rsi\n",
      "2025-08-02 15:13:10.610 | INFO     | src.strategies.rsi_strategy:__init__:56 - RSI Strategy initialized: period=20, overbought=70, oversold=30\n",
      "2025-08-02 15:13:10.610 | INFO     | src.backtesting.backtest_engine:run_backtest:53 - Starting backtest from 2023-01-01 to 2023-06-30\n",
      "2025-08-02 15:13:10.610 | INFO     | src.data.data_manager:get_historical_data_standardized:589 - Fetching standardized OHLCV data for ['Bitstamp:BTCUSD'] from 2023-01-01 to 2023-06-30\n",
      "2025-08-02 15:13:10.610 | INFO     | src.data.data_manager:get_historical_data:64 - Fetching historical OHLCV data for ['Bitstamp:BTCUSD'] from 2023-01-01 to 2023-06-30\n",
      "2025-08-02 15:13:11.523 | INFO     | src.data.data_manager:_fetch_tradingview_ohlcv_data:159 - Successfully fetched OHLCV data for 1 symbols\n",
      "2025-08-02 15:13:11.524 | INFO     | src.data.data_manager:get_historical_data:97 - OHLCV data cached successfully\n",
      "2025-08-02 15:13:11.525 | INFO     | src.data.data_manager:ensure_ohlcv_format:500 - Data formatted for Bitstamp:BTCUSD: (100, 5)\n",
      "2025-08-02 15:13:11.525 | INFO     | src.data.data_manager:get_historical_data_standardized:622 - Successfully standardized OHLCV data for 1 symbols\n",
      "2025-08-02 15:13:11.525 | INFO     | src.backtesting.backtest_engine:run_backtest:65 - Running backtest for strategy: rsi_test\n",
      "2025-08-02 15:13:11.525 | INFO     | src.strategies.base_strategy:reset:99 - Reset strategy: rsi\n",
      "2025-08-02 15:13:11.525 | INFO     | src.risk.risk_manager:__init__:49 - Risk manager initialized\n",
      "2025-08-02 15:13:11.531 | INFO     | src.strategies.rsi_strategy:_generate_signal_for_symbol:118 - RSI overbought signal for Bitstamp:BTCUSD: 77.11 > 70\n",
      "2025-08-02 15:13:11.532 | INFO     | src.strategies.rsi_strategy:_generate_signal_for_symbol:133 - RSI sustained overbought for Bitstamp:BTCUSD: 79.67\n",
      "2025-08-02 15:13:11.532 | INFO     | src.strategies.rsi_strategy:_generate_signal_for_symbol:133 - RSI sustained overbought for Bitstamp:BTCUSD: 82.43\n",
      "2025-08-02 15:13:11.533 | INFO     | src.strategies.rsi_strategy:_generate_signal_for_symbol:133 - RSI sustained overbought for Bitstamp:BTCUSD: 75.81\n",
      "2025-08-02 15:13:11.534 | INFO     | src.strategies.rsi_strategy:_generate_signal_for_symbol:118 - RSI overbought signal for Bitstamp:BTCUSD: 75.71 > 70\n",
      "2025-08-02 15:13:11.534 | INFO     | src.strategies.rsi_strategy:_generate_signal_for_symbol:133 - RSI sustained overbought for Bitstamp:BTCUSD: 80.74\n",
      "2025-08-02 15:13:11.535 | INFO     | src.strategies.rsi_strategy:_generate_signal_for_symbol:133 - RSI sustained overbought for Bitstamp:BTCUSD: 80.55\n",
      "2025-08-02 15:13:11.536 | INFO     | src.strategies.rsi_strategy:_generate_signal_for_symbol:133 - RSI sustained overbought for Bitstamp:BTCUSD: 75.66\n",
      "2025-08-02 15:13:11.536 | INFO     | src.strategies.rsi_strategy:_generate_signal_for_symbol:133 - RSI sustained overbought for Bitstamp:BTCUSD: 73.18\n",
      "2025-08-02 15:13:11.539 | INFO     | src.strategies.rsi_strategy:_generate_signal_for_symbol:118 - RSI overbought signal for Bitstamp:BTCUSD: 72.21 > 70\n",
      "2025-08-02 15:13:11.540 | INFO     | src.strategies.rsi_strategy:_generate_signal_for_symbol:133 - RSI sustained overbought for Bitstamp:BTCUSD: 83.81\n",
      "2025-08-02 15:13:11.546 | INFO     | src.strategies.rsi_strategy:_generate_signal_for_symbol:112 - RSI oversold signal for Bitstamp:BTCUSD: 27.90 < 30\n",
      "2025-08-02 15:13:11.546 | DEBUG    | src.backtesting.backtest_engine:_execute_trades:216 - BUY 0.19 Bitstamp:BTCUSD @ $105705.00\n",
      "2025-08-02 15:13:11.549 | INFO     | src.strategies.rsi_strategy:_generate_signal_for_symbol:112 - RSI oversold signal for Bitstamp:BTCUSD: 25.62 < 30\n",
      "2025-08-02 15:13:11.549 | INFO     | src.strategies.rsi_strategy:_generate_signal_for_symbol:128 - RSI sustained oversold for Bitstamp:BTCUSD: 16.06\n",
      "2025-08-02 15:13:11.552 | INFO     | src.strategies.rsi_strategy:_generate_signal_for_symbol:118 - RSI overbought signal for Bitstamp:BTCUSD: 70.96 > 70\n",
      "2025-08-02 15:13:11.552 | DEBUG    | src.backtesting.backtest_engine:_execute_trades:245 - SELL 0.19 Bitstamp:BTCUSD @ $110307.00\n",
      "2025-08-02 15:13:11.559 | INFO     | src.strategies.rsi_strategy:_generate_signal_for_symbol:112 - RSI oversold signal for Bitstamp:BTCUSD: 21.33 < 30\n",
      "2025-08-02 15:13:11.559 | DEBUG    | src.backtesting.backtest_engine:_execute_trades:216 - BUY 0.19 Bitstamp:BTCUSD @ $104688.00\n",
      "2025-08-02 15:13:11.560 | INFO     | src.strategies.rsi_strategy:_generate_signal_for_symbol:128 - RSI sustained oversold for Bitstamp:BTCUSD: 18.73\n",
      "2025-08-02 15:13:11.560 | INFO     | src.strategies.rsi_strategy:_generate_signal_for_symbol:128 - RSI sustained oversold for Bitstamp:BTCUSD: 19.50\n",
      "2025-08-02 15:13:11.561 | INFO     | src.strategies.rsi_strategy:_generate_signal_for_symbol:128 - RSI sustained oversold for Bitstamp:BTCUSD: 23.49\n",
      "2025-08-02 15:13:11.568 | INFO     | src.strategies.rsi_strategy:_generate_signal_for_symbol:118 - RSI overbought signal for Bitstamp:BTCUSD: 78.01 > 70\n",
      "2025-08-02 15:13:11.568 | DEBUG    | src.backtesting.backtest_engine:_execute_trades:245 - SELL 0.19 Bitstamp:BTCUSD @ $108885.00\n",
      "2025-08-02 15:13:11.568 | INFO     | src.strategies.rsi_strategy:_generate_signal_for_symbol:133 - RSI sustained overbought for Bitstamp:BTCUSD: 70.19\n",
      "2025-08-02 15:13:11.573 | INFO     | src.strategies.rsi_strategy:_generate_signal_for_symbol:118 - RSI overbought signal for Bitstamp:BTCUSD: 76.17 > 70\n",
      "2025-08-02 15:13:11.573 | INFO     | src.strategies.rsi_strategy:_generate_signal_for_symbol:133 - RSI sustained overbought for Bitstamp:BTCUSD: 84.93\n",
      "2025-08-02 15:13:11.574 | INFO     | src.strategies.rsi_strategy:_generate_signal_for_symbol:133 - RSI sustained overbought for Bitstamp:BTCUSD: 80.79\n",
      "2025-08-02 15:13:11.574 | INFO     | src.strategies.rsi_strategy:_generate_signal_for_symbol:133 - RSI sustained overbought for Bitstamp:BTCUSD: 81.97\n",
      "2025-08-02 15:13:11.575 | INFO     | src.strategies.rsi_strategy:_generate_signal_for_symbol:133 - RSI sustained overbought for Bitstamp:BTCUSD: 92.40\n",
      "2025-08-02 15:13:11.576 | INFO     | src.strategies.rsi_strategy:_generate_signal_for_symbol:133 - RSI sustained overbought for Bitstamp:BTCUSD: 80.02\n",
      "2025-08-02 15:13:11.576 | INFO     | src.strategies.rsi_strategy:_generate_signal_for_symbol:133 - RSI sustained overbought for Bitstamp:BTCUSD: 79.96\n",
      "2025-08-02 15:13:11.577 | INFO     | src.strategies.rsi_strategy:_generate_signal_for_symbol:133 - RSI sustained overbought for Bitstamp:BTCUSD: 85.59\n",
      "2025-08-02 15:13:11.578 | INFO     | src.strategies.rsi_strategy:_generate_signal_for_symbol:133 - RSI sustained overbought for Bitstamp:BTCUSD: 78.30\n",
      "2025-08-02 15:13:11.578 | INFO     | src.strategies.rsi_strategy:_generate_signal_for_symbol:133 - RSI sustained overbought for Bitstamp:BTCUSD: 74.02\n",
      "2025-08-02 15:13:11.586 | INFO     | src.strategies.rsi_strategy:_generate_signal_for_symbol:112 - RSI oversold signal for Bitstamp:BTCUSD: 17.46 < 30\n",
      "2025-08-02 15:13:11.586 | DEBUG    | src.backtesting.backtest_engine:_execute_trades:216 - BUY 0.18 Bitstamp:BTCUSD @ $113243.00\n",
      "2025-08-02 15:13:11.587 | INFO     | src.strategies.rsi_strategy:_generate_signal_for_symbol:128 - RSI sustained oversold for Bitstamp:BTCUSD: 25.26\n",
      "2025-08-02 15:13:11.589 | INFO     | src.strategies.base_strategy:__init__:34 - Initialized strategy: rsi\n",
      "2025-08-02 15:13:11.589 | INFO     | src.strategies.rsi_strategy:__init__:56 - RSI Strategy initialized: period=20, overbought=70, oversold=30\n",
      "2025-08-02 15:13:11.590 | INFO     | src.backtesting.backtest_engine:run_backtest:53 - Starting backtest from 2023-01-01 to 2023-06-30\n",
      "2025-08-02 15:13:11.590 | INFO     | src.data.data_manager:get_historical_data_standardized:589 - Fetching standardized OHLCV data for ['Bitstamp:BTCUSD'] from 2023-01-01 to 2023-06-30\n",
      "2025-08-02 15:13:11.590 | INFO     | src.data.data_manager:get_historical_data:64 - Fetching historical OHLCV data for ['Bitstamp:BTCUSD'] from 2023-01-01 to 2023-06-30\n",
      "2025-08-02 15:13:12.024 | INFO     | src.data.data_manager:_fetch_tradingview_ohlcv_data:159 - Successfully fetched OHLCV data for 1 symbols\n",
      "2025-08-02 15:13:12.025 | INFO     | src.data.data_manager:get_historical_data:97 - OHLCV data cached successfully\n",
      "2025-08-02 15:13:12.027 | INFO     | src.data.data_manager:ensure_ohlcv_format:500 - Data formatted for Bitstamp:BTCUSD: (100, 5)\n",
      "2025-08-02 15:13:12.028 | INFO     | src.data.data_manager:get_historical_data_standardized:622 - Successfully standardized OHLCV data for 1 symbols\n",
      "2025-08-02 15:13:12.028 | INFO     | src.backtesting.backtest_engine:run_backtest:65 - Running backtest for strategy: rsi_test\n",
      "2025-08-02 15:13:12.028 | INFO     | src.strategies.base_strategy:reset:99 - Reset strategy: rsi\n",
      "2025-08-02 15:13:12.028 | INFO     | src.risk.risk_manager:__init__:49 - Risk manager initialized\n",
      "2025-08-02 15:13:12.038 | INFO     | src.strategies.rsi_strategy:_generate_signal_for_symbol:118 - RSI overbought signal for Bitstamp:BTCUSD: 70.07 > 70\n",
      "2025-08-02 15:13:12.039 | INFO     | src.strategies.rsi_strategy:_generate_signal_for_symbol:133 - RSI sustained overbought for Bitstamp:BTCUSD: 72.53\n",
      "2025-08-02 15:13:12.040 | INFO     | src.strategies.rsi_strategy:_generate_signal_for_symbol:133 - RSI sustained overbought for Bitstamp:BTCUSD: 72.13\n",
      "2025-08-02 15:13:12.041 | INFO     | src.strategies.rsi_strategy:_generate_signal_for_symbol:133 - RSI sustained overbought for Bitstamp:BTCUSD: 73.70\n",
      "2025-08-02 15:13:12.042 | INFO     | src.strategies.rsi_strategy:_generate_signal_for_symbol:133 - RSI sustained overbought for Bitstamp:BTCUSD: 74.15\n",
      "2025-08-02 15:13:12.043 | INFO     | src.strategies.rsi_strategy:_generate_signal_for_symbol:133 - RSI sustained overbought for Bitstamp:BTCUSD: 75.65\n",
      "2025-08-02 15:13:12.048 | INFO     | src.strategies.rsi_strategy:_generate_signal_for_symbol:118 - RSI overbought signal for Bitstamp:BTCUSD: 71.63 > 70\n",
      "2025-08-02 15:13:12.049 | INFO     | src.strategies.rsi_strategy:_generate_signal_for_symbol:133 - RSI sustained overbought for Bitstamp:BTCUSD: 72.40\n",
      "2025-08-02 15:13:12.050 | INFO     | src.strategies.rsi_strategy:_generate_signal_for_symbol:133 - RSI sustained overbought for Bitstamp:BTCUSD: 70.86\n",
      "2025-08-02 15:13:12.082 | INFO     | src.strategies.rsi_strategy:_generate_signal_for_symbol:118 - RSI overbought signal for Bitstamp:BTCUSD: 72.22 > 70\n",
      "2025-08-02 15:13:12.083 | INFO     | src.strategies.rsi_strategy:_generate_signal_for_symbol:133 - RSI sustained overbought for Bitstamp:BTCUSD: 76.63\n",
      "2025-08-02 15:13:12.084 | INFO     | src.strategies.rsi_strategy:_generate_signal_for_symbol:133 - RSI sustained overbought for Bitstamp:BTCUSD: 79.40\n",
      "2025-08-02 15:13:12.084 | INFO     | src.strategies.rsi_strategy:_generate_signal_for_symbol:133 - RSI sustained overbought for Bitstamp:BTCUSD: 77.12\n",
      "2025-08-02 15:13:12.085 | INFO     | src.strategies.rsi_strategy:_generate_signal_for_symbol:133 - RSI sustained overbought for Bitstamp:BTCUSD: 77.19\n",
      "2025-08-02 15:13:12.086 | INFO     | src.strategies.rsi_strategy:_generate_signal_for_symbol:118 - RSI overbought signal for Bitstamp:BTCUSD: 71.99 > 70\n",
      "2025-08-02 15:13:12.087 | INFO     | src.strategies.rsi_strategy:_generate_signal_for_symbol:133 - RSI sustained overbought for Bitstamp:BTCUSD: 72.47\n",
      "2025-08-02 15:13:12.089 | INFO     | src.strategies.rsi_strategy:_generate_signal_for_symbol:118 - RSI overbought signal for Bitstamp:BTCUSD: 73.30 > 70\n",
      "2025-08-02 15:13:12.089 | INFO     | src.strategies.rsi_strategy:_generate_signal_for_symbol:133 - RSI sustained overbought for Bitstamp:BTCUSD: 72.64\n",
      "2025-08-02 15:13:12.090 | INFO     | src.strategies.rsi_strategy:_generate_signal_for_symbol:118 - RSI overbought signal for Bitstamp:BTCUSD: 71.62 > 70\n",
      "2025-08-02 15:13:12.092 | INFO     | src.strategies.rsi_strategy:_generate_signal_for_symbol:118 - RSI overbought signal for Bitstamp:BTCUSD: 73.08 > 70\n",
      "divide by zero encountered in scalar divide\n",
      "2025-08-02 15:13:12.100 | INFO     | src.strategies.base_strategy:__init__:34 - Initialized strategy: rsi\n",
      "2025-08-02 15:13:12.100 | INFO     | src.strategies.rsi_strategy:__init__:56 - RSI Strategy initialized: period=30, overbought=70, oversold=30\n",
      "2025-08-02 15:13:12.100 | INFO     | src.backtesting.backtest_engine:run_backtest:53 - Starting backtest from 2023-01-01 to 2023-06-30\n",
      "2025-08-02 15:13:12.100 | INFO     | src.data.data_manager:get_historical_data_standardized:589 - Fetching standardized OHLCV data for ['Bitstamp:BTCUSD'] from 2023-01-01 to 2023-06-30\n",
      "2025-08-02 15:13:12.100 | INFO     | src.data.data_manager:get_historical_data:64 - Fetching historical OHLCV data for ['Bitstamp:BTCUSD'] from 2023-01-01 to 2023-06-30\n",
      "2025-08-02 15:13:13.442 | INFO     | src.data.data_manager:_fetch_tradingview_ohlcv_data:159 - Successfully fetched OHLCV data for 1 symbols\n",
      "2025-08-02 15:13:13.442 | INFO     | src.data.data_manager:get_historical_data:97 - OHLCV data cached successfully\n",
      "2025-08-02 15:13:13.444 | INFO     | src.data.data_manager:ensure_ohlcv_format:500 - Data formatted for Bitstamp:BTCUSD: (100, 5)\n",
      "2025-08-02 15:13:13.444 | INFO     | src.data.data_manager:get_historical_data_standardized:622 - Successfully standardized OHLCV data for 1 symbols\n",
      "2025-08-02 15:13:13.444 | INFO     | src.backtesting.backtest_engine:run_backtest:65 - Running backtest for strategy: rsi_test\n",
      "2025-08-02 15:13:13.445 | INFO     | src.strategies.base_strategy:reset:99 - Reset strategy: rsi\n",
      "2025-08-02 15:13:13.445 | INFO     | src.risk.risk_manager:__init__:49 - Risk manager initialized\n",
      "2025-08-02 15:13:13.498 | INFO     | src.strategies.rsi_strategy:_generate_signal_for_symbol:118 - RSI overbought signal for Bitstamp:BTCUSD: 70.58 > 70\n",
      "2025-08-02 15:13:13.499 | INFO     | src.strategies.rsi_strategy:_generate_signal_for_symbol:133 - RSI sustained overbought for Bitstamp:BTCUSD: 74.59\n",
      "divide by zero encountered in scalar divide\n",
      "2025-08-02 15:13:13.507 | INFO     | src.strategies.base_strategy:__init__:34 - Initialized strategy: rsi\n",
      "2025-08-02 15:13:13.507 | INFO     | src.strategies.rsi_strategy:__init__:56 - RSI Strategy initialized: period=14, overbought=70, oversold=30\n",
      "2025-08-02 15:13:13.507 | INFO     | src.backtesting.backtest_engine:run_backtest:53 - Starting backtest from 2023-01-01 to 2023-06-30\n",
      "2025-08-02 15:13:13.507 | INFO     | src.data.data_manager:get_historical_data_standardized:589 - Fetching standardized OHLCV data for ['Bitstamp:BTCUSD'] from 2023-01-01 to 2023-06-30\n",
      "2025-08-02 15:13:13.507 | INFO     | src.data.data_manager:get_historical_data:64 - Fetching historical OHLCV data for ['Bitstamp:BTCUSD'] from 2023-01-01 to 2023-06-30\n",
      "2025-08-02 15:13:13.799 | INFO     | src.data.data_manager:_fetch_tradingview_ohlcv_data:159 - Successfully fetched OHLCV data for 1 symbols\n",
      "2025-08-02 15:13:13.799 | INFO     | src.data.data_manager:get_historical_data:97 - OHLCV data cached successfully\n",
      "2025-08-02 15:13:13.801 | INFO     | src.data.data_manager:ensure_ohlcv_format:500 - Data formatted for Bitstamp:BTCUSD: (100, 5)\n",
      "2025-08-02 15:13:13.801 | INFO     | src.data.data_manager:get_historical_data_standardized:622 - Successfully standardized OHLCV data for 1 symbols\n",
      "2025-08-02 15:13:13.801 | INFO     | src.backtesting.backtest_engine:run_backtest:65 - Running backtest for strategy: rsi_test\n",
      "2025-08-02 15:13:13.801 | INFO     | src.strategies.base_strategy:reset:99 - Reset strategy: rsi\n",
      "2025-08-02 15:13:13.801 | INFO     | src.risk.risk_manager:__init__:49 - Risk manager initialized\n",
      "2025-08-02 15:13:13.807 | INFO     | src.strategies.rsi_strategy:_generate_signal_for_symbol:133 - RSI sustained overbought for Bitstamp:BTCUSD: 76.14\n",
      "2025-08-02 15:13:13.808 | INFO     | src.strategies.rsi_strategy:_generate_signal_for_symbol:133 - RSI sustained overbought for Bitstamp:BTCUSD: 76.98\n",
      "2025-08-02 15:13:13.809 | INFO     | src.strategies.rsi_strategy:_generate_signal_for_symbol:133 - RSI sustained overbought for Bitstamp:BTCUSD: 70.13\n",
      "2025-08-02 15:13:13.810 | INFO     | src.strategies.rsi_strategy:_generate_signal_for_symbol:133 - RSI sustained overbought for Bitstamp:BTCUSD: 74.82\n",
      "2025-08-02 15:13:13.811 | INFO     | src.strategies.rsi_strategy:_generate_signal_for_symbol:133 - RSI sustained overbought for Bitstamp:BTCUSD: 72.98\n",
      "2025-08-02 15:13:13.815 | INFO     | src.strategies.rsi_strategy:_generate_signal_for_symbol:118 - RSI overbought signal for Bitstamp:BTCUSD: 70.69 > 70\n",
      "2025-08-02 15:13:13.816 | INFO     | src.strategies.rsi_strategy:_generate_signal_for_symbol:133 - RSI sustained overbought for Bitstamp:BTCUSD: 81.69\n",
      "2025-08-02 15:13:13.817 | INFO     | src.strategies.rsi_strategy:_generate_signal_for_symbol:133 - RSI sustained overbought for Bitstamp:BTCUSD: 77.59\n",
      "2025-08-02 15:13:13.818 | INFO     | src.strategies.rsi_strategy:_generate_signal_for_symbol:133 - RSI sustained overbought for Bitstamp:BTCUSD: 76.58\n",
      "2025-08-02 15:13:13.819 | INFO     | src.strategies.rsi_strategy:_generate_signal_for_symbol:133 - RSI sustained overbought for Bitstamp:BTCUSD: 79.40\n",
      "2025-08-02 15:13:13.820 | INFO     | src.strategies.rsi_strategy:_generate_signal_for_symbol:133 - RSI sustained overbought for Bitstamp:BTCUSD: 74.47\n",
      "2025-08-02 15:13:13.833 | INFO     | src.strategies.rsi_strategy:_generate_signal_for_symbol:112 - RSI oversold signal for Bitstamp:BTCUSD: 22.03 < 30\n",
      "2025-08-02 15:13:13.833 | DEBUG    | src.backtesting.backtest_engine:_execute_trades:216 - BUY 0.20 Bitstamp:BTCUSD @ $101559.00\n",
      "2025-08-02 15:13:13.854 | INFO     | src.strategies.rsi_strategy:_generate_signal_for_symbol:118 - RSI overbought signal for Bitstamp:BTCUSD: 73.31 > 70\n",
      "2025-08-02 15:13:13.855 | DEBUG    | src.backtesting.backtest_engine:_execute_trades:245 - SELL 0.20 Bitstamp:BTCUSD @ $109233.00\n",
      "2025-08-02 15:13:13.857 | INFO     | src.strategies.rsi_strategy:_generate_signal_for_symbol:118 - RSI overbought signal for Bitstamp:BTCUSD: 73.15 > 70\n",
      "2025-08-02 15:13:13.857 | INFO     | src.strategies.rsi_strategy:_generate_signal_for_symbol:133 - RSI sustained overbought for Bitstamp:BTCUSD: 75.01\n",
      "2025-08-02 15:13:13.858 | INFO     | src.strategies.rsi_strategy:_generate_signal_for_symbol:133 - RSI sustained overbought for Bitstamp:BTCUSD: 74.30\n",
      "2025-08-02 15:13:13.859 | INFO     | src.strategies.rsi_strategy:_generate_signal_for_symbol:133 - RSI sustained overbought for Bitstamp:BTCUSD: 75.06\n",
      "2025-08-02 15:13:13.859 | INFO     | src.strategies.rsi_strategy:_generate_signal_for_symbol:133 - RSI sustained overbought for Bitstamp:BTCUSD: 80.25\n",
      "2025-08-02 15:13:13.860 | INFO     | src.strategies.rsi_strategy:_generate_signal_for_symbol:133 - RSI sustained overbought for Bitstamp:BTCUSD: 77.88\n",
      "2025-08-02 15:13:13.861 | INFO     | src.strategies.rsi_strategy:_generate_signal_for_symbol:133 - RSI sustained overbought for Bitstamp:BTCUSD: 75.34\n",
      "2025-08-02 15:13:13.861 | INFO     | src.strategies.rsi_strategy:_generate_signal_for_symbol:133 - RSI sustained overbought for Bitstamp:BTCUSD: 75.07\n",
      "2025-08-02 15:13:13.862 | INFO     | src.strategies.rsi_strategy:_generate_signal_for_symbol:133 - RSI sustained overbought for Bitstamp:BTCUSD: 76.51\n",
      "2025-08-02 15:13:13.863 | INFO     | src.strategies.rsi_strategy:_generate_signal_for_symbol:133 - RSI sustained overbought for Bitstamp:BTCUSD: 75.82\n",
      "2025-08-02 15:13:13.863 | INFO     | src.strategies.rsi_strategy:_generate_signal_for_symbol:133 - RSI sustained overbought for Bitstamp:BTCUSD: 72.12\n",
      "2025-08-02 15:13:13.864 | INFO     | src.strategies.rsi_strategy:_generate_signal_for_symbol:133 - RSI sustained overbought for Bitstamp:BTCUSD: 76.18\n",
      "2025-08-02 15:13:13.865 | INFO     | src.strategies.rsi_strategy:_generate_signal_for_symbol:133 - RSI sustained overbought for Bitstamp:BTCUSD: 78.54\n",
      "2025-08-02 15:13:13.865 | INFO     | src.strategies.rsi_strategy:_generate_signal_for_symbol:133 - RSI sustained overbought for Bitstamp:BTCUSD: 70.63\n",
      "2025-08-02 15:13:13.873 | INFO     | src.strategies.base_strategy:__init__:34 - Initialized strategy: rsi\n",
      "2025-08-02 15:13:13.873 | INFO     | src.strategies.rsi_strategy:__init__:56 - RSI Strategy initialized: period=14, overbought=70, oversold=30\n",
      "2025-08-02 15:13:13.873 | INFO     | src.backtesting.backtest_engine:run_backtest:53 - Starting backtest from 2023-01-01 to 2023-06-30\n",
      "2025-08-02 15:13:13.873 | INFO     | src.data.data_manager:get_historical_data_standardized:589 - Fetching standardized OHLCV data for ['Bitstamp:BTCUSD'] from 2023-01-01 to 2023-06-30\n",
      "2025-08-02 15:13:13.873 | INFO     | src.data.data_manager:get_historical_data:64 - Fetching historical OHLCV data for ['Bitstamp:BTCUSD'] from 2023-01-01 to 2023-06-30\n",
      "2025-08-02 15:13:14.304 | INFO     | src.data.data_manager:_fetch_tradingview_ohlcv_data:159 - Successfully fetched OHLCV data for 1 symbols\n",
      "2025-08-02 15:13:14.305 | INFO     | src.data.data_manager:get_historical_data:97 - OHLCV data cached successfully\n",
      "2025-08-02 15:13:14.307 | INFO     | src.data.data_manager:ensure_ohlcv_format:500 - Data formatted for Bitstamp:BTCUSD: (100, 5)\n",
      "2025-08-02 15:13:14.307 | INFO     | src.data.data_manager:get_historical_data_standardized:622 - Successfully standardized OHLCV data for 1 symbols\n",
      "2025-08-02 15:13:14.307 | INFO     | src.backtesting.backtest_engine:run_backtest:65 - Running backtest for strategy: rsi_test\n",
      "2025-08-02 15:13:14.307 | INFO     | src.strategies.base_strategy:reset:99 - Reset strategy: rsi\n",
      "2025-08-02 15:13:14.307 | INFO     | src.risk.risk_manager:__init__:49 - Risk manager initialized\n",
      "2025-08-02 15:13:14.315 | INFO     | src.strategies.rsi_strategy:_generate_signal_for_symbol:133 - RSI sustained overbought for Bitstamp:BTCUSD: 76.14\n",
      "2025-08-02 15:13:14.316 | INFO     | src.strategies.rsi_strategy:_generate_signal_for_symbol:133 - RSI sustained overbought for Bitstamp:BTCUSD: 76.98\n",
      "2025-08-02 15:13:14.317 | INFO     | src.strategies.rsi_strategy:_generate_signal_for_symbol:133 - RSI sustained overbought for Bitstamp:BTCUSD: 70.13\n",
      "2025-08-02 15:13:14.319 | INFO     | src.strategies.rsi_strategy:_generate_signal_for_symbol:133 - RSI sustained overbought for Bitstamp:BTCUSD: 74.82\n",
      "2025-08-02 15:13:14.320 | INFO     | src.strategies.rsi_strategy:_generate_signal_for_symbol:133 - RSI sustained overbought for Bitstamp:BTCUSD: 72.98\n",
      "2025-08-02 15:13:14.323 | INFO     | src.strategies.rsi_strategy:_generate_signal_for_symbol:118 - RSI overbought signal for Bitstamp:BTCUSD: 70.69 > 70\n",
      "2025-08-02 15:13:14.324 | INFO     | src.strategies.rsi_strategy:_generate_signal_for_symbol:133 - RSI sustained overbought for Bitstamp:BTCUSD: 81.69\n",
      "2025-08-02 15:13:14.325 | INFO     | src.strategies.rsi_strategy:_generate_signal_for_symbol:133 - RSI sustained overbought for Bitstamp:BTCUSD: 77.59\n",
      "2025-08-02 15:13:14.326 | INFO     | src.strategies.rsi_strategy:_generate_signal_for_symbol:133 - RSI sustained overbought for Bitstamp:BTCUSD: 76.58\n",
      "2025-08-02 15:13:14.327 | INFO     | src.strategies.rsi_strategy:_generate_signal_for_symbol:133 - RSI sustained overbought for Bitstamp:BTCUSD: 79.40\n",
      "2025-08-02 15:13:14.328 | INFO     | src.strategies.rsi_strategy:_generate_signal_for_symbol:133 - RSI sustained overbought for Bitstamp:BTCUSD: 74.47\n",
      "2025-08-02 15:13:14.343 | INFO     | src.strategies.rsi_strategy:_generate_signal_for_symbol:112 - RSI oversold signal for Bitstamp:BTCUSD: 22.03 < 30\n",
      "2025-08-02 15:13:14.343 | DEBUG    | src.backtesting.backtest_engine:_execute_trades:216 - BUY 0.20 Bitstamp:BTCUSD @ $101559.00\n",
      "2025-08-02 15:13:14.367 | INFO     | src.strategies.rsi_strategy:_generate_signal_for_symbol:118 - RSI overbought signal for Bitstamp:BTCUSD: 73.31 > 70\n",
      "2025-08-02 15:13:14.367 | DEBUG    | src.backtesting.backtest_engine:_execute_trades:245 - SELL 0.20 Bitstamp:BTCUSD @ $109233.00\n",
      "2025-08-02 15:13:14.369 | INFO     | src.strategies.rsi_strategy:_generate_signal_for_symbol:118 - RSI overbought signal for Bitstamp:BTCUSD: 73.15 > 70\n",
      "2025-08-02 15:13:14.370 | INFO     | src.strategies.rsi_strategy:_generate_signal_for_symbol:133 - RSI sustained overbought for Bitstamp:BTCUSD: 75.01\n",
      "2025-08-02 15:13:14.370 | INFO     | src.strategies.rsi_strategy:_generate_signal_for_symbol:133 - RSI sustained overbought for Bitstamp:BTCUSD: 74.30\n",
      "2025-08-02 15:13:14.371 | INFO     | src.strategies.rsi_strategy:_generate_signal_for_symbol:133 - RSI sustained overbought for Bitstamp:BTCUSD: 75.06\n",
      "2025-08-02 15:13:14.372 | INFO     | src.strategies.rsi_strategy:_generate_signal_for_symbol:133 - RSI sustained overbought for Bitstamp:BTCUSD: 80.25\n",
      "2025-08-02 15:13:14.372 | INFO     | src.strategies.rsi_strategy:_generate_signal_for_symbol:133 - RSI sustained overbought for Bitstamp:BTCUSD: 77.88\n",
      "2025-08-02 15:13:14.373 | INFO     | src.strategies.rsi_strategy:_generate_signal_for_symbol:133 - RSI sustained overbought for Bitstamp:BTCUSD: 75.34\n",
      "2025-08-02 15:13:14.374 | INFO     | src.strategies.rsi_strategy:_generate_signal_for_symbol:133 - RSI sustained overbought for Bitstamp:BTCUSD: 75.07\n",
      "2025-08-02 15:13:14.374 | INFO     | src.strategies.rsi_strategy:_generate_signal_for_symbol:133 - RSI sustained overbought for Bitstamp:BTCUSD: 76.51\n",
      "2025-08-02 15:13:14.375 | INFO     | src.strategies.rsi_strategy:_generate_signal_for_symbol:133 - RSI sustained overbought for Bitstamp:BTCUSD: 75.82\n",
      "2025-08-02 15:13:14.376 | INFO     | src.strategies.rsi_strategy:_generate_signal_for_symbol:133 - RSI sustained overbought for Bitstamp:BTCUSD: 72.12\n",
      "2025-08-02 15:13:14.376 | INFO     | src.strategies.rsi_strategy:_generate_signal_for_symbol:133 - RSI sustained overbought for Bitstamp:BTCUSD: 76.18\n",
      "2025-08-02 15:13:14.377 | INFO     | src.strategies.rsi_strategy:_generate_signal_for_symbol:133 - RSI sustained overbought for Bitstamp:BTCUSD: 78.54\n",
      "2025-08-02 15:13:14.377 | INFO     | src.strategies.rsi_strategy:_generate_signal_for_symbol:133 - RSI sustained overbought for Bitstamp:BTCUSD: 70.63\n",
      "2025-08-02 15:13:14.386 | INFO     | src.strategies.base_strategy:__init__:34 - Initialized strategy: rsi\n",
      "2025-08-02 15:13:14.386 | INFO     | src.strategies.rsi_strategy:__init__:56 - RSI Strategy initialized: period=10, overbought=70, oversold=30\n",
      "2025-08-02 15:13:14.386 | INFO     | src.backtesting.backtest_engine:run_backtest:53 - Starting backtest from 2023-01-01 to 2023-06-30\n",
      "2025-08-02 15:13:14.386 | INFO     | src.data.data_manager:get_historical_data_standardized:589 - Fetching standardized OHLCV data for ['Bitstamp:BTCUSD'] from 2023-01-01 to 2023-06-30\n",
      "2025-08-02 15:13:14.386 | INFO     | src.data.data_manager:get_historical_data:64 - Fetching historical OHLCV data for ['Bitstamp:BTCUSD'] from 2023-01-01 to 2023-06-30\n",
      "ERROR:TradingviewData.main:Connection timed out\n",
      "ERROR:TradingviewData.main:no data, please check the exchange and symbol\n",
      "2025-08-02 15:13:15.012 | ERROR    | src.data.data_manager:_fetch_tradingview_ohlcv_data:166 - Error fetching OHLCV data from TradingView: 'NoneType' object has no attribute 'reset_index'\n",
      "2025-08-02 15:13:15.013 | ERROR    | src.optimization.optimizer:_test_parameter_combination:192 - Error testing parameters {'period': 10, 'oversold': 30, 'overbought': 75}: 'NoneType' object has no attribute 'reset_index'\n",
      "2025-08-02 15:13:15.015 | INFO     | src.strategies.base_strategy:__init__:34 - Initialized strategy: rsi\n",
      "2025-08-02 15:13:15.015 | INFO     | src.strategies.rsi_strategy:__init__:56 - RSI Strategy initialized: period=14, overbought=70, oversold=30\n",
      "2025-08-02 15:13:15.016 | INFO     | src.backtesting.backtest_engine:run_backtest:53 - Starting backtest from 2023-01-01 to 2023-06-30\n",
      "2025-08-02 15:13:15.016 | INFO     | src.data.data_manager:get_historical_data_standardized:589 - Fetching standardized OHLCV data for ['Bitstamp:BTCUSD'] from 2023-01-01 to 2023-06-30\n",
      "2025-08-02 15:13:15.016 | INFO     | src.data.data_manager:get_historical_data:64 - Fetching historical OHLCV data for ['Bitstamp:BTCUSD'] from 2023-01-01 to 2023-06-30\n",
      "2025-08-02 15:13:15.359 | INFO     | src.data.data_manager:_fetch_tradingview_ohlcv_data:159 - Successfully fetched OHLCV data for 1 symbols\n",
      "2025-08-02 15:13:15.360 | INFO     | src.data.data_manager:get_historical_data:97 - OHLCV data cached successfully\n",
      "2025-08-02 15:13:15.361 | INFO     | src.data.data_manager:ensure_ohlcv_format:500 - Data formatted for Bitstamp:BTCUSD: (100, 5)\n",
      "2025-08-02 15:13:15.362 | INFO     | src.data.data_manager:get_historical_data_standardized:622 - Successfully standardized OHLCV data for 1 symbols\n",
      "2025-08-02 15:13:15.362 | INFO     | src.backtesting.backtest_engine:run_backtest:65 - Running backtest for strategy: rsi_test\n",
      "2025-08-02 15:13:15.362 | INFO     | src.strategies.base_strategy:reset:99 - Reset strategy: rsi\n",
      "2025-08-02 15:13:15.362 | INFO     | src.risk.risk_manager:__init__:49 - Risk manager initialized\n",
      "2025-08-02 15:13:15.377 | INFO     | src.strategies.rsi_strategy:_generate_signal_for_symbol:133 - RSI sustained overbought for Bitstamp:BTCUSD: 76.14\n",
      "2025-08-02 15:13:15.378 | INFO     | src.strategies.rsi_strategy:_generate_signal_for_symbol:133 - RSI sustained overbought for Bitstamp:BTCUSD: 76.98\n",
      "2025-08-02 15:13:15.380 | INFO     | src.strategies.rsi_strategy:_generate_signal_for_symbol:133 - RSI sustained overbought for Bitstamp:BTCUSD: 70.13\n",
      "2025-08-02 15:13:15.381 | INFO     | src.strategies.rsi_strategy:_generate_signal_for_symbol:133 - RSI sustained overbought for Bitstamp:BTCUSD: 74.82\n",
      "2025-08-02 15:13:15.382 | INFO     | src.strategies.rsi_strategy:_generate_signal_for_symbol:133 - RSI sustained overbought for Bitstamp:BTCUSD: 72.98\n",
      "2025-08-02 15:13:15.385 | INFO     | src.strategies.rsi_strategy:_generate_signal_for_symbol:118 - RSI overbought signal for Bitstamp:BTCUSD: 70.69 > 70\n",
      "2025-08-02 15:13:15.386 | INFO     | src.strategies.rsi_strategy:_generate_signal_for_symbol:133 - RSI sustained overbought for Bitstamp:BTCUSD: 81.69\n",
      "2025-08-02 15:13:15.387 | INFO     | src.strategies.rsi_strategy:_generate_signal_for_symbol:133 - RSI sustained overbought for Bitstamp:BTCUSD: 77.59\n",
      "2025-08-02 15:13:15.387 | INFO     | src.strategies.rsi_strategy:_generate_signal_for_symbol:133 - RSI sustained overbought for Bitstamp:BTCUSD: 76.58\n",
      "2025-08-02 15:13:15.388 | INFO     | src.strategies.rsi_strategy:_generate_signal_for_symbol:133 - RSI sustained overbought for Bitstamp:BTCUSD: 79.40\n",
      "2025-08-02 15:13:15.389 | INFO     | src.strategies.rsi_strategy:_generate_signal_for_symbol:133 - RSI sustained overbought for Bitstamp:BTCUSD: 74.47\n",
      "2025-08-02 15:13:15.399 | INFO     | src.strategies.rsi_strategy:_generate_signal_for_symbol:112 - RSI oversold signal for Bitstamp:BTCUSD: 22.03 < 30\n",
      "2025-08-02 15:13:15.399 | DEBUG    | src.backtesting.backtest_engine:_execute_trades:216 - BUY 0.20 Bitstamp:BTCUSD @ $101559.00\n",
      "2025-08-02 15:13:15.418 | INFO     | src.strategies.rsi_strategy:_generate_signal_for_symbol:118 - RSI overbought signal for Bitstamp:BTCUSD: 73.31 > 70\n",
      "2025-08-02 15:13:15.418 | DEBUG    | src.backtesting.backtest_engine:_execute_trades:245 - SELL 0.20 Bitstamp:BTCUSD @ $109233.00\n",
      "2025-08-02 15:13:15.420 | INFO     | src.strategies.rsi_strategy:_generate_signal_for_symbol:118 - RSI overbought signal for Bitstamp:BTCUSD: 73.15 > 70\n",
      "2025-08-02 15:13:15.421 | INFO     | src.strategies.rsi_strategy:_generate_signal_for_symbol:133 - RSI sustained overbought for Bitstamp:BTCUSD: 75.01\n",
      "2025-08-02 15:13:15.422 | INFO     | src.strategies.rsi_strategy:_generate_signal_for_symbol:133 - RSI sustained overbought for Bitstamp:BTCUSD: 74.30\n",
      "2025-08-02 15:13:15.422 | INFO     | src.strategies.rsi_strategy:_generate_signal_for_symbol:133 - RSI sustained overbought for Bitstamp:BTCUSD: 75.06\n",
      "2025-08-02 15:13:15.423 | INFO     | src.strategies.rsi_strategy:_generate_signal_for_symbol:133 - RSI sustained overbought for Bitstamp:BTCUSD: 80.25\n",
      "2025-08-02 15:13:15.423 | INFO     | src.strategies.rsi_strategy:_generate_signal_for_symbol:133 - RSI sustained overbought for Bitstamp:BTCUSD: 77.88\n",
      "2025-08-02 15:13:15.424 | INFO     | src.strategies.rsi_strategy:_generate_signal_for_symbol:133 - RSI sustained overbought for Bitstamp:BTCUSD: 75.34\n",
      "2025-08-02 15:13:15.424 | INFO     | src.strategies.rsi_strategy:_generate_signal_for_symbol:133 - RSI sustained overbought for Bitstamp:BTCUSD: 75.07\n",
      "2025-08-02 15:13:15.425 | INFO     | src.strategies.rsi_strategy:_generate_signal_for_symbol:133 - RSI sustained overbought for Bitstamp:BTCUSD: 76.51\n",
      "2025-08-02 15:13:15.425 | INFO     | src.strategies.rsi_strategy:_generate_signal_for_symbol:133 - RSI sustained overbought for Bitstamp:BTCUSD: 75.82\n",
      "2025-08-02 15:13:15.426 | INFO     | src.strategies.rsi_strategy:_generate_signal_for_symbol:133 - RSI sustained overbought for Bitstamp:BTCUSD: 72.12\n",
      "2025-08-02 15:13:15.427 | INFO     | src.strategies.rsi_strategy:_generate_signal_for_symbol:133 - RSI sustained overbought for Bitstamp:BTCUSD: 76.18\n",
      "2025-08-02 15:13:15.427 | INFO     | src.strategies.rsi_strategy:_generate_signal_for_symbol:133 - RSI sustained overbought for Bitstamp:BTCUSD: 78.54\n",
      "2025-08-02 15:13:15.428 | INFO     | src.strategies.rsi_strategy:_generate_signal_for_symbol:133 - RSI sustained overbought for Bitstamp:BTCUSD: 70.63\n",
      "2025-08-02 15:13:15.436 | INFO     | src.strategies.base_strategy:__init__:34 - Initialized strategy: rsi\n",
      "2025-08-02 15:13:15.436 | INFO     | src.strategies.rsi_strategy:__init__:56 - RSI Strategy initialized: period=14, overbought=70, oversold=30\n",
      "2025-08-02 15:13:15.436 | INFO     | src.backtesting.backtest_engine:run_backtest:53 - Starting backtest from 2023-01-01 to 2023-06-30\n",
      "2025-08-02 15:13:15.436 | INFO     | src.data.data_manager:get_historical_data_standardized:589 - Fetching standardized OHLCV data for ['Bitstamp:BTCUSD'] from 2023-01-01 to 2023-06-30\n",
      "2025-08-02 15:13:15.436 | INFO     | src.data.data_manager:get_historical_data:64 - Fetching historical OHLCV data for ['Bitstamp:BTCUSD'] from 2023-01-01 to 2023-06-30\n",
      "2025-08-02 15:13:15.833 | INFO     | src.data.data_manager:_fetch_tradingview_ohlcv_data:159 - Successfully fetched OHLCV data for 1 symbols\n",
      "2025-08-02 15:13:15.833 | INFO     | src.data.data_manager:get_historical_data:97 - OHLCV data cached successfully\n",
      "2025-08-02 15:13:15.835 | INFO     | src.data.data_manager:ensure_ohlcv_format:500 - Data formatted for Bitstamp:BTCUSD: (100, 5)\n",
      "2025-08-02 15:13:15.835 | INFO     | src.data.data_manager:get_historical_data_standardized:622 - Successfully standardized OHLCV data for 1 symbols\n",
      "2025-08-02 15:13:15.835 | INFO     | src.backtesting.backtest_engine:run_backtest:65 - Running backtest for strategy: rsi_test\n",
      "2025-08-02 15:13:15.836 | INFO     | src.strategies.base_strategy:reset:99 - Reset strategy: rsi\n",
      "2025-08-02 15:13:15.836 | INFO     | src.risk.risk_manager:__init__:49 - Risk manager initialized\n",
      "2025-08-02 15:13:15.840 | INFO     | src.strategies.rsi_strategy:_generate_signal_for_symbol:133 - RSI sustained overbought for Bitstamp:BTCUSD: 76.14\n",
      "2025-08-02 15:13:15.841 | INFO     | src.strategies.rsi_strategy:_generate_signal_for_symbol:133 - RSI sustained overbought for Bitstamp:BTCUSD: 76.98\n",
      "2025-08-02 15:13:15.842 | INFO     | src.strategies.rsi_strategy:_generate_signal_for_symbol:133 - RSI sustained overbought for Bitstamp:BTCUSD: 70.13\n",
      "2025-08-02 15:13:15.843 | INFO     | src.strategies.rsi_strategy:_generate_signal_for_symbol:133 - RSI sustained overbought for Bitstamp:BTCUSD: 74.82\n",
      "2025-08-02 15:13:15.844 | INFO     | src.strategies.rsi_strategy:_generate_signal_for_symbol:133 - RSI sustained overbought for Bitstamp:BTCUSD: 72.98\n",
      "2025-08-02 15:13:15.848 | INFO     | src.strategies.rsi_strategy:_generate_signal_for_symbol:118 - RSI overbought signal for Bitstamp:BTCUSD: 70.69 > 70\n",
      "2025-08-02 15:13:15.850 | INFO     | src.strategies.rsi_strategy:_generate_signal_for_symbol:133 - RSI sustained overbought for Bitstamp:BTCUSD: 81.69\n",
      "2025-08-02 15:13:15.851 | INFO     | src.strategies.rsi_strategy:_generate_signal_for_symbol:133 - RSI sustained overbought for Bitstamp:BTCUSD: 77.59\n",
      "2025-08-02 15:13:15.851 | INFO     | src.strategies.rsi_strategy:_generate_signal_for_symbol:133 - RSI sustained overbought for Bitstamp:BTCUSD: 76.58\n",
      "2025-08-02 15:13:15.852 | INFO     | src.strategies.rsi_strategy:_generate_signal_for_symbol:133 - RSI sustained overbought for Bitstamp:BTCUSD: 79.40\n",
      "2025-08-02 15:13:15.853 | INFO     | src.strategies.rsi_strategy:_generate_signal_for_symbol:133 - RSI sustained overbought for Bitstamp:BTCUSD: 74.47\n",
      "2025-08-02 15:13:15.866 | INFO     | src.strategies.rsi_strategy:_generate_signal_for_symbol:112 - RSI oversold signal for Bitstamp:BTCUSD: 22.03 < 30\n",
      "2025-08-02 15:13:15.866 | DEBUG    | src.backtesting.backtest_engine:_execute_trades:216 - BUY 0.20 Bitstamp:BTCUSD @ $101559.00\n",
      "2025-08-02 15:13:15.887 | INFO     | src.strategies.rsi_strategy:_generate_signal_for_symbol:118 - RSI overbought signal for Bitstamp:BTCUSD: 73.31 > 70\n",
      "2025-08-02 15:13:15.887 | DEBUG    | src.backtesting.backtest_engine:_execute_trades:245 - SELL 0.20 Bitstamp:BTCUSD @ $109233.00\n",
      "2025-08-02 15:13:15.889 | INFO     | src.strategies.rsi_strategy:_generate_signal_for_symbol:118 - RSI overbought signal for Bitstamp:BTCUSD: 73.15 > 70\n",
      "2025-08-02 15:13:15.889 | INFO     | src.strategies.rsi_strategy:_generate_signal_for_symbol:133 - RSI sustained overbought for Bitstamp:BTCUSD: 75.01\n",
      "2025-08-02 15:13:15.890 | INFO     | src.strategies.rsi_strategy:_generate_signal_for_symbol:133 - RSI sustained overbought for Bitstamp:BTCUSD: 74.30\n",
      "2025-08-02 15:13:15.891 | INFO     | src.strategies.rsi_strategy:_generate_signal_for_symbol:133 - RSI sustained overbought for Bitstamp:BTCUSD: 75.06\n",
      "2025-08-02 15:13:15.891 | INFO     | src.strategies.rsi_strategy:_generate_signal_for_symbol:133 - RSI sustained overbought for Bitstamp:BTCUSD: 80.25\n",
      "2025-08-02 15:13:15.892 | INFO     | src.strategies.rsi_strategy:_generate_signal_for_symbol:133 - RSI sustained overbought for Bitstamp:BTCUSD: 77.88\n",
      "2025-08-02 15:13:15.892 | INFO     | src.strategies.rsi_strategy:_generate_signal_for_symbol:133 - RSI sustained overbought for Bitstamp:BTCUSD: 75.34\n",
      "2025-08-02 15:13:15.893 | INFO     | src.strategies.rsi_strategy:_generate_signal_for_symbol:133 - RSI sustained overbought for Bitstamp:BTCUSD: 75.07\n",
      "2025-08-02 15:13:15.893 | INFO     | src.strategies.rsi_strategy:_generate_signal_for_symbol:133 - RSI sustained overbought for Bitstamp:BTCUSD: 76.51\n",
      "2025-08-02 15:13:15.894 | INFO     | src.strategies.rsi_strategy:_generate_signal_for_symbol:133 - RSI sustained overbought for Bitstamp:BTCUSD: 75.82\n",
      "2025-08-02 15:13:15.895 | INFO     | src.strategies.rsi_strategy:_generate_signal_for_symbol:133 - RSI sustained overbought for Bitstamp:BTCUSD: 72.12\n",
      "2025-08-02 15:13:15.895 | INFO     | src.strategies.rsi_strategy:_generate_signal_for_symbol:133 - RSI sustained overbought for Bitstamp:BTCUSD: 76.18\n",
      "2025-08-02 15:13:15.897 | INFO     | src.strategies.rsi_strategy:_generate_signal_for_symbol:133 - RSI sustained overbought for Bitstamp:BTCUSD: 78.54\n",
      "2025-08-02 15:13:15.898 | INFO     | src.strategies.rsi_strategy:_generate_signal_for_symbol:133 - RSI sustained overbought for Bitstamp:BTCUSD: 70.63\n",
      "2025-08-02 15:13:15.906 | INFO     | src.strategies.base_strategy:__init__:34 - Initialized strategy: rsi\n",
      "2025-08-02 15:13:15.907 | INFO     | src.strategies.rsi_strategy:__init__:56 - RSI Strategy initialized: period=30, overbought=70, oversold=30\n",
      "2025-08-02 15:13:15.907 | INFO     | src.backtesting.backtest_engine:run_backtest:53 - Starting backtest from 2023-01-01 to 2023-06-30\n",
      "2025-08-02 15:13:15.907 | INFO     | src.data.data_manager:get_historical_data_standardized:589 - Fetching standardized OHLCV data for ['Bitstamp:BTCUSD'] from 2023-01-01 to 2023-06-30\n",
      "2025-08-02 15:13:15.907 | INFO     | src.data.data_manager:get_historical_data:64 - Fetching historical OHLCV data for ['Bitstamp:BTCUSD'] from 2023-01-01 to 2023-06-30\n",
      "ERROR:TradingviewData.main:Connection timed out\n",
      "ERROR:TradingviewData.main:no data, please check the exchange and symbol\n",
      "2025-08-02 15:13:16.015 | ERROR    | src.data.data_manager:_fetch_tradingview_ohlcv_data:166 - Error fetching OHLCV data from TradingView: 'NoneType' object has no attribute 'reset_index'\n",
      "2025-08-02 15:13:16.016 | ERROR    | src.optimization.optimizer:_test_parameter_combination:192 - Error testing parameters {'period': 20, 'oversold': 20, 'overbought': 65}: 'NoneType' object has no attribute 'reset_index'\n",
      "\u001b[32m2025-08-02 15:13:16.017\u001b[0m | \u001b[1mINFO    \u001b[0m | \u001b[36msrc.optimization.optimizer\u001b[0m:\u001b[36m_optimize_parallel\u001b[0m:\u001b[36m149\u001b[0m - \u001b[1mCompleted 10/50 combinations\u001b[0m\n",
      "2025-08-02 15:13:16.016 | INFO     | src.strategies.base_strategy:__init__:34 - Initialized strategy: rsi\n",
      "2025-08-02 15:13:16.016 | INFO     | src.strategies.rsi_strategy:__init__:56 - RSI Strategy initialized: period=20, overbought=70, oversold=30\n",
      "2025-08-02 15:13:16.016 | INFO     | src.backtesting.backtest_engine:run_backtest:53 - Starting backtest from 2023-01-01 to 2023-06-30\n",
      "2025-08-02 15:13:16.016 | INFO     | src.data.data_manager:get_historical_data_standardized:589 - Fetching standardized OHLCV data for ['Bitstamp:BTCUSD'] from 2023-01-01 to 2023-06-30\n",
      "2025-08-02 15:13:16.017 | INFO     | src.data.data_manager:get_historical_data:64 - Fetching historical OHLCV data for ['Bitstamp:BTCUSD'] from 2023-01-01 to 2023-06-30\n",
      "2025-08-02 15:13:16.846 | INFO     | src.data.data_manager:_fetch_tradingview_ohlcv_data:159 - Successfully fetched OHLCV data for 1 symbols\n",
      "2025-08-02 15:13:16.847 | INFO     | src.data.data_manager:get_historical_data:97 - OHLCV data cached successfully\n",
      "2025-08-02 15:13:16.850 | INFO     | src.data.data_manager:ensure_ohlcv_format:500 - Data formatted for Bitstamp:BTCUSD: (100, 5)\n",
      "2025-08-02 15:13:16.851 | INFO     | src.data.data_manager:get_historical_data_standardized:622 - Successfully standardized OHLCV data for 1 symbols\n",
      "2025-08-02 15:13:16.851 | INFO     | src.backtesting.backtest_engine:run_backtest:65 - Running backtest for strategy: rsi_test\n",
      "2025-08-02 15:13:16.851 | INFO     | src.strategies.base_strategy:reset:99 - Reset strategy: rsi\n",
      "2025-08-02 15:13:16.851 | INFO     | src.risk.risk_manager:__init__:49 - Risk manager initialized\n",
      "2025-08-02 15:13:16.865 | INFO     | src.strategies.rsi_strategy:_generate_signal_for_symbol:118 - RSI overbought signal for Bitstamp:BTCUSD: 70.07 > 70\n",
      "2025-08-02 15:13:16.866 | INFO     | src.strategies.rsi_strategy:_generate_signal_for_symbol:133 - RSI sustained overbought for Bitstamp:BTCUSD: 72.53\n",
      "2025-08-02 15:13:16.867 | INFO     | src.strategies.rsi_strategy:_generate_signal_for_symbol:133 - RSI sustained overbought for Bitstamp:BTCUSD: 72.13\n",
      "2025-08-02 15:13:16.868 | INFO     | src.strategies.rsi_strategy:_generate_signal_for_symbol:133 - RSI sustained overbought for Bitstamp:BTCUSD: 73.70\n",
      "2025-08-02 15:13:16.869 | INFO     | src.strategies.rsi_strategy:_generate_signal_for_symbol:133 - RSI sustained overbought for Bitstamp:BTCUSD: 74.15\n",
      "2025-08-02 15:13:16.869 | INFO     | src.strategies.rsi_strategy:_generate_signal_for_symbol:133 - RSI sustained overbought for Bitstamp:BTCUSD: 75.65\n",
      "2025-08-02 15:13:16.871 | INFO     | src.strategies.rsi_strategy:_generate_signal_for_symbol:118 - RSI overbought signal for Bitstamp:BTCUSD: 71.63 > 70\n",
      "2025-08-02 15:13:16.871 | INFO     | src.strategies.rsi_strategy:_generate_signal_for_symbol:133 - RSI sustained overbought for Bitstamp:BTCUSD: 72.40\n",
      "2025-08-02 15:13:16.872 | INFO     | src.strategies.rsi_strategy:_generate_signal_for_symbol:133 - RSI sustained overbought for Bitstamp:BTCUSD: 70.86\n",
      "2025-08-02 15:13:16.902 | INFO     | src.strategies.rsi_strategy:_generate_signal_for_symbol:118 - RSI overbought signal for Bitstamp:BTCUSD: 72.22 > 70\n",
      "2025-08-02 15:13:16.903 | INFO     | src.strategies.rsi_strategy:_generate_signal_for_symbol:133 - RSI sustained overbought for Bitstamp:BTCUSD: 76.63\n",
      "2025-08-02 15:13:16.904 | INFO     | src.strategies.rsi_strategy:_generate_signal_for_symbol:133 - RSI sustained overbought for Bitstamp:BTCUSD: 79.40\n",
      "2025-08-02 15:13:16.904 | INFO     | src.strategies.rsi_strategy:_generate_signal_for_symbol:133 - RSI sustained overbought for Bitstamp:BTCUSD: 77.12\n",
      "2025-08-02 15:13:16.905 | INFO     | src.strategies.rsi_strategy:_generate_signal_for_symbol:133 - RSI sustained overbought for Bitstamp:BTCUSD: 77.19\n",
      "2025-08-02 15:13:16.906 | INFO     | src.strategies.rsi_strategy:_generate_signal_for_symbol:118 - RSI overbought signal for Bitstamp:BTCUSD: 71.99 > 70\n",
      "2025-08-02 15:13:16.906 | INFO     | src.strategies.rsi_strategy:_generate_signal_for_symbol:133 - RSI sustained overbought for Bitstamp:BTCUSD: 72.47\n",
      "2025-08-02 15:13:16.909 | INFO     | src.strategies.rsi_strategy:_generate_signal_for_symbol:118 - RSI overbought signal for Bitstamp:BTCUSD: 73.30 > 70\n",
      "2025-08-02 15:13:16.909 | INFO     | src.strategies.rsi_strategy:_generate_signal_for_symbol:133 - RSI sustained overbought for Bitstamp:BTCUSD: 72.64\n",
      "2025-08-02 15:13:16.910 | INFO     | src.strategies.rsi_strategy:_generate_signal_for_symbol:118 - RSI overbought signal for Bitstamp:BTCUSD: 71.62 > 70\n",
      "2025-08-02 15:13:16.912 | INFO     | src.strategies.rsi_strategy:_generate_signal_for_symbol:118 - RSI overbought signal for Bitstamp:BTCUSD: 73.08 > 70\n",
      "divide by zero encountered in scalar divide\n",
      "2025-08-02 15:13:16.920 | INFO     | src.strategies.base_strategy:__init__:34 - Initialized strategy: rsi\n",
      "2025-08-02 15:13:16.920 | INFO     | src.strategies.rsi_strategy:__init__:56 - RSI Strategy initialized: period=10, overbought=70, oversold=30\n",
      "2025-08-02 15:13:16.920 | INFO     | src.backtesting.backtest_engine:run_backtest:53 - Starting backtest from 2023-01-01 to 2023-06-30\n",
      "2025-08-02 15:13:16.920 | INFO     | src.data.data_manager:get_historical_data_standardized:589 - Fetching standardized OHLCV data for ['Bitstamp:BTCUSD'] from 2023-01-01 to 2023-06-30\n",
      "2025-08-02 15:13:16.920 | INFO     | src.data.data_manager:get_historical_data:64 - Fetching historical OHLCV data for ['Bitstamp:BTCUSD'] from 2023-01-01 to 2023-06-30\n",
      "2025-08-02 15:13:17.326 | INFO     | src.data.data_manager:_fetch_tradingview_ohlcv_data:159 - Successfully fetched OHLCV data for 1 symbols\n",
      "2025-08-02 15:13:17.327 | INFO     | src.data.data_manager:get_historical_data:97 - OHLCV data cached successfully\n",
      "2025-08-02 15:13:17.328 | INFO     | src.data.data_manager:ensure_ohlcv_format:500 - Data formatted for Bitstamp:BTCUSD: (100, 5)\n",
      "2025-08-02 15:13:17.328 | INFO     | src.data.data_manager:get_historical_data_standardized:622 - Successfully standardized OHLCV data for 1 symbols\n",
      "2025-08-02 15:13:17.328 | INFO     | src.backtesting.backtest_engine:run_backtest:65 - Running backtest for strategy: rsi_test\n",
      "2025-08-02 15:13:17.328 | INFO     | src.strategies.base_strategy:reset:99 - Reset strategy: rsi\n",
      "2025-08-02 15:13:17.328 | INFO     | src.risk.risk_manager:__init__:49 - Risk manager initialized\n",
      "2025-08-02 15:13:17.334 | INFO     | src.strategies.rsi_strategy:_generate_signal_for_symbol:118 - RSI overbought signal for Bitstamp:BTCUSD: 77.11 > 70\n",
      "2025-08-02 15:13:17.335 | INFO     | src.strategies.rsi_strategy:_generate_signal_for_symbol:133 - RSI sustained overbought for Bitstamp:BTCUSD: 79.67\n",
      "2025-08-02 15:13:17.336 | INFO     | src.strategies.rsi_strategy:_generate_signal_for_symbol:133 - RSI sustained overbought for Bitstamp:BTCUSD: 82.43\n",
      "2025-08-02 15:13:17.337 | INFO     | src.strategies.rsi_strategy:_generate_signal_for_symbol:133 - RSI sustained overbought for Bitstamp:BTCUSD: 75.81\n",
      "2025-08-02 15:13:17.338 | INFO     | src.strategies.rsi_strategy:_generate_signal_for_symbol:118 - RSI overbought signal for Bitstamp:BTCUSD: 75.71 > 70\n",
      "2025-08-02 15:13:17.339 | INFO     | src.strategies.rsi_strategy:_generate_signal_for_symbol:133 - RSI sustained overbought for Bitstamp:BTCUSD: 80.74\n",
      "2025-08-02 15:13:17.339 | INFO     | src.strategies.rsi_strategy:_generate_signal_for_symbol:133 - RSI sustained overbought for Bitstamp:BTCUSD: 80.55\n",
      "2025-08-02 15:13:17.340 | INFO     | src.strategies.rsi_strategy:_generate_signal_for_symbol:133 - RSI sustained overbought for Bitstamp:BTCUSD: 75.66\n",
      "2025-08-02 15:13:17.341 | INFO     | src.strategies.rsi_strategy:_generate_signal_for_symbol:133 - RSI sustained overbought for Bitstamp:BTCUSD: 73.18\n",
      "2025-08-02 15:13:17.343 | INFO     | src.strategies.rsi_strategy:_generate_signal_for_symbol:118 - RSI overbought signal for Bitstamp:BTCUSD: 72.21 > 70\n",
      "2025-08-02 15:13:17.344 | INFO     | src.strategies.rsi_strategy:_generate_signal_for_symbol:133 - RSI sustained overbought for Bitstamp:BTCUSD: 83.81\n",
      "2025-08-02 15:13:17.353 | INFO     | src.strategies.rsi_strategy:_generate_signal_for_symbol:112 - RSI oversold signal for Bitstamp:BTCUSD: 27.90 < 30\n",
      "2025-08-02 15:13:17.353 | DEBUG    | src.backtesting.backtest_engine:_execute_trades:216 - BUY 0.19 Bitstamp:BTCUSD @ $105705.00\n",
      "2025-08-02 15:13:17.354 | INFO     | src.strategies.rsi_strategy:_generate_signal_for_symbol:112 - RSI oversold signal for Bitstamp:BTCUSD: 25.62 < 30\n",
      "2025-08-02 15:13:17.355 | INFO     | src.strategies.rsi_strategy:_generate_signal_for_symbol:128 - RSI sustained oversold for Bitstamp:BTCUSD: 16.06\n",
      "2025-08-02 15:13:17.357 | INFO     | src.strategies.rsi_strategy:_generate_signal_for_symbol:118 - RSI overbought signal for Bitstamp:BTCUSD: 70.96 > 70\n",
      "2025-08-02 15:13:17.357 | DEBUG    | src.backtesting.backtest_engine:_execute_trades:245 - SELL 0.19 Bitstamp:BTCUSD @ $110307.00\n",
      "2025-08-02 15:13:17.364 | INFO     | src.strategies.rsi_strategy:_generate_signal_for_symbol:112 - RSI oversold signal for Bitstamp:BTCUSD: 21.33 < 30\n",
      "2025-08-02 15:13:17.364 | DEBUG    | src.backtesting.backtest_engine:_execute_trades:216 - BUY 0.19 Bitstamp:BTCUSD @ $104688.00\n",
      "2025-08-02 15:13:17.365 | INFO     | src.strategies.rsi_strategy:_generate_signal_for_symbol:128 - RSI sustained oversold for Bitstamp:BTCUSD: 18.73\n",
      "2025-08-02 15:13:17.366 | INFO     | src.strategies.rsi_strategy:_generate_signal_for_symbol:128 - RSI sustained oversold for Bitstamp:BTCUSD: 19.50\n",
      "2025-08-02 15:13:17.366 | INFO     | src.strategies.rsi_strategy:_generate_signal_for_symbol:128 - RSI sustained oversold for Bitstamp:BTCUSD: 23.49\n",
      "2025-08-02 15:13:17.372 | INFO     | src.strategies.rsi_strategy:_generate_signal_for_symbol:118 - RSI overbought signal for Bitstamp:BTCUSD: 78.01 > 70\n",
      "2025-08-02 15:13:17.372 | DEBUG    | src.backtesting.backtest_engine:_execute_trades:245 - SELL 0.19 Bitstamp:BTCUSD @ $108885.00\n",
      "2025-08-02 15:13:17.373 | INFO     | src.strategies.rsi_strategy:_generate_signal_for_symbol:133 - RSI sustained overbought for Bitstamp:BTCUSD: 70.19\n",
      "2025-08-02 15:13:17.376 | INFO     | src.strategies.rsi_strategy:_generate_signal_for_symbol:118 - RSI overbought signal for Bitstamp:BTCUSD: 76.17 > 70\n",
      "2025-08-02 15:13:17.377 | INFO     | src.strategies.rsi_strategy:_generate_signal_for_symbol:133 - RSI sustained overbought for Bitstamp:BTCUSD: 84.93\n",
      "2025-08-02 15:13:17.378 | INFO     | src.strategies.rsi_strategy:_generate_signal_for_symbol:133 - RSI sustained overbought for Bitstamp:BTCUSD: 80.79\n",
      "2025-08-02 15:13:17.378 | INFO     | src.strategies.rsi_strategy:_generate_signal_for_symbol:133 - RSI sustained overbought for Bitstamp:BTCUSD: 81.97\n",
      "2025-08-02 15:13:17.379 | INFO     | src.strategies.rsi_strategy:_generate_signal_for_symbol:133 - RSI sustained overbought for Bitstamp:BTCUSD: 92.40\n",
      "2025-08-02 15:13:17.380 | INFO     | src.strategies.rsi_strategy:_generate_signal_for_symbol:133 - RSI sustained overbought for Bitstamp:BTCUSD: 80.02\n",
      "2025-08-02 15:13:17.381 | INFO     | src.strategies.rsi_strategy:_generate_signal_for_symbol:133 - RSI sustained overbought for Bitstamp:BTCUSD: 79.96\n",
      "2025-08-02 15:13:17.382 | INFO     | src.strategies.rsi_strategy:_generate_signal_for_symbol:133 - RSI sustained overbought for Bitstamp:BTCUSD: 85.59\n",
      "2025-08-02 15:13:17.383 | INFO     | src.strategies.rsi_strategy:_generate_signal_for_symbol:133 - RSI sustained overbought for Bitstamp:BTCUSD: 78.30\n",
      "2025-08-02 15:13:17.383 | INFO     | src.strategies.rsi_strategy:_generate_signal_for_symbol:133 - RSI sustained overbought for Bitstamp:BTCUSD: 74.02\n",
      "2025-08-02 15:13:17.390 | INFO     | src.strategies.rsi_strategy:_generate_signal_for_symbol:112 - RSI oversold signal for Bitstamp:BTCUSD: 17.46 < 30\n",
      "2025-08-02 15:13:17.390 | DEBUG    | src.backtesting.backtest_engine:_execute_trades:216 - BUY 0.18 Bitstamp:BTCUSD @ $113243.00\n",
      "2025-08-02 15:13:17.391 | INFO     | src.strategies.rsi_strategy:_generate_signal_for_symbol:128 - RSI sustained oversold for Bitstamp:BTCUSD: 25.25\n",
      "2025-08-02 15:13:17.397 | INFO     | src.strategies.base_strategy:__init__:34 - Initialized strategy: rsi\n",
      "2025-08-02 15:13:17.397 | INFO     | src.strategies.rsi_strategy:__init__:56 - RSI Strategy initialized: period=14, overbought=70, oversold=30\n",
      "2025-08-02 15:13:17.397 | INFO     | src.backtesting.backtest_engine:run_backtest:53 - Starting backtest from 2023-01-01 to 2023-06-30\n",
      "2025-08-02 15:13:17.397 | INFO     | src.data.data_manager:get_historical_data_standardized:589 - Fetching standardized OHLCV data for ['Bitstamp:BTCUSD'] from 2023-01-01 to 2023-06-30\n",
      "2025-08-02 15:13:17.397 | INFO     | src.data.data_manager:get_historical_data:64 - Fetching historical OHLCV data for ['Bitstamp:BTCUSD'] from 2023-01-01 to 2023-06-30\n",
      "ERROR:TradingviewData.main:Connection timed out\n",
      "ERROR:TradingviewData.main:no data, please check the exchange and symbol\n",
      "2025-08-02 15:13:17.510 | ERROR    | src.data.data_manager:_fetch_tradingview_ohlcv_data:166 - Error fetching OHLCV data from TradingView: 'NoneType' object has no attribute 'reset_index'\n",
      "2025-08-02 15:13:17.510 | ERROR    | src.optimization.optimizer:_test_parameter_combination:192 - Error testing parameters {'period': 20, 'oversold': 20, 'overbought': 80}: 'NoneType' object has no attribute 'reset_index'\n",
      "2025-08-02 15:13:17.512 | INFO     | src.strategies.base_strategy:__init__:34 - Initialized strategy: rsi\n",
      "2025-08-02 15:13:17.512 | INFO     | src.strategies.rsi_strategy:__init__:56 - RSI Strategy initialized: period=20, overbought=70, oversold=30\n",
      "2025-08-02 15:13:17.512 | INFO     | src.backtesting.backtest_engine:run_backtest:53 - Starting backtest from 2023-01-01 to 2023-06-30\n",
      "2025-08-02 15:13:17.512 | INFO     | src.data.data_manager:get_historical_data_standardized:589 - Fetching standardized OHLCV data for ['Bitstamp:BTCUSD'] from 2023-01-01 to 2023-06-30\n",
      "2025-08-02 15:13:17.512 | INFO     | src.data.data_manager:get_historical_data:64 - Fetching historical OHLCV data for ['Bitstamp:BTCUSD'] from 2023-01-01 to 2023-06-30\n",
      "2025-08-02 15:13:17.743 | INFO     | src.data.data_manager:_fetch_tradingview_ohlcv_data:159 - Successfully fetched OHLCV data for 1 symbols\n",
      "2025-08-02 15:13:17.744 | INFO     | src.data.data_manager:get_historical_data:97 - OHLCV data cached successfully\n",
      "2025-08-02 15:13:17.745 | INFO     | src.data.data_manager:ensure_ohlcv_format:500 - Data formatted for Bitstamp:BTCUSD: (100, 5)\n",
      "2025-08-02 15:13:17.745 | INFO     | src.data.data_manager:get_historical_data_standardized:622 - Successfully standardized OHLCV data for 1 symbols\n",
      "2025-08-02 15:13:17.745 | INFO     | src.backtesting.backtest_engine:run_backtest:65 - Running backtest for strategy: rsi_test\n",
      "2025-08-02 15:13:17.746 | INFO     | src.strategies.base_strategy:reset:99 - Reset strategy: rsi\n",
      "2025-08-02 15:13:17.746 | INFO     | src.risk.risk_manager:__init__:49 - Risk manager initialized\n",
      "2025-08-02 15:13:17.751 | INFO     | src.strategies.rsi_strategy:_generate_signal_for_symbol:133 - RSI sustained overbought for Bitstamp:BTCUSD: 76.14\n",
      "2025-08-02 15:13:17.752 | INFO     | src.strategies.rsi_strategy:_generate_signal_for_symbol:133 - RSI sustained overbought for Bitstamp:BTCUSD: 76.98\n",
      "2025-08-02 15:13:17.753 | INFO     | src.strategies.rsi_strategy:_generate_signal_for_symbol:133 - RSI sustained overbought for Bitstamp:BTCUSD: 70.13\n",
      "2025-08-02 15:13:17.754 | INFO     | src.strategies.rsi_strategy:_generate_signal_for_symbol:133 - RSI sustained overbought for Bitstamp:BTCUSD: 74.82\n",
      "2025-08-02 15:13:17.755 | INFO     | src.strategies.rsi_strategy:_generate_signal_for_symbol:133 - RSI sustained overbought for Bitstamp:BTCUSD: 72.98\n",
      "2025-08-02 15:13:17.757 | INFO     | src.strategies.rsi_strategy:_generate_signal_for_symbol:118 - RSI overbought signal for Bitstamp:BTCUSD: 70.69 > 70\n",
      "2025-08-02 15:13:17.758 | INFO     | src.strategies.rsi_strategy:_generate_signal_for_symbol:133 - RSI sustained overbought for Bitstamp:BTCUSD: 81.69\n",
      "2025-08-02 15:13:17.758 | INFO     | src.strategies.rsi_strategy:_generate_signal_for_symbol:133 - RSI sustained overbought for Bitstamp:BTCUSD: 77.59\n",
      "2025-08-02 15:13:17.759 | INFO     | src.strategies.rsi_strategy:_generate_signal_for_symbol:133 - RSI sustained overbought for Bitstamp:BTCUSD: 76.58\n",
      "2025-08-02 15:13:17.760 | INFO     | src.strategies.rsi_strategy:_generate_signal_for_symbol:133 - RSI sustained overbought for Bitstamp:BTCUSD: 79.40\n",
      "2025-08-02 15:13:17.761 | INFO     | src.strategies.rsi_strategy:_generate_signal_for_symbol:133 - RSI sustained overbought for Bitstamp:BTCUSD: 74.47\n",
      "2025-08-02 15:13:17.773 | INFO     | src.strategies.rsi_strategy:_generate_signal_for_symbol:112 - RSI oversold signal for Bitstamp:BTCUSD: 22.03 < 30\n",
      "2025-08-02 15:13:17.773 | DEBUG    | src.backtesting.backtest_engine:_execute_trades:216 - BUY 0.20 Bitstamp:BTCUSD @ $101559.00\n",
      "2025-08-02 15:13:17.794 | INFO     | src.strategies.rsi_strategy:_generate_signal_for_symbol:118 - RSI overbought signal for Bitstamp:BTCUSD: 73.31 > 70\n",
      "2025-08-02 15:13:17.795 | DEBUG    | src.backtesting.backtest_engine:_execute_trades:245 - SELL 0.20 Bitstamp:BTCUSD @ $109233.00\n",
      "2025-08-02 15:13:17.798 | INFO     | src.strategies.rsi_strategy:_generate_signal_for_symbol:118 - RSI overbought signal for Bitstamp:BTCUSD: 73.15 > 70\n",
      "2025-08-02 15:13:17.799 | INFO     | src.strategies.rsi_strategy:_generate_signal_for_symbol:133 - RSI sustained overbought for Bitstamp:BTCUSD: 75.01\n",
      "2025-08-02 15:13:17.800 | INFO     | src.strategies.rsi_strategy:_generate_signal_for_symbol:133 - RSI sustained overbought for Bitstamp:BTCUSD: 74.30\n",
      "2025-08-02 15:13:17.801 | INFO     | src.strategies.rsi_strategy:_generate_signal_for_symbol:133 - RSI sustained overbought for Bitstamp:BTCUSD: 75.06\n",
      "2025-08-02 15:13:17.801 | INFO     | src.strategies.rsi_strategy:_generate_signal_for_symbol:133 - RSI sustained overbought for Bitstamp:BTCUSD: 80.25\n",
      "2025-08-02 15:13:17.802 | INFO     | src.strategies.rsi_strategy:_generate_signal_for_symbol:133 - RSI sustained overbought for Bitstamp:BTCUSD: 77.88\n",
      "2025-08-02 15:13:17.802 | INFO     | src.strategies.rsi_strategy:_generate_signal_for_symbol:133 - RSI sustained overbought for Bitstamp:BTCUSD: 75.34\n",
      "2025-08-02 15:13:17.803 | INFO     | src.strategies.rsi_strategy:_generate_signal_for_symbol:133 - RSI sustained overbought for Bitstamp:BTCUSD: 75.07\n",
      "2025-08-02 15:13:17.804 | INFO     | src.strategies.rsi_strategy:_generate_signal_for_symbol:133 - RSI sustained overbought for Bitstamp:BTCUSD: 76.51\n",
      "2025-08-02 15:13:17.804 | INFO     | src.strategies.rsi_strategy:_generate_signal_for_symbol:133 - RSI sustained overbought for Bitstamp:BTCUSD: 75.82\n",
      "2025-08-02 15:13:17.805 | INFO     | src.strategies.rsi_strategy:_generate_signal_for_symbol:133 - RSI sustained overbought for Bitstamp:BTCUSD: 72.12\n",
      "2025-08-02 15:13:17.807 | INFO     | src.strategies.rsi_strategy:_generate_signal_for_symbol:133 - RSI sustained overbought for Bitstamp:BTCUSD: 76.18\n",
      "2025-08-02 15:13:17.808 | INFO     | src.strategies.rsi_strategy:_generate_signal_for_symbol:133 - RSI sustained overbought for Bitstamp:BTCUSD: 78.54\n",
      "2025-08-02 15:13:17.808 | INFO     | src.strategies.rsi_strategy:_generate_signal_for_symbol:133 - RSI sustained overbought for Bitstamp:BTCUSD: 70.63\n",
      "2025-08-02 15:13:17.818 | INFO     | src.strategies.base_strategy:__init__:34 - Initialized strategy: rsi\n",
      "2025-08-02 15:13:17.818 | INFO     | src.strategies.rsi_strategy:__init__:56 - RSI Strategy initialized: period=10, overbought=70, oversold=30\n",
      "2025-08-02 15:13:17.818 | INFO     | src.backtesting.backtest_engine:run_backtest:53 - Starting backtest from 2023-01-01 to 2023-06-30\n",
      "2025-08-02 15:13:17.819 | INFO     | src.data.data_manager:get_historical_data_standardized:589 - Fetching standardized OHLCV data for ['Bitstamp:BTCUSD'] from 2023-01-01 to 2023-06-30\n",
      "2025-08-02 15:13:17.819 | INFO     | src.data.data_manager:get_historical_data:64 - Fetching historical OHLCV data for ['Bitstamp:BTCUSD'] from 2023-01-01 to 2023-06-30\n",
      "2025-08-02 15:13:18.259 | INFO     | src.data.data_manager:_fetch_tradingview_ohlcv_data:159 - Successfully fetched OHLCV data for 1 symbols\n",
      "2025-08-02 15:13:18.260 | INFO     | src.data.data_manager:get_historical_data:97 - OHLCV data cached successfully\n",
      "2025-08-02 15:13:18.262 | INFO     | src.data.data_manager:ensure_ohlcv_format:500 - Data formatted for Bitstamp:BTCUSD: (100, 5)\n",
      "2025-08-02 15:13:18.263 | INFO     | src.data.data_manager:get_historical_data_standardized:622 - Successfully standardized OHLCV data for 1 symbols\n",
      "2025-08-02 15:13:18.263 | INFO     | src.backtesting.backtest_engine:run_backtest:65 - Running backtest for strategy: rsi_test\n",
      "2025-08-02 15:13:18.263 | INFO     | src.strategies.base_strategy:reset:99 - Reset strategy: rsi\n",
      "2025-08-02 15:13:18.263 | INFO     | src.risk.risk_manager:__init__:49 - Risk manager initialized\n",
      "2025-08-02 15:13:18.273 | INFO     | src.strategies.rsi_strategy:_generate_signal_for_symbol:118 - RSI overbought signal for Bitstamp:BTCUSD: 70.07 > 70\n",
      "2025-08-02 15:13:18.274 | INFO     | src.strategies.rsi_strategy:_generate_signal_for_symbol:133 - RSI sustained overbought for Bitstamp:BTCUSD: 72.53\n",
      "2025-08-02 15:13:18.275 | INFO     | src.strategies.rsi_strategy:_generate_signal_for_symbol:133 - RSI sustained overbought for Bitstamp:BTCUSD: 72.13\n",
      "2025-08-02 15:13:18.276 | INFO     | src.strategies.rsi_strategy:_generate_signal_for_symbol:133 - RSI sustained overbought for Bitstamp:BTCUSD: 73.70\n",
      "2025-08-02 15:13:18.282 | INFO     | src.strategies.rsi_strategy:_generate_signal_for_symbol:133 - RSI sustained overbought for Bitstamp:BTCUSD: 74.15\n",
      "2025-08-02 15:13:18.283 | INFO     | src.strategies.rsi_strategy:_generate_signal_for_symbol:133 - RSI sustained overbought for Bitstamp:BTCUSD: 75.65\n",
      "2025-08-02 15:13:18.285 | INFO     | src.strategies.rsi_strategy:_generate_signal_for_symbol:118 - RSI overbought signal for Bitstamp:BTCUSD: 71.63 > 70\n",
      "2025-08-02 15:13:18.286 | INFO     | src.strategies.rsi_strategy:_generate_signal_for_symbol:133 - RSI sustained overbought for Bitstamp:BTCUSD: 72.40\n",
      "2025-08-02 15:13:18.287 | INFO     | src.strategies.rsi_strategy:_generate_signal_for_symbol:133 - RSI sustained overbought for Bitstamp:BTCUSD: 70.86\n",
      "2025-08-02 15:13:18.321 | INFO     | src.strategies.rsi_strategy:_generate_signal_for_symbol:118 - RSI overbought signal for Bitstamp:BTCUSD: 72.22 > 70\n",
      "2025-08-02 15:13:18.322 | INFO     | src.strategies.rsi_strategy:_generate_signal_for_symbol:133 - RSI sustained overbought for Bitstamp:BTCUSD: 76.63\n",
      "2025-08-02 15:13:18.323 | INFO     | src.strategies.rsi_strategy:_generate_signal_for_symbol:133 - RSI sustained overbought for Bitstamp:BTCUSD: 79.40\n",
      "2025-08-02 15:13:18.323 | INFO     | src.strategies.rsi_strategy:_generate_signal_for_symbol:133 - RSI sustained overbought for Bitstamp:BTCUSD: 77.12\n",
      "2025-08-02 15:13:18.324 | INFO     | src.strategies.rsi_strategy:_generate_signal_for_symbol:133 - RSI sustained overbought for Bitstamp:BTCUSD: 77.19\n",
      "2025-08-02 15:13:18.325 | INFO     | src.strategies.rsi_strategy:_generate_signal_for_symbol:118 - RSI overbought signal for Bitstamp:BTCUSD: 71.99 > 70\n",
      "2025-08-02 15:13:18.325 | INFO     | src.strategies.rsi_strategy:_generate_signal_for_symbol:133 - RSI sustained overbought for Bitstamp:BTCUSD: 72.47\n",
      "2025-08-02 15:13:18.328 | INFO     | src.strategies.rsi_strategy:_generate_signal_for_symbol:118 - RSI overbought signal for Bitstamp:BTCUSD: 73.30 > 70\n",
      "2025-08-02 15:13:18.328 | INFO     | src.strategies.rsi_strategy:_generate_signal_for_symbol:133 - RSI sustained overbought for Bitstamp:BTCUSD: 72.64\n",
      "2025-08-02 15:13:18.330 | INFO     | src.strategies.rsi_strategy:_generate_signal_for_symbol:118 - RSI overbought signal for Bitstamp:BTCUSD: 71.62 > 70\n",
      "2025-08-02 15:13:18.332 | INFO     | src.strategies.rsi_strategy:_generate_signal_for_symbol:118 - RSI overbought signal for Bitstamp:BTCUSD: 73.08 > 70\n",
      "divide by zero encountered in scalar divide\n",
      "2025-08-02 15:13:18.340 | INFO     | src.strategies.base_strategy:__init__:34 - Initialized strategy: rsi\n",
      "2025-08-02 15:13:18.340 | INFO     | src.strategies.rsi_strategy:__init__:56 - RSI Strategy initialized: period=14, overbought=70, oversold=30\n",
      "2025-08-02 15:13:18.340 | INFO     | src.backtesting.backtest_engine:run_backtest:53 - Starting backtest from 2023-01-01 to 2023-06-30\n",
      "2025-08-02 15:13:18.340 | INFO     | src.data.data_manager:get_historical_data_standardized:589 - Fetching standardized OHLCV data for ['Bitstamp:BTCUSD'] from 2023-01-01 to 2023-06-30\n",
      "2025-08-02 15:13:18.340 | INFO     | src.data.data_manager:get_historical_data:64 - Fetching historical OHLCV data for ['Bitstamp:BTCUSD'] from 2023-01-01 to 2023-06-30\n",
      "2025-08-02 15:13:18.762 | INFO     | src.data.data_manager:_fetch_tradingview_ohlcv_data:159 - Successfully fetched OHLCV data for 1 symbols\n",
      "2025-08-02 15:13:18.763 | INFO     | src.data.data_manager:get_historical_data:97 - OHLCV data cached successfully\n",
      "2025-08-02 15:13:18.765 | INFO     | src.data.data_manager:ensure_ohlcv_format:500 - Data formatted for Bitstamp:BTCUSD: (100, 5)\n",
      "2025-08-02 15:13:18.766 | INFO     | src.data.data_manager:get_historical_data_standardized:622 - Successfully standardized OHLCV data for 1 symbols\n",
      "2025-08-02 15:13:18.766 | INFO     | src.backtesting.backtest_engine:run_backtest:65 - Running backtest for strategy: rsi_test\n",
      "2025-08-02 15:13:18.766 | INFO     | src.strategies.base_strategy:reset:99 - Reset strategy: rsi\n",
      "2025-08-02 15:13:18.766 | INFO     | src.risk.risk_manager:__init__:49 - Risk manager initialized\n",
      "2025-08-02 15:13:18.774 | INFO     | src.strategies.rsi_strategy:_generate_signal_for_symbol:118 - RSI overbought signal for Bitstamp:BTCUSD: 77.11 > 70\n",
      "2025-08-02 15:13:18.775 | INFO     | src.strategies.rsi_strategy:_generate_signal_for_symbol:133 - RSI sustained overbought for Bitstamp:BTCUSD: 79.67\n",
      "2025-08-02 15:13:18.776 | INFO     | src.strategies.rsi_strategy:_generate_signal_for_symbol:133 - RSI sustained overbought for Bitstamp:BTCUSD: 82.43\n",
      "2025-08-02 15:13:18.777 | INFO     | src.strategies.rsi_strategy:_generate_signal_for_symbol:133 - RSI sustained overbought for Bitstamp:BTCUSD: 75.81\n",
      "2025-08-02 15:13:18.780 | INFO     | src.strategies.rsi_strategy:_generate_signal_for_symbol:118 - RSI overbought signal for Bitstamp:BTCUSD: 75.71 > 70\n",
      "2025-08-02 15:13:18.781 | INFO     | src.strategies.rsi_strategy:_generate_signal_for_symbol:133 - RSI sustained overbought for Bitstamp:BTCUSD: 80.74\n",
      "2025-08-02 15:13:18.782 | INFO     | src.strategies.rsi_strategy:_generate_signal_for_symbol:133 - RSI sustained overbought for Bitstamp:BTCUSD: 80.55\n",
      "2025-08-02 15:13:18.784 | INFO     | src.strategies.rsi_strategy:_generate_signal_for_symbol:133 - RSI sustained overbought for Bitstamp:BTCUSD: 75.66\n",
      "2025-08-02 15:13:18.785 | INFO     | src.strategies.rsi_strategy:_generate_signal_for_symbol:133 - RSI sustained overbought for Bitstamp:BTCUSD: 73.18\n",
      "2025-08-02 15:13:18.788 | INFO     | src.strategies.rsi_strategy:_generate_signal_for_symbol:118 - RSI overbought signal for Bitstamp:BTCUSD: 72.21 > 70\n",
      "2025-08-02 15:13:18.789 | INFO     | src.strategies.rsi_strategy:_generate_signal_for_symbol:133 - RSI sustained overbought for Bitstamp:BTCUSD: 83.81\n",
      "2025-08-02 15:13:18.800 | INFO     | src.strategies.rsi_strategy:_generate_signal_for_symbol:112 - RSI oversold signal for Bitstamp:BTCUSD: 27.90 < 30\n",
      "2025-08-02 15:13:18.800 | DEBUG    | src.backtesting.backtest_engine:_execute_trades:216 - BUY 0.19 Bitstamp:BTCUSD @ $105705.00\n",
      "2025-08-02 15:13:18.803 | INFO     | src.strategies.rsi_strategy:_generate_signal_for_symbol:112 - RSI oversold signal for Bitstamp:BTCUSD: 25.62 < 30\n",
      "2025-08-02 15:13:18.803 | INFO     | src.strategies.rsi_strategy:_generate_signal_for_symbol:128 - RSI sustained oversold for Bitstamp:BTCUSD: 16.06\n",
      "2025-08-02 15:13:18.806 | INFO     | src.strategies.rsi_strategy:_generate_signal_for_symbol:118 - RSI overbought signal for Bitstamp:BTCUSD: 70.96 > 70\n",
      "2025-08-02 15:13:18.806 | DEBUG    | src.backtesting.backtest_engine:_execute_trades:245 - SELL 0.19 Bitstamp:BTCUSD @ $110307.00\n",
      "2025-08-02 15:13:18.814 | INFO     | src.strategies.rsi_strategy:_generate_signal_for_symbol:112 - RSI oversold signal for Bitstamp:BTCUSD: 21.33 < 30\n",
      "2025-08-02 15:13:18.814 | DEBUG    | src.backtesting.backtest_engine:_execute_trades:216 - BUY 0.19 Bitstamp:BTCUSD @ $104688.00\n",
      "2025-08-02 15:13:18.815 | INFO     | src.strategies.rsi_strategy:_generate_signal_for_symbol:128 - RSI sustained oversold for Bitstamp:BTCUSD: 18.73\n",
      "2025-08-02 15:13:18.816 | INFO     | src.strategies.rsi_strategy:_generate_signal_for_symbol:128 - RSI sustained oversold for Bitstamp:BTCUSD: 19.50\n",
      "2025-08-02 15:13:18.816 | INFO     | src.strategies.rsi_strategy:_generate_signal_for_symbol:128 - RSI sustained oversold for Bitstamp:BTCUSD: 23.49\n",
      "2025-08-02 15:13:18.823 | INFO     | src.strategies.rsi_strategy:_generate_signal_for_symbol:118 - RSI overbought signal for Bitstamp:BTCUSD: 78.01 > 70\n",
      "2025-08-02 15:13:18.823 | DEBUG    | src.backtesting.backtest_engine:_execute_trades:245 - SELL 0.19 Bitstamp:BTCUSD @ $108885.00\n",
      "2025-08-02 15:13:18.823 | INFO     | src.strategies.rsi_strategy:_generate_signal_for_symbol:133 - RSI sustained overbought for Bitstamp:BTCUSD: 70.19\n",
      "2025-08-02 15:13:18.828 | INFO     | src.strategies.rsi_strategy:_generate_signal_for_symbol:118 - RSI overbought signal for Bitstamp:BTCUSD: 76.17 > 70\n",
      "2025-08-02 15:13:18.828 | INFO     | src.strategies.rsi_strategy:_generate_signal_for_symbol:133 - RSI sustained overbought for Bitstamp:BTCUSD: 84.93\n",
      "2025-08-02 15:13:18.829 | INFO     | src.strategies.rsi_strategy:_generate_signal_for_symbol:133 - RSI sustained overbought for Bitstamp:BTCUSD: 80.79\n",
      "2025-08-02 15:13:18.830 | INFO     | src.strategies.rsi_strategy:_generate_signal_for_symbol:133 - RSI sustained overbought for Bitstamp:BTCUSD: 81.97\n",
      "2025-08-02 15:13:18.831 | INFO     | src.strategies.rsi_strategy:_generate_signal_for_symbol:133 - RSI sustained overbought for Bitstamp:BTCUSD: 92.40\n",
      "2025-08-02 15:13:18.831 | INFO     | src.strategies.rsi_strategy:_generate_signal_for_symbol:133 - RSI sustained overbought for Bitstamp:BTCUSD: 80.02\n",
      "2025-08-02 15:13:18.832 | INFO     | src.strategies.rsi_strategy:_generate_signal_for_symbol:133 - RSI sustained overbought for Bitstamp:BTCUSD: 79.96\n",
      "2025-08-02 15:13:18.832 | INFO     | src.strategies.rsi_strategy:_generate_signal_for_symbol:133 - RSI sustained overbought for Bitstamp:BTCUSD: 85.59\n",
      "2025-08-02 15:13:18.833 | INFO     | src.strategies.rsi_strategy:_generate_signal_for_symbol:133 - RSI sustained overbought for Bitstamp:BTCUSD: 78.30\n",
      "2025-08-02 15:13:18.834 | INFO     | src.strategies.rsi_strategy:_generate_signal_for_symbol:133 - RSI sustained overbought for Bitstamp:BTCUSD: 74.02\n",
      "2025-08-02 15:13:18.841 | INFO     | src.strategies.rsi_strategy:_generate_signal_for_symbol:112 - RSI oversold signal for Bitstamp:BTCUSD: 17.46 < 30\n",
      "2025-08-02 15:13:18.841 | DEBUG    | src.backtesting.backtest_engine:_execute_trades:216 - BUY 0.18 Bitstamp:BTCUSD @ $113243.00\n",
      "2025-08-02 15:13:18.841 | INFO     | src.strategies.rsi_strategy:_generate_signal_for_symbol:128 - RSI sustained oversold for Bitstamp:BTCUSD: 25.25\n",
      "2025-08-02 15:13:18.844 | INFO     | src.strategies.base_strategy:__init__:34 - Initialized strategy: rsi\n",
      "2025-08-02 15:13:18.844 | INFO     | src.strategies.rsi_strategy:__init__:56 - RSI Strategy initialized: period=20, overbought=70, oversold=30\n",
      "2025-08-02 15:13:18.844 | INFO     | src.backtesting.backtest_engine:run_backtest:53 - Starting backtest from 2023-01-01 to 2023-06-30\n",
      "2025-08-02 15:13:18.844 | INFO     | src.data.data_manager:get_historical_data_standardized:589 - Fetching standardized OHLCV data for ['Bitstamp:BTCUSD'] from 2023-01-01 to 2023-06-30\n",
      "2025-08-02 15:13:18.844 | INFO     | src.data.data_manager:get_historical_data:64 - Fetching historical OHLCV data for ['Bitstamp:BTCUSD'] from 2023-01-01 to 2023-06-30\n",
      "2025-08-02 15:13:18.946 | INFO     | src.data.data_manager:_fetch_tradingview_ohlcv_data:159 - Successfully fetched OHLCV data for 1 symbols\n",
      "2025-08-02 15:13:18.947 | INFO     | src.data.data_manager:get_historical_data:97 - OHLCV data cached successfully\n",
      "2025-08-02 15:13:18.948 | INFO     | src.data.data_manager:ensure_ohlcv_format:500 - Data formatted for Bitstamp:BTCUSD: (100, 5)\n",
      "2025-08-02 15:13:18.949 | INFO     | src.data.data_manager:get_historical_data_standardized:622 - Successfully standardized OHLCV data for 1 symbols\n",
      "2025-08-02 15:13:18.949 | INFO     | src.backtesting.backtest_engine:run_backtest:65 - Running backtest for strategy: rsi_test\n",
      "2025-08-02 15:13:18.949 | INFO     | src.strategies.base_strategy:reset:99 - Reset strategy: rsi\n",
      "2025-08-02 15:13:18.949 | INFO     | src.risk.risk_manager:__init__:49 - Risk manager initialized\n",
      "2025-08-02 15:13:18.953 | INFO     | src.strategies.rsi_strategy:_generate_signal_for_symbol:133 - RSI sustained overbought for Bitstamp:BTCUSD: 76.14\n",
      "2025-08-02 15:13:18.954 | INFO     | src.strategies.rsi_strategy:_generate_signal_for_symbol:133 - RSI sustained overbought for Bitstamp:BTCUSD: 76.98\n",
      "2025-08-02 15:13:18.955 | INFO     | src.strategies.rsi_strategy:_generate_signal_for_symbol:133 - RSI sustained overbought for Bitstamp:BTCUSD: 70.13\n",
      "2025-08-02 15:13:18.955 | INFO     | src.strategies.rsi_strategy:_generate_signal_for_symbol:133 - RSI sustained overbought for Bitstamp:BTCUSD: 74.82\n",
      "2025-08-02 15:13:18.956 | INFO     | src.strategies.rsi_strategy:_generate_signal_for_symbol:133 - RSI sustained overbought for Bitstamp:BTCUSD: 72.98\n",
      "2025-08-02 15:13:18.958 | INFO     | src.strategies.rsi_strategy:_generate_signal_for_symbol:118 - RSI overbought signal for Bitstamp:BTCUSD: 70.69 > 70\n",
      "2025-08-02 15:13:18.959 | INFO     | src.strategies.rsi_strategy:_generate_signal_for_symbol:133 - RSI sustained overbought for Bitstamp:BTCUSD: 81.69\n",
      "2025-08-02 15:13:18.960 | INFO     | src.strategies.rsi_strategy:_generate_signal_for_symbol:133 - RSI sustained overbought for Bitstamp:BTCUSD: 77.59\n",
      "2025-08-02 15:13:18.961 | INFO     | src.strategies.rsi_strategy:_generate_signal_for_symbol:133 - RSI sustained overbought for Bitstamp:BTCUSD: 76.58\n",
      "2025-08-02 15:13:18.961 | INFO     | src.strategies.rsi_strategy:_generate_signal_for_symbol:133 - RSI sustained overbought for Bitstamp:BTCUSD: 79.40\n",
      "2025-08-02 15:13:18.962 | INFO     | src.strategies.rsi_strategy:_generate_signal_for_symbol:133 - RSI sustained overbought for Bitstamp:BTCUSD: 74.47\n",
      "2025-08-02 15:13:18.973 | INFO     | src.strategies.rsi_strategy:_generate_signal_for_symbol:112 - RSI oversold signal for Bitstamp:BTCUSD: 22.03 < 30\n",
      "2025-08-02 15:13:18.973 | DEBUG    | src.backtesting.backtest_engine:_execute_trades:216 - BUY 0.20 Bitstamp:BTCUSD @ $101559.00\n",
      "2025-08-02 15:13:18.993 | INFO     | src.strategies.rsi_strategy:_generate_signal_for_symbol:118 - RSI overbought signal for Bitstamp:BTCUSD: 73.31 > 70\n",
      "2025-08-02 15:13:18.993 | DEBUG    | src.backtesting.backtest_engine:_execute_trades:245 - SELL 0.20 Bitstamp:BTCUSD @ $109233.00\n",
      "2025-08-02 15:13:18.996 | INFO     | src.strategies.rsi_strategy:_generate_signal_for_symbol:118 - RSI overbought signal for Bitstamp:BTCUSD: 73.15 > 70\n",
      "2025-08-02 15:13:18.996 | INFO     | src.strategies.rsi_strategy:_generate_signal_for_symbol:133 - RSI sustained overbought for Bitstamp:BTCUSD: 75.01\n",
      "2025-08-02 15:13:18.997 | INFO     | src.strategies.rsi_strategy:_generate_signal_for_symbol:133 - RSI sustained overbought for Bitstamp:BTCUSD: 74.30\n",
      "2025-08-02 15:13:18.998 | INFO     | src.strategies.rsi_strategy:_generate_signal_for_symbol:133 - RSI sustained overbought for Bitstamp:BTCUSD: 75.06\n",
      "2025-08-02 15:13:18.998 | INFO     | src.strategies.rsi_strategy:_generate_signal_for_symbol:133 - RSI sustained overbought for Bitstamp:BTCUSD: 80.25\n",
      "2025-08-02 15:13:18.999 | INFO     | src.strategies.rsi_strategy:_generate_signal_for_symbol:133 - RSI sustained overbought for Bitstamp:BTCUSD: 77.88\n",
      "2025-08-02 15:13:18.999 | INFO     | src.strategies.rsi_strategy:_generate_signal_for_symbol:133 - RSI sustained overbought for Bitstamp:BTCUSD: 75.34\n",
      "2025-08-02 15:13:19.000 | INFO     | src.strategies.rsi_strategy:_generate_signal_for_symbol:133 - RSI sustained overbought for Bitstamp:BTCUSD: 75.07\n",
      "2025-08-02 15:13:19.000 | INFO     | src.strategies.rsi_strategy:_generate_signal_for_symbol:133 - RSI sustained overbought for Bitstamp:BTCUSD: 76.51\n",
      "2025-08-02 15:13:19.001 | INFO     | src.strategies.rsi_strategy:_generate_signal_for_symbol:133 - RSI sustained overbought for Bitstamp:BTCUSD: 75.82\n",
      "2025-08-02 15:13:19.001 | INFO     | src.strategies.rsi_strategy:_generate_signal_for_symbol:133 - RSI sustained overbought for Bitstamp:BTCUSD: 72.12\n",
      "2025-08-02 15:13:19.002 | INFO     | src.strategies.rsi_strategy:_generate_signal_for_symbol:133 - RSI sustained overbought for Bitstamp:BTCUSD: 76.18\n",
      "2025-08-02 15:13:19.003 | INFO     | src.strategies.rsi_strategy:_generate_signal_for_symbol:133 - RSI sustained overbought for Bitstamp:BTCUSD: 78.54\n",
      "2025-08-02 15:13:19.003 | INFO     | src.strategies.rsi_strategy:_generate_signal_for_symbol:133 - RSI sustained overbought for Bitstamp:BTCUSD: 70.63\n",
      "2025-08-02 15:13:19.011 | INFO     | src.strategies.base_strategy:__init__:34 - Initialized strategy: rsi\n",
      "2025-08-02 15:13:19.011 | INFO     | src.strategies.rsi_strategy:__init__:56 - RSI Strategy initialized: period=30, overbought=70, oversold=30\n",
      "2025-08-02 15:13:19.011 | INFO     | src.backtesting.backtest_engine:run_backtest:53 - Starting backtest from 2023-01-01 to 2023-06-30\n",
      "2025-08-02 15:13:19.011 | INFO     | src.data.data_manager:get_historical_data_standardized:589 - Fetching standardized OHLCV data for ['Bitstamp:BTCUSD'] from 2023-01-01 to 2023-06-30\n",
      "2025-08-02 15:13:19.011 | INFO     | src.data.data_manager:get_historical_data:64 - Fetching historical OHLCV data for ['Bitstamp:BTCUSD'] from 2023-01-01 to 2023-06-30\n",
      "2025-08-02 15:13:19.452 | INFO     | src.data.data_manager:_fetch_tradingview_ohlcv_data:159 - Successfully fetched OHLCV data for 1 symbols\n",
      "2025-08-02 15:13:19.453 | INFO     | src.data.data_manager:get_historical_data:97 - OHLCV data cached successfully\n",
      "2025-08-02 15:13:19.455 | INFO     | src.data.data_manager:ensure_ohlcv_format:500 - Data formatted for Bitstamp:BTCUSD: (100, 5)\n",
      "2025-08-02 15:13:19.455 | INFO     | src.data.data_manager:get_historical_data_standardized:622 - Successfully standardized OHLCV data for 1 symbols\n",
      "2025-08-02 15:13:19.455 | INFO     | src.backtesting.backtest_engine:run_backtest:65 - Running backtest for strategy: rsi_test\n",
      "2025-08-02 15:13:19.455 | INFO     | src.strategies.base_strategy:reset:99 - Reset strategy: rsi\n",
      "2025-08-02 15:13:19.456 | INFO     | src.risk.risk_manager:__init__:49 - Risk manager initialized\n",
      "2025-08-02 15:13:19.466 | INFO     | src.strategies.rsi_strategy:_generate_signal_for_symbol:118 - RSI overbought signal for Bitstamp:BTCUSD: 70.07 > 70\n",
      "2025-08-02 15:13:19.467 | INFO     | src.strategies.rsi_strategy:_generate_signal_for_symbol:133 - RSI sustained overbought for Bitstamp:BTCUSD: 72.53\n",
      "2025-08-02 15:13:19.468 | INFO     | src.strategies.rsi_strategy:_generate_signal_for_symbol:133 - RSI sustained overbought for Bitstamp:BTCUSD: 72.13\n",
      "2025-08-02 15:13:19.469 | INFO     | src.strategies.rsi_strategy:_generate_signal_for_symbol:133 - RSI sustained overbought for Bitstamp:BTCUSD: 73.70\n",
      "2025-08-02 15:13:19.470 | INFO     | src.strategies.rsi_strategy:_generate_signal_for_symbol:133 - RSI sustained overbought for Bitstamp:BTCUSD: 74.15\n",
      "2025-08-02 15:13:19.472 | INFO     | src.strategies.rsi_strategy:_generate_signal_for_symbol:133 - RSI sustained overbought for Bitstamp:BTCUSD: 75.65\n",
      "2025-08-02 15:13:19.474 | INFO     | src.strategies.rsi_strategy:_generate_signal_for_symbol:118 - RSI overbought signal for Bitstamp:BTCUSD: 71.63 > 70\n",
      "2025-08-02 15:13:19.476 | INFO     | src.strategies.rsi_strategy:_generate_signal_for_symbol:133 - RSI sustained overbought for Bitstamp:BTCUSD: 72.40\n",
      "2025-08-02 15:13:19.478 | INFO     | src.strategies.rsi_strategy:_generate_signal_for_symbol:133 - RSI sustained overbought for Bitstamp:BTCUSD: 70.86\n",
      "2025-08-02 15:13:19.513 | INFO     | src.strategies.rsi_strategy:_generate_signal_for_symbol:118 - RSI overbought signal for Bitstamp:BTCUSD: 72.22 > 70\n",
      "2025-08-02 15:13:19.514 | INFO     | src.strategies.rsi_strategy:_generate_signal_for_symbol:133 - RSI sustained overbought for Bitstamp:BTCUSD: 76.63\n",
      "2025-08-02 15:13:19.514 | INFO     | src.strategies.rsi_strategy:_generate_signal_for_symbol:133 - RSI sustained overbought for Bitstamp:BTCUSD: 79.40\n",
      "2025-08-02 15:13:19.515 | INFO     | src.strategies.rsi_strategy:_generate_signal_for_symbol:133 - RSI sustained overbought for Bitstamp:BTCUSD: 77.12\n",
      "2025-08-02 15:13:19.516 | INFO     | src.strategies.rsi_strategy:_generate_signal_for_symbol:133 - RSI sustained overbought for Bitstamp:BTCUSD: 77.19\n",
      "2025-08-02 15:13:19.517 | INFO     | src.strategies.rsi_strategy:_generate_signal_for_symbol:118 - RSI overbought signal for Bitstamp:BTCUSD: 71.99 > 70\n",
      "2025-08-02 15:13:19.518 | INFO     | src.strategies.rsi_strategy:_generate_signal_for_symbol:133 - RSI sustained overbought for Bitstamp:BTCUSD: 72.47\n",
      "2025-08-02 15:13:19.520 | INFO     | src.strategies.rsi_strategy:_generate_signal_for_symbol:118 - RSI overbought signal for Bitstamp:BTCUSD: 73.30 > 70\n",
      "2025-08-02 15:13:19.520 | INFO     | src.strategies.rsi_strategy:_generate_signal_for_symbol:133 - RSI sustained overbought for Bitstamp:BTCUSD: 72.64\n",
      "2025-08-02 15:13:19.522 | INFO     | src.strategies.rsi_strategy:_generate_signal_for_symbol:118 - RSI overbought signal for Bitstamp:BTCUSD: 71.62 > 70\n",
      "2025-08-02 15:13:19.523 | INFO     | src.strategies.rsi_strategy:_generate_signal_for_symbol:118 - RSI overbought signal for Bitstamp:BTCUSD: 73.08 > 70\n",
      "divide by zero encountered in scalar divide\n",
      "2025-08-02 15:13:19.529 | INFO     | src.strategies.base_strategy:__init__:34 - Initialized strategy: rsi\n",
      "2025-08-02 15:13:19.529 | INFO     | src.strategies.rsi_strategy:__init__:56 - RSI Strategy initialized: period=20, overbought=70, oversold=30\n",
      "2025-08-02 15:13:19.529 | INFO     | src.backtesting.backtest_engine:run_backtest:53 - Starting backtest from 2023-01-01 to 2023-06-30\n",
      "2025-08-02 15:13:19.529 | INFO     | src.data.data_manager:get_historical_data_standardized:589 - Fetching standardized OHLCV data for ['Bitstamp:BTCUSD'] from 2023-01-01 to 2023-06-30\n",
      "2025-08-02 15:13:19.529 | INFO     | src.data.data_manager:get_historical_data:64 - Fetching historical OHLCV data for ['Bitstamp:BTCUSD'] from 2023-01-01 to 2023-06-30\n",
      "ERROR:TradingviewData.main:Connection timed out\n",
      "ERROR:TradingviewData.main:no data, please check the exchange and symbol\n",
      "2025-08-02 15:13:19.793 | ERROR    | src.data.data_manager:_fetch_tradingview_ohlcv_data:166 - Error fetching OHLCV data from TradingView: 'NoneType' object has no attribute 'reset_index'\n",
      "2025-08-02 15:13:19.794 | ERROR    | src.optimization.optimizer:_test_parameter_combination:192 - Error testing parameters {'period': 10, 'oversold': 20, 'overbought': 65}: 'NoneType' object has no attribute 'reset_index'\n",
      "2025-08-02 15:13:19.795 | INFO     | src.strategies.base_strategy:__init__:34 - Initialized strategy: rsi\n",
      "2025-08-02 15:13:19.795 | INFO     | src.strategies.rsi_strategy:__init__:56 - RSI Strategy initialized: period=30, overbought=70, oversold=30\n",
      "2025-08-02 15:13:19.795 | INFO     | src.backtesting.backtest_engine:run_backtest:53 - Starting backtest from 2023-01-01 to 2023-06-30\n",
      "2025-08-02 15:13:19.795 | INFO     | src.data.data_manager:get_historical_data_standardized:589 - Fetching standardized OHLCV data for ['Bitstamp:BTCUSD'] from 2023-01-01 to 2023-06-30\n",
      "2025-08-02 15:13:19.796 | INFO     | src.data.data_manager:get_historical_data:64 - Fetching historical OHLCV data for ['Bitstamp:BTCUSD'] from 2023-01-01 to 2023-06-30\n",
      "2025-08-02 15:13:19.954 | INFO     | src.data.data_manager:_fetch_tradingview_ohlcv_data:159 - Successfully fetched OHLCV data for 1 symbols\n",
      "2025-08-02 15:13:19.955 | INFO     | src.data.data_manager:get_historical_data:97 - OHLCV data cached successfully\n",
      "2025-08-02 15:13:19.956 | INFO     | src.data.data_manager:ensure_ohlcv_format:500 - Data formatted for Bitstamp:BTCUSD: (100, 5)\n",
      "2025-08-02 15:13:19.956 | INFO     | src.data.data_manager:get_historical_data_standardized:622 - Successfully standardized OHLCV data for 1 symbols\n",
      "2025-08-02 15:13:19.956 | INFO     | src.backtesting.backtest_engine:run_backtest:65 - Running backtest for strategy: rsi_test\n",
      "2025-08-02 15:13:19.956 | INFO     | src.strategies.base_strategy:reset:99 - Reset strategy: rsi\n",
      "2025-08-02 15:13:19.956 | INFO     | src.risk.risk_manager:__init__:49 - Risk manager initialized\n",
      "2025-08-02 15:13:20.005 | INFO     | src.strategies.rsi_strategy:_generate_signal_for_symbol:118 - RSI overbought signal for Bitstamp:BTCUSD: 70.58 > 70\n",
      "2025-08-02 15:13:20.005 | INFO     | src.strategies.rsi_strategy:_generate_signal_for_symbol:133 - RSI sustained overbought for Bitstamp:BTCUSD: 74.59\n",
      "divide by zero encountered in scalar divide\n",
      "\u001b[32m2025-08-02 15:13:20.015\u001b[0m | \u001b[1mINFO    \u001b[0m | \u001b[36msrc.optimization.optimizer\u001b[0m:\u001b[36m_optimize_parallel\u001b[0m:\u001b[36m149\u001b[0m - \u001b[1mCompleted 20/50 combinations\u001b[0m\n",
      "2025-08-02 15:13:20.015 | INFO     | src.strategies.base_strategy:__init__:34 - Initialized strategy: rsi\n",
      "2025-08-02 15:13:20.015 | INFO     | src.strategies.rsi_strategy:__init__:56 - RSI Strategy initialized: period=10, overbought=70, oversold=30\n",
      "2025-08-02 15:13:20.015 | INFO     | src.backtesting.backtest_engine:run_backtest:53 - Starting backtest from 2023-01-01 to 2023-06-30\n",
      "2025-08-02 15:13:20.015 | INFO     | src.data.data_manager:get_historical_data_standardized:589 - Fetching standardized OHLCV data for ['Bitstamp:BTCUSD'] from 2023-01-01 to 2023-06-30\n",
      "2025-08-02 15:13:20.015 | INFO     | src.data.data_manager:get_historical_data:64 - Fetching historical OHLCV data for ['Bitstamp:BTCUSD'] from 2023-01-01 to 2023-06-30\n",
      "ERROR:TradingviewData.main:Connection to remote host was lost.\n",
      "ERROR:TradingviewData.main:no data, please check the exchange and symbol\n",
      "2025-08-02 15:13:20.551 | ERROR    | src.data.data_manager:_fetch_tradingview_ohlcv_data:166 - Error fetching OHLCV data from TradingView: 'NoneType' object has no attribute 'reset_index'\n",
      "2025-08-02 15:13:20.551 | ERROR    | src.optimization.optimizer:_test_parameter_combination:192 - Error testing parameters {'period': 20, 'oversold': 35, 'overbought': 70}: 'NoneType' object has no attribute 'reset_index'\n",
      "2025-08-02 15:13:20.552 | INFO     | src.strategies.base_strategy:__init__:34 - Initialized strategy: rsi\n",
      "2025-08-02 15:13:20.552 | INFO     | src.strategies.rsi_strategy:__init__:56 - RSI Strategy initialized: period=30, overbought=70, oversold=30\n",
      "2025-08-02 15:13:20.552 | INFO     | src.backtesting.backtest_engine:run_backtest:53 - Starting backtest from 2023-01-01 to 2023-06-30\n",
      "2025-08-02 15:13:20.552 | INFO     | src.data.data_manager:get_historical_data_standardized:589 - Fetching standardized OHLCV data for ['Bitstamp:BTCUSD'] from 2023-01-01 to 2023-06-30\n",
      "2025-08-02 15:13:20.552 | INFO     | src.data.data_manager:get_historical_data:64 - Fetching historical OHLCV data for ['Bitstamp:BTCUSD'] from 2023-01-01 to 2023-06-30\n",
      "2025-08-02 15:13:20.950 | INFO     | src.data.data_manager:_fetch_tradingview_ohlcv_data:159 - Successfully fetched OHLCV data for 1 symbols\n",
      "2025-08-02 15:13:20.951 | INFO     | src.data.data_manager:get_historical_data:97 - OHLCV data cached successfully\n",
      "2025-08-02 15:13:20.953 | INFO     | src.data.data_manager:ensure_ohlcv_format:500 - Data formatted for Bitstamp:BTCUSD: (100, 5)\n",
      "2025-08-02 15:13:20.954 | INFO     | src.data.data_manager:get_historical_data_standardized:622 - Successfully standardized OHLCV data for 1 symbols\n",
      "2025-08-02 15:13:20.954 | INFO     | src.backtesting.backtest_engine:run_backtest:65 - Running backtest for strategy: rsi_test\n",
      "2025-08-02 15:13:20.954 | INFO     | src.strategies.base_strategy:reset:99 - Reset strategy: rsi\n",
      "2025-08-02 15:13:20.954 | INFO     | src.risk.risk_manager:__init__:49 - Risk manager initialized\n",
      "2025-08-02 15:13:21.015 | INFO     | src.strategies.rsi_strategy:_generate_signal_for_symbol:118 - RSI overbought signal for Bitstamp:BTCUSD: 70.58 > 70\n",
      "2025-08-02 15:13:21.015 | INFO     | src.strategies.rsi_strategy:_generate_signal_for_symbol:133 - RSI sustained overbought for Bitstamp:BTCUSD: 74.59\n",
      "divide by zero encountered in scalar divide\n",
      "2025-08-02 15:13:21.024 | INFO     | src.strategies.base_strategy:__init__:34 - Initialized strategy: rsi\n",
      "2025-08-02 15:13:21.024 | INFO     | src.strategies.rsi_strategy:__init__:56 - RSI Strategy initialized: period=30, overbought=70, oversold=30\n",
      "2025-08-02 15:13:21.024 | INFO     | src.backtesting.backtest_engine:run_backtest:53 - Starting backtest from 2023-01-01 to 2023-06-30\n",
      "2025-08-02 15:13:21.024 | INFO     | src.data.data_manager:get_historical_data_standardized:589 - Fetching standardized OHLCV data for ['Bitstamp:BTCUSD'] from 2023-01-01 to 2023-06-30\n",
      "2025-08-02 15:13:21.024 | INFO     | src.data.data_manager:get_historical_data:64 - Fetching historical OHLCV data for ['Bitstamp:BTCUSD'] from 2023-01-01 to 2023-06-30\n",
      "ERROR:TradingviewData.main:Connection timed out\n",
      "ERROR:TradingviewData.main:no data, please check the exchange and symbol\n",
      "2025-08-02 15:13:21.324 | ERROR    | src.data.data_manager:_fetch_tradingview_ohlcv_data:166 - Error fetching OHLCV data from TradingView: 'NoneType' object has no attribute 'reset_index'\n",
      "2025-08-02 15:13:21.324 | ERROR    | src.optimization.optimizer:_test_parameter_combination:192 - Error testing parameters {'period': 30, 'oversold': 25, 'overbought': 65}: 'NoneType' object has no attribute 'reset_index'\n",
      "2025-08-02 15:13:21.325 | INFO     | src.strategies.base_strategy:__init__:34 - Initialized strategy: rsi\n",
      "2025-08-02 15:13:21.325 | INFO     | src.strategies.rsi_strategy:__init__:56 - RSI Strategy initialized: period=30, overbought=70, oversold=30\n",
      "2025-08-02 15:13:21.325 | INFO     | src.backtesting.backtest_engine:run_backtest:53 - Starting backtest from 2023-01-01 to 2023-06-30\n",
      "2025-08-02 15:13:21.325 | INFO     | src.data.data_manager:get_historical_data_standardized:589 - Fetching standardized OHLCV data for ['Bitstamp:BTCUSD'] from 2023-01-01 to 2023-06-30\n",
      "2025-08-02 15:13:21.325 | INFO     | src.data.data_manager:get_historical_data:64 - Fetching historical OHLCV data for ['Bitstamp:BTCUSD'] from 2023-01-01 to 2023-06-30\n",
      "2025-08-02 15:13:21.459 | INFO     | src.data.data_manager:_fetch_tradingview_ohlcv_data:159 - Successfully fetched OHLCV data for 1 symbols\n",
      "2025-08-02 15:13:21.459 | INFO     | src.data.data_manager:get_historical_data:97 - OHLCV data cached successfully\n",
      "2025-08-02 15:13:21.461 | INFO     | src.data.data_manager:ensure_ohlcv_format:500 - Data formatted for Bitstamp:BTCUSD: (100, 5)\n",
      "2025-08-02 15:13:21.462 | INFO     | src.data.data_manager:get_historical_data_standardized:622 - Successfully standardized OHLCV data for 1 symbols\n",
      "2025-08-02 15:13:21.462 | INFO     | src.backtesting.backtest_engine:run_backtest:65 - Running backtest for strategy: rsi_test\n",
      "2025-08-02 15:13:21.462 | INFO     | src.strategies.base_strategy:reset:99 - Reset strategy: rsi\n",
      "2025-08-02 15:13:21.463 | INFO     | src.risk.risk_manager:__init__:49 - Risk manager initialized\n",
      "2025-08-02 15:13:21.472 | INFO     | src.strategies.rsi_strategy:_generate_signal_for_symbol:118 - RSI overbought signal for Bitstamp:BTCUSD: 77.11 > 70\n",
      "2025-08-02 15:13:21.474 | INFO     | src.strategies.rsi_strategy:_generate_signal_for_symbol:133 - RSI sustained overbought for Bitstamp:BTCUSD: 79.67\n",
      "2025-08-02 15:13:21.475 | INFO     | src.strategies.rsi_strategy:_generate_signal_for_symbol:133 - RSI sustained overbought for Bitstamp:BTCUSD: 82.43\n",
      "2025-08-02 15:13:21.476 | INFO     | src.strategies.rsi_strategy:_generate_signal_for_symbol:133 - RSI sustained overbought for Bitstamp:BTCUSD: 75.81\n",
      "2025-08-02 15:13:21.478 | INFO     | src.strategies.rsi_strategy:_generate_signal_for_symbol:118 - RSI overbought signal for Bitstamp:BTCUSD: 75.71 > 70\n",
      "2025-08-02 15:13:21.480 | INFO     | src.strategies.rsi_strategy:_generate_signal_for_symbol:133 - RSI sustained overbought for Bitstamp:BTCUSD: 80.74\n",
      "2025-08-02 15:13:21.481 | INFO     | src.strategies.rsi_strategy:_generate_signal_for_symbol:133 - RSI sustained overbought for Bitstamp:BTCUSD: 80.55\n",
      "2025-08-02 15:13:21.482 | INFO     | src.strategies.rsi_strategy:_generate_signal_for_symbol:133 - RSI sustained overbought for Bitstamp:BTCUSD: 75.66\n",
      "2025-08-02 15:13:21.483 | INFO     | src.strategies.rsi_strategy:_generate_signal_for_symbol:133 - RSI sustained overbought for Bitstamp:BTCUSD: 73.18\n",
      "2025-08-02 15:13:21.487 | INFO     | src.strategies.rsi_strategy:_generate_signal_for_symbol:118 - RSI overbought signal for Bitstamp:BTCUSD: 72.21 > 70\n",
      "2025-08-02 15:13:21.488 | INFO     | src.strategies.rsi_strategy:_generate_signal_for_symbol:133 - RSI sustained overbought for Bitstamp:BTCUSD: 83.81\n",
      "2025-08-02 15:13:21.499 | INFO     | src.strategies.rsi_strategy:_generate_signal_for_symbol:112 - RSI oversold signal for Bitstamp:BTCUSD: 27.90 < 30\n",
      "2025-08-02 15:13:21.499 | DEBUG    | src.backtesting.backtest_engine:_execute_trades:216 - BUY 0.19 Bitstamp:BTCUSD @ $105705.00\n",
      "2025-08-02 15:13:21.501 | INFO     | src.strategies.rsi_strategy:_generate_signal_for_symbol:112 - RSI oversold signal for Bitstamp:BTCUSD: 25.62 < 30\n",
      "2025-08-02 15:13:21.502 | INFO     | src.strategies.rsi_strategy:_generate_signal_for_symbol:128 - RSI sustained oversold for Bitstamp:BTCUSD: 16.06\n",
      "2025-08-02 15:13:21.505 | INFO     | src.strategies.rsi_strategy:_generate_signal_for_symbol:118 - RSI overbought signal for Bitstamp:BTCUSD: 70.96 > 70\n",
      "2025-08-02 15:13:21.506 | DEBUG    | src.backtesting.backtest_engine:_execute_trades:245 - SELL 0.19 Bitstamp:BTCUSD @ $110307.00\n",
      "2025-08-02 15:13:21.513 | INFO     | src.strategies.rsi_strategy:_generate_signal_for_symbol:112 - RSI oversold signal for Bitstamp:BTCUSD: 21.33 < 30\n",
      "2025-08-02 15:13:21.513 | DEBUG    | src.backtesting.backtest_engine:_execute_trades:216 - BUY 0.19 Bitstamp:BTCUSD @ $104688.00\n",
      "2025-08-02 15:13:21.514 | INFO     | src.strategies.rsi_strategy:_generate_signal_for_symbol:128 - RSI sustained oversold for Bitstamp:BTCUSD: 18.73\n",
      "2025-08-02 15:13:21.515 | INFO     | src.strategies.rsi_strategy:_generate_signal_for_symbol:128 - RSI sustained oversold for Bitstamp:BTCUSD: 19.50\n",
      "2025-08-02 15:13:21.515 | INFO     | src.strategies.rsi_strategy:_generate_signal_for_symbol:128 - RSI sustained oversold for Bitstamp:BTCUSD: 23.49\n",
      "2025-08-02 15:13:21.522 | INFO     | src.strategies.rsi_strategy:_generate_signal_for_symbol:118 - RSI overbought signal for Bitstamp:BTCUSD: 78.01 > 70\n",
      "2025-08-02 15:13:21.522 | DEBUG    | src.backtesting.backtest_engine:_execute_trades:245 - SELL 0.19 Bitstamp:BTCUSD @ $108885.00\n",
      "2025-08-02 15:13:21.523 | INFO     | src.strategies.rsi_strategy:_generate_signal_for_symbol:133 - RSI sustained overbought for Bitstamp:BTCUSD: 70.19\n",
      "2025-08-02 15:13:21.527 | INFO     | src.strategies.rsi_strategy:_generate_signal_for_symbol:118 - RSI overbought signal for Bitstamp:BTCUSD: 76.17 > 70\n",
      "2025-08-02 15:13:21.528 | INFO     | src.strategies.rsi_strategy:_generate_signal_for_symbol:133 - RSI sustained overbought for Bitstamp:BTCUSD: 84.93\n",
      "2025-08-02 15:13:21.528 | INFO     | src.strategies.rsi_strategy:_generate_signal_for_symbol:133 - RSI sustained overbought for Bitstamp:BTCUSD: 80.79\n",
      "2025-08-02 15:13:21.529 | INFO     | src.strategies.rsi_strategy:_generate_signal_for_symbol:133 - RSI sustained overbought for Bitstamp:BTCUSD: 81.97\n",
      "2025-08-02 15:13:21.530 | INFO     | src.strategies.rsi_strategy:_generate_signal_for_symbol:133 - RSI sustained overbought for Bitstamp:BTCUSD: 92.40\n",
      "2025-08-02 15:13:21.530 | INFO     | src.strategies.rsi_strategy:_generate_signal_for_symbol:133 - RSI sustained overbought for Bitstamp:BTCUSD: 80.02\n",
      "2025-08-02 15:13:21.531 | INFO     | src.strategies.rsi_strategy:_generate_signal_for_symbol:133 - RSI sustained overbought for Bitstamp:BTCUSD: 79.96\n",
      "2025-08-02 15:13:21.532 | INFO     | src.strategies.rsi_strategy:_generate_signal_for_symbol:133 - RSI sustained overbought for Bitstamp:BTCUSD: 85.59\n",
      "2025-08-02 15:13:21.532 | INFO     | src.strategies.rsi_strategy:_generate_signal_for_symbol:133 - RSI sustained overbought for Bitstamp:BTCUSD: 78.30\n",
      "2025-08-02 15:13:21.533 | INFO     | src.strategies.rsi_strategy:_generate_signal_for_symbol:133 - RSI sustained overbought for Bitstamp:BTCUSD: 74.02\n",
      "2025-08-02 15:13:21.541 | INFO     | src.strategies.rsi_strategy:_generate_signal_for_symbol:112 - RSI oversold signal for Bitstamp:BTCUSD: 17.46 < 30\n",
      "2025-08-02 15:13:21.541 | DEBUG    | src.backtesting.backtest_engine:_execute_trades:216 - BUY 0.18 Bitstamp:BTCUSD @ $113243.00\n",
      "2025-08-02 15:13:21.541 | INFO     | src.strategies.rsi_strategy:_generate_signal_for_symbol:128 - RSI sustained oversold for Bitstamp:BTCUSD: 25.26\n",
      "2025-08-02 15:13:21.544 | INFO     | src.strategies.base_strategy:__init__:34 - Initialized strategy: rsi\n",
      "2025-08-02 15:13:21.544 | INFO     | src.strategies.rsi_strategy:__init__:56 - RSI Strategy initialized: period=20, overbought=70, oversold=30\n",
      "2025-08-02 15:13:21.544 | INFO     | src.backtesting.backtest_engine:run_backtest:53 - Starting backtest from 2023-01-01 to 2023-06-30\n",
      "2025-08-02 15:13:21.544 | INFO     | src.data.data_manager:get_historical_data_standardized:589 - Fetching standardized OHLCV data for ['Bitstamp:BTCUSD'] from 2023-01-01 to 2023-06-30\n",
      "2025-08-02 15:13:21.544 | INFO     | src.data.data_manager:get_historical_data:64 - Fetching historical OHLCV data for ['Bitstamp:BTCUSD'] from 2023-01-01 to 2023-06-30\n",
      "2025-08-02 15:13:21.943 | INFO     | src.data.data_manager:_fetch_tradingview_ohlcv_data:159 - Successfully fetched OHLCV data for 1 symbols\n",
      "2025-08-02 15:13:21.944 | INFO     | src.data.data_manager:get_historical_data:97 - OHLCV data cached successfully\n",
      "2025-08-02 15:13:21.946 | INFO     | src.data.data_manager:ensure_ohlcv_format:500 - Data formatted for Bitstamp:BTCUSD: (100, 5)\n",
      "2025-08-02 15:13:21.947 | INFO     | src.data.data_manager:get_historical_data_standardized:622 - Successfully standardized OHLCV data for 1 symbols\n",
      "2025-08-02 15:13:21.947 | INFO     | src.backtesting.backtest_engine:run_backtest:65 - Running backtest for strategy: rsi_test\n",
      "2025-08-02 15:13:21.947 | INFO     | src.strategies.base_strategy:reset:99 - Reset strategy: rsi\n",
      "2025-08-02 15:13:21.947 | INFO     | src.risk.risk_manager:__init__:49 - Risk manager initialized\n",
      "2025-08-02 15:13:22.007 | INFO     | src.strategies.rsi_strategy:_generate_signal_for_symbol:118 - RSI overbought signal for Bitstamp:BTCUSD: 70.58 > 70\n",
      "2025-08-02 15:13:22.007 | INFO     | src.strategies.rsi_strategy:_generate_signal_for_symbol:133 - RSI sustained overbought for Bitstamp:BTCUSD: 74.59\n",
      "divide by zero encountered in scalar divide\n",
      "2025-08-02 15:13:22.017 | INFO     | src.strategies.base_strategy:__init__:34 - Initialized strategy: rsi\n",
      "2025-08-02 15:13:22.017 | INFO     | src.strategies.rsi_strategy:__init__:56 - RSI Strategy initialized: period=14, overbought=70, oversold=30\n",
      "2025-08-02 15:13:22.017 | INFO     | src.backtesting.backtest_engine:run_backtest:53 - Starting backtest from 2023-01-01 to 2023-06-30\n",
      "2025-08-02 15:13:22.017 | INFO     | src.data.data_manager:get_historical_data_standardized:589 - Fetching standardized OHLCV data for ['Bitstamp:BTCUSD'] from 2023-01-01 to 2023-06-30\n",
      "2025-08-02 15:13:22.017 | INFO     | src.data.data_manager:get_historical_data:64 - Fetching historical OHLCV data for ['Bitstamp:BTCUSD'] from 2023-01-01 to 2023-06-30\n",
      "2025-08-02 15:13:22.442 | INFO     | src.data.data_manager:_fetch_tradingview_ohlcv_data:159 - Successfully fetched OHLCV data for 1 symbols\n",
      "2025-08-02 15:13:22.443 | INFO     | src.data.data_manager:get_historical_data:97 - OHLCV data cached successfully\n",
      "2025-08-02 15:13:22.444 | INFO     | src.data.data_manager:ensure_ohlcv_format:500 - Data formatted for Bitstamp:BTCUSD: (100, 5)\n",
      "2025-08-02 15:13:22.444 | INFO     | src.data.data_manager:get_historical_data_standardized:622 - Successfully standardized OHLCV data for 1 symbols\n",
      "2025-08-02 15:13:22.444 | INFO     | src.backtesting.backtest_engine:run_backtest:65 - Running backtest for strategy: rsi_test\n",
      "2025-08-02 15:13:22.444 | INFO     | src.strategies.base_strategy:reset:99 - Reset strategy: rsi\n",
      "2025-08-02 15:13:22.444 | INFO     | src.risk.risk_manager:__init__:49 - Risk manager initialized\n",
      "2025-08-02 15:13:22.489 | INFO     | src.strategies.rsi_strategy:_generate_signal_for_symbol:118 - RSI overbought signal for Bitstamp:BTCUSD: 70.58 > 70\n",
      "2025-08-02 15:13:22.490 | INFO     | src.strategies.rsi_strategy:_generate_signal_for_symbol:133 - RSI sustained overbought for Bitstamp:BTCUSD: 74.59\n",
      "divide by zero encountered in scalar divide\n",
      "2025-08-02 15:13:22.499 | INFO     | src.strategies.base_strategy:__init__:34 - Initialized strategy: rsi\n",
      "2025-08-02 15:13:22.499 | INFO     | src.strategies.rsi_strategy:__init__:56 - RSI Strategy initialized: period=14, overbought=70, oversold=30\n",
      "2025-08-02 15:13:22.499 | INFO     | src.backtesting.backtest_engine:run_backtest:53 - Starting backtest from 2023-01-01 to 2023-06-30\n",
      "2025-08-02 15:13:22.499 | INFO     | src.data.data_manager:get_historical_data_standardized:589 - Fetching standardized OHLCV data for ['Bitstamp:BTCUSD'] from 2023-01-01 to 2023-06-30\n",
      "2025-08-02 15:13:22.499 | INFO     | src.data.data_manager:get_historical_data:64 - Fetching historical OHLCV data for ['Bitstamp:BTCUSD'] from 2023-01-01 to 2023-06-30\n",
      "ERROR:TradingviewData.main:Connection to remote host was lost.\n",
      "ERROR:TradingviewData.main:no data, please check the exchange and symbol\n",
      "2025-08-02 15:13:23.049 | ERROR    | src.data.data_manager:_fetch_tradingview_ohlcv_data:166 - Error fetching OHLCV data from TradingView: 'NoneType' object has no attribute 'reset_index'\n",
      "2025-08-02 15:13:23.050 | ERROR    | src.optimization.optimizer:_test_parameter_combination:192 - Error testing parameters {'period': 30, 'oversold': 35, 'overbought': 65}: 'NoneType' object has no attribute 'reset_index'\n",
      "2025-08-02 15:13:23.051 | INFO     | src.strategies.base_strategy:__init__:34 - Initialized strategy: rsi\n",
      "2025-08-02 15:13:23.051 | INFO     | src.strategies.rsi_strategy:__init__:56 - RSI Strategy initialized: period=20, overbought=70, oversold=30\n",
      "2025-08-02 15:13:23.051 | INFO     | src.backtesting.backtest_engine:run_backtest:53 - Starting backtest from 2023-01-01 to 2023-06-30\n",
      "2025-08-02 15:13:23.051 | INFO     | src.data.data_manager:get_historical_data_standardized:589 - Fetching standardized OHLCV data for ['Bitstamp:BTCUSD'] from 2023-01-01 to 2023-06-30\n",
      "2025-08-02 15:13:23.051 | INFO     | src.data.data_manager:get_historical_data:64 - Fetching historical OHLCV data for ['Bitstamp:BTCUSD'] from 2023-01-01 to 2023-06-30\n",
      "2025-08-02 15:13:23.447 | INFO     | src.data.data_manager:_fetch_tradingview_ohlcv_data:159 - Successfully fetched OHLCV data for 1 symbols\n",
      "2025-08-02 15:13:23.448 | INFO     | src.data.data_manager:get_historical_data:97 - OHLCV data cached successfully\n",
      "2025-08-02 15:13:23.450 | INFO     | src.data.data_manager:ensure_ohlcv_format:500 - Data formatted for Bitstamp:BTCUSD: (100, 5)\n",
      "2025-08-02 15:13:23.451 | INFO     | src.data.data_manager:get_historical_data_standardized:622 - Successfully standardized OHLCV data for 1 symbols\n",
      "2025-08-02 15:13:23.451 | INFO     | src.backtesting.backtest_engine:run_backtest:65 - Running backtest for strategy: rsi_test\n",
      "2025-08-02 15:13:23.451 | INFO     | src.strategies.base_strategy:reset:99 - Reset strategy: rsi\n",
      "2025-08-02 15:13:23.451 | INFO     | src.risk.risk_manager:__init__:49 - Risk manager initialized\n",
      "2025-08-02 15:13:23.460 | INFO     | src.strategies.rsi_strategy:_generate_signal_for_symbol:118 - RSI overbought signal for Bitstamp:BTCUSD: 70.07 > 70\n",
      "2025-08-02 15:13:23.462 | INFO     | src.strategies.rsi_strategy:_generate_signal_for_symbol:133 - RSI sustained overbought for Bitstamp:BTCUSD: 72.53\n",
      "2025-08-02 15:13:23.464 | INFO     | src.strategies.rsi_strategy:_generate_signal_for_symbol:133 - RSI sustained overbought for Bitstamp:BTCUSD: 72.13\n",
      "2025-08-02 15:13:23.465 | INFO     | src.strategies.rsi_strategy:_generate_signal_for_symbol:133 - RSI sustained overbought for Bitstamp:BTCUSD: 73.70\n",
      "2025-08-02 15:13:23.467 | INFO     | src.strategies.rsi_strategy:_generate_signal_for_symbol:133 - RSI sustained overbought for Bitstamp:BTCUSD: 74.15\n",
      "2025-08-02 15:13:23.468 | INFO     | src.strategies.rsi_strategy:_generate_signal_for_symbol:133 - RSI sustained overbought for Bitstamp:BTCUSD: 75.65\n",
      "2025-08-02 15:13:23.470 | INFO     | src.strategies.rsi_strategy:_generate_signal_for_symbol:118 - RSI overbought signal for Bitstamp:BTCUSD: 71.63 > 70\n",
      "2025-08-02 15:13:23.473 | INFO     | src.strategies.rsi_strategy:_generate_signal_for_symbol:133 - RSI sustained overbought for Bitstamp:BTCUSD: 72.40\n",
      "2025-08-02 15:13:23.474 | INFO     | src.strategies.rsi_strategy:_generate_signal_for_symbol:133 - RSI sustained overbought for Bitstamp:BTCUSD: 70.86\n",
      "2025-08-02 15:13:23.509 | INFO     | src.strategies.rsi_strategy:_generate_signal_for_symbol:118 - RSI overbought signal for Bitstamp:BTCUSD: 72.22 > 70\n",
      "2025-08-02 15:13:23.510 | INFO     | src.strategies.rsi_strategy:_generate_signal_for_symbol:133 - RSI sustained overbought for Bitstamp:BTCUSD: 76.63\n",
      "2025-08-02 15:13:23.511 | INFO     | src.strategies.rsi_strategy:_generate_signal_for_symbol:133 - RSI sustained overbought for Bitstamp:BTCUSD: 79.40\n",
      "2025-08-02 15:13:23.511 | INFO     | src.strategies.rsi_strategy:_generate_signal_for_symbol:133 - RSI sustained overbought for Bitstamp:BTCUSD: 77.12\n",
      "2025-08-02 15:13:23.512 | INFO     | src.strategies.rsi_strategy:_generate_signal_for_symbol:133 - RSI sustained overbought for Bitstamp:BTCUSD: 77.19\n",
      "2025-08-02 15:13:23.513 | INFO     | src.strategies.rsi_strategy:_generate_signal_for_symbol:118 - RSI overbought signal for Bitstamp:BTCUSD: 71.99 > 70\n",
      "2025-08-02 15:13:23.514 | INFO     | src.strategies.rsi_strategy:_generate_signal_for_symbol:133 - RSI sustained overbought for Bitstamp:BTCUSD: 72.47\n",
      "2025-08-02 15:13:23.516 | INFO     | src.strategies.rsi_strategy:_generate_signal_for_symbol:118 - RSI overbought signal for Bitstamp:BTCUSD: 73.30 > 70\n",
      "2025-08-02 15:13:23.517 | INFO     | src.strategies.rsi_strategy:_generate_signal_for_symbol:133 - RSI sustained overbought for Bitstamp:BTCUSD: 72.64\n",
      "2025-08-02 15:13:23.518 | INFO     | src.strategies.rsi_strategy:_generate_signal_for_symbol:118 - RSI overbought signal for Bitstamp:BTCUSD: 71.62 > 70\n",
      "2025-08-02 15:13:23.520 | INFO     | src.strategies.rsi_strategy:_generate_signal_for_symbol:118 - RSI overbought signal for Bitstamp:BTCUSD: 73.08 > 70\n",
      "divide by zero encountered in scalar divide\n",
      "2025-08-02 15:13:23.526 | INFO     | src.strategies.base_strategy:__init__:34 - Initialized strategy: rsi\n",
      "2025-08-02 15:13:23.526 | INFO     | src.strategies.rsi_strategy:__init__:56 - RSI Strategy initialized: period=20, overbought=70, oversold=30\n",
      "2025-08-02 15:13:23.526 | INFO     | src.backtesting.backtest_engine:run_backtest:53 - Starting backtest from 2023-01-01 to 2023-06-30\n",
      "2025-08-02 15:13:23.526 | INFO     | src.data.data_manager:get_historical_data_standardized:589 - Fetching standardized OHLCV data for ['Bitstamp:BTCUSD'] from 2023-01-01 to 2023-06-30\n",
      "2025-08-02 15:13:23.526 | INFO     | src.data.data_manager:get_historical_data:64 - Fetching historical OHLCV data for ['Bitstamp:BTCUSD'] from 2023-01-01 to 2023-06-30\n",
      "2025-08-02 15:13:23.957 | INFO     | src.data.data_manager:_fetch_tradingview_ohlcv_data:159 - Successfully fetched OHLCV data for 1 symbols\n",
      "2025-08-02 15:13:23.957 | INFO     | src.data.data_manager:get_historical_data:97 - OHLCV data cached successfully\n",
      "2025-08-02 15:13:23.959 | INFO     | src.data.data_manager:ensure_ohlcv_format:500 - Data formatted for Bitstamp:BTCUSD: (100, 5)\n",
      "2025-08-02 15:13:23.960 | INFO     | src.data.data_manager:get_historical_data_standardized:622 - Successfully standardized OHLCV data for 1 symbols\n",
      "2025-08-02 15:13:23.960 | INFO     | src.backtesting.backtest_engine:run_backtest:65 - Running backtest for strategy: rsi_test\n",
      "2025-08-02 15:13:23.960 | INFO     | src.strategies.base_strategy:reset:99 - Reset strategy: rsi\n",
      "2025-08-02 15:13:23.960 | INFO     | src.risk.risk_manager:__init__:49 - Risk manager initialized\n",
      "2025-08-02 15:13:23.968 | INFO     | src.strategies.rsi_strategy:_generate_signal_for_symbol:133 - RSI sustained overbought for Bitstamp:BTCUSD: 76.14\n",
      "2025-08-02 15:13:23.969 | INFO     | src.strategies.rsi_strategy:_generate_signal_for_symbol:133 - RSI sustained overbought for Bitstamp:BTCUSD: 76.98\n",
      "2025-08-02 15:13:23.971 | INFO     | src.strategies.rsi_strategy:_generate_signal_for_symbol:133 - RSI sustained overbought for Bitstamp:BTCUSD: 70.13\n",
      "2025-08-02 15:13:23.972 | INFO     | src.strategies.rsi_strategy:_generate_signal_for_symbol:133 - RSI sustained overbought for Bitstamp:BTCUSD: 74.82\n",
      "2025-08-02 15:13:23.973 | INFO     | src.strategies.rsi_strategy:_generate_signal_for_symbol:133 - RSI sustained overbought for Bitstamp:BTCUSD: 72.98\n",
      "2025-08-02 15:13:23.977 | INFO     | src.strategies.rsi_strategy:_generate_signal_for_symbol:118 - RSI overbought signal for Bitstamp:BTCUSD: 70.69 > 70\n",
      "2025-08-02 15:13:23.978 | INFO     | src.strategies.rsi_strategy:_generate_signal_for_symbol:133 - RSI sustained overbought for Bitstamp:BTCUSD: 81.69\n",
      "2025-08-02 15:13:23.979 | INFO     | src.strategies.rsi_strategy:_generate_signal_for_symbol:133 - RSI sustained overbought for Bitstamp:BTCUSD: 77.59\n",
      "2025-08-02 15:13:23.980 | INFO     | src.strategies.rsi_strategy:_generate_signal_for_symbol:133 - RSI sustained overbought for Bitstamp:BTCUSD: 76.58\n",
      "2025-08-02 15:13:23.981 | INFO     | src.strategies.rsi_strategy:_generate_signal_for_symbol:133 - RSI sustained overbought for Bitstamp:BTCUSD: 79.40\n",
      "2025-08-02 15:13:23.982 | INFO     | src.strategies.rsi_strategy:_generate_signal_for_symbol:133 - RSI sustained overbought for Bitstamp:BTCUSD: 74.47\n",
      "2025-08-02 15:13:23.997 | INFO     | src.strategies.rsi_strategy:_generate_signal_for_symbol:112 - RSI oversold signal for Bitstamp:BTCUSD: 22.03 < 30\n",
      "2025-08-02 15:13:23.997 | DEBUG    | src.backtesting.backtest_engine:_execute_trades:216 - BUY 0.20 Bitstamp:BTCUSD @ $101559.00\n",
      "2025-08-02 15:13:24.020 | INFO     | src.strategies.rsi_strategy:_generate_signal_for_symbol:118 - RSI overbought signal for Bitstamp:BTCUSD: 73.31 > 70\n",
      "2025-08-02 15:13:24.021 | DEBUG    | src.backtesting.backtest_engine:_execute_trades:245 - SELL 0.20 Bitstamp:BTCUSD @ $109233.00\n",
      "2025-08-02 15:13:24.023 | INFO     | src.strategies.rsi_strategy:_generate_signal_for_symbol:118 - RSI overbought signal for Bitstamp:BTCUSD: 73.15 > 70\n",
      "2025-08-02 15:13:24.024 | INFO     | src.strategies.rsi_strategy:_generate_signal_for_symbol:133 - RSI sustained overbought for Bitstamp:BTCUSD: 75.01\n",
      "2025-08-02 15:13:24.024 | INFO     | src.strategies.rsi_strategy:_generate_signal_for_symbol:133 - RSI sustained overbought for Bitstamp:BTCUSD: 74.30\n",
      "2025-08-02 15:13:24.025 | INFO     | src.strategies.rsi_strategy:_generate_signal_for_symbol:133 - RSI sustained overbought for Bitstamp:BTCUSD: 75.06\n",
      "2025-08-02 15:13:24.026 | INFO     | src.strategies.rsi_strategy:_generate_signal_for_symbol:133 - RSI sustained overbought for Bitstamp:BTCUSD: 80.25\n",
      "2025-08-02 15:13:24.026 | INFO     | src.strategies.rsi_strategy:_generate_signal_for_symbol:133 - RSI sustained overbought for Bitstamp:BTCUSD: 77.88\n",
      "2025-08-02 15:13:24.027 | INFO     | src.strategies.rsi_strategy:_generate_signal_for_symbol:133 - RSI sustained overbought for Bitstamp:BTCUSD: 75.34\n",
      "2025-08-02 15:13:24.027 | INFO     | src.strategies.rsi_strategy:_generate_signal_for_symbol:133 - RSI sustained overbought for Bitstamp:BTCUSD: 75.07\n",
      "2025-08-02 15:13:24.028 | INFO     | src.strategies.rsi_strategy:_generate_signal_for_symbol:133 - RSI sustained overbought for Bitstamp:BTCUSD: 76.51\n",
      "2025-08-02 15:13:24.028 | INFO     | src.strategies.rsi_strategy:_generate_signal_for_symbol:133 - RSI sustained overbought for Bitstamp:BTCUSD: 75.82\n",
      "2025-08-02 15:13:24.029 | INFO     | src.strategies.rsi_strategy:_generate_signal_for_symbol:133 - RSI sustained overbought for Bitstamp:BTCUSD: 72.12\n",
      "2025-08-02 15:13:24.030 | INFO     | src.strategies.rsi_strategy:_generate_signal_for_symbol:133 - RSI sustained overbought for Bitstamp:BTCUSD: 76.18\n",
      "2025-08-02 15:13:24.030 | INFO     | src.strategies.rsi_strategy:_generate_signal_for_symbol:133 - RSI sustained overbought for Bitstamp:BTCUSD: 78.54\n",
      "2025-08-02 15:13:24.031 | INFO     | src.strategies.rsi_strategy:_generate_signal_for_symbol:133 - RSI sustained overbought for Bitstamp:BTCUSD: 70.63\n",
      "2025-08-02 15:13:24.039 | INFO     | src.strategies.base_strategy:__init__:34 - Initialized strategy: rsi\n",
      "2025-08-02 15:13:24.039 | INFO     | src.strategies.rsi_strategy:__init__:56 - RSI Strategy initialized: period=10, overbought=70, oversold=30\n",
      "2025-08-02 15:13:24.039 | INFO     | src.backtesting.backtest_engine:run_backtest:53 - Starting backtest from 2023-01-01 to 2023-06-30\n",
      "2025-08-02 15:13:24.039 | INFO     | src.data.data_manager:get_historical_data_standardized:589 - Fetching standardized OHLCV data for ['Bitstamp:BTCUSD'] from 2023-01-01 to 2023-06-30\n",
      "2025-08-02 15:13:24.039 | INFO     | src.data.data_manager:get_historical_data:64 - Fetching historical OHLCV data for ['Bitstamp:BTCUSD'] from 2023-01-01 to 2023-06-30\n",
      "2025-08-02 15:13:24.455 | INFO     | src.data.data_manager:_fetch_tradingview_ohlcv_data:159 - Successfully fetched OHLCV data for 1 symbols\n",
      "2025-08-02 15:13:24.456 | INFO     | src.data.data_manager:get_historical_data:97 - OHLCV data cached successfully\n",
      "2025-08-02 15:13:24.457 | INFO     | src.data.data_manager:ensure_ohlcv_format:500 - Data formatted for Bitstamp:BTCUSD: (100, 5)\n",
      "2025-08-02 15:13:24.458 | INFO     | src.data.data_manager:get_historical_data_standardized:622 - Successfully standardized OHLCV data for 1 symbols\n",
      "2025-08-02 15:13:24.458 | INFO     | src.backtesting.backtest_engine:run_backtest:65 - Running backtest for strategy: rsi_test\n",
      "2025-08-02 15:13:24.458 | INFO     | src.strategies.base_strategy:reset:99 - Reset strategy: rsi\n",
      "2025-08-02 15:13:24.458 | INFO     | src.risk.risk_manager:__init__:49 - Risk manager initialized\n",
      "2025-08-02 15:13:24.465 | INFO     | src.strategies.rsi_strategy:_generate_signal_for_symbol:133 - RSI sustained overbought for Bitstamp:BTCUSD: 76.14\n",
      "2025-08-02 15:13:24.467 | INFO     | src.strategies.rsi_strategy:_generate_signal_for_symbol:133 - RSI sustained overbought for Bitstamp:BTCUSD: 76.98\n",
      "2025-08-02 15:13:24.468 | INFO     | src.strategies.rsi_strategy:_generate_signal_for_symbol:133 - RSI sustained overbought for Bitstamp:BTCUSD: 70.13\n",
      "2025-08-02 15:13:24.470 | INFO     | src.strategies.rsi_strategy:_generate_signal_for_symbol:133 - RSI sustained overbought for Bitstamp:BTCUSD: 74.82\n",
      "2025-08-02 15:13:24.471 | INFO     | src.strategies.rsi_strategy:_generate_signal_for_symbol:133 - RSI sustained overbought for Bitstamp:BTCUSD: 72.98\n",
      "2025-08-02 15:13:24.474 | INFO     | src.strategies.rsi_strategy:_generate_signal_for_symbol:118 - RSI overbought signal for Bitstamp:BTCUSD: 70.69 > 70\n",
      "2025-08-02 15:13:24.475 | INFO     | src.strategies.rsi_strategy:_generate_signal_for_symbol:133 - RSI sustained overbought for Bitstamp:BTCUSD: 81.69\n",
      "2025-08-02 15:13:24.477 | INFO     | src.strategies.rsi_strategy:_generate_signal_for_symbol:133 - RSI sustained overbought for Bitstamp:BTCUSD: 77.59\n",
      "2025-08-02 15:13:24.478 | INFO     | src.strategies.rsi_strategy:_generate_signal_for_symbol:133 - RSI sustained overbought for Bitstamp:BTCUSD: 76.58\n",
      "2025-08-02 15:13:24.479 | INFO     | src.strategies.rsi_strategy:_generate_signal_for_symbol:133 - RSI sustained overbought for Bitstamp:BTCUSD: 79.40\n",
      "2025-08-02 15:13:24.481 | INFO     | src.strategies.rsi_strategy:_generate_signal_for_symbol:133 - RSI sustained overbought for Bitstamp:BTCUSD: 74.47\n",
      "2025-08-02 15:13:24.495 | INFO     | src.strategies.rsi_strategy:_generate_signal_for_symbol:112 - RSI oversold signal for Bitstamp:BTCUSD: 22.03 < 30\n",
      "2025-08-02 15:13:24.495 | DEBUG    | src.backtesting.backtest_engine:_execute_trades:216 - BUY 0.20 Bitstamp:BTCUSD @ $101559.00\n",
      "2025-08-02 15:13:24.519 | INFO     | src.strategies.rsi_strategy:_generate_signal_for_symbol:118 - RSI overbought signal for Bitstamp:BTCUSD: 73.31 > 70\n",
      "2025-08-02 15:13:24.519 | DEBUG    | src.backtesting.backtest_engine:_execute_trades:245 - SELL 0.20 Bitstamp:BTCUSD @ $109233.00\n",
      "2025-08-02 15:13:24.522 | INFO     | src.strategies.rsi_strategy:_generate_signal_for_symbol:118 - RSI overbought signal for Bitstamp:BTCUSD: 73.15 > 70\n",
      "2025-08-02 15:13:24.522 | INFO     | src.strategies.rsi_strategy:_generate_signal_for_symbol:133 - RSI sustained overbought for Bitstamp:BTCUSD: 75.01\n",
      "2025-08-02 15:13:24.523 | INFO     | src.strategies.rsi_strategy:_generate_signal_for_symbol:133 - RSI sustained overbought for Bitstamp:BTCUSD: 74.30\n",
      "2025-08-02 15:13:24.524 | INFO     | src.strategies.rsi_strategy:_generate_signal_for_symbol:133 - RSI sustained overbought for Bitstamp:BTCUSD: 75.06\n",
      "2025-08-02 15:13:24.524 | INFO     | src.strategies.rsi_strategy:_generate_signal_for_symbol:133 - RSI sustained overbought for Bitstamp:BTCUSD: 80.25\n",
      "2025-08-02 15:13:24.525 | INFO     | src.strategies.rsi_strategy:_generate_signal_for_symbol:133 - RSI sustained overbought for Bitstamp:BTCUSD: 77.88\n",
      "2025-08-02 15:13:24.525 | INFO     | src.strategies.rsi_strategy:_generate_signal_for_symbol:133 - RSI sustained overbought for Bitstamp:BTCUSD: 75.34\n",
      "2025-08-02 15:13:24.526 | INFO     | src.strategies.rsi_strategy:_generate_signal_for_symbol:133 - RSI sustained overbought for Bitstamp:BTCUSD: 75.07\n",
      "2025-08-02 15:13:24.527 | INFO     | src.strategies.rsi_strategy:_generate_signal_for_symbol:133 - RSI sustained overbought for Bitstamp:BTCUSD: 76.51\n",
      "2025-08-02 15:13:24.527 | INFO     | src.strategies.rsi_strategy:_generate_signal_for_symbol:133 - RSI sustained overbought for Bitstamp:BTCUSD: 75.82\n",
      "2025-08-02 15:13:24.528 | INFO     | src.strategies.rsi_strategy:_generate_signal_for_symbol:133 - RSI sustained overbought for Bitstamp:BTCUSD: 72.12\n",
      "2025-08-02 15:13:24.528 | INFO     | src.strategies.rsi_strategy:_generate_signal_for_symbol:133 - RSI sustained overbought for Bitstamp:BTCUSD: 76.18\n",
      "2025-08-02 15:13:24.530 | INFO     | src.strategies.rsi_strategy:_generate_signal_for_symbol:133 - RSI sustained overbought for Bitstamp:BTCUSD: 78.54\n",
      "2025-08-02 15:13:24.530 | INFO     | src.strategies.rsi_strategy:_generate_signal_for_symbol:133 - RSI sustained overbought for Bitstamp:BTCUSD: 70.63\n",
      "2025-08-02 15:13:24.539 | INFO     | src.strategies.base_strategy:__init__:34 - Initialized strategy: rsi\n",
      "2025-08-02 15:13:24.539 | INFO     | src.strategies.rsi_strategy:__init__:56 - RSI Strategy initialized: period=10, overbought=70, oversold=30\n",
      "2025-08-02 15:13:24.539 | INFO     | src.backtesting.backtest_engine:run_backtest:53 - Starting backtest from 2023-01-01 to 2023-06-30\n",
      "2025-08-02 15:13:24.539 | INFO     | src.data.data_manager:get_historical_data_standardized:589 - Fetching standardized OHLCV data for ['Bitstamp:BTCUSD'] from 2023-01-01 to 2023-06-30\n",
      "2025-08-02 15:13:24.539 | INFO     | src.data.data_manager:get_historical_data:64 - Fetching historical OHLCV data for ['Bitstamp:BTCUSD'] from 2023-01-01 to 2023-06-30\n",
      "\u001b[32m2025-08-02 15:13:24.539\u001b[0m | \u001b[1mINFO    \u001b[0m | \u001b[36msrc.optimization.optimizer\u001b[0m:\u001b[36m_optimize_parallel\u001b[0m:\u001b[36m149\u001b[0m - \u001b[1mCompleted 30/50 combinations\u001b[0m\n",
      "2025-08-02 15:13:24.954 | INFO     | src.data.data_manager:_fetch_tradingview_ohlcv_data:159 - Successfully fetched OHLCV data for 1 symbols\n",
      "2025-08-02 15:13:24.955 | INFO     | src.data.data_manager:get_historical_data:97 - OHLCV data cached successfully\n",
      "2025-08-02 15:13:24.956 | INFO     | src.data.data_manager:ensure_ohlcv_format:500 - Data formatted for Bitstamp:BTCUSD: (100, 5)\n",
      "2025-08-02 15:13:24.956 | INFO     | src.data.data_manager:get_historical_data_standardized:622 - Successfully standardized OHLCV data for 1 symbols\n",
      "2025-08-02 15:13:24.957 | INFO     | src.backtesting.backtest_engine:run_backtest:65 - Running backtest for strategy: rsi_test\n",
      "2025-08-02 15:13:24.957 | INFO     | src.strategies.base_strategy:reset:99 - Reset strategy: rsi\n",
      "2025-08-02 15:13:24.957 | INFO     | src.risk.risk_manager:__init__:49 - Risk manager initialized\n",
      "2025-08-02 15:13:24.964 | INFO     | src.strategies.rsi_strategy:_generate_signal_for_symbol:118 - RSI overbought signal for Bitstamp:BTCUSD: 70.07 > 70\n",
      "2025-08-02 15:13:24.964 | INFO     | src.strategies.rsi_strategy:_generate_signal_for_symbol:133 - RSI sustained overbought for Bitstamp:BTCUSD: 72.53\n",
      "2025-08-02 15:13:24.965 | INFO     | src.strategies.rsi_strategy:_generate_signal_for_symbol:133 - RSI sustained overbought for Bitstamp:BTCUSD: 72.13\n",
      "2025-08-02 15:13:24.966 | INFO     | src.strategies.rsi_strategy:_generate_signal_for_symbol:133 - RSI sustained overbought for Bitstamp:BTCUSD: 73.70\n",
      "2025-08-02 15:13:24.970 | INFO     | src.strategies.rsi_strategy:_generate_signal_for_symbol:133 - RSI sustained overbought for Bitstamp:BTCUSD: 74.15\n",
      "2025-08-02 15:13:24.971 | INFO     | src.strategies.rsi_strategy:_generate_signal_for_symbol:133 - RSI sustained overbought for Bitstamp:BTCUSD: 75.65\n",
      "2025-08-02 15:13:24.972 | INFO     | src.strategies.rsi_strategy:_generate_signal_for_symbol:118 - RSI overbought signal for Bitstamp:BTCUSD: 71.63 > 70\n",
      "2025-08-02 15:13:24.973 | INFO     | src.strategies.rsi_strategy:_generate_signal_for_symbol:133 - RSI sustained overbought for Bitstamp:BTCUSD: 72.40\n",
      "2025-08-02 15:13:24.974 | INFO     | src.strategies.rsi_strategy:_generate_signal_for_symbol:133 - RSI sustained overbought for Bitstamp:BTCUSD: 70.86\n",
      "2025-08-02 15:13:25.002 | INFO     | src.strategies.rsi_strategy:_generate_signal_for_symbol:118 - RSI overbought signal for Bitstamp:BTCUSD: 72.22 > 70\n",
      "2025-08-02 15:13:25.003 | INFO     | src.strategies.rsi_strategy:_generate_signal_for_symbol:133 - RSI sustained overbought for Bitstamp:BTCUSD: 76.63\n",
      "2025-08-02 15:13:25.003 | INFO     | src.strategies.rsi_strategy:_generate_signal_for_symbol:133 - RSI sustained overbought for Bitstamp:BTCUSD: 79.40\n",
      "2025-08-02 15:13:25.004 | INFO     | src.strategies.rsi_strategy:_generate_signal_for_symbol:133 - RSI sustained overbought for Bitstamp:BTCUSD: 77.12\n",
      "2025-08-02 15:13:25.004 | INFO     | src.strategies.rsi_strategy:_generate_signal_for_symbol:133 - RSI sustained overbought for Bitstamp:BTCUSD: 77.19\n",
      "2025-08-02 15:13:25.005 | INFO     | src.strategies.rsi_strategy:_generate_signal_for_symbol:118 - RSI overbought signal for Bitstamp:BTCUSD: 71.99 > 70\n",
      "2025-08-02 15:13:25.006 | INFO     | src.strategies.rsi_strategy:_generate_signal_for_symbol:133 - RSI sustained overbought for Bitstamp:BTCUSD: 72.47\n",
      "2025-08-02 15:13:25.008 | INFO     | src.strategies.rsi_strategy:_generate_signal_for_symbol:118 - RSI overbought signal for Bitstamp:BTCUSD: 73.30 > 70\n",
      "2025-08-02 15:13:25.009 | INFO     | src.strategies.rsi_strategy:_generate_signal_for_symbol:133 - RSI sustained overbought for Bitstamp:BTCUSD: 72.64\n",
      "2025-08-02 15:13:25.010 | INFO     | src.strategies.rsi_strategy:_generate_signal_for_symbol:118 - RSI overbought signal for Bitstamp:BTCUSD: 71.62 > 70\n",
      "2025-08-02 15:13:25.011 | INFO     | src.strategies.rsi_strategy:_generate_signal_for_symbol:118 - RSI overbought signal for Bitstamp:BTCUSD: 73.08 > 70\n",
      "divide by zero encountered in scalar divide\n",
      "2025-08-02 15:13:25.018 | INFO     | src.strategies.base_strategy:__init__:34 - Initialized strategy: rsi\n",
      "2025-08-02 15:13:25.018 | INFO     | src.strategies.rsi_strategy:__init__:56 - RSI Strategy initialized: period=10, overbought=70, oversold=30\n",
      "2025-08-02 15:13:25.018 | INFO     | src.backtesting.backtest_engine:run_backtest:53 - Starting backtest from 2023-01-01 to 2023-06-30\n",
      "2025-08-02 15:13:25.018 | INFO     | src.data.data_manager:get_historical_data_standardized:589 - Fetching standardized OHLCV data for ['Bitstamp:BTCUSD'] from 2023-01-01 to 2023-06-30\n",
      "2025-08-02 15:13:25.018 | INFO     | src.data.data_manager:get_historical_data:64 - Fetching historical OHLCV data for ['Bitstamp:BTCUSD'] from 2023-01-01 to 2023-06-30\n",
      "2025-08-02 15:13:25.454 | INFO     | src.data.data_manager:_fetch_tradingview_ohlcv_data:159 - Successfully fetched OHLCV data for 1 symbols\n",
      "2025-08-02 15:13:25.455 | INFO     | src.data.data_manager:get_historical_data:97 - OHLCV data cached successfully\n",
      "2025-08-02 15:13:25.456 | INFO     | src.data.data_manager:ensure_ohlcv_format:500 - Data formatted for Bitstamp:BTCUSD: (100, 5)\n",
      "2025-08-02 15:13:25.456 | INFO     | src.data.data_manager:get_historical_data_standardized:622 - Successfully standardized OHLCV data for 1 symbols\n",
      "2025-08-02 15:13:25.456 | INFO     | src.backtesting.backtest_engine:run_backtest:65 - Running backtest for strategy: rsi_test\n",
      "2025-08-02 15:13:25.456 | INFO     | src.strategies.base_strategy:reset:99 - Reset strategy: rsi\n",
      "2025-08-02 15:13:25.456 | INFO     | src.risk.risk_manager:__init__:49 - Risk manager initialized\n",
      "2025-08-02 15:13:25.463 | INFO     | src.strategies.rsi_strategy:_generate_signal_for_symbol:118 - RSI overbought signal for Bitstamp:BTCUSD: 70.07 > 70\n",
      "2025-08-02 15:13:25.464 | INFO     | src.strategies.rsi_strategy:_generate_signal_for_symbol:133 - RSI sustained overbought for Bitstamp:BTCUSD: 72.53\n",
      "2025-08-02 15:13:25.465 | INFO     | src.strategies.rsi_strategy:_generate_signal_for_symbol:133 - RSI sustained overbought for Bitstamp:BTCUSD: 72.13\n",
      "2025-08-02 15:13:25.465 | INFO     | src.strategies.rsi_strategy:_generate_signal_for_symbol:133 - RSI sustained overbought for Bitstamp:BTCUSD: 73.70\n",
      "2025-08-02 15:13:25.466 | INFO     | src.strategies.rsi_strategy:_generate_signal_for_symbol:133 - RSI sustained overbought for Bitstamp:BTCUSD: 74.15\n",
      "2025-08-02 15:13:25.467 | INFO     | src.strategies.rsi_strategy:_generate_signal_for_symbol:133 - RSI sustained overbought for Bitstamp:BTCUSD: 75.65\n",
      "2025-08-02 15:13:25.468 | INFO     | src.strategies.rsi_strategy:_generate_signal_for_symbol:118 - RSI overbought signal for Bitstamp:BTCUSD: 71.63 > 70\n",
      "2025-08-02 15:13:25.470 | INFO     | src.strategies.rsi_strategy:_generate_signal_for_symbol:133 - RSI sustained overbought for Bitstamp:BTCUSD: 72.40\n",
      "2025-08-02 15:13:25.471 | INFO     | src.strategies.rsi_strategy:_generate_signal_for_symbol:133 - RSI sustained overbought for Bitstamp:BTCUSD: 70.86\n",
      "2025-08-02 15:13:25.497 | INFO     | src.strategies.rsi_strategy:_generate_signal_for_symbol:118 - RSI overbought signal for Bitstamp:BTCUSD: 72.22 > 70\n",
      "2025-08-02 15:13:25.497 | INFO     | src.strategies.rsi_strategy:_generate_signal_for_symbol:133 - RSI sustained overbought for Bitstamp:BTCUSD: 76.63\n",
      "2025-08-02 15:13:25.498 | INFO     | src.strategies.rsi_strategy:_generate_signal_for_symbol:133 - RSI sustained overbought for Bitstamp:BTCUSD: 79.40\n",
      "2025-08-02 15:13:25.499 | INFO     | src.strategies.rsi_strategy:_generate_signal_for_symbol:133 - RSI sustained overbought for Bitstamp:BTCUSD: 77.12\n",
      "2025-08-02 15:13:25.499 | INFO     | src.strategies.rsi_strategy:_generate_signal_for_symbol:133 - RSI sustained overbought for Bitstamp:BTCUSD: 77.19\n",
      "2025-08-02 15:13:25.500 | INFO     | src.strategies.rsi_strategy:_generate_signal_for_symbol:118 - RSI overbought signal for Bitstamp:BTCUSD: 71.99 > 70\n",
      "2025-08-02 15:13:25.501 | INFO     | src.strategies.rsi_strategy:_generate_signal_for_symbol:133 - RSI sustained overbought for Bitstamp:BTCUSD: 72.47\n",
      "2025-08-02 15:13:25.503 | INFO     | src.strategies.rsi_strategy:_generate_signal_for_symbol:118 - RSI overbought signal for Bitstamp:BTCUSD: 73.30 > 70\n",
      "2025-08-02 15:13:25.504 | INFO     | src.strategies.rsi_strategy:_generate_signal_for_symbol:133 - RSI sustained overbought for Bitstamp:BTCUSD: 72.64\n",
      "2025-08-02 15:13:25.505 | INFO     | src.strategies.rsi_strategy:_generate_signal_for_symbol:118 - RSI overbought signal for Bitstamp:BTCUSD: 71.62 > 70\n",
      "2025-08-02 15:13:25.506 | INFO     | src.strategies.rsi_strategy:_generate_signal_for_symbol:118 - RSI overbought signal for Bitstamp:BTCUSD: 73.08 > 70\n",
      "divide by zero encountered in scalar divide\n",
      "2025-08-02 15:13:25.512 | INFO     | src.strategies.base_strategy:__init__:34 - Initialized strategy: rsi\n",
      "2025-08-02 15:13:25.512 | INFO     | src.strategies.rsi_strategy:__init__:56 - RSI Strategy initialized: period=14, overbought=70, oversold=30\n",
      "2025-08-02 15:13:25.512 | INFO     | src.backtesting.backtest_engine:run_backtest:53 - Starting backtest from 2023-01-01 to 2023-06-30\n",
      "2025-08-02 15:13:25.512 | INFO     | src.data.data_manager:get_historical_data_standardized:589 - Fetching standardized OHLCV data for ['Bitstamp:BTCUSD'] from 2023-01-01 to 2023-06-30\n",
      "2025-08-02 15:13:25.512 | INFO     | src.data.data_manager:get_historical_data:64 - Fetching historical OHLCV data for ['Bitstamp:BTCUSD'] from 2023-01-01 to 2023-06-30\n",
      "2025-08-02 15:13:25.940 | INFO     | src.data.data_manager:_fetch_tradingview_ohlcv_data:159 - Successfully fetched OHLCV data for 1 symbols\n",
      "2025-08-02 15:13:25.941 | INFO     | src.data.data_manager:get_historical_data:97 - OHLCV data cached successfully\n",
      "2025-08-02 15:13:25.942 | INFO     | src.data.data_manager:ensure_ohlcv_format:500 - Data formatted for Bitstamp:BTCUSD: (100, 5)\n",
      "2025-08-02 15:13:25.943 | INFO     | src.data.data_manager:get_historical_data_standardized:622 - Successfully standardized OHLCV data for 1 symbols\n",
      "2025-08-02 15:13:25.943 | INFO     | src.backtesting.backtest_engine:run_backtest:65 - Running backtest for strategy: rsi_test\n",
      "2025-08-02 15:13:25.943 | INFO     | src.strategies.base_strategy:reset:99 - Reset strategy: rsi\n",
      "2025-08-02 15:13:25.943 | INFO     | src.risk.risk_manager:__init__:49 - Risk manager initialized\n",
      "2025-08-02 15:13:25.949 | INFO     | src.strategies.rsi_strategy:_generate_signal_for_symbol:118 - RSI overbought signal for Bitstamp:BTCUSD: 77.11 > 70\n",
      "2025-08-02 15:13:25.951 | INFO     | src.strategies.rsi_strategy:_generate_signal_for_symbol:133 - RSI sustained overbought for Bitstamp:BTCUSD: 79.67\n",
      "2025-08-02 15:13:25.952 | INFO     | src.strategies.rsi_strategy:_generate_signal_for_symbol:133 - RSI sustained overbought for Bitstamp:BTCUSD: 82.43\n",
      "2025-08-02 15:13:25.952 | INFO     | src.strategies.rsi_strategy:_generate_signal_for_symbol:133 - RSI sustained overbought for Bitstamp:BTCUSD: 75.81\n",
      "2025-08-02 15:13:25.954 | INFO     | src.strategies.rsi_strategy:_generate_signal_for_symbol:118 - RSI overbought signal for Bitstamp:BTCUSD: 75.71 > 70\n",
      "2025-08-02 15:13:25.955 | INFO     | src.strategies.rsi_strategy:_generate_signal_for_symbol:133 - RSI sustained overbought for Bitstamp:BTCUSD: 80.74\n",
      "2025-08-02 15:13:25.956 | INFO     | src.strategies.rsi_strategy:_generate_signal_for_symbol:133 - RSI sustained overbought for Bitstamp:BTCUSD: 80.55\n",
      "2025-08-02 15:13:25.957 | INFO     | src.strategies.rsi_strategy:_generate_signal_for_symbol:133 - RSI sustained overbought for Bitstamp:BTCUSD: 75.66\n",
      "2025-08-02 15:13:25.958 | INFO     | src.strategies.rsi_strategy:_generate_signal_for_symbol:133 - RSI sustained overbought for Bitstamp:BTCUSD: 73.18\n",
      "2025-08-02 15:13:25.960 | INFO     | src.strategies.rsi_strategy:_generate_signal_for_symbol:118 - RSI overbought signal for Bitstamp:BTCUSD: 72.21 > 70\n",
      "2025-08-02 15:13:25.961 | INFO     | src.strategies.rsi_strategy:_generate_signal_for_symbol:133 - RSI sustained overbought for Bitstamp:BTCUSD: 83.81\n",
      "2025-08-02 15:13:25.970 | INFO     | src.strategies.rsi_strategy:_generate_signal_for_symbol:112 - RSI oversold signal for Bitstamp:BTCUSD: 27.90 < 30\n",
      "2025-08-02 15:13:25.970 | DEBUG    | src.backtesting.backtest_engine:_execute_trades:216 - BUY 0.19 Bitstamp:BTCUSD @ $105705.00\n",
      "2025-08-02 15:13:25.972 | INFO     | src.strategies.rsi_strategy:_generate_signal_for_symbol:112 - RSI oversold signal for Bitstamp:BTCUSD: 25.62 < 30\n",
      "2025-08-02 15:13:25.973 | INFO     | src.strategies.rsi_strategy:_generate_signal_for_symbol:128 - RSI sustained oversold for Bitstamp:BTCUSD: 16.06\n",
      "2025-08-02 15:13:25.975 | INFO     | src.strategies.rsi_strategy:_generate_signal_for_symbol:118 - RSI overbought signal for Bitstamp:BTCUSD: 70.96 > 70\n",
      "2025-08-02 15:13:25.975 | DEBUG    | src.backtesting.backtest_engine:_execute_trades:245 - SELL 0.19 Bitstamp:BTCUSD @ $110307.00\n",
      "2025-08-02 15:13:25.981 | INFO     | src.strategies.rsi_strategy:_generate_signal_for_symbol:112 - RSI oversold signal for Bitstamp:BTCUSD: 21.33 < 30\n",
      "2025-08-02 15:13:25.981 | DEBUG    | src.backtesting.backtest_engine:_execute_trades:216 - BUY 0.19 Bitstamp:BTCUSD @ $104688.00\n",
      "2025-08-02 15:13:25.982 | INFO     | src.strategies.rsi_strategy:_generate_signal_for_symbol:128 - RSI sustained oversold for Bitstamp:BTCUSD: 18.73\n",
      "2025-08-02 15:13:25.982 | INFO     | src.strategies.rsi_strategy:_generate_signal_for_symbol:128 - RSI sustained oversold for Bitstamp:BTCUSD: 19.50\n",
      "2025-08-02 15:13:25.983 | INFO     | src.strategies.rsi_strategy:_generate_signal_for_symbol:128 - RSI sustained oversold for Bitstamp:BTCUSD: 23.49\n",
      "2025-08-02 15:13:25.988 | INFO     | src.strategies.rsi_strategy:_generate_signal_for_symbol:118 - RSI overbought signal for Bitstamp:BTCUSD: 78.01 > 70\n",
      "2025-08-02 15:13:25.988 | DEBUG    | src.backtesting.backtest_engine:_execute_trades:245 - SELL 0.19 Bitstamp:BTCUSD @ $108885.00\n",
      "2025-08-02 15:13:25.989 | INFO     | src.strategies.rsi_strategy:_generate_signal_for_symbol:133 - RSI sustained overbought for Bitstamp:BTCUSD: 70.19\n",
      "2025-08-02 15:13:25.993 | INFO     | src.strategies.rsi_strategy:_generate_signal_for_symbol:118 - RSI overbought signal for Bitstamp:BTCUSD: 76.17 > 70\n",
      "2025-08-02 15:13:25.993 | INFO     | src.strategies.rsi_strategy:_generate_signal_for_symbol:133 - RSI sustained overbought for Bitstamp:BTCUSD: 84.93\n",
      "2025-08-02 15:13:25.994 | INFO     | src.strategies.rsi_strategy:_generate_signal_for_symbol:133 - RSI sustained overbought for Bitstamp:BTCUSD: 80.79\n",
      "2025-08-02 15:13:25.994 | INFO     | src.strategies.rsi_strategy:_generate_signal_for_symbol:133 - RSI sustained overbought for Bitstamp:BTCUSD: 81.97\n",
      "2025-08-02 15:13:25.995 | INFO     | src.strategies.rsi_strategy:_generate_signal_for_symbol:133 - RSI sustained overbought for Bitstamp:BTCUSD: 92.40\n",
      "2025-08-02 15:13:25.996 | INFO     | src.strategies.rsi_strategy:_generate_signal_for_symbol:133 - RSI sustained overbought for Bitstamp:BTCUSD: 80.02\n",
      "2025-08-02 15:13:25.996 | INFO     | src.strategies.rsi_strategy:_generate_signal_for_symbol:133 - RSI sustained overbought for Bitstamp:BTCUSD: 79.96\n",
      "2025-08-02 15:13:25.997 | INFO     | src.strategies.rsi_strategy:_generate_signal_for_symbol:133 - RSI sustained overbought for Bitstamp:BTCUSD: 85.59\n",
      "2025-08-02 15:13:25.997 | INFO     | src.strategies.rsi_strategy:_generate_signal_for_symbol:133 - RSI sustained overbought for Bitstamp:BTCUSD: 78.30\n",
      "2025-08-02 15:13:25.998 | INFO     | src.strategies.rsi_strategy:_generate_signal_for_symbol:133 - RSI sustained overbought for Bitstamp:BTCUSD: 74.02\n",
      "2025-08-02 15:13:26.005 | INFO     | src.strategies.rsi_strategy:_generate_signal_for_symbol:112 - RSI oversold signal for Bitstamp:BTCUSD: 17.46 < 30\n",
      "2025-08-02 15:13:26.005 | DEBUG    | src.backtesting.backtest_engine:_execute_trades:216 - BUY 0.18 Bitstamp:BTCUSD @ $113243.00\n",
      "2025-08-02 15:13:26.005 | INFO     | src.strategies.rsi_strategy:_generate_signal_for_symbol:128 - RSI sustained oversold for Bitstamp:BTCUSD: 25.26\n",
      "2025-08-02 15:13:26.008 | INFO     | src.strategies.base_strategy:__init__:34 - Initialized strategy: rsi\n",
      "2025-08-02 15:13:26.008 | INFO     | src.strategies.rsi_strategy:__init__:56 - RSI Strategy initialized: period=14, overbought=70, oversold=30\n",
      "2025-08-02 15:13:26.008 | INFO     | src.backtesting.backtest_engine:run_backtest:53 - Starting backtest from 2023-01-01 to 2023-06-30\n",
      "2025-08-02 15:13:26.008 | INFO     | src.data.data_manager:get_historical_data_standardized:589 - Fetching standardized OHLCV data for ['Bitstamp:BTCUSD'] from 2023-01-01 to 2023-06-30\n",
      "2025-08-02 15:13:26.008 | INFO     | src.data.data_manager:get_historical_data:64 - Fetching historical OHLCV data for ['Bitstamp:BTCUSD'] from 2023-01-01 to 2023-06-30\n",
      "2025-08-02 15:13:26.444 | INFO     | src.data.data_manager:_fetch_tradingview_ohlcv_data:159 - Successfully fetched OHLCV data for 1 symbols\n",
      "2025-08-02 15:13:26.445 | INFO     | src.data.data_manager:get_historical_data:97 - OHLCV data cached successfully\n",
      "2025-08-02 15:13:26.448 | INFO     | src.data.data_manager:ensure_ohlcv_format:500 - Data formatted for Bitstamp:BTCUSD: (100, 5)\n",
      "2025-08-02 15:13:26.448 | INFO     | src.data.data_manager:get_historical_data_standardized:622 - Successfully standardized OHLCV data for 1 symbols\n",
      "2025-08-02 15:13:26.448 | INFO     | src.backtesting.backtest_engine:run_backtest:65 - Running backtest for strategy: rsi_test\n",
      "2025-08-02 15:13:26.448 | INFO     | src.strategies.base_strategy:reset:99 - Reset strategy: rsi\n",
      "2025-08-02 15:13:26.448 | INFO     | src.risk.risk_manager:__init__:49 - Risk manager initialized\n",
      "2025-08-02 15:13:26.457 | INFO     | src.strategies.rsi_strategy:_generate_signal_for_symbol:118 - RSI overbought signal for Bitstamp:BTCUSD: 77.11 > 70\n",
      "2025-08-02 15:13:26.458 | INFO     | src.strategies.rsi_strategy:_generate_signal_for_symbol:133 - RSI sustained overbought for Bitstamp:BTCUSD: 79.67\n",
      "2025-08-02 15:13:26.459 | INFO     | src.strategies.rsi_strategy:_generate_signal_for_symbol:133 - RSI sustained overbought for Bitstamp:BTCUSD: 82.43\n",
      "2025-08-02 15:13:26.460 | INFO     | src.strategies.rsi_strategy:_generate_signal_for_symbol:133 - RSI sustained overbought for Bitstamp:BTCUSD: 75.81\n",
      "2025-08-02 15:13:26.463 | INFO     | src.strategies.rsi_strategy:_generate_signal_for_symbol:118 - RSI overbought signal for Bitstamp:BTCUSD: 75.71 > 70\n",
      "2025-08-02 15:13:26.464 | INFO     | src.strategies.rsi_strategy:_generate_signal_for_symbol:133 - RSI sustained overbought for Bitstamp:BTCUSD: 80.74\n",
      "2025-08-02 15:13:26.466 | INFO     | src.strategies.rsi_strategy:_generate_signal_for_symbol:133 - RSI sustained overbought for Bitstamp:BTCUSD: 80.55\n",
      "2025-08-02 15:13:26.467 | INFO     | src.strategies.rsi_strategy:_generate_signal_for_symbol:133 - RSI sustained overbought for Bitstamp:BTCUSD: 75.66\n",
      "2025-08-02 15:13:26.468 | INFO     | src.strategies.rsi_strategy:_generate_signal_for_symbol:133 - RSI sustained overbought for Bitstamp:BTCUSD: 73.18\n",
      "2025-08-02 15:13:26.472 | INFO     | src.strategies.rsi_strategy:_generate_signal_for_symbol:118 - RSI overbought signal for Bitstamp:BTCUSD: 72.21 > 70\n",
      "2025-08-02 15:13:26.473 | INFO     | src.strategies.rsi_strategy:_generate_signal_for_symbol:133 - RSI sustained overbought for Bitstamp:BTCUSD: 83.81\n",
      "2025-08-02 15:13:26.483 | INFO     | src.strategies.rsi_strategy:_generate_signal_for_symbol:112 - RSI oversold signal for Bitstamp:BTCUSD: 27.90 < 30\n",
      "2025-08-02 15:13:26.484 | DEBUG    | src.backtesting.backtest_engine:_execute_trades:216 - BUY 0.19 Bitstamp:BTCUSD @ $105705.00\n",
      "2025-08-02 15:13:26.486 | INFO     | src.strategies.rsi_strategy:_generate_signal_for_symbol:112 - RSI oversold signal for Bitstamp:BTCUSD: 25.62 < 30\n",
      "2025-08-02 15:13:26.487 | INFO     | src.strategies.rsi_strategy:_generate_signal_for_symbol:128 - RSI sustained oversold for Bitstamp:BTCUSD: 16.06\n",
      "2025-08-02 15:13:26.490 | INFO     | src.strategies.rsi_strategy:_generate_signal_for_symbol:118 - RSI overbought signal for Bitstamp:BTCUSD: 70.96 > 70\n",
      "2025-08-02 15:13:26.490 | DEBUG    | src.backtesting.backtest_engine:_execute_trades:245 - SELL 0.19 Bitstamp:BTCUSD @ $110307.00\n",
      "2025-08-02 15:13:26.498 | INFO     | src.strategies.rsi_strategy:_generate_signal_for_symbol:112 - RSI oversold signal for Bitstamp:BTCUSD: 21.33 < 30\n",
      "2025-08-02 15:13:26.498 | DEBUG    | src.backtesting.backtest_engine:_execute_trades:216 - BUY 0.19 Bitstamp:BTCUSD @ $104688.00\n",
      "2025-08-02 15:13:26.499 | INFO     | src.strategies.rsi_strategy:_generate_signal_for_symbol:128 - RSI sustained oversold for Bitstamp:BTCUSD: 18.73\n",
      "2025-08-02 15:13:26.499 | INFO     | src.strategies.rsi_strategy:_generate_signal_for_symbol:128 - RSI sustained oversold for Bitstamp:BTCUSD: 19.50\n",
      "2025-08-02 15:13:26.500 | INFO     | src.strategies.rsi_strategy:_generate_signal_for_symbol:128 - RSI sustained oversold for Bitstamp:BTCUSD: 23.49\n",
      "2025-08-02 15:13:26.507 | INFO     | src.strategies.rsi_strategy:_generate_signal_for_symbol:118 - RSI overbought signal for Bitstamp:BTCUSD: 78.01 > 70\n",
      "2025-08-02 15:13:26.507 | DEBUG    | src.backtesting.backtest_engine:_execute_trades:245 - SELL 0.19 Bitstamp:BTCUSD @ $108885.00\n",
      "2025-08-02 15:13:26.507 | INFO     | src.strategies.rsi_strategy:_generate_signal_for_symbol:133 - RSI sustained overbought for Bitstamp:BTCUSD: 70.19\n",
      "2025-08-02 15:13:26.512 | INFO     | src.strategies.rsi_strategy:_generate_signal_for_symbol:118 - RSI overbought signal for Bitstamp:BTCUSD: 76.17 > 70\n",
      "2025-08-02 15:13:26.512 | INFO     | src.strategies.rsi_strategy:_generate_signal_for_symbol:133 - RSI sustained overbought for Bitstamp:BTCUSD: 84.93\n",
      "2025-08-02 15:13:26.513 | INFO     | src.strategies.rsi_strategy:_generate_signal_for_symbol:133 - RSI sustained overbought for Bitstamp:BTCUSD: 80.79\n",
      "2025-08-02 15:13:26.514 | INFO     | src.strategies.rsi_strategy:_generate_signal_for_symbol:133 - RSI sustained overbought for Bitstamp:BTCUSD: 81.97\n",
      "2025-08-02 15:13:26.514 | INFO     | src.strategies.rsi_strategy:_generate_signal_for_symbol:133 - RSI sustained overbought for Bitstamp:BTCUSD: 92.40\n",
      "2025-08-02 15:13:26.515 | INFO     | src.strategies.rsi_strategy:_generate_signal_for_symbol:133 - RSI sustained overbought for Bitstamp:BTCUSD: 80.02\n",
      "2025-08-02 15:13:26.515 | INFO     | src.strategies.rsi_strategy:_generate_signal_for_symbol:133 - RSI sustained overbought for Bitstamp:BTCUSD: 79.96\n",
      "2025-08-02 15:13:26.516 | INFO     | src.strategies.rsi_strategy:_generate_signal_for_symbol:133 - RSI sustained overbought for Bitstamp:BTCUSD: 85.59\n",
      "2025-08-02 15:13:26.517 | INFO     | src.strategies.rsi_strategy:_generate_signal_for_symbol:133 - RSI sustained overbought for Bitstamp:BTCUSD: 78.30\n",
      "2025-08-02 15:13:26.517 | INFO     | src.strategies.rsi_strategy:_generate_signal_for_symbol:133 - RSI sustained overbought for Bitstamp:BTCUSD: 74.02\n",
      "2025-08-02 15:13:26.524 | INFO     | src.strategies.rsi_strategy:_generate_signal_for_symbol:112 - RSI oversold signal for Bitstamp:BTCUSD: 17.46 < 30\n",
      "2025-08-02 15:13:26.524 | DEBUG    | src.backtesting.backtest_engine:_execute_trades:216 - BUY 0.18 Bitstamp:BTCUSD @ $113243.00\n",
      "2025-08-02 15:13:26.525 | INFO     | src.strategies.rsi_strategy:_generate_signal_for_symbol:128 - RSI sustained oversold for Bitstamp:BTCUSD: 25.26\n",
      "2025-08-02 15:13:26.527 | INFO     | src.strategies.base_strategy:__init__:34 - Initialized strategy: rsi\n",
      "2025-08-02 15:13:26.527 | INFO     | src.strategies.rsi_strategy:__init__:56 - RSI Strategy initialized: period=10, overbought=70, oversold=30\n",
      "2025-08-02 15:13:26.527 | INFO     | src.backtesting.backtest_engine:run_backtest:53 - Starting backtest from 2023-01-01 to 2023-06-30\n",
      "2025-08-02 15:13:26.527 | INFO     | src.data.data_manager:get_historical_data_standardized:589 - Fetching standardized OHLCV data for ['Bitstamp:BTCUSD'] from 2023-01-01 to 2023-06-30\n",
      "2025-08-02 15:13:26.527 | INFO     | src.data.data_manager:get_historical_data:64 - Fetching historical OHLCV data for ['Bitstamp:BTCUSD'] from 2023-01-01 to 2023-06-30\n",
      "2025-08-02 15:13:26.945 | INFO     | src.data.data_manager:_fetch_tradingview_ohlcv_data:159 - Successfully fetched OHLCV data for 1 symbols\n",
      "2025-08-02 15:13:26.945 | INFO     | src.data.data_manager:get_historical_data:97 - OHLCV data cached successfully\n",
      "2025-08-02 15:13:26.948 | INFO     | src.data.data_manager:ensure_ohlcv_format:500 - Data formatted for Bitstamp:BTCUSD: (100, 5)\n",
      "2025-08-02 15:13:26.949 | INFO     | src.data.data_manager:get_historical_data_standardized:622 - Successfully standardized OHLCV data for 1 symbols\n",
      "2025-08-02 15:13:26.949 | INFO     | src.backtesting.backtest_engine:run_backtest:65 - Running backtest for strategy: rsi_test\n",
      "2025-08-02 15:13:26.949 | INFO     | src.strategies.base_strategy:reset:99 - Reset strategy: rsi\n",
      "2025-08-02 15:13:26.949 | INFO     | src.risk.risk_manager:__init__:49 - Risk manager initialized\n",
      "2025-08-02 15:13:26.957 | INFO     | src.strategies.rsi_strategy:_generate_signal_for_symbol:118 - RSI overbought signal for Bitstamp:BTCUSD: 77.11 > 70\n",
      "2025-08-02 15:13:26.958 | INFO     | src.strategies.rsi_strategy:_generate_signal_for_symbol:133 - RSI sustained overbought for Bitstamp:BTCUSD: 79.67\n",
      "2025-08-02 15:13:26.959 | INFO     | src.strategies.rsi_strategy:_generate_signal_for_symbol:133 - RSI sustained overbought for Bitstamp:BTCUSD: 82.43\n",
      "2025-08-02 15:13:26.961 | INFO     | src.strategies.rsi_strategy:_generate_signal_for_symbol:133 - RSI sustained overbought for Bitstamp:BTCUSD: 75.81\n",
      "2025-08-02 15:13:26.963 | INFO     | src.strategies.rsi_strategy:_generate_signal_for_symbol:118 - RSI overbought signal for Bitstamp:BTCUSD: 75.71 > 70\n",
      "2025-08-02 15:13:26.965 | INFO     | src.strategies.rsi_strategy:_generate_signal_for_symbol:133 - RSI sustained overbought for Bitstamp:BTCUSD: 80.74\n",
      "2025-08-02 15:13:26.967 | INFO     | src.strategies.rsi_strategy:_generate_signal_for_symbol:133 - RSI sustained overbought for Bitstamp:BTCUSD: 80.55\n",
      "2025-08-02 15:13:26.968 | INFO     | src.strategies.rsi_strategy:_generate_signal_for_symbol:133 - RSI sustained overbought for Bitstamp:BTCUSD: 75.66\n",
      "2025-08-02 15:13:26.969 | INFO     | src.strategies.rsi_strategy:_generate_signal_for_symbol:133 - RSI sustained overbought for Bitstamp:BTCUSD: 73.18\n",
      "2025-08-02 15:13:26.973 | INFO     | src.strategies.rsi_strategy:_generate_signal_for_symbol:118 - RSI overbought signal for Bitstamp:BTCUSD: 72.21 > 70\n",
      "2025-08-02 15:13:26.974 | INFO     | src.strategies.rsi_strategy:_generate_signal_for_symbol:133 - RSI sustained overbought for Bitstamp:BTCUSD: 83.81\n",
      "2025-08-02 15:13:26.985 | INFO     | src.strategies.rsi_strategy:_generate_signal_for_symbol:112 - RSI oversold signal for Bitstamp:BTCUSD: 27.90 < 30\n",
      "2025-08-02 15:13:26.985 | DEBUG    | src.backtesting.backtest_engine:_execute_trades:216 - BUY 0.19 Bitstamp:BTCUSD @ $105705.00\n",
      "2025-08-02 15:13:26.987 | INFO     | src.strategies.rsi_strategy:_generate_signal_for_symbol:112 - RSI oversold signal for Bitstamp:BTCUSD: 25.62 < 30\n",
      "2025-08-02 15:13:26.988 | INFO     | src.strategies.rsi_strategy:_generate_signal_for_symbol:128 - RSI sustained oversold for Bitstamp:BTCUSD: 16.06\n",
      "2025-08-02 15:13:26.991 | INFO     | src.strategies.rsi_strategy:_generate_signal_for_symbol:118 - RSI overbought signal for Bitstamp:BTCUSD: 70.96 > 70\n",
      "2025-08-02 15:13:26.991 | DEBUG    | src.backtesting.backtest_engine:_execute_trades:245 - SELL 0.19 Bitstamp:BTCUSD @ $110307.00\n",
      "2025-08-02 15:13:26.998 | INFO     | src.strategies.rsi_strategy:_generate_signal_for_symbol:112 - RSI oversold signal for Bitstamp:BTCUSD: 21.33 < 30\n",
      "2025-08-02 15:13:26.999 | DEBUG    | src.backtesting.backtest_engine:_execute_trades:216 - BUY 0.19 Bitstamp:BTCUSD @ $104688.00\n",
      "2025-08-02 15:13:26.999 | INFO     | src.strategies.rsi_strategy:_generate_signal_for_symbol:128 - RSI sustained oversold for Bitstamp:BTCUSD: 18.73\n",
      "2025-08-02 15:13:27.000 | INFO     | src.strategies.rsi_strategy:_generate_signal_for_symbol:128 - RSI sustained oversold for Bitstamp:BTCUSD: 19.50\n",
      "2025-08-02 15:13:27.001 | INFO     | src.strategies.rsi_strategy:_generate_signal_for_symbol:128 - RSI sustained oversold for Bitstamp:BTCUSD: 23.49\n",
      "2025-08-02 15:13:27.007 | INFO     | src.strategies.rsi_strategy:_generate_signal_for_symbol:118 - RSI overbought signal for Bitstamp:BTCUSD: 78.01 > 70\n",
      "2025-08-02 15:13:27.007 | DEBUG    | src.backtesting.backtest_engine:_execute_trades:245 - SELL 0.19 Bitstamp:BTCUSD @ $108885.00\n",
      "2025-08-02 15:13:27.008 | INFO     | src.strategies.rsi_strategy:_generate_signal_for_symbol:133 - RSI sustained overbought for Bitstamp:BTCUSD: 70.19\n",
      "2025-08-02 15:13:27.012 | INFO     | src.strategies.rsi_strategy:_generate_signal_for_symbol:118 - RSI overbought signal for Bitstamp:BTCUSD: 76.17 > 70\n",
      "2025-08-02 15:13:27.013 | INFO     | src.strategies.rsi_strategy:_generate_signal_for_symbol:133 - RSI sustained overbought for Bitstamp:BTCUSD: 84.93\n",
      "2025-08-02 15:13:27.014 | INFO     | src.strategies.rsi_strategy:_generate_signal_for_symbol:133 - RSI sustained overbought for Bitstamp:BTCUSD: 80.79\n",
      "2025-08-02 15:13:27.014 | INFO     | src.strategies.rsi_strategy:_generate_signal_for_symbol:133 - RSI sustained overbought for Bitstamp:BTCUSD: 81.97\n",
      "2025-08-02 15:13:27.015 | INFO     | src.strategies.rsi_strategy:_generate_signal_for_symbol:133 - RSI sustained overbought for Bitstamp:BTCUSD: 92.40\n",
      "2025-08-02 15:13:27.016 | INFO     | src.strategies.rsi_strategy:_generate_signal_for_symbol:133 - RSI sustained overbought for Bitstamp:BTCUSD: 80.02\n",
      "2025-08-02 15:13:27.016 | INFO     | src.strategies.rsi_strategy:_generate_signal_for_symbol:133 - RSI sustained overbought for Bitstamp:BTCUSD: 79.96\n",
      "2025-08-02 15:13:27.017 | INFO     | src.strategies.rsi_strategy:_generate_signal_for_symbol:133 - RSI sustained overbought for Bitstamp:BTCUSD: 85.59\n",
      "2025-08-02 15:13:27.017 | INFO     | src.strategies.rsi_strategy:_generate_signal_for_symbol:133 - RSI sustained overbought for Bitstamp:BTCUSD: 78.30\n",
      "2025-08-02 15:13:27.018 | INFO     | src.strategies.rsi_strategy:_generate_signal_for_symbol:133 - RSI sustained overbought for Bitstamp:BTCUSD: 74.02\n",
      "2025-08-02 15:13:27.025 | INFO     | src.strategies.rsi_strategy:_generate_signal_for_symbol:112 - RSI oversold signal for Bitstamp:BTCUSD: 17.46 < 30\n",
      "2025-08-02 15:13:27.025 | DEBUG    | src.backtesting.backtest_engine:_execute_trades:216 - BUY 0.18 Bitstamp:BTCUSD @ $113243.00\n",
      "2025-08-02 15:13:27.026 | INFO     | src.strategies.rsi_strategy:_generate_signal_for_symbol:128 - RSI sustained oversold for Bitstamp:BTCUSD: 25.26\n",
      "2025-08-02 15:13:27.028 | INFO     | src.strategies.base_strategy:__init__:34 - Initialized strategy: rsi\n",
      "2025-08-02 15:13:27.028 | INFO     | src.strategies.rsi_strategy:__init__:56 - RSI Strategy initialized: period=20, overbought=70, oversold=30\n",
      "2025-08-02 15:13:27.028 | INFO     | src.backtesting.backtest_engine:run_backtest:53 - Starting backtest from 2023-01-01 to 2023-06-30\n",
      "2025-08-02 15:13:27.028 | INFO     | src.data.data_manager:get_historical_data_standardized:589 - Fetching standardized OHLCV data for ['Bitstamp:BTCUSD'] from 2023-01-01 to 2023-06-30\n",
      "2025-08-02 15:13:27.028 | INFO     | src.data.data_manager:get_historical_data:64 - Fetching historical OHLCV data for ['Bitstamp:BTCUSD'] from 2023-01-01 to 2023-06-30\n",
      "2025-08-02 15:13:27.443 | INFO     | src.data.data_manager:_fetch_tradingview_ohlcv_data:159 - Successfully fetched OHLCV data for 1 symbols\n",
      "2025-08-02 15:13:27.443 | INFO     | src.data.data_manager:get_historical_data:97 - OHLCV data cached successfully\n",
      "2025-08-02 15:13:27.445 | INFO     | src.data.data_manager:ensure_ohlcv_format:500 - Data formatted for Bitstamp:BTCUSD: (100, 5)\n",
      "2025-08-02 15:13:27.446 | INFO     | src.data.data_manager:get_historical_data_standardized:622 - Successfully standardized OHLCV data for 1 symbols\n",
      "2025-08-02 15:13:27.446 | INFO     | src.backtesting.backtest_engine:run_backtest:65 - Running backtest for strategy: rsi_test\n",
      "2025-08-02 15:13:27.446 | INFO     | src.strategies.base_strategy:reset:99 - Reset strategy: rsi\n",
      "2025-08-02 15:13:27.446 | INFO     | src.risk.risk_manager:__init__:49 - Risk manager initialized\n",
      "2025-08-02 15:13:27.452 | INFO     | src.strategies.rsi_strategy:_generate_signal_for_symbol:133 - RSI sustained overbought for Bitstamp:BTCUSD: 76.14\n",
      "2025-08-02 15:13:27.453 | INFO     | src.strategies.rsi_strategy:_generate_signal_for_symbol:133 - RSI sustained overbought for Bitstamp:BTCUSD: 76.98\n",
      "2025-08-02 15:13:27.454 | INFO     | src.strategies.rsi_strategy:_generate_signal_for_symbol:133 - RSI sustained overbought for Bitstamp:BTCUSD: 70.13\n",
      "2025-08-02 15:13:27.455 | INFO     | src.strategies.rsi_strategy:_generate_signal_for_symbol:133 - RSI sustained overbought for Bitstamp:BTCUSD: 74.82\n",
      "2025-08-02 15:13:27.456 | INFO     | src.strategies.rsi_strategy:_generate_signal_for_symbol:133 - RSI sustained overbought for Bitstamp:BTCUSD: 72.98\n",
      "2025-08-02 15:13:27.459 | INFO     | src.strategies.rsi_strategy:_generate_signal_for_symbol:118 - RSI overbought signal for Bitstamp:BTCUSD: 70.69 > 70\n",
      "2025-08-02 15:13:27.460 | INFO     | src.strategies.rsi_strategy:_generate_signal_for_symbol:133 - RSI sustained overbought for Bitstamp:BTCUSD: 81.69\n",
      "2025-08-02 15:13:27.460 | INFO     | src.strategies.rsi_strategy:_generate_signal_for_symbol:133 - RSI sustained overbought for Bitstamp:BTCUSD: 77.59\n",
      "2025-08-02 15:13:27.461 | INFO     | src.strategies.rsi_strategy:_generate_signal_for_symbol:133 - RSI sustained overbought for Bitstamp:BTCUSD: 76.58\n",
      "2025-08-02 15:13:27.462 | INFO     | src.strategies.rsi_strategy:_generate_signal_for_symbol:133 - RSI sustained overbought for Bitstamp:BTCUSD: 79.40\n",
      "2025-08-02 15:13:27.464 | INFO     | src.strategies.rsi_strategy:_generate_signal_for_symbol:133 - RSI sustained overbought for Bitstamp:BTCUSD: 74.47\n",
      "2025-08-02 15:13:27.476 | INFO     | src.strategies.rsi_strategy:_generate_signal_for_symbol:112 - RSI oversold signal for Bitstamp:BTCUSD: 22.03 < 30\n",
      "2025-08-02 15:13:27.476 | DEBUG    | src.backtesting.backtest_engine:_execute_trades:216 - BUY 0.20 Bitstamp:BTCUSD @ $101559.00\n",
      "2025-08-02 15:13:27.497 | INFO     | src.strategies.rsi_strategy:_generate_signal_for_symbol:118 - RSI overbought signal for Bitstamp:BTCUSD: 73.31 > 70\n",
      "2025-08-02 15:13:27.497 | DEBUG    | src.backtesting.backtest_engine:_execute_trades:245 - SELL 0.20 Bitstamp:BTCUSD @ $109233.00\n",
      "2025-08-02 15:13:27.500 | INFO     | src.strategies.rsi_strategy:_generate_signal_for_symbol:118 - RSI overbought signal for Bitstamp:BTCUSD: 73.15 > 70\n",
      "2025-08-02 15:13:27.500 | INFO     | src.strategies.rsi_strategy:_generate_signal_for_symbol:133 - RSI sustained overbought for Bitstamp:BTCUSD: 75.01\n",
      "2025-08-02 15:13:27.501 | INFO     | src.strategies.rsi_strategy:_generate_signal_for_symbol:133 - RSI sustained overbought for Bitstamp:BTCUSD: 74.30\n",
      "2025-08-02 15:13:27.502 | INFO     | src.strategies.rsi_strategy:_generate_signal_for_symbol:133 - RSI sustained overbought for Bitstamp:BTCUSD: 75.06\n",
      "2025-08-02 15:13:27.502 | INFO     | src.strategies.rsi_strategy:_generate_signal_for_symbol:133 - RSI sustained overbought for Bitstamp:BTCUSD: 80.25\n",
      "2025-08-02 15:13:27.503 | INFO     | src.strategies.rsi_strategy:_generate_signal_for_symbol:133 - RSI sustained overbought for Bitstamp:BTCUSD: 77.88\n",
      "2025-08-02 15:13:27.504 | INFO     | src.strategies.rsi_strategy:_generate_signal_for_symbol:133 - RSI sustained overbought for Bitstamp:BTCUSD: 75.34\n",
      "2025-08-02 15:13:27.504 | INFO     | src.strategies.rsi_strategy:_generate_signal_for_symbol:133 - RSI sustained overbought for Bitstamp:BTCUSD: 75.07\n",
      "2025-08-02 15:13:27.505 | INFO     | src.strategies.rsi_strategy:_generate_signal_for_symbol:133 - RSI sustained overbought for Bitstamp:BTCUSD: 76.51\n",
      "2025-08-02 15:13:27.506 | INFO     | src.strategies.rsi_strategy:_generate_signal_for_symbol:133 - RSI sustained overbought for Bitstamp:BTCUSD: 75.82\n",
      "2025-08-02 15:13:27.506 | INFO     | src.strategies.rsi_strategy:_generate_signal_for_symbol:133 - RSI sustained overbought for Bitstamp:BTCUSD: 72.12\n",
      "2025-08-02 15:13:27.507 | INFO     | src.strategies.rsi_strategy:_generate_signal_for_symbol:133 - RSI sustained overbought for Bitstamp:BTCUSD: 76.18\n",
      "2025-08-02 15:13:27.508 | INFO     | src.strategies.rsi_strategy:_generate_signal_for_symbol:133 - RSI sustained overbought for Bitstamp:BTCUSD: 78.54\n",
      "2025-08-02 15:13:27.508 | INFO     | src.strategies.rsi_strategy:_generate_signal_for_symbol:133 - RSI sustained overbought for Bitstamp:BTCUSD: 70.63\n",
      "2025-08-02 15:13:27.516 | INFO     | src.strategies.base_strategy:__init__:34 - Initialized strategy: rsi\n",
      "2025-08-02 15:13:27.516 | INFO     | src.strategies.rsi_strategy:__init__:56 - RSI Strategy initialized: period=20, overbought=70, oversold=30\n",
      "2025-08-02 15:13:27.516 | INFO     | src.backtesting.backtest_engine:run_backtest:53 - Starting backtest from 2023-01-01 to 2023-06-30\n",
      "2025-08-02 15:13:27.516 | INFO     | src.data.data_manager:get_historical_data_standardized:589 - Fetching standardized OHLCV data for ['Bitstamp:BTCUSD'] from 2023-01-01 to 2023-06-30\n",
      "2025-08-02 15:13:27.516 | INFO     | src.data.data_manager:get_historical_data:64 - Fetching historical OHLCV data for ['Bitstamp:BTCUSD'] from 2023-01-01 to 2023-06-30\n",
      "2025-08-02 15:13:27.943 | INFO     | src.data.data_manager:_fetch_tradingview_ohlcv_data:159 - Successfully fetched OHLCV data for 1 symbols\n",
      "2025-08-02 15:13:27.944 | INFO     | src.data.data_manager:get_historical_data:97 - OHLCV data cached successfully\n",
      "2025-08-02 15:13:27.946 | INFO     | src.data.data_manager:ensure_ohlcv_format:500 - Data formatted for Bitstamp:BTCUSD: (100, 5)\n",
      "2025-08-02 15:13:27.946 | INFO     | src.data.data_manager:get_historical_data_standardized:622 - Successfully standardized OHLCV data for 1 symbols\n",
      "2025-08-02 15:13:27.947 | INFO     | src.backtesting.backtest_engine:run_backtest:65 - Running backtest for strategy: rsi_test\n",
      "2025-08-02 15:13:27.947 | INFO     | src.strategies.base_strategy:reset:99 - Reset strategy: rsi\n",
      "2025-08-02 15:13:27.947 | INFO     | src.risk.risk_manager:__init__:49 - Risk manager initialized\n",
      "2025-08-02 15:13:27.954 | INFO     | src.strategies.rsi_strategy:_generate_signal_for_symbol:133 - RSI sustained overbought for Bitstamp:BTCUSD: 76.14\n",
      "2025-08-02 15:13:27.955 | INFO     | src.strategies.rsi_strategy:_generate_signal_for_symbol:133 - RSI sustained overbought for Bitstamp:BTCUSD: 76.98\n",
      "2025-08-02 15:13:27.956 | INFO     | src.strategies.rsi_strategy:_generate_signal_for_symbol:133 - RSI sustained overbought for Bitstamp:BTCUSD: 70.13\n",
      "2025-08-02 15:13:27.957 | INFO     | src.strategies.rsi_strategy:_generate_signal_for_symbol:133 - RSI sustained overbought for Bitstamp:BTCUSD: 74.82\n",
      "2025-08-02 15:13:27.958 | INFO     | src.strategies.rsi_strategy:_generate_signal_for_symbol:133 - RSI sustained overbought for Bitstamp:BTCUSD: 72.98\n",
      "2025-08-02 15:13:27.961 | INFO     | src.strategies.rsi_strategy:_generate_signal_for_symbol:118 - RSI overbought signal for Bitstamp:BTCUSD: 70.69 > 70\n",
      "2025-08-02 15:13:27.962 | INFO     | src.strategies.rsi_strategy:_generate_signal_for_symbol:133 - RSI sustained overbought for Bitstamp:BTCUSD: 81.69\n",
      "2025-08-02 15:13:27.963 | INFO     | src.strategies.rsi_strategy:_generate_signal_for_symbol:133 - RSI sustained overbought for Bitstamp:BTCUSD: 77.59\n",
      "2025-08-02 15:13:27.964 | INFO     | src.strategies.rsi_strategy:_generate_signal_for_symbol:133 - RSI sustained overbought for Bitstamp:BTCUSD: 76.58\n",
      "2025-08-02 15:13:27.965 | INFO     | src.strategies.rsi_strategy:_generate_signal_for_symbol:133 - RSI sustained overbought for Bitstamp:BTCUSD: 79.40\n",
      "2025-08-02 15:13:27.966 | INFO     | src.strategies.rsi_strategy:_generate_signal_for_symbol:133 - RSI sustained overbought for Bitstamp:BTCUSD: 74.47\n",
      "2025-08-02 15:13:27.980 | INFO     | src.strategies.rsi_strategy:_generate_signal_for_symbol:112 - RSI oversold signal for Bitstamp:BTCUSD: 22.03 < 30\n",
      "2025-08-02 15:13:27.980 | DEBUG    | src.backtesting.backtest_engine:_execute_trades:216 - BUY 0.20 Bitstamp:BTCUSD @ $101559.00\n",
      "2025-08-02 15:13:28.001 | INFO     | src.strategies.rsi_strategy:_generate_signal_for_symbol:118 - RSI overbought signal for Bitstamp:BTCUSD: 73.31 > 70\n",
      "2025-08-02 15:13:28.002 | DEBUG    | src.backtesting.backtest_engine:_execute_trades:245 - SELL 0.20 Bitstamp:BTCUSD @ $109233.00\n",
      "2025-08-02 15:13:28.004 | INFO     | src.strategies.rsi_strategy:_generate_signal_for_symbol:118 - RSI overbought signal for Bitstamp:BTCUSD: 73.15 > 70\n",
      "2025-08-02 15:13:28.004 | INFO     | src.strategies.rsi_strategy:_generate_signal_for_symbol:133 - RSI sustained overbought for Bitstamp:BTCUSD: 75.01\n",
      "2025-08-02 15:13:28.005 | INFO     | src.strategies.rsi_strategy:_generate_signal_for_symbol:133 - RSI sustained overbought for Bitstamp:BTCUSD: 74.30\n",
      "2025-08-02 15:13:28.006 | INFO     | src.strategies.rsi_strategy:_generate_signal_for_symbol:133 - RSI sustained overbought for Bitstamp:BTCUSD: 75.06\n",
      "2025-08-02 15:13:28.006 | INFO     | src.strategies.rsi_strategy:_generate_signal_for_symbol:133 - RSI sustained overbought for Bitstamp:BTCUSD: 80.25\n",
      "2025-08-02 15:13:28.007 | INFO     | src.strategies.rsi_strategy:_generate_signal_for_symbol:133 - RSI sustained overbought for Bitstamp:BTCUSD: 77.88\n",
      "2025-08-02 15:13:28.007 | INFO     | src.strategies.rsi_strategy:_generate_signal_for_symbol:133 - RSI sustained overbought for Bitstamp:BTCUSD: 75.34\n",
      "2025-08-02 15:13:28.008 | INFO     | src.strategies.rsi_strategy:_generate_signal_for_symbol:133 - RSI sustained overbought for Bitstamp:BTCUSD: 75.07\n",
      "2025-08-02 15:13:28.009 | INFO     | src.strategies.rsi_strategy:_generate_signal_for_symbol:133 - RSI sustained overbought for Bitstamp:BTCUSD: 76.51\n",
      "2025-08-02 15:13:28.009 | INFO     | src.strategies.rsi_strategy:_generate_signal_for_symbol:133 - RSI sustained overbought for Bitstamp:BTCUSD: 75.82\n",
      "2025-08-02 15:13:28.010 | INFO     | src.strategies.rsi_strategy:_generate_signal_for_symbol:133 - RSI sustained overbought for Bitstamp:BTCUSD: 72.12\n",
      "2025-08-02 15:13:28.010 | INFO     | src.strategies.rsi_strategy:_generate_signal_for_symbol:133 - RSI sustained overbought for Bitstamp:BTCUSD: 76.18\n",
      "2025-08-02 15:13:28.011 | INFO     | src.strategies.rsi_strategy:_generate_signal_for_symbol:133 - RSI sustained overbought for Bitstamp:BTCUSD: 78.54\n",
      "2025-08-02 15:13:28.011 | INFO     | src.strategies.rsi_strategy:_generate_signal_for_symbol:133 - RSI sustained overbought for Bitstamp:BTCUSD: 70.63\n",
      "2025-08-02 15:13:28.019 | INFO     | src.strategies.base_strategy:__init__:34 - Initialized strategy: rsi\n",
      "2025-08-02 15:13:28.019 | INFO     | src.strategies.rsi_strategy:__init__:56 - RSI Strategy initialized: period=30, overbought=70, oversold=30\n",
      "2025-08-02 15:13:28.019 | INFO     | src.backtesting.backtest_engine:run_backtest:53 - Starting backtest from 2023-01-01 to 2023-06-30\n",
      "2025-08-02 15:13:28.019 | INFO     | src.data.data_manager:get_historical_data_standardized:589 - Fetching standardized OHLCV data for ['Bitstamp:BTCUSD'] from 2023-01-01 to 2023-06-30\n",
      "2025-08-02 15:13:28.019 | INFO     | src.data.data_manager:get_historical_data:64 - Fetching historical OHLCV data for ['Bitstamp:BTCUSD'] from 2023-01-01 to 2023-06-30\n",
      "2025-08-02 15:13:28.454 | INFO     | src.data.data_manager:_fetch_tradingview_ohlcv_data:159 - Successfully fetched OHLCV data for 1 symbols\n",
      "2025-08-02 15:13:28.455 | INFO     | src.data.data_manager:get_historical_data:97 - OHLCV data cached successfully\n",
      "2025-08-02 15:13:28.457 | INFO     | src.data.data_manager:ensure_ohlcv_format:500 - Data formatted for Bitstamp:BTCUSD: (100, 5)\n",
      "2025-08-02 15:13:28.457 | INFO     | src.data.data_manager:get_historical_data_standardized:622 - Successfully standardized OHLCV data for 1 symbols\n",
      "2025-08-02 15:13:28.458 | INFO     | src.backtesting.backtest_engine:run_backtest:65 - Running backtest for strategy: rsi_test\n",
      "2025-08-02 15:13:28.458 | INFO     | src.strategies.base_strategy:reset:99 - Reset strategy: rsi\n",
      "2025-08-02 15:13:28.458 | INFO     | src.risk.risk_manager:__init__:49 - Risk manager initialized\n",
      "2025-08-02 15:13:28.465 | INFO     | src.strategies.rsi_strategy:_generate_signal_for_symbol:118 - RSI overbought signal for Bitstamp:BTCUSD: 77.11 > 70\n",
      "2025-08-02 15:13:28.466 | INFO     | src.strategies.rsi_strategy:_generate_signal_for_symbol:133 - RSI sustained overbought for Bitstamp:BTCUSD: 79.67\n",
      "2025-08-02 15:13:28.468 | INFO     | src.strategies.rsi_strategy:_generate_signal_for_symbol:133 - RSI sustained overbought for Bitstamp:BTCUSD: 82.43\n",
      "2025-08-02 15:13:28.469 | INFO     | src.strategies.rsi_strategy:_generate_signal_for_symbol:133 - RSI sustained overbought for Bitstamp:BTCUSD: 75.81\n",
      "2025-08-02 15:13:28.471 | INFO     | src.strategies.rsi_strategy:_generate_signal_for_symbol:118 - RSI overbought signal for Bitstamp:BTCUSD: 75.71 > 70\n",
      "2025-08-02 15:13:28.472 | INFO     | src.strategies.rsi_strategy:_generate_signal_for_symbol:133 - RSI sustained overbought for Bitstamp:BTCUSD: 80.74\n",
      "2025-08-02 15:13:28.473 | INFO     | src.strategies.rsi_strategy:_generate_signal_for_symbol:133 - RSI sustained overbought for Bitstamp:BTCUSD: 80.55\n",
      "2025-08-02 15:13:28.474 | INFO     | src.strategies.rsi_strategy:_generate_signal_for_symbol:133 - RSI sustained overbought for Bitstamp:BTCUSD: 75.66\n",
      "2025-08-02 15:13:28.475 | INFO     | src.strategies.rsi_strategy:_generate_signal_for_symbol:133 - RSI sustained overbought for Bitstamp:BTCUSD: 73.18\n",
      "2025-08-02 15:13:28.479 | INFO     | src.strategies.rsi_strategy:_generate_signal_for_symbol:118 - RSI overbought signal for Bitstamp:BTCUSD: 72.21 > 70\n",
      "2025-08-02 15:13:28.480 | INFO     | src.strategies.rsi_strategy:_generate_signal_for_symbol:133 - RSI sustained overbought for Bitstamp:BTCUSD: 83.81\n",
      "2025-08-02 15:13:28.491 | INFO     | src.strategies.rsi_strategy:_generate_signal_for_symbol:112 - RSI oversold signal for Bitstamp:BTCUSD: 27.90 < 30\n",
      "2025-08-02 15:13:28.491 | DEBUG    | src.backtesting.backtest_engine:_execute_trades:216 - BUY 0.19 Bitstamp:BTCUSD @ $105705.00\n",
      "2025-08-02 15:13:28.493 | INFO     | src.strategies.rsi_strategy:_generate_signal_for_symbol:112 - RSI oversold signal for Bitstamp:BTCUSD: 25.62 < 30\n",
      "2025-08-02 15:13:28.494 | INFO     | src.strategies.rsi_strategy:_generate_signal_for_symbol:128 - RSI sustained oversold for Bitstamp:BTCUSD: 16.06\n",
      "2025-08-02 15:13:28.497 | INFO     | src.strategies.rsi_strategy:_generate_signal_for_symbol:118 - RSI overbought signal for Bitstamp:BTCUSD: 70.96 > 70\n",
      "2025-08-02 15:13:28.497 | DEBUG    | src.backtesting.backtest_engine:_execute_trades:245 - SELL 0.19 Bitstamp:BTCUSD @ $110307.00\n",
      "2025-08-02 15:13:28.504 | INFO     | src.strategies.rsi_strategy:_generate_signal_for_symbol:112 - RSI oversold signal for Bitstamp:BTCUSD: 21.33 < 30\n",
      "2025-08-02 15:13:28.505 | DEBUG    | src.backtesting.backtest_engine:_execute_trades:216 - BUY 0.19 Bitstamp:BTCUSD @ $104688.00\n",
      "2025-08-02 15:13:28.505 | INFO     | src.strategies.rsi_strategy:_generate_signal_for_symbol:128 - RSI sustained oversold for Bitstamp:BTCUSD: 18.73\n",
      "2025-08-02 15:13:28.506 | INFO     | src.strategies.rsi_strategy:_generate_signal_for_symbol:128 - RSI sustained oversold for Bitstamp:BTCUSD: 19.50\n",
      "2025-08-02 15:13:28.507 | INFO     | src.strategies.rsi_strategy:_generate_signal_for_symbol:128 - RSI sustained oversold for Bitstamp:BTCUSD: 23.49\n",
      "2025-08-02 15:13:28.513 | INFO     | src.strategies.rsi_strategy:_generate_signal_for_symbol:118 - RSI overbought signal for Bitstamp:BTCUSD: 78.01 > 70\n",
      "2025-08-02 15:13:28.513 | DEBUG    | src.backtesting.backtest_engine:_execute_trades:245 - SELL 0.19 Bitstamp:BTCUSD @ $108885.00\n",
      "2025-08-02 15:13:28.514 | INFO     | src.strategies.rsi_strategy:_generate_signal_for_symbol:133 - RSI sustained overbought for Bitstamp:BTCUSD: 70.19\n",
      "2025-08-02 15:13:28.518 | INFO     | src.strategies.rsi_strategy:_generate_signal_for_symbol:118 - RSI overbought signal for Bitstamp:BTCUSD: 76.17 > 70\n",
      "2025-08-02 15:13:28.519 | INFO     | src.strategies.rsi_strategy:_generate_signal_for_symbol:133 - RSI sustained overbought for Bitstamp:BTCUSD: 84.93\n",
      "2025-08-02 15:13:28.520 | INFO     | src.strategies.rsi_strategy:_generate_signal_for_symbol:133 - RSI sustained overbought for Bitstamp:BTCUSD: 80.79\n",
      "2025-08-02 15:13:28.520 | INFO     | src.strategies.rsi_strategy:_generate_signal_for_symbol:133 - RSI sustained overbought for Bitstamp:BTCUSD: 81.97\n",
      "2025-08-02 15:13:28.521 | INFO     | src.strategies.rsi_strategy:_generate_signal_for_symbol:133 - RSI sustained overbought for Bitstamp:BTCUSD: 92.40\n",
      "2025-08-02 15:13:28.521 | INFO     | src.strategies.rsi_strategy:_generate_signal_for_symbol:133 - RSI sustained overbought for Bitstamp:BTCUSD: 80.02\n",
      "2025-08-02 15:13:28.522 | INFO     | src.strategies.rsi_strategy:_generate_signal_for_symbol:133 - RSI sustained overbought for Bitstamp:BTCUSD: 79.96\n",
      "2025-08-02 15:13:28.523 | INFO     | src.strategies.rsi_strategy:_generate_signal_for_symbol:133 - RSI sustained overbought for Bitstamp:BTCUSD: 85.59\n",
      "2025-08-02 15:13:28.523 | INFO     | src.strategies.rsi_strategy:_generate_signal_for_symbol:133 - RSI sustained overbought for Bitstamp:BTCUSD: 78.30\n",
      "2025-08-02 15:13:28.524 | INFO     | src.strategies.rsi_strategy:_generate_signal_for_symbol:133 - RSI sustained overbought for Bitstamp:BTCUSD: 74.02\n",
      "2025-08-02 15:13:28.531 | INFO     | src.strategies.rsi_strategy:_generate_signal_for_symbol:112 - RSI oversold signal for Bitstamp:BTCUSD: 17.46 < 30\n",
      "2025-08-02 15:13:28.531 | DEBUG    | src.backtesting.backtest_engine:_execute_trades:216 - BUY 0.18 Bitstamp:BTCUSD @ $113243.00\n",
      "2025-08-02 15:13:28.532 | INFO     | src.strategies.rsi_strategy:_generate_signal_for_symbol:128 - RSI sustained oversold for Bitstamp:BTCUSD: 25.26\n",
      "2025-08-02 15:13:28.534 | INFO     | src.strategies.base_strategy:__init__:34 - Initialized strategy: rsi\n",
      "2025-08-02 15:13:28.534 | INFO     | src.strategies.rsi_strategy:__init__:56 - RSI Strategy initialized: period=30, overbought=70, oversold=30\n",
      "2025-08-02 15:13:28.534 | INFO     | src.backtesting.backtest_engine:run_backtest:53 - Starting backtest from 2023-01-01 to 2023-06-30\n",
      "2025-08-02 15:13:28.534 | INFO     | src.data.data_manager:get_historical_data_standardized:589 - Fetching standardized OHLCV data for ['Bitstamp:BTCUSD'] from 2023-01-01 to 2023-06-30\n",
      "2025-08-02 15:13:28.534 | INFO     | src.data.data_manager:get_historical_data:64 - Fetching historical OHLCV data for ['Bitstamp:BTCUSD'] from 2023-01-01 to 2023-06-30\n",
      "2025-08-02 15:13:28.951 | INFO     | src.data.data_manager:_fetch_tradingview_ohlcv_data:159 - Successfully fetched OHLCV data for 1 symbols\n",
      "2025-08-02 15:13:28.951 | INFO     | src.data.data_manager:get_historical_data:97 - OHLCV data cached successfully\n",
      "2025-08-02 15:13:28.953 | INFO     | src.data.data_manager:ensure_ohlcv_format:500 - Data formatted for Bitstamp:BTCUSD: (100, 5)\n",
      "2025-08-02 15:13:28.954 | INFO     | src.data.data_manager:get_historical_data_standardized:622 - Successfully standardized OHLCV data for 1 symbols\n",
      "2025-08-02 15:13:28.954 | INFO     | src.backtesting.backtest_engine:run_backtest:65 - Running backtest for strategy: rsi_test\n",
      "2025-08-02 15:13:28.954 | INFO     | src.strategies.base_strategy:reset:99 - Reset strategy: rsi\n",
      "2025-08-02 15:13:28.954 | INFO     | src.risk.risk_manager:__init__:49 - Risk manager initialized\n",
      "2025-08-02 15:13:28.962 | INFO     | src.strategies.rsi_strategy:_generate_signal_for_symbol:118 - RSI overbought signal for Bitstamp:BTCUSD: 70.07 > 70\n",
      "2025-08-02 15:13:28.963 | INFO     | src.strategies.rsi_strategy:_generate_signal_for_symbol:133 - RSI sustained overbought for Bitstamp:BTCUSD: 72.53\n",
      "2025-08-02 15:13:28.965 | INFO     | src.strategies.rsi_strategy:_generate_signal_for_symbol:133 - RSI sustained overbought for Bitstamp:BTCUSD: 72.13\n",
      "2025-08-02 15:13:28.966 | INFO     | src.strategies.rsi_strategy:_generate_signal_for_symbol:133 - RSI sustained overbought for Bitstamp:BTCUSD: 73.70\n",
      "2025-08-02 15:13:28.967 | INFO     | src.strategies.rsi_strategy:_generate_signal_for_symbol:133 - RSI sustained overbought for Bitstamp:BTCUSD: 74.15\n",
      "2025-08-02 15:13:28.969 | INFO     | src.strategies.rsi_strategy:_generate_signal_for_symbol:133 - RSI sustained overbought for Bitstamp:BTCUSD: 75.65\n",
      "2025-08-02 15:13:28.971 | INFO     | src.strategies.rsi_strategy:_generate_signal_for_symbol:118 - RSI overbought signal for Bitstamp:BTCUSD: 71.63 > 70\n",
      "2025-08-02 15:13:28.973 | INFO     | src.strategies.rsi_strategy:_generate_signal_for_symbol:133 - RSI sustained overbought for Bitstamp:BTCUSD: 72.40\n",
      "2025-08-02 15:13:28.974 | INFO     | src.strategies.rsi_strategy:_generate_signal_for_symbol:133 - RSI sustained overbought for Bitstamp:BTCUSD: 70.86\n",
      "2025-08-02 15:13:29.006 | INFO     | src.strategies.rsi_strategy:_generate_signal_for_symbol:118 - RSI overbought signal for Bitstamp:BTCUSD: 72.22 > 70\n",
      "2025-08-02 15:13:29.007 | INFO     | src.strategies.rsi_strategy:_generate_signal_for_symbol:133 - RSI sustained overbought for Bitstamp:BTCUSD: 76.63\n",
      "2025-08-02 15:13:29.008 | INFO     | src.strategies.rsi_strategy:_generate_signal_for_symbol:133 - RSI sustained overbought for Bitstamp:BTCUSD: 79.40\n",
      "2025-08-02 15:13:29.009 | INFO     | src.strategies.rsi_strategy:_generate_signal_for_symbol:133 - RSI sustained overbought for Bitstamp:BTCUSD: 77.12\n",
      "2025-08-02 15:13:29.009 | INFO     | src.strategies.rsi_strategy:_generate_signal_for_symbol:133 - RSI sustained overbought for Bitstamp:BTCUSD: 77.19\n",
      "2025-08-02 15:13:29.010 | INFO     | src.strategies.rsi_strategy:_generate_signal_for_symbol:118 - RSI overbought signal for Bitstamp:BTCUSD: 71.99 > 70\n",
      "2025-08-02 15:13:29.011 | INFO     | src.strategies.rsi_strategy:_generate_signal_for_symbol:133 - RSI sustained overbought for Bitstamp:BTCUSD: 72.47\n",
      "2025-08-02 15:13:29.013 | INFO     | src.strategies.rsi_strategy:_generate_signal_for_symbol:118 - RSI overbought signal for Bitstamp:BTCUSD: 73.30 > 70\n",
      "2025-08-02 15:13:29.015 | INFO     | src.strategies.rsi_strategy:_generate_signal_for_symbol:133 - RSI sustained overbought for Bitstamp:BTCUSD: 72.64\n",
      "2025-08-02 15:13:29.016 | INFO     | src.strategies.rsi_strategy:_generate_signal_for_symbol:118 - RSI overbought signal for Bitstamp:BTCUSD: 71.62 > 70\n",
      "2025-08-02 15:13:29.018 | INFO     | src.strategies.rsi_strategy:_generate_signal_for_symbol:118 - RSI overbought signal for Bitstamp:BTCUSD: 73.08 > 70\n",
      "divide by zero encountered in scalar divide\n",
      "2025-08-02 15:13:29.024 | INFO     | src.strategies.base_strategy:__init__:34 - Initialized strategy: rsi\n",
      "2025-08-02 15:13:29.024 | INFO     | src.strategies.rsi_strategy:__init__:56 - RSI Strategy initialized: period=30, overbought=70, oversold=30\n",
      "2025-08-02 15:13:29.024 | INFO     | src.backtesting.backtest_engine:run_backtest:53 - Starting backtest from 2023-01-01 to 2023-06-30\n",
      "2025-08-02 15:13:29.024 | INFO     | src.data.data_manager:get_historical_data_standardized:589 - Fetching standardized OHLCV data for ['Bitstamp:BTCUSD'] from 2023-01-01 to 2023-06-30\n",
      "2025-08-02 15:13:29.024 | INFO     | src.data.data_manager:get_historical_data:64 - Fetching historical OHLCV data for ['Bitstamp:BTCUSD'] from 2023-01-01 to 2023-06-30\n",
      "2025-08-02 15:13:29.451 | INFO     | src.data.data_manager:_fetch_tradingview_ohlcv_data:159 - Successfully fetched OHLCV data for 1 symbols\n",
      "2025-08-02 15:13:29.451 | INFO     | src.data.data_manager:get_historical_data:97 - OHLCV data cached successfully\n",
      "2025-08-02 15:13:29.453 | INFO     | src.data.data_manager:ensure_ohlcv_format:500 - Data formatted for Bitstamp:BTCUSD: (100, 5)\n",
      "2025-08-02 15:13:29.453 | INFO     | src.data.data_manager:get_historical_data_standardized:622 - Successfully standardized OHLCV data for 1 symbols\n",
      "2025-08-02 15:13:29.453 | INFO     | src.backtesting.backtest_engine:run_backtest:65 - Running backtest for strategy: rsi_test\n",
      "2025-08-02 15:13:29.453 | INFO     | src.strategies.base_strategy:reset:99 - Reset strategy: rsi\n",
      "2025-08-02 15:13:29.453 | INFO     | src.risk.risk_manager:__init__:49 - Risk manager initialized\n",
      "2025-08-02 15:13:29.459 | INFO     | src.strategies.rsi_strategy:_generate_signal_for_symbol:118 - RSI overbought signal for Bitstamp:BTCUSD: 70.07 > 70\n",
      "2025-08-02 15:13:29.460 | INFO     | src.strategies.rsi_strategy:_generate_signal_for_symbol:133 - RSI sustained overbought for Bitstamp:BTCUSD: 72.53\n",
      "2025-08-02 15:13:29.461 | INFO     | src.strategies.rsi_strategy:_generate_signal_for_symbol:133 - RSI sustained overbought for Bitstamp:BTCUSD: 72.13\n",
      "2025-08-02 15:13:29.461 | INFO     | src.strategies.rsi_strategy:_generate_signal_for_symbol:133 - RSI sustained overbought for Bitstamp:BTCUSD: 73.70\n",
      "2025-08-02 15:13:29.463 | INFO     | src.strategies.rsi_strategy:_generate_signal_for_symbol:133 - RSI sustained overbought for Bitstamp:BTCUSD: 74.15\n",
      "2025-08-02 15:13:29.464 | INFO     | src.strategies.rsi_strategy:_generate_signal_for_symbol:133 - RSI sustained overbought for Bitstamp:BTCUSD: 75.65\n",
      "2025-08-02 15:13:29.465 | INFO     | src.strategies.rsi_strategy:_generate_signal_for_symbol:118 - RSI overbought signal for Bitstamp:BTCUSD: 71.63 > 70\n",
      "2025-08-02 15:13:29.467 | INFO     | src.strategies.rsi_strategy:_generate_signal_for_symbol:133 - RSI sustained overbought for Bitstamp:BTCUSD: 72.40\n",
      "2025-08-02 15:13:29.468 | INFO     | src.strategies.rsi_strategy:_generate_signal_for_symbol:133 - RSI sustained overbought for Bitstamp:BTCUSD: 70.86\n",
      "2025-08-02 15:13:29.494 | INFO     | src.strategies.rsi_strategy:_generate_signal_for_symbol:118 - RSI overbought signal for Bitstamp:BTCUSD: 72.22 > 70\n",
      "2025-08-02 15:13:29.495 | INFO     | src.strategies.rsi_strategy:_generate_signal_for_symbol:133 - RSI sustained overbought for Bitstamp:BTCUSD: 76.63\n",
      "2025-08-02 15:13:29.495 | INFO     | src.strategies.rsi_strategy:_generate_signal_for_symbol:133 - RSI sustained overbought for Bitstamp:BTCUSD: 79.40\n",
      "2025-08-02 15:13:29.496 | INFO     | src.strategies.rsi_strategy:_generate_signal_for_symbol:133 - RSI sustained overbought for Bitstamp:BTCUSD: 77.12\n",
      "2025-08-02 15:13:29.497 | INFO     | src.strategies.rsi_strategy:_generate_signal_for_symbol:133 - RSI sustained overbought for Bitstamp:BTCUSD: 77.19\n",
      "2025-08-02 15:13:29.498 | INFO     | src.strategies.rsi_strategy:_generate_signal_for_symbol:118 - RSI overbought signal for Bitstamp:BTCUSD: 71.99 > 70\n",
      "2025-08-02 15:13:29.498 | INFO     | src.strategies.rsi_strategy:_generate_signal_for_symbol:133 - RSI sustained overbought for Bitstamp:BTCUSD: 72.47\n",
      "2025-08-02 15:13:29.500 | INFO     | src.strategies.rsi_strategy:_generate_signal_for_symbol:118 - RSI overbought signal for Bitstamp:BTCUSD: 73.30 > 70\n",
      "2025-08-02 15:13:29.501 | INFO     | src.strategies.rsi_strategy:_generate_signal_for_symbol:133 - RSI sustained overbought for Bitstamp:BTCUSD: 72.64\n",
      "2025-08-02 15:13:29.502 | INFO     | src.strategies.rsi_strategy:_generate_signal_for_symbol:118 - RSI overbought signal for Bitstamp:BTCUSD: 71.62 > 70\n",
      "2025-08-02 15:13:29.503 | INFO     | src.strategies.rsi_strategy:_generate_signal_for_symbol:118 - RSI overbought signal for Bitstamp:BTCUSD: 73.08 > 70\n",
      "divide by zero encountered in scalar divide\n",
      "2025-08-02 15:13:29.509 | INFO     | src.strategies.base_strategy:__init__:34 - Initialized strategy: rsi\n",
      "2025-08-02 15:13:29.509 | INFO     | src.strategies.rsi_strategy:__init__:56 - RSI Strategy initialized: period=14, overbought=70, oversold=30\n",
      "2025-08-02 15:13:29.509 | INFO     | src.backtesting.backtest_engine:run_backtest:53 - Starting backtest from 2023-01-01 to 2023-06-30\n",
      "2025-08-02 15:13:29.509 | INFO     | src.data.data_manager:get_historical_data_standardized:589 - Fetching standardized OHLCV data for ['Bitstamp:BTCUSD'] from 2023-01-01 to 2023-06-30\n",
      "2025-08-02 15:13:29.509 | INFO     | src.data.data_manager:get_historical_data:64 - Fetching historical OHLCV data for ['Bitstamp:BTCUSD'] from 2023-01-01 to 2023-06-30\n",
      "\u001b[32m2025-08-02 15:13:29.509\u001b[0m | \u001b[1mINFO    \u001b[0m | \u001b[36msrc.optimization.optimizer\u001b[0m:\u001b[36m_optimize_parallel\u001b[0m:\u001b[36m149\u001b[0m - \u001b[1mCompleted 40/50 combinations\u001b[0m\n",
      "2025-08-02 15:13:29.954 | INFO     | src.data.data_manager:_fetch_tradingview_ohlcv_data:159 - Successfully fetched OHLCV data for 1 symbols\n",
      "2025-08-02 15:13:29.954 | INFO     | src.data.data_manager:get_historical_data:97 - OHLCV data cached successfully\n",
      "2025-08-02 15:13:29.955 | INFO     | src.data.data_manager:ensure_ohlcv_format:500 - Data formatted for Bitstamp:BTCUSD: (100, 5)\n",
      "2025-08-02 15:13:29.955 | INFO     | src.data.data_manager:get_historical_data_standardized:622 - Successfully standardized OHLCV data for 1 symbols\n",
      "2025-08-02 15:13:29.956 | INFO     | src.backtesting.backtest_engine:run_backtest:65 - Running backtest for strategy: rsi_test\n",
      "2025-08-02 15:13:29.956 | INFO     | src.strategies.base_strategy:reset:99 - Reset strategy: rsi\n",
      "2025-08-02 15:13:29.956 | INFO     | src.risk.risk_manager:__init__:49 - Risk manager initialized\n",
      "2025-08-02 15:13:29.997 | INFO     | src.strategies.rsi_strategy:_generate_signal_for_symbol:118 - RSI overbought signal for Bitstamp:BTCUSD: 70.58 > 70\n",
      "2025-08-02 15:13:29.998 | INFO     | src.strategies.rsi_strategy:_generate_signal_for_symbol:133 - RSI sustained overbought for Bitstamp:BTCUSD: 74.59\n",
      "divide by zero encountered in scalar divide\n",
      "2025-08-02 15:13:30.006 | INFO     | src.strategies.base_strategy:__init__:34 - Initialized strategy: rsi\n",
      "2025-08-02 15:13:30.006 | INFO     | src.strategies.rsi_strategy:__init__:56 - RSI Strategy initialized: period=10, overbought=70, oversold=30\n",
      "2025-08-02 15:13:30.006 | INFO     | src.backtesting.backtest_engine:run_backtest:53 - Starting backtest from 2023-01-01 to 2023-06-30\n",
      "2025-08-02 15:13:30.006 | INFO     | src.data.data_manager:get_historical_data_standardized:589 - Fetching standardized OHLCV data for ['Bitstamp:BTCUSD'] from 2023-01-01 to 2023-06-30\n",
      "2025-08-02 15:13:30.006 | INFO     | src.data.data_manager:get_historical_data:64 - Fetching historical OHLCV data for ['Bitstamp:BTCUSD'] from 2023-01-01 to 2023-06-30\n",
      "2025-08-02 15:13:30.455 | INFO     | src.data.data_manager:_fetch_tradingview_ohlcv_data:159 - Successfully fetched OHLCV data for 1 symbols\n",
      "2025-08-02 15:13:30.456 | INFO     | src.data.data_manager:get_historical_data:97 - OHLCV data cached successfully\n",
      "2025-08-02 15:13:30.457 | INFO     | src.data.data_manager:ensure_ohlcv_format:500 - Data formatted for Bitstamp:BTCUSD: (100, 5)\n",
      "2025-08-02 15:13:30.458 | INFO     | src.data.data_manager:get_historical_data_standardized:622 - Successfully standardized OHLCV data for 1 symbols\n",
      "2025-08-02 15:13:30.458 | INFO     | src.backtesting.backtest_engine:run_backtest:65 - Running backtest for strategy: rsi_test\n",
      "2025-08-02 15:13:30.458 | INFO     | src.strategies.base_strategy:reset:99 - Reset strategy: rsi\n",
      "2025-08-02 15:13:30.458 | INFO     | src.risk.risk_manager:__init__:49 - Risk manager initialized\n",
      "2025-08-02 15:13:30.509 | INFO     | src.strategies.rsi_strategy:_generate_signal_for_symbol:118 - RSI overbought signal for Bitstamp:BTCUSD: 70.58 > 70\n",
      "2025-08-02 15:13:30.509 | INFO     | src.strategies.rsi_strategy:_generate_signal_for_symbol:133 - RSI sustained overbought for Bitstamp:BTCUSD: 74.59\n",
      "divide by zero encountered in scalar divide\n",
      "2025-08-02 15:13:30.518 | INFO     | src.strategies.base_strategy:__init__:34 - Initialized strategy: rsi\n",
      "2025-08-02 15:13:30.518 | INFO     | src.strategies.rsi_strategy:__init__:56 - RSI Strategy initialized: period=14, overbought=70, oversold=30\n",
      "2025-08-02 15:13:30.518 | INFO     | src.backtesting.backtest_engine:run_backtest:53 - Starting backtest from 2023-01-01 to 2023-06-30\n",
      "2025-08-02 15:13:30.518 | INFO     | src.data.data_manager:get_historical_data_standardized:589 - Fetching standardized OHLCV data for ['Bitstamp:BTCUSD'] from 2023-01-01 to 2023-06-30\n",
      "2025-08-02 15:13:30.518 | INFO     | src.data.data_manager:get_historical_data:64 - Fetching historical OHLCV data for ['Bitstamp:BTCUSD'] from 2023-01-01 to 2023-06-30\n",
      "2025-08-02 15:13:30.950 | INFO     | src.data.data_manager:_fetch_tradingview_ohlcv_data:159 - Successfully fetched OHLCV data for 1 symbols\n",
      "2025-08-02 15:13:30.951 | INFO     | src.data.data_manager:get_historical_data:97 - OHLCV data cached successfully\n",
      "2025-08-02 15:13:30.953 | INFO     | src.data.data_manager:ensure_ohlcv_format:500 - Data formatted for Bitstamp:BTCUSD: (100, 5)\n",
      "2025-08-02 15:13:30.953 | INFO     | src.data.data_manager:get_historical_data_standardized:622 - Successfully standardized OHLCV data for 1 symbols\n",
      "2025-08-02 15:13:30.953 | INFO     | src.backtesting.backtest_engine:run_backtest:65 - Running backtest for strategy: rsi_test\n",
      "2025-08-02 15:13:30.953 | INFO     | src.strategies.base_strategy:reset:99 - Reset strategy: rsi\n",
      "2025-08-02 15:13:30.953 | INFO     | src.risk.risk_manager:__init__:49 - Risk manager initialized\n",
      "2025-08-02 15:13:31.008 | INFO     | src.strategies.rsi_strategy:_generate_signal_for_symbol:118 - RSI overbought signal for Bitstamp:BTCUSD: 70.58 > 70\n",
      "2025-08-02 15:13:31.008 | INFO     | src.strategies.rsi_strategy:_generate_signal_for_symbol:133 - RSI sustained overbought for Bitstamp:BTCUSD: 74.59\n",
      "divide by zero encountered in scalar divide\n",
      "2025-08-02 15:13:31.017 | INFO     | src.strategies.base_strategy:__init__:34 - Initialized strategy: rsi\n",
      "2025-08-02 15:13:31.017 | INFO     | src.strategies.rsi_strategy:__init__:56 - RSI Strategy initialized: period=20, overbought=70, oversold=30\n",
      "2025-08-02 15:13:31.017 | INFO     | src.backtesting.backtest_engine:run_backtest:53 - Starting backtest from 2023-01-01 to 2023-06-30\n",
      "2025-08-02 15:13:31.017 | INFO     | src.data.data_manager:get_historical_data_standardized:589 - Fetching standardized OHLCV data for ['Bitstamp:BTCUSD'] from 2023-01-01 to 2023-06-30\n",
      "2025-08-02 15:13:31.017 | INFO     | src.data.data_manager:get_historical_data:64 - Fetching historical OHLCV data for ['Bitstamp:BTCUSD'] from 2023-01-01 to 2023-06-30\n",
      "2025-08-02 15:13:31.457 | INFO     | src.data.data_manager:_fetch_tradingview_ohlcv_data:159 - Successfully fetched OHLCV data for 1 symbols\n",
      "2025-08-02 15:13:31.458 | INFO     | src.data.data_manager:get_historical_data:97 - OHLCV data cached successfully\n",
      "2025-08-02 15:13:31.460 | INFO     | src.data.data_manager:ensure_ohlcv_format:500 - Data formatted for Bitstamp:BTCUSD: (100, 5)\n",
      "2025-08-02 15:13:31.461 | INFO     | src.data.data_manager:get_historical_data_standardized:622 - Successfully standardized OHLCV data for 1 symbols\n",
      "2025-08-02 15:13:31.461 | INFO     | src.backtesting.backtest_engine:run_backtest:65 - Running backtest for strategy: rsi_test\n",
      "2025-08-02 15:13:31.461 | INFO     | src.strategies.base_strategy:reset:99 - Reset strategy: rsi\n",
      "2025-08-02 15:13:31.461 | INFO     | src.risk.risk_manager:__init__:49 - Risk manager initialized\n",
      "2025-08-02 15:13:31.468 | INFO     | src.strategies.rsi_strategy:_generate_signal_for_symbol:133 - RSI sustained overbought for Bitstamp:BTCUSD: 76.14\n",
      "2025-08-02 15:13:31.469 | INFO     | src.strategies.rsi_strategy:_generate_signal_for_symbol:133 - RSI sustained overbought for Bitstamp:BTCUSD: 76.98\n",
      "2025-08-02 15:13:31.471 | INFO     | src.strategies.rsi_strategy:_generate_signal_for_symbol:133 - RSI sustained overbought for Bitstamp:BTCUSD: 70.13\n",
      "2025-08-02 15:13:31.472 | INFO     | src.strategies.rsi_strategy:_generate_signal_for_symbol:133 - RSI sustained overbought for Bitstamp:BTCUSD: 74.82\n",
      "2025-08-02 15:13:31.473 | INFO     | src.strategies.rsi_strategy:_generate_signal_for_symbol:133 - RSI sustained overbought for Bitstamp:BTCUSD: 72.98\n",
      "2025-08-02 15:13:31.476 | INFO     | src.strategies.rsi_strategy:_generate_signal_for_symbol:118 - RSI overbought signal for Bitstamp:BTCUSD: 70.69 > 70\n",
      "2025-08-02 15:13:31.478 | INFO     | src.strategies.rsi_strategy:_generate_signal_for_symbol:133 - RSI sustained overbought for Bitstamp:BTCUSD: 81.69\n",
      "2025-08-02 15:13:31.479 | INFO     | src.strategies.rsi_strategy:_generate_signal_for_symbol:133 - RSI sustained overbought for Bitstamp:BTCUSD: 77.59\n",
      "2025-08-02 15:13:31.481 | INFO     | src.strategies.rsi_strategy:_generate_signal_for_symbol:133 - RSI sustained overbought for Bitstamp:BTCUSD: 76.58\n",
      "2025-08-02 15:13:31.482 | INFO     | src.strategies.rsi_strategy:_generate_signal_for_symbol:133 - RSI sustained overbought for Bitstamp:BTCUSD: 79.40\n",
      "2025-08-02 15:13:31.484 | INFO     | src.strategies.rsi_strategy:_generate_signal_for_symbol:133 - RSI sustained overbought for Bitstamp:BTCUSD: 74.47\n",
      "2025-08-02 15:13:31.499 | INFO     | src.strategies.rsi_strategy:_generate_signal_for_symbol:112 - RSI oversold signal for Bitstamp:BTCUSD: 22.03 < 30\n",
      "2025-08-02 15:13:31.499 | DEBUG    | src.backtesting.backtest_engine:_execute_trades:216 - BUY 0.20 Bitstamp:BTCUSD @ $101559.00\n",
      "2025-08-02 15:13:31.522 | INFO     | src.strategies.rsi_strategy:_generate_signal_for_symbol:118 - RSI overbought signal for Bitstamp:BTCUSD: 73.31 > 70\n",
      "2025-08-02 15:13:31.522 | DEBUG    | src.backtesting.backtest_engine:_execute_trades:245 - SELL 0.20 Bitstamp:BTCUSD @ $109233.00\n",
      "2025-08-02 15:13:31.524 | INFO     | src.strategies.rsi_strategy:_generate_signal_for_symbol:118 - RSI overbought signal for Bitstamp:BTCUSD: 73.15 > 70\n",
      "2025-08-02 15:13:31.525 | INFO     | src.strategies.rsi_strategy:_generate_signal_for_symbol:133 - RSI sustained overbought for Bitstamp:BTCUSD: 75.01\n",
      "2025-08-02 15:13:31.526 | INFO     | src.strategies.rsi_strategy:_generate_signal_for_symbol:133 - RSI sustained overbought for Bitstamp:BTCUSD: 74.30\n",
      "2025-08-02 15:13:31.526 | INFO     | src.strategies.rsi_strategy:_generate_signal_for_symbol:133 - RSI sustained overbought for Bitstamp:BTCUSD: 75.06\n",
      "2025-08-02 15:13:31.527 | INFO     | src.strategies.rsi_strategy:_generate_signal_for_symbol:133 - RSI sustained overbought for Bitstamp:BTCUSD: 80.25\n",
      "2025-08-02 15:13:31.528 | INFO     | src.strategies.rsi_strategy:_generate_signal_for_symbol:133 - RSI sustained overbought for Bitstamp:BTCUSD: 77.88\n",
      "2025-08-02 15:13:31.528 | INFO     | src.strategies.rsi_strategy:_generate_signal_for_symbol:133 - RSI sustained overbought for Bitstamp:BTCUSD: 75.34\n",
      "2025-08-02 15:13:31.529 | INFO     | src.strategies.rsi_strategy:_generate_signal_for_symbol:133 - RSI sustained overbought for Bitstamp:BTCUSD: 75.07\n",
      "2025-08-02 15:13:31.530 | INFO     | src.strategies.rsi_strategy:_generate_signal_for_symbol:133 - RSI sustained overbought for Bitstamp:BTCUSD: 76.51\n",
      "2025-08-02 15:13:31.530 | INFO     | src.strategies.rsi_strategy:_generate_signal_for_symbol:133 - RSI sustained overbought for Bitstamp:BTCUSD: 75.82\n",
      "2025-08-02 15:13:31.531 | INFO     | src.strategies.rsi_strategy:_generate_signal_for_symbol:133 - RSI sustained overbought for Bitstamp:BTCUSD: 72.12\n",
      "2025-08-02 15:13:31.532 | INFO     | src.strategies.rsi_strategy:_generate_signal_for_symbol:133 - RSI sustained overbought for Bitstamp:BTCUSD: 76.18\n",
      "2025-08-02 15:13:31.532 | INFO     | src.strategies.rsi_strategy:_generate_signal_for_symbol:133 - RSI sustained overbought for Bitstamp:BTCUSD: 78.54\n",
      "2025-08-02 15:13:31.533 | INFO     | src.strategies.rsi_strategy:_generate_signal_for_symbol:133 - RSI sustained overbought for Bitstamp:BTCUSD: 70.63\n",
      "2025-08-02 15:13:31.541 | INFO     | src.strategies.base_strategy:__init__:34 - Initialized strategy: rsi\n",
      "2025-08-02 15:13:31.541 | INFO     | src.strategies.rsi_strategy:__init__:56 - RSI Strategy initialized: period=10, overbought=70, oversold=30\n",
      "2025-08-02 15:13:31.541 | INFO     | src.backtesting.backtest_engine:run_backtest:53 - Starting backtest from 2023-01-01 to 2023-06-30\n",
      "2025-08-02 15:13:31.541 | INFO     | src.data.data_manager:get_historical_data_standardized:589 - Fetching standardized OHLCV data for ['Bitstamp:BTCUSD'] from 2023-01-01 to 2023-06-30\n",
      "2025-08-02 15:13:31.541 | INFO     | src.data.data_manager:get_historical_data:64 - Fetching historical OHLCV data for ['Bitstamp:BTCUSD'] from 2023-01-01 to 2023-06-30\n",
      "2025-08-02 15:13:31.951 | INFO     | src.data.data_manager:_fetch_tradingview_ohlcv_data:159 - Successfully fetched OHLCV data for 1 symbols\n",
      "2025-08-02 15:13:31.951 | INFO     | src.data.data_manager:get_historical_data:97 - OHLCV data cached successfully\n",
      "2025-08-02 15:13:31.952 | INFO     | src.data.data_manager:ensure_ohlcv_format:500 - Data formatted for Bitstamp:BTCUSD: (100, 5)\n",
      "2025-08-02 15:13:31.953 | INFO     | src.data.data_manager:get_historical_data_standardized:622 - Successfully standardized OHLCV data for 1 symbols\n",
      "2025-08-02 15:13:31.953 | INFO     | src.backtesting.backtest_engine:run_backtest:65 - Running backtest for strategy: rsi_test\n",
      "2025-08-02 15:13:31.953 | INFO     | src.strategies.base_strategy:reset:99 - Reset strategy: rsi\n",
      "2025-08-02 15:13:31.953 | INFO     | src.risk.risk_manager:__init__:49 - Risk manager initialized\n",
      "2025-08-02 15:13:31.958 | INFO     | src.strategies.rsi_strategy:_generate_signal_for_symbol:118 - RSI overbought signal for Bitstamp:BTCUSD: 77.11 > 70\n",
      "2025-08-02 15:13:31.958 | INFO     | src.strategies.rsi_strategy:_generate_signal_for_symbol:133 - RSI sustained overbought for Bitstamp:BTCUSD: 79.67\n",
      "2025-08-02 15:13:31.959 | INFO     | src.strategies.rsi_strategy:_generate_signal_for_symbol:133 - RSI sustained overbought for Bitstamp:BTCUSD: 82.43\n",
      "2025-08-02 15:13:31.960 | INFO     | src.strategies.rsi_strategy:_generate_signal_for_symbol:133 - RSI sustained overbought for Bitstamp:BTCUSD: 75.81\n",
      "2025-08-02 15:13:31.961 | INFO     | src.strategies.rsi_strategy:_generate_signal_for_symbol:118 - RSI overbought signal for Bitstamp:BTCUSD: 75.71 > 70\n",
      "2025-08-02 15:13:31.963 | INFO     | src.strategies.rsi_strategy:_generate_signal_for_symbol:133 - RSI sustained overbought for Bitstamp:BTCUSD: 80.74\n",
      "2025-08-02 15:13:31.964 | INFO     | src.strategies.rsi_strategy:_generate_signal_for_symbol:133 - RSI sustained overbought for Bitstamp:BTCUSD: 80.55\n",
      "2025-08-02 15:13:31.965 | INFO     | src.strategies.rsi_strategy:_generate_signal_for_symbol:133 - RSI sustained overbought for Bitstamp:BTCUSD: 75.66\n",
      "2025-08-02 15:13:31.966 | INFO     | src.strategies.rsi_strategy:_generate_signal_for_symbol:133 - RSI sustained overbought for Bitstamp:BTCUSD: 73.18\n",
      "2025-08-02 15:13:31.968 | INFO     | src.strategies.rsi_strategy:_generate_signal_for_symbol:118 - RSI overbought signal for Bitstamp:BTCUSD: 72.21 > 70\n",
      "2025-08-02 15:13:31.969 | INFO     | src.strategies.rsi_strategy:_generate_signal_for_symbol:133 - RSI sustained overbought for Bitstamp:BTCUSD: 83.81\n",
      "2025-08-02 15:13:31.977 | INFO     | src.strategies.rsi_strategy:_generate_signal_for_symbol:112 - RSI oversold signal for Bitstamp:BTCUSD: 27.90 < 30\n",
      "2025-08-02 15:13:31.977 | DEBUG    | src.backtesting.backtest_engine:_execute_trades:216 - BUY 0.19 Bitstamp:BTCUSD @ $105705.00\n",
      "2025-08-02 15:13:31.979 | INFO     | src.strategies.rsi_strategy:_generate_signal_for_symbol:112 - RSI oversold signal for Bitstamp:BTCUSD: 25.62 < 30\n",
      "2025-08-02 15:13:31.980 | INFO     | src.strategies.rsi_strategy:_generate_signal_for_symbol:128 - RSI sustained oversold for Bitstamp:BTCUSD: 16.06\n",
      "2025-08-02 15:13:31.983 | INFO     | src.strategies.rsi_strategy:_generate_signal_for_symbol:118 - RSI overbought signal for Bitstamp:BTCUSD: 70.96 > 70\n",
      "2025-08-02 15:13:31.983 | DEBUG    | src.backtesting.backtest_engine:_execute_trades:245 - SELL 0.19 Bitstamp:BTCUSD @ $110307.00\n",
      "2025-08-02 15:13:31.989 | INFO     | src.strategies.rsi_strategy:_generate_signal_for_symbol:112 - RSI oversold signal for Bitstamp:BTCUSD: 21.33 < 30\n",
      "2025-08-02 15:13:31.989 | DEBUG    | src.backtesting.backtest_engine:_execute_trades:216 - BUY 0.19 Bitstamp:BTCUSD @ $104688.00\n",
      "2025-08-02 15:13:31.990 | INFO     | src.strategies.rsi_strategy:_generate_signal_for_symbol:128 - RSI sustained oversold for Bitstamp:BTCUSD: 18.73\n",
      "2025-08-02 15:13:31.990 | INFO     | src.strategies.rsi_strategy:_generate_signal_for_symbol:128 - RSI sustained oversold for Bitstamp:BTCUSD: 19.50\n",
      "2025-08-02 15:13:31.991 | INFO     | src.strategies.rsi_strategy:_generate_signal_for_symbol:128 - RSI sustained oversold for Bitstamp:BTCUSD: 23.49\n",
      "2025-08-02 15:13:31.997 | INFO     | src.strategies.rsi_strategy:_generate_signal_for_symbol:118 - RSI overbought signal for Bitstamp:BTCUSD: 78.01 > 70\n",
      "2025-08-02 15:13:31.997 | DEBUG    | src.backtesting.backtest_engine:_execute_trades:245 - SELL 0.19 Bitstamp:BTCUSD @ $108885.00\n",
      "2025-08-02 15:13:31.998 | INFO     | src.strategies.rsi_strategy:_generate_signal_for_symbol:133 - RSI sustained overbought for Bitstamp:BTCUSD: 70.19\n",
      "2025-08-02 15:13:32.002 | INFO     | src.strategies.rsi_strategy:_generate_signal_for_symbol:118 - RSI overbought signal for Bitstamp:BTCUSD: 76.17 > 70\n",
      "2025-08-02 15:13:32.002 | INFO     | src.strategies.rsi_strategy:_generate_signal_for_symbol:133 - RSI sustained overbought for Bitstamp:BTCUSD: 84.93\n",
      "2025-08-02 15:13:32.003 | INFO     | src.strategies.rsi_strategy:_generate_signal_for_symbol:133 - RSI sustained overbought for Bitstamp:BTCUSD: 80.79\n",
      "2025-08-02 15:13:32.003 | INFO     | src.strategies.rsi_strategy:_generate_signal_for_symbol:133 - RSI sustained overbought for Bitstamp:BTCUSD: 81.97\n",
      "2025-08-02 15:13:32.004 | INFO     | src.strategies.rsi_strategy:_generate_signal_for_symbol:133 - RSI sustained overbought for Bitstamp:BTCUSD: 92.40\n",
      "2025-08-02 15:13:32.005 | INFO     | src.strategies.rsi_strategy:_generate_signal_for_symbol:133 - RSI sustained overbought for Bitstamp:BTCUSD: 80.02\n",
      "2025-08-02 15:13:32.005 | INFO     | src.strategies.rsi_strategy:_generate_signal_for_symbol:133 - RSI sustained overbought for Bitstamp:BTCUSD: 79.96\n",
      "2025-08-02 15:13:32.006 | INFO     | src.strategies.rsi_strategy:_generate_signal_for_symbol:133 - RSI sustained overbought for Bitstamp:BTCUSD: 85.59\n",
      "2025-08-02 15:13:32.006 | INFO     | src.strategies.rsi_strategy:_generate_signal_for_symbol:133 - RSI sustained overbought for Bitstamp:BTCUSD: 78.30\n",
      "2025-08-02 15:13:32.007 | INFO     | src.strategies.rsi_strategy:_generate_signal_for_symbol:133 - RSI sustained overbought for Bitstamp:BTCUSD: 74.02\n",
      "2025-08-02 15:13:32.014 | INFO     | src.strategies.rsi_strategy:_generate_signal_for_symbol:112 - RSI oversold signal for Bitstamp:BTCUSD: 17.46 < 30\n",
      "2025-08-02 15:13:32.014 | DEBUG    | src.backtesting.backtest_engine:_execute_trades:216 - BUY 0.18 Bitstamp:BTCUSD @ $113243.00\n",
      "2025-08-02 15:13:32.015 | INFO     | src.strategies.rsi_strategy:_generate_signal_for_symbol:128 - RSI sustained oversold for Bitstamp:BTCUSD: 25.25\n",
      "2025-08-02 15:13:32.017 | INFO     | src.strategies.base_strategy:__init__:34 - Initialized strategy: rsi\n",
      "2025-08-02 15:13:32.017 | INFO     | src.strategies.rsi_strategy:__init__:56 - RSI Strategy initialized: period=20, overbought=70, oversold=30\n",
      "2025-08-02 15:13:32.017 | INFO     | src.backtesting.backtest_engine:run_backtest:53 - Starting backtest from 2023-01-01 to 2023-06-30\n",
      "2025-08-02 15:13:32.017 | INFO     | src.data.data_manager:get_historical_data_standardized:589 - Fetching standardized OHLCV data for ['Bitstamp:BTCUSD'] from 2023-01-01 to 2023-06-30\n",
      "2025-08-02 15:13:32.017 | INFO     | src.data.data_manager:get_historical_data:64 - Fetching historical OHLCV data for ['Bitstamp:BTCUSD'] from 2023-01-01 to 2023-06-30\n",
      "2025-08-02 15:13:32.443 | INFO     | src.data.data_manager:_fetch_tradingview_ohlcv_data:159 - Successfully fetched OHLCV data for 1 symbols\n",
      "2025-08-02 15:13:32.444 | INFO     | src.data.data_manager:get_historical_data:97 - OHLCV data cached successfully\n",
      "2025-08-02 15:13:32.446 | INFO     | src.data.data_manager:ensure_ohlcv_format:500 - Data formatted for Bitstamp:BTCUSD: (100, 5)\n",
      "2025-08-02 15:13:32.446 | INFO     | src.data.data_manager:get_historical_data_standardized:622 - Successfully standardized OHLCV data for 1 symbols\n",
      "2025-08-02 15:13:32.446 | INFO     | src.backtesting.backtest_engine:run_backtest:65 - Running backtest for strategy: rsi_test\n",
      "2025-08-02 15:13:32.446 | INFO     | src.strategies.base_strategy:reset:99 - Reset strategy: rsi\n",
      "2025-08-02 15:13:32.447 | INFO     | src.risk.risk_manager:__init__:49 - Risk manager initialized\n",
      "2025-08-02 15:13:32.453 | INFO     | src.strategies.rsi_strategy:_generate_signal_for_symbol:133 - RSI sustained overbought for Bitstamp:BTCUSD: 76.14\n",
      "2025-08-02 15:13:32.455 | INFO     | src.strategies.rsi_strategy:_generate_signal_for_symbol:133 - RSI sustained overbought for Bitstamp:BTCUSD: 76.98\n",
      "2025-08-02 15:13:32.456 | INFO     | src.strategies.rsi_strategy:_generate_signal_for_symbol:133 - RSI sustained overbought for Bitstamp:BTCUSD: 70.13\n",
      "2025-08-02 15:13:32.457 | INFO     | src.strategies.rsi_strategy:_generate_signal_for_symbol:133 - RSI sustained overbought for Bitstamp:BTCUSD: 74.82\n",
      "2025-08-02 15:13:32.458 | INFO     | src.strategies.rsi_strategy:_generate_signal_for_symbol:133 - RSI sustained overbought for Bitstamp:BTCUSD: 72.98\n",
      "2025-08-02 15:13:32.461 | INFO     | src.strategies.rsi_strategy:_generate_signal_for_symbol:118 - RSI overbought signal for Bitstamp:BTCUSD: 70.69 > 70\n",
      "2025-08-02 15:13:32.463 | INFO     | src.strategies.rsi_strategy:_generate_signal_for_symbol:133 - RSI sustained overbought for Bitstamp:BTCUSD: 81.69\n",
      "2025-08-02 15:13:32.464 | INFO     | src.strategies.rsi_strategy:_generate_signal_for_symbol:133 - RSI sustained overbought for Bitstamp:BTCUSD: 77.59\n",
      "2025-08-02 15:13:32.466 | INFO     | src.strategies.rsi_strategy:_generate_signal_for_symbol:133 - RSI sustained overbought for Bitstamp:BTCUSD: 76.58\n",
      "2025-08-02 15:13:32.467 | INFO     | src.strategies.rsi_strategy:_generate_signal_for_symbol:133 - RSI sustained overbought for Bitstamp:BTCUSD: 79.40\n",
      "2025-08-02 15:13:32.468 | INFO     | src.strategies.rsi_strategy:_generate_signal_for_symbol:133 - RSI sustained overbought for Bitstamp:BTCUSD: 74.47\n",
      "2025-08-02 15:13:32.482 | INFO     | src.strategies.rsi_strategy:_generate_signal_for_symbol:112 - RSI oversold signal for Bitstamp:BTCUSD: 22.03 < 30\n",
      "2025-08-02 15:13:32.483 | DEBUG    | src.backtesting.backtest_engine:_execute_trades:216 - BUY 0.20 Bitstamp:BTCUSD @ $101559.00\n",
      "2025-08-02 15:13:32.504 | INFO     | src.strategies.rsi_strategy:_generate_signal_for_symbol:118 - RSI overbought signal for Bitstamp:BTCUSD: 73.31 > 70\n",
      "2025-08-02 15:13:32.504 | DEBUG    | src.backtesting.backtest_engine:_execute_trades:245 - SELL 0.20 Bitstamp:BTCUSD @ $109233.00\n",
      "2025-08-02 15:13:32.506 | INFO     | src.strategies.rsi_strategy:_generate_signal_for_symbol:118 - RSI overbought signal for Bitstamp:BTCUSD: 73.15 > 70\n",
      "2025-08-02 15:13:32.507 | INFO     | src.strategies.rsi_strategy:_generate_signal_for_symbol:133 - RSI sustained overbought for Bitstamp:BTCUSD: 75.01\n",
      "2025-08-02 15:13:32.508 | INFO     | src.strategies.rsi_strategy:_generate_signal_for_symbol:133 - RSI sustained overbought for Bitstamp:BTCUSD: 74.30\n",
      "2025-08-02 15:13:32.508 | INFO     | src.strategies.rsi_strategy:_generate_signal_for_symbol:133 - RSI sustained overbought for Bitstamp:BTCUSD: 75.06\n",
      "2025-08-02 15:13:32.509 | INFO     | src.strategies.rsi_strategy:_generate_signal_for_symbol:133 - RSI sustained overbought for Bitstamp:BTCUSD: 80.25\n",
      "2025-08-02 15:13:32.510 | INFO     | src.strategies.rsi_strategy:_generate_signal_for_symbol:133 - RSI sustained overbought for Bitstamp:BTCUSD: 77.88\n",
      "2025-08-02 15:13:32.510 | INFO     | src.strategies.rsi_strategy:_generate_signal_for_symbol:133 - RSI sustained overbought for Bitstamp:BTCUSD: 75.34\n",
      "2025-08-02 15:13:32.511 | INFO     | src.strategies.rsi_strategy:_generate_signal_for_symbol:133 - RSI sustained overbought for Bitstamp:BTCUSD: 75.07\n",
      "2025-08-02 15:13:32.512 | INFO     | src.strategies.rsi_strategy:_generate_signal_for_symbol:133 - RSI sustained overbought for Bitstamp:BTCUSD: 76.51\n",
      "2025-08-02 15:13:32.515 | INFO     | src.strategies.rsi_strategy:_generate_signal_for_symbol:133 - RSI sustained overbought for Bitstamp:BTCUSD: 75.82\n",
      "2025-08-02 15:13:32.516 | INFO     | src.strategies.rsi_strategy:_generate_signal_for_symbol:133 - RSI sustained overbought for Bitstamp:BTCUSD: 72.12\n",
      "2025-08-02 15:13:32.517 | INFO     | src.strategies.rsi_strategy:_generate_signal_for_symbol:133 - RSI sustained overbought for Bitstamp:BTCUSD: 76.18\n",
      "2025-08-02 15:13:32.517 | INFO     | src.strategies.rsi_strategy:_generate_signal_for_symbol:133 - RSI sustained overbought for Bitstamp:BTCUSD: 78.54\n",
      "2025-08-02 15:13:32.518 | INFO     | src.strategies.rsi_strategy:_generate_signal_for_symbol:133 - RSI sustained overbought for Bitstamp:BTCUSD: 70.63\n",
      "2025-08-02 15:13:32.525 | INFO     | src.strategies.base_strategy:__init__:34 - Initialized strategy: rsi\n",
      "2025-08-02 15:13:32.525 | INFO     | src.strategies.rsi_strategy:__init__:56 - RSI Strategy initialized: period=30, overbought=70, oversold=30\n",
      "2025-08-02 15:13:32.525 | INFO     | src.backtesting.backtest_engine:run_backtest:53 - Starting backtest from 2023-01-01 to 2023-06-30\n",
      "2025-08-02 15:13:32.525 | INFO     | src.data.data_manager:get_historical_data_standardized:589 - Fetching standardized OHLCV data for ['Bitstamp:BTCUSD'] from 2023-01-01 to 2023-06-30\n",
      "2025-08-02 15:13:32.526 | INFO     | src.data.data_manager:get_historical_data:64 - Fetching historical OHLCV data for ['Bitstamp:BTCUSD'] from 2023-01-01 to 2023-06-30\n",
      "2025-08-02 15:13:32.941 | INFO     | src.data.data_manager:_fetch_tradingview_ohlcv_data:159 - Successfully fetched OHLCV data for 1 symbols\n",
      "2025-08-02 15:13:32.942 | INFO     | src.data.data_manager:get_historical_data:97 - OHLCV data cached successfully\n",
      "2025-08-02 15:13:32.943 | INFO     | src.data.data_manager:ensure_ohlcv_format:500 - Data formatted for Bitstamp:BTCUSD: (100, 5)\n",
      "2025-08-02 15:13:32.944 | INFO     | src.data.data_manager:get_historical_data_standardized:622 - Successfully standardized OHLCV data for 1 symbols\n",
      "2025-08-02 15:13:32.944 | INFO     | src.backtesting.backtest_engine:run_backtest:65 - Running backtest for strategy: rsi_test\n",
      "2025-08-02 15:13:32.944 | INFO     | src.strategies.base_strategy:reset:99 - Reset strategy: rsi\n",
      "2025-08-02 15:13:32.944 | INFO     | src.risk.risk_manager:__init__:49 - Risk manager initialized\n",
      "2025-08-02 15:13:32.951 | INFO     | src.strategies.rsi_strategy:_generate_signal_for_symbol:118 - RSI overbought signal for Bitstamp:BTCUSD: 70.07 > 70\n",
      "2025-08-02 15:13:32.952 | INFO     | src.strategies.rsi_strategy:_generate_signal_for_symbol:133 - RSI sustained overbought for Bitstamp:BTCUSD: 72.53\n",
      "2025-08-02 15:13:32.953 | INFO     | src.strategies.rsi_strategy:_generate_signal_for_symbol:133 - RSI sustained overbought for Bitstamp:BTCUSD: 72.13\n",
      "2025-08-02 15:13:32.954 | INFO     | src.strategies.rsi_strategy:_generate_signal_for_symbol:133 - RSI sustained overbought for Bitstamp:BTCUSD: 73.70\n",
      "2025-08-02 15:13:32.955 | INFO     | src.strategies.rsi_strategy:_generate_signal_for_symbol:133 - RSI sustained overbought for Bitstamp:BTCUSD: 74.15\n",
      "2025-08-02 15:13:32.956 | INFO     | src.strategies.rsi_strategy:_generate_signal_for_symbol:133 - RSI sustained overbought for Bitstamp:BTCUSD: 75.65\n",
      "2025-08-02 15:13:32.957 | INFO     | src.strategies.rsi_strategy:_generate_signal_for_symbol:118 - RSI overbought signal for Bitstamp:BTCUSD: 71.63 > 70\n",
      "2025-08-02 15:13:32.959 | INFO     | src.strategies.rsi_strategy:_generate_signal_for_symbol:133 - RSI sustained overbought for Bitstamp:BTCUSD: 72.40\n",
      "2025-08-02 15:13:32.960 | INFO     | src.strategies.rsi_strategy:_generate_signal_for_symbol:133 - RSI sustained overbought for Bitstamp:BTCUSD: 70.86\n",
      "2025-08-02 15:13:32.989 | INFO     | src.strategies.rsi_strategy:_generate_signal_for_symbol:118 - RSI overbought signal for Bitstamp:BTCUSD: 72.22 > 70\n",
      "2025-08-02 15:13:32.990 | INFO     | src.strategies.rsi_strategy:_generate_signal_for_symbol:133 - RSI sustained overbought for Bitstamp:BTCUSD: 76.63\n",
      "2025-08-02 15:13:32.990 | INFO     | src.strategies.rsi_strategy:_generate_signal_for_symbol:133 - RSI sustained overbought for Bitstamp:BTCUSD: 79.40\n",
      "2025-08-02 15:13:32.991 | INFO     | src.strategies.rsi_strategy:_generate_signal_for_symbol:133 - RSI sustained overbought for Bitstamp:BTCUSD: 77.12\n",
      "2025-08-02 15:13:32.991 | INFO     | src.strategies.rsi_strategy:_generate_signal_for_symbol:133 - RSI sustained overbought for Bitstamp:BTCUSD: 77.19\n",
      "2025-08-02 15:13:32.992 | INFO     | src.strategies.rsi_strategy:_generate_signal_for_symbol:118 - RSI overbought signal for Bitstamp:BTCUSD: 71.99 > 70\n",
      "2025-08-02 15:13:32.993 | INFO     | src.strategies.rsi_strategy:_generate_signal_for_symbol:133 - RSI sustained overbought for Bitstamp:BTCUSD: 72.47\n",
      "2025-08-02 15:13:32.995 | INFO     | src.strategies.rsi_strategy:_generate_signal_for_symbol:118 - RSI overbought signal for Bitstamp:BTCUSD: 73.30 > 70\n",
      "2025-08-02 15:13:32.996 | INFO     | src.strategies.rsi_strategy:_generate_signal_for_symbol:133 - RSI sustained overbought for Bitstamp:BTCUSD: 72.64\n",
      "2025-08-02 15:13:32.998 | INFO     | src.strategies.rsi_strategy:_generate_signal_for_symbol:118 - RSI overbought signal for Bitstamp:BTCUSD: 71.62 > 70\n",
      "2025-08-02 15:13:32.999 | INFO     | src.strategies.rsi_strategy:_generate_signal_for_symbol:118 - RSI overbought signal for Bitstamp:BTCUSD: 73.08 > 70\n",
      "divide by zero encountered in scalar divide\n",
      "2025-08-02 15:13:33.444 | INFO     | src.data.data_manager:_fetch_tradingview_ohlcv_data:159 - Successfully fetched OHLCV data for 1 symbols\n",
      "2025-08-02 15:13:33.445 | INFO     | src.data.data_manager:get_historical_data:97 - OHLCV data cached successfully\n",
      "2025-08-02 15:13:33.447 | INFO     | src.data.data_manager:ensure_ohlcv_format:500 - Data formatted for Bitstamp:BTCUSD: (100, 5)\n",
      "2025-08-02 15:13:33.448 | INFO     | src.data.data_manager:get_historical_data_standardized:622 - Successfully standardized OHLCV data for 1 symbols\n",
      "2025-08-02 15:13:33.448 | INFO     | src.backtesting.backtest_engine:run_backtest:65 - Running backtest for strategy: rsi_test\n",
      "2025-08-02 15:13:33.448 | INFO     | src.strategies.base_strategy:reset:99 - Reset strategy: rsi\n",
      "2025-08-02 15:13:33.448 | INFO     | src.risk.risk_manager:__init__:49 - Risk manager initialized\n",
      "2025-08-02 15:13:33.456 | INFO     | src.strategies.rsi_strategy:_generate_signal_for_symbol:118 - RSI overbought signal for Bitstamp:BTCUSD: 77.11 > 70\n",
      "2025-08-02 15:13:33.457 | INFO     | src.strategies.rsi_strategy:_generate_signal_for_symbol:133 - RSI sustained overbought for Bitstamp:BTCUSD: 79.67\n",
      "2025-08-02 15:13:33.459 | INFO     | src.strategies.rsi_strategy:_generate_signal_for_symbol:133 - RSI sustained overbought for Bitstamp:BTCUSD: 82.43\n",
      "2025-08-02 15:13:33.460 | INFO     | src.strategies.rsi_strategy:_generate_signal_for_symbol:133 - RSI sustained overbought for Bitstamp:BTCUSD: 75.81\n",
      "2025-08-02 15:13:33.462 | INFO     | src.strategies.rsi_strategy:_generate_signal_for_symbol:118 - RSI overbought signal for Bitstamp:BTCUSD: 75.71 > 70\n",
      "2025-08-02 15:13:33.463 | INFO     | src.strategies.rsi_strategy:_generate_signal_for_symbol:133 - RSI sustained overbought for Bitstamp:BTCUSD: 80.74\n",
      "2025-08-02 15:13:33.465 | INFO     | src.strategies.rsi_strategy:_generate_signal_for_symbol:133 - RSI sustained overbought for Bitstamp:BTCUSD: 80.55\n",
      "2025-08-02 15:13:33.466 | INFO     | src.strategies.rsi_strategy:_generate_signal_for_symbol:133 - RSI sustained overbought for Bitstamp:BTCUSD: 75.66\n",
      "2025-08-02 15:13:33.467 | INFO     | src.strategies.rsi_strategy:_generate_signal_for_symbol:133 - RSI sustained overbought for Bitstamp:BTCUSD: 73.18\n",
      "2025-08-02 15:13:33.471 | INFO     | src.strategies.rsi_strategy:_generate_signal_for_symbol:118 - RSI overbought signal for Bitstamp:BTCUSD: 72.21 > 70\n",
      "2025-08-02 15:13:33.472 | INFO     | src.strategies.rsi_strategy:_generate_signal_for_symbol:133 - RSI sustained overbought for Bitstamp:BTCUSD: 83.81\n",
      "2025-08-02 15:13:33.483 | INFO     | src.strategies.rsi_strategy:_generate_signal_for_symbol:112 - RSI oversold signal for Bitstamp:BTCUSD: 27.90 < 30\n",
      "2025-08-02 15:13:33.483 | DEBUG    | src.backtesting.backtest_engine:_execute_trades:216 - BUY 0.19 Bitstamp:BTCUSD @ $105705.00\n",
      "2025-08-02 15:13:33.485 | INFO     | src.strategies.rsi_strategy:_generate_signal_for_symbol:112 - RSI oversold signal for Bitstamp:BTCUSD: 25.62 < 30\n",
      "2025-08-02 15:13:33.486 | INFO     | src.strategies.rsi_strategy:_generate_signal_for_symbol:128 - RSI sustained oversold for Bitstamp:BTCUSD: 16.06\n",
      "2025-08-02 15:13:33.489 | INFO     | src.strategies.rsi_strategy:_generate_signal_for_symbol:118 - RSI overbought signal for Bitstamp:BTCUSD: 70.96 > 70\n",
      "2025-08-02 15:13:33.489 | DEBUG    | src.backtesting.backtest_engine:_execute_trades:245 - SELL 0.19 Bitstamp:BTCUSD @ $110307.00\n",
      "2025-08-02 15:13:33.497 | INFO     | src.strategies.rsi_strategy:_generate_signal_for_symbol:112 - RSI oversold signal for Bitstamp:BTCUSD: 21.33 < 30\n",
      "2025-08-02 15:13:33.497 | DEBUG    | src.backtesting.backtest_engine:_execute_trades:216 - BUY 0.19 Bitstamp:BTCUSD @ $104688.00\n",
      "2025-08-02 15:13:33.498 | INFO     | src.strategies.rsi_strategy:_generate_signal_for_symbol:128 - RSI sustained oversold for Bitstamp:BTCUSD: 18.73\n",
      "2025-08-02 15:13:33.498 | INFO     | src.strategies.rsi_strategy:_generate_signal_for_symbol:128 - RSI sustained oversold for Bitstamp:BTCUSD: 19.50\n",
      "2025-08-02 15:13:33.499 | INFO     | src.strategies.rsi_strategy:_generate_signal_for_symbol:128 - RSI sustained oversold for Bitstamp:BTCUSD: 23.49\n",
      "2025-08-02 15:13:33.505 | INFO     | src.strategies.rsi_strategy:_generate_signal_for_symbol:118 - RSI overbought signal for Bitstamp:BTCUSD: 78.01 > 70\n",
      "2025-08-02 15:13:33.505 | DEBUG    | src.backtesting.backtest_engine:_execute_trades:245 - SELL 0.19 Bitstamp:BTCUSD @ $108885.00\n",
      "2025-08-02 15:13:33.506 | INFO     | src.strategies.rsi_strategy:_generate_signal_for_symbol:133 - RSI sustained overbought for Bitstamp:BTCUSD: 70.19\n",
      "2025-08-02 15:13:33.510 | INFO     | src.strategies.rsi_strategy:_generate_signal_for_symbol:118 - RSI overbought signal for Bitstamp:BTCUSD: 76.17 > 70\n",
      "2025-08-02 15:13:33.511 | INFO     | src.strategies.rsi_strategy:_generate_signal_for_symbol:133 - RSI sustained overbought for Bitstamp:BTCUSD: 84.93\n",
      "2025-08-02 15:13:33.511 | INFO     | src.strategies.rsi_strategy:_generate_signal_for_symbol:133 - RSI sustained overbought for Bitstamp:BTCUSD: 80.79\n",
      "2025-08-02 15:13:33.512 | INFO     | src.strategies.rsi_strategy:_generate_signal_for_symbol:133 - RSI sustained overbought for Bitstamp:BTCUSD: 81.97\n",
      "2025-08-02 15:13:33.513 | INFO     | src.strategies.rsi_strategy:_generate_signal_for_symbol:133 - RSI sustained overbought for Bitstamp:BTCUSD: 92.40\n",
      "2025-08-02 15:13:33.514 | INFO     | src.strategies.rsi_strategy:_generate_signal_for_symbol:133 - RSI sustained overbought for Bitstamp:BTCUSD: 80.02\n",
      "2025-08-02 15:13:33.514 | INFO     | src.strategies.rsi_strategy:_generate_signal_for_symbol:133 - RSI sustained overbought for Bitstamp:BTCUSD: 79.96\n",
      "2025-08-02 15:13:33.515 | INFO     | src.strategies.rsi_strategy:_generate_signal_for_symbol:133 - RSI sustained overbought for Bitstamp:BTCUSD: 85.59\n",
      "2025-08-02 15:13:33.516 | INFO     | src.strategies.rsi_strategy:_generate_signal_for_symbol:133 - RSI sustained overbought for Bitstamp:BTCUSD: 78.30\n",
      "2025-08-02 15:13:33.516 | INFO     | src.strategies.rsi_strategy:_generate_signal_for_symbol:133 - RSI sustained overbought for Bitstamp:BTCUSD: 74.02\n",
      "2025-08-02 15:13:33.523 | INFO     | src.strategies.rsi_strategy:_generate_signal_for_symbol:112 - RSI oversold signal for Bitstamp:BTCUSD: 17.46 < 30\n",
      "2025-08-02 15:13:33.523 | DEBUG    | src.backtesting.backtest_engine:_execute_trades:216 - BUY 0.18 Bitstamp:BTCUSD @ $113243.00\n",
      "2025-08-02 15:13:33.524 | INFO     | src.strategies.rsi_strategy:_generate_signal_for_symbol:128 - RSI sustained oversold for Bitstamp:BTCUSD: 25.25\n",
      "2025-08-02 15:13:33.943 | INFO     | src.data.data_manager:_fetch_tradingview_ohlcv_data:159 - Successfully fetched OHLCV data for 1 symbols\n",
      "2025-08-02 15:13:33.944 | INFO     | src.data.data_manager:get_historical_data:97 - OHLCV data cached successfully\n",
      "2025-08-02 15:13:33.946 | INFO     | src.data.data_manager:ensure_ohlcv_format:500 - Data formatted for Bitstamp:BTCUSD: (100, 5)\n",
      "2025-08-02 15:13:33.947 | INFO     | src.data.data_manager:get_historical_data_standardized:622 - Successfully standardized OHLCV data for 1 symbols\n",
      "2025-08-02 15:13:33.947 | INFO     | src.backtesting.backtest_engine:run_backtest:65 - Running backtest for strategy: rsi_test\n",
      "2025-08-02 15:13:33.947 | INFO     | src.strategies.base_strategy:reset:99 - Reset strategy: rsi\n",
      "2025-08-02 15:13:33.947 | INFO     | src.risk.risk_manager:__init__:49 - Risk manager initialized\n",
      "2025-08-02 15:13:33.956 | INFO     | src.strategies.rsi_strategy:_generate_signal_for_symbol:118 - RSI overbought signal for Bitstamp:BTCUSD: 70.07 > 70\n",
      "2025-08-02 15:13:33.957 | INFO     | src.strategies.rsi_strategy:_generate_signal_for_symbol:133 - RSI sustained overbought for Bitstamp:BTCUSD: 72.53\n",
      "2025-08-02 15:13:33.958 | INFO     | src.strategies.rsi_strategy:_generate_signal_for_symbol:133 - RSI sustained overbought for Bitstamp:BTCUSD: 72.13\n",
      "2025-08-02 15:13:33.960 | INFO     | src.strategies.rsi_strategy:_generate_signal_for_symbol:133 - RSI sustained overbought for Bitstamp:BTCUSD: 73.70\n",
      "2025-08-02 15:13:33.961 | INFO     | src.strategies.rsi_strategy:_generate_signal_for_symbol:133 - RSI sustained overbought for Bitstamp:BTCUSD: 74.15\n",
      "2025-08-02 15:13:33.962 | INFO     | src.strategies.rsi_strategy:_generate_signal_for_symbol:133 - RSI sustained overbought for Bitstamp:BTCUSD: 75.65\n",
      "2025-08-02 15:13:33.964 | INFO     | src.strategies.rsi_strategy:_generate_signal_for_symbol:118 - RSI overbought signal for Bitstamp:BTCUSD: 71.63 > 70\n",
      "2025-08-02 15:13:33.967 | INFO     | src.strategies.rsi_strategy:_generate_signal_for_symbol:133 - RSI sustained overbought for Bitstamp:BTCUSD: 72.40\n",
      "2025-08-02 15:13:33.968 | INFO     | src.strategies.rsi_strategy:_generate_signal_for_symbol:133 - RSI sustained overbought for Bitstamp:BTCUSD: 70.86\n",
      "2025-08-02 15:13:34.000 | INFO     | src.strategies.rsi_strategy:_generate_signal_for_symbol:118 - RSI overbought signal for Bitstamp:BTCUSD: 72.22 > 70\n",
      "2025-08-02 15:13:34.001 | INFO     | src.strategies.rsi_strategy:_generate_signal_for_symbol:133 - RSI sustained overbought for Bitstamp:BTCUSD: 76.63\n",
      "2025-08-02 15:13:34.001 | INFO     | src.strategies.rsi_strategy:_generate_signal_for_symbol:133 - RSI sustained overbought for Bitstamp:BTCUSD: 79.40\n",
      "2025-08-02 15:13:34.002 | INFO     | src.strategies.rsi_strategy:_generate_signal_for_symbol:133 - RSI sustained overbought for Bitstamp:BTCUSD: 77.12\n",
      "2025-08-02 15:13:34.003 | INFO     | src.strategies.rsi_strategy:_generate_signal_for_symbol:133 - RSI sustained overbought for Bitstamp:BTCUSD: 77.19\n",
      "2025-08-02 15:13:34.004 | INFO     | src.strategies.rsi_strategy:_generate_signal_for_symbol:118 - RSI overbought signal for Bitstamp:BTCUSD: 71.99 > 70\n",
      "2025-08-02 15:13:34.005 | INFO     | src.strategies.rsi_strategy:_generate_signal_for_symbol:133 - RSI sustained overbought for Bitstamp:BTCUSD: 72.47\n",
      "2025-08-02 15:13:34.007 | INFO     | src.strategies.rsi_strategy:_generate_signal_for_symbol:118 - RSI overbought signal for Bitstamp:BTCUSD: 73.30 > 70\n",
      "2025-08-02 15:13:34.008 | INFO     | src.strategies.rsi_strategy:_generate_signal_for_symbol:133 - RSI sustained overbought for Bitstamp:BTCUSD: 72.64\n",
      "2025-08-02 15:13:34.009 | INFO     | src.strategies.rsi_strategy:_generate_signal_for_symbol:118 - RSI overbought signal for Bitstamp:BTCUSD: 71.62 > 70\n",
      "2025-08-02 15:13:34.011 | INFO     | src.strategies.rsi_strategy:_generate_signal_for_symbol:118 - RSI overbought signal for Bitstamp:BTCUSD: 73.08 > 70\n",
      "divide by zero encountered in scalar divide\n",
      "2025-08-02 15:13:34.446 | INFO     | src.data.data_manager:_fetch_tradingview_ohlcv_data:159 - Successfully fetched OHLCV data for 1 symbols\n",
      "2025-08-02 15:13:34.446 | INFO     | src.data.data_manager:get_historical_data:97 - OHLCV data cached successfully\n",
      "2025-08-02 15:13:34.448 | INFO     | src.data.data_manager:ensure_ohlcv_format:500 - Data formatted for Bitstamp:BTCUSD: (100, 5)\n",
      "2025-08-02 15:13:34.449 | INFO     | src.data.data_manager:get_historical_data_standardized:622 - Successfully standardized OHLCV data for 1 symbols\n",
      "2025-08-02 15:13:34.449 | INFO     | src.backtesting.backtest_engine:run_backtest:65 - Running backtest for strategy: rsi_test\n",
      "2025-08-02 15:13:34.449 | INFO     | src.strategies.base_strategy:reset:99 - Reset strategy: rsi\n",
      "2025-08-02 15:13:34.449 | INFO     | src.risk.risk_manager:__init__:49 - Risk manager initialized\n",
      "2025-08-02 15:13:34.508 | INFO     | src.strategies.rsi_strategy:_generate_signal_for_symbol:118 - RSI overbought signal for Bitstamp:BTCUSD: 70.58 > 70\n",
      "2025-08-02 15:13:34.509 | INFO     | src.strategies.rsi_strategy:_generate_signal_for_symbol:133 - RSI sustained overbought for Bitstamp:BTCUSD: 74.59\n",
      "divide by zero encountered in scalar divide\n",
      "\u001b[32m2025-08-02 15:13:34.518\u001b[0m | \u001b[1mINFO    \u001b[0m | \u001b[36msrc.optimization.optimizer\u001b[0m:\u001b[36m_optimize_parallel\u001b[0m:\u001b[36m149\u001b[0m - \u001b[1mCompleted 50/50 combinations\u001b[0m\n",
      "\u001b[32m2025-08-02 15:13:34.937\u001b[0m | \u001b[1mINFO    \u001b[0m | \u001b[36msrc.optimization.optimizer\u001b[0m:\u001b[36moptimize_strategy\u001b[0m:\u001b[36m99\u001b[0m - \u001b[1mOptimization completed for rsi\u001b[0m\n",
      "\u001b[32m2025-08-02 15:13:34.938\u001b[0m | \u001b[1mINFO    \u001b[0m | \u001b[36msrc.optimization.optimizer\u001b[0m:\u001b[36moptimize_strategy\u001b[0m:\u001b[36m100\u001b[0m - \u001b[1mBest parameters: {'parameters': {'period': 10, 'oversold': 20, 'overbought': 80}, 'metrics': {'total_return': 0.01698873391131661, 'annualized_return': 0.06407846613294033, 'sharpe_ratio': 0.8492914204353925, 'max_drawdown': -0.008221417646134233, 'volatility': 0.027381078536949592, 'win_rate': 0.0, 'profit_factor': 0.0, 'total_trades': 0, 'final_portfolio_value': 101698.87339113167, 'current_drawdown': 0.0, 'portfolio_volatility': 0.027381078536949592}, 'rank': 1}\u001b[0m\n",
      "\u001b[32m2025-08-02 15:13:34.938\u001b[0m | \u001b[1mINFO    \u001b[0m | \u001b[36msrc.optimization.optimizer\u001b[0m:\u001b[36moptimize_strategy\u001b[0m:\u001b[36m65\u001b[0m - \u001b[1mStarting optimization for macd\u001b[0m\n",
      "\u001b[32m2025-08-02 15:13:34.939\u001b[0m | \u001b[1mINFO    \u001b[0m | \u001b[36msrc.optimization.parameter_grid\u001b[0m:\u001b[36mget_parameter_combinations\u001b[0m:\u001b[36m67\u001b[0m - \u001b[1mGenerated 100 parameter combinations for macd\u001b[0m\n",
      "\u001b[32m2025-08-02 15:13:34.939\u001b[0m | \u001b[1mINFO    \u001b[0m | \u001b[36msrc.optimization.optimizer\u001b[0m:\u001b[36moptimize_strategy\u001b[0m:\u001b[36m73\u001b[0m - \u001b[1mSampled 50 combinations from 50 total\u001b[0m\n"
     ]
    },
    {
     "name": "stdout",
     "output_type": "stream",
     "text": [
      "✅ Optimization completed for rsi\n",
      "Best parameters: {'parameters': {'period': 10, 'oversold': 20, 'overbought': 80}, 'metrics': {'total_return': 0.01698873391131661, 'annualized_return': 0.06407846613294033, 'sharpe_ratio': 0.8492914204353925, 'max_drawdown': -0.008221417646134233, 'volatility': 0.027381078536949592, 'win_rate': 0.0, 'profit_factor': 0.0, 'total_trades': 0, 'final_portfolio_value': 101698.87339113167, 'current_drawdown': 0.0, 'portfolio_volatility': 0.027381078536949592}, 'rank': 1}\n",
      "Best sharpe_ratio: N/A\n",
      "\n",
      "--- Optimizing MACD ---\n"
     ]
    },
    {
     "name": "stderr",
     "output_type": "stream",
     "text": [
      "2025-08-02 15:13:37.923 | INFO     | src.strategies.base_strategy:__init__:34 - Initialized strategy: macd\n",
      "2025-08-02 15:13:37.923 | INFO     | src.strategies.base_strategy:__init__:34 - Initialized strategy: macd\n",
      "2025-08-02 15:13:37.923 | INFO     | src.strategies.base_strategy:__init__:34 - Initialized strategy: macd\n",
      "2025-08-02 15:13:37.923 | INFO     | src.strategies.base_strategy:__init__:34 - Initialized strategy: macd\n",
      "2025-08-02 15:13:37.924 | INFO     | src.strategies.macd_strategy:__init__:54 - MACD Strategy initialized: fast=8, slow=26, signal=15\n",
      "2025-08-02 15:13:37.924 | INFO     | src.strategies.macd_strategy:__init__:54 - MACD Strategy initialized: fast=20, slow=35, signal=12\n",
      "2025-08-02 15:13:37.924 | INFO     | src.strategies.macd_strategy:__init__:54 - MACD Strategy initialized: fast=12, slow=20, signal=7\n",
      "2025-08-02 15:13:37.924 | INFO     | src.strategies.macd_strategy:__init__:54 - MACD Strategy initialized: fast=12, slow=26, signal=12\n",
      "2025-08-02 15:13:37.924 | INFO     | src.backtesting.backtest_engine:run_backtest:53 - Starting backtest from 2023-01-01 to 2023-06-30\n",
      "2025-08-02 15:13:37.924 | INFO     | src.backtesting.backtest_engine:run_backtest:53 - Starting backtest from 2023-01-01 to 2023-06-30\n",
      "2025-08-02 15:13:37.924 | INFO     | src.backtesting.backtest_engine:run_backtest:53 - Starting backtest from 2023-01-01 to 2023-06-30\n",
      "2025-08-02 15:13:37.924 | INFO     | src.backtesting.backtest_engine:run_backtest:53 - Starting backtest from 2023-01-01 to 2023-06-30\n",
      "2025-08-02 15:13:37.924 | INFO     | src.data.data_manager:get_historical_data_standardized:589 - Fetching standardized OHLCV data for ['Bitstamp:BTCUSD'] from 2023-01-01 to 2023-06-30\n",
      "2025-08-02 15:13:37.924 | INFO     | src.data.data_manager:get_historical_data_standardized:589 - Fetching standardized OHLCV data for ['Bitstamp:BTCUSD'] from 2023-01-01 to 2023-06-30\n",
      "2025-08-02 15:13:37.924 | INFO     | src.data.data_manager:get_historical_data_standardized:589 - Fetching standardized OHLCV data for ['Bitstamp:BTCUSD'] from 2023-01-01 to 2023-06-30\n",
      "2025-08-02 15:13:37.924 | INFO     | src.data.data_manager:get_historical_data:64 - Fetching historical OHLCV data for ['Bitstamp:BTCUSD'] from 2023-01-01 to 2023-06-30\n",
      "2025-08-02 15:13:37.924 | INFO     | src.data.data_manager:get_historical_data:64 - Fetching historical OHLCV data for ['Bitstamp:BTCUSD'] from 2023-01-01 to 2023-06-30\n",
      "2025-08-02 15:13:37.924 | INFO     | src.data.data_manager:get_historical_data_standardized:589 - Fetching standardized OHLCV data for ['Bitstamp:BTCUSD'] from 2023-01-01 to 2023-06-30\n",
      "2025-08-02 15:13:37.924 | INFO     | src.data.data_manager:get_historical_data:64 - Fetching historical OHLCV data for ['Bitstamp:BTCUSD'] from 2023-01-01 to 2023-06-30\n",
      "2025-08-02 15:13:37.924 | INFO     | src.data.data_manager:get_historical_data:64 - Fetching historical OHLCV data for ['Bitstamp:BTCUSD'] from 2023-01-01 to 2023-06-30\n",
      "2025-08-02 15:13:38.468 | INFO     | src.data.data_manager:_fetch_tradingview_ohlcv_data:159 - Successfully fetched OHLCV data for 1 symbols\n",
      "2025-08-02 15:13:38.469 | INFO     | src.data.data_manager:get_historical_data:97 - OHLCV data cached successfully\n",
      "2025-08-02 15:13:38.472 | INFO     | src.data.data_manager:ensure_ohlcv_format:500 - Data formatted for Bitstamp:BTCUSD: (100, 5)\n",
      "2025-08-02 15:13:38.472 | INFO     | src.data.data_manager:get_historical_data_standardized:622 - Successfully standardized OHLCV data for 1 symbols\n",
      "2025-08-02 15:13:38.472 | INFO     | src.backtesting.backtest_engine:run_backtest:65 - Running backtest for strategy: macd_test\n",
      "2025-08-02 15:13:38.472 | INFO     | src.strategies.base_strategy:reset:99 - Reset strategy: macd\n",
      "2025-08-02 15:13:38.473 | INFO     | src.risk.risk_manager:__init__:49 - Risk manager initialized\n",
      "2025-08-02 15:13:38.489 | INFO     | src.strategies.macd_strategy:_generate_signal_for_symbol:123 - MACD bearish crossover for Bitstamp:BTCUSD: MACD=1753.8232, Signal=1963.8423\n",
      "2025-08-02 15:13:38.496 | INFO     | src.strategies.macd_strategy:_generate_signal_for_symbol:117 - MACD bullish crossover for Bitstamp:BTCUSD: MACD=846.2883, Signal=724.8117\n",
      "2025-08-02 15:13:38.496 | DEBUG    | src.backtesting.backtest_engine:_execute_trades:216 - BUY 0.18 Bitstamp:BTCUSD @ $110292.00\n",
      "2025-08-02 15:13:38.498 | INFO     | src.strategies.macd_strategy:_generate_signal_for_symbol:123 - MACD bearish crossover for Bitstamp:BTCUSD: MACD=652.8223, Signal=742.2073\n",
      "2025-08-02 15:13:38.498 | DEBUG    | src.backtesting.backtest_engine:_execute_trades:245 - SELL 0.18 Bitstamp:BTCUSD @ $106118.00\n",
      "2025-08-02 15:13:38.501 | INFO     | src.strategies.macd_strategy:_generate_signal_for_symbol:144 - MACD zero line bearish crossover for Bitstamp:BTCUSD: MACD=-191.0703\n",
      "2025-08-02 15:13:38.504 | INFO     | src.strategies.macd_strategy:_generate_signal_for_symbol:117 - MACD bullish crossover for Bitstamp:BTCUSD: MACD=10.6946, Signal=-79.4884\n",
      "2025-08-02 15:13:38.504 | DEBUG    | src.backtesting.backtest_engine:_execute_trades:216 - BUY 0.19 Bitstamp:BTCUSD @ $107004.00\n",
      "2025-08-02 15:13:38.517 | INFO     | src.strategies.macd_strategy:_generate_signal_for_symbol:123 - MACD bearish crossover for Bitstamp:BTCUSD: MACD=2702.1080, Signal=2759.8901\n",
      "2025-08-02 15:13:38.517 | DEBUG    | src.backtesting.backtest_engine:_execute_trades:245 - SELL 0.19 Bitstamp:BTCUSD @ $118347.00\n",
      "2025-08-02 15:13:38.523 | INFO     | src.strategies.base_strategy:__init__:34 - Initialized strategy: macd\n",
      "2025-08-02 15:13:38.523 | INFO     | src.strategies.macd_strategy:__init__:54 - MACD Strategy initialized: fast=15, slow=35, signal=9\n",
      "2025-08-02 15:13:38.523 | INFO     | src.backtesting.backtest_engine:run_backtest:53 - Starting backtest from 2023-01-01 to 2023-06-30\n",
      "2025-08-02 15:13:38.523 | INFO     | src.data.data_manager:get_historical_data_standardized:589 - Fetching standardized OHLCV data for ['Bitstamp:BTCUSD'] from 2023-01-01 to 2023-06-30\n",
      "2025-08-02 15:13:38.523 | INFO     | src.data.data_manager:get_historical_data:64 - Fetching historical OHLCV data for ['Bitstamp:BTCUSD'] from 2023-01-01 to 2023-06-30\n",
      "2025-08-02 15:13:38.975 | INFO     | src.data.data_manager:_fetch_tradingview_ohlcv_data:159 - Successfully fetched OHLCV data for 1 symbols\n",
      "2025-08-02 15:13:38.976 | INFO     | src.data.data_manager:get_historical_data:97 - OHLCV data cached successfully\n",
      "2025-08-02 15:13:38.978 | INFO     | src.data.data_manager:ensure_ohlcv_format:500 - Data formatted for Bitstamp:BTCUSD: (100, 5)\n",
      "2025-08-02 15:13:38.979 | INFO     | src.data.data_manager:get_historical_data_standardized:622 - Successfully standardized OHLCV data for 1 symbols\n",
      "2025-08-02 15:13:38.979 | INFO     | src.backtesting.backtest_engine:run_backtest:65 - Running backtest for strategy: macd_test\n",
      "2025-08-02 15:13:38.980 | INFO     | src.strategies.base_strategy:reset:99 - Reset strategy: macd\n",
      "2025-08-02 15:13:38.980 | INFO     | src.risk.risk_manager:__init__:49 - Risk manager initialized\n",
      "2025-08-02 15:13:38.998 | INFO     | src.strategies.macd_strategy:_generate_signal_for_symbol:123 - MACD bearish crossover for Bitstamp:BTCUSD: MACD=2735.8226, Signal=2786.8034\n",
      "2025-08-02 15:13:39.002 | INFO     | src.strategies.macd_strategy:_generate_signal_for_symbol:144 - MACD zero line bearish crossover for Bitstamp:BTCUSD: MACD=-256.4842\n",
      "2025-08-02 15:13:39.004 | INFO     | src.strategies.macd_strategy:_generate_signal_for_symbol:140 - MACD zero line bullish crossover for Bitstamp:BTCUSD: MACD=3.3308\n",
      "2025-08-02 15:13:39.004 | DEBUG    | src.backtesting.backtest_engine:_execute_trades:216 - BUY 0.19 Bitstamp:BTCUSD @ $105792.00\n",
      "2025-08-02 15:13:39.005 | INFO     | src.strategies.macd_strategy:_generate_signal_for_symbol:117 - MACD bullish crossover for Bitstamp:BTCUSD: MACD=1294.4850, Signal=929.3708\n",
      "2025-08-02 15:13:39.007 | INFO     | src.strategies.macd_strategy:_generate_signal_for_symbol:123 - MACD bearish crossover for Bitstamp:BTCUSD: MACD=829.8634, Signal=977.4554\n",
      "2025-08-02 15:13:39.007 | DEBUG    | src.backtesting.backtest_engine:_execute_trades:245 - SELL 0.19 Bitstamp:BTCUSD @ $106118.00\n",
      "2025-08-02 15:13:39.010 | INFO     | src.strategies.macd_strategy:_generate_signal_for_symbol:144 - MACD zero line bearish crossover for Bitstamp:BTCUSD: MACD=-62.2625\n",
      "2025-08-02 15:13:39.014 | INFO     | src.strategies.macd_strategy:_generate_signal_for_symbol:117 - MACD bullish crossover for Bitstamp:BTCUSD: MACD=-130.9968, Signal=-161.4051\n",
      "2025-08-02 15:13:39.014 | DEBUG    | src.backtesting.backtest_engine:_execute_trades:216 - BUY 0.19 Bitstamp:BTCUSD @ $107418.00\n",
      "2025-08-02 15:13:39.014 | INFO     | src.strategies.macd_strategy:_generate_signal_for_symbol:140 - MACD zero line bullish crossover for Bitstamp:BTCUSD: MACD=150.7658\n",
      "2025-08-02 15:13:39.027 | INFO     | src.strategies.macd_strategy:_generate_signal_for_symbol:123 - MACD bearish crossover for Bitstamp:BTCUSD: MACD=3594.5749, Signal=3600.1444\n",
      "2025-08-02 15:13:39.027 | DEBUG    | src.backtesting.backtest_engine:_execute_trades:245 - SELL 0.19 Bitstamp:BTCUSD @ $118813.00\n",
      "2025-08-02 15:13:39.035 | INFO     | src.strategies.base_strategy:__init__:34 - Initialized strategy: macd\n",
      "2025-08-02 15:13:39.035 | INFO     | src.strategies.macd_strategy:__init__:54 - MACD Strategy initialized: fast=8, slow=20, signal=7\n",
      "2025-08-02 15:13:39.035 | INFO     | src.backtesting.backtest_engine:run_backtest:53 - Starting backtest from 2023-01-01 to 2023-06-30\n",
      "2025-08-02 15:13:39.035 | INFO     | src.data.data_manager:get_historical_data_standardized:589 - Fetching standardized OHLCV data for ['Bitstamp:BTCUSD'] from 2023-01-01 to 2023-06-30\n",
      "2025-08-02 15:13:39.035 | INFO     | src.data.data_manager:get_historical_data:64 - Fetching historical OHLCV data for ['Bitstamp:BTCUSD'] from 2023-01-01 to 2023-06-30\n",
      "2025-08-02 15:13:39.487 | INFO     | src.data.data_manager:_fetch_tradingview_ohlcv_data:159 - Successfully fetched OHLCV data for 1 symbols\n",
      "2025-08-02 15:13:39.488 | INFO     | src.data.data_manager:get_historical_data:97 - OHLCV data cached successfully\n",
      "2025-08-02 15:13:39.490 | INFO     | src.data.data_manager:ensure_ohlcv_format:500 - Data formatted for Bitstamp:BTCUSD: (100, 5)\n",
      "2025-08-02 15:13:39.491 | INFO     | src.data.data_manager:get_historical_data_standardized:622 - Successfully standardized OHLCV data for 1 symbols\n",
      "2025-08-02 15:13:39.491 | INFO     | src.backtesting.backtest_engine:run_backtest:65 - Running backtest for strategy: macd_test\n",
      "2025-08-02 15:13:39.491 | INFO     | src.strategies.base_strategy:reset:99 - Reset strategy: macd\n",
      "2025-08-02 15:13:39.491 | INFO     | src.risk.risk_manager:__init__:49 - Risk manager initialized\n",
      "2025-08-02 15:13:39.510 | INFO     | src.strategies.macd_strategy:_generate_signal_for_symbol:123 - MACD bearish crossover for Bitstamp:BTCUSD: MACD=1328.0618, Signal=1417.0387\n",
      "2025-08-02 15:13:39.515 | INFO     | src.strategies.macd_strategy:_generate_signal_for_symbol:144 - MACD zero line bearish crossover for Bitstamp:BTCUSD: MACD=-35.3829\n",
      "2025-08-02 15:13:39.518 | INFO     | src.strategies.macd_strategy:_generate_signal_for_symbol:117 - MACD bullish crossover for Bitstamp:BTCUSD: MACD=286.4643, Signal=189.3650\n",
      "2025-08-02 15:13:39.518 | DEBUG    | src.backtesting.backtest_engine:_execute_trades:216 - BUY 0.18 Bitstamp:BTCUSD @ $110307.00\n",
      "2025-08-02 15:13:39.520 | INFO     | src.strategies.macd_strategy:_generate_signal_for_symbol:123 - MACD bearish crossover for Bitstamp:BTCUSD: MACD=358.4412, Signal=365.4772\n",
      "2025-08-02 15:13:39.520 | DEBUG    | src.backtesting.backtest_engine:_execute_trades:245 - SELL 0.18 Bitstamp:BTCUSD @ $106118.00\n",
      "2025-08-02 15:13:39.522 | INFO     | src.strategies.macd_strategy:_generate_signal_for_symbol:144 - MACD zero line bearish crossover for Bitstamp:BTCUSD: MACD=-18.5651\n",
      "2025-08-02 15:13:39.526 | INFO     | src.strategies.macd_strategy:_generate_signal_for_symbol:117 - MACD bullish crossover for Bitstamp:BTCUSD: MACD=-131.2087, Signal=-246.1676\n",
      "2025-08-02 15:13:39.526 | DEBUG    | src.backtesting.backtest_engine:_execute_trades:216 - BUY 0.18 Bitstamp:BTCUSD @ $107418.00\n",
      "2025-08-02 15:13:39.527 | INFO     | src.strategies.macd_strategy:_generate_signal_for_symbol:140 - MACD zero line bullish crossover for Bitstamp:BTCUSD: MACD=88.5431\n",
      "2025-08-02 15:13:39.537 | INFO     | src.strategies.macd_strategy:_generate_signal_for_symbol:123 - MACD bearish crossover for Bitstamp:BTCUSD: MACD=1900.3849, Signal=1969.6422\n",
      "2025-08-02 15:13:39.537 | DEBUG    | src.backtesting.backtest_engine:_execute_trades:245 - SELL 0.18 Bitstamp:BTCUSD @ $117339.00\n",
      "2025-08-02 15:13:39.545 | INFO     | src.strategies.base_strategy:__init__:34 - Initialized strategy: macd\n",
      "2025-08-02 15:13:39.545 | INFO     | src.strategies.macd_strategy:__init__:54 - MACD Strategy initialized: fast=8, slow=40, signal=9\n",
      "2025-08-02 15:13:39.545 | INFO     | src.backtesting.backtest_engine:run_backtest:53 - Starting backtest from 2023-01-01 to 2023-06-30\n",
      "2025-08-02 15:13:39.545 | INFO     | src.data.data_manager:get_historical_data_standardized:589 - Fetching standardized OHLCV data for ['Bitstamp:BTCUSD'] from 2023-01-01 to 2023-06-30\n",
      "2025-08-02 15:13:39.545 | INFO     | src.data.data_manager:get_historical_data:64 - Fetching historical OHLCV data for ['Bitstamp:BTCUSD'] from 2023-01-01 to 2023-06-30\n",
      "2025-08-02 15:13:39.989 | INFO     | src.data.data_manager:_fetch_tradingview_ohlcv_data:159 - Successfully fetched OHLCV data for 1 symbols\n",
      "2025-08-02 15:13:39.990 | INFO     | src.data.data_manager:get_historical_data:97 - OHLCV data cached successfully\n",
      "2025-08-02 15:13:39.993 | INFO     | src.data.data_manager:ensure_ohlcv_format:500 - Data formatted for Bitstamp:BTCUSD: (100, 5)\n",
      "2025-08-02 15:13:39.993 | INFO     | src.data.data_manager:get_historical_data_standardized:622 - Successfully standardized OHLCV data for 1 symbols\n",
      "2025-08-02 15:13:39.994 | INFO     | src.backtesting.backtest_engine:run_backtest:65 - Running backtest for strategy: macd_test\n",
      "2025-08-02 15:13:39.994 | INFO     | src.strategies.base_strategy:reset:99 - Reset strategy: macd\n",
      "2025-08-02 15:13:39.994 | INFO     | src.risk.risk_manager:__init__:49 - Risk manager initialized\n",
      "2025-08-02 15:13:40.009 | INFO     | src.strategies.macd_strategy:_generate_signal_for_symbol:123 - MACD bearish crossover for Bitstamp:BTCUSD: MACD=1220.5084, Signal=1301.8459\n",
      "2025-08-02 15:13:40.017 | INFO     | src.strategies.macd_strategy:_generate_signal_for_symbol:117 - MACD bullish crossover for Bitstamp:BTCUSD: MACD=833.0719, Signal=802.8179\n",
      "2025-08-02 15:13:40.017 | DEBUG    | src.backtesting.backtest_engine:_execute_trades:216 - BUY 0.18 Bitstamp:BTCUSD @ $108678.00\n",
      "2025-08-02 15:13:40.018 | INFO     | src.strategies.macd_strategy:_generate_signal_for_symbol:123 - MACD bearish crossover for Bitstamp:BTCUSD: MACD=757.7316, Signal=795.8796\n",
      "2025-08-02 15:13:40.018 | DEBUG    | src.backtesting.backtest_engine:_execute_trades:245 - SELL 0.18 Bitstamp:BTCUSD @ $105731.00\n",
      "2025-08-02 15:13:40.023 | INFO     | src.strategies.macd_strategy:_generate_signal_for_symbol:144 - MACD zero line bearish crossover for Bitstamp:BTCUSD: MACD=-103.5174\n",
      "2025-08-02 15:13:40.025 | INFO     | src.strategies.macd_strategy:_generate_signal_for_symbol:140 - MACD zero line bullish crossover for Bitstamp:BTCUSD: MACD=66.5816\n",
      "2025-08-02 15:13:40.025 | DEBUG    | src.backtesting.backtest_engine:_execute_trades:216 - BUY 0.19 Bitstamp:BTCUSD @ $107418.00\n",
      "2025-08-02 15:13:40.027 | INFO     | src.strategies.macd_strategy:_generate_signal_for_symbol:117 - MACD bullish crossover for Bitstamp:BTCUSD: MACD=241.9936, Signal=208.5683\n",
      "2025-08-02 15:13:40.041 | INFO     | src.strategies.macd_strategy:_generate_signal_for_symbol:123 - MACD bearish crossover for Bitstamp:BTCUSD: MACD=2236.3315, Signal=2252.7937\n",
      "2025-08-02 15:13:40.041 | DEBUG    | src.backtesting.backtest_engine:_execute_trades:245 - SELL 0.19 Bitstamp:BTCUSD @ $118051.00\n",
      "2025-08-02 15:13:40.047 | INFO     | src.strategies.base_strategy:__init__:34 - Initialized strategy: macd\n",
      "2025-08-02 15:13:40.047 | INFO     | src.strategies.macd_strategy:__init__:54 - MACD Strategy initialized: fast=20, slow=40, signal=12\n",
      "2025-08-02 15:13:40.047 | INFO     | src.backtesting.backtest_engine:run_backtest:53 - Starting backtest from 2023-01-01 to 2023-06-30\n",
      "2025-08-02 15:13:40.047 | INFO     | src.data.data_manager:get_historical_data_standardized:589 - Fetching standardized OHLCV data for ['Bitstamp:BTCUSD'] from 2023-01-01 to 2023-06-30\n",
      "2025-08-02 15:13:40.047 | INFO     | src.data.data_manager:get_historical_data:64 - Fetching historical OHLCV data for ['Bitstamp:BTCUSD'] from 2023-01-01 to 2023-06-30\n",
      "2025-08-02 15:13:40.471 | INFO     | src.data.data_manager:_fetch_tradingview_ohlcv_data:159 - Successfully fetched OHLCV data for 1 symbols\n",
      "2025-08-02 15:13:40.472 | INFO     | src.data.data_manager:get_historical_data:97 - OHLCV data cached successfully\n",
      "2025-08-02 15:13:40.474 | INFO     | src.data.data_manager:ensure_ohlcv_format:500 - Data formatted for Bitstamp:BTCUSD: (100, 5)\n",
      "2025-08-02 15:13:40.474 | INFO     | src.data.data_manager:get_historical_data_standardized:622 - Successfully standardized OHLCV data for 1 symbols\n",
      "2025-08-02 15:13:40.474 | INFO     | src.backtesting.backtest_engine:run_backtest:65 - Running backtest for strategy: macd_test\n",
      "2025-08-02 15:13:40.474 | INFO     | src.strategies.base_strategy:reset:99 - Reset strategy: macd\n",
      "2025-08-02 15:13:40.474 | INFO     | src.risk.risk_manager:__init__:49 - Risk manager initialized\n",
      "2025-08-02 15:13:40.496 | INFO     | src.strategies.macd_strategy:_generate_signal_for_symbol:117 - MACD bullish crossover for Bitstamp:BTCUSD: MACD=1089.2912, Signal=970.6945\n",
      "2025-08-02 15:13:40.497 | DEBUG    | src.backtesting.backtest_engine:_execute_trades:216 - BUY 0.18 Bitstamp:BTCUSD @ $110292.00\n",
      "2025-08-02 15:13:40.498 | INFO     | src.strategies.macd_strategy:_generate_signal_for_symbol:123 - MACD bearish crossover for Bitstamp:BTCUSD: MACD=934.4305, Signal=998.1608\n",
      "2025-08-02 15:13:40.498 | DEBUG    | src.backtesting.backtest_engine:_execute_trades:245 - SELL 0.18 Bitstamp:BTCUSD @ $106118.00\n",
      "2025-08-02 15:13:40.503 | INFO     | src.strategies.macd_strategy:_generate_signal_for_symbol:144 - MACD zero line bearish crossover for Bitstamp:BTCUSD: MACD=-117.7305\n",
      "2025-08-02 15:13:40.505 | INFO     | src.strategies.macd_strategy:_generate_signal_for_symbol:117 - MACD bullish crossover for Bitstamp:BTCUSD: MACD=113.8718, Signal=66.2695\n",
      "2025-08-02 15:13:40.506 | DEBUG    | src.backtesting.backtest_engine:_execute_trades:216 - BUY 0.19 Bitstamp:BTCUSD @ $107004.00\n",
      "2025-08-02 15:13:40.520 | INFO     | src.strategies.macd_strategy:_generate_signal_for_symbol:123 - MACD bearish crossover for Bitstamp:BTCUSD: MACD=3308.3528, Signal=3386.4051\n",
      "2025-08-02 15:13:40.520 | DEBUG    | src.backtesting.backtest_engine:_execute_trades:245 - SELL 0.19 Bitstamp:BTCUSD @ $117653.00\n",
      "2025-08-02 15:13:40.527 | INFO     | src.strategies.base_strategy:__init__:34 - Initialized strategy: macd\n",
      "2025-08-02 15:13:40.527 | INFO     | src.strategies.macd_strategy:__init__:54 - MACD Strategy initialized: fast=12, slow=35, signal=9\n",
      "2025-08-02 15:13:40.527 | INFO     | src.backtesting.backtest_engine:run_backtest:53 - Starting backtest from 2023-01-01 to 2023-06-30\n",
      "2025-08-02 15:13:40.527 | INFO     | src.data.data_manager:get_historical_data_standardized:589 - Fetching standardized OHLCV data for ['Bitstamp:BTCUSD'] from 2023-01-01 to 2023-06-30\n",
      "2025-08-02 15:13:40.527 | INFO     | src.data.data_manager:get_historical_data:64 - Fetching historical OHLCV data for ['Bitstamp:BTCUSD'] from 2023-01-01 to 2023-06-30\n",
      "2025-08-02 15:13:40.980 | INFO     | src.data.data_manager:_fetch_tradingview_ohlcv_data:159 - Successfully fetched OHLCV data for 1 symbols\n",
      "2025-08-02 15:13:40.981 | INFO     | src.data.data_manager:get_historical_data:97 - OHLCV data cached successfully\n",
      "2025-08-02 15:13:40.983 | INFO     | src.data.data_manager:ensure_ohlcv_format:500 - Data formatted for Bitstamp:BTCUSD: (100, 5)\n",
      "2025-08-02 15:13:40.983 | INFO     | src.data.data_manager:get_historical_data_standardized:622 - Successfully standardized OHLCV data for 1 symbols\n",
      "2025-08-02 15:13:40.983 | INFO     | src.backtesting.backtest_engine:run_backtest:65 - Running backtest for strategy: macd_test\n",
      "2025-08-02 15:13:40.983 | INFO     | src.strategies.base_strategy:reset:99 - Reset strategy: macd\n",
      "2025-08-02 15:13:40.984 | INFO     | src.risk.risk_manager:__init__:49 - Risk manager initialized\n",
      "2025-08-02 15:13:40.994 | INFO     | src.strategies.macd_strategy:_generate_signal_for_symbol:123 - MACD bearish crossover for Bitstamp:BTCUSD: MACD=1738.7482, Signal=1826.6315\n",
      "2025-08-02 15:13:40.994 | INFO     | src.strategies.macd_strategy:_generate_signal_for_symbol:117 - MACD bullish crossover for Bitstamp:BTCUSD: MACD=1979.3727, Signal=1864.8552\n",
      "2025-08-02 15:13:40.995 | DEBUG    | src.backtesting.backtest_engine:_execute_trades:216 - BUY 0.19 Bitstamp:BTCUSD @ $106520.00\n",
      "2025-08-02 15:13:41.000 | INFO     | src.strategies.macd_strategy:_generate_signal_for_symbol:123 - MACD bearish crossover for Bitstamp:BTCUSD: MACD=2418.2607, Signal=2423.1842\n",
      "2025-08-02 15:13:41.000 | DEBUG    | src.backtesting.backtest_engine:_execute_trades:245 - SELL 0.19 Bitstamp:BTCUSD @ $109468.00\n",
      "2025-08-02 15:13:41.006 | INFO     | src.strategies.macd_strategy:_generate_signal_for_symbol:144 - MACD zero line bearish crossover for Bitstamp:BTCUSD: MACD=-488.3934\n",
      "2025-08-02 15:13:41.008 | INFO     | src.strategies.macd_strategy:_generate_signal_for_symbol:117 - MACD bullish crossover for Bitstamp:BTCUSD: MACD=490.3747, Signal=95.0850\n",
      "2025-08-02 15:13:41.008 | DEBUG    | src.backtesting.backtest_engine:_execute_trades:216 - BUY 0.18 Bitstamp:BTCUSD @ $110307.00\n",
      "2025-08-02 15:13:41.010 | INFO     | src.strategies.macd_strategy:_generate_signal_for_symbol:123 - MACD bearish crossover for Bitstamp:BTCUSD: MACD=535.4823, Signal=549.2709\n",
      "2025-08-02 15:13:41.010 | DEBUG    | src.backtesting.backtest_engine:_execute_trades:245 - SELL 0.18 Bitstamp:BTCUSD @ $106118.00\n",
      "2025-08-02 15:13:41.013 | INFO     | src.strategies.macd_strategy:_generate_signal_for_symbol:144 - MACD zero line bearish crossover for Bitstamp:BTCUSD: MACD=-56.3001\n",
      "2025-08-02 15:13:41.016 | INFO     | src.strategies.macd_strategy:_generate_signal_for_symbol:117 - MACD bullish crossover for Bitstamp:BTCUSD: MACD=-533.4704, Signal=-602.8081\n",
      "2025-08-02 15:13:41.016 | DEBUG    | src.backtesting.backtest_engine:_execute_trades:216 - BUY 0.19 Bitstamp:BTCUSD @ $106131.00\n",
      "2025-08-02 15:13:41.017 | INFO     | src.strategies.macd_strategy:_generate_signal_for_symbol:140 - MACD zero line bullish crossover for Bitstamp:BTCUSD: MACD=130.0623\n",
      "2025-08-02 15:13:41.027 | INFO     | src.strategies.macd_strategy:_generate_signal_for_symbol:123 - MACD bearish crossover for Bitstamp:BTCUSD: MACD=3154.2521, Signal=3291.5914\n",
      "2025-08-02 15:13:41.027 | DEBUG    | src.backtesting.backtest_engine:_execute_trades:245 - SELL 0.19 Bitstamp:BTCUSD @ $117916.00\n",
      "2025-08-02 15:13:41.033 | INFO     | src.strategies.macd_strategy:_generate_signal_for_symbol:144 - MACD zero line bearish crossover for Bitstamp:BTCUSD: MACD=-229.2978\n",
      "2025-08-02 15:13:41.036 | INFO     | src.strategies.base_strategy:__init__:34 - Initialized strategy: macd\n",
      "2025-08-02 15:13:41.036 | INFO     | src.strategies.macd_strategy:__init__:54 - MACD Strategy initialized: fast=10, slow=40, signal=12\n",
      "2025-08-02 15:13:41.036 | INFO     | src.backtesting.backtest_engine:run_backtest:53 - Starting backtest from 2023-01-01 to 2023-06-30\n",
      "2025-08-02 15:13:41.036 | INFO     | src.data.data_manager:get_historical_data_standardized:589 - Fetching standardized OHLCV data for ['Bitstamp:BTCUSD'] from 2023-01-01 to 2023-06-30\n",
      "2025-08-02 15:13:41.036 | INFO     | src.data.data_manager:get_historical_data:64 - Fetching historical OHLCV data for ['Bitstamp:BTCUSD'] from 2023-01-01 to 2023-06-30\n",
      "2025-08-02 15:13:41.469 | INFO     | src.data.data_manager:_fetch_tradingview_ohlcv_data:159 - Successfully fetched OHLCV data for 1 symbols\n",
      "2025-08-02 15:13:41.470 | INFO     | src.data.data_manager:get_historical_data:97 - OHLCV data cached successfully\n",
      "2025-08-02 15:13:41.472 | INFO     | src.data.data_manager:ensure_ohlcv_format:500 - Data formatted for Bitstamp:BTCUSD: (100, 5)\n",
      "2025-08-02 15:13:41.472 | INFO     | src.data.data_manager:get_historical_data_standardized:622 - Successfully standardized OHLCV data for 1 symbols\n",
      "2025-08-02 15:13:41.472 | INFO     | src.backtesting.backtest_engine:run_backtest:65 - Running backtest for strategy: macd_test\n",
      "2025-08-02 15:13:41.472 | INFO     | src.strategies.base_strategy:reset:99 - Reset strategy: macd\n",
      "2025-08-02 15:13:41.472 | INFO     | src.risk.risk_manager:__init__:49 - Risk manager initialized\n",
      "2025-08-02 15:13:41.491 | INFO     | src.strategies.macd_strategy:_generate_signal_for_symbol:117 - MACD bullish crossover for Bitstamp:BTCUSD: MACD=1341.3581, Signal=1126.7456\n",
      "2025-08-02 15:13:41.491 | DEBUG    | src.backtesting.backtest_engine:_execute_trades:216 - BUY 0.18 Bitstamp:BTCUSD @ $110307.00\n",
      "2025-08-02 15:13:41.494 | INFO     | src.strategies.macd_strategy:_generate_signal_for_symbol:123 - MACD bearish crossover for Bitstamp:BTCUSD: MACD=1435.0388, Signal=1487.4756\n",
      "2025-08-02 15:13:41.494 | DEBUG    | src.backtesting.backtest_engine:_execute_trades:245 - SELL 0.18 Bitstamp:BTCUSD @ $106118.00\n",
      "2025-08-02 15:13:41.498 | INFO     | src.strategies.macd_strategy:_generate_signal_for_symbol:144 - MACD zero line bearish crossover for Bitstamp:BTCUSD: MACD=-250.0540\n",
      "2025-08-02 15:13:41.501 | INFO     | src.strategies.macd_strategy:_generate_signal_for_symbol:117 - MACD bullish crossover for Bitstamp:BTCUSD: MACD=23.2321, Signal=-191.1842\n",
      "2025-08-02 15:13:41.501 | DEBUG    | src.backtesting.backtest_engine:_execute_trades:216 - BUY 0.18 Bitstamp:BTCUSD @ $107418.00\n",
      "2025-08-02 15:13:41.514 | INFO     | src.strategies.macd_strategy:_generate_signal_for_symbol:123 - MACD bearish crossover for Bitstamp:BTCUSD: MACD=5547.6023, Signal=5667.9545\n",
      "2025-08-02 15:13:41.514 | DEBUG    | src.backtesting.backtest_engine:_execute_trades:245 - SELL 0.18 Bitstamp:BTCUSD @ $117437.00\n",
      "2025-08-02 15:13:41.514 | INFO     | src.strategies.macd_strategy:_generate_signal_for_symbol:117 - MACD bullish crossover for Bitstamp:BTCUSD: MACD=5706.6933, Signal=5675.7023\n",
      "2025-08-02 15:13:41.514 | DEBUG    | src.backtesting.backtest_engine:_execute_trades:216 - BUY 0.17 Bitstamp:BTCUSD @ $120011.00\n",
      "2025-08-02 15:13:41.515 | INFO     | src.strategies.macd_strategy:_generate_signal_for_symbol:123 - MACD bearish crossover for Bitstamp:BTCUSD: MACD=5554.8222, Signal=5651.5262\n",
      "2025-08-02 15:13:41.515 | DEBUG    | src.backtesting.backtest_engine:_execute_trades:245 - SELL 0.17 Bitstamp:BTCUSD @ $118813.00\n",
      "2025-08-02 15:13:41.523 | INFO     | src.strategies.base_strategy:__init__:34 - Initialized strategy: macd\n",
      "2025-08-02 15:13:41.523 | INFO     | src.strategies.macd_strategy:__init__:54 - MACD Strategy initialized: fast=12, slow=26, signal=7\n",
      "2025-08-02 15:13:41.523 | INFO     | src.backtesting.backtest_engine:run_backtest:53 - Starting backtest from 2023-01-01 to 2023-06-30\n",
      "2025-08-02 15:13:41.523 | INFO     | src.data.data_manager:get_historical_data_standardized:589 - Fetching standardized OHLCV data for ['Bitstamp:BTCUSD'] from 2023-01-01 to 2023-06-30\n",
      "2025-08-02 15:13:41.523 | INFO     | src.data.data_manager:get_historical_data:64 - Fetching historical OHLCV data for ['Bitstamp:BTCUSD'] from 2023-01-01 to 2023-06-30\n",
      "2025-08-02 15:13:41.974 | INFO     | src.data.data_manager:_fetch_tradingview_ohlcv_data:159 - Successfully fetched OHLCV data for 1 symbols\n",
      "2025-08-02 15:13:41.975 | INFO     | src.data.data_manager:get_historical_data:97 - OHLCV data cached successfully\n",
      "2025-08-02 15:13:41.977 | INFO     | src.data.data_manager:ensure_ohlcv_format:500 - Data formatted for Bitstamp:BTCUSD: (100, 5)\n",
      "2025-08-02 15:13:41.977 | INFO     | src.data.data_manager:get_historical_data_standardized:622 - Successfully standardized OHLCV data for 1 symbols\n",
      "2025-08-02 15:13:41.977 | INFO     | src.backtesting.backtest_engine:run_backtest:65 - Running backtest for strategy: macd_test\n",
      "2025-08-02 15:13:41.977 | INFO     | src.strategies.base_strategy:reset:99 - Reset strategy: macd\n",
      "2025-08-02 15:13:41.977 | INFO     | src.risk.risk_manager:__init__:49 - Risk manager initialized\n",
      "2025-08-02 15:13:41.998 | INFO     | src.strategies.macd_strategy:_generate_signal_for_symbol:117 - MACD bullish crossover for Bitstamp:BTCUSD: MACD=1047.5472, Signal=1009.6611\n",
      "2025-08-02 15:13:41.998 | DEBUG    | src.backtesting.backtest_engine:_execute_trades:216 - BUY 0.18 Bitstamp:BTCUSD @ $108678.00\n",
      "2025-08-02 15:13:41.999 | INFO     | src.strategies.macd_strategy:_generate_signal_for_symbol:123 - MACD bearish crossover for Bitstamp:BTCUSD: MACD=961.4765, Signal=1002.2460\n",
      "2025-08-02 15:13:41.999 | DEBUG    | src.backtesting.backtest_engine:_execute_trades:245 - SELL 0.18 Bitstamp:BTCUSD @ $105731.00\n",
      "2025-08-02 15:13:42.005 | INFO     | src.strategies.macd_strategy:_generate_signal_for_symbol:144 - MACD zero line bearish crossover for Bitstamp:BTCUSD: MACD=-47.5904\n",
      "2025-08-02 15:13:42.006 | INFO     | src.strategies.macd_strategy:_generate_signal_for_symbol:140 - MACD zero line bullish crossover for Bitstamp:BTCUSD: MACD=34.5518\n",
      "2025-08-02 15:13:42.006 | DEBUG    | src.backtesting.backtest_engine:_execute_trades:216 - BUY 0.19 Bitstamp:BTCUSD @ $106131.00\n",
      "2025-08-02 15:13:42.008 | INFO     | src.strategies.macd_strategy:_generate_signal_for_symbol:117 - MACD bullish crossover for Bitstamp:BTCUSD: MACD=335.3375, Signal=308.2209\n",
      "2025-08-02 15:13:42.023 | INFO     | src.strategies.macd_strategy:_generate_signal_for_symbol:123 - MACD bearish crossover for Bitstamp:BTCUSD: MACD=2752.7403, Signal=2802.2958\n",
      "2025-08-02 15:13:42.023 | DEBUG    | src.backtesting.backtest_engine:_execute_trades:245 - SELL 0.19 Bitstamp:BTCUSD @ $117926.00\n",
      "2025-08-02 15:13:42.028 | INFO     | src.strategies.base_strategy:__init__:34 - Initialized strategy: macd\n",
      "2025-08-02 15:13:42.028 | INFO     | src.strategies.macd_strategy:__init__:54 - MACD Strategy initialized: fast=15, slow=30, signal=9\n",
      "2025-08-02 15:13:42.028 | INFO     | src.backtesting.backtest_engine:run_backtest:53 - Starting backtest from 2023-01-01 to 2023-06-30\n",
      "2025-08-02 15:13:42.028 | INFO     | src.data.data_manager:get_historical_data_standardized:589 - Fetching standardized OHLCV data for ['Bitstamp:BTCUSD'] from 2023-01-01 to 2023-06-30\n",
      "2025-08-02 15:13:42.028 | INFO     | src.data.data_manager:get_historical_data:64 - Fetching historical OHLCV data for ['Bitstamp:BTCUSD'] from 2023-01-01 to 2023-06-30\n",
      "2025-08-02 15:13:42.464 | INFO     | src.data.data_manager:_fetch_tradingview_ohlcv_data:159 - Successfully fetched OHLCV data for 1 symbols\n",
      "2025-08-02 15:13:42.465 | INFO     | src.data.data_manager:get_historical_data:97 - OHLCV data cached successfully\n",
      "2025-08-02 15:13:42.466 | INFO     | src.data.data_manager:ensure_ohlcv_format:500 - Data formatted for Bitstamp:BTCUSD: (100, 5)\n",
      "2025-08-02 15:13:42.466 | INFO     | src.data.data_manager:get_historical_data_standardized:622 - Successfully standardized OHLCV data for 1 symbols\n",
      "2025-08-02 15:13:42.466 | INFO     | src.backtesting.backtest_engine:run_backtest:65 - Running backtest for strategy: macd_test\n",
      "2025-08-02 15:13:42.466 | INFO     | src.strategies.base_strategy:reset:99 - Reset strategy: macd\n",
      "2025-08-02 15:13:42.466 | INFO     | src.risk.risk_manager:__init__:49 - Risk manager initialized\n",
      "2025-08-02 15:13:42.488 | INFO     | src.strategies.macd_strategy:_generate_signal_for_symbol:117 - MACD bullish crossover for Bitstamp:BTCUSD: MACD=1293.1010, Signal=1052.8253\n",
      "2025-08-02 15:13:42.488 | DEBUG    | src.backtesting.backtest_engine:_execute_trades:216 - BUY 0.18 Bitstamp:BTCUSD @ $110292.00\n",
      "2025-08-02 15:13:42.490 | INFO     | src.strategies.macd_strategy:_generate_signal_for_symbol:123 - MACD bearish crossover for Bitstamp:BTCUSD: MACD=1062.1554, Signal=1122.8301\n",
      "2025-08-02 15:13:42.490 | DEBUG    | src.backtesting.backtest_engine:_execute_trades:245 - SELL 0.18 Bitstamp:BTCUSD @ $106118.00\n",
      "2025-08-02 15:13:42.494 | INFO     | src.strategies.macd_strategy:_generate_signal_for_symbol:144 - MACD zero line bearish crossover for Bitstamp:BTCUSD: MACD=-19.8770\n",
      "2025-08-02 15:13:42.498 | INFO     | src.strategies.macd_strategy:_generate_signal_for_symbol:117 - MACD bullish crossover for Bitstamp:BTCUSD: MACD=118.9699, Signal=-25.5029\n",
      "2025-08-02 15:13:42.498 | DEBUG    | src.backtesting.backtest_engine:_execute_trades:216 - BUY 0.19 Bitstamp:BTCUSD @ $107004.00\n",
      "2025-08-02 15:13:42.511 | INFO     | src.strategies.macd_strategy:_generate_signal_for_symbol:123 - MACD bearish crossover for Bitstamp:BTCUSD: MACD=4050.5259, Signal=4111.0849\n",
      "2025-08-02 15:13:42.512 | DEBUG    | src.backtesting.backtest_engine:_execute_trades:245 - SELL 0.19 Bitstamp:BTCUSD @ $118347.00\n",
      "2025-08-02 15:13:42.519 | INFO     | src.strategies.base_strategy:__init__:34 - Initialized strategy: macd\n",
      "2025-08-02 15:13:42.519 | INFO     | src.strategies.macd_strategy:__init__:54 - MACD Strategy initialized: fast=8, slow=26, signal=9\n",
      "2025-08-02 15:13:42.519 | INFO     | src.backtesting.backtest_engine:run_backtest:53 - Starting backtest from 2023-01-01 to 2023-06-30\n",
      "2025-08-02 15:13:42.519 | INFO     | src.data.data_manager:get_historical_data_standardized:589 - Fetching standardized OHLCV data for ['Bitstamp:BTCUSD'] from 2023-01-01 to 2023-06-30\n",
      "2025-08-02 15:13:42.519 | INFO     | src.data.data_manager:get_historical_data:64 - Fetching historical OHLCV data for ['Bitstamp:BTCUSD'] from 2023-01-01 to 2023-06-30\n",
      "2025-08-02 15:13:42.977 | INFO     | src.data.data_manager:_fetch_tradingview_ohlcv_data:159 - Successfully fetched OHLCV data for 1 symbols\n",
      "2025-08-02 15:13:42.981 | INFO     | src.data.data_manager:get_historical_data:97 - OHLCV data cached successfully\n",
      "2025-08-02 15:13:42.983 | INFO     | src.data.data_manager:ensure_ohlcv_format:500 - Data formatted for Bitstamp:BTCUSD: (100, 5)\n",
      "2025-08-02 15:13:42.984 | INFO     | src.data.data_manager:get_historical_data_standardized:622 - Successfully standardized OHLCV data for 1 symbols\n",
      "2025-08-02 15:13:42.984 | INFO     | src.backtesting.backtest_engine:run_backtest:65 - Running backtest for strategy: macd_test\n",
      "2025-08-02 15:13:42.984 | INFO     | src.strategies.base_strategy:reset:99 - Reset strategy: macd\n",
      "2025-08-02 15:13:42.984 | INFO     | src.risk.risk_manager:__init__:49 - Risk manager initialized\n",
      "2025-08-02 15:13:43.004 | INFO     | src.strategies.macd_strategy:_generate_signal_for_symbol:117 - MACD bullish crossover for Bitstamp:BTCUSD: MACD=1678.9498, Signal=1427.1775\n",
      "2025-08-02 15:13:43.004 | DEBUG    | src.backtesting.backtest_engine:_execute_trades:216 - BUY 0.18 Bitstamp:BTCUSD @ $110292.00\n",
      "2025-08-02 15:13:43.006 | INFO     | src.strategies.macd_strategy:_generate_signal_for_symbol:123 - MACD bearish crossover for Bitstamp:BTCUSD: MACD=1344.3006, Signal=1471.1768\n",
      "2025-08-02 15:13:43.006 | DEBUG    | src.backtesting.backtest_engine:_execute_trades:245 - SELL 0.18 Bitstamp:BTCUSD @ $106118.00\n",
      "2025-08-02 15:13:43.010 | INFO     | src.strategies.macd_strategy:_generate_signal_for_symbol:144 - MACD zero line bearish crossover for Bitstamp:BTCUSD: MACD=-50.9442\n",
      "2025-08-02 15:13:43.014 | INFO     | src.strategies.macd_strategy:_generate_signal_for_symbol:117 - MACD bullish crossover for Bitstamp:BTCUSD: MACD=235.3060, Signal=116.6818\n",
      "2025-08-02 15:13:43.014 | DEBUG    | src.backtesting.backtest_engine:_execute_trades:216 - BUY 0.19 Bitstamp:BTCUSD @ $107004.00\n",
      "2025-08-02 15:13:43.028 | INFO     | src.strategies.macd_strategy:_generate_signal_for_symbol:123 - MACD bearish crossover for Bitstamp:BTCUSD: MACD=4723.4434, Signal=4900.8962\n",
      "2025-08-02 15:13:43.028 | DEBUG    | src.backtesting.backtest_engine:_execute_trades:245 - SELL 0.19 Bitstamp:BTCUSD @ $117653.00\n",
      "2025-08-02 15:13:43.035 | INFO     | src.strategies.base_strategy:__init__:34 - Initialized strategy: macd\n",
      "\u001b[32m2025-08-02 15:13:43.036\u001b[0m | \u001b[1mINFO    \u001b[0m | \u001b[36msrc.optimization.optimizer\u001b[0m:\u001b[36m_optimize_parallel\u001b[0m:\u001b[36m149\u001b[0m - \u001b[1mCompleted 10/50 combinations\u001b[0m\n",
      "2025-08-02 15:13:43.035 | INFO     | src.strategies.macd_strategy:__init__:54 - MACD Strategy initialized: fast=12, slow=30, signal=7\n",
      "2025-08-02 15:13:43.035 | INFO     | src.backtesting.backtest_engine:run_backtest:53 - Starting backtest from 2023-01-01 to 2023-06-30\n",
      "2025-08-02 15:13:43.035 | INFO     | src.data.data_manager:get_historical_data_standardized:589 - Fetching standardized OHLCV data for ['Bitstamp:BTCUSD'] from 2023-01-01 to 2023-06-30\n",
      "2025-08-02 15:13:43.035 | INFO     | src.data.data_manager:get_historical_data:64 - Fetching historical OHLCV data for ['Bitstamp:BTCUSD'] from 2023-01-01 to 2023-06-30\n",
      "2025-08-02 15:13:43.484 | INFO     | src.data.data_manager:_fetch_tradingview_ohlcv_data:159 - Successfully fetched OHLCV data for 1 symbols\n",
      "2025-08-02 15:13:43.485 | INFO     | src.data.data_manager:get_historical_data:97 - OHLCV data cached successfully\n",
      "2025-08-02 15:13:43.487 | INFO     | src.data.data_manager:ensure_ohlcv_format:500 - Data formatted for Bitstamp:BTCUSD: (100, 5)\n",
      "2025-08-02 15:13:43.487 | INFO     | src.data.data_manager:get_historical_data_standardized:622 - Successfully standardized OHLCV data for 1 symbols\n",
      "2025-08-02 15:13:43.487 | INFO     | src.backtesting.backtest_engine:run_backtest:65 - Running backtest for strategy: macd_test\n",
      "2025-08-02 15:13:43.487 | INFO     | src.strategies.base_strategy:reset:99 - Reset strategy: macd\n",
      "2025-08-02 15:13:43.487 | INFO     | src.risk.risk_manager:__init__:49 - Risk manager initialized\n",
      "2025-08-02 15:13:43.504 | INFO     | src.strategies.macd_strategy:_generate_signal_for_symbol:123 - MACD bearish crossover for Bitstamp:BTCUSD: MACD=2063.0522, Signal=2134.1728\n",
      "2025-08-02 15:13:43.511 | INFO     | src.strategies.macd_strategy:_generate_signal_for_symbol:117 - MACD bullish crossover for Bitstamp:BTCUSD: MACD=559.1042, Signal=468.8944\n",
      "2025-08-02 15:13:43.511 | DEBUG    | src.backtesting.backtest_engine:_execute_trades:216 - BUY 0.18 Bitstamp:BTCUSD @ $110307.00\n",
      "2025-08-02 15:13:43.514 | INFO     | src.strategies.macd_strategy:_generate_signal_for_symbol:123 - MACD bearish crossover for Bitstamp:BTCUSD: MACD=652.8223, Signal=675.8518\n",
      "2025-08-02 15:13:43.514 | DEBUG    | src.backtesting.backtest_engine:_execute_trades:245 - SELL 0.18 Bitstamp:BTCUSD @ $106118.00\n",
      "2025-08-02 15:13:43.518 | INFO     | src.strategies.macd_strategy:_generate_signal_for_symbol:144 - MACD zero line bearish crossover for Bitstamp:BTCUSD: MACD=-191.0703\n",
      "2025-08-02 15:13:43.520 | INFO     | src.strategies.macd_strategy:_generate_signal_for_symbol:117 - MACD bullish crossover for Bitstamp:BTCUSD: MACD=-147.6020, Signal=-259.7737\n",
      "2025-08-02 15:13:43.520 | DEBUG    | src.backtesting.backtest_engine:_execute_trades:216 - BUY 0.18 Bitstamp:BTCUSD @ $107418.00\n",
      "2025-08-02 15:13:43.521 | INFO     | src.strategies.macd_strategy:_generate_signal_for_symbol:140 - MACD zero line bullish crossover for Bitstamp:BTCUSD: MACD=10.6946\n",
      "2025-08-02 15:13:43.532 | INFO     | src.strategies.macd_strategy:_generate_signal_for_symbol:123 - MACD bearish crossover for Bitstamp:BTCUSD: MACD=2888.7003, Signal=3006.7849\n",
      "2025-08-02 15:13:43.532 | DEBUG    | src.backtesting.backtest_engine:_execute_trades:245 - SELL 0.18 Bitstamp:BTCUSD @ $117437.00\n",
      "2025-08-02 15:13:43.540 | INFO     | src.strategies.base_strategy:__init__:34 - Initialized strategy: macd\n",
      "2025-08-02 15:13:43.540 | INFO     | src.strategies.macd_strategy:__init__:54 - MACD Strategy initialized: fast=12, slow=20, signal=9\n",
      "2025-08-02 15:13:43.540 | INFO     | src.backtesting.backtest_engine:run_backtest:53 - Starting backtest from 2023-01-01 to 2023-06-30\n",
      "2025-08-02 15:13:43.540 | INFO     | src.data.data_manager:get_historical_data_standardized:589 - Fetching standardized OHLCV data for ['Bitstamp:BTCUSD'] from 2023-01-01 to 2023-06-30\n",
      "2025-08-02 15:13:43.540 | INFO     | src.data.data_manager:get_historical_data:64 - Fetching historical OHLCV data for ['Bitstamp:BTCUSD'] from 2023-01-01 to 2023-06-30\n",
      "2025-08-02 15:13:43.969 | INFO     | src.data.data_manager:_fetch_tradingview_ohlcv_data:159 - Successfully fetched OHLCV data for 1 symbols\n",
      "2025-08-02 15:13:43.970 | INFO     | src.data.data_manager:get_historical_data:97 - OHLCV data cached successfully\n",
      "2025-08-02 15:13:43.972 | INFO     | src.data.data_manager:ensure_ohlcv_format:500 - Data formatted for Bitstamp:BTCUSD: (100, 5)\n",
      "2025-08-02 15:13:43.973 | INFO     | src.data.data_manager:get_historical_data_standardized:622 - Successfully standardized OHLCV data for 1 symbols\n",
      "2025-08-02 15:13:43.973 | INFO     | src.backtesting.backtest_engine:run_backtest:65 - Running backtest for strategy: macd_test\n",
      "2025-08-02 15:13:43.973 | INFO     | src.strategies.base_strategy:reset:99 - Reset strategy: macd\n",
      "2025-08-02 15:13:43.973 | INFO     | src.risk.risk_manager:__init__:49 - Risk manager initialized\n",
      "2025-08-02 15:13:43.988 | INFO     | src.strategies.macd_strategy:_generate_signal_for_symbol:123 - MACD bearish crossover for Bitstamp:BTCUSD: MACD=1693.5787, Signal=1811.2119\n",
      "2025-08-02 15:13:43.995 | INFO     | src.strategies.macd_strategy:_generate_signal_for_symbol:117 - MACD bullish crossover for Bitstamp:BTCUSD: MACD=852.7714, Signal=741.9169\n",
      "2025-08-02 15:13:43.995 | DEBUG    | src.backtesting.backtest_engine:_execute_trades:216 - BUY 0.18 Bitstamp:BTCUSD @ $110292.00\n",
      "2025-08-02 15:13:43.997 | INFO     | src.strategies.macd_strategy:_generate_signal_for_symbol:123 - MACD bearish crossover for Bitstamp:BTCUSD: MACD=715.0470, Signal=768.6889\n",
      "2025-08-02 15:13:43.998 | DEBUG    | src.backtesting.backtest_engine:_execute_trades:245 - SELL 0.18 Bitstamp:BTCUSD @ $106118.00\n",
      "2025-08-02 15:13:44.002 | INFO     | src.strategies.macd_strategy:_generate_signal_for_symbol:144 - MACD zero line bearish crossover for Bitstamp:BTCUSD: MACD=-188.1702\n",
      "2025-08-02 15:13:44.004 | INFO     | src.strategies.macd_strategy:_generate_signal_for_symbol:117 - MACD bullish crossover for Bitstamp:BTCUSD: MACD=45.5082, Signal=-15.2604\n",
      "2025-08-02 15:13:44.004 | DEBUG    | src.backtesting.backtest_engine:_execute_trades:216 - BUY 0.19 Bitstamp:BTCUSD @ $107004.00\n",
      "2025-08-02 15:13:44.018 | INFO     | src.strategies.macd_strategy:_generate_signal_for_symbol:123 - MACD bearish crossover for Bitstamp:BTCUSD: MACD=2752.4620, Signal=2758.9136\n",
      "2025-08-02 15:13:44.018 | DEBUG    | src.backtesting.backtest_engine:_execute_trades:245 - SELL 0.19 Bitstamp:BTCUSD @ $118347.00\n",
      "2025-08-02 15:13:44.024 | INFO     | src.strategies.base_strategy:__init__:34 - Initialized strategy: macd\n",
      "2025-08-02 15:13:44.024 | INFO     | src.strategies.macd_strategy:__init__:54 - MACD Strategy initialized: fast=20, slow=40, signal=15\n",
      "2025-08-02 15:13:44.024 | INFO     | src.backtesting.backtest_engine:run_backtest:53 - Starting backtest from 2023-01-01 to 2023-06-30\n",
      "2025-08-02 15:13:44.024 | INFO     | src.data.data_manager:get_historical_data_standardized:589 - Fetching standardized OHLCV data for ['Bitstamp:BTCUSD'] from 2023-01-01 to 2023-06-30\n",
      "2025-08-02 15:13:44.024 | INFO     | src.data.data_manager:get_historical_data:64 - Fetching historical OHLCV data for ['Bitstamp:BTCUSD'] from 2023-01-01 to 2023-06-30\n",
      "2025-08-02 15:13:44.466 | INFO     | src.data.data_manager:_fetch_tradingview_ohlcv_data:159 - Successfully fetched OHLCV data for 1 symbols\n",
      "2025-08-02 15:13:44.467 | INFO     | src.data.data_manager:get_historical_data:97 - OHLCV data cached successfully\n",
      "2025-08-02 15:13:44.468 | INFO     | src.data.data_manager:ensure_ohlcv_format:500 - Data formatted for Bitstamp:BTCUSD: (100, 5)\n",
      "2025-08-02 15:13:44.469 | INFO     | src.data.data_manager:get_historical_data_standardized:622 - Successfully standardized OHLCV data for 1 symbols\n",
      "2025-08-02 15:13:44.469 | INFO     | src.backtesting.backtest_engine:run_backtest:65 - Running backtest for strategy: macd_test\n",
      "2025-08-02 15:13:44.469 | INFO     | src.strategies.base_strategy:reset:99 - Reset strategy: macd\n",
      "2025-08-02 15:13:44.469 | INFO     | src.risk.risk_manager:__init__:49 - Risk manager initialized\n",
      "2025-08-02 15:13:44.484 | INFO     | src.strategies.macd_strategy:_generate_signal_for_symbol:123 - MACD bearish crossover for Bitstamp:BTCUSD: MACD=2735.8226, Signal=2975.4299\n",
      "2025-08-02 15:13:44.489 | INFO     | src.strategies.macd_strategy:_generate_signal_for_symbol:144 - MACD zero line bearish crossover for Bitstamp:BTCUSD: MACD=-256.4842\n",
      "2025-08-02 15:13:44.490 | INFO     | src.strategies.macd_strategy:_generate_signal_for_symbol:140 - MACD zero line bullish crossover for Bitstamp:BTCUSD: MACD=3.3308\n",
      "2025-08-02 15:13:44.490 | DEBUG    | src.backtesting.backtest_engine:_execute_trades:216 - BUY 0.19 Bitstamp:BTCUSD @ $105792.00\n",
      "2025-08-02 15:13:44.491 | INFO     | src.strategies.macd_strategy:_generate_signal_for_symbol:117 - MACD bullish crossover for Bitstamp:BTCUSD: MACD=763.0146, Signal=501.6684\n",
      "2025-08-02 15:13:44.493 | INFO     | src.strategies.macd_strategy:_generate_signal_for_symbol:123 - MACD bearish crossover for Bitstamp:BTCUSD: MACD=829.8634, Signal=854.2461\n",
      "2025-08-02 15:13:44.493 | DEBUG    | src.backtesting.backtest_engine:_execute_trades:245 - SELL 0.19 Bitstamp:BTCUSD @ $106118.00\n",
      "2025-08-02 15:13:44.496 | INFO     | src.strategies.macd_strategy:_generate_signal_for_symbol:144 - MACD zero line bearish crossover for Bitstamp:BTCUSD: MACD=-62.2625\n",
      "2025-08-02 15:13:44.500 | INFO     | src.strategies.macd_strategy:_generate_signal_for_symbol:117 - MACD bullish crossover for Bitstamp:BTCUSD: MACD=-130.9968, Signal=-420.5209\n",
      "2025-08-02 15:13:44.500 | DEBUG    | src.backtesting.backtest_engine:_execute_trades:216 - BUY 0.19 Bitstamp:BTCUSD @ $107418.00\n",
      "2025-08-02 15:13:44.500 | INFO     | src.strategies.macd_strategy:_generate_signal_for_symbol:140 - MACD zero line bullish crossover for Bitstamp:BTCUSD: MACD=150.7658\n",
      "2025-08-02 15:13:44.511 | INFO     | src.strategies.macd_strategy:_generate_signal_for_symbol:123 - MACD bearish crossover for Bitstamp:BTCUSD: MACD=3971.1532, Signal=4105.8043\n",
      "2025-08-02 15:13:44.511 | DEBUG    | src.backtesting.backtest_engine:_execute_trades:245 - SELL 0.19 Bitstamp:BTCUSD @ $117339.00\n",
      "2025-08-02 15:13:44.519 | INFO     | src.strategies.base_strategy:__init__:34 - Initialized strategy: macd\n",
      "2025-08-02 15:13:44.519 | INFO     | src.strategies.macd_strategy:__init__:54 - MACD Strategy initialized: fast=10, slow=40, signal=15\n",
      "2025-08-02 15:13:44.520 | INFO     | src.backtesting.backtest_engine:run_backtest:53 - Starting backtest from 2023-01-01 to 2023-06-30\n",
      "2025-08-02 15:13:44.520 | INFO     | src.data.data_manager:get_historical_data_standardized:589 - Fetching standardized OHLCV data for ['Bitstamp:BTCUSD'] from 2023-01-01 to 2023-06-30\n",
      "2025-08-02 15:13:44.520 | INFO     | src.data.data_manager:get_historical_data:64 - Fetching historical OHLCV data for ['Bitstamp:BTCUSD'] from 2023-01-01 to 2023-06-30\n",
      "2025-08-02 15:13:44.966 | INFO     | src.data.data_manager:_fetch_tradingview_ohlcv_data:159 - Successfully fetched OHLCV data for 1 symbols\n",
      "2025-08-02 15:13:44.967 | INFO     | src.data.data_manager:get_historical_data:97 - OHLCV data cached successfully\n",
      "2025-08-02 15:13:44.968 | INFO     | src.data.data_manager:ensure_ohlcv_format:500 - Data formatted for Bitstamp:BTCUSD: (100, 5)\n",
      "2025-08-02 15:13:44.969 | INFO     | src.data.data_manager:get_historical_data_standardized:622 - Successfully standardized OHLCV data for 1 symbols\n",
      "2025-08-02 15:13:44.969 | INFO     | src.backtesting.backtest_engine:run_backtest:65 - Running backtest for strategy: macd_test\n",
      "2025-08-02 15:13:44.969 | INFO     | src.strategies.base_strategy:reset:99 - Reset strategy: macd\n",
      "2025-08-02 15:13:44.969 | INFO     | src.risk.risk_manager:__init__:49 - Risk manager initialized\n",
      "2025-08-02 15:13:44.983 | INFO     | src.strategies.macd_strategy:_generate_signal_for_symbol:123 - MACD bearish crossover for Bitstamp:BTCUSD: MACD=2443.1010, Signal=2494.2331\n",
      "2025-08-02 15:13:44.989 | INFO     | src.strategies.macd_strategy:_generate_signal_for_symbol:117 - MACD bullish crossover for Bitstamp:BTCUSD: MACD=740.0157, Signal=656.5668\n",
      "2025-08-02 15:13:44.989 | DEBUG    | src.backtesting.backtest_engine:_execute_trades:216 - BUY 0.18 Bitstamp:BTCUSD @ $110307.00\n",
      "2025-08-02 15:13:44.991 | INFO     | src.strategies.macd_strategy:_generate_signal_for_symbol:123 - MACD bearish crossover for Bitstamp:BTCUSD: MACD=842.7719, Signal=873.9793\n",
      "2025-08-02 15:13:44.992 | DEBUG    | src.backtesting.backtest_engine:_execute_trades:245 - SELL 0.18 Bitstamp:BTCUSD @ $106118.00\n",
      "2025-08-02 15:13:44.995 | INFO     | src.strategies.macd_strategy:_generate_signal_for_symbol:144 - MACD zero line bearish crossover for Bitstamp:BTCUSD: MACD=-124.1869\n",
      "2025-08-02 15:13:44.998 | INFO     | src.strategies.macd_strategy:_generate_signal_for_symbol:117 - MACD bullish crossover for Bitstamp:BTCUSD: MACD=-121.6804, Signal=-223.1089\n",
      "2025-08-02 15:13:44.998 | DEBUG    | src.backtesting.backtest_engine:_execute_trades:216 - BUY 0.18 Bitstamp:BTCUSD @ $107418.00\n",
      "2025-08-02 15:13:44.998 | INFO     | src.strategies.macd_strategy:_generate_signal_for_symbol:140 - MACD zero line bullish crossover for Bitstamp:BTCUSD: MACD=50.6063\n",
      "2025-08-02 15:13:45.010 | INFO     | src.strategies.macd_strategy:_generate_signal_for_symbol:123 - MACD bearish crossover for Bitstamp:BTCUSD: MACD=3520.5488, Signal=3598.3707\n",
      "2025-08-02 15:13:45.010 | DEBUG    | src.backtesting.backtest_engine:_execute_trades:245 - SELL 0.18 Bitstamp:BTCUSD @ $117437.00\n",
      "2025-08-02 15:13:45.018 | INFO     | src.strategies.base_strategy:__init__:34 - Initialized strategy: macd\n",
      "2025-08-02 15:13:45.018 | INFO     | src.strategies.macd_strategy:__init__:54 - MACD Strategy initialized: fast=20, slow=30, signal=7\n",
      "2025-08-02 15:13:45.018 | INFO     | src.backtesting.backtest_engine:run_backtest:53 - Starting backtest from 2023-01-01 to 2023-06-30\n",
      "2025-08-02 15:13:45.018 | INFO     | src.data.data_manager:get_historical_data_standardized:589 - Fetching standardized OHLCV data for ['Bitstamp:BTCUSD'] from 2023-01-01 to 2023-06-30\n",
      "2025-08-02 15:13:45.018 | INFO     | src.data.data_manager:get_historical_data:64 - Fetching historical OHLCV data for ['Bitstamp:BTCUSD'] from 2023-01-01 to 2023-06-30\n",
      "2025-08-02 15:13:45.470 | INFO     | src.data.data_manager:_fetch_tradingview_ohlcv_data:159 - Successfully fetched OHLCV data for 1 symbols\n",
      "2025-08-02 15:13:45.471 | INFO     | src.data.data_manager:get_historical_data:97 - OHLCV data cached successfully\n",
      "2025-08-02 15:13:45.473 | INFO     | src.data.data_manager:ensure_ohlcv_format:500 - Data formatted for Bitstamp:BTCUSD: (100, 5)\n",
      "2025-08-02 15:13:45.474 | INFO     | src.data.data_manager:get_historical_data_standardized:622 - Successfully standardized OHLCV data for 1 symbols\n",
      "2025-08-02 15:13:45.474 | INFO     | src.backtesting.backtest_engine:run_backtest:65 - Running backtest for strategy: macd_test\n",
      "2025-08-02 15:13:45.474 | INFO     | src.strategies.base_strategy:reset:99 - Reset strategy: macd\n",
      "2025-08-02 15:13:45.474 | INFO     | src.risk.risk_manager:__init__:49 - Risk manager initialized\n",
      "2025-08-02 15:13:45.492 | INFO     | src.strategies.macd_strategy:_generate_signal_for_symbol:123 - MACD bearish crossover for Bitstamp:BTCUSD: MACD=1328.0618, Signal=1393.7651\n",
      "2025-08-02 15:13:45.498 | INFO     | src.strategies.macd_strategy:_generate_signal_for_symbol:144 - MACD zero line bearish crossover for Bitstamp:BTCUSD: MACD=-35.3829\n",
      "2025-08-02 15:13:45.500 | INFO     | src.strategies.macd_strategy:_generate_signal_for_symbol:117 - MACD bullish crossover for Bitstamp:BTCUSD: MACD=286.4643, Signal=257.0473\n",
      "2025-08-02 15:13:45.500 | DEBUG    | src.backtesting.backtest_engine:_execute_trades:216 - BUY 0.18 Bitstamp:BTCUSD @ $110307.00\n",
      "2025-08-02 15:13:45.502 | INFO     | src.strategies.macd_strategy:_generate_signal_for_symbol:123 - MACD bearish crossover for Bitstamp:BTCUSD: MACD=358.4412, Signal=372.0606\n",
      "2025-08-02 15:13:45.503 | DEBUG    | src.backtesting.backtest_engine:_execute_trades:245 - SELL 0.18 Bitstamp:BTCUSD @ $106118.00\n",
      "2025-08-02 15:13:45.505 | INFO     | src.strategies.macd_strategy:_generate_signal_for_symbol:144 - MACD zero line bearish crossover for Bitstamp:BTCUSD: MACD=-18.5651\n",
      "2025-08-02 15:13:45.508 | INFO     | src.strategies.macd_strategy:_generate_signal_for_symbol:117 - MACD bullish crossover for Bitstamp:BTCUSD: MACD=-131.2087, Signal=-207.7012\n",
      "2025-08-02 15:13:45.509 | DEBUG    | src.backtesting.backtest_engine:_execute_trades:216 - BUY 0.18 Bitstamp:BTCUSD @ $107418.00\n",
      "2025-08-02 15:13:45.510 | INFO     | src.strategies.macd_strategy:_generate_signal_for_symbol:140 - MACD zero line bullish crossover for Bitstamp:BTCUSD: MACD=88.5431\n",
      "2025-08-02 15:13:45.521 | INFO     | src.strategies.macd_strategy:_generate_signal_for_symbol:123 - MACD bearish crossover for Bitstamp:BTCUSD: MACD=1768.1838, Signal=1867.2391\n",
      "2025-08-02 15:13:45.521 | DEBUG    | src.backtesting.backtest_engine:_execute_trades:245 - SELL 0.18 Bitstamp:BTCUSD @ $117437.00\n",
      "2025-08-02 15:13:45.529 | INFO     | src.strategies.base_strategy:__init__:34 - Initialized strategy: macd\n",
      "2025-08-02 15:13:45.529 | INFO     | src.strategies.macd_strategy:__init__:54 - MACD Strategy initialized: fast=12, slow=30, signal=9\n",
      "2025-08-02 15:13:45.529 | INFO     | src.backtesting.backtest_engine:run_backtest:53 - Starting backtest from 2023-01-01 to 2023-06-30\n",
      "2025-08-02 15:13:45.529 | INFO     | src.data.data_manager:get_historical_data_standardized:589 - Fetching standardized OHLCV data for ['Bitstamp:BTCUSD'] from 2023-01-01 to 2023-06-30\n",
      "2025-08-02 15:13:45.529 | INFO     | src.data.data_manager:get_historical_data:64 - Fetching historical OHLCV data for ['Bitstamp:BTCUSD'] from 2023-01-01 to 2023-06-30\n",
      "2025-08-02 15:13:45.977 | INFO     | src.data.data_manager:_fetch_tradingview_ohlcv_data:159 - Successfully fetched OHLCV data for 1 symbols\n",
      "2025-08-02 15:13:45.978 | INFO     | src.data.data_manager:get_historical_data:97 - OHLCV data cached successfully\n",
      "2025-08-02 15:13:45.980 | INFO     | src.data.data_manager:ensure_ohlcv_format:500 - Data formatted for Bitstamp:BTCUSD: (100, 5)\n",
      "2025-08-02 15:13:45.981 | INFO     | src.data.data_manager:get_historical_data_standardized:622 - Successfully standardized OHLCV data for 1 symbols\n",
      "2025-08-02 15:13:45.981 | INFO     | src.backtesting.backtest_engine:run_backtest:65 - Running backtest for strategy: macd_test\n",
      "2025-08-02 15:13:45.981 | INFO     | src.strategies.base_strategy:reset:99 - Reset strategy: macd\n",
      "2025-08-02 15:13:45.981 | INFO     | src.risk.risk_manager:__init__:49 - Risk manager initialized\n",
      "2025-08-02 15:13:46.001 | INFO     | src.strategies.macd_strategy:_generate_signal_for_symbol:117 - MACD bullish crossover for Bitstamp:BTCUSD: MACD=1047.5472, Signal=1043.0481\n",
      "2025-08-02 15:13:46.001 | DEBUG    | src.backtesting.backtest_engine:_execute_trades:216 - BUY 0.18 Bitstamp:BTCUSD @ $108678.00\n",
      "2025-08-02 15:13:46.001 | INFO     | src.strategies.macd_strategy:_generate_signal_for_symbol:123 - MACD bearish crossover for Bitstamp:BTCUSD: MACD=961.4765, Signal=1032.8370\n",
      "2025-08-02 15:13:46.001 | DEBUG    | src.backtesting.backtest_engine:_execute_trades:245 - SELL 0.18 Bitstamp:BTCUSD @ $105731.00\n",
      "2025-08-02 15:13:46.007 | INFO     | src.strategies.macd_strategy:_generate_signal_for_symbol:144 - MACD zero line bearish crossover for Bitstamp:BTCUSD: MACD=-47.5904\n",
      "2025-08-02 15:13:46.008 | INFO     | src.strategies.macd_strategy:_generate_signal_for_symbol:140 - MACD zero line bullish crossover for Bitstamp:BTCUSD: MACD=34.5518\n",
      "2025-08-02 15:13:46.008 | DEBUG    | src.backtesting.backtest_engine:_execute_trades:216 - BUY 0.19 Bitstamp:BTCUSD @ $106131.00\n",
      "2025-08-02 15:13:46.011 | INFO     | src.strategies.macd_strategy:_generate_signal_for_symbol:117 - MACD bullish crossover for Bitstamp:BTCUSD: MACD=435.4509, Signal=371.6175\n",
      "2025-08-02 15:13:46.026 | INFO     | src.strategies.macd_strategy:_generate_signal_for_symbol:123 - MACD bearish crossover for Bitstamp:BTCUSD: MACD=2661.2953, Signal=2705.2155\n",
      "2025-08-02 15:13:46.026 | DEBUG    | src.backtesting.backtest_engine:_execute_trades:245 - SELL 0.19 Bitstamp:BTCUSD @ $117834.00\n",
      "2025-08-02 15:13:46.030 | INFO     | src.strategies.base_strategy:__init__:34 - Initialized strategy: macd\n",
      "2025-08-02 15:13:46.030 | INFO     | src.strategies.macd_strategy:__init__:54 - MACD Strategy initialized: fast=10, slow=26, signal=9\n",
      "2025-08-02 15:13:46.030 | INFO     | src.backtesting.backtest_engine:run_backtest:53 - Starting backtest from 2023-01-01 to 2023-06-30\n",
      "2025-08-02 15:13:46.030 | INFO     | src.data.data_manager:get_historical_data_standardized:589 - Fetching standardized OHLCV data for ['Bitstamp:BTCUSD'] from 2023-01-01 to 2023-06-30\n",
      "2025-08-02 15:13:46.030 | INFO     | src.data.data_manager:get_historical_data:64 - Fetching historical OHLCV data for ['Bitstamp:BTCUSD'] from 2023-01-01 to 2023-06-30\n",
      "2025-08-02 15:13:46.470 | INFO     | src.data.data_manager:_fetch_tradingview_ohlcv_data:159 - Successfully fetched OHLCV data for 1 symbols\n",
      "2025-08-02 15:13:46.471 | INFO     | src.data.data_manager:get_historical_data:97 - OHLCV data cached successfully\n",
      "2025-08-02 15:13:46.473 | INFO     | src.data.data_manager:ensure_ohlcv_format:500 - Data formatted for Bitstamp:BTCUSD: (100, 5)\n",
      "2025-08-02 15:13:46.474 | INFO     | src.data.data_manager:get_historical_data_standardized:622 - Successfully standardized OHLCV data for 1 symbols\n",
      "2025-08-02 15:13:46.474 | INFO     | src.backtesting.backtest_engine:run_backtest:65 - Running backtest for strategy: macd_test\n",
      "2025-08-02 15:13:46.474 | INFO     | src.strategies.base_strategy:reset:99 - Reset strategy: macd\n",
      "2025-08-02 15:13:46.474 | INFO     | src.risk.risk_manager:__init__:49 - Risk manager initialized\n",
      "2025-08-02 15:13:46.494 | INFO     | src.strategies.macd_strategy:_generate_signal_for_symbol:117 - MACD bullish crossover for Bitstamp:BTCUSD: MACD=1678.9498, Signal=1557.4677\n",
      "2025-08-02 15:13:46.495 | DEBUG    | src.backtesting.backtest_engine:_execute_trades:216 - BUY 0.18 Bitstamp:BTCUSD @ $110292.00\n",
      "2025-08-02 15:13:46.496 | INFO     | src.strategies.macd_strategy:_generate_signal_for_symbol:123 - MACD bearish crossover for Bitstamp:BTCUSD: MACD=1531.6672, Signal=1582.8622\n",
      "2025-08-02 15:13:46.496 | DEBUG    | src.backtesting.backtest_engine:_execute_trades:245 - SELL 0.18 Bitstamp:BTCUSD @ $105731.00\n",
      "2025-08-02 15:13:46.501 | INFO     | src.strategies.macd_strategy:_generate_signal_for_symbol:144 - MACD zero line bearish crossover for Bitstamp:BTCUSD: MACD=-50.9442\n",
      "2025-08-02 15:13:46.504 | INFO     | src.strategies.macd_strategy:_generate_signal_for_symbol:140 - MACD zero line bullish crossover for Bitstamp:BTCUSD: MACD=235.3060\n",
      "2025-08-02 15:13:46.504 | DEBUG    | src.backtesting.backtest_engine:_execute_trades:216 - BUY 0.19 Bitstamp:BTCUSD @ $107004.00\n",
      "2025-08-02 15:13:46.504 | INFO     | src.strategies.macd_strategy:_generate_signal_for_symbol:117 - MACD bullish crossover for Bitstamp:BTCUSD: MACD=437.0743, Signal=273.8039\n",
      "2025-08-02 15:13:46.518 | INFO     | src.strategies.macd_strategy:_generate_signal_for_symbol:123 - MACD bearish crossover for Bitstamp:BTCUSD: MACD=4497.7528, Signal=4672.4283\n",
      "2025-08-02 15:13:46.518 | DEBUG    | src.backtesting.backtest_engine:_execute_trades:245 - SELL 0.19 Bitstamp:BTCUSD @ $117962.00\n",
      "2025-08-02 15:13:46.525 | INFO     | src.strategies.base_strategy:__init__:34 - Initialized strategy: macd\n",
      "2025-08-02 15:13:46.525 | INFO     | src.strategies.macd_strategy:__init__:54 - MACD Strategy initialized: fast=10, slow=26, signal=12\n",
      "2025-08-02 15:13:46.525 | INFO     | src.backtesting.backtest_engine:run_backtest:53 - Starting backtest from 2023-01-01 to 2023-06-30\n",
      "2025-08-02 15:13:46.525 | INFO     | src.data.data_manager:get_historical_data_standardized:589 - Fetching standardized OHLCV data for ['Bitstamp:BTCUSD'] from 2023-01-01 to 2023-06-30\n",
      "2025-08-02 15:13:46.525 | INFO     | src.data.data_manager:get_historical_data:64 - Fetching historical OHLCV data for ['Bitstamp:BTCUSD'] from 2023-01-01 to 2023-06-30\n",
      "2025-08-02 15:13:46.978 | INFO     | src.data.data_manager:_fetch_tradingview_ohlcv_data:159 - Successfully fetched OHLCV data for 1 symbols\n",
      "2025-08-02 15:13:46.979 | INFO     | src.data.data_manager:get_historical_data:97 - OHLCV data cached successfully\n",
      "2025-08-02 15:13:46.981 | INFO     | src.data.data_manager:ensure_ohlcv_format:500 - Data formatted for Bitstamp:BTCUSD: (100, 5)\n",
      "2025-08-02 15:13:46.982 | INFO     | src.data.data_manager:get_historical_data_standardized:622 - Successfully standardized OHLCV data for 1 symbols\n",
      "2025-08-02 15:13:46.982 | INFO     | src.backtesting.backtest_engine:run_backtest:65 - Running backtest for strategy: macd_test\n",
      "2025-08-02 15:13:46.982 | INFO     | src.strategies.base_strategy:reset:99 - Reset strategy: macd\n",
      "2025-08-02 15:13:46.982 | INFO     | src.risk.risk_manager:__init__:49 - Risk manager initialized\n",
      "2025-08-02 15:13:46.998 | INFO     | src.strategies.macd_strategy:_generate_signal_for_symbol:123 - MACD bearish crossover for Bitstamp:BTCUSD: MACD=1018.9645, Signal=1062.6363\n",
      "2025-08-02 15:13:47.005 | INFO     | src.strategies.macd_strategy:_generate_signal_for_symbol:117 - MACD bullish crossover for Bitstamp:BTCUSD: MACD=552.6454, Signal=488.5627\n",
      "2025-08-02 15:13:47.005 | DEBUG    | src.backtesting.backtest_engine:_execute_trades:216 - BUY 0.18 Bitstamp:BTCUSD @ $110292.00\n",
      "2025-08-02 15:13:47.007 | INFO     | src.strategies.macd_strategy:_generate_signal_for_symbol:123 - MACD bearish crossover for Bitstamp:BTCUSD: MACD=484.3307, Signal=508.5021\n",
      "2025-08-02 15:13:47.007 | DEBUG    | src.backtesting.backtest_engine:_execute_trades:245 - SELL 0.18 Bitstamp:BTCUSD @ $106118.00\n",
      "2025-08-02 15:13:47.011 | INFO     | src.strategies.macd_strategy:_generate_signal_for_symbol:144 - MACD zero line bearish crossover for Bitstamp:BTCUSD: MACD=-8.1516\n",
      "2025-08-02 15:13:47.014 | INFO     | src.strategies.macd_strategy:_generate_signal_for_symbol:140 - MACD zero line bullish crossover for Bitstamp:BTCUSD: MACD=9.5283\n",
      "2025-08-02 15:13:47.014 | DEBUG    | src.backtesting.backtest_engine:_execute_trades:216 - BUY 0.18 Bitstamp:BTCUSD @ $107418.00\n",
      "2025-08-02 15:13:47.014 | INFO     | src.strategies.macd_strategy:_generate_signal_for_symbol:117 - MACD bullish crossover for Bitstamp:BTCUSD: MACD=60.6151, Signal=32.4477\n",
      "2025-08-02 15:13:47.028 | INFO     | src.strategies.macd_strategy:_generate_signal_for_symbol:123 - MACD bearish crossover for Bitstamp:BTCUSD: MACD=1681.5535, Signal=1718.1670\n",
      "2025-08-02 15:13:47.028 | DEBUG    | src.backtesting.backtest_engine:_execute_trades:245 - SELL 0.18 Bitstamp:BTCUSD @ $117653.00\n",
      "2025-08-02 15:13:47.035 | INFO     | src.strategies.base_strategy:__init__:34 - Initialized strategy: macd\n",
      "2025-08-02 15:13:47.035 | INFO     | src.strategies.macd_strategy:__init__:54 - MACD Strategy initialized: fast=12, slow=40, signal=7\n",
      "2025-08-02 15:13:47.035 | INFO     | src.backtesting.backtest_engine:run_backtest:53 - Starting backtest from 2023-01-01 to 2023-06-30\n",
      "2025-08-02 15:13:47.035 | INFO     | src.data.data_manager:get_historical_data_standardized:589 - Fetching standardized OHLCV data for ['Bitstamp:BTCUSD'] from 2023-01-01 to 2023-06-30\n",
      "2025-08-02 15:13:47.035 | INFO     | src.data.data_manager:get_historical_data:64 - Fetching historical OHLCV data for ['Bitstamp:BTCUSD'] from 2023-01-01 to 2023-06-30\n",
      "2025-08-02 15:13:47.483 | INFO     | src.data.data_manager:_fetch_tradingview_ohlcv_data:159 - Successfully fetched OHLCV data for 1 symbols\n",
      "2025-08-02 15:13:47.484 | INFO     | src.data.data_manager:get_historical_data:97 - OHLCV data cached successfully\n",
      "2025-08-02 15:13:47.486 | INFO     | src.data.data_manager:ensure_ohlcv_format:500 - Data formatted for Bitstamp:BTCUSD: (100, 5)\n",
      "2025-08-02 15:13:47.487 | INFO     | src.data.data_manager:get_historical_data_standardized:622 - Successfully standardized OHLCV data for 1 symbols\n",
      "2025-08-02 15:13:47.487 | INFO     | src.backtesting.backtest_engine:run_backtest:65 - Running backtest for strategy: macd_test\n",
      "2025-08-02 15:13:47.487 | INFO     | src.strategies.base_strategy:reset:99 - Reset strategy: macd\n",
      "2025-08-02 15:13:47.487 | INFO     | src.risk.risk_manager:__init__:49 - Risk manager initialized\n",
      "2025-08-02 15:13:47.503 | INFO     | src.strategies.macd_strategy:_generate_signal_for_symbol:123 - MACD bearish crossover for Bitstamp:BTCUSD: MACD=2107.6942, Signal=2369.2672\n",
      "2025-08-02 15:13:47.510 | INFO     | src.strategies.macd_strategy:_generate_signal_for_symbol:117 - MACD bullish crossover for Bitstamp:BTCUSD: MACD=1056.5811, Signal=824.0477\n",
      "2025-08-02 15:13:47.510 | DEBUG    | src.backtesting.backtest_engine:_execute_trades:216 - BUY 0.18 Bitstamp:BTCUSD @ $110292.00\n",
      "2025-08-02 15:13:47.512 | INFO     | src.strategies.macd_strategy:_generate_signal_for_symbol:123 - MACD bearish crossover for Bitstamp:BTCUSD: MACD=842.7719, Signal=893.3581\n",
      "2025-08-02 15:13:47.512 | DEBUG    | src.backtesting.backtest_engine:_execute_trades:245 - SELL 0.18 Bitstamp:BTCUSD @ $106118.00\n",
      "2025-08-02 15:13:47.516 | INFO     | src.strategies.macd_strategy:_generate_signal_for_symbol:144 - MACD zero line bearish crossover for Bitstamp:BTCUSD: MACD=-124.1869\n",
      "2025-08-02 15:13:47.519 | INFO     | src.strategies.macd_strategy:_generate_signal_for_symbol:117 - MACD bullish crossover for Bitstamp:BTCUSD: MACD=-121.6804, Signal=-146.4425\n",
      "2025-08-02 15:13:47.519 | DEBUG    | src.backtesting.backtest_engine:_execute_trades:216 - BUY 0.18 Bitstamp:BTCUSD @ $107418.00\n",
      "2025-08-02 15:13:47.520 | INFO     | src.strategies.macd_strategy:_generate_signal_for_symbol:140 - MACD zero line bullish crossover for Bitstamp:BTCUSD: MACD=50.6063\n",
      "2025-08-02 15:13:47.533 | INFO     | src.strategies.macd_strategy:_generate_signal_for_symbol:123 - MACD bearish crossover for Bitstamp:BTCUSD: MACD=3345.3333, Signal=3464.0804\n",
      "2025-08-02 15:13:47.533 | DEBUG    | src.backtesting.backtest_engine:_execute_trades:245 - SELL 0.18 Bitstamp:BTCUSD @ $118347.00\n",
      "2025-08-02 15:13:47.540 | INFO     | src.strategies.base_strategy:__init__:34 - Initialized strategy: macd\n",
      "2025-08-02 15:13:47.540 | INFO     | src.strategies.macd_strategy:__init__:54 - MACD Strategy initialized: fast=8, slow=40, signal=7\n",
      "2025-08-02 15:13:47.540 | INFO     | src.backtesting.backtest_engine:run_backtest:53 - Starting backtest from 2023-01-01 to 2023-06-30\n",
      "2025-08-02 15:13:47.540 | INFO     | src.data.data_manager:get_historical_data_standardized:589 - Fetching standardized OHLCV data for ['Bitstamp:BTCUSD'] from 2023-01-01 to 2023-06-30\n",
      "2025-08-02 15:13:47.540 | INFO     | src.data.data_manager:get_historical_data:64 - Fetching historical OHLCV data for ['Bitstamp:BTCUSD'] from 2023-01-01 to 2023-06-30\n",
      "2025-08-02 15:13:47.974 | INFO     | src.data.data_manager:_fetch_tradingview_ohlcv_data:159 - Successfully fetched OHLCV data for 1 symbols\n",
      "2025-08-02 15:13:47.975 | INFO     | src.data.data_manager:get_historical_data:97 - OHLCV data cached successfully\n",
      "2025-08-02 15:13:47.977 | INFO     | src.data.data_manager:ensure_ohlcv_format:500 - Data formatted for Bitstamp:BTCUSD: (100, 5)\n",
      "2025-08-02 15:13:47.978 | INFO     | src.data.data_manager:get_historical_data_standardized:622 - Successfully standardized OHLCV data for 1 symbols\n",
      "2025-08-02 15:13:47.978 | INFO     | src.backtesting.backtest_engine:run_backtest:65 - Running backtest for strategy: macd_test\n",
      "2025-08-02 15:13:47.978 | INFO     | src.strategies.base_strategy:reset:99 - Reset strategy: macd\n",
      "2025-08-02 15:13:47.978 | INFO     | src.risk.risk_manager:__init__:49 - Risk manager initialized\n",
      "2025-08-02 15:13:47.994 | INFO     | src.strategies.macd_strategy:_generate_signal_for_symbol:123 - MACD bearish crossover for Bitstamp:BTCUSD: MACD=2418.3332, Signal=2524.5079\n",
      "2025-08-02 15:13:48.000 | INFO     | src.strategies.macd_strategy:_generate_signal_for_symbol:144 - MACD zero line bearish crossover for Bitstamp:BTCUSD: MACD=-47.4127\n",
      "2025-08-02 15:13:48.001 | INFO     | src.strategies.macd_strategy:_generate_signal_for_symbol:140 - MACD zero line bullish crossover for Bitstamp:BTCUSD: MACD=27.3015\n",
      "2025-08-02 15:13:48.001 | DEBUG    | src.backtesting.backtest_engine:_execute_trades:216 - BUY 0.19 Bitstamp:BTCUSD @ $105619.00\n",
      "2025-08-02 15:13:48.002 | INFO     | src.strategies.macd_strategy:_generate_signal_for_symbol:117 - MACD bullish crossover for Bitstamp:BTCUSD: MACD=633.1859, Signal=553.0121\n",
      "2025-08-02 15:13:48.004 | INFO     | src.strategies.macd_strategy:_generate_signal_for_symbol:123 - MACD bearish crossover for Bitstamp:BTCUSD: MACD=739.1252, Signal=767.9765\n",
      "2025-08-02 15:13:48.004 | DEBUG    | src.backtesting.backtest_engine:_execute_trades:245 - SELL 0.19 Bitstamp:BTCUSD @ $106118.00\n",
      "2025-08-02 15:13:48.007 | INFO     | src.strategies.macd_strategy:_generate_signal_for_symbol:144 - MACD zero line bearish crossover for Bitstamp:BTCUSD: MACD=-87.3248\n",
      "2025-08-02 15:13:48.010 | INFO     | src.strategies.macd_strategy:_generate_signal_for_symbol:117 - MACD bullish crossover for Bitstamp:BTCUSD: MACD=-165.1344, Signal=-300.0875\n",
      "2025-08-02 15:13:48.010 | DEBUG    | src.backtesting.backtest_engine:_execute_trades:216 - BUY 0.19 Bitstamp:BTCUSD @ $107418.00\n",
      "2025-08-02 15:13:48.011 | INFO     | src.strategies.macd_strategy:_generate_signal_for_symbol:140 - MACD zero line bullish crossover for Bitstamp:BTCUSD: MACD=48.3648\n",
      "2025-08-02 15:13:48.022 | INFO     | src.strategies.macd_strategy:_generate_signal_for_symbol:123 - MACD bearish crossover for Bitstamp:BTCUSD: MACD=3312.8534, Signal=3458.6266\n",
      "2025-08-02 15:13:48.023 | DEBUG    | src.backtesting.backtest_engine:_execute_trades:245 - SELL 0.19 Bitstamp:BTCUSD @ $117437.00\n",
      "2025-08-02 15:13:48.031 | INFO     | src.strategies.base_strategy:__init__:34 - Initialized strategy: macd\n",
      "2025-08-02 15:13:48.031 | INFO     | src.strategies.macd_strategy:__init__:54 - MACD Strategy initialized: fast=15, slow=26, signal=7\n",
      "2025-08-02 15:13:48.031 | INFO     | src.backtesting.backtest_engine:run_backtest:53 - Starting backtest from 2023-01-01 to 2023-06-30\n",
      "2025-08-02 15:13:48.031 | INFO     | src.data.data_manager:get_historical_data_standardized:589 - Fetching standardized OHLCV data for ['Bitstamp:BTCUSD'] from 2023-01-01 to 2023-06-30\n",
      "2025-08-02 15:13:48.031 | INFO     | src.data.data_manager:get_historical_data:64 - Fetching historical OHLCV data for ['Bitstamp:BTCUSD'] from 2023-01-01 to 2023-06-30\n",
      "\u001b[32m2025-08-02 15:13:48.032\u001b[0m | \u001b[1mINFO    \u001b[0m | \u001b[36msrc.optimization.optimizer\u001b[0m:\u001b[36m_optimize_parallel\u001b[0m:\u001b[36m149\u001b[0m - \u001b[1mCompleted 20/50 combinations\u001b[0m\n",
      "2025-08-02 15:13:48.468 | INFO     | src.data.data_manager:_fetch_tradingview_ohlcv_data:159 - Successfully fetched OHLCV data for 1 symbols\n",
      "2025-08-02 15:13:48.469 | INFO     | src.data.data_manager:get_historical_data:97 - OHLCV data cached successfully\n",
      "2025-08-02 15:13:48.471 | INFO     | src.data.data_manager:ensure_ohlcv_format:500 - Data formatted for Bitstamp:BTCUSD: (100, 5)\n",
      "2025-08-02 15:13:48.472 | INFO     | src.data.data_manager:get_historical_data_standardized:622 - Successfully standardized OHLCV data for 1 symbols\n",
      "2025-08-02 15:13:48.472 | INFO     | src.backtesting.backtest_engine:run_backtest:65 - Running backtest for strategy: macd_test\n",
      "2025-08-02 15:13:48.472 | INFO     | src.strategies.base_strategy:reset:99 - Reset strategy: macd\n",
      "2025-08-02 15:13:48.472 | INFO     | src.risk.risk_manager:__init__:49 - Risk manager initialized\n",
      "2025-08-02 15:13:48.489 | INFO     | src.strategies.macd_strategy:_generate_signal_for_symbol:123 - MACD bearish crossover for Bitstamp:BTCUSD: MACD=2418.3332, Signal=2433.8142\n",
      "2025-08-02 15:13:48.494 | INFO     | src.strategies.macd_strategy:_generate_signal_for_symbol:144 - MACD zero line bearish crossover for Bitstamp:BTCUSD: MACD=-47.4127\n",
      "2025-08-02 15:13:48.495 | INFO     | src.strategies.macd_strategy:_generate_signal_for_symbol:140 - MACD zero line bullish crossover for Bitstamp:BTCUSD: MACD=27.3015\n",
      "2025-08-02 15:13:48.495 | DEBUG    | src.backtesting.backtest_engine:_execute_trades:216 - BUY 0.19 Bitstamp:BTCUSD @ $105619.00\n",
      "2025-08-02 15:13:48.497 | INFO     | src.strategies.macd_strategy:_generate_signal_for_symbol:117 - MACD bullish crossover for Bitstamp:BTCUSD: MACD=1025.2812, Signal=769.9054\n",
      "2025-08-02 15:13:48.499 | INFO     | src.strategies.macd_strategy:_generate_signal_for_symbol:123 - MACD bearish crossover for Bitstamp:BTCUSD: MACD=739.1252, Signal=821.8306\n",
      "2025-08-02 15:13:48.499 | DEBUG    | src.backtesting.backtest_engine:_execute_trades:245 - SELL 0.19 Bitstamp:BTCUSD @ $106118.00\n",
      "2025-08-02 15:13:48.503 | INFO     | src.strategies.macd_strategy:_generate_signal_for_symbol:144 - MACD zero line bearish crossover for Bitstamp:BTCUSD: MACD=-87.3248\n",
      "2025-08-02 15:13:48.506 | INFO     | src.strategies.macd_strategy:_generate_signal_for_symbol:117 - MACD bullish crossover for Bitstamp:BTCUSD: MACD=-165.1344, Signal=-184.1699\n",
      "2025-08-02 15:13:48.506 | DEBUG    | src.backtesting.backtest_engine:_execute_trades:216 - BUY 0.19 Bitstamp:BTCUSD @ $107418.00\n",
      "2025-08-02 15:13:48.506 | INFO     | src.strategies.macd_strategy:_generate_signal_for_symbol:140 - MACD zero line bullish crossover for Bitstamp:BTCUSD: MACD=48.3648\n",
      "2025-08-02 15:13:48.519 | INFO     | src.strategies.macd_strategy:_generate_signal_for_symbol:123 - MACD bearish crossover for Bitstamp:BTCUSD: MACD=3246.8465, Signal=3271.1513\n",
      "2025-08-02 15:13:48.519 | DEBUG    | src.backtesting.backtest_engine:_execute_trades:245 - SELL 0.19 Bitstamp:BTCUSD @ $118813.00\n",
      "2025-08-02 15:13:48.526 | INFO     | src.strategies.base_strategy:__init__:34 - Initialized strategy: macd\n",
      "2025-08-02 15:13:48.526 | INFO     | src.strategies.macd_strategy:__init__:54 - MACD Strategy initialized: fast=15, slow=20, signal=15\n",
      "2025-08-02 15:13:48.526 | INFO     | src.backtesting.backtest_engine:run_backtest:53 - Starting backtest from 2023-01-01 to 2023-06-30\n",
      "2025-08-02 15:13:48.526 | INFO     | src.data.data_manager:get_historical_data_standardized:589 - Fetching standardized OHLCV data for ['Bitstamp:BTCUSD'] from 2023-01-01 to 2023-06-30\n",
      "2025-08-02 15:13:48.526 | INFO     | src.data.data_manager:get_historical_data:64 - Fetching historical OHLCV data for ['Bitstamp:BTCUSD'] from 2023-01-01 to 2023-06-30\n",
      "2025-08-02 15:13:48.970 | INFO     | src.data.data_manager:_fetch_tradingview_ohlcv_data:159 - Successfully fetched OHLCV data for 1 symbols\n",
      "2025-08-02 15:13:48.971 | INFO     | src.data.data_manager:get_historical_data:97 - OHLCV data cached successfully\n",
      "2025-08-02 15:13:48.973 | INFO     | src.data.data_manager:ensure_ohlcv_format:500 - Data formatted for Bitstamp:BTCUSD: (100, 5)\n",
      "2025-08-02 15:13:48.974 | INFO     | src.data.data_manager:get_historical_data_standardized:622 - Successfully standardized OHLCV data for 1 symbols\n",
      "2025-08-02 15:13:48.974 | INFO     | src.backtesting.backtest_engine:run_backtest:65 - Running backtest for strategy: macd_test\n",
      "2025-08-02 15:13:48.974 | INFO     | src.strategies.base_strategy:reset:99 - Reset strategy: macd\n",
      "2025-08-02 15:13:48.974 | INFO     | src.risk.risk_manager:__init__:49 - Risk manager initialized\n",
      "2025-08-02 15:13:48.993 | INFO     | src.strategies.macd_strategy:_generate_signal_for_symbol:117 - MACD bullish crossover for Bitstamp:BTCUSD: MACD=1137.4477, Signal=1064.5650\n",
      "2025-08-02 15:13:48.993 | DEBUG    | src.backtesting.backtest_engine:_execute_trades:216 - BUY 0.18 Bitstamp:BTCUSD @ $110307.00\n",
      "2025-08-02 15:13:48.996 | INFO     | src.strategies.macd_strategy:_generate_signal_for_symbol:123 - MACD bearish crossover for Bitstamp:BTCUSD: MACD=1257.9977, Signal=1299.9224\n",
      "2025-08-02 15:13:48.996 | DEBUG    | src.backtesting.backtest_engine:_execute_trades:245 - SELL 0.18 Bitstamp:BTCUSD @ $106118.00\n",
      "2025-08-02 15:13:49.001 | INFO     | src.strategies.macd_strategy:_generate_signal_for_symbol:144 - MACD zero line bearish crossover for Bitstamp:BTCUSD: MACD=-246.0479\n",
      "2025-08-02 15:13:49.003 | INFO     | src.strategies.macd_strategy:_generate_signal_for_symbol:117 - MACD bullish crossover for Bitstamp:BTCUSD: MACD=6.6269, Signal=-66.4589\n",
      "2025-08-02 15:13:49.003 | DEBUG    | src.backtesting.backtest_engine:_execute_trades:216 - BUY 0.18 Bitstamp:BTCUSD @ $107418.00\n",
      "2025-08-02 15:13:49.017 | INFO     | src.strategies.macd_strategy:_generate_signal_for_symbol:123 - MACD bearish crossover for Bitstamp:BTCUSD: MACD=4657.9141, Signal=4752.1524\n",
      "2025-08-02 15:13:49.017 | DEBUG    | src.backtesting.backtest_engine:_execute_trades:245 - SELL 0.18 Bitstamp:BTCUSD @ $118347.00\n",
      "2025-08-02 15:13:49.024 | INFO     | src.strategies.base_strategy:__init__:34 - Initialized strategy: macd\n",
      "2025-08-02 15:13:49.024 | INFO     | src.strategies.macd_strategy:__init__:54 - MACD Strategy initialized: fast=10, slow=20, signal=12\n",
      "2025-08-02 15:13:49.024 | INFO     | src.backtesting.backtest_engine:run_backtest:53 - Starting backtest from 2023-01-01 to 2023-06-30\n",
      "2025-08-02 15:13:49.024 | INFO     | src.data.data_manager:get_historical_data_standardized:589 - Fetching standardized OHLCV data for ['Bitstamp:BTCUSD'] from 2023-01-01 to 2023-06-30\n",
      "2025-08-02 15:13:49.024 | INFO     | src.data.data_manager:get_historical_data:64 - Fetching historical OHLCV data for ['Bitstamp:BTCUSD'] from 2023-01-01 to 2023-06-30\n",
      "2025-08-02 15:13:49.468 | INFO     | src.data.data_manager:_fetch_tradingview_ohlcv_data:159 - Successfully fetched OHLCV data for 1 symbols\n",
      "2025-08-02 15:13:49.469 | INFO     | src.data.data_manager:get_historical_data:97 - OHLCV data cached successfully\n",
      "2025-08-02 15:13:49.471 | INFO     | src.data.data_manager:ensure_ohlcv_format:500 - Data formatted for Bitstamp:BTCUSD: (100, 5)\n",
      "2025-08-02 15:13:49.471 | INFO     | src.data.data_manager:get_historical_data_standardized:622 - Successfully standardized OHLCV data for 1 symbols\n",
      "2025-08-02 15:13:49.471 | INFO     | src.backtesting.backtest_engine:run_backtest:65 - Running backtest for strategy: macd_test\n",
      "2025-08-02 15:13:49.472 | INFO     | src.strategies.base_strategy:reset:99 - Reset strategy: macd\n",
      "2025-08-02 15:13:49.472 | INFO     | src.risk.risk_manager:__init__:49 - Risk manager initialized\n",
      "2025-08-02 15:13:49.490 | INFO     | src.strategies.macd_strategy:_generate_signal_for_symbol:117 - MACD bullish crossover for Bitstamp:BTCUSD: MACD=1341.3581, Signal=970.2850\n",
      "2025-08-02 15:13:49.491 | DEBUG    | src.backtesting.backtest_engine:_execute_trades:216 - BUY 0.18 Bitstamp:BTCUSD @ $110307.00\n",
      "2025-08-02 15:13:49.493 | INFO     | src.strategies.macd_strategy:_generate_signal_for_symbol:123 - MACD bearish crossover for Bitstamp:BTCUSD: MACD=1435.0388, Signal=1483.7161\n",
      "2025-08-02 15:13:49.493 | DEBUG    | src.backtesting.backtest_engine:_execute_trades:245 - SELL 0.18 Bitstamp:BTCUSD @ $106118.00\n",
      "2025-08-02 15:13:49.497 | INFO     | src.strategies.macd_strategy:_generate_signal_for_symbol:144 - MACD zero line bearish crossover for Bitstamp:BTCUSD: MACD=-250.0540\n",
      "2025-08-02 15:13:49.500 | INFO     | src.strategies.macd_strategy:_generate_signal_for_symbol:117 - MACD bullish crossover for Bitstamp:BTCUSD: MACD=23.2321, Signal=-301.0483\n",
      "2025-08-02 15:13:49.500 | DEBUG    | src.backtesting.backtest_engine:_execute_trades:216 - BUY 0.18 Bitstamp:BTCUSD @ $107418.00\n",
      "2025-08-02 15:13:49.512 | INFO     | src.strategies.macd_strategy:_generate_signal_for_symbol:123 - MACD bearish crossover for Bitstamp:BTCUSD: MACD=5852.1145, Signal=5936.9906\n",
      "2025-08-02 15:13:49.512 | DEBUG    | src.backtesting.backtest_engine:_execute_trades:245 - SELL 0.18 Bitstamp:BTCUSD @ $117339.00\n",
      "2025-08-02 15:13:49.521 | INFO     | src.strategies.base_strategy:__init__:34 - Initialized strategy: macd\n",
      "2025-08-02 15:13:49.521 | INFO     | src.strategies.macd_strategy:__init__:54 - MACD Strategy initialized: fast=15, slow=40, signal=15\n",
      "2025-08-02 15:13:49.521 | INFO     | src.backtesting.backtest_engine:run_backtest:53 - Starting backtest from 2023-01-01 to 2023-06-30\n",
      "2025-08-02 15:13:49.521 | INFO     | src.data.data_manager:get_historical_data_standardized:589 - Fetching standardized OHLCV data for ['Bitstamp:BTCUSD'] from 2023-01-01 to 2023-06-30\n",
      "2025-08-02 15:13:49.521 | INFO     | src.data.data_manager:get_historical_data:64 - Fetching historical OHLCV data for ['Bitstamp:BTCUSD'] from 2023-01-01 to 2023-06-30\n",
      "2025-08-02 15:13:49.972 | INFO     | src.data.data_manager:_fetch_tradingview_ohlcv_data:159 - Successfully fetched OHLCV data for 1 symbols\n",
      "2025-08-02 15:13:49.973 | INFO     | src.data.data_manager:get_historical_data:97 - OHLCV data cached successfully\n",
      "2025-08-02 15:13:49.975 | INFO     | src.data.data_manager:ensure_ohlcv_format:500 - Data formatted for Bitstamp:BTCUSD: (100, 5)\n",
      "2025-08-02 15:13:49.975 | INFO     | src.data.data_manager:get_historical_data_standardized:622 - Successfully standardized OHLCV data for 1 symbols\n",
      "2025-08-02 15:13:49.975 | INFO     | src.backtesting.backtest_engine:run_backtest:65 - Running backtest for strategy: macd_test\n",
      "2025-08-02 15:13:49.975 | INFO     | src.strategies.base_strategy:reset:99 - Reset strategy: macd\n",
      "2025-08-02 15:13:49.976 | INFO     | src.risk.risk_manager:__init__:49 - Risk manager initialized\n",
      "2025-08-02 15:13:49.992 | INFO     | src.strategies.macd_strategy:_generate_signal_for_symbol:123 - MACD bearish crossover for Bitstamp:BTCUSD: MACD=1526.6689, Signal=1534.8522\n",
      "2025-08-02 15:13:50.000 | INFO     | src.strategies.macd_strategy:_generate_signal_for_symbol:117 - MACD bullish crossover for Bitstamp:BTCUSD: MACD=465.0500, Signal=446.0239\n",
      "2025-08-02 15:13:50.000 | DEBUG    | src.backtesting.backtest_engine:_execute_trades:216 - BUY 0.18 Bitstamp:BTCUSD @ $110307.00\n",
      "2025-08-02 15:13:50.002 | INFO     | src.strategies.macd_strategy:_generate_signal_for_symbol:123 - MACD bearish crossover for Bitstamp:BTCUSD: MACD=525.0974, Signal=550.5086\n",
      "2025-08-02 15:13:50.002 | DEBUG    | src.backtesting.backtest_engine:_execute_trades:245 - SELL 0.18 Bitstamp:BTCUSD @ $106118.00\n",
      "2025-08-02 15:13:50.006 | INFO     | src.strategies.macd_strategy:_generate_signal_for_symbol:144 - MACD zero line bearish crossover for Bitstamp:BTCUSD: MACD=-53.4510\n",
      "2025-08-02 15:13:50.008 | INFO     | src.strategies.macd_strategy:_generate_signal_for_symbol:117 - MACD bullish crossover for Bitstamp:BTCUSD: MACD=-92.1658, Signal=-129.7903\n",
      "2025-08-02 15:13:50.008 | DEBUG    | src.backtesting.backtest_engine:_execute_trades:216 - BUY 0.18 Bitstamp:BTCUSD @ $107418.00\n",
      "2025-08-02 15:13:50.009 | INFO     | src.strategies.macd_strategy:_generate_signal_for_symbol:140 - MACD zero line bullish crossover for Bitstamp:BTCUSD: MACD=5.5965\n",
      "2025-08-02 15:13:50.021 | INFO     | src.strategies.macd_strategy:_generate_signal_for_symbol:123 - MACD bearish crossover for Bitstamp:BTCUSD: MACD=2208.5736, Signal=2222.0404\n",
      "2025-08-02 15:13:50.021 | DEBUG    | src.backtesting.backtest_engine:_execute_trades:245 - SELL 0.18 Bitstamp:BTCUSD @ $117437.00\n",
      "2025-08-02 15:13:50.022 | INFO     | src.strategies.macd_strategy:_generate_signal_for_symbol:117 - MACD bullish crossover for Bitstamp:BTCUSD: MACD=2246.1132, Signal=2228.0586\n",
      "2025-08-02 15:13:50.022 | DEBUG    | src.backtesting.backtest_engine:_execute_trades:216 - BUY 0.17 Bitstamp:BTCUSD @ $120011.00\n",
      "2025-08-02 15:13:50.022 | INFO     | src.strategies.macd_strategy:_generate_signal_for_symbol:123 - MACD bearish crossover for Bitstamp:BTCUSD: MACD=2194.8149, Signal=2219.7477\n",
      "2025-08-02 15:13:50.022 | DEBUG    | src.backtesting.backtest_engine:_execute_trades:245 - SELL 0.17 Bitstamp:BTCUSD @ $118813.00\n",
      "2025-08-02 15:13:50.030 | INFO     | src.strategies.base_strategy:__init__:34 - Initialized strategy: macd\n",
      "2025-08-02 15:13:50.030 | INFO     | src.strategies.macd_strategy:__init__:54 - MACD Strategy initialized: fast=8, slow=20, signal=12\n",
      "2025-08-02 15:13:50.030 | INFO     | src.backtesting.backtest_engine:run_backtest:53 - Starting backtest from 2023-01-01 to 2023-06-30\n",
      "2025-08-02 15:13:50.030 | INFO     | src.data.data_manager:get_historical_data_standardized:589 - Fetching standardized OHLCV data for ['Bitstamp:BTCUSD'] from 2023-01-01 to 2023-06-30\n",
      "2025-08-02 15:13:50.030 | INFO     | src.data.data_manager:get_historical_data:64 - Fetching historical OHLCV data for ['Bitstamp:BTCUSD'] from 2023-01-01 to 2023-06-30\n",
      "2025-08-02 15:13:50.479 | INFO     | src.data.data_manager:_fetch_tradingview_ohlcv_data:159 - Successfully fetched OHLCV data for 1 symbols\n",
      "2025-08-02 15:13:50.480 | INFO     | src.data.data_manager:get_historical_data:97 - OHLCV data cached successfully\n",
      "2025-08-02 15:13:50.482 | INFO     | src.data.data_manager:ensure_ohlcv_format:500 - Data formatted for Bitstamp:BTCUSD: (100, 5)\n",
      "2025-08-02 15:13:50.483 | INFO     | src.data.data_manager:get_historical_data_standardized:622 - Successfully standardized OHLCV data for 1 symbols\n",
      "2025-08-02 15:13:50.483 | INFO     | src.backtesting.backtest_engine:run_backtest:65 - Running backtest for strategy: macd_test\n",
      "2025-08-02 15:13:50.483 | INFO     | src.strategies.base_strategy:reset:99 - Reset strategy: macd\n",
      "2025-08-02 15:13:50.483 | INFO     | src.risk.risk_manager:__init__:49 - Risk manager initialized\n",
      "2025-08-02 15:13:50.502 | INFO     | src.strategies.macd_strategy:_generate_signal_for_symbol:123 - MACD bearish crossover for Bitstamp:BTCUSD: MACD=674.6142, Signal=725.0061\n",
      "2025-08-02 15:13:50.509 | INFO     | src.strategies.macd_strategy:_generate_signal_for_symbol:117 - MACD bullish crossover for Bitstamp:BTCUSD: MACD=334.8159, Signal=306.1325\n",
      "2025-08-02 15:13:50.509 | DEBUG    | src.backtesting.backtest_engine:_execute_trades:216 - BUY 0.18 Bitstamp:BTCUSD @ $108678.00\n",
      "2025-08-02 15:13:50.509 | INFO     | src.strategies.macd_strategy:_generate_signal_for_symbol:123 - MACD bearish crossover for Bitstamp:BTCUSD: MACD=272.2004, Signal=301.8849\n",
      "2025-08-02 15:13:50.509 | DEBUG    | src.backtesting.backtest_engine:_execute_trades:245 - SELL 0.18 Bitstamp:BTCUSD @ $105731.00\n",
      "2025-08-02 15:13:50.514 | INFO     | src.strategies.macd_strategy:_generate_signal_for_symbol:144 - MACD zero line bearish crossover for Bitstamp:BTCUSD: MACD=-14.9791\n",
      "2025-08-02 15:13:50.517 | INFO     | src.strategies.macd_strategy:_generate_signal_for_symbol:117 - MACD bullish crossover for Bitstamp:BTCUSD: MACD=-15.1070, Signal=-15.3427\n",
      "2025-08-02 15:13:50.517 | DEBUG    | src.backtesting.backtest_engine:_execute_trades:216 - BUY 0.19 Bitstamp:BTCUSD @ $107004.00\n",
      "2025-08-02 15:13:50.518 | INFO     | src.strategies.macd_strategy:_generate_signal_for_symbol:140 - MACD zero line bullish crossover for Bitstamp:BTCUSD: MACD=35.9543\n",
      "2025-08-02 15:13:50.530 | INFO     | src.strategies.macd_strategy:_generate_signal_for_symbol:123 - MACD bearish crossover for Bitstamp:BTCUSD: MACD=931.1606, Signal=981.3451\n",
      "2025-08-02 15:13:50.531 | DEBUG    | src.backtesting.backtest_engine:_execute_trades:245 - SELL 0.19 Bitstamp:BTCUSD @ $117653.00\n",
      "2025-08-02 15:13:50.537 | INFO     | src.strategies.base_strategy:__init__:34 - Initialized strategy: macd\n",
      "2025-08-02 15:13:50.537 | INFO     | src.strategies.macd_strategy:__init__:54 - MACD Strategy initialized: fast=20, slow=26, signal=12\n",
      "2025-08-02 15:13:50.537 | INFO     | src.backtesting.backtest_engine:run_backtest:53 - Starting backtest from 2023-01-01 to 2023-06-30\n",
      "2025-08-02 15:13:50.537 | INFO     | src.data.data_manager:get_historical_data_standardized:589 - Fetching standardized OHLCV data for ['Bitstamp:BTCUSD'] from 2023-01-01 to 2023-06-30\n",
      "2025-08-02 15:13:50.537 | INFO     | src.data.data_manager:get_historical_data:64 - Fetching historical OHLCV data for ['Bitstamp:BTCUSD'] from 2023-01-01 to 2023-06-30\n",
      "2025-08-02 15:13:50.959 | INFO     | src.data.data_manager:_fetch_tradingview_ohlcv_data:159 - Successfully fetched OHLCV data for 1 symbols\n",
      "2025-08-02 15:13:50.960 | INFO     | src.data.data_manager:get_historical_data:97 - OHLCV data cached successfully\n",
      "2025-08-02 15:13:50.961 | INFO     | src.data.data_manager:ensure_ohlcv_format:500 - Data formatted for Bitstamp:BTCUSD: (100, 5)\n",
      "2025-08-02 15:13:50.961 | INFO     | src.data.data_manager:get_historical_data_standardized:622 - Successfully standardized OHLCV data for 1 symbols\n",
      "2025-08-02 15:13:50.961 | INFO     | src.backtesting.backtest_engine:run_backtest:65 - Running backtest for strategy: macd_test\n",
      "2025-08-02 15:13:50.961 | INFO     | src.strategies.base_strategy:reset:99 - Reset strategy: macd\n",
      "2025-08-02 15:13:50.961 | INFO     | src.risk.risk_manager:__init__:49 - Risk manager initialized\n",
      "2025-08-02 15:13:50.971 | INFO     | src.strategies.macd_strategy:_generate_signal_for_symbol:123 - MACD bearish crossover for Bitstamp:BTCUSD: MACD=1683.3428, Signal=1776.2043\n",
      "2025-08-02 15:13:50.975 | INFO     | src.strategies.macd_strategy:_generate_signal_for_symbol:144 - MACD zero line bearish crossover for Bitstamp:BTCUSD: MACD=-206.8027\n",
      "2025-08-02 15:13:50.978 | INFO     | src.strategies.macd_strategy:_generate_signal_for_symbol:140 - MACD zero line bullish crossover for Bitstamp:BTCUSD: MACD=360.5461\n",
      "2025-08-02 15:13:50.978 | DEBUG    | src.backtesting.backtest_engine:_execute_trades:216 - BUY 0.18 Bitstamp:BTCUSD @ $110307.00\n",
      "2025-08-02 15:13:50.979 | INFO     | src.strategies.macd_strategy:_generate_signal_for_symbol:117 - MACD bullish crossover for Bitstamp:BTCUSD: MACD=682.9286, Signal=424.4074\n",
      "2025-08-02 15:13:50.981 | INFO     | src.strategies.macd_strategy:_generate_signal_for_symbol:123 - MACD bearish crossover for Bitstamp:BTCUSD: MACD=444.7441, Signal=484.7329\n",
      "2025-08-02 15:13:50.981 | DEBUG    | src.backtesting.backtest_engine:_execute_trades:245 - SELL 0.18 Bitstamp:BTCUSD @ $106118.00\n",
      "2025-08-02 15:13:50.984 | INFO     | src.strategies.macd_strategy:_generate_signal_for_symbol:144 - MACD zero line bearish crossover for Bitstamp:BTCUSD: MACD=-84.9298\n",
      "2025-08-02 15:13:50.988 | INFO     | src.strategies.macd_strategy:_generate_signal_for_symbol:117 - MACD bullish crossover for Bitstamp:BTCUSD: MACD=-148.7412, Signal=-232.5042\n",
      "2025-08-02 15:13:50.988 | DEBUG    | src.backtesting.backtest_engine:_execute_trades:216 - BUY 0.18 Bitstamp:BTCUSD @ $107418.00\n",
      "2025-08-02 15:13:50.989 | INFO     | src.strategies.macd_strategy:_generate_signal_for_symbol:140 - MACD zero line bullish crossover for Bitstamp:BTCUSD: MACD=27.6613\n",
      "2025-08-02 15:13:51.002 | INFO     | src.strategies.macd_strategy:_generate_signal_for_symbol:123 - MACD bearish crossover for Bitstamp:BTCUSD: MACD=2192.3369, Signal=2292.5418\n",
      "2025-08-02 15:13:51.002 | DEBUG    | src.backtesting.backtest_engine:_execute_trades:245 - SELL 0.18 Bitstamp:BTCUSD @ $117437.00\n",
      "2025-08-02 15:13:51.011 | INFO     | src.strategies.base_strategy:__init__:34 - Initialized strategy: macd\n",
      "2025-08-02 15:13:51.011 | INFO     | src.strategies.macd_strategy:__init__:54 - MACD Strategy initialized: fast=20, slow=26, signal=9\n",
      "2025-08-02 15:13:51.011 | INFO     | src.backtesting.backtest_engine:run_backtest:53 - Starting backtest from 2023-01-01 to 2023-06-30\n",
      "2025-08-02 15:13:51.011 | INFO     | src.data.data_manager:get_historical_data_standardized:589 - Fetching standardized OHLCV data for ['Bitstamp:BTCUSD'] from 2023-01-01 to 2023-06-30\n",
      "2025-08-02 15:13:51.011 | INFO     | src.data.data_manager:get_historical_data:64 - Fetching historical OHLCV data for ['Bitstamp:BTCUSD'] from 2023-01-01 to 2023-06-30\n",
      "2025-08-02 15:13:51.478 | INFO     | src.data.data_manager:_fetch_tradingview_ohlcv_data:159 - Successfully fetched OHLCV data for 1 symbols\n",
      "2025-08-02 15:13:51.478 | INFO     | src.data.data_manager:get_historical_data:97 - OHLCV data cached successfully\n",
      "2025-08-02 15:13:51.480 | INFO     | src.data.data_manager:ensure_ohlcv_format:500 - Data formatted for Bitstamp:BTCUSD: (100, 5)\n",
      "2025-08-02 15:13:51.481 | INFO     | src.data.data_manager:get_historical_data_standardized:622 - Successfully standardized OHLCV data for 1 symbols\n",
      "2025-08-02 15:13:51.481 | INFO     | src.backtesting.backtest_engine:run_backtest:65 - Running backtest for strategy: macd_test\n",
      "2025-08-02 15:13:51.481 | INFO     | src.strategies.base_strategy:reset:99 - Reset strategy: macd\n",
      "2025-08-02 15:13:51.481 | INFO     | src.risk.risk_manager:__init__:49 - Risk manager initialized\n",
      "2025-08-02 15:13:51.501 | INFO     | src.strategies.macd_strategy:_generate_signal_for_symbol:117 - MACD bullish crossover for Bitstamp:BTCUSD: MACD=1382.3631, Signal=1349.1806\n",
      "2025-08-02 15:13:51.501 | DEBUG    | src.backtesting.backtest_engine:_execute_trades:216 - BUY 0.18 Bitstamp:BTCUSD @ $108678.00\n",
      "2025-08-02 15:13:51.502 | INFO     | src.strategies.macd_strategy:_generate_signal_for_symbol:123 - MACD bearish crossover for Bitstamp:BTCUSD: MACD=1233.6769, Signal=1334.7218\n",
      "2025-08-02 15:13:51.502 | DEBUG    | src.backtesting.backtest_engine:_execute_trades:245 - SELL 0.18 Bitstamp:BTCUSD @ $105731.00\n",
      "2025-08-02 15:13:51.507 | INFO     | src.strategies.macd_strategy:_generate_signal_for_symbol:144 - MACD zero line bearish crossover for Bitstamp:BTCUSD: MACD=-31.8862\n",
      "2025-08-02 15:13:51.509 | INFO     | src.strategies.macd_strategy:_generate_signal_for_symbol:140 - MACD zero line bullish crossover for Bitstamp:BTCUSD: MACD=62.0631\n",
      "2025-08-02 15:13:51.509 | DEBUG    | src.backtesting.backtest_engine:_execute_trades:216 - BUY 0.19 Bitstamp:BTCUSD @ $107418.00\n",
      "2025-08-02 15:13:51.511 | INFO     | src.strategies.macd_strategy:_generate_signal_for_symbol:117 - MACD bullish crossover for Bitstamp:BTCUSD: MACD=418.6473, Signal=365.0995\n",
      "2025-08-02 15:13:51.525 | INFO     | src.strategies.macd_strategy:_generate_signal_for_symbol:123 - MACD bearish crossover for Bitstamp:BTCUSD: MACD=3627.4683, Signal=3637.9109\n",
      "2025-08-02 15:13:51.525 | DEBUG    | src.backtesting.backtest_engine:_execute_trades:245 - SELL 0.19 Bitstamp:BTCUSD @ $118051.00\n",
      "2025-08-02 15:13:51.531 | INFO     | src.strategies.base_strategy:__init__:34 - Initialized strategy: macd\n",
      "2025-08-02 15:13:51.531 | INFO     | src.strategies.macd_strategy:__init__:54 - MACD Strategy initialized: fast=10, slow=26, signal=7\n",
      "2025-08-02 15:13:51.531 | INFO     | src.backtesting.backtest_engine:run_backtest:53 - Starting backtest from 2023-01-01 to 2023-06-30\n",
      "2025-08-02 15:13:51.531 | INFO     | src.data.data_manager:get_historical_data_standardized:589 - Fetching standardized OHLCV data for ['Bitstamp:BTCUSD'] from 2023-01-01 to 2023-06-30\n",
      "2025-08-02 15:13:51.531 | INFO     | src.data.data_manager:get_historical_data:64 - Fetching historical OHLCV data for ['Bitstamp:BTCUSD'] from 2023-01-01 to 2023-06-30\n",
      "2025-08-02 15:13:51.975 | INFO     | src.data.data_manager:_fetch_tradingview_ohlcv_data:159 - Successfully fetched OHLCV data for 1 symbols\n",
      "2025-08-02 15:13:51.976 | INFO     | src.data.data_manager:get_historical_data:97 - OHLCV data cached successfully\n",
      "2025-08-02 15:13:51.978 | INFO     | src.data.data_manager:ensure_ohlcv_format:500 - Data formatted for Bitstamp:BTCUSD: (100, 5)\n",
      "2025-08-02 15:13:51.979 | INFO     | src.data.data_manager:get_historical_data_standardized:622 - Successfully standardized OHLCV data for 1 symbols\n",
      "2025-08-02 15:13:51.979 | INFO     | src.backtesting.backtest_engine:run_backtest:65 - Running backtest for strategy: macd_test\n",
      "2025-08-02 15:13:51.979 | INFO     | src.strategies.base_strategy:reset:99 - Reset strategy: macd\n",
      "2025-08-02 15:13:51.979 | INFO     | src.risk.risk_manager:__init__:49 - Risk manager initialized\n",
      "2025-08-02 15:13:51.997 | INFO     | src.strategies.macd_strategy:_generate_signal_for_symbol:123 - MACD bearish crossover for Bitstamp:BTCUSD: MACD=2000.8322, Signal=2230.8197\n",
      "2025-08-02 15:13:52.002 | INFO     | src.strategies.macd_strategy:_generate_signal_for_symbol:144 - MACD zero line bearish crossover for Bitstamp:BTCUSD: MACD=-488.3934\n",
      "2025-08-02 15:13:52.004 | INFO     | src.strategies.macd_strategy:_generate_signal_for_symbol:117 - MACD bullish crossover for Bitstamp:BTCUSD: MACD=490.3747, Signal=357.3843\n",
      "2025-08-02 15:13:52.004 | DEBUG    | src.backtesting.backtest_engine:_execute_trades:216 - BUY 0.18 Bitstamp:BTCUSD @ $110307.00\n",
      "2025-08-02 15:13:52.006 | INFO     | src.strategies.macd_strategy:_generate_signal_for_symbol:123 - MACD bearish crossover for Bitstamp:BTCUSD: MACD=535.4823, Signal=565.3546\n",
      "2025-08-02 15:13:52.007 | DEBUG    | src.backtesting.backtest_engine:_execute_trades:245 - SELL 0.18 Bitstamp:BTCUSD @ $106118.00\n",
      "2025-08-02 15:13:52.009 | INFO     | src.strategies.macd_strategy:_generate_signal_for_symbol:144 - MACD zero line bearish crossover for Bitstamp:BTCUSD: MACD=-56.3001\n",
      "2025-08-02 15:13:52.012 | INFO     | src.strategies.macd_strategy:_generate_signal_for_symbol:117 - MACD bullish crossover for Bitstamp:BTCUSD: MACD=-114.6035, Signal=-340.2817\n",
      "2025-08-02 15:13:52.013 | DEBUG    | src.backtesting.backtest_engine:_execute_trades:216 - BUY 0.18 Bitstamp:BTCUSD @ $107418.00\n",
      "2025-08-02 15:13:52.013 | INFO     | src.strategies.macd_strategy:_generate_signal_for_symbol:140 - MACD zero line bullish crossover for Bitstamp:BTCUSD: MACD=130.0623\n",
      "2025-08-02 15:13:52.024 | INFO     | src.strategies.macd_strategy:_generate_signal_for_symbol:123 - MACD bearish crossover for Bitstamp:BTCUSD: MACD=2823.1613, Signal=2900.5907\n",
      "2025-08-02 15:13:52.024 | DEBUG    | src.backtesting.backtest_engine:_execute_trades:245 - SELL 0.18 Bitstamp:BTCUSD @ $117339.00\n",
      "2025-08-02 15:13:52.029 | INFO     | src.strategies.macd_strategy:_generate_signal_for_symbol:144 - MACD zero line bearish crossover for Bitstamp:BTCUSD: MACD=-229.0438\n",
      "2025-08-02 15:13:52.032 | INFO     | src.strategies.base_strategy:__init__:34 - Initialized strategy: macd\n",
      "2025-08-02 15:13:52.032 | INFO     | src.strategies.macd_strategy:__init__:54 - MACD Strategy initialized: fast=8, slow=30, signal=15\n",
      "2025-08-02 15:13:52.032 | INFO     | src.backtesting.backtest_engine:run_backtest:53 - Starting backtest from 2023-01-01 to 2023-06-30\n",
      "2025-08-02 15:13:52.032 | INFO     | src.data.data_manager:get_historical_data_standardized:589 - Fetching standardized OHLCV data for ['Bitstamp:BTCUSD'] from 2023-01-01 to 2023-06-30\n",
      "2025-08-02 15:13:52.032 | INFO     | src.data.data_manager:get_historical_data:64 - Fetching historical OHLCV data for ['Bitstamp:BTCUSD'] from 2023-01-01 to 2023-06-30\n",
      "2025-08-02 15:13:52.470 | INFO     | src.data.data_manager:_fetch_tradingview_ohlcv_data:159 - Successfully fetched OHLCV data for 1 symbols\n",
      "2025-08-02 15:13:52.471 | INFO     | src.data.data_manager:get_historical_data:97 - OHLCV data cached successfully\n",
      "2025-08-02 15:13:52.473 | INFO     | src.data.data_manager:ensure_ohlcv_format:500 - Data formatted for Bitstamp:BTCUSD: (100, 5)\n",
      "2025-08-02 15:13:52.473 | INFO     | src.data.data_manager:get_historical_data_standardized:622 - Successfully standardized OHLCV data for 1 symbols\n",
      "2025-08-02 15:13:52.474 | INFO     | src.backtesting.backtest_engine:run_backtest:65 - Running backtest for strategy: macd_test\n",
      "2025-08-02 15:13:52.474 | INFO     | src.strategies.base_strategy:reset:99 - Reset strategy: macd\n",
      "2025-08-02 15:13:52.474 | INFO     | src.risk.risk_manager:__init__:49 - Risk manager initialized\n",
      "2025-08-02 15:13:52.490 | INFO     | src.strategies.macd_strategy:_generate_signal_for_symbol:123 - MACD bearish crossover for Bitstamp:BTCUSD: MACD=572.9325, Signal=645.5272\n",
      "2025-08-02 15:13:52.497 | INFO     | src.strategies.macd_strategy:_generate_signal_for_symbol:117 - MACD bullish crossover for Bitstamp:BTCUSD: MACD=366.0306, Signal=348.6579\n",
      "2025-08-02 15:13:52.497 | DEBUG    | src.backtesting.backtest_engine:_execute_trades:216 - BUY 0.18 Bitstamp:BTCUSD @ $108678.00\n",
      "2025-08-02 15:13:52.498 | INFO     | src.strategies.macd_strategy:_generate_signal_for_symbol:123 - MACD bearish crossover for Bitstamp:BTCUSD: MACD=324.0209, Signal=344.8665\n",
      "2025-08-02 15:13:52.498 | DEBUG    | src.backtesting.backtest_engine:_execute_trades:245 - SELL 0.18 Bitstamp:BTCUSD @ $105731.00\n",
      "2025-08-02 15:13:52.502 | INFO     | src.strategies.macd_strategy:_generate_signal_for_symbol:144 - MACD zero line bearish crossover for Bitstamp:BTCUSD: MACD=-39.4602\n",
      "2025-08-02 15:13:52.505 | INFO     | src.strategies.macd_strategy:_generate_signal_for_symbol:140 - MACD zero line bullish crossover for Bitstamp:BTCUSD: MACD=20.7035\n",
      "2025-08-02 15:13:52.505 | DEBUG    | src.backtesting.backtest_engine:_execute_trades:216 - BUY 0.19 Bitstamp:BTCUSD @ $107004.00\n",
      "2025-08-02 15:13:52.505 | INFO     | src.strategies.macd_strategy:_generate_signal_for_symbol:117 - MACD bullish crossover for Bitstamp:BTCUSD: MACD=53.6459, Signal=45.5544\n",
      "2025-08-02 15:13:52.518 | INFO     | src.strategies.macd_strategy:_generate_signal_for_symbol:123 - MACD bearish crossover for Bitstamp:BTCUSD: MACD=1013.6739, Signal=1028.5483\n",
      "2025-08-02 15:13:52.518 | DEBUG    | src.backtesting.backtest_engine:_execute_trades:245 - SELL 0.19 Bitstamp:BTCUSD @ $117962.00\n",
      "2025-08-02 15:13:52.524 | INFO     | src.strategies.base_strategy:__init__:34 - Initialized strategy: macd\n",
      "2025-08-02 15:13:52.524 | INFO     | src.strategies.macd_strategy:__init__:54 - MACD Strategy initialized: fast=10, slow=30, signal=9\n",
      "2025-08-02 15:13:52.524 | INFO     | src.backtesting.backtest_engine:run_backtest:53 - Starting backtest from 2023-01-01 to 2023-06-30\n",
      "2025-08-02 15:13:52.524 | INFO     | src.data.data_manager:get_historical_data_standardized:589 - Fetching standardized OHLCV data for ['Bitstamp:BTCUSD'] from 2023-01-01 to 2023-06-30\n",
      "2025-08-02 15:13:52.524 | INFO     | src.data.data_manager:get_historical_data:64 - Fetching historical OHLCV data for ['Bitstamp:BTCUSD'] from 2023-01-01 to 2023-06-30\n",
      "2025-08-02 15:13:52.971 | INFO     | src.data.data_manager:_fetch_tradingview_ohlcv_data:159 - Successfully fetched OHLCV data for 1 symbols\n",
      "2025-08-02 15:13:52.972 | INFO     | src.data.data_manager:get_historical_data:97 - OHLCV data cached successfully\n",
      "2025-08-02 15:13:52.973 | INFO     | src.data.data_manager:ensure_ohlcv_format:500 - Data formatted for Bitstamp:BTCUSD: (100, 5)\n",
      "2025-08-02 15:13:52.974 | INFO     | src.data.data_manager:get_historical_data_standardized:622 - Successfully standardized OHLCV data for 1 symbols\n",
      "2025-08-02 15:13:52.974 | INFO     | src.backtesting.backtest_engine:run_backtest:65 - Running backtest for strategy: macd_test\n",
      "2025-08-02 15:13:52.974 | INFO     | src.strategies.base_strategy:reset:99 - Reset strategy: macd\n",
      "2025-08-02 15:13:52.974 | INFO     | src.risk.risk_manager:__init__:49 - Risk manager initialized\n",
      "2025-08-02 15:13:52.991 | INFO     | src.strategies.macd_strategy:_generate_signal_for_symbol:123 - MACD bearish crossover for Bitstamp:BTCUSD: MACD=665.0934, Signal=688.3973\n",
      "2025-08-02 15:13:52.997 | INFO     | src.strategies.macd_strategy:_generate_signal_for_symbol:117 - MACD bullish crossover for Bitstamp:BTCUSD: MACD=342.3525, Signal=315.5818\n",
      "2025-08-02 15:13:52.998 | DEBUG    | src.backtesting.backtest_engine:_execute_trades:216 - BUY 0.18 Bitstamp:BTCUSD @ $110292.00\n",
      "2025-08-02 15:13:52.999 | INFO     | src.strategies.macd_strategy:_generate_signal_for_symbol:123 - MACD bearish crossover for Bitstamp:BTCUSD: MACD=324.0209, Signal=325.3416\n",
      "2025-08-02 15:13:52.999 | DEBUG    | src.backtesting.backtest_engine:_execute_trades:245 - SELL 0.18 Bitstamp:BTCUSD @ $105731.00\n",
      "2025-08-02 15:13:53.003 | INFO     | src.strategies.macd_strategy:_generate_signal_for_symbol:144 - MACD zero line bearish crossover for Bitstamp:BTCUSD: MACD=-39.4602\n",
      "2025-08-02 15:13:53.006 | INFO     | src.strategies.macd_strategy:_generate_signal_for_symbol:117 - MACD bullish crossover for Bitstamp:BTCUSD: MACD=20.7035, Signal=13.2852\n",
      "2025-08-02 15:13:53.006 | DEBUG    | src.backtesting.backtest_engine:_execute_trades:216 - BUY 0.19 Bitstamp:BTCUSD @ $107004.00\n",
      "2025-08-02 15:13:53.019 | INFO     | src.strategies.macd_strategy:_generate_signal_for_symbol:123 - MACD bearish crossover for Bitstamp:BTCUSD: MACD=1053.9164, Signal=1074.8200\n",
      "2025-08-02 15:13:53.019 | DEBUG    | src.backtesting.backtest_engine:_execute_trades:245 - SELL 0.19 Bitstamp:BTCUSD @ $117653.00\n",
      "2025-08-02 15:13:53.025 | INFO     | src.strategies.base_strategy:__init__:34 - Initialized strategy: macd\n",
      "2025-08-02 15:13:53.025 | INFO     | src.strategies.macd_strategy:__init__:54 - MACD Strategy initialized: fast=15, slow=26, signal=12\n",
      "2025-08-02 15:13:53.025 | INFO     | src.backtesting.backtest_engine:run_backtest:53 - Starting backtest from 2023-01-01 to 2023-06-30\n",
      "2025-08-02 15:13:53.025 | INFO     | src.data.data_manager:get_historical_data_standardized:589 - Fetching standardized OHLCV data for ['Bitstamp:BTCUSD'] from 2023-01-01 to 2023-06-30\n",
      "2025-08-02 15:13:53.025 | INFO     | src.data.data_manager:get_historical_data:64 - Fetching historical OHLCV data for ['Bitstamp:BTCUSD'] from 2023-01-01 to 2023-06-30\n",
      "\u001b[32m2025-08-02 15:13:53.026\u001b[0m | \u001b[1mINFO    \u001b[0m | \u001b[36msrc.optimization.optimizer\u001b[0m:\u001b[36m_optimize_parallel\u001b[0m:\u001b[36m149\u001b[0m - \u001b[1mCompleted 30/50 combinations\u001b[0m\n",
      "2025-08-02 15:13:53.463 | INFO     | src.data.data_manager:_fetch_tradingview_ohlcv_data:159 - Successfully fetched OHLCV data for 1 symbols\n",
      "2025-08-02 15:13:53.464 | INFO     | src.data.data_manager:get_historical_data:97 - OHLCV data cached successfully\n",
      "2025-08-02 15:13:53.466 | INFO     | src.data.data_manager:ensure_ohlcv_format:500 - Data formatted for Bitstamp:BTCUSD: (100, 5)\n",
      "2025-08-02 15:13:53.466 | INFO     | src.data.data_manager:get_historical_data_standardized:622 - Successfully standardized OHLCV data for 1 symbols\n",
      "2025-08-02 15:13:53.466 | INFO     | src.backtesting.backtest_engine:run_backtest:65 - Running backtest for strategy: macd_test\n",
      "2025-08-02 15:13:53.466 | INFO     | src.strategies.base_strategy:reset:99 - Reset strategy: macd\n",
      "2025-08-02 15:13:53.466 | INFO     | src.risk.risk_manager:__init__:49 - Risk manager initialized\n",
      "2025-08-02 15:13:53.477 | INFO     | src.strategies.macd_strategy:_generate_signal_for_symbol:123 - MACD bearish crossover for Bitstamp:BTCUSD: MACD=2418.3332, Signal=2568.3788\n",
      "2025-08-02 15:13:53.482 | INFO     | src.strategies.macd_strategy:_generate_signal_for_symbol:144 - MACD zero line bearish crossover for Bitstamp:BTCUSD: MACD=-47.4127\n",
      "2025-08-02 15:13:53.482 | INFO     | src.strategies.macd_strategy:_generate_signal_for_symbol:140 - MACD zero line bullish crossover for Bitstamp:BTCUSD: MACD=27.3015\n",
      "2025-08-02 15:13:53.482 | DEBUG    | src.backtesting.backtest_engine:_execute_trades:216 - BUY 0.19 Bitstamp:BTCUSD @ $105619.00\n",
      "2025-08-02 15:13:53.483 | INFO     | src.strategies.macd_strategy:_generate_signal_for_symbol:117 - MACD bullish crossover for Bitstamp:BTCUSD: MACD=633.1859, Signal=437.7518\n",
      "2025-08-02 15:13:53.485 | INFO     | src.strategies.macd_strategy:_generate_signal_for_symbol:123 - MACD bearish crossover for Bitstamp:BTCUSD: MACD=739.1252, Signal=759.0188\n",
      "2025-08-02 15:13:53.485 | DEBUG    | src.backtesting.backtest_engine:_execute_trades:245 - SELL 0.19 Bitstamp:BTCUSD @ $106118.00\n",
      "2025-08-02 15:13:53.488 | INFO     | src.strategies.macd_strategy:_generate_signal_for_symbol:144 - MACD zero line bearish crossover for Bitstamp:BTCUSD: MACD=-87.3248\n",
      "2025-08-02 15:13:53.490 | INFO     | src.strategies.macd_strategy:_generate_signal_for_symbol:117 - MACD bullish crossover for Bitstamp:BTCUSD: MACD=-165.1344, Signal=-370.8553\n",
      "2025-08-02 15:13:53.490 | DEBUG    | src.backtesting.backtest_engine:_execute_trades:216 - BUY 0.19 Bitstamp:BTCUSD @ $107418.00\n",
      "2025-08-02 15:13:53.490 | INFO     | src.strategies.macd_strategy:_generate_signal_for_symbol:140 - MACD zero line bullish crossover for Bitstamp:BTCUSD: MACD=48.3648\n",
      "2025-08-02 15:13:53.500 | INFO     | src.strategies.macd_strategy:_generate_signal_for_symbol:123 - MACD bearish crossover for Bitstamp:BTCUSD: MACD=3538.3039, Signal=3640.1654\n",
      "2025-08-02 15:13:53.500 | DEBUG    | src.backtesting.backtest_engine:_execute_trades:245 - SELL 0.19 Bitstamp:BTCUSD @ $117339.00\n",
      "2025-08-02 15:13:53.507 | INFO     | src.strategies.base_strategy:__init__:34 - Initialized strategy: macd\n",
      "2025-08-02 15:13:53.507 | INFO     | src.strategies.macd_strategy:__init__:54 - MACD Strategy initialized: fast=12, slow=26, signal=9\n",
      "2025-08-02 15:13:53.507 | INFO     | src.backtesting.backtest_engine:run_backtest:53 - Starting backtest from 2023-01-01 to 2023-06-30\n",
      "2025-08-02 15:13:53.507 | INFO     | src.data.data_manager:get_historical_data_standardized:589 - Fetching standardized OHLCV data for ['Bitstamp:BTCUSD'] from 2023-01-01 to 2023-06-30\n",
      "2025-08-02 15:13:53.507 | INFO     | src.data.data_manager:get_historical_data:64 - Fetching historical OHLCV data for ['Bitstamp:BTCUSD'] from 2023-01-01 to 2023-06-30\n",
      "2025-08-02 15:13:53.970 | INFO     | src.data.data_manager:_fetch_tradingview_ohlcv_data:159 - Successfully fetched OHLCV data for 1 symbols\n",
      "2025-08-02 15:13:53.970 | INFO     | src.data.data_manager:get_historical_data:97 - OHLCV data cached successfully\n",
      "2025-08-02 15:13:53.971 | INFO     | src.data.data_manager:ensure_ohlcv_format:500 - Data formatted for Bitstamp:BTCUSD: (100, 5)\n",
      "2025-08-02 15:13:53.972 | INFO     | src.data.data_manager:get_historical_data_standardized:622 - Successfully standardized OHLCV data for 1 symbols\n",
      "2025-08-02 15:13:53.972 | INFO     | src.backtesting.backtest_engine:run_backtest:65 - Running backtest for strategy: macd_test\n",
      "2025-08-02 15:13:53.972 | INFO     | src.strategies.base_strategy:reset:99 - Reset strategy: macd\n",
      "2025-08-02 15:13:53.972 | INFO     | src.risk.risk_manager:__init__:49 - Risk manager initialized\n",
      "2025-08-02 15:13:53.982 | INFO     | src.strategies.macd_strategy:_generate_signal_for_symbol:123 - MACD bearish crossover for Bitstamp:BTCUSD: MACD=2498.9723, Signal=3019.4417\n",
      "2025-08-02 15:13:53.985 | INFO     | src.strategies.macd_strategy:_generate_signal_for_symbol:144 - MACD zero line bearish crossover for Bitstamp:BTCUSD: MACD=-84.5054\n",
      "2025-08-02 15:13:53.987 | INFO     | src.strategies.macd_strategy:_generate_signal_for_symbol:140 - MACD zero line bullish crossover for Bitstamp:BTCUSD: MACD=12.6718\n",
      "2025-08-02 15:13:53.987 | DEBUG    | src.backtesting.backtest_engine:_execute_trades:216 - BUY 0.19 Bitstamp:BTCUSD @ $105619.00\n",
      "2025-08-02 15:13:53.988 | INFO     | src.strategies.macd_strategy:_generate_signal_for_symbol:117 - MACD bullish crossover for Bitstamp:BTCUSD: MACD=1504.7778, Signal=1151.3155\n",
      "2025-08-02 15:13:53.989 | INFO     | src.strategies.macd_strategy:_generate_signal_for_symbol:123 - MACD bearish crossover for Bitstamp:BTCUSD: MACD=1019.8130, Signal=1193.1909\n",
      "2025-08-02 15:13:53.989 | DEBUG    | src.backtesting.backtest_engine:_execute_trades:245 - SELL 0.19 Bitstamp:BTCUSD @ $106118.00\n",
      "2025-08-02 15:13:53.991 | INFO     | src.strategies.macd_strategy:_generate_signal_for_symbol:144 - MACD zero line bearish crossover for Bitstamp:BTCUSD: MACD=-125.1346\n",
      "2025-08-02 15:13:53.994 | INFO     | src.strategies.macd_strategy:_generate_signal_for_symbol:117 - MACD bullish crossover for Bitstamp:BTCUSD: MACD=190.6775, Signal=-43.0460\n",
      "2025-08-02 15:13:53.994 | DEBUG    | src.backtesting.backtest_engine:_execute_trades:216 - BUY 0.19 Bitstamp:BTCUSD @ $107004.00\n",
      "2025-08-02 15:13:54.006 | INFO     | src.strategies.macd_strategy:_generate_signal_for_symbol:123 - MACD bearish crossover for Bitstamp:BTCUSD: MACD=3988.6399, Signal=4105.3646\n",
      "2025-08-02 15:13:54.006 | DEBUG    | src.backtesting.backtest_engine:_execute_trades:245 - SELL 0.19 Bitstamp:BTCUSD @ $118347.00\n",
      "2025-08-02 15:13:54.011 | INFO     | src.strategies.base_strategy:__init__:34 - Initialized strategy: macd\n",
      "2025-08-02 15:13:54.011 | INFO     | src.strategies.macd_strategy:__init__:54 - MACD Strategy initialized: fast=10, slow=35, signal=9\n",
      "2025-08-02 15:13:54.011 | INFO     | src.backtesting.backtest_engine:run_backtest:53 - Starting backtest from 2023-01-01 to 2023-06-30\n",
      "2025-08-02 15:13:54.011 | INFO     | src.data.data_manager:get_historical_data_standardized:589 - Fetching standardized OHLCV data for ['Bitstamp:BTCUSD'] from 2023-01-01 to 2023-06-30\n",
      "2025-08-02 15:13:54.011 | INFO     | src.data.data_manager:get_historical_data:64 - Fetching historical OHLCV data for ['Bitstamp:BTCUSD'] from 2023-01-01 to 2023-06-30\n",
      "2025-08-02 15:13:54.474 | INFO     | src.data.data_manager:_fetch_tradingview_ohlcv_data:159 - Successfully fetched OHLCV data for 1 symbols\n",
      "2025-08-02 15:13:54.475 | INFO     | src.data.data_manager:get_historical_data:97 - OHLCV data cached successfully\n",
      "2025-08-02 15:13:54.476 | INFO     | src.data.data_manager:ensure_ohlcv_format:500 - Data formatted for Bitstamp:BTCUSD: (100, 5)\n",
      "2025-08-02 15:13:54.476 | INFO     | src.data.data_manager:get_historical_data_standardized:622 - Successfully standardized OHLCV data for 1 symbols\n",
      "2025-08-02 15:13:54.476 | INFO     | src.backtesting.backtest_engine:run_backtest:65 - Running backtest for strategy: macd_test\n",
      "2025-08-02 15:13:54.476 | INFO     | src.strategies.base_strategy:reset:99 - Reset strategy: macd\n",
      "2025-08-02 15:13:54.476 | INFO     | src.risk.risk_manager:__init__:49 - Risk manager initialized\n",
      "2025-08-02 15:13:54.484 | INFO     | src.strategies.macd_strategy:_generate_signal_for_symbol:123 - MACD bearish crossover for Bitstamp:BTCUSD: MACD=2798.3820, Signal=2871.2102\n",
      "2025-08-02 15:13:54.488 | INFO     | src.strategies.macd_strategy:_generate_signal_for_symbol:117 - MACD bullish crossover for Bitstamp:BTCUSD: MACD=814.0974, Signal=752.9882\n",
      "2025-08-02 15:13:54.488 | DEBUG    | src.backtesting.backtest_engine:_execute_trades:216 - BUY 0.18 Bitstamp:BTCUSD @ $110307.00\n",
      "2025-08-02 15:13:54.490 | INFO     | src.strategies.macd_strategy:_generate_signal_for_symbol:123 - MACD bearish crossover for Bitstamp:BTCUSD: MACD=929.0748, Signal=970.1245\n",
      "2025-08-02 15:13:54.490 | DEBUG    | src.backtesting.backtest_engine:_execute_trades:245 - SELL 0.18 Bitstamp:BTCUSD @ $106118.00\n",
      "2025-08-02 15:13:54.492 | INFO     | src.strategies.macd_strategy:_generate_signal_for_symbol:144 - MACD zero line bearish crossover for Bitstamp:BTCUSD: MACD=-266.5966\n",
      "2025-08-02 15:13:54.494 | INFO     | src.strategies.macd_strategy:_generate_signal_for_symbol:117 - MACD bullish crossover for Bitstamp:BTCUSD: MACD=-139.2129, Signal=-250.2594\n",
      "2025-08-02 15:13:54.494 | DEBUG    | src.backtesting.backtest_engine:_execute_trades:216 - BUY 0.18 Bitstamp:BTCUSD @ $107418.00\n",
      "2025-08-02 15:13:54.494 | INFO     | src.strategies.macd_strategy:_generate_signal_for_symbol:140 - MACD zero line bullish crossover for Bitstamp:BTCUSD: MACD=88.2765\n",
      "2025-08-02 15:13:54.503 | INFO     | src.strategies.macd_strategy:_generate_signal_for_symbol:123 - MACD bearish crossover for Bitstamp:BTCUSD: MACD=3944.7019, Signal=4021.9994\n",
      "2025-08-02 15:13:54.503 | DEBUG    | src.backtesting.backtest_engine:_execute_trades:245 - SELL 0.18 Bitstamp:BTCUSD @ $117437.00\n",
      "2025-08-02 15:13:54.504 | INFO     | src.strategies.macd_strategy:_generate_signal_for_symbol:117 - MACD bullish crossover for Bitstamp:BTCUSD: MACD=4023.9141, Signal=4022.3824\n",
      "2025-08-02 15:13:54.504 | DEBUG    | src.backtesting.backtest_engine:_execute_trades:216 - BUY 0.17 Bitstamp:BTCUSD @ $120011.00\n",
      "2025-08-02 15:13:54.504 | INFO     | src.strategies.macd_strategy:_generate_signal_for_symbol:123 - MACD bearish crossover for Bitstamp:BTCUSD: MACD=3896.9394, Signal=3997.2938\n",
      "2025-08-02 15:13:54.504 | DEBUG    | src.backtesting.backtest_engine:_execute_trades:245 - SELL 0.17 Bitstamp:BTCUSD @ $118813.00\n",
      "2025-08-02 15:13:54.510 | INFO     | src.strategies.base_strategy:__init__:34 - Initialized strategy: macd\n",
      "2025-08-02 15:13:54.510 | INFO     | src.strategies.macd_strategy:__init__:54 - MACD Strategy initialized: fast=8, slow=30, signal=7\n",
      "2025-08-02 15:13:54.510 | INFO     | src.backtesting.backtest_engine:run_backtest:53 - Starting backtest from 2023-01-01 to 2023-06-30\n",
      "2025-08-02 15:13:54.510 | INFO     | src.data.data_manager:get_historical_data_standardized:589 - Fetching standardized OHLCV data for ['Bitstamp:BTCUSD'] from 2023-01-01 to 2023-06-30\n",
      "2025-08-02 15:13:54.510 | INFO     | src.data.data_manager:get_historical_data:64 - Fetching historical OHLCV data for ['Bitstamp:BTCUSD'] from 2023-01-01 to 2023-06-30\n",
      "2025-08-02 15:13:54.964 | INFO     | src.data.data_manager:_fetch_tradingview_ohlcv_data:159 - Successfully fetched OHLCV data for 1 symbols\n",
      "2025-08-02 15:13:54.965 | INFO     | src.data.data_manager:get_historical_data:97 - OHLCV data cached successfully\n",
      "2025-08-02 15:13:54.967 | INFO     | src.data.data_manager:ensure_ohlcv_format:500 - Data formatted for Bitstamp:BTCUSD: (100, 5)\n",
      "2025-08-02 15:13:54.968 | INFO     | src.data.data_manager:get_historical_data_standardized:622 - Successfully standardized OHLCV data for 1 symbols\n",
      "2025-08-02 15:13:54.968 | INFO     | src.backtesting.backtest_engine:run_backtest:65 - Running backtest for strategy: macd_test\n",
      "2025-08-02 15:13:54.968 | INFO     | src.strategies.base_strategy:reset:99 - Reset strategy: macd\n",
      "2025-08-02 15:13:54.968 | INFO     | src.risk.risk_manager:__init__:49 - Risk manager initialized\n",
      "2025-08-02 15:13:54.985 | INFO     | src.strategies.macd_strategy:_generate_signal_for_symbol:123 - MACD bearish crossover for Bitstamp:BTCUSD: MACD=1339.7076, Signal=1411.0157\n",
      "2025-08-02 15:13:54.992 | INFO     | src.strategies.macd_strategy:_generate_signal_for_symbol:117 - MACD bullish crossover for Bitstamp:BTCUSD: MACD=642.4785, Signal=611.3055\n",
      "2025-08-02 15:13:54.992 | DEBUG    | src.backtesting.backtest_engine:_execute_trades:216 - BUY 0.18 Bitstamp:BTCUSD @ $110292.00\n",
      "2025-08-02 15:13:54.993 | INFO     | src.strategies.macd_strategy:_generate_signal_for_symbol:123 - MACD bearish crossover for Bitstamp:BTCUSD: MACD=596.2212, Signal=620.6436\n",
      "2025-08-02 15:13:54.993 | DEBUG    | src.backtesting.backtest_engine:_execute_trades:245 - SELL 0.18 Bitstamp:BTCUSD @ $105731.00\n",
      "2025-08-02 15:13:54.998 | INFO     | src.strategies.macd_strategy:_generate_signal_for_symbol:144 - MACD zero line bearish crossover for Bitstamp:BTCUSD: MACD=-53.4510\n",
      "2025-08-02 15:13:55.001 | INFO     | src.strategies.macd_strategy:_generate_signal_for_symbol:117 - MACD bullish crossover for Bitstamp:BTCUSD: MACD=5.5965, Signal=-3.0714\n",
      "2025-08-02 15:13:55.001 | DEBUG    | src.backtesting.backtest_engine:_execute_trades:216 - BUY 0.19 Bitstamp:BTCUSD @ $107004.00\n",
      "2025-08-02 15:13:55.015 | INFO     | src.strategies.macd_strategy:_generate_signal_for_symbol:123 - MACD bearish crossover for Bitstamp:BTCUSD: MACD=1985.0770, Signal=2052.2694\n",
      "2025-08-02 15:13:55.015 | DEBUG    | src.backtesting.backtest_engine:_execute_trades:245 - SELL 0.19 Bitstamp:BTCUSD @ $117653.00\n",
      "2025-08-02 15:13:55.021 | INFO     | src.strategies.base_strategy:__init__:34 - Initialized strategy: macd\n",
      "2025-08-02 15:13:55.021 | INFO     | src.strategies.macd_strategy:__init__:54 - MACD Strategy initialized: fast=8, slow=40, signal=12\n",
      "2025-08-02 15:13:55.021 | INFO     | src.backtesting.backtest_engine:run_backtest:53 - Starting backtest from 2023-01-01 to 2023-06-30\n",
      "2025-08-02 15:13:55.021 | INFO     | src.data.data_manager:get_historical_data_standardized:589 - Fetching standardized OHLCV data for ['Bitstamp:BTCUSD'] from 2023-01-01 to 2023-06-30\n",
      "2025-08-02 15:13:55.021 | INFO     | src.data.data_manager:get_historical_data:64 - Fetching historical OHLCV data for ['Bitstamp:BTCUSD'] from 2023-01-01 to 2023-06-30\n",
      "2025-08-02 15:13:55.463 | INFO     | src.data.data_manager:_fetch_tradingview_ohlcv_data:159 - Successfully fetched OHLCV data for 1 symbols\n",
      "2025-08-02 15:13:55.464 | INFO     | src.data.data_manager:get_historical_data:97 - OHLCV data cached successfully\n",
      "2025-08-02 15:13:55.465 | INFO     | src.data.data_manager:ensure_ohlcv_format:500 - Data formatted for Bitstamp:BTCUSD: (100, 5)\n",
      "2025-08-02 15:13:55.465 | INFO     | src.data.data_manager:get_historical_data_standardized:622 - Successfully standardized OHLCV data for 1 symbols\n",
      "2025-08-02 15:13:55.465 | INFO     | src.backtesting.backtest_engine:run_backtest:65 - Running backtest for strategy: macd_test\n",
      "2025-08-02 15:13:55.465 | INFO     | src.strategies.base_strategy:reset:99 - Reset strategy: macd\n",
      "2025-08-02 15:13:55.465 | INFO     | src.risk.risk_manager:__init__:49 - Risk manager initialized\n",
      "2025-08-02 15:13:55.474 | INFO     | src.strategies.macd_strategy:_generate_signal_for_symbol:123 - MACD bearish crossover for Bitstamp:BTCUSD: MACD=2063.0522, Signal=2087.9913\n",
      "2025-08-02 15:13:55.479 | INFO     | src.strategies.macd_strategy:_generate_signal_for_symbol:117 - MACD bullish crossover for Bitstamp:BTCUSD: MACD=846.2883, Signal=622.0082\n",
      "2025-08-02 15:13:55.479 | DEBUG    | src.backtesting.backtest_engine:_execute_trades:216 - BUY 0.18 Bitstamp:BTCUSD @ $110292.00\n",
      "2025-08-02 15:13:55.481 | INFO     | src.strategies.macd_strategy:_generate_signal_for_symbol:123 - MACD bearish crossover for Bitstamp:BTCUSD: MACD=652.8223, Signal=691.2101\n",
      "2025-08-02 15:13:55.481 | DEBUG    | src.backtesting.backtest_engine:_execute_trades:245 - SELL 0.18 Bitstamp:BTCUSD @ $106118.00\n",
      "2025-08-02 15:13:55.487 | INFO     | src.strategies.macd_strategy:_generate_signal_for_symbol:144 - MACD zero line bearish crossover for Bitstamp:BTCUSD: MACD=-191.0703\n",
      "2025-08-02 15:13:55.490 | INFO     | src.strategies.macd_strategy:_generate_signal_for_symbol:117 - MACD bullish crossover for Bitstamp:BTCUSD: MACD=-147.6020, Signal=-196.2706\n",
      "2025-08-02 15:13:55.490 | DEBUG    | src.backtesting.backtest_engine:_execute_trades:216 - BUY 0.18 Bitstamp:BTCUSD @ $107418.00\n",
      "2025-08-02 15:13:55.490 | INFO     | src.strategies.macd_strategy:_generate_signal_for_symbol:140 - MACD zero line bullish crossover for Bitstamp:BTCUSD: MACD=10.6946\n",
      "2025-08-02 15:13:55.505 | INFO     | src.strategies.macd_strategy:_generate_signal_for_symbol:123 - MACD bearish crossover for Bitstamp:BTCUSD: MACD=2888.7003, Signal=2907.5159\n",
      "2025-08-02 15:13:55.505 | DEBUG    | src.backtesting.backtest_engine:_execute_trades:245 - SELL 0.18 Bitstamp:BTCUSD @ $117437.00\n",
      "2025-08-02 15:13:55.506 | INFO     | src.strategies.macd_strategy:_generate_signal_for_symbol:117 - MACD bullish crossover for Bitstamp:BTCUSD: MACD=2935.8055, Signal=2913.1738\n",
      "2025-08-02 15:13:55.506 | DEBUG    | src.backtesting.backtest_engine:_execute_trades:216 - BUY 0.17 Bitstamp:BTCUSD @ $120011.00\n",
      "2025-08-02 15:13:55.506 | INFO     | src.strategies.macd_strategy:_generate_signal_for_symbol:123 - MACD bearish crossover for Bitstamp:BTCUSD: MACD=2843.7696, Signal=2899.2930\n",
      "2025-08-02 15:13:55.506 | DEBUG    | src.backtesting.backtest_engine:_execute_trades:245 - SELL 0.17 Bitstamp:BTCUSD @ $118813.00\n",
      "2025-08-02 15:13:55.515 | INFO     | src.strategies.base_strategy:__init__:34 - Initialized strategy: macd\n",
      "2025-08-02 15:13:55.515 | INFO     | src.strategies.macd_strategy:__init__:54 - MACD Strategy initialized: fast=8, slow=30, signal=12\n",
      "2025-08-02 15:13:55.515 | INFO     | src.backtesting.backtest_engine:run_backtest:53 - Starting backtest from 2023-01-01 to 2023-06-30\n",
      "2025-08-02 15:13:55.515 | INFO     | src.data.data_manager:get_historical_data_standardized:589 - Fetching standardized OHLCV data for ['Bitstamp:BTCUSD'] from 2023-01-01 to 2023-06-30\n",
      "2025-08-02 15:13:55.515 | INFO     | src.data.data_manager:get_historical_data:64 - Fetching historical OHLCV data for ['Bitstamp:BTCUSD'] from 2023-01-01 to 2023-06-30\n",
      "2025-08-02 15:13:55.969 | INFO     | src.data.data_manager:_fetch_tradingview_ohlcv_data:159 - Successfully fetched OHLCV data for 1 symbols\n",
      "2025-08-02 15:13:55.970 | INFO     | src.data.data_manager:get_historical_data:97 - OHLCV data cached successfully\n",
      "2025-08-02 15:13:55.972 | INFO     | src.data.data_manager:ensure_ohlcv_format:500 - Data formatted for Bitstamp:BTCUSD: (100, 5)\n",
      "2025-08-02 15:13:55.972 | INFO     | src.data.data_manager:get_historical_data_standardized:622 - Successfully standardized OHLCV data for 1 symbols\n",
      "2025-08-02 15:13:55.973 | INFO     | src.backtesting.backtest_engine:run_backtest:65 - Running backtest for strategy: macd_test\n",
      "2025-08-02 15:13:55.973 | INFO     | src.strategies.base_strategy:reset:99 - Reset strategy: macd\n",
      "2025-08-02 15:13:55.973 | INFO     | src.risk.risk_manager:__init__:49 - Risk manager initialized\n",
      "2025-08-02 15:13:55.993 | INFO     | src.strategies.macd_strategy:_generate_signal_for_symbol:117 - MACD bullish crossover for Bitstamp:BTCUSD: MACD=1024.1283, Signal=979.8303\n",
      "2025-08-02 15:13:55.993 | DEBUG    | src.backtesting.backtest_engine:_execute_trades:216 - BUY 0.18 Bitstamp:BTCUSD @ $110307.00\n",
      "2025-08-02 15:13:55.996 | INFO     | src.strategies.macd_strategy:_generate_signal_for_symbol:123 - MACD bearish crossover for Bitstamp:BTCUSD: MACD=1148.4582, Signal=1199.5965\n",
      "2025-08-02 15:13:55.996 | DEBUG    | src.backtesting.backtest_engine:_execute_trades:245 - SELL 0.18 Bitstamp:BTCUSD @ $106118.00\n",
      "2025-08-02 15:13:56.000 | INFO     | src.strategies.macd_strategy:_generate_signal_for_symbol:144 - MACD zero line bearish crossover for Bitstamp:BTCUSD: MACD=-162.2867\n",
      "2025-08-02 15:13:56.003 | INFO     | src.strategies.macd_strategy:_generate_signal_for_symbol:117 - MACD bullish crossover for Bitstamp:BTCUSD: MACD=-82.1596, Signal=-165.4380\n",
      "2025-08-02 15:13:56.003 | DEBUG    | src.backtesting.backtest_engine:_execute_trades:216 - BUY 0.18 Bitstamp:BTCUSD @ $107418.00\n",
      "2025-08-02 15:13:56.004 | INFO     | src.strategies.macd_strategy:_generate_signal_for_symbol:140 - MACD zero line bullish crossover for Bitstamp:BTCUSD: MACD=156.6401\n",
      "2025-08-02 15:13:56.018 | INFO     | src.strategies.macd_strategy:_generate_signal_for_symbol:123 - MACD bearish crossover for Bitstamp:BTCUSD: MACD=4603.1909, Signal=4629.7513\n",
      "2025-08-02 15:13:56.018 | DEBUG    | src.backtesting.backtest_engine:_execute_trades:245 - SELL 0.18 Bitstamp:BTCUSD @ $118813.00\n",
      "2025-08-02 15:13:56.025 | INFO     | src.strategies.base_strategy:__init__:34 - Initialized strategy: macd\n",
      "2025-08-02 15:13:56.026 | INFO     | src.strategies.macd_strategy:__init__:54 - MACD Strategy initialized: fast=15, slow=35, signal=12\n",
      "2025-08-02 15:13:56.026 | INFO     | src.backtesting.backtest_engine:run_backtest:53 - Starting backtest from 2023-01-01 to 2023-06-30\n",
      "2025-08-02 15:13:56.026 | INFO     | src.data.data_manager:get_historical_data_standardized:589 - Fetching standardized OHLCV data for ['Bitstamp:BTCUSD'] from 2023-01-01 to 2023-06-30\n",
      "2025-08-02 15:13:56.026 | INFO     | src.data.data_manager:get_historical_data:64 - Fetching historical OHLCV data for ['Bitstamp:BTCUSD'] from 2023-01-01 to 2023-06-30\n",
      "2025-08-02 15:13:56.477 | INFO     | src.data.data_manager:_fetch_tradingview_ohlcv_data:159 - Successfully fetched OHLCV data for 1 symbols\n",
      "2025-08-02 15:13:56.477 | INFO     | src.data.data_manager:get_historical_data:97 - OHLCV data cached successfully\n",
      "2025-08-02 15:13:56.478 | INFO     | src.data.data_manager:ensure_ohlcv_format:500 - Data formatted for Bitstamp:BTCUSD: (100, 5)\n",
      "2025-08-02 15:13:56.478 | INFO     | src.data.data_manager:get_historical_data_standardized:622 - Successfully standardized OHLCV data for 1 symbols\n",
      "2025-08-02 15:13:56.478 | INFO     | src.backtesting.backtest_engine:run_backtest:65 - Running backtest for strategy: macd_test\n",
      "2025-08-02 15:13:56.478 | INFO     | src.strategies.base_strategy:reset:99 - Reset strategy: macd\n",
      "2025-08-02 15:13:56.478 | INFO     | src.risk.risk_manager:__init__:49 - Risk manager initialized\n",
      "2025-08-02 15:13:56.487 | INFO     | src.strategies.macd_strategy:_generate_signal_for_symbol:123 - MACD bearish crossover for Bitstamp:BTCUSD: MACD=3436.9453, Signal=3453.6686\n",
      "2025-08-02 15:13:56.490 | INFO     | src.strategies.macd_strategy:_generate_signal_for_symbol:144 - MACD zero line bearish crossover for Bitstamp:BTCUSD: MACD=-84.5054\n",
      "2025-08-02 15:13:56.491 | INFO     | src.strategies.macd_strategy:_generate_signal_for_symbol:140 - MACD zero line bullish crossover for Bitstamp:BTCUSD: MACD=12.6718\n",
      "2025-08-02 15:13:56.491 | DEBUG    | src.backtesting.backtest_engine:_execute_trades:216 - BUY 0.19 Bitstamp:BTCUSD @ $105619.00\n",
      "2025-08-02 15:13:56.492 | INFO     | src.strategies.macd_strategy:_generate_signal_for_symbol:117 - MACD bullish crossover for Bitstamp:BTCUSD: MACD=943.9261, Signal=562.2868\n",
      "2025-08-02 15:13:56.493 | INFO     | src.strategies.macd_strategy:_generate_signal_for_symbol:123 - MACD bearish crossover for Bitstamp:BTCUSD: MACD=1019.8130, Signal=1057.7730\n",
      "2025-08-02 15:13:56.493 | DEBUG    | src.backtesting.backtest_engine:_execute_trades:245 - SELL 0.19 Bitstamp:BTCUSD @ $106118.00\n",
      "2025-08-02 15:13:56.495 | INFO     | src.strategies.macd_strategy:_generate_signal_for_symbol:144 - MACD zero line bearish crossover for Bitstamp:BTCUSD: MACD=-125.1346\n",
      "2025-08-02 15:13:56.498 | INFO     | src.strategies.macd_strategy:_generate_signal_for_symbol:117 - MACD bullish crossover for Bitstamp:BTCUSD: MACD=-105.0752, Signal=-457.6984\n",
      "2025-08-02 15:13:56.498 | DEBUG    | src.backtesting.backtest_engine:_execute_trades:216 - BUY 0.19 Bitstamp:BTCUSD @ $107418.00\n",
      "2025-08-02 15:13:56.498 | INFO     | src.strategies.macd_strategy:_generate_signal_for_symbol:140 - MACD zero line bullish crossover for Bitstamp:BTCUSD: MACD=190.6775\n",
      "2025-08-02 15:13:56.506 | INFO     | src.strategies.macd_strategy:_generate_signal_for_symbol:123 - MACD bearish crossover for Bitstamp:BTCUSD: MACD=4607.4507, Signal=4829.1530\n",
      "2025-08-02 15:13:56.506 | DEBUG    | src.backtesting.backtest_engine:_execute_trades:245 - SELL 0.19 Bitstamp:BTCUSD @ $117339.00\n",
      "2025-08-02 15:13:56.513 | INFO     | src.strategies.base_strategy:__init__:34 - Initialized strategy: macd\n",
      "2025-08-02 15:13:56.513 | INFO     | src.strategies.macd_strategy:__init__:54 - MACD Strategy initialized: fast=15, slow=30, signal=7\n",
      "2025-08-02 15:13:56.513 | INFO     | src.backtesting.backtest_engine:run_backtest:53 - Starting backtest from 2023-01-01 to 2023-06-30\n",
      "2025-08-02 15:13:56.513 | INFO     | src.data.data_manager:get_historical_data_standardized:589 - Fetching standardized OHLCV data for ['Bitstamp:BTCUSD'] from 2023-01-01 to 2023-06-30\n",
      "2025-08-02 15:13:56.513 | INFO     | src.data.data_manager:get_historical_data:64 - Fetching historical OHLCV data for ['Bitstamp:BTCUSD'] from 2023-01-01 to 2023-06-30\n",
      "2025-08-02 15:13:56.964 | INFO     | src.data.data_manager:_fetch_tradingview_ohlcv_data:159 - Successfully fetched OHLCV data for 1 symbols\n",
      "2025-08-02 15:13:56.964 | INFO     | src.data.data_manager:get_historical_data:97 - OHLCV data cached successfully\n",
      "2025-08-02 15:13:56.966 | INFO     | src.data.data_manager:ensure_ohlcv_format:500 - Data formatted for Bitstamp:BTCUSD: (100, 5)\n",
      "2025-08-02 15:13:56.966 | INFO     | src.data.data_manager:get_historical_data_standardized:622 - Successfully standardized OHLCV data for 1 symbols\n",
      "2025-08-02 15:13:56.966 | INFO     | src.backtesting.backtest_engine:run_backtest:65 - Running backtest for strategy: macd_test\n",
      "2025-08-02 15:13:56.966 | INFO     | src.strategies.base_strategy:reset:99 - Reset strategy: macd\n",
      "2025-08-02 15:13:56.966 | INFO     | src.risk.risk_manager:__init__:49 - Risk manager initialized\n",
      "2025-08-02 15:13:56.982 | INFO     | src.strategies.macd_strategy:_generate_signal_for_symbol:117 - MACD bullish crossover for Bitstamp:BTCUSD: MACD=1948.1536, Signal=1451.6897\n",
      "2025-08-02 15:13:56.983 | DEBUG    | src.backtesting.backtest_engine:_execute_trades:216 - BUY 0.18 Bitstamp:BTCUSD @ $110292.00\n",
      "2025-08-02 15:13:56.984 | INFO     | src.strategies.macd_strategy:_generate_signal_for_symbol:123 - MACD bearish crossover for Bitstamp:BTCUSD: MACD=1435.0388, Signal=1551.7985\n",
      "2025-08-02 15:13:56.984 | DEBUG    | src.backtesting.backtest_engine:_execute_trades:245 - SELL 0.18 Bitstamp:BTCUSD @ $106118.00\n",
      "2025-08-02 15:13:56.987 | INFO     | src.strategies.macd_strategy:_generate_signal_for_symbol:144 - MACD zero line bearish crossover for Bitstamp:BTCUSD: MACD=-250.0540\n",
      "2025-08-02 15:13:56.990 | INFO     | src.strategies.macd_strategy:_generate_signal_for_symbol:117 - MACD bullish crossover for Bitstamp:BTCUSD: MACD=23.2321, Signal=-12.6644\n",
      "2025-08-02 15:13:56.990 | DEBUG    | src.backtesting.backtest_engine:_execute_trades:216 - BUY 0.18 Bitstamp:BTCUSD @ $107418.00\n",
      "2025-08-02 15:13:57.003 | INFO     | src.strategies.macd_strategy:_generate_signal_for_symbol:123 - MACD bearish crossover for Bitstamp:BTCUSD: MACD=5301.2207, Signal=5400.6908\n",
      "2025-08-02 15:13:57.003 | DEBUG    | src.backtesting.backtest_engine:_execute_trades:245 - SELL 0.18 Bitstamp:BTCUSD @ $118347.00\n",
      "2025-08-02 15:13:57.009 | INFO     | src.strategies.base_strategy:__init__:34 - Initialized strategy: macd\n",
      "2025-08-02 15:13:57.009 | INFO     | src.strategies.macd_strategy:__init__:54 - MACD Strategy initialized: fast=8, slow=40, signal=15\n",
      "2025-08-02 15:13:57.009 | INFO     | src.backtesting.backtest_engine:run_backtest:53 - Starting backtest from 2023-01-01 to 2023-06-30\n",
      "2025-08-02 15:13:57.009 | INFO     | src.data.data_manager:get_historical_data_standardized:589 - Fetching standardized OHLCV data for ['Bitstamp:BTCUSD'] from 2023-01-01 to 2023-06-30\n",
      "2025-08-02 15:13:57.009 | INFO     | src.data.data_manager:get_historical_data:64 - Fetching historical OHLCV data for ['Bitstamp:BTCUSD'] from 2023-01-01 to 2023-06-30\n",
      "2025-08-02 15:13:57.474 | INFO     | src.data.data_manager:_fetch_tradingview_ohlcv_data:159 - Successfully fetched OHLCV data for 1 symbols\n",
      "2025-08-02 15:13:57.475 | INFO     | src.data.data_manager:get_historical_data:97 - OHLCV data cached successfully\n",
      "2025-08-02 15:13:57.476 | INFO     | src.data.data_manager:ensure_ohlcv_format:500 - Data formatted for Bitstamp:BTCUSD: (100, 5)\n",
      "2025-08-02 15:13:57.476 | INFO     | src.data.data_manager:get_historical_data_standardized:622 - Successfully standardized OHLCV data for 1 symbols\n",
      "2025-08-02 15:13:57.477 | INFO     | src.backtesting.backtest_engine:run_backtest:65 - Running backtest for strategy: macd_test\n",
      "2025-08-02 15:13:57.477 | INFO     | src.strategies.base_strategy:reset:99 - Reset strategy: macd\n",
      "2025-08-02 15:13:57.477 | INFO     | src.risk.risk_manager:__init__:49 - Risk manager initialized\n",
      "2025-08-02 15:13:57.489 | INFO     | src.strategies.macd_strategy:_generate_signal_for_symbol:123 - MACD bearish crossover for Bitstamp:BTCUSD: MACD=3115.8714, Signal=3214.8447\n",
      "2025-08-02 15:13:57.493 | INFO     | src.strategies.macd_strategy:_generate_signal_for_symbol:144 - MACD zero line bearish crossover for Bitstamp:BTCUSD: MACD=-84.5054\n",
      "2025-08-02 15:13:57.494 | INFO     | src.strategies.macd_strategy:_generate_signal_for_symbol:140 - MACD zero line bullish crossover for Bitstamp:BTCUSD: MACD=12.6718\n",
      "2025-08-02 15:13:57.494 | DEBUG    | src.backtesting.backtest_engine:_execute_trades:216 - BUY 0.19 Bitstamp:BTCUSD @ $105619.00\n",
      "2025-08-02 15:13:57.495 | INFO     | src.strategies.macd_strategy:_generate_signal_for_symbol:117 - MACD bullish crossover for Bitstamp:BTCUSD: MACD=943.9261, Signal=917.9084\n",
      "2025-08-02 15:13:57.497 | INFO     | src.strategies.macd_strategy:_generate_signal_for_symbol:123 - MACD bearish crossover for Bitstamp:BTCUSD: MACD=1019.8130, Signal=1111.9315\n",
      "2025-08-02 15:13:57.497 | DEBUG    | src.backtesting.backtest_engine:_execute_trades:245 - SELL 0.19 Bitstamp:BTCUSD @ $106118.00\n",
      "2025-08-02 15:13:57.500 | INFO     | src.strategies.macd_strategy:_generate_signal_for_symbol:144 - MACD zero line bearish crossover for Bitstamp:BTCUSD: MACD=-125.1346\n",
      "2025-08-02 15:13:57.503 | INFO     | src.strategies.macd_strategy:_generate_signal_for_symbol:117 - MACD bullish crossover for Bitstamp:BTCUSD: MACD=-105.0752, Signal=-223.4705\n",
      "2025-08-02 15:13:57.503 | DEBUG    | src.backtesting.backtest_engine:_execute_trades:216 - BUY 0.19 Bitstamp:BTCUSD @ $107418.00\n",
      "2025-08-02 15:13:57.503 | INFO     | src.strategies.macd_strategy:_generate_signal_for_symbol:140 - MACD zero line bullish crossover for Bitstamp:BTCUSD: MACD=190.6775\n",
      "2025-08-02 15:13:57.514 | INFO     | src.strategies.macd_strategy:_generate_signal_for_symbol:123 - MACD bearish crossover for Bitstamp:BTCUSD: MACD=4295.2283, Signal=4331.6390\n",
      "2025-08-02 15:13:57.514 | DEBUG    | src.backtesting.backtest_engine:_execute_trades:245 - SELL 0.19 Bitstamp:BTCUSD @ $117437.00\n",
      "2025-08-02 15:13:57.515 | INFO     | src.strategies.macd_strategy:_generate_signal_for_symbol:117 - MACD bullish crossover for Bitstamp:BTCUSD: MACD=4411.8905, Signal=4343.9854\n",
      "2025-08-02 15:13:57.515 | DEBUG    | src.backtesting.backtest_engine:_execute_trades:216 - BUY 0.17 Bitstamp:BTCUSD @ $120011.00\n",
      "2025-08-02 15:13:57.515 | INFO     | src.strategies.macd_strategy:_generate_signal_for_symbol:123 - MACD bearish crossover for Bitstamp:BTCUSD: MACD=4244.6678, Signal=4328.7058\n",
      "2025-08-02 15:13:57.515 | DEBUG    | src.backtesting.backtest_engine:_execute_trades:245 - SELL 0.17 Bitstamp:BTCUSD @ $118813.00\n",
      "2025-08-02 15:13:57.522 | INFO     | src.strategies.base_strategy:__init__:34 - Initialized strategy: macd\n",
      "2025-08-02 15:13:57.522 | INFO     | src.strategies.macd_strategy:__init__:54 - MACD Strategy initialized: fast=10, slow=20, signal=9\n",
      "2025-08-02 15:13:57.522 | INFO     | src.backtesting.backtest_engine:run_backtest:53 - Starting backtest from 2023-01-01 to 2023-06-30\n",
      "2025-08-02 15:13:57.522 | INFO     | src.data.data_manager:get_historical_data_standardized:589 - Fetching standardized OHLCV data for ['Bitstamp:BTCUSD'] from 2023-01-01 to 2023-06-30\n",
      "2025-08-02 15:13:57.522 | INFO     | src.data.data_manager:get_historical_data:64 - Fetching historical OHLCV data for ['Bitstamp:BTCUSD'] from 2023-01-01 to 2023-06-30\n",
      "2025-08-02 15:13:57.972 | INFO     | src.data.data_manager:_fetch_tradingview_ohlcv_data:159 - Successfully fetched OHLCV data for 1 symbols\n",
      "2025-08-02 15:13:57.973 | INFO     | src.data.data_manager:get_historical_data:97 - OHLCV data cached successfully\n",
      "2025-08-02 15:13:57.975 | INFO     | src.data.data_manager:ensure_ohlcv_format:500 - Data formatted for Bitstamp:BTCUSD: (100, 5)\n",
      "2025-08-02 15:13:57.976 | INFO     | src.data.data_manager:get_historical_data_standardized:622 - Successfully standardized OHLCV data for 1 symbols\n",
      "2025-08-02 15:13:57.976 | INFO     | src.backtesting.backtest_engine:run_backtest:65 - Running backtest for strategy: macd_test\n",
      "2025-08-02 15:13:57.976 | INFO     | src.strategies.base_strategy:reset:99 - Reset strategy: macd\n",
      "2025-08-02 15:13:57.976 | INFO     | src.risk.risk_manager:__init__:49 - Risk manager initialized\n",
      "2025-08-02 15:13:57.997 | INFO     | src.strategies.macd_strategy:_generate_signal_for_symbol:117 - MACD bullish crossover for Bitstamp:BTCUSD: MACD=1089.2912, Signal=1063.1224\n",
      "2025-08-02 15:13:57.998 | DEBUG    | src.backtesting.backtest_engine:_execute_trades:216 - BUY 0.18 Bitstamp:BTCUSD @ $110292.00\n",
      "2025-08-02 15:13:57.999 | INFO     | src.strategies.macd_strategy:_generate_signal_for_symbol:123 - MACD bearish crossover for Bitstamp:BTCUSD: MACD=1029.9319, Signal=1071.6567\n",
      "2025-08-02 15:13:57.999 | DEBUG    | src.backtesting.backtest_engine:_execute_trades:245 - SELL 0.18 Bitstamp:BTCUSD @ $105731.00\n",
      "2025-08-02 15:13:58.004 | INFO     | src.strategies.macd_strategy:_generate_signal_for_symbol:144 - MACD zero line bearish crossover for Bitstamp:BTCUSD: MACD=-117.7305\n",
      "2025-08-02 15:13:58.006 | INFO     | src.strategies.macd_strategy:_generate_signal_for_symbol:140 - MACD zero line bullish crossover for Bitstamp:BTCUSD: MACD=113.8718\n",
      "2025-08-02 15:13:58.006 | DEBUG    | src.backtesting.backtest_engine:_execute_trades:216 - BUY 0.19 Bitstamp:BTCUSD @ $107004.00\n",
      "2025-08-02 15:13:58.007 | INFO     | src.strategies.macd_strategy:_generate_signal_for_symbol:117 - MACD bullish crossover for Bitstamp:BTCUSD: MACD=221.2582, Signal=168.1224\n",
      "2025-08-02 15:13:58.021 | INFO     | src.strategies.macd_strategy:_generate_signal_for_symbol:123 - MACD bearish crossover for Bitstamp:BTCUSD: MACD=3183.3509, Signal=3243.5357\n",
      "2025-08-02 15:13:58.021 | DEBUG    | src.backtesting.backtest_engine:_execute_trades:245 - SELL 0.19 Bitstamp:BTCUSD @ $117962.00\n",
      "2025-08-02 15:13:58.027 | INFO     | src.strategies.base_strategy:__init__:34 - Initialized strategy: macd\n",
      "2025-08-02 15:13:58.027 | INFO     | src.strategies.macd_strategy:__init__:54 - MACD Strategy initialized: fast=12, slow=35, signal=12\n",
      "2025-08-02 15:13:58.027 | INFO     | src.backtesting.backtest_engine:run_backtest:53 - Starting backtest from 2023-01-01 to 2023-06-30\n",
      "2025-08-02 15:13:58.027 | INFO     | src.data.data_manager:get_historical_data_standardized:589 - Fetching standardized OHLCV data for ['Bitstamp:BTCUSD'] from 2023-01-01 to 2023-06-30\n",
      "2025-08-02 15:13:58.027 | INFO     | src.data.data_manager:get_historical_data:64 - Fetching historical OHLCV data for ['Bitstamp:BTCUSD'] from 2023-01-01 to 2023-06-30\n",
      "\u001b[32m2025-08-02 15:13:58.028\u001b[0m | \u001b[1mINFO    \u001b[0m | \u001b[36msrc.optimization.optimizer\u001b[0m:\u001b[36m_optimize_parallel\u001b[0m:\u001b[36m149\u001b[0m - \u001b[1mCompleted 40/50 combinations\u001b[0m\n",
      "2025-08-02 15:13:58.478 | INFO     | src.data.data_manager:_fetch_tradingview_ohlcv_data:159 - Successfully fetched OHLCV data for 1 symbols\n",
      "2025-08-02 15:13:58.479 | INFO     | src.data.data_manager:get_historical_data:97 - OHLCV data cached successfully\n",
      "2025-08-02 15:13:58.480 | INFO     | src.data.data_manager:ensure_ohlcv_format:500 - Data formatted for Bitstamp:BTCUSD: (100, 5)\n",
      "2025-08-02 15:13:58.480 | INFO     | src.data.data_manager:get_historical_data_standardized:622 - Successfully standardized OHLCV data for 1 symbols\n",
      "2025-08-02 15:13:58.480 | INFO     | src.backtesting.backtest_engine:run_backtest:65 - Running backtest for strategy: macd_test\n",
      "2025-08-02 15:13:58.480 | INFO     | src.strategies.base_strategy:reset:99 - Reset strategy: macd\n",
      "2025-08-02 15:13:58.480 | INFO     | src.risk.risk_manager:__init__:49 - Risk manager initialized\n",
      "2025-08-02 15:13:58.494 | INFO     | src.strategies.macd_strategy:_generate_signal_for_symbol:123 - MACD bearish crossover for Bitstamp:BTCUSD: MACD=1693.5787, Signal=1844.5769\n",
      "2025-08-02 15:13:58.499 | INFO     | src.strategies.macd_strategy:_generate_signal_for_symbol:117 - MACD bullish crossover for Bitstamp:BTCUSD: MACD=645.9616, Signal=633.6963\n",
      "2025-08-02 15:13:58.499 | DEBUG    | src.backtesting.backtest_engine:_execute_trades:216 - BUY 0.18 Bitstamp:BTCUSD @ $110307.00\n",
      "2025-08-02 15:13:58.501 | INFO     | src.strategies.macd_strategy:_generate_signal_for_symbol:123 - MACD bearish crossover for Bitstamp:BTCUSD: MACD=715.0470, Signal=748.6361\n",
      "2025-08-02 15:13:58.502 | DEBUG    | src.backtesting.backtest_engine:_execute_trades:245 - SELL 0.18 Bitstamp:BTCUSD @ $106118.00\n",
      "2025-08-02 15:13:58.506 | INFO     | src.strategies.macd_strategy:_generate_signal_for_symbol:144 - MACD zero line bearish crossover for Bitstamp:BTCUSD: MACD=-188.1702\n",
      "2025-08-02 15:13:58.508 | INFO     | src.strategies.macd_strategy:_generate_signal_for_symbol:117 - MACD bullish crossover for Bitstamp:BTCUSD: MACD=-66.2443, Signal=-93.1255\n",
      "2025-08-02 15:13:58.508 | DEBUG    | src.backtesting.backtest_engine:_execute_trades:216 - BUY 0.18 Bitstamp:BTCUSD @ $107418.00\n",
      "2025-08-02 15:13:58.508 | INFO     | src.strategies.macd_strategy:_generate_signal_for_symbol:140 - MACD zero line bullish crossover for Bitstamp:BTCUSD: MACD=45.5082\n",
      "2025-08-02 15:13:58.522 | INFO     | src.strategies.macd_strategy:_generate_signal_for_symbol:123 - MACD bearish crossover for Bitstamp:BTCUSD: MACD=2752.4620, Signal=2815.7096\n",
      "2025-08-02 15:13:58.522 | DEBUG    | src.backtesting.backtest_engine:_execute_trades:245 - SELL 0.18 Bitstamp:BTCUSD @ $118347.00\n",
      "2025-08-02 15:13:58.528 | INFO     | src.strategies.base_strategy:__init__:34 - Initialized strategy: macd\n",
      "2025-08-02 15:13:58.528 | INFO     | src.strategies.macd_strategy:__init__:54 - MACD Strategy initialized: fast=20, slow=40, signal=7\n",
      "2025-08-02 15:13:58.528 | INFO     | src.backtesting.backtest_engine:run_backtest:53 - Starting backtest from 2023-01-01 to 2023-06-30\n",
      "2025-08-02 15:13:58.528 | INFO     | src.data.data_manager:get_historical_data_standardized:589 - Fetching standardized OHLCV data for ['Bitstamp:BTCUSD'] from 2023-01-01 to 2023-06-30\n",
      "2025-08-02 15:13:58.528 | INFO     | src.data.data_manager:get_historical_data:64 - Fetching historical OHLCV data for ['Bitstamp:BTCUSD'] from 2023-01-01 to 2023-06-30\n",
      "2025-08-02 15:13:58.975 | INFO     | src.data.data_manager:_fetch_tradingview_ohlcv_data:159 - Successfully fetched OHLCV data for 1 symbols\n",
      "2025-08-02 15:13:58.976 | INFO     | src.data.data_manager:get_historical_data:97 - OHLCV data cached successfully\n",
      "2025-08-02 15:13:58.979 | INFO     | src.data.data_manager:ensure_ohlcv_format:500 - Data formatted for Bitstamp:BTCUSD: (100, 5)\n",
      "2025-08-02 15:13:58.979 | INFO     | src.data.data_manager:get_historical_data_standardized:622 - Successfully standardized OHLCV data for 1 symbols\n",
      "2025-08-02 15:13:58.979 | INFO     | src.backtesting.backtest_engine:run_backtest:65 - Running backtest for strategy: macd_test\n",
      "2025-08-02 15:13:58.979 | INFO     | src.strategies.base_strategy:reset:99 - Reset strategy: macd\n",
      "2025-08-02 15:13:58.979 | INFO     | src.risk.risk_manager:__init__:49 - Risk manager initialized\n",
      "2025-08-02 15:13:58.998 | INFO     | src.strategies.macd_strategy:_generate_signal_for_symbol:117 - MACD bullish crossover for Bitstamp:BTCUSD: MACD=1948.1536, Signal=1603.1398\n",
      "2025-08-02 15:13:58.998 | DEBUG    | src.backtesting.backtest_engine:_execute_trades:216 - BUY 0.18 Bitstamp:BTCUSD @ $110292.00\n",
      "2025-08-02 15:13:58.999 | INFO     | src.strategies.macd_strategy:_generate_signal_for_symbol:123 - MACD bearish crossover for Bitstamp:BTCUSD: MACD=1435.0388, Signal=1639.4050\n",
      "2025-08-02 15:13:58.999 | DEBUG    | src.backtesting.backtest_engine:_execute_trades:245 - SELL 0.18 Bitstamp:BTCUSD @ $106118.00\n",
      "2025-08-02 15:13:59.005 | INFO     | src.strategies.macd_strategy:_generate_signal_for_symbol:144 - MACD zero line bearish crossover for Bitstamp:BTCUSD: MACD=-250.0540\n",
      "2025-08-02 15:13:59.007 | INFO     | src.strategies.macd_strategy:_generate_signal_for_symbol:140 - MACD zero line bullish crossover for Bitstamp:BTCUSD: MACD=23.2321\n",
      "2025-08-02 15:13:59.007 | DEBUG    | src.backtesting.backtest_engine:_execute_trades:216 - BUY 0.18 Bitstamp:BTCUSD @ $107418.00\n",
      "2025-08-02 15:13:59.008 | INFO     | src.strategies.macd_strategy:_generate_signal_for_symbol:117 - MACD bullish crossover for Bitstamp:BTCUSD: MACD=337.7070, Signal=183.1085\n",
      "2025-08-02 15:13:59.021 | INFO     | src.strategies.macd_strategy:_generate_signal_for_symbol:123 - MACD bearish crossover for Bitstamp:BTCUSD: MACD=4935.7336, Signal=5133.7545\n",
      "2025-08-02 15:13:59.021 | DEBUG    | src.backtesting.backtest_engine:_execute_trades:245 - SELL 0.18 Bitstamp:BTCUSD @ $117653.00\n",
      "2025-08-02 15:13:59.026 | INFO     | src.strategies.base_strategy:__init__:34 - Initialized strategy: macd\n",
      "2025-08-02 15:13:59.026 | INFO     | src.strategies.macd_strategy:__init__:54 - MACD Strategy initialized: fast=15, slow=40, signal=7\n",
      "2025-08-02 15:13:59.026 | INFO     | src.backtesting.backtest_engine:run_backtest:53 - Starting backtest from 2023-01-01 to 2023-06-30\n",
      "2025-08-02 15:13:59.026 | INFO     | src.data.data_manager:get_historical_data_standardized:589 - Fetching standardized OHLCV data for ['Bitstamp:BTCUSD'] from 2023-01-01 to 2023-06-30\n",
      "2025-08-02 15:13:59.026 | INFO     | src.data.data_manager:get_historical_data:64 - Fetching historical OHLCV data for ['Bitstamp:BTCUSD'] from 2023-01-01 to 2023-06-30\n",
      "2025-08-02 15:13:59.365 | ERROR    | src.data.data_manager:_fetch_tradingview_ohlcv_data:166 - Error fetching OHLCV data from TradingView: [Errno 54] Connection reset by peer\n",
      "2025-08-02 15:13:59.365 | ERROR    | src.optimization.optimizer:_test_parameter_combination:192 - Error testing parameters {'fast_period': 15, 'slow_period': 40, 'signal_period': 7}: [Errno 54] Connection reset by peer\n",
      "2025-08-02 15:13:59.367 | INFO     | src.strategies.base_strategy:__init__:34 - Initialized strategy: macd\n",
      "2025-08-02 15:13:59.367 | INFO     | src.strategies.macd_strategy:__init__:54 - MACD Strategy initialized: fast=10, slow=40, signal=7\n",
      "2025-08-02 15:13:59.367 | INFO     | src.backtesting.backtest_engine:run_backtest:53 - Starting backtest from 2023-01-01 to 2023-06-30\n",
      "2025-08-02 15:13:59.367 | INFO     | src.data.data_manager:get_historical_data_standardized:589 - Fetching standardized OHLCV data for ['Bitstamp:BTCUSD'] from 2023-01-01 to 2023-06-30\n",
      "2025-08-02 15:13:59.367 | INFO     | src.data.data_manager:get_historical_data:64 - Fetching historical OHLCV data for ['Bitstamp:BTCUSD'] from 2023-01-01 to 2023-06-30\n",
      "ERROR:TradingviewData.main:Connection to remote host was lost.\n",
      "ERROR:TradingviewData.main:no data, please check the exchange and symbol\n",
      "2025-08-02 15:13:59.657 | ERROR    | src.data.data_manager:_fetch_tradingview_ohlcv_data:166 - Error fetching OHLCV data from TradingView: 'NoneType' object has no attribute 'reset_index'\n",
      "2025-08-02 15:13:59.657 | ERROR    | src.optimization.optimizer:_test_parameter_combination:192 - Error testing parameters {'fast_period': 10, 'slow_period': 20, 'signal_period': 9}: 'NoneType' object has no attribute 'reset_index'\n",
      "2025-08-02 15:13:59.659 | INFO     | src.strategies.base_strategy:__init__:34 - Initialized strategy: macd\n",
      "2025-08-02 15:13:59.659 | INFO     | src.strategies.macd_strategy:__init__:54 - MACD Strategy initialized: fast=8, slow=35, signal=12\n",
      "2025-08-02 15:13:59.659 | INFO     | src.backtesting.backtest_engine:run_backtest:53 - Starting backtest from 2023-01-01 to 2023-06-30\n",
      "2025-08-02 15:13:59.659 | INFO     | src.data.data_manager:get_historical_data_standardized:589 - Fetching standardized OHLCV data for ['Bitstamp:BTCUSD'] from 2023-01-01 to 2023-06-30\n",
      "2025-08-02 15:13:59.659 | INFO     | src.data.data_manager:get_historical_data:64 - Fetching historical OHLCV data for ['Bitstamp:BTCUSD'] from 2023-01-01 to 2023-06-30\n",
      "2025-08-02 15:13:59.983 | INFO     | src.data.data_manager:_fetch_tradingview_ohlcv_data:159 - Successfully fetched OHLCV data for 1 symbols\n",
      "2025-08-02 15:13:59.983 | INFO     | src.data.data_manager:get_historical_data:97 - OHLCV data cached successfully\n",
      "2025-08-02 15:13:59.984 | INFO     | src.data.data_manager:ensure_ohlcv_format:500 - Data formatted for Bitstamp:BTCUSD: (100, 5)\n",
      "2025-08-02 15:13:59.984 | INFO     | src.data.data_manager:get_historical_data_standardized:622 - Successfully standardized OHLCV data for 1 symbols\n",
      "2025-08-02 15:13:59.984 | INFO     | src.backtesting.backtest_engine:run_backtest:65 - Running backtest for strategy: macd_test\n",
      "2025-08-02 15:13:59.984 | INFO     | src.strategies.base_strategy:reset:99 - Reset strategy: macd\n",
      "2025-08-02 15:13:59.984 | INFO     | src.risk.risk_manager:__init__:49 - Risk manager initialized\n",
      "2025-08-02 15:13:59.995 | INFO     | src.strategies.macd_strategy:_generate_signal_for_symbol:117 - MACD bullish crossover for Bitstamp:BTCUSD: MACD=1293.1010, Signal=1176.6287\n",
      "2025-08-02 15:13:59.996 | DEBUG    | src.backtesting.backtest_engine:_execute_trades:216 - BUY 0.18 Bitstamp:BTCUSD @ $110292.00\n",
      "2025-08-02 15:13:59.997 | INFO     | src.strategies.macd_strategy:_generate_signal_for_symbol:123 - MACD bearish crossover for Bitstamp:BTCUSD: MACD=1198.7266, Signal=1209.4767\n",
      "2025-08-02 15:13:59.997 | DEBUG    | src.backtesting.backtest_engine:_execute_trades:245 - SELL 0.18 Bitstamp:BTCUSD @ $105731.00\n",
      "2025-08-02 15:14:00.000 | INFO     | src.strategies.macd_strategy:_generate_signal_for_symbol:144 - MACD zero line bearish crossover for Bitstamp:BTCUSD: MACD=-19.8770\n",
      "2025-08-02 15:14:00.002 | INFO     | src.strategies.macd_strategy:_generate_signal_for_symbol:117 - MACD bullish crossover for Bitstamp:BTCUSD: MACD=118.9699, Signal=82.0441\n",
      "2025-08-02 15:14:00.002 | DEBUG    | src.backtesting.backtest_engine:_execute_trades:216 - BUY 0.19 Bitstamp:BTCUSD @ $107004.00\n",
      "2025-08-02 15:14:00.012 | INFO     | src.strategies.macd_strategy:_generate_signal_for_symbol:123 - MACD bearish crossover for Bitstamp:BTCUSD: MACD=3828.2807, Signal=3922.8860\n",
      "2025-08-02 15:14:00.012 | DEBUG    | src.backtesting.backtest_engine:_execute_trades:245 - SELL 0.19 Bitstamp:BTCUSD @ $117653.00\n",
      "2025-08-02 15:14:00.018 | INFO     | src.strategies.base_strategy:__init__:34 - Initialized strategy: macd\n",
      "2025-08-02 15:14:00.018 | INFO     | src.strategies.macd_strategy:__init__:54 - MACD Strategy initialized: fast=12, slow=35, signal=7\n",
      "2025-08-02 15:14:00.018 | INFO     | src.backtesting.backtest_engine:run_backtest:53 - Starting backtest from 2023-01-01 to 2023-06-30\n",
      "2025-08-02 15:14:00.018 | INFO     | src.data.data_manager:get_historical_data_standardized:589 - Fetching standardized OHLCV data for ['Bitstamp:BTCUSD'] from 2023-01-01 to 2023-06-30\n",
      "2025-08-02 15:14:00.018 | INFO     | src.data.data_manager:get_historical_data:64 - Fetching historical OHLCV data for ['Bitstamp:BTCUSD'] from 2023-01-01 to 2023-06-30\n",
      "2025-08-02 15:14:00.464 | INFO     | src.data.data_manager:_fetch_tradingview_ohlcv_data:159 - Successfully fetched OHLCV data for 1 symbols\n",
      "2025-08-02 15:14:00.465 | INFO     | src.data.data_manager:get_historical_data:97 - OHLCV data cached successfully\n",
      "2025-08-02 15:14:00.467 | INFO     | src.data.data_manager:ensure_ohlcv_format:500 - Data formatted for Bitstamp:BTCUSD: (100, 5)\n",
      "2025-08-02 15:14:00.467 | INFO     | src.data.data_manager:get_historical_data_standardized:622 - Successfully standardized OHLCV data for 1 symbols\n",
      "2025-08-02 15:14:00.467 | INFO     | src.backtesting.backtest_engine:run_backtest:65 - Running backtest for strategy: macd_test\n",
      "2025-08-02 15:14:00.467 | INFO     | src.strategies.base_strategy:reset:99 - Reset strategy: macd\n",
      "2025-08-02 15:14:00.467 | INFO     | src.risk.risk_manager:__init__:49 - Risk manager initialized\n",
      "2025-08-02 15:14:00.481 | INFO     | src.strategies.macd_strategy:_generate_signal_for_symbol:117 - MACD bullish crossover for Bitstamp:BTCUSD: MACD=996.0211, Signal=905.4053\n",
      "2025-08-02 15:14:00.481 | DEBUG    | src.backtesting.backtest_engine:_execute_trades:216 - BUY 0.18 Bitstamp:BTCUSD @ $110292.00\n",
      "2025-08-02 15:14:00.483 | INFO     | src.strategies.macd_strategy:_generate_signal_for_symbol:123 - MACD bearish crossover for Bitstamp:BTCUSD: MACD=899.5565, Signal=934.4452\n",
      "2025-08-02 15:14:00.483 | DEBUG    | src.backtesting.backtest_engine:_execute_trades:245 - SELL 0.18 Bitstamp:BTCUSD @ $106118.00\n",
      "2025-08-02 15:14:00.486 | INFO     | src.strategies.macd_strategy:_generate_signal_for_symbol:144 - MACD zero line bearish crossover for Bitstamp:BTCUSD: MACD=-47.5904\n",
      "2025-08-02 15:14:00.487 | INFO     | src.strategies.macd_strategy:_generate_signal_for_symbol:140 - MACD zero line bullish crossover for Bitstamp:BTCUSD: MACD=34.5518\n",
      "2025-08-02 15:14:00.487 | DEBUG    | src.backtesting.backtest_engine:_execute_trades:216 - BUY 0.19 Bitstamp:BTCUSD @ $106131.00\n",
      "2025-08-02 15:14:00.488 | INFO     | src.strategies.macd_strategy:_generate_signal_for_symbol:117 - MACD bullish crossover for Bitstamp:BTCUSD: MACD=207.6447, Signal=186.6927\n",
      "2025-08-02 15:14:00.500 | INFO     | src.strategies.macd_strategy:_generate_signal_for_symbol:123 - MACD bearish crossover for Bitstamp:BTCUSD: MACD=2917.2183, Signal=2958.3286\n",
      "2025-08-02 15:14:00.500 | DEBUG    | src.backtesting.backtest_engine:_execute_trades:245 - SELL 0.19 Bitstamp:BTCUSD @ $117962.00\n",
      "2025-08-02 15:14:00.506 | INFO     | src.strategies.base_strategy:__init__:34 - Initialized strategy: macd\n",
      "2025-08-02 15:14:00.506 | INFO     | src.strategies.macd_strategy:__init__:54 - MACD Strategy initialized: fast=20, slow=35, signal=7\n",
      "2025-08-02 15:14:00.506 | INFO     | src.backtesting.backtest_engine:run_backtest:53 - Starting backtest from 2023-01-01 to 2023-06-30\n",
      "2025-08-02 15:14:00.506 | INFO     | src.data.data_manager:get_historical_data_standardized:589 - Fetching standardized OHLCV data for ['Bitstamp:BTCUSD'] from 2023-01-01 to 2023-06-30\n",
      "2025-08-02 15:14:00.506 | INFO     | src.data.data_manager:get_historical_data:64 - Fetching historical OHLCV data for ['Bitstamp:BTCUSD'] from 2023-01-01 to 2023-06-30\n",
      "2025-08-02 15:14:00.966 | INFO     | src.data.data_manager:_fetch_tradingview_ohlcv_data:159 - Successfully fetched OHLCV data for 1 symbols\n",
      "2025-08-02 15:14:00.967 | INFO     | src.data.data_manager:get_historical_data:97 - OHLCV data cached successfully\n",
      "2025-08-02 15:14:00.969 | INFO     | src.data.data_manager:ensure_ohlcv_format:500 - Data formatted for Bitstamp:BTCUSD: (100, 5)\n",
      "2025-08-02 15:14:00.969 | INFO     | src.data.data_manager:get_historical_data_standardized:622 - Successfully standardized OHLCV data for 1 symbols\n",
      "2025-08-02 15:14:00.969 | INFO     | src.backtesting.backtest_engine:run_backtest:65 - Running backtest for strategy: macd_test\n",
      "2025-08-02 15:14:00.969 | INFO     | src.strategies.base_strategy:reset:99 - Reset strategy: macd\n",
      "2025-08-02 15:14:00.969 | INFO     | src.risk.risk_manager:__init__:49 - Risk manager initialized\n",
      "2025-08-02 15:14:00.988 | INFO     | src.strategies.macd_strategy:_generate_signal_for_symbol:117 - MACD bullish crossover for Bitstamp:BTCUSD: MACD=1211.5294, Signal=1033.4223\n",
      "2025-08-02 15:14:00.988 | DEBUG    | src.backtesting.backtest_engine:_execute_trades:216 - BUY 0.18 Bitstamp:BTCUSD @ $110307.00\n",
      "2025-08-02 15:14:00.990 | INFO     | src.strategies.macd_strategy:_generate_signal_for_symbol:123 - MACD bearish crossover for Bitstamp:BTCUSD: MACD=1344.3006, Signal=1383.0894\n",
      "2025-08-02 15:14:00.990 | DEBUG    | src.backtesting.backtest_engine:_execute_trades:245 - SELL 0.18 Bitstamp:BTCUSD @ $106118.00\n",
      "2025-08-02 15:14:00.994 | INFO     | src.strategies.macd_strategy:_generate_signal_for_symbol:144 - MACD zero line bearish crossover for Bitstamp:BTCUSD: MACD=-50.9442\n",
      "2025-08-02 15:14:00.997 | INFO     | src.strategies.macd_strategy:_generate_signal_for_symbol:117 - MACD bullish crossover for Bitstamp:BTCUSD: MACD=-10.9055, Signal=-177.5405\n",
      "2025-08-02 15:14:00.998 | DEBUG    | src.backtesting.backtest_engine:_execute_trades:216 - BUY 0.18 Bitstamp:BTCUSD @ $107418.00\n",
      "2025-08-02 15:14:00.998 | INFO     | src.strategies.macd_strategy:_generate_signal_for_symbol:140 - MACD zero line bullish crossover for Bitstamp:BTCUSD: MACD=235.3060\n",
      "2025-08-02 15:14:01.010 | INFO     | src.strategies.macd_strategy:_generate_signal_for_symbol:123 - MACD bearish crossover for Bitstamp:BTCUSD: MACD=5197.0759, Signal=5293.8949\n",
      "2025-08-02 15:14:01.010 | DEBUG    | src.backtesting.backtest_engine:_execute_trades:245 - SELL 0.18 Bitstamp:BTCUSD @ $117437.00\n",
      "2025-08-02 15:14:01.011 | INFO     | src.strategies.macd_strategy:_generate_signal_for_symbol:117 - MACD bullish crossover for Bitstamp:BTCUSD: MACD=5318.7169, Signal=5300.1004\n",
      "2025-08-02 15:14:01.011 | DEBUG    | src.backtesting.backtest_engine:_execute_trades:216 - BUY 0.17 Bitstamp:BTCUSD @ $120011.00\n",
      "2025-08-02 15:14:01.011 | INFO     | src.strategies.macd_strategy:_generate_signal_for_symbol:123 - MACD bearish crossover for Bitstamp:BTCUSD: MACD=5207.0938, Signal=5276.8487\n",
      "2025-08-02 15:14:01.011 | DEBUG    | src.backtesting.backtest_engine:_execute_trades:245 - SELL 0.17 Bitstamp:BTCUSD @ $118813.00\n",
      "2025-08-02 15:14:01.483 | INFO     | src.data.data_manager:_fetch_tradingview_ohlcv_data:159 - Successfully fetched OHLCV data for 1 symbols\n",
      "2025-08-02 15:14:01.484 | INFO     | src.data.data_manager:get_historical_data:97 - OHLCV data cached successfully\n",
      "2025-08-02 15:14:01.486 | INFO     | src.data.data_manager:ensure_ohlcv_format:500 - Data formatted for Bitstamp:BTCUSD: (100, 5)\n",
      "2025-08-02 15:14:01.486 | INFO     | src.data.data_manager:get_historical_data_standardized:622 - Successfully standardized OHLCV data for 1 symbols\n",
      "2025-08-02 15:14:01.486 | INFO     | src.backtesting.backtest_engine:run_backtest:65 - Running backtest for strategy: macd_test\n",
      "2025-08-02 15:14:01.486 | INFO     | src.strategies.base_strategy:reset:99 - Reset strategy: macd\n",
      "2025-08-02 15:14:01.487 | INFO     | src.risk.risk_manager:__init__:49 - Risk manager initialized\n",
      "2025-08-02 15:14:01.506 | INFO     | src.strategies.macd_strategy:_generate_signal_for_symbol:117 - MACD bullish crossover for Bitstamp:BTCUSD: MACD=1741.2977, Signal=1246.2346\n",
      "2025-08-02 15:14:01.506 | DEBUG    | src.backtesting.backtest_engine:_execute_trades:216 - BUY 0.18 Bitstamp:BTCUSD @ $110292.00\n",
      "2025-08-02 15:14:01.508 | INFO     | src.strategies.macd_strategy:_generate_signal_for_symbol:123 - MACD bearish crossover for Bitstamp:BTCUSD: MACD=1239.1964, Signal=1347.0515\n",
      "2025-08-02 15:14:01.508 | DEBUG    | src.backtesting.backtest_engine:_execute_trades:245 - SELL 0.18 Bitstamp:BTCUSD @ $106118.00\n",
      "2025-08-02 15:14:01.512 | INFO     | src.strategies.macd_strategy:_generate_signal_for_symbol:144 - MACD zero line bearish crossover for Bitstamp:BTCUSD: MACD=-361.3965\n",
      "2025-08-02 15:14:01.515 | INFO     | src.strategies.macd_strategy:_generate_signal_for_symbol:117 - MACD bullish crossover for Bitstamp:BTCUSD: MACD=-48.0220, Signal=-120.7314\n",
      "2025-08-02 15:14:01.515 | DEBUG    | src.backtesting.backtest_engine:_execute_trades:216 - BUY 0.18 Bitstamp:BTCUSD @ $107418.00\n",
      "2025-08-02 15:14:01.515 | INFO     | src.strategies.macd_strategy:_generate_signal_for_symbol:140 - MACD zero line bullish crossover for Bitstamp:BTCUSD: MACD=259.0411\n",
      "2025-08-02 15:14:01.529 | INFO     | src.strategies.macd_strategy:_generate_signal_for_symbol:123 - MACD bearish crossover for Bitstamp:BTCUSD: MACD=4693.8324, Signal=4885.8056\n",
      "2025-08-02 15:14:01.529 | DEBUG    | src.backtesting.backtest_engine:_execute_trades:245 - SELL 0.18 Bitstamp:BTCUSD @ $118347.00\n",
      "2025-08-02 15:14:01.972 | INFO     | src.data.data_manager:_fetch_tradingview_ohlcv_data:159 - Successfully fetched OHLCV data for 1 symbols\n",
      "2025-08-02 15:14:01.973 | INFO     | src.data.data_manager:get_historical_data:97 - OHLCV data cached successfully\n",
      "2025-08-02 15:14:01.975 | INFO     | src.data.data_manager:ensure_ohlcv_format:500 - Data formatted for Bitstamp:BTCUSD: (100, 5)\n",
      "2025-08-02 15:14:01.975 | INFO     | src.data.data_manager:get_historical_data_standardized:622 - Successfully standardized OHLCV data for 1 symbols\n",
      "2025-08-02 15:14:01.976 | INFO     | src.backtesting.backtest_engine:run_backtest:65 - Running backtest for strategy: macd_test\n",
      "2025-08-02 15:14:01.976 | INFO     | src.strategies.base_strategy:reset:99 - Reset strategy: macd\n",
      "2025-08-02 15:14:01.976 | INFO     | src.risk.risk_manager:__init__:49 - Risk manager initialized\n",
      "2025-08-02 15:14:01.997 | INFO     | src.strategies.macd_strategy:_generate_signal_for_symbol:117 - MACD bullish crossover for Bitstamp:BTCUSD: MACD=950.0465, Signal=873.0753\n",
      "2025-08-02 15:14:01.997 | DEBUG    | src.backtesting.backtest_engine:_execute_trades:216 - BUY 0.18 Bitstamp:BTCUSD @ $110307.00\n",
      "2025-08-02 15:14:01.999 | INFO     | src.strategies.macd_strategy:_generate_signal_for_symbol:123 - MACD bearish crossover for Bitstamp:BTCUSD: MACD=1062.1554, Signal=1100.1936\n",
      "2025-08-02 15:14:01.999 | DEBUG    | src.backtesting.backtest_engine:_execute_trades:245 - SELL 0.18 Bitstamp:BTCUSD @ $106118.00\n",
      "2025-08-02 15:14:02.003 | INFO     | src.strategies.macd_strategy:_generate_signal_for_symbol:144 - MACD zero line bearish crossover for Bitstamp:BTCUSD: MACD=-19.8770\n",
      "2025-08-02 15:14:02.006 | INFO     | src.strategies.macd_strategy:_generate_signal_for_symbol:117 - MACD bullish crossover for Bitstamp:BTCUSD: MACD=-64.6272, Signal=-151.2502\n",
      "2025-08-02 15:14:02.006 | DEBUG    | src.backtesting.backtest_engine:_execute_trades:216 - BUY 0.18 Bitstamp:BTCUSD @ $107418.00\n",
      "2025-08-02 15:14:02.006 | INFO     | src.strategies.macd_strategy:_generate_signal_for_symbol:140 - MACD zero line bullish crossover for Bitstamp:BTCUSD: MACD=118.9699\n",
      "2025-08-02 15:14:02.018 | INFO     | src.strategies.macd_strategy:_generate_signal_for_symbol:123 - MACD bearish crossover for Bitstamp:BTCUSD: MACD=4198.6870, Signal=4221.5972\n",
      "2025-08-02 15:14:02.018 | DEBUG    | src.backtesting.backtest_engine:_execute_trades:245 - SELL 0.18 Bitstamp:BTCUSD @ $117437.00\n",
      "2025-08-02 15:14:02.018 | INFO     | src.strategies.macd_strategy:_generate_signal_for_symbol:117 - MACD bullish crossover for Bitstamp:BTCUSD: MACD=4285.1338, Signal=4237.4813\n",
      "2025-08-02 15:14:02.019 | DEBUG    | src.backtesting.backtest_engine:_execute_trades:216 - BUY 0.17 Bitstamp:BTCUSD @ $120011.00\n",
      "2025-08-02 15:14:02.019 | INFO     | src.strategies.macd_strategy:_generate_signal_for_symbol:123 - MACD bearish crossover for Bitstamp:BTCUSD: MACD=4200.1140, Signal=4228.1395\n",
      "2025-08-02 15:14:02.019 | DEBUG    | src.backtesting.backtest_engine:_execute_trades:245 - SELL 0.17 Bitstamp:BTCUSD @ $118813.00\n",
      "2025-08-02 15:14:02.463 | INFO     | src.data.data_manager:_fetch_tradingview_ohlcv_data:159 - Successfully fetched OHLCV data for 1 symbols\n",
      "2025-08-02 15:14:02.464 | INFO     | src.data.data_manager:get_historical_data:97 - OHLCV data cached successfully\n",
      "2025-08-02 15:14:02.465 | INFO     | src.data.data_manager:ensure_ohlcv_format:500 - Data formatted for Bitstamp:BTCUSD: (100, 5)\n",
      "2025-08-02 15:14:02.465 | INFO     | src.data.data_manager:get_historical_data_standardized:622 - Successfully standardized OHLCV data for 1 symbols\n",
      "2025-08-02 15:14:02.465 | INFO     | src.backtesting.backtest_engine:run_backtest:65 - Running backtest for strategy: macd_test\n",
      "2025-08-02 15:14:02.465 | INFO     | src.strategies.base_strategy:reset:99 - Reset strategy: macd\n",
      "2025-08-02 15:14:02.465 | INFO     | src.risk.risk_manager:__init__:49 - Risk manager initialized\n",
      "2025-08-02 15:14:02.476 | INFO     | src.strategies.macd_strategy:_generate_signal_for_symbol:117 - MACD bullish crossover for Bitstamp:BTCUSD: MACD=789.1652, Signal=710.0740\n",
      "2025-08-02 15:14:02.476 | DEBUG    | src.backtesting.backtest_engine:_execute_trades:216 - BUY 0.18 Bitstamp:BTCUSD @ $110292.00\n",
      "2025-08-02 15:14:02.477 | INFO     | src.strategies.macd_strategy:_generate_signal_for_symbol:123 - MACD bearish crossover for Bitstamp:BTCUSD: MACD=703.7142, Signal=734.7164\n",
      "2025-08-02 15:14:02.477 | DEBUG    | src.backtesting.backtest_engine:_execute_trades:245 - SELL 0.18 Bitstamp:BTCUSD @ $106118.00\n",
      "2025-08-02 15:14:02.480 | INFO     | src.strategies.macd_strategy:_generate_signal_for_symbol:144 - MACD zero line bearish crossover for Bitstamp:BTCUSD: MACD=-103.5174\n",
      "2025-08-02 15:14:02.481 | INFO     | src.strategies.macd_strategy:_generate_signal_for_symbol:140 - MACD zero line bullish crossover for Bitstamp:BTCUSD: MACD=66.5816\n",
      "2025-08-02 15:14:02.482 | DEBUG    | src.backtesting.backtest_engine:_execute_trades:216 - BUY 0.18 Bitstamp:BTCUSD @ $107418.00\n",
      "2025-08-02 15:14:02.482 | INFO     | src.strategies.macd_strategy:_generate_signal_for_symbol:117 - MACD bullish crossover for Bitstamp:BTCUSD: MACD=128.9788, Signal=103.4327\n",
      "2025-08-02 15:14:02.491 | INFO     | src.strategies.macd_strategy:_generate_signal_for_symbol:123 - MACD bearish crossover for Bitstamp:BTCUSD: MACD=2377.1922, Signal=2394.6349\n",
      "2025-08-02 15:14:02.491 | DEBUG    | src.backtesting.backtest_engine:_execute_trades:245 - SELL 0.18 Bitstamp:BTCUSD @ $117653.00\n",
      "\u001b[32m2025-08-02 15:14:02.496\u001b[0m | \u001b[1mINFO    \u001b[0m | \u001b[36msrc.optimization.optimizer\u001b[0m:\u001b[36m_optimize_parallel\u001b[0m:\u001b[36m149\u001b[0m - \u001b[1mCompleted 50/50 combinations\u001b[0m\n",
      "\u001b[32m2025-08-02 15:14:02.938\u001b[0m | \u001b[1mINFO    \u001b[0m | \u001b[36msrc.optimization.optimizer\u001b[0m:\u001b[36moptimize_strategy\u001b[0m:\u001b[36m99\u001b[0m - \u001b[1mOptimization completed for macd\u001b[0m\n",
      "\u001b[32m2025-08-02 15:14:02.939\u001b[0m | \u001b[1mINFO    \u001b[0m | \u001b[36msrc.optimization.optimizer\u001b[0m:\u001b[36moptimize_strategy\u001b[0m:\u001b[36m100\u001b[0m - \u001b[1mBest parameters: {'parameters': {'fast_period': 10, 'slow_period': 26, 'signal_period': 12}, 'metrics': {'total_return': 0.02135023981219253, 'annualized_return': 0.08100050407494463, 'sharpe_ratio': 1.1431964449513792, 'max_drawdown': -0.011417955747370097, 'volatility': 0.029935552334925734, 'win_rate': 0.0, 'profit_factor': 0.0, 'total_trades': 0, 'final_portfolio_value': 102135.02398121926, 'current_drawdown': -0.002396054415678094, 'portfolio_volatility': 0.029935552334925734}, 'rank': 1}\u001b[0m\n"
     ]
    },
    {
     "name": "stdout",
     "output_type": "stream",
     "text": [
      "✅ Optimization completed for macd\n",
      "Best parameters: {'parameters': {'fast_period': 10, 'slow_period': 26, 'signal_period': 12}, 'metrics': {'total_return': 0.02135023981219253, 'annualized_return': 0.08100050407494463, 'sharpe_ratio': 1.1431964449513792, 'max_drawdown': -0.011417955747370097, 'volatility': 0.029935552334925734, 'win_rate': 0.0, 'profit_factor': 0.0, 'total_trades': 0, 'final_portfolio_value': 102135.02398121926, 'current_drawdown': -0.002396054415678094, 'portfolio_volatility': 0.029935552334925734}, 'rank': 1}\n",
      "Best sharpe_ratio: N/A\n"
     ]
    }
   ],
   "source": [
    "# Cell 5: Optimize parameters cho từng strategy\n",
    "print(\"=== BẮT ĐẦU OPTIMIZE PARAMETERS ===\")\n",
    "\n",
    "# Cấu hình optimization\n",
    "optimization_start_date = \"2023-01-01\"\n",
    "optimization_end_date = \"2023-06-30\"  # Sử dụng 6 tháng đầu để optimize\n",
    "backtest_start_date = \"2023-07-01\"    # Sử dụng 6 tháng cuối để backtest\n",
    "backtest_end_date = \"2023-12-31\"\n",
    "\n",
    "optimization_metric = 'sharpe_ratio'  # Có thể thay đổi: 'total_return', 'profit_factor', 'max_drawdown'\n",
    "max_combinations_per_strategy = 50    # Giới hạn số combinations để test\n",
    "\n",
    "# Optimize cho từng strategy\n",
    "strategy_types = ['sma_crossover', 'rsi', 'macd']\n",
    "optimization_results = {}\n",
    "\n",
    "for strategy_type in strategy_types:\n",
    "    print(f\"\\n--- Optimizing {strategy_type.upper()} ---\")\n",
    "    \n",
    "    try:\n",
    "        # Chạy optimization\n",
    "        result = optimizer.optimize_strategy(\n",
    "            strategy_type=strategy_type,\n",
    "            start_date=optimization_start_date,\n",
    "            end_date=optimization_end_date,\n",
    "            optimization_metric=optimization_metric,\n",
    "            max_combinations=max_combinations_per_strategy,\n",
    "            use_parallel=True\n",
    "        )\n",
    "        \n",
    "        if result:\n",
    "            optimization_results[strategy_type] = result\n",
    "            best_params = optimizer.best_parameters[strategy_type]\n",
    "            print(f\"✅ Optimization completed for {strategy_type}\")\n",
    "            print(f\"Best parameters: {best_params}\")\n",
    "            print(f\"Best {optimization_metric}: {result.get('best_metric_value', 'N/A')}\")\n",
    "        else:\n",
    "            print(f\"❌ Optimization failed for {strategy_type}\")\n",
    "            \n",
    "    except Exception as e:\n",
    "        print(f\"❌ Error optimizing {strategy_type}: {str(e)}\")"
   ]
  },
  {
   "cell_type": "code",
   "execution_count": 6,
   "id": "5fa118c2",
   "metadata": {},
   "outputs": [
    {
     "name": "stdout",
     "output_type": "stream",
     "text": [
      "\n",
      "=== KẾT QUẢ OPTIMIZATION ===\n",
      "\n",
      "SMA_CROSSOVER:\n",
      "  Best parameters: {'parameters': {'short_window': 10, 'long_window': 60}, 'metrics': {'total_return': 0.01583959644997357, 'annualized_return': 0.05965229884864942, 'sharpe_ratio': 0.7266163316764024, 'max_drawdown': -0.012492581237808715, 'volatility': 0.028069029884101097, 'win_rate': 0.0, 'profit_factor': 0.0, 'total_trades': 0, 'final_portfolio_value': 101583.95964499735, 'current_drawdown': -0.011239262286793294, 'portfolio_volatility': 0.028069029884101097}, 'rank': 1}\n",
      "  Best sharpe_ratio: N/A\n",
      "  Total combinations tested: 48\n",
      "  Top 5 parameters:\n",
      "    1. {'rank': 1, 'parameters': {'short_window': 10, 'long_window': 60}, 'metrics': {'total_return': 0.01583959644997357, 'annualized_return': 0.05965229884864942, 'sharpe_ratio': 0.7266163316764024, 'max_drawdown': -0.012492581237808715, 'volatility': 0.028069029884101097, 'win_rate': 0.0, 'profit_factor': 0.0, 'total_trades': 0, 'final_portfolio_value': 101583.95964499735, 'current_drawdown': -0.011239262286793294, 'portfolio_volatility': 0.028069029884101097}}\n",
      "    2. {'rank': 2, 'parameters': {'short_window': 15, 'long_window': 60}, 'metrics': {'total_return': 0.01583959644997357, 'annualized_return': 0.05965229884864942, 'sharpe_ratio': 0.7266163316764024, 'max_drawdown': -0.012492581237808715, 'volatility': 0.028069029884101097, 'win_rate': 0.0, 'profit_factor': 0.0, 'total_trades': 0, 'final_portfolio_value': 101583.95964499735, 'current_drawdown': -0.011239262286793294, 'portfolio_volatility': 0.028069029884101097}}\n",
      "    3. {'rank': 3, 'parameters': {'short_window': 20, 'long_window': 60}, 'metrics': {'total_return': 0.01583959644997357, 'annualized_return': 0.05965229884864942, 'sharpe_ratio': 0.7266163316764024, 'max_drawdown': -0.012492581237808715, 'volatility': 0.028069029884101097, 'win_rate': 0.0, 'profit_factor': 0.0, 'total_trades': 0, 'final_portfolio_value': 101583.95964499735, 'current_drawdown': -0.011239262286793294, 'portfolio_volatility': 0.028069029884101097}}\n",
      "    4. {'rank': 4, 'parameters': {'short_window': 25, 'long_window': 60}, 'metrics': {'total_return': 0.01583959644997357, 'annualized_return': 0.05965229884864942, 'sharpe_ratio': 0.7266163316764024, 'max_drawdown': -0.012492581237808715, 'volatility': 0.028069029884101097, 'win_rate': 0.0, 'profit_factor': 0.0, 'total_trades': 0, 'final_portfolio_value': 101583.95964499735, 'current_drawdown': -0.011239262286793294, 'portfolio_volatility': 0.028069029884101097}}\n",
      "    5. {'rank': 5, 'parameters': {'short_window': 30, 'long_window': 60}, 'metrics': {'total_return': 0.01583959644997357, 'annualized_return': 0.05965229884864942, 'sharpe_ratio': 0.7266163316764024, 'max_drawdown': -0.012492581237808715, 'volatility': 0.028069029884101097, 'win_rate': 0.0, 'profit_factor': 0.0, 'total_trades': 0, 'final_portfolio_value': 101583.95964499735, 'current_drawdown': -0.011239262286793294, 'portfolio_volatility': 0.028069029884101097}}\n",
      "\n",
      "RSI:\n",
      "  Best parameters: {'parameters': {'period': 10, 'oversold': 20, 'overbought': 80}, 'metrics': {'total_return': 0.01698873391131661, 'annualized_return': 0.06407846613294033, 'sharpe_ratio': 0.8492914204353925, 'max_drawdown': -0.008221417646134233, 'volatility': 0.027381078536949592, 'win_rate': 0.0, 'profit_factor': 0.0, 'total_trades': 0, 'final_portfolio_value': 101698.87339113167, 'current_drawdown': 0.0, 'portfolio_volatility': 0.027381078536949592}, 'rank': 1}\n",
      "  Best sharpe_ratio: N/A\n",
      "  Total combinations tested: 50\n",
      "  Top 5 parameters:\n",
      "    1. {'rank': 1, 'parameters': {'period': 10, 'oversold': 20, 'overbought': 80}, 'metrics': {'total_return': 0.01698873391131661, 'annualized_return': 0.06407846613294033, 'sharpe_ratio': 0.8492914204353925, 'max_drawdown': -0.008221417646134233, 'volatility': 0.027381078536949592, 'win_rate': 0.0, 'profit_factor': 0.0, 'total_trades': 0, 'final_portfolio_value': 101698.87339113167, 'current_drawdown': 0.0, 'portfolio_volatility': 0.027381078536949592}}\n",
      "    2. {'rank': 2, 'parameters': {'period': 10, 'oversold': 20, 'overbought': 75}, 'metrics': {'total_return': 0.01698873391131661, 'annualized_return': 0.06407846613294033, 'sharpe_ratio': 0.8492914204353925, 'max_drawdown': -0.008221417646134233, 'volatility': 0.027381078536949592, 'win_rate': 0.0, 'profit_factor': 0.0, 'total_trades': 0, 'final_portfolio_value': 101698.87339113167, 'current_drawdown': 0.0, 'portfolio_volatility': 0.027381078536949592}}\n",
      "    3. {'rank': 3, 'parameters': {'period': 10, 'oversold': 25, 'overbought': 80}, 'metrics': {'total_return': 0.01698873391131661, 'annualized_return': 0.06407846613294033, 'sharpe_ratio': 0.8492914204353925, 'max_drawdown': -0.008221417646134233, 'volatility': 0.027381078536949592, 'win_rate': 0.0, 'profit_factor': 0.0, 'total_trades': 0, 'final_portfolio_value': 101698.87339113167, 'current_drawdown': 0.0, 'portfolio_volatility': 0.027381078536949592}}\n",
      "    4. {'rank': 4, 'parameters': {'period': 10, 'oversold': 25, 'overbought': 65}, 'metrics': {'total_return': 0.01698873391131661, 'annualized_return': 0.06407846613294033, 'sharpe_ratio': 0.8492914204353925, 'max_drawdown': -0.008221417646134233, 'volatility': 0.027381078536949592, 'win_rate': 0.0, 'profit_factor': 0.0, 'total_trades': 0, 'final_portfolio_value': 101698.87339113167, 'current_drawdown': 0.0, 'portfolio_volatility': 0.027381078536949592}}\n",
      "    5. {'rank': 5, 'parameters': {'period': 10, 'oversold': 20, 'overbought': 70}, 'metrics': {'total_return': 0.01698873391131661, 'annualized_return': 0.06407846613294033, 'sharpe_ratio': 0.8492914204353925, 'max_drawdown': -0.008221417646134233, 'volatility': 0.027381078536949592, 'win_rate': 0.0, 'profit_factor': 0.0, 'total_trades': 0, 'final_portfolio_value': 101698.87339113167, 'current_drawdown': 0.0, 'portfolio_volatility': 0.027381078536949592}}\n",
      "\n",
      "MACD:\n",
      "  Best parameters: {'parameters': {'fast_period': 10, 'slow_period': 26, 'signal_period': 12}, 'metrics': {'total_return': 0.02135023981219253, 'annualized_return': 0.08100050407494463, 'sharpe_ratio': 1.1431964449513792, 'max_drawdown': -0.011417955747370097, 'volatility': 0.029935552334925734, 'win_rate': 0.0, 'profit_factor': 0.0, 'total_trades': 0, 'final_portfolio_value': 102135.02398121926, 'current_drawdown': -0.002396054415678094, 'portfolio_volatility': 0.029935552334925734}, 'rank': 1}\n",
      "  Best sharpe_ratio: N/A\n",
      "  Total combinations tested: 50\n",
      "  Top 5 parameters:\n",
      "    1. {'rank': 1, 'parameters': {'fast_period': 10, 'slow_period': 26, 'signal_period': 12}, 'metrics': {'total_return': 0.02135023981219253, 'annualized_return': 0.08100050407494463, 'sharpe_ratio': 1.1431964449513792, 'max_drawdown': -0.011417955747370097, 'volatility': 0.029935552334925734, 'win_rate': 0.0, 'profit_factor': 0.0, 'total_trades': 0, 'final_portfolio_value': 102135.02398121926, 'current_drawdown': -0.002396054415678094, 'portfolio_volatility': 0.029935552334925734}}\n",
      "    2. {'rank': 2, 'parameters': {'fast_period': 8, 'slow_period': 30, 'signal_period': 15}, 'metrics': {'total_return': 0.021335139797601377, 'annualized_return': 0.08094158205697854, 'sharpe_ratio': 1.14030361013133, 'max_drawdown': -0.010662604064239956, 'volatility': 0.02997962344914594, 'win_rate': 0.0, 'profit_factor': 0.0, 'total_trades': 0, 'final_portfolio_value': 102133.51397976014, 'current_drawdown': -0.0032529329336614034, 'portfolio_volatility': 0.02997962344914594}}\n",
      "    3. {'rank': 3, 'parameters': {'fast_period': 8, 'slow_period': 26, 'signal_period': 15}, 'metrics': {'total_return': 0.02101513992263815, 'annualized_return': 0.07969345551424323, 'sharpe_ratio': 1.1156973036246975, 'max_drawdown': -0.011407532353359005, 'volatility': 0.029924261221022697, 'win_rate': 0.0, 'profit_factor': 0.0, 'total_trades': 0, 'final_portfolio_value': 102101.5139922638, 'current_drawdown': -0.0023960544156780427, 'portfolio_volatility': 0.029924261221022697}}\n",
      "    4. {'rank': 4, 'parameters': {'fast_period': 10, 'slow_period': 26, 'signal_period': 9}, 'metrics': {'total_return': 0.01878945532239329, 'annualized_return': 0.07104143709208088, 'sharpe_ratio': 0.9665938867599237, 'max_drawdown': -0.011417955747370097, 'volatility': 0.028757320099529225, 'win_rate': 0.0, 'profit_factor': 0.0, 'total_trades': 0, 'final_portfolio_value': 101878.94553223933, 'current_drawdown': -0.004658234409952624, 'portfolio_volatility': 0.028757320099529225}}\n",
      "    5. {'rank': 5, 'parameters': {'fast_period': 10, 'slow_period': 26, 'signal_period': 7}, 'metrics': {'total_return': 0.01860707386890459, 'annualized_return': 0.07033470351508608, 'sharpe_ratio': 0.94993621145842, 'max_drawdown': -0.011417955747370097, 'volatility': 0.028782521985940505, 'win_rate': 0.0, 'profit_factor': 0.0, 'total_trades': 0, 'final_portfolio_value': 101860.70738689047, 'current_drawdown': -0.004836418309459917, 'portfolio_volatility': 0.028782521985940505}}\n"
     ]
    }
   ],
   "source": [
    "# Cell 6: Hiển thị kết quả optimization\n",
    "print(\"\\n=== KẾT QUẢ OPTIMIZATION ===\")\n",
    "\n",
    "for strategy_type, result in optimization_results.items():\n",
    "    print(f\"\\n{strategy_type.upper()}:\")\n",
    "    print(f\"  Best parameters: {result.get('best_parameters', {})}\")\n",
    "    print(f\"  Best {optimization_metric}: {result.get('best_metric_value', 'N/A')}\")\n",
    "    print(f\"  Total combinations tested: {result.get('tested_combinations', 0)}\")\n",
    "    \n",
    "    # Hiển thị top 5 parameters\n",
    "    top_params = optimizer.get_top_parameters(strategy_type, top_n=5, metric=optimization_metric)\n",
    "    print(f\"  Top 5 parameters:\")\n",
    "    for i, params in enumerate(top_params, 1):\n",
    "        print(f\"    {i}. {params}\")"
   ]
  },
  {
   "cell_type": "code",
   "execution_count": 7,
   "id": "18241ec5",
   "metadata": {},
   "outputs": [
    {
     "name": "stderr",
     "output_type": "stream",
     "text": [
      "\u001b[32m2025-08-02 15:14:44.582\u001b[0m | \u001b[1mINFO    \u001b[0m | \u001b[36msrc.strategies.base_strategy\u001b[0m:\u001b[36m__init__\u001b[0m:\u001b[36m34\u001b[0m - \u001b[1mInitialized strategy: sma_crossover\u001b[0m\n",
      "\u001b[32m2025-08-02 15:14:44.582\u001b[0m | \u001b[1mINFO    \u001b[0m | \u001b[36msrc.strategies.sma_crossover\u001b[0m:\u001b[36m__init__\u001b[0m:\u001b[36m48\u001b[0m - \u001b[1mSMA Crossover Strategy initialized: 5/30\u001b[0m\n",
      "\u001b[32m2025-08-02 15:14:44.582\u001b[0m | \u001b[1mINFO    \u001b[0m | \u001b[36msrc.core.trading_engine\u001b[0m:\u001b[36madd_strategy\u001b[0m:\u001b[36m82\u001b[0m - \u001b[1mAdded strategy: sma_crossover\u001b[0m\n",
      "\u001b[32m2025-08-02 15:14:44.583\u001b[0m | \u001b[1mINFO    \u001b[0m | \u001b[36msrc.strategies.base_strategy\u001b[0m:\u001b[36m__init__\u001b[0m:\u001b[36m34\u001b[0m - \u001b[1mInitialized strategy: rsi\u001b[0m\n",
      "\u001b[32m2025-08-02 15:14:44.583\u001b[0m | \u001b[1mINFO    \u001b[0m | \u001b[36msrc.strategies.rsi_strategy\u001b[0m:\u001b[36m__init__\u001b[0m:\u001b[36m56\u001b[0m - \u001b[1mRSI Strategy initialized: period=14, overbought=70, oversold=30\u001b[0m\n",
      "\u001b[32m2025-08-02 15:14:44.583\u001b[0m | \u001b[1mINFO    \u001b[0m | \u001b[36msrc.core.trading_engine\u001b[0m:\u001b[36madd_strategy\u001b[0m:\u001b[36m82\u001b[0m - \u001b[1mAdded strategy: rsi\u001b[0m\n",
      "\u001b[32m2025-08-02 15:14:44.583\u001b[0m | \u001b[1mINFO    \u001b[0m | \u001b[36msrc.strategies.base_strategy\u001b[0m:\u001b[36m__init__\u001b[0m:\u001b[36m34\u001b[0m - \u001b[1mInitialized strategy: macd\u001b[0m\n",
      "\u001b[32m2025-08-02 15:14:44.583\u001b[0m | \u001b[1mINFO    \u001b[0m | \u001b[36msrc.strategies.macd_strategy\u001b[0m:\u001b[36m__init__\u001b[0m:\u001b[36m54\u001b[0m - \u001b[1mMACD Strategy initialized: fast=15, slow=20, signal=7\u001b[0m\n",
      "\u001b[32m2025-08-02 15:14:44.584\u001b[0m | \u001b[1mINFO    \u001b[0m | \u001b[36msrc.core.trading_engine\u001b[0m:\u001b[36madd_strategy\u001b[0m:\u001b[36m82\u001b[0m - \u001b[1mAdded strategy: macd\u001b[0m\n"
     ]
    },
    {
     "name": "stdout",
     "output_type": "stream",
     "text": [
      "\n",
      "=== TẠO STRATEGIES VỚI OPTIMIZED PARAMETERS ===\n",
      "✅ Added optimized SMA Crossover: {'parameters': {'short_window': 10, 'long_window': 60}, 'metrics': {'total_return': 0.01583959644997357, 'annualized_return': 0.05965229884864942, 'sharpe_ratio': 0.7266163316764024, 'max_drawdown': -0.012492581237808715, 'volatility': 0.028069029884101097, 'win_rate': 0.0, 'profit_factor': 0.0, 'total_trades': 0, 'final_portfolio_value': 101583.95964499735, 'current_drawdown': -0.011239262286793294, 'portfolio_volatility': 0.028069029884101097}, 'rank': 1}\n",
      "✅ Added optimized RSI Strategy: {'parameters': {'period': 10, 'oversold': 20, 'overbought': 80}, 'metrics': {'total_return': 0.01698873391131661, 'annualized_return': 0.06407846613294033, 'sharpe_ratio': 0.8492914204353925, 'max_drawdown': -0.008221417646134233, 'volatility': 0.027381078536949592, 'win_rate': 0.0, 'profit_factor': 0.0, 'total_trades': 0, 'final_portfolio_value': 101698.87339113167, 'current_drawdown': 0.0, 'portfolio_volatility': 0.027381078536949592}, 'rank': 1}\n",
      "✅ Added optimized MACD Strategy: {'parameters': {'fast_period': 10, 'slow_period': 26, 'signal_period': 12}, 'metrics': {'total_return': 0.02135023981219253, 'annualized_return': 0.08100050407494463, 'sharpe_ratio': 1.1431964449513792, 'max_drawdown': -0.011417955747370097, 'volatility': 0.029935552334925734, 'win_rate': 0.0, 'profit_factor': 0.0, 'total_trades': 0, 'final_portfolio_value': 102135.02398121926, 'current_drawdown': -0.002396054415678094, 'portfolio_volatility': 0.029935552334925734}, 'rank': 1}\n",
      "\n",
      "Tổng cộng đã thêm 3 optimized strategies\n"
     ]
    }
   ],
   "source": [
    "# Cell 7: Tạo strategies với optimized parameters\n",
    "print(\"\\n=== TẠO STRATEGIES VỚI OPTIMIZED PARAMETERS ===\")\n",
    "\n",
    "# Xóa strategies cũ nếu có\n",
    "engine.strategies = {}\n",
    "\n",
    "# Thêm strategies với optimized parameters\n",
    "for strategy_type in strategy_types:\n",
    "    if strategy_type in optimization_results:\n",
    "        best_params = optimization_results[strategy_type]['best_parameters']\n",
    "        \n",
    "        if strategy_type == 'sma_crossover':\n",
    "            strategy = SMACrossoverStrategy({\n",
    "                \"short_window\": best_params.get('short_window', 5),\n",
    "                \"long_window\": best_params.get('long_window', 30),\n",
    "                \"name\": f\"Optimized_SMA_Crossover\"\n",
    "            })\n",
    "            engine.add_strategy(strategy)\n",
    "            print(f\"✅ Added optimized SMA Crossover: {best_params}\")\n",
    "            \n",
    "        elif strategy_type == 'rsi':\n",
    "            strategy = RSIStrategy({\n",
    "                \"period\": best_params.get('period', 14),\n",
    "                \"oversold\": best_params.get('oversold', 30),\n",
    "                \"overbought\": best_params.get('overbought', 70),\n",
    "                \"name\": f\"Optimized_RSI_Strategy\"\n",
    "            })\n",
    "            engine.add_strategy(strategy)\n",
    "            print(f\"✅ Added optimized RSI Strategy: {best_params}\")\n",
    "            \n",
    "        elif strategy_type == 'macd':\n",
    "            strategy = MACDStrategy({\n",
    "                \"fast_period\": best_params.get('fast_period', 15),\n",
    "                \"slow_period\": best_params.get('slow_period', 20),\n",
    "                \"signal_period\": best_params.get('signal_period', 7),\n",
    "                \"name\": f\"Optimized_MACD_Strategy\"\n",
    "            })\n",
    "            engine.add_strategy(strategy)\n",
    "            print(f\"✅ Added optimized MACD Strategy: {best_params}\")\n",
    "\n",
    "print(f\"\\nTổng cộng đã thêm {len(engine.strategies)} optimized strategies\")"
   ]
  },
  {
   "cell_type": "code",
   "execution_count": 8,
   "id": "bcaa235e",
   "metadata": {},
   "outputs": [
    {
     "name": "stderr",
     "output_type": "stream",
     "text": [
      "\u001b[32m2025-08-02 15:14:57.290\u001b[0m | \u001b[1mINFO    \u001b[0m | \u001b[36msrc.core.trading_engine\u001b[0m:\u001b[36mrun_backtest\u001b[0m:\u001b[36m86\u001b[0m - \u001b[1mStarting backtest from 2023-07-01 to 2023-12-31\u001b[0m\n",
      "\u001b[32m2025-08-02 15:14:57.291\u001b[0m | \u001b[1mINFO    \u001b[0m | \u001b[36msrc.data.data_manager\u001b[0m:\u001b[36mget_historical_data_standardized\u001b[0m:\u001b[36m589\u001b[0m - \u001b[1mFetching standardized OHLCV data for ['Bitstamp:BTCUSD'] from 2023-07-01 to 2023-12-31\u001b[0m\n",
      "\u001b[32m2025-08-02 15:14:57.292\u001b[0m | \u001b[1mINFO    \u001b[0m | \u001b[36msrc.data.data_manager\u001b[0m:\u001b[36mget_historical_data\u001b[0m:\u001b[36m64\u001b[0m - \u001b[1mFetching historical OHLCV data for ['Bitstamp:BTCUSD'] from 2023-07-01 to 2023-12-31\u001b[0m\n"
     ]
    },
    {
     "name": "stdout",
     "output_type": "stream",
     "text": [
      "\n",
      "=== CHẠY BACKTEST VỚI OPTIMIZED STRATEGIES ===\n"
     ]
    },
    {
     "name": "stderr",
     "output_type": "stream",
     "text": [
      "\u001b[32m2025-08-02 15:14:57.652\u001b[0m | \u001b[1mINFO    \u001b[0m | \u001b[36msrc.data.data_manager\u001b[0m:\u001b[36m_fetch_tradingview_ohlcv_data\u001b[0m:\u001b[36m159\u001b[0m - \u001b[1mSuccessfully fetched OHLCV data for 1 symbols\u001b[0m\n",
      "\u001b[32m2025-08-02 15:14:57.654\u001b[0m | \u001b[1mINFO    \u001b[0m | \u001b[36msrc.data.data_manager\u001b[0m:\u001b[36mget_historical_data\u001b[0m:\u001b[36m97\u001b[0m - \u001b[1mOHLCV data cached successfully\u001b[0m\n",
      "\u001b[32m2025-08-02 15:14:57.656\u001b[0m | \u001b[1mINFO    \u001b[0m | \u001b[36msrc.data.data_manager\u001b[0m:\u001b[36mensure_ohlcv_format\u001b[0m:\u001b[36m500\u001b[0m - \u001b[1mData formatted for Bitstamp:BTCUSD: (100, 5)\u001b[0m\n",
      "\u001b[32m2025-08-02 15:14:57.657\u001b[0m | \u001b[1mINFO    \u001b[0m | \u001b[36msrc.data.data_manager\u001b[0m:\u001b[36mget_historical_data_standardized\u001b[0m:\u001b[36m622\u001b[0m - \u001b[1mSuccessfully standardized OHLCV data for 1 symbols\u001b[0m\n",
      "\u001b[32m2025-08-02 15:14:57.662\u001b[0m | \u001b[1mINFO    \u001b[0m | \u001b[36msrc.core.trading_engine\u001b[0m:\u001b[36mrun_backtest\u001b[0m:\u001b[36m107\u001b[0m - \u001b[1mLoaded 100 data points for [('Bitstamp:BTCUSD', 'open'), ('Bitstamp:BTCUSD', 'high'), ('Bitstamp:BTCUSD', 'low'), ('Bitstamp:BTCUSD', 'close'), ('Bitstamp:BTCUSD', 'volume')]\u001b[0m\n",
      "\u001b[32m2025-08-02 15:14:57.679\u001b[0m | \u001b[1mINFO    \u001b[0m | \u001b[36msrc.strategies.sma_crossover\u001b[0m:\u001b[36m_generate_signal_for_symbol\u001b[0m:\u001b[36m109\u001b[0m - \u001b[1mGolden cross detected for Bitstamp:BTCUSD: 118563.60 > 118355.17\u001b[0m\n",
      "\u001b[32m2025-08-02 15:14:57.680\u001b[0m | \u001b[1mINFO    \u001b[0m | \u001b[36msrc.core.trading_engine\u001b[0m:\u001b[36m_execute_buy_order\u001b[0m:\u001b[36m236\u001b[0m - \u001b[1mBUY: 0.168 Bitstamp:BTCUSD @ $119344.00 (sma_crossover)\u001b[0m\n",
      "\u001b[32m2025-08-02 15:14:57.688\u001b[0m | \u001b[1mINFO    \u001b[0m | \u001b[36msrc.strategies.sma_crossover\u001b[0m:\u001b[36m_generate_signal_for_symbol\u001b[0m:\u001b[36m113\u001b[0m - \u001b[1mDeath cross detected for Bitstamp:BTCUSD: 118118.20 < 118364.77\u001b[0m\n",
      "\u001b[32m2025-08-02 15:14:57.688\u001b[0m | \u001b[1mINFO    \u001b[0m | \u001b[36msrc.core.trading_engine\u001b[0m:\u001b[36m_execute_sell_order\u001b[0m:\u001b[36m274\u001b[0m - \u001b[1mSELL: 0.17 Bitstamp:BTCUSD @ $115400.00 | P&L: $-680.29 (-3.40%) (sma_crossover)\u001b[0m\n",
      "\u001b[32m2025-08-02 15:14:57.694\u001b[0m | \u001b[1mINFO    \u001b[0m | \u001b[36msrc.strategies.sma_crossover\u001b[0m:\u001b[36m_generate_signal_for_symbol\u001b[0m:\u001b[36m109\u001b[0m - \u001b[1mGolden cross detected for Bitstamp:BTCUSD: 118098.80 > 118073.20\u001b[0m\n",
      "\u001b[32m2025-08-02 15:14:57.695\u001b[0m | \u001b[1mINFO    \u001b[0m | \u001b[36msrc.core.trading_engine\u001b[0m:\u001b[36m_execute_buy_order\u001b[0m:\u001b[36m236\u001b[0m - \u001b[1mBUY: 0.168 Bitstamp:BTCUSD @ $118243.00 (sma_crossover)\u001b[0m\n",
      "\u001b[32m2025-08-02 15:14:57.728\u001b[0m | \u001b[1mINFO    \u001b[0m | \u001b[36msrc.strategies.sma_crossover\u001b[0m:\u001b[36m_generate_signal_for_symbol\u001b[0m:\u001b[36m113\u001b[0m - \u001b[1mDeath cross detected for Bitstamp:BTCUSD: 117905.80 < 117976.97\u001b[0m\n",
      "\u001b[32m2025-08-02 15:14:57.728\u001b[0m | \u001b[1mINFO    \u001b[0m | \u001b[36msrc.core.trading_engine\u001b[0m:\u001b[36m_execute_sell_order\u001b[0m:\u001b[36m274\u001b[0m - \u001b[1mSELL: 0.17 Bitstamp:BTCUSD @ $118144.00 | P&L: $-36.47 (-0.18%) (sma_crossover)\u001b[0m\n",
      "\u001b[32m2025-08-02 15:14:57.733\u001b[0m | \u001b[1mINFO    \u001b[0m | \u001b[36msrc.strategies.sma_crossover\u001b[0m:\u001b[36m_generate_signal_for_symbol\u001b[0m:\u001b[36m109\u001b[0m - \u001b[1mGolden cross detected for Bitstamp:BTCUSD: 118316.80 > 118284.57\u001b[0m\n",
      "\u001b[32m2025-08-02 15:14:57.734\u001b[0m | \u001b[1mINFO    \u001b[0m | \u001b[36msrc.core.trading_engine\u001b[0m:\u001b[36m_execute_buy_order\u001b[0m:\u001b[36m236\u001b[0m - \u001b[1mBUY: 0.168 Bitstamp:BTCUSD @ $118290.00 (sma_crossover)\u001b[0m\n",
      "\u001b[32m2025-08-02 15:14:57.735\u001b[0m | \u001b[1mINFO    \u001b[0m | \u001b[36msrc.strategies.sma_crossover\u001b[0m:\u001b[36m_generate_signal_for_symbol\u001b[0m:\u001b[36m113\u001b[0m - \u001b[1mDeath cross detected for Bitstamp:BTCUSD: 118103.40 < 118234.27\u001b[0m\n",
      "\u001b[32m2025-08-02 15:14:57.736\u001b[0m | \u001b[1mINFO    \u001b[0m | \u001b[36msrc.core.trading_engine\u001b[0m:\u001b[36m_execute_sell_order\u001b[0m:\u001b[36m274\u001b[0m - \u001b[1mSELL: 0.17 Bitstamp:BTCUSD @ $116767.00 | P&L: $-275.15 (-1.39%) (sma_crossover)\u001b[0m\n",
      "\u001b[32m2025-08-02 15:14:57.743\u001b[0m | \u001b[1mINFO    \u001b[0m | \u001b[36msrc.core.trading_engine\u001b[0m:\u001b[36m_generate_backtest_report\u001b[0m:\u001b[36m326\u001b[0m - \u001b[1m=== BACKTEST RESULTS ===\u001b[0m\n",
      "\u001b[32m2025-08-02 15:14:57.743\u001b[0m | \u001b[1mINFO    \u001b[0m | \u001b[36msrc.core.trading_engine\u001b[0m:\u001b[36m_generate_backtest_report\u001b[0m:\u001b[36m327\u001b[0m - \u001b[1mInitial Capital: $100,000.00\u001b[0m\n",
      "\u001b[32m2025-08-02 15:14:57.743\u001b[0m | \u001b[1mINFO    \u001b[0m | \u001b[36msrc.core.trading_engine\u001b[0m:\u001b[36m_generate_backtest_report\u001b[0m:\u001b[36m328\u001b[0m - \u001b[1mFinal Portfolio Value: $98,948.39\u001b[0m\n",
      "\u001b[32m2025-08-02 15:14:57.743\u001b[0m | \u001b[1mINFO    \u001b[0m | \u001b[36msrc.core.trading_engine\u001b[0m:\u001b[36m_generate_backtest_report\u001b[0m:\u001b[36m329\u001b[0m - \u001b[1mTotal Return: -1.05%\u001b[0m\n",
      "\u001b[32m2025-08-02 15:14:57.743\u001b[0m | \u001b[1mINFO    \u001b[0m | \u001b[36msrc.core.trading_engine\u001b[0m:\u001b[36m_generate_backtest_report\u001b[0m:\u001b[36m330\u001b[0m - \u001b[1mAnnualized Volatility: 1.16%\u001b[0m\n",
      "\u001b[32m2025-08-02 15:14:57.744\u001b[0m | \u001b[1mINFO    \u001b[0m | \u001b[36msrc.core.trading_engine\u001b[0m:\u001b[36m_generate_backtest_report\u001b[0m:\u001b[36m331\u001b[0m - \u001b[1mSharpe Ratio: -2.31\u001b[0m\n",
      "\u001b[32m2025-08-02 15:14:57.744\u001b[0m | \u001b[1mINFO    \u001b[0m | \u001b[36msrc.core.trading_engine\u001b[0m:\u001b[36m_generate_backtest_report\u001b[0m:\u001b[36m332\u001b[0m - \u001b[1mMaximum Drawdown: -1.14%\u001b[0m\n",
      "\u001b[32m2025-08-02 15:14:57.745\u001b[0m | \u001b[1mINFO    \u001b[0m | \u001b[36msrc.core.trading_engine\u001b[0m:\u001b[36m_generate_backtest_report\u001b[0m:\u001b[36m333\u001b[0m - \u001b[1mTotal Trades: 6\u001b[0m\n",
      "\u001b[32m2025-08-02 15:14:57.745\u001b[0m | \u001b[1mINFO    \u001b[0m | \u001b[36msrc.core.trading_engine\u001b[0m:\u001b[36m_generate_backtest_report\u001b[0m:\u001b[36m334\u001b[0m - \u001b[1mBuy Trades: 3\u001b[0m\n",
      "\u001b[32m2025-08-02 15:14:57.745\u001b[0m | \u001b[1mINFO    \u001b[0m | \u001b[36msrc.core.trading_engine\u001b[0m:\u001b[36m_generate_backtest_report\u001b[0m:\u001b[36m335\u001b[0m - \u001b[1mSell Trades: 3\u001b[0m\n",
      "\u001b[32m2025-08-02 15:14:57.757\u001b[0m | \u001b[1mINFO    \u001b[0m | \u001b[36msrc.core.trading_engine\u001b[0m:\u001b[36m_generate_backtest_report\u001b[0m:\u001b[36m343\u001b[0m - \u001b[1mBacktest results saved to data/backtest_results.csv\u001b[0m\n",
      "\u001b[32m2025-08-02 15:14:57.759\u001b[0m | \u001b[1mINFO    \u001b[0m | \u001b[36msrc.core.trading_engine\u001b[0m:\u001b[36m_generate_backtest_report\u001b[0m:\u001b[36m360\u001b[0m - \u001b[1mTrade details saved to data/trades.csv\u001b[0m\n"
     ]
    }
   ],
   "source": [
    "# Cell 8: Chạy backtest với optimized strategies\n",
    "print(\"\\n=== CHẠY BACKTEST VỚI OPTIMIZED STRATEGIES ===\")\n",
    "\n",
    "# Chạy backtest với optimized strategies\n",
    "engine.run_backtest(backtest_start_date, backtest_end_date)"
   ]
  },
  {
   "cell_type": "code",
   "execution_count": 9,
   "id": "5ab93724",
   "metadata": {},
   "outputs": [
    {
     "name": "stderr",
     "output_type": "stream",
     "text": [
      "\u001b[32m2025-08-02 15:16:13.585\u001b[0m | \u001b[1mINFO    \u001b[0m | \u001b[36msrc.utils.config_manager\u001b[0m:\u001b[36m__init__\u001b[0m:\u001b[36m31\u001b[0m - \u001b[1mConfiguration loaded from ../../config/config.yaml\u001b[0m\n",
      "\u001b[32m2025-08-02 15:16:13.585\u001b[0m | \u001b[1mINFO    \u001b[0m | \u001b[36msrc.risk.risk_manager\u001b[0m:\u001b[36m__init__\u001b[0m:\u001b[36m49\u001b[0m - \u001b[1mRisk manager initialized\u001b[0m\n",
      "\u001b[32m2025-08-02 15:16:13.586\u001b[0m | \u001b[1mINFO    \u001b[0m | \u001b[36msrc.core.trading_engine\u001b[0m:\u001b[36m__init__\u001b[0m:\u001b[36m77\u001b[0m - \u001b[1mTrading engine initialized with $100,000.00 initial capital\u001b[0m\n",
      "\u001b[32m2025-08-02 15:16:13.586\u001b[0m | \u001b[1mINFO    \u001b[0m | \u001b[36msrc.strategies.base_strategy\u001b[0m:\u001b[36m__init__\u001b[0m:\u001b[36m34\u001b[0m - \u001b[1mInitialized strategy: sma_crossover\u001b[0m\n",
      "\u001b[32m2025-08-02 15:16:13.586\u001b[0m | \u001b[1mINFO    \u001b[0m | \u001b[36msrc.strategies.sma_crossover\u001b[0m:\u001b[36m__init__\u001b[0m:\u001b[36m48\u001b[0m - \u001b[1mSMA Crossover Strategy initialized: 5/30\u001b[0m\n",
      "\u001b[32m2025-08-02 15:16:13.587\u001b[0m | \u001b[1mINFO    \u001b[0m | \u001b[36msrc.core.trading_engine\u001b[0m:\u001b[36madd_strategy\u001b[0m:\u001b[36m82\u001b[0m - \u001b[1mAdded strategy: sma_crossover\u001b[0m\n",
      "\u001b[32m2025-08-02 15:16:13.587\u001b[0m | \u001b[1mINFO    \u001b[0m | \u001b[36msrc.strategies.base_strategy\u001b[0m:\u001b[36m__init__\u001b[0m:\u001b[36m34\u001b[0m - \u001b[1mInitialized strategy: rsi\u001b[0m\n",
      "\u001b[32m2025-08-02 15:16:13.587\u001b[0m | \u001b[1mINFO    \u001b[0m | \u001b[36msrc.strategies.rsi_strategy\u001b[0m:\u001b[36m__init__\u001b[0m:\u001b[36m56\u001b[0m - \u001b[1mRSI Strategy initialized: period=14, overbought=70, oversold=30\u001b[0m\n",
      "\u001b[32m2025-08-02 15:16:13.587\u001b[0m | \u001b[1mINFO    \u001b[0m | \u001b[36msrc.core.trading_engine\u001b[0m:\u001b[36madd_strategy\u001b[0m:\u001b[36m82\u001b[0m - \u001b[1mAdded strategy: rsi\u001b[0m\n",
      "\u001b[32m2025-08-02 15:16:13.588\u001b[0m | \u001b[1mINFO    \u001b[0m | \u001b[36msrc.strategies.base_strategy\u001b[0m:\u001b[36m__init__\u001b[0m:\u001b[36m34\u001b[0m - \u001b[1mInitialized strategy: macd\u001b[0m\n",
      "\u001b[32m2025-08-02 15:16:13.588\u001b[0m | \u001b[1mINFO    \u001b[0m | \u001b[36msrc.strategies.macd_strategy\u001b[0m:\u001b[36m__init__\u001b[0m:\u001b[36m54\u001b[0m - \u001b[1mMACD Strategy initialized: fast=15, slow=20, signal=7\u001b[0m\n",
      "\u001b[32m2025-08-02 15:16:13.588\u001b[0m | \u001b[1mINFO    \u001b[0m | \u001b[36msrc.core.trading_engine\u001b[0m:\u001b[36madd_strategy\u001b[0m:\u001b[36m82\u001b[0m - \u001b[1mAdded strategy: macd\u001b[0m\n",
      "\u001b[32m2025-08-02 15:16:13.588\u001b[0m | \u001b[1mINFO    \u001b[0m | \u001b[36msrc.core.trading_engine\u001b[0m:\u001b[36mrun_backtest\u001b[0m:\u001b[36m86\u001b[0m - \u001b[1mStarting backtest from 2023-07-01 to 2023-12-31\u001b[0m\n",
      "\u001b[32m2025-08-02 15:16:13.589\u001b[0m | \u001b[1mINFO    \u001b[0m | \u001b[36msrc.data.data_manager\u001b[0m:\u001b[36mget_historical_data_standardized\u001b[0m:\u001b[36m589\u001b[0m - \u001b[1mFetching standardized OHLCV data for ['Bitstamp:BTCUSD'] from 2023-07-01 to 2023-12-31\u001b[0m\n",
      "\u001b[32m2025-08-02 15:16:13.589\u001b[0m | \u001b[1mINFO    \u001b[0m | \u001b[36msrc.data.data_manager\u001b[0m:\u001b[36mget_historical_data\u001b[0m:\u001b[36m64\u001b[0m - \u001b[1mFetching historical OHLCV data for ['Bitstamp:BTCUSD'] from 2023-07-01 to 2023-12-31\u001b[0m\n"
     ]
    },
    {
     "name": "stdout",
     "output_type": "stream",
     "text": [
      "\n",
      "=== SO SÁNH KẾT QUẢ ===\n"
     ]
    },
    {
     "name": "stderr",
     "output_type": "stream",
     "text": [
      "\u001b[32m2025-08-02 15:16:13.889\u001b[0m | \u001b[1mINFO    \u001b[0m | \u001b[36msrc.data.data_manager\u001b[0m:\u001b[36m_fetch_tradingview_ohlcv_data\u001b[0m:\u001b[36m159\u001b[0m - \u001b[1mSuccessfully fetched OHLCV data for 1 symbols\u001b[0m\n",
      "\u001b[32m2025-08-02 15:16:13.890\u001b[0m | \u001b[1mINFO    \u001b[0m | \u001b[36msrc.data.data_manager\u001b[0m:\u001b[36mget_historical_data\u001b[0m:\u001b[36m97\u001b[0m - \u001b[1mOHLCV data cached successfully\u001b[0m\n",
      "\u001b[32m2025-08-02 15:16:13.892\u001b[0m | \u001b[1mINFO    \u001b[0m | \u001b[36msrc.data.data_manager\u001b[0m:\u001b[36mensure_ohlcv_format\u001b[0m:\u001b[36m500\u001b[0m - \u001b[1mData formatted for Bitstamp:BTCUSD: (100, 5)\u001b[0m\n",
      "\u001b[32m2025-08-02 15:16:13.893\u001b[0m | \u001b[1mINFO    \u001b[0m | \u001b[36msrc.data.data_manager\u001b[0m:\u001b[36mget_historical_data_standardized\u001b[0m:\u001b[36m622\u001b[0m - \u001b[1mSuccessfully standardized OHLCV data for 1 symbols\u001b[0m\n",
      "\u001b[32m2025-08-02 15:16:13.897\u001b[0m | \u001b[1mINFO    \u001b[0m | \u001b[36msrc.core.trading_engine\u001b[0m:\u001b[36mrun_backtest\u001b[0m:\u001b[36m107\u001b[0m - \u001b[1mLoaded 100 data points for [('Bitstamp:BTCUSD', 'open'), ('Bitstamp:BTCUSD', 'high'), ('Bitstamp:BTCUSD', 'low'), ('Bitstamp:BTCUSD', 'close'), ('Bitstamp:BTCUSD', 'volume')]\u001b[0m\n",
      "\u001b[32m2025-08-02 15:16:13.910\u001b[0m | \u001b[1mINFO    \u001b[0m | \u001b[36msrc.strategies.sma_crossover\u001b[0m:\u001b[36m_generate_signal_for_symbol\u001b[0m:\u001b[36m109\u001b[0m - \u001b[1mGolden cross detected for Bitstamp:BTCUSD: 118563.60 > 118355.17\u001b[0m\n",
      "\u001b[32m2025-08-02 15:16:13.910\u001b[0m | \u001b[1mINFO    \u001b[0m | \u001b[36msrc.core.trading_engine\u001b[0m:\u001b[36m_execute_buy_order\u001b[0m:\u001b[36m236\u001b[0m - \u001b[1mBUY: 0.168 Bitstamp:BTCUSD @ $119344.00 (sma_crossover)\u001b[0m\n",
      "\u001b[32m2025-08-02 15:16:13.918\u001b[0m | \u001b[1mINFO    \u001b[0m | \u001b[36msrc.strategies.sma_crossover\u001b[0m:\u001b[36m_generate_signal_for_symbol\u001b[0m:\u001b[36m113\u001b[0m - \u001b[1mDeath cross detected for Bitstamp:BTCUSD: 118118.20 < 118364.77\u001b[0m\n",
      "\u001b[32m2025-08-02 15:16:13.918\u001b[0m | \u001b[1mINFO    \u001b[0m | \u001b[36msrc.core.trading_engine\u001b[0m:\u001b[36m_execute_sell_order\u001b[0m:\u001b[36m274\u001b[0m - \u001b[1mSELL: 0.17 Bitstamp:BTCUSD @ $115400.00 | P&L: $-680.29 (-3.40%) (sma_crossover)\u001b[0m\n",
      "\u001b[32m2025-08-02 15:16:13.923\u001b[0m | \u001b[1mINFO    \u001b[0m | \u001b[36msrc.strategies.sma_crossover\u001b[0m:\u001b[36m_generate_signal_for_symbol\u001b[0m:\u001b[36m109\u001b[0m - \u001b[1mGolden cross detected for Bitstamp:BTCUSD: 118098.80 > 118073.20\u001b[0m\n",
      "\u001b[32m2025-08-02 15:16:13.923\u001b[0m | \u001b[1mINFO    \u001b[0m | \u001b[36msrc.core.trading_engine\u001b[0m:\u001b[36m_execute_buy_order\u001b[0m:\u001b[36m236\u001b[0m - \u001b[1mBUY: 0.168 Bitstamp:BTCUSD @ $118243.00 (sma_crossover)\u001b[0m\n",
      "\u001b[32m2025-08-02 15:16:13.931\u001b[0m | \u001b[1mINFO    \u001b[0m | \u001b[36msrc.strategies.sma_crossover\u001b[0m:\u001b[36m_generate_signal_for_symbol\u001b[0m:\u001b[36m113\u001b[0m - \u001b[1mDeath cross detected for Bitstamp:BTCUSD: 117905.80 < 117976.97\u001b[0m\n",
      "\u001b[32m2025-08-02 15:16:13.932\u001b[0m | \u001b[1mINFO    \u001b[0m | \u001b[36msrc.core.trading_engine\u001b[0m:\u001b[36m_execute_sell_order\u001b[0m:\u001b[36m274\u001b[0m - \u001b[1mSELL: 0.17 Bitstamp:BTCUSD @ $118144.00 | P&L: $-36.47 (-0.18%) (sma_crossover)\u001b[0m\n",
      "\u001b[32m2025-08-02 15:16:13.936\u001b[0m | \u001b[1mINFO    \u001b[0m | \u001b[36msrc.strategies.sma_crossover\u001b[0m:\u001b[36m_generate_signal_for_symbol\u001b[0m:\u001b[36m109\u001b[0m - \u001b[1mGolden cross detected for Bitstamp:BTCUSD: 118316.80 > 118284.57\u001b[0m\n",
      "\u001b[32m2025-08-02 15:16:13.937\u001b[0m | \u001b[1mINFO    \u001b[0m | \u001b[36msrc.core.trading_engine\u001b[0m:\u001b[36m_execute_buy_order\u001b[0m:\u001b[36m236\u001b[0m - \u001b[1mBUY: 0.168 Bitstamp:BTCUSD @ $118290.00 (sma_crossover)\u001b[0m\n",
      "\u001b[32m2025-08-02 15:16:13.937\u001b[0m | \u001b[1mINFO    \u001b[0m | \u001b[36msrc.strategies.sma_crossover\u001b[0m:\u001b[36m_generate_signal_for_symbol\u001b[0m:\u001b[36m113\u001b[0m - \u001b[1mDeath cross detected for Bitstamp:BTCUSD: 118103.40 < 118234.27\u001b[0m\n",
      "\u001b[32m2025-08-02 15:16:13.938\u001b[0m | \u001b[1mINFO    \u001b[0m | \u001b[36msrc.core.trading_engine\u001b[0m:\u001b[36m_execute_sell_order\u001b[0m:\u001b[36m274\u001b[0m - \u001b[1mSELL: 0.17 Bitstamp:BTCUSD @ $116767.00 | P&L: $-275.15 (-1.39%) (sma_crossover)\u001b[0m\n",
      "\u001b[32m2025-08-02 15:16:13.942\u001b[0m | \u001b[1mINFO    \u001b[0m | \u001b[36msrc.core.trading_engine\u001b[0m:\u001b[36m_generate_backtest_report\u001b[0m:\u001b[36m326\u001b[0m - \u001b[1m=== BACKTEST RESULTS ===\u001b[0m\n",
      "\u001b[32m2025-08-02 15:16:13.942\u001b[0m | \u001b[1mINFO    \u001b[0m | \u001b[36msrc.core.trading_engine\u001b[0m:\u001b[36m_generate_backtest_report\u001b[0m:\u001b[36m327\u001b[0m - \u001b[1mInitial Capital: $100,000.00\u001b[0m\n",
      "\u001b[32m2025-08-02 15:16:13.943\u001b[0m | \u001b[1mINFO    \u001b[0m | \u001b[36msrc.core.trading_engine\u001b[0m:\u001b[36m_generate_backtest_report\u001b[0m:\u001b[36m328\u001b[0m - \u001b[1mFinal Portfolio Value: $98,948.39\u001b[0m\n",
      "\u001b[32m2025-08-02 15:16:13.943\u001b[0m | \u001b[1mINFO    \u001b[0m | \u001b[36msrc.core.trading_engine\u001b[0m:\u001b[36m_generate_backtest_report\u001b[0m:\u001b[36m329\u001b[0m - \u001b[1mTotal Return: -1.05%\u001b[0m\n",
      "\u001b[32m2025-08-02 15:16:13.944\u001b[0m | \u001b[1mINFO    \u001b[0m | \u001b[36msrc.core.trading_engine\u001b[0m:\u001b[36m_generate_backtest_report\u001b[0m:\u001b[36m330\u001b[0m - \u001b[1mAnnualized Volatility: 1.16%\u001b[0m\n",
      "\u001b[32m2025-08-02 15:16:13.944\u001b[0m | \u001b[1mINFO    \u001b[0m | \u001b[36msrc.core.trading_engine\u001b[0m:\u001b[36m_generate_backtest_report\u001b[0m:\u001b[36m331\u001b[0m - \u001b[1mSharpe Ratio: -2.31\u001b[0m\n",
      "\u001b[32m2025-08-02 15:16:13.944\u001b[0m | \u001b[1mINFO    \u001b[0m | \u001b[36msrc.core.trading_engine\u001b[0m:\u001b[36m_generate_backtest_report\u001b[0m:\u001b[36m332\u001b[0m - \u001b[1mMaximum Drawdown: -1.14%\u001b[0m\n",
      "\u001b[32m2025-08-02 15:16:13.944\u001b[0m | \u001b[1mINFO    \u001b[0m | \u001b[36msrc.core.trading_engine\u001b[0m:\u001b[36m_generate_backtest_report\u001b[0m:\u001b[36m333\u001b[0m - \u001b[1mTotal Trades: 6\u001b[0m\n",
      "\u001b[32m2025-08-02 15:16:13.944\u001b[0m | \u001b[1mINFO    \u001b[0m | \u001b[36msrc.core.trading_engine\u001b[0m:\u001b[36m_generate_backtest_report\u001b[0m:\u001b[36m334\u001b[0m - \u001b[1mBuy Trades: 3\u001b[0m\n",
      "\u001b[32m2025-08-02 15:16:13.945\u001b[0m | \u001b[1mINFO    \u001b[0m | \u001b[36msrc.core.trading_engine\u001b[0m:\u001b[36m_generate_backtest_report\u001b[0m:\u001b[36m335\u001b[0m - \u001b[1mSell Trades: 3\u001b[0m\n",
      "\u001b[32m2025-08-02 15:16:13.948\u001b[0m | \u001b[1mINFO    \u001b[0m | \u001b[36msrc.core.trading_engine\u001b[0m:\u001b[36m_generate_backtest_report\u001b[0m:\u001b[36m343\u001b[0m - \u001b[1mBacktest results saved to data/backtest_results.csv\u001b[0m\n",
      "\u001b[32m2025-08-02 15:16:13.950\u001b[0m | \u001b[1mINFO    \u001b[0m | \u001b[36msrc.core.trading_engine\u001b[0m:\u001b[36m_generate_backtest_report\u001b[0m:\u001b[36m360\u001b[0m - \u001b[1mTrade details saved to data/trades.csv\u001b[0m\n"
     ]
    },
    {
     "name": "stdout",
     "output_type": "stream",
     "text": [
      "KẾT QUẢ SO SÁNH:\n",
      "Metric               Optimized       Default         Improvement    \n",
      "-----------------------------------------------------------------\n",
      "Total Return         -1.05%          -1.05%          0.00%          \n",
      "Sharpe Ratio         -2.31           -2.31           0.00           \n",
      "Max Drawdown         -1.14%          -1.14%          0.00%          \n",
      "Win Rate             0.00%           0.00%           0.00%          \n",
      "Total Trades         6               6               0              \n"
     ]
    }
   ],
   "source": [
    "# Cell 9: So sánh kết quả với default parameters\n",
    "print(\"\\n=== SO SÁNH KẾT QUẢ ===\")\n",
    "\n",
    "# Tạo engine mới với default parameters để so sánh\n",
    "default_engine = TradingEngine(config_path)\n",
    "\n",
    "# Thêm strategies với default parameters\n",
    "default_sma = SMACrossoverStrategy({\n",
    "    \"short_window\": 5,\n",
    "    \"long_window\": 30,\n",
    "    \"name\": \"Default_SMA_Crossover\"\n",
    "})\n",
    "default_engine.add_strategy(default_sma)\n",
    "\n",
    "default_rsi = RSIStrategy({\n",
    "    \"period\": 14,\n",
    "    \"oversold\": 30,\n",
    "    \"overbought\": 70,\n",
    "    \"name\": \"Default_RSI_Strategy\"\n",
    "})\n",
    "default_engine.add_strategy(default_rsi)\n",
    "\n",
    "default_macd = MACDStrategy({\n",
    "    \"fast_period\": 15,\n",
    "    \"slow_period\": 20,\n",
    "    \"signal_period\": 7,\n",
    "    \"name\": \"Default_MACD_Strategy\"\n",
    "})\n",
    "default_engine.add_strategy(default_macd)\n",
    "\n",
    "# Chạy backtest với default parameters\n",
    "default_engine.run_backtest(backtest_start_date, backtest_end_date)\n",
    "\n",
    "# Lấy kết quả\n",
    "optimized_summary = engine.get_portfolio_summary()\n",
    "default_summary = default_engine.get_portfolio_summary()\n",
    "\n",
    "print(\"KẾT QUẢ SO SÁNH:\")\n",
    "print(f\"{'Metric':<20} {'Optimized':<15} {'Default':<15} {'Improvement':<15}\")\n",
    "print(\"-\" * 65)\n",
    "print(f\"{'Total Return':<20} {optimized_summary['total_return']:<15.2%} {default_summary['total_return']:<15.2%} {(optimized_summary['total_return'] - default_summary['total_return']):<15.2%}\")\n",
    "print(f\"{'Sharpe Ratio':<20} {optimized_summary['sharpe_ratio']:<15.2f} {default_summary['sharpe_ratio']:<15.2f} {(optimized_summary['sharpe_ratio'] - default_summary['sharpe_ratio']):<15.2f}\")\n",
    "print(f\"{'Max Drawdown':<20} {optimized_summary['max_drawdown']:<15.2%} {default_summary['max_drawdown']:<15.2%} {(optimized_summary['max_drawdown'] - default_summary['max_drawdown']):<15.2%}\")\n",
    "print(f\"{'Win Rate':<20} {optimized_summary['win_rate']:<15.2%} {default_summary['win_rate']:<15.2%} {(optimized_summary['win_rate'] - default_summary['win_rate']):<15.2%}\")\n",
    "print(f\"{'Total Trades':<20} {optimized_summary['total_trades']:<15} {default_summary['total_trades']:<15} {(optimized_summary['total_trades'] - default_summary['total_trades']):<15}\")\n"
   ]
  },
  {
   "cell_type": "code",
   "execution_count": 10,
   "id": "34ef401b",
   "metadata": {},
   "outputs": [
    {
     "name": "stdout",
     "output_type": "stream",
     "text": [
      "\n",
      "=== KẾT QUẢ BACKTEST CUỐI CÙNG (OPTIMIZED) ===\n",
      "Initial Capital: $100,000.00\n",
      "Final Portfolio Value: $98,948.39\n",
      "Total Return: -1.05%\n",
      "Annualized Return: -2.66%\n",
      "Sharpe Ratio: -2.31\n",
      "Max Drawdown: -1.14%\n",
      "Win Rate: 0.00%\n",
      "Total Trades: 6\n"
     ]
    }
   ],
   "source": [
    "# Cell 10: Lấy kết quả backtest cuối cùng (optimized)\n",
    "portfolio_summary = engine.get_portfolio_summary()\n",
    "\n",
    "print(\"\\n=== KẾT QUẢ BACKTEST CUỐI CÙNG (OPTIMIZED) ===\")\n",
    "print(f\"Initial Capital: ${portfolio_summary['initial_capital']:,.2f}\")\n",
    "print(f\"Final Portfolio Value: ${portfolio_summary['total_value']:,.2f}\")\n",
    "print(f\"Total Return: {portfolio_summary['total_return']:.2%}\")\n",
    "print(f\"Annualized Return: {portfolio_summary['annualized_return']:.2%}\")\n",
    "print(f\"Sharpe Ratio: {portfolio_summary['sharpe_ratio']:.2f}\")\n",
    "print(f\"Max Drawdown: {portfolio_summary['max_drawdown']:.2%}\")\n",
    "print(f\"Win Rate: {portfolio_summary['win_rate']:.2%}\")\n",
    "print(f\"Total Trades: {portfolio_summary['total_trades']}\")"
   ]
  },
  {
   "cell_type": "code",
   "execution_count": 11,
   "id": "759d764f",
   "metadata": {},
   "outputs": [
    {
     "data": {
      "application/vnd.plotly.v1+json": {
       "config": {
        "plotlyServerURL": "https://plot.ly"
       },
       "data": [
        {
         "mode": "lines",
         "name": "Portfolio Value",
         "type": "scatter",
         "x": [
          "2025-07-17T03:00:00.000000000",
          "2025-07-17T07:00:00.000000000",
          "2025-07-17T11:00:00.000000000",
          "2025-07-17T15:00:00.000000000",
          "2025-07-17T19:00:00.000000000",
          "2025-07-17T23:00:00.000000000",
          "2025-07-18T03:00:00.000000000",
          "2025-07-18T07:00:00.000000000",
          "2025-07-18T11:00:00.000000000",
          "2025-07-18T15:00:00.000000000",
          "2025-07-18T19:00:00.000000000",
          "2025-07-18T23:00:00.000000000",
          "2025-07-19T03:00:00.000000000",
          "2025-07-19T07:00:00.000000000",
          "2025-07-19T11:00:00.000000000",
          "2025-07-19T15:00:00.000000000",
          "2025-07-19T19:00:00.000000000",
          "2025-07-19T23:00:00.000000000",
          "2025-07-20T03:00:00.000000000",
          "2025-07-20T07:00:00.000000000",
          "2025-07-20T11:00:00.000000000",
          "2025-07-20T15:00:00.000000000",
          "2025-07-20T19:00:00.000000000",
          "2025-07-20T23:00:00.000000000",
          "2025-07-21T03:00:00.000000000",
          "2025-07-21T07:00:00.000000000",
          "2025-07-21T11:00:00.000000000",
          "2025-07-21T15:00:00.000000000",
          "2025-07-21T19:00:00.000000000",
          "2025-07-21T23:00:00.000000000",
          "2025-07-22T03:00:00.000000000",
          "2025-07-22T07:00:00.000000000",
          "2025-07-22T11:00:00.000000000",
          "2025-07-22T15:00:00.000000000",
          "2025-07-22T19:00:00.000000000",
          "2025-07-22T23:00:00.000000000",
          "2025-07-23T03:00:00.000000000",
          "2025-07-23T07:00:00.000000000",
          "2025-07-23T11:00:00.000000000",
          "2025-07-23T15:00:00.000000000",
          "2025-07-23T19:00:00.000000000",
          "2025-07-23T23:00:00.000000000",
          "2025-07-24T03:00:00.000000000",
          "2025-07-24T07:00:00.000000000",
          "2025-07-24T11:00:00.000000000",
          "2025-07-24T15:00:00.000000000",
          "2025-07-24T19:00:00.000000000",
          "2025-07-24T23:00:00.000000000",
          "2025-07-25T03:00:00.000000000",
          "2025-07-25T07:00:00.000000000",
          "2025-07-25T11:00:00.000000000",
          "2025-07-25T15:00:00.000000000",
          "2025-07-25T19:00:00.000000000",
          "2025-07-25T23:00:00.000000000",
          "2025-07-26T03:00:00.000000000",
          "2025-07-26T07:00:00.000000000",
          "2025-07-26T11:00:00.000000000",
          "2025-07-26T15:00:00.000000000",
          "2025-07-26T19:00:00.000000000",
          "2025-07-26T23:00:00.000000000",
          "2025-07-27T03:00:00.000000000",
          "2025-07-27T07:00:00.000000000",
          "2025-07-27T11:00:00.000000000",
          "2025-07-27T15:00:00.000000000",
          "2025-07-27T19:00:00.000000000",
          "2025-07-27T23:00:00.000000000",
          "2025-07-28T03:00:00.000000000",
          "2025-07-28T07:00:00.000000000",
          "2025-07-28T11:00:00.000000000",
          "2025-07-28T15:00:00.000000000",
          "2025-07-28T19:00:00.000000000",
          "2025-07-28T23:00:00.000000000",
          "2025-07-29T03:00:00.000000000",
          "2025-07-29T07:00:00.000000000",
          "2025-07-29T11:00:00.000000000",
          "2025-07-29T15:00:00.000000000",
          "2025-07-29T19:00:00.000000000",
          "2025-07-29T23:00:00.000000000",
          "2025-07-30T03:00:00.000000000",
          "2025-07-30T07:00:00.000000000",
          "2025-07-30T11:00:00.000000000",
          "2025-07-30T15:00:00.000000000",
          "2025-07-30T19:00:00.000000000",
          "2025-07-30T23:00:00.000000000",
          "2025-07-31T03:00:00.000000000",
          "2025-07-31T07:00:00.000000000",
          "2025-07-31T11:00:00.000000000",
          "2025-07-31T15:00:00.000000000",
          "2025-07-31T19:00:00.000000000",
          "2025-07-31T23:00:00.000000000",
          "2025-08-01T03:00:00.000000000",
          "2025-08-01T07:00:00.000000000",
          "2025-08-01T11:00:00.000000000",
          "2025-08-01T15:00:00.000000000",
          "2025-08-01T19:00:00.000000000",
          "2025-08-01T23:00:00.000000000",
          "2025-08-02T03:00:00.000000000",
          "2025-08-02T07:00:00.000000000",
          "2025-08-02T11:00:00.000000000",
          "2025-08-02T15:00:00.000000000"
         ],
         "xaxis": "x",
         "y": {
          "bdata": "AAAAAABq+EAAAAAAAGr4QAAAAAAAavhAAAAAAABq+EAAAAAAAGr4QAAAAAAAavhAAAAAAABq+EAAAAAAAGr4QAAAAAAAavhAAAAAAABq+EAAAAAAAGr4QAAAAAAAavhAAAAAAABq+EAAAAAAAGr4QAAAAAAAavhAAAAAAABq+EAAAAAAAGr4QAAAAAAAavhAAAAAAABq+EAAAAAAAGr4QAAAAAAAavhAAAAAAABq+EAAAAAAAGr4QAAAAAAAavhAAAAAAABq+EAAAAAAAGr4QAAAAAAAavhAAAAAAABq+EAAAAAAAGr4QAAAAAAAavhAAAAAAABq+EAAAAAAAGr4QAAAAAAAavhAAAAAAABq+EAAAAAAAGr4QAAAAADAaPhAuKGIcbxv+EAuy6AxvmH4QK7OPl4CX/hAjPLXpN9g+EBWCVDMdWH4QDsYqgwFX/hADnF2NzBj+EBAevLtmWD4QPjE51WzX/hAlViZBJ5h+ED9H/Tdv2b4QEM2kbNwZfhA2I4quE5e+EC4hFduOz74QLiEV247PvhAuIRXbjs++EC4hFduOz74QLiEV247PvhAuIRXbjs++EC4hFduOz74QLiEV247PvhAuIRXbjs++EC4hFduOz74QLiEV247PvhAuIRXbjs++ECBCwSs/Tz4QBfvQl8pPPhAH21pIN47+ECVz0fsAkH4QCoYlnwFRfhAKX2lWdxJ+EDY9ZYwFkj4QEj18KDoQ/hAWh6nQzdD+ECWYSNvMTz4QLIsVFMfO/hAtmvns/k6+ED3ZM3XJ0L4QEkHG+HdQ/hAIhoh/olA+EBu68UuHDT4QFZxUuv9NPhAWh4Kyak5+EBecd0htjr4QF5x3SG2OvhAXnHdIbY6+EBecd0htjr4QF5x3SG2OvhAXnHdIbY6+EBecd0htjr4QF5x3SG2OvhAXnHdIbY6+EDfeK+NeDn4QBS7RjFGKPhAFLtGMUYo+EAUu0YxRij4QBS7RjFGKPhAFLtGMUYo+EAUu0YxRij4QBS7RjFGKPhAFLtGMUYo+EAUu0YxRij4QBS7RjFGKPhAFLtGMUYo+EA=",
          "dtype": "f8"
         },
         "yaxis": "y"
        },
        {
         "mode": "lines",
         "name": "Daily Returns",
         "type": "scatter",
         "x": [
          "2025-07-17T03:00:00.000000000",
          "2025-07-17T07:00:00.000000000",
          "2025-07-17T11:00:00.000000000",
          "2025-07-17T15:00:00.000000000",
          "2025-07-17T19:00:00.000000000",
          "2025-07-17T23:00:00.000000000",
          "2025-07-18T03:00:00.000000000",
          "2025-07-18T07:00:00.000000000",
          "2025-07-18T11:00:00.000000000",
          "2025-07-18T15:00:00.000000000",
          "2025-07-18T19:00:00.000000000",
          "2025-07-18T23:00:00.000000000",
          "2025-07-19T03:00:00.000000000",
          "2025-07-19T07:00:00.000000000",
          "2025-07-19T11:00:00.000000000",
          "2025-07-19T15:00:00.000000000",
          "2025-07-19T19:00:00.000000000",
          "2025-07-19T23:00:00.000000000",
          "2025-07-20T03:00:00.000000000",
          "2025-07-20T07:00:00.000000000",
          "2025-07-20T11:00:00.000000000",
          "2025-07-20T15:00:00.000000000",
          "2025-07-20T19:00:00.000000000",
          "2025-07-20T23:00:00.000000000",
          "2025-07-21T03:00:00.000000000",
          "2025-07-21T07:00:00.000000000",
          "2025-07-21T11:00:00.000000000",
          "2025-07-21T15:00:00.000000000",
          "2025-07-21T19:00:00.000000000",
          "2025-07-21T23:00:00.000000000",
          "2025-07-22T03:00:00.000000000",
          "2025-07-22T07:00:00.000000000",
          "2025-07-22T11:00:00.000000000",
          "2025-07-22T15:00:00.000000000",
          "2025-07-22T19:00:00.000000000",
          "2025-07-22T23:00:00.000000000",
          "2025-07-23T03:00:00.000000000",
          "2025-07-23T07:00:00.000000000",
          "2025-07-23T11:00:00.000000000",
          "2025-07-23T15:00:00.000000000",
          "2025-07-23T19:00:00.000000000",
          "2025-07-23T23:00:00.000000000",
          "2025-07-24T03:00:00.000000000",
          "2025-07-24T07:00:00.000000000",
          "2025-07-24T11:00:00.000000000",
          "2025-07-24T15:00:00.000000000",
          "2025-07-24T19:00:00.000000000",
          "2025-07-24T23:00:00.000000000",
          "2025-07-25T03:00:00.000000000",
          "2025-07-25T07:00:00.000000000",
          "2025-07-25T11:00:00.000000000",
          "2025-07-25T15:00:00.000000000",
          "2025-07-25T19:00:00.000000000",
          "2025-07-25T23:00:00.000000000",
          "2025-07-26T03:00:00.000000000",
          "2025-07-26T07:00:00.000000000",
          "2025-07-26T11:00:00.000000000",
          "2025-07-26T15:00:00.000000000",
          "2025-07-26T19:00:00.000000000",
          "2025-07-26T23:00:00.000000000",
          "2025-07-27T03:00:00.000000000",
          "2025-07-27T07:00:00.000000000",
          "2025-07-27T11:00:00.000000000",
          "2025-07-27T15:00:00.000000000",
          "2025-07-27T19:00:00.000000000",
          "2025-07-27T23:00:00.000000000",
          "2025-07-28T03:00:00.000000000",
          "2025-07-28T07:00:00.000000000",
          "2025-07-28T11:00:00.000000000",
          "2025-07-28T15:00:00.000000000",
          "2025-07-28T19:00:00.000000000",
          "2025-07-28T23:00:00.000000000",
          "2025-07-29T03:00:00.000000000",
          "2025-07-29T07:00:00.000000000",
          "2025-07-29T11:00:00.000000000",
          "2025-07-29T15:00:00.000000000",
          "2025-07-29T19:00:00.000000000",
          "2025-07-29T23:00:00.000000000",
          "2025-07-30T03:00:00.000000000",
          "2025-07-30T07:00:00.000000000",
          "2025-07-30T11:00:00.000000000",
          "2025-07-30T15:00:00.000000000",
          "2025-07-30T19:00:00.000000000",
          "2025-07-30T23:00:00.000000000",
          "2025-07-31T03:00:00.000000000",
          "2025-07-31T07:00:00.000000000",
          "2025-07-31T11:00:00.000000000",
          "2025-07-31T15:00:00.000000000",
          "2025-07-31T19:00:00.000000000",
          "2025-07-31T23:00:00.000000000",
          "2025-08-01T03:00:00.000000000",
          "2025-08-01T07:00:00.000000000",
          "2025-08-01T11:00:00.000000000",
          "2025-08-01T15:00:00.000000000",
          "2025-08-01T19:00:00.000000000",
          "2025-08-01T23:00:00.000000000",
          "2025-08-02T03:00:00.000000000",
          "2025-08-02T07:00:00.000000000",
          "2025-08-02T11:00:00.000000000",
          "2025-08-02T15:00:00.000000000"
         ],
         "xaxis": "x2",
         "y": {
          "bdata": "AAAAAAAA+H8AAAAAAAAAAAAAAAAAAAAAAAAAAAAAAAAAAAAAAAAAAAAAAAAAAAAAAAAAAAAAAAAAAAAAAAAAAAAAAAAAAAAAAAAAAAAAAAAAAAAAAAAAAAAAAAAAAAAAAAAAAAAAAAAAAAAAAAAAAAAAAAAAAAAAAAAAAAAAAAAAAAAAAAAAAAAAAAAAAAAAAAAAAAAAAAAAAAAAAAAAAAAAAAAAAAAAAAAAAAAAAAAAAAAAAAAAAAAAAAAAAAAAAAAAAAAAAAAAAAAAAAAAAAAAAAAAAAAAAAAAAAAAAAAAAAAAAAAAAAAAAAAAAAAAAAAAAAAAAAAAAAAAAAAAAAAAAAAAAAAAAAAAAAAAAAAAAAAAAAAAAABAHOviNiq/AOjwMjxRUj8A01NbBVNivwAI5nnpszy/AICFWGqVMz8AgDHnIaMYPwBQSm/tnzm/ACg8WeDkRT8AaEdGKSg7vwAgWCIw6yK/APCwsKshND8AIJ+smvFKPwAwNsqWeCu/APx9dDK2Ur8ARSuubw91vwAAAAAAAAAAAAAAAAAAAAAAAAAAAAAAAAAAAAAAAAAAAAAAAAAAAAAAAAAAAAAAAAAAAAAAAAAAAAAAAAAAAAAAAAAAAAAAAAAAAAAAAAAAAAAAAAAAAAAAMBzr4jYqvwAQopKLhCG/AADjoq/WCL8AOKx0JCtLPwDAUCuuKUU/ALjE8N6FST8AGFn71LIyvwDMtZIsBka/AEAsytE8Hb8AXNYJVYZSvwBwFLfqnia/AIDZWsDX+L4AxCyTGvdSPwBwChKdDjI/AGTI2cGNQb8A0tkDUGZgvwBgVS42pyI/ALibw2mzSD8AwGS4gScmPwAAAAAAAAAAAAAAAAAAAAAAAAAAAAAAAAAAAAAAAAAAAAAAAAAAAAAAAAAAAAAAAAAAAAAAAAAAAAAAAAAAAAAAQBzr4jYqvwBmwdJqt2a/AAAAAAAAAAAAAAAAAAAAAAAAAAAAAAAAAAAAAAAAAAAAAAAAAAAAAAAAAAAAAAAAAAAAAAAAAAAAAAAAAAAAAAAAAAAAAAAAAAAAAAAAAAA=",
          "dtype": "f8"
         },
         "yaxis": "y2"
        },
        {
         "mode": "lines",
         "name": "Cumulative Returns",
         "type": "scatter",
         "x": [
          "2025-07-17T03:00:00.000000000",
          "2025-07-17T07:00:00.000000000",
          "2025-07-17T11:00:00.000000000",
          "2025-07-17T15:00:00.000000000",
          "2025-07-17T19:00:00.000000000",
          "2025-07-17T23:00:00.000000000",
          "2025-07-18T03:00:00.000000000",
          "2025-07-18T07:00:00.000000000",
          "2025-07-18T11:00:00.000000000",
          "2025-07-18T15:00:00.000000000",
          "2025-07-18T19:00:00.000000000",
          "2025-07-18T23:00:00.000000000",
          "2025-07-19T03:00:00.000000000",
          "2025-07-19T07:00:00.000000000",
          "2025-07-19T11:00:00.000000000",
          "2025-07-19T15:00:00.000000000",
          "2025-07-19T19:00:00.000000000",
          "2025-07-19T23:00:00.000000000",
          "2025-07-20T03:00:00.000000000",
          "2025-07-20T07:00:00.000000000",
          "2025-07-20T11:00:00.000000000",
          "2025-07-20T15:00:00.000000000",
          "2025-07-20T19:00:00.000000000",
          "2025-07-20T23:00:00.000000000",
          "2025-07-21T03:00:00.000000000",
          "2025-07-21T07:00:00.000000000",
          "2025-07-21T11:00:00.000000000",
          "2025-07-21T15:00:00.000000000",
          "2025-07-21T19:00:00.000000000",
          "2025-07-21T23:00:00.000000000",
          "2025-07-22T03:00:00.000000000",
          "2025-07-22T07:00:00.000000000",
          "2025-07-22T11:00:00.000000000",
          "2025-07-22T15:00:00.000000000",
          "2025-07-22T19:00:00.000000000",
          "2025-07-22T23:00:00.000000000",
          "2025-07-23T03:00:00.000000000",
          "2025-07-23T07:00:00.000000000",
          "2025-07-23T11:00:00.000000000",
          "2025-07-23T15:00:00.000000000",
          "2025-07-23T19:00:00.000000000",
          "2025-07-23T23:00:00.000000000",
          "2025-07-24T03:00:00.000000000",
          "2025-07-24T07:00:00.000000000",
          "2025-07-24T11:00:00.000000000",
          "2025-07-24T15:00:00.000000000",
          "2025-07-24T19:00:00.000000000",
          "2025-07-24T23:00:00.000000000",
          "2025-07-25T03:00:00.000000000",
          "2025-07-25T07:00:00.000000000",
          "2025-07-25T11:00:00.000000000",
          "2025-07-25T15:00:00.000000000",
          "2025-07-25T19:00:00.000000000",
          "2025-07-25T23:00:00.000000000",
          "2025-07-26T03:00:00.000000000",
          "2025-07-26T07:00:00.000000000",
          "2025-07-26T11:00:00.000000000",
          "2025-07-26T15:00:00.000000000",
          "2025-07-26T19:00:00.000000000",
          "2025-07-26T23:00:00.000000000",
          "2025-07-27T03:00:00.000000000",
          "2025-07-27T07:00:00.000000000",
          "2025-07-27T11:00:00.000000000",
          "2025-07-27T15:00:00.000000000",
          "2025-07-27T19:00:00.000000000",
          "2025-07-27T23:00:00.000000000",
          "2025-07-28T03:00:00.000000000",
          "2025-07-28T07:00:00.000000000",
          "2025-07-28T11:00:00.000000000",
          "2025-07-28T15:00:00.000000000",
          "2025-07-28T19:00:00.000000000",
          "2025-07-28T23:00:00.000000000",
          "2025-07-29T03:00:00.000000000",
          "2025-07-29T07:00:00.000000000",
          "2025-07-29T11:00:00.000000000",
          "2025-07-29T15:00:00.000000000",
          "2025-07-29T19:00:00.000000000",
          "2025-07-29T23:00:00.000000000",
          "2025-07-30T03:00:00.000000000",
          "2025-07-30T07:00:00.000000000",
          "2025-07-30T11:00:00.000000000",
          "2025-07-30T15:00:00.000000000",
          "2025-07-30T19:00:00.000000000",
          "2025-07-30T23:00:00.000000000",
          "2025-07-31T03:00:00.000000000",
          "2025-07-31T07:00:00.000000000",
          "2025-07-31T11:00:00.000000000",
          "2025-07-31T15:00:00.000000000",
          "2025-07-31T19:00:00.000000000",
          "2025-07-31T23:00:00.000000000",
          "2025-08-01T03:00:00.000000000",
          "2025-08-01T07:00:00.000000000",
          "2025-08-01T11:00:00.000000000",
          "2025-08-01T15:00:00.000000000",
          "2025-08-01T19:00:00.000000000",
          "2025-08-01T23:00:00.000000000",
          "2025-08-02T03:00:00.000000000",
          "2025-08-02T07:00:00.000000000",
          "2025-08-02T11:00:00.000000000",
          "2025-08-02T15:00:00.000000000"
         ],
         "xaxis": "x3",
         "y": {
          "bdata": "AAAAAAAA+H8AAAAAAADwPwAAAAAAAPA/AAAAAAAA8D8AAAAAAADwPwAAAAAAAPA/AAAAAAAA8D8AAAAAAADwPwAAAAAAAPA/AAAAAAAA8D8AAAAAAADwPwAAAAAAAPA/AAAAAAAA8D8AAAAAAADwPwAAAAAAAPA/AAAAAAAA8D8AAAAAAADwPwAAAAAAAPA/AAAAAAAA8D8AAAAAAADwPwAAAAAAAPA/AAAAAAAA8D8AAAAAAADwPwAAAAAAAPA/AAAAAAAA8D8AAAAAAADwPwAAAAAAAPA/AAAAAAAA8D8AAAAAAADwPwAAAAAAAPA/AAAAAAAA8D8AAAAAAADwPwAAAAAAAPA/AAAAAAAA8D8AAAAAAADwPzxO0ZFc/u8/y7PvW8ID8D/7JltkLfXvP+0R0B2Y8e8/aub8sAn07z9sa16AzvTvP+AYhKGb8e8/m+VmYxL37z/NMbRQrvPvP2fcORKA8u8/n9PqNwP17z9wH4BOvfvvPx67mP8F+u8/gkCypazw7z/DjYXyocbvP8ONhfKhxu8/w42F8qHG7z/DjYXyocbvP8ONhfKhxu8/w42F8qHG7z/DjYXyocbvP8ONhfKhxu8/w42F8qHG7z/DjYXyocbvP8ONhfKhxu8/w42F8qHG7z9/40N0AcXvPyQSRDDrw+8/j0kQkIjD7z+9f5qDRsrvPxpnOA2Iz+8/1B/W2t/V7z91t+aTjNPvPwyCva4Szu8/GuAeNSrN7z/GMG7B9cPvPzkf1nmOwu8/7zq8KV3C7z9wgz9zxsvvP4mu2pcEzu8/O7QiAqjJ7z/FJN6LXbnvP4N+eWyFuu8/MOmL3qTA7z8sgdmYBMLvPyyB2ZgEwu8/LIHZmATC7z8sgdmYBMLvPyyB2ZgEwu8/LIHZmATC7z8sgdmYBMLvPyyB2ZgEwu8/LIHZmATC7z+sCBRXZMDvPxPu2xPaqe8/E+7bE9qp7z8T7tsT2qnvPxPu2xPaqe8/E+7bE9qp7z8T7tsT2qnvPxPu2xPaqe8/E+7bE9qp7z8T7tsT2qnvPxPu2xPaqe8/E+7bE9qp7z8=",
          "dtype": "f8"
         },
         "yaxis": "y3"
        },
        {
         "fill": "tonexty",
         "mode": "lines",
         "name": "Drawdown",
         "type": "scatter",
         "x": [
          "2025-07-17T03:00:00.000000000",
          "2025-07-17T07:00:00.000000000",
          "2025-07-17T11:00:00.000000000",
          "2025-07-17T15:00:00.000000000",
          "2025-07-17T19:00:00.000000000",
          "2025-07-17T23:00:00.000000000",
          "2025-07-18T03:00:00.000000000",
          "2025-07-18T07:00:00.000000000",
          "2025-07-18T11:00:00.000000000",
          "2025-07-18T15:00:00.000000000",
          "2025-07-18T19:00:00.000000000",
          "2025-07-18T23:00:00.000000000",
          "2025-07-19T03:00:00.000000000",
          "2025-07-19T07:00:00.000000000",
          "2025-07-19T11:00:00.000000000",
          "2025-07-19T15:00:00.000000000",
          "2025-07-19T19:00:00.000000000",
          "2025-07-19T23:00:00.000000000",
          "2025-07-20T03:00:00.000000000",
          "2025-07-20T07:00:00.000000000",
          "2025-07-20T11:00:00.000000000",
          "2025-07-20T15:00:00.000000000",
          "2025-07-20T19:00:00.000000000",
          "2025-07-20T23:00:00.000000000",
          "2025-07-21T03:00:00.000000000",
          "2025-07-21T07:00:00.000000000",
          "2025-07-21T11:00:00.000000000",
          "2025-07-21T15:00:00.000000000",
          "2025-07-21T19:00:00.000000000",
          "2025-07-21T23:00:00.000000000",
          "2025-07-22T03:00:00.000000000",
          "2025-07-22T07:00:00.000000000",
          "2025-07-22T11:00:00.000000000",
          "2025-07-22T15:00:00.000000000",
          "2025-07-22T19:00:00.000000000",
          "2025-07-22T23:00:00.000000000",
          "2025-07-23T03:00:00.000000000",
          "2025-07-23T07:00:00.000000000",
          "2025-07-23T11:00:00.000000000",
          "2025-07-23T15:00:00.000000000",
          "2025-07-23T19:00:00.000000000",
          "2025-07-23T23:00:00.000000000",
          "2025-07-24T03:00:00.000000000",
          "2025-07-24T07:00:00.000000000",
          "2025-07-24T11:00:00.000000000",
          "2025-07-24T15:00:00.000000000",
          "2025-07-24T19:00:00.000000000",
          "2025-07-24T23:00:00.000000000",
          "2025-07-25T03:00:00.000000000",
          "2025-07-25T07:00:00.000000000",
          "2025-07-25T11:00:00.000000000",
          "2025-07-25T15:00:00.000000000",
          "2025-07-25T19:00:00.000000000",
          "2025-07-25T23:00:00.000000000",
          "2025-07-26T03:00:00.000000000",
          "2025-07-26T07:00:00.000000000",
          "2025-07-26T11:00:00.000000000",
          "2025-07-26T15:00:00.000000000",
          "2025-07-26T19:00:00.000000000",
          "2025-07-26T23:00:00.000000000",
          "2025-07-27T03:00:00.000000000",
          "2025-07-27T07:00:00.000000000",
          "2025-07-27T11:00:00.000000000",
          "2025-07-27T15:00:00.000000000",
          "2025-07-27T19:00:00.000000000",
          "2025-07-27T23:00:00.000000000",
          "2025-07-28T03:00:00.000000000",
          "2025-07-28T07:00:00.000000000",
          "2025-07-28T11:00:00.000000000",
          "2025-07-28T15:00:00.000000000",
          "2025-07-28T19:00:00.000000000",
          "2025-07-28T23:00:00.000000000",
          "2025-07-29T03:00:00.000000000",
          "2025-07-29T07:00:00.000000000",
          "2025-07-29T11:00:00.000000000",
          "2025-07-29T15:00:00.000000000",
          "2025-07-29T19:00:00.000000000",
          "2025-07-29T23:00:00.000000000",
          "2025-07-30T03:00:00.000000000",
          "2025-07-30T07:00:00.000000000",
          "2025-07-30T11:00:00.000000000",
          "2025-07-30T15:00:00.000000000",
          "2025-07-30T19:00:00.000000000",
          "2025-07-30T23:00:00.000000000",
          "2025-07-31T03:00:00.000000000",
          "2025-07-31T07:00:00.000000000",
          "2025-07-31T11:00:00.000000000",
          "2025-07-31T15:00:00.000000000",
          "2025-07-31T19:00:00.000000000",
          "2025-07-31T23:00:00.000000000",
          "2025-08-01T03:00:00.000000000",
          "2025-08-01T07:00:00.000000000",
          "2025-08-01T11:00:00.000000000",
          "2025-08-01T15:00:00.000000000",
          "2025-08-01T19:00:00.000000000",
          "2025-08-01T23:00:00.000000000",
          "2025-08-02T03:00:00.000000000",
          "2025-08-02T07:00:00.000000000",
          "2025-08-02T11:00:00.000000000",
          "2025-08-02T15:00:00.000000000"
         ],
         "xaxis": "x4",
         "y": {
          "bdata": "AAAAAAAAAAAAAAAAAAAAAAAAAAAAAAAAAAAAAAAAAAAAAAAAAAAAAAAAAAAAAAAAAAAAAAAAAAAAAAAAAAAAAAAAAAAAAAAAAAAAAAAAAAAAAAAAAAAAAAAAAAAAAAAAAAAAAAAAAAAAAAAAAAAAAAAAAAAAAAAAAAAAAAAAAAAAAAAAAAAAAAAAAAAAAAAAAAAAAAAAAAAAAAAAAAAAAAAAAAAAAAAAAAAAAAAAAAAAAAAAAAAAAAAAAAAAAAAAAAAAAAAAAAAAAAAAAAAAAAAAAAAAAAAAAAAAAAAAAAAAAAAAAAAAAAAAAAAAAAAAAAAAAAAAAAAAAAAAAAAAAAAAAAAAAAAAAAAAAAAAAAAAAAAAAAAAAC1DHOviNiq/AAAAAAAAAAAZ01NbBVNivxqON5V052W/ZDSeQHR2Y7/gI94R07Fiv6DWYbTx42W/dxcfKHhuYL//zlIWv9Fjv2pVHp62/2S/7GhY5Sd9Yr+Pr48YS4lXvzeMRKka91q/9nwmbbXSZr+wXKGN4jSAv7BcoY3iNIC/sFyhjeI0gL+wXKGN4jSAv7BcoY3iNIC/sFyhjeI0gL+wXKGN4jSAv7BcoY3iNIC/sFyhjeI0gL+wXKGN4jSAv7BcoY3iNIC/sFyhjeI0gL9D7gmt6ZyAv5+dllhq4oC/eynfmwz7gL+VMtME6pd+v722FyLD93u/LNxC6JrMeL/imS6C+PV5v27+PI1Gsny/CwCTE2gmfb/U186sxt+Av9UeV32DOYG/wmT7ntRFgb+lXh5CH9h9v8W4UVdQuXy/wGE8Jhjnfr9D3xnnNIWDv687QB1OO4O/wEJ/lM2zgb91ZyGl81uBv3VnIaXzW4G/dWchpfNbgb91ZyGl81uBv3VnIaXzW4G/dWchpfNbgb91ZyGl81uBv3VnIaXzW4G/dWchpfNbgb8sNAqp68OBv0eq/NcpZYe/R6r81yllh79HqvzXKWWHv0eq/NcpZYe/R6r81yllh79HqvzXKWWHv0eq/NcpZYe/R6r81yllh79HqvzXKWWHv0eq/NcpZYe/R6r81yllh78=",
          "dtype": "f8"
         },
         "yaxis": "y4"
        },
        {
         "mode": "lines",
         "name": "Cash",
         "type": "scatter",
         "x": [
          "2025-07-17T03:00:00.000000000",
          "2025-07-17T07:00:00.000000000",
          "2025-07-17T11:00:00.000000000",
          "2025-07-17T15:00:00.000000000",
          "2025-07-17T19:00:00.000000000",
          "2025-07-17T23:00:00.000000000",
          "2025-07-18T03:00:00.000000000",
          "2025-07-18T07:00:00.000000000",
          "2025-07-18T11:00:00.000000000",
          "2025-07-18T15:00:00.000000000",
          "2025-07-18T19:00:00.000000000",
          "2025-07-18T23:00:00.000000000",
          "2025-07-19T03:00:00.000000000",
          "2025-07-19T07:00:00.000000000",
          "2025-07-19T11:00:00.000000000",
          "2025-07-19T15:00:00.000000000",
          "2025-07-19T19:00:00.000000000",
          "2025-07-19T23:00:00.000000000",
          "2025-07-20T03:00:00.000000000",
          "2025-07-20T07:00:00.000000000",
          "2025-07-20T11:00:00.000000000",
          "2025-07-20T15:00:00.000000000",
          "2025-07-20T19:00:00.000000000",
          "2025-07-20T23:00:00.000000000",
          "2025-07-21T03:00:00.000000000",
          "2025-07-21T07:00:00.000000000",
          "2025-07-21T11:00:00.000000000",
          "2025-07-21T15:00:00.000000000",
          "2025-07-21T19:00:00.000000000",
          "2025-07-21T23:00:00.000000000",
          "2025-07-22T03:00:00.000000000",
          "2025-07-22T07:00:00.000000000",
          "2025-07-22T11:00:00.000000000",
          "2025-07-22T15:00:00.000000000",
          "2025-07-22T19:00:00.000000000",
          "2025-07-22T23:00:00.000000000",
          "2025-07-23T03:00:00.000000000",
          "2025-07-23T07:00:00.000000000",
          "2025-07-23T11:00:00.000000000",
          "2025-07-23T15:00:00.000000000",
          "2025-07-23T19:00:00.000000000",
          "2025-07-23T23:00:00.000000000",
          "2025-07-24T03:00:00.000000000",
          "2025-07-24T07:00:00.000000000",
          "2025-07-24T11:00:00.000000000",
          "2025-07-24T15:00:00.000000000",
          "2025-07-24T19:00:00.000000000",
          "2025-07-24T23:00:00.000000000",
          "2025-07-25T03:00:00.000000000",
          "2025-07-25T07:00:00.000000000",
          "2025-07-25T11:00:00.000000000",
          "2025-07-25T15:00:00.000000000",
          "2025-07-25T19:00:00.000000000",
          "2025-07-25T23:00:00.000000000",
          "2025-07-26T03:00:00.000000000",
          "2025-07-26T07:00:00.000000000",
          "2025-07-26T11:00:00.000000000",
          "2025-07-26T15:00:00.000000000",
          "2025-07-26T19:00:00.000000000",
          "2025-07-26T23:00:00.000000000",
          "2025-07-27T03:00:00.000000000",
          "2025-07-27T07:00:00.000000000",
          "2025-07-27T11:00:00.000000000",
          "2025-07-27T15:00:00.000000000",
          "2025-07-27T19:00:00.000000000",
          "2025-07-27T23:00:00.000000000",
          "2025-07-28T03:00:00.000000000",
          "2025-07-28T07:00:00.000000000",
          "2025-07-28T11:00:00.000000000",
          "2025-07-28T15:00:00.000000000",
          "2025-07-28T19:00:00.000000000",
          "2025-07-28T23:00:00.000000000",
          "2025-07-29T03:00:00.000000000",
          "2025-07-29T07:00:00.000000000",
          "2025-07-29T11:00:00.000000000",
          "2025-07-29T15:00:00.000000000",
          "2025-07-29T19:00:00.000000000",
          "2025-07-29T23:00:00.000000000",
          "2025-07-30T03:00:00.000000000",
          "2025-07-30T07:00:00.000000000",
          "2025-07-30T11:00:00.000000000",
          "2025-07-30T15:00:00.000000000",
          "2025-07-30T19:00:00.000000000",
          "2025-07-30T23:00:00.000000000",
          "2025-07-31T03:00:00.000000000",
          "2025-07-31T07:00:00.000000000",
          "2025-07-31T11:00:00.000000000",
          "2025-07-31T15:00:00.000000000",
          "2025-07-31T19:00:00.000000000",
          "2025-07-31T23:00:00.000000000",
          "2025-08-01T03:00:00.000000000",
          "2025-08-01T07:00:00.000000000",
          "2025-08-01T11:00:00.000000000",
          "2025-08-01T15:00:00.000000000",
          "2025-08-01T19:00:00.000000000",
          "2025-08-01T23:00:00.000000000",
          "2025-08-02T03:00:00.000000000",
          "2025-08-02T07:00:00.000000000",
          "2025-08-02T11:00:00.000000000",
          "2025-08-02T15:00:00.000000000"
         ],
         "xaxis": "x5",
         "y": {
          "bdata": "AAAAAABq+EAAAAAAAGr4QAAAAAAAavhAAAAAAABq+EAAAAAAAGr4QAAAAAAAavhAAAAAAABq+EAAAAAAAGr4QAAAAAAAavhAAAAAAABq+EAAAAAAAGr4QAAAAAAAavhAAAAAAABq+EAAAAAAAGr4QAAAAAAAavhAAAAAAABq+EAAAAAAAGr4QAAAAAAAavhAAAAAAABq+EAAAAAAAGr4QAAAAAAAavhAAAAAAABq+EAAAAAAAGr4QAAAAAAAavhAAAAAAABq+EAAAAAAAGr4QAAAAAAAavhAAAAAAABq+EAAAAAAAGr4QAAAAAAAavhAAAAAAABq+EAAAAAAAGr4QAAAAAAAavhAAAAAAABq+EAAAAAAAGr4QAAAAADAhvNAAAAAAMCG80AAAAAAwIbzQAAAAADAhvNAAAAAAMCG80AAAAAAwIbzQAAAAADAhvNAAAAAAMCG80AAAAAAwIbzQAAAAADAhvNAAAAAAMCG80AAAAAAwIbzQAAAAADAhvNAAAAAAMCG80C4hFduOz74QLiEV247PvhAuIRXbjs++EC4hFduOz74QLiEV247PvhAuIRXbjs++EC4hFduOz74QLiEV247PvhAuIRXbjs++EC4hFduOz74QLiEV247PvhAuIRXbjs++ECPivKVvmPzQI+K8pW+Y/NAj4rylb5j80CPivKVvmPzQI+K8pW+Y/NAj4rylb5j80CPivKVvmPzQI+K8pW+Y/NAj4rylb5j80CPivKVvmPzQI+K8pW+Y/NAj4rylb5j80CPivKVvmPzQI+K8pW+Y/NAj4rylb5j80CPivKVvmPzQI+K8pW+Y/NAj4rylb5j80Becd0htjr4QF5x3SG2OvhAXnHdIbY6+EBecd0htjr4QF5x3SG2OvhAXnHdIbY6+EBecd0htjr4QF5x3SG2OvhAXnHdIbY6+ECZyBy67WDzQBS7RjFGKPhAFLtGMUYo+EAUu0YxRij4QBS7RjFGKPhAFLtGMUYo+EAUu0YxRij4QBS7RjFGKPhAFLtGMUYo+EAUu0YxRij4QBS7RjFGKPhAFLtGMUYo+EA=",
          "dtype": "f8"
         },
         "yaxis": "y5"
        },
        {
         "mode": "lines",
         "name": "Positions",
         "type": "scatter",
         "x": [
          "2025-07-17T03:00:00.000000000",
          "2025-07-17T07:00:00.000000000",
          "2025-07-17T11:00:00.000000000",
          "2025-07-17T15:00:00.000000000",
          "2025-07-17T19:00:00.000000000",
          "2025-07-17T23:00:00.000000000",
          "2025-07-18T03:00:00.000000000",
          "2025-07-18T07:00:00.000000000",
          "2025-07-18T11:00:00.000000000",
          "2025-07-18T15:00:00.000000000",
          "2025-07-18T19:00:00.000000000",
          "2025-07-18T23:00:00.000000000",
          "2025-07-19T03:00:00.000000000",
          "2025-07-19T07:00:00.000000000",
          "2025-07-19T11:00:00.000000000",
          "2025-07-19T15:00:00.000000000",
          "2025-07-19T19:00:00.000000000",
          "2025-07-19T23:00:00.000000000",
          "2025-07-20T03:00:00.000000000",
          "2025-07-20T07:00:00.000000000",
          "2025-07-20T11:00:00.000000000",
          "2025-07-20T15:00:00.000000000",
          "2025-07-20T19:00:00.000000000",
          "2025-07-20T23:00:00.000000000",
          "2025-07-21T03:00:00.000000000",
          "2025-07-21T07:00:00.000000000",
          "2025-07-21T11:00:00.000000000",
          "2025-07-21T15:00:00.000000000",
          "2025-07-21T19:00:00.000000000",
          "2025-07-21T23:00:00.000000000",
          "2025-07-22T03:00:00.000000000",
          "2025-07-22T07:00:00.000000000",
          "2025-07-22T11:00:00.000000000",
          "2025-07-22T15:00:00.000000000",
          "2025-07-22T19:00:00.000000000",
          "2025-07-22T23:00:00.000000000",
          "2025-07-23T03:00:00.000000000",
          "2025-07-23T07:00:00.000000000",
          "2025-07-23T11:00:00.000000000",
          "2025-07-23T15:00:00.000000000",
          "2025-07-23T19:00:00.000000000",
          "2025-07-23T23:00:00.000000000",
          "2025-07-24T03:00:00.000000000",
          "2025-07-24T07:00:00.000000000",
          "2025-07-24T11:00:00.000000000",
          "2025-07-24T15:00:00.000000000",
          "2025-07-24T19:00:00.000000000",
          "2025-07-24T23:00:00.000000000",
          "2025-07-25T03:00:00.000000000",
          "2025-07-25T07:00:00.000000000",
          "2025-07-25T11:00:00.000000000",
          "2025-07-25T15:00:00.000000000",
          "2025-07-25T19:00:00.000000000",
          "2025-07-25T23:00:00.000000000",
          "2025-07-26T03:00:00.000000000",
          "2025-07-26T07:00:00.000000000",
          "2025-07-26T11:00:00.000000000",
          "2025-07-26T15:00:00.000000000",
          "2025-07-26T19:00:00.000000000",
          "2025-07-26T23:00:00.000000000",
          "2025-07-27T03:00:00.000000000",
          "2025-07-27T07:00:00.000000000",
          "2025-07-27T11:00:00.000000000",
          "2025-07-27T15:00:00.000000000",
          "2025-07-27T19:00:00.000000000",
          "2025-07-27T23:00:00.000000000",
          "2025-07-28T03:00:00.000000000",
          "2025-07-28T07:00:00.000000000",
          "2025-07-28T11:00:00.000000000",
          "2025-07-28T15:00:00.000000000",
          "2025-07-28T19:00:00.000000000",
          "2025-07-28T23:00:00.000000000",
          "2025-07-29T03:00:00.000000000",
          "2025-07-29T07:00:00.000000000",
          "2025-07-29T11:00:00.000000000",
          "2025-07-29T15:00:00.000000000",
          "2025-07-29T19:00:00.000000000",
          "2025-07-29T23:00:00.000000000",
          "2025-07-30T03:00:00.000000000",
          "2025-07-30T07:00:00.000000000",
          "2025-07-30T11:00:00.000000000",
          "2025-07-30T15:00:00.000000000",
          "2025-07-30T19:00:00.000000000",
          "2025-07-30T23:00:00.000000000",
          "2025-07-31T03:00:00.000000000",
          "2025-07-31T07:00:00.000000000",
          "2025-07-31T11:00:00.000000000",
          "2025-07-31T15:00:00.000000000",
          "2025-07-31T19:00:00.000000000",
          "2025-07-31T23:00:00.000000000",
          "2025-08-01T03:00:00.000000000",
          "2025-08-01T07:00:00.000000000",
          "2025-08-01T11:00:00.000000000",
          "2025-08-01T15:00:00.000000000",
          "2025-08-01T19:00:00.000000000",
          "2025-08-01T23:00:00.000000000",
          "2025-08-02T03:00:00.000000000",
          "2025-08-02T07:00:00.000000000",
          "2025-08-02T11:00:00.000000000",
          "2025-08-02T15:00:00.000000000"
         ],
         "xaxis": "x5",
         "y": {
          "bdata": "AAAAAAAAAAAAAAAAAAAAAAAAAAAAAAAAAAAAAAAAAAAAAAAAAAAAAAAAAAAAAAAAAAAAAAAAAAAAAAAAAAAAAAAAAAAAAAAAAAAAAAAAAAAAAAAAAAAAAAAAAAAAAAAAAAAAAAAAAAAAAAAAAAAAAAAAAAAAAAAAAAAAAAAAAAAAAAAAAAAAAAAAAAAAAAAAAAAAAAAAAAAAAAAAAAAAAAAAAAAAAAAAAAAAAAAAAAAAAAAAAAAAAAAAAAAAAAAAAAAAAAAAAAAAAAAAAAAAAAAAAAAAAAAAAAAAAAAAAAAAAAAAAAAAAAAAAAAAAAAAAAAAAAAAAAAAAAAAAAAAAAAAAAAAAAAAAAAAAAAAAAAAAAAAAAAAAAAAAAAAiNNA4IYixvGj00C4LIPG+GvTQLg6+3gJYdNAMMpfk35o00BYJUAx12rTQOxgqDIUYdNAOMTZ3cBx00AA6cm3Z2fTQOATn1fNY9NAVGJlEnhr00D0f9B3/3/TQAzZRM7CetNAYDuq4Dpe00AAAAAAAAAAAAAAAAAAAAAAAAAAAAAAAAAAAAAAAAAAAAAAAAAAAAAAAAAAAAAAAAAAAAAAAAAAAAAAAAAAAAAAAAAAAAAAAAAAAAAAAAAAAAAAAAAAAAAAAAAAAAAAAADIA0ZY/GTTQCCSQSWrYdNAQIrbKX5g00AYFFVZEXXTQGw2jpobhdNAaMrLDneY00AkrZFqXpHTQOSq+SuogNNALE/StuJ900AcXMNky2HTQIyIhvWCXdNAnITTd+xc00CgaWsHpXnTQOjyoSx9gNNATD66oC1z00B8g01jdkHTQBybf1X9RNNALE9ezKxX00AAAAAAAAAAAAAAAAAAAAAAAAAAAAAAAAAAAAAAAAAAAAAAAAAAAAAAAAAAAAAAAAAAAAAAAAAAAAAAAAAAAAAAAAAAAAAAAAAYwUpOK2LTQAAAAAAAAAAAAAAAAAAAAAAAAAAAAAAAAAAAAAAAAAAAAAAAAAAAAAAAAAAAAAAAAAAAAAAAAAAAAAAAAAAAAAAAAAAAAAAAAAAAAAAAAAAAAAAAAAAAAAA=",
          "dtype": "f8"
         },
         "yaxis": "y5"
        },
        {
         "name": "Trade Returns",
         "type": "histogram",
         "x": [
          0,
          -680.2855610671686,
          0,
          -36.47122822006713,
          0,
          -275.14756082666645
         ],
         "xaxis": "x6",
         "yaxis": "y6"
        }
       ],
       "layout": {
        "annotations": [
         {
          "font": {
           "size": 16
          },
          "showarrow": false,
          "text": "Portfolio Value",
          "x": 0.225,
          "xanchor": "center",
          "xref": "paper",
          "y": 1,
          "yanchor": "bottom",
          "yref": "paper"
         },
         {
          "font": {
           "size": 16
          },
          "showarrow": false,
          "text": "Daily Returns",
          "x": 0.775,
          "xanchor": "center",
          "xref": "paper",
          "y": 1,
          "yanchor": "bottom",
          "yref": "paper"
         },
         {
          "font": {
           "size": 16
          },
          "showarrow": false,
          "text": "Cumulative Returns",
          "x": 0.225,
          "xanchor": "center",
          "xref": "paper",
          "y": 0.6111111111111112,
          "yanchor": "bottom",
          "yref": "paper"
         },
         {
          "font": {
           "size": 16
          },
          "showarrow": false,
          "text": "Drawdown",
          "x": 0.775,
          "xanchor": "center",
          "xref": "paper",
          "y": 0.6111111111111112,
          "yanchor": "bottom",
          "yref": "paper"
         },
         {
          "font": {
           "size": 16
          },
          "showarrow": false,
          "text": "Cash vs Positions",
          "x": 0.225,
          "xanchor": "center",
          "xref": "paper",
          "y": 0.22222222222222224,
          "yanchor": "bottom",
          "yref": "paper"
         },
         {
          "font": {
           "size": 16
          },
          "showarrow": false,
          "text": "Trade Distribution",
          "x": 0.775,
          "xanchor": "center",
          "xref": "paper",
          "y": 0.22222222222222224,
          "yanchor": "bottom",
          "yref": "paper"
         }
        ],
        "height": 900,
        "template": {
         "data": {
          "bar": [
           {
            "error_x": {
             "color": "#2a3f5f"
            },
            "error_y": {
             "color": "#2a3f5f"
            },
            "marker": {
             "line": {
              "color": "#E5ECF6",
              "width": 0.5
             },
             "pattern": {
              "fillmode": "overlay",
              "size": 10,
              "solidity": 0.2
             }
            },
            "type": "bar"
           }
          ],
          "barpolar": [
           {
            "marker": {
             "line": {
              "color": "#E5ECF6",
              "width": 0.5
             },
             "pattern": {
              "fillmode": "overlay",
              "size": 10,
              "solidity": 0.2
             }
            },
            "type": "barpolar"
           }
          ],
          "carpet": [
           {
            "aaxis": {
             "endlinecolor": "#2a3f5f",
             "gridcolor": "white",
             "linecolor": "white",
             "minorgridcolor": "white",
             "startlinecolor": "#2a3f5f"
            },
            "baxis": {
             "endlinecolor": "#2a3f5f",
             "gridcolor": "white",
             "linecolor": "white",
             "minorgridcolor": "white",
             "startlinecolor": "#2a3f5f"
            },
            "type": "carpet"
           }
          ],
          "choropleth": [
           {
            "colorbar": {
             "outlinewidth": 0,
             "ticks": ""
            },
            "type": "choropleth"
           }
          ],
          "contour": [
           {
            "colorbar": {
             "outlinewidth": 0,
             "ticks": ""
            },
            "colorscale": [
             [
              0,
              "#0d0887"
             ],
             [
              0.1111111111111111,
              "#46039f"
             ],
             [
              0.2222222222222222,
              "#7201a8"
             ],
             [
              0.3333333333333333,
              "#9c179e"
             ],
             [
              0.4444444444444444,
              "#bd3786"
             ],
             [
              0.5555555555555556,
              "#d8576b"
             ],
             [
              0.6666666666666666,
              "#ed7953"
             ],
             [
              0.7777777777777778,
              "#fb9f3a"
             ],
             [
              0.8888888888888888,
              "#fdca26"
             ],
             [
              1,
              "#f0f921"
             ]
            ],
            "type": "contour"
           }
          ],
          "contourcarpet": [
           {
            "colorbar": {
             "outlinewidth": 0,
             "ticks": ""
            },
            "type": "contourcarpet"
           }
          ],
          "heatmap": [
           {
            "colorbar": {
             "outlinewidth": 0,
             "ticks": ""
            },
            "colorscale": [
             [
              0,
              "#0d0887"
             ],
             [
              0.1111111111111111,
              "#46039f"
             ],
             [
              0.2222222222222222,
              "#7201a8"
             ],
             [
              0.3333333333333333,
              "#9c179e"
             ],
             [
              0.4444444444444444,
              "#bd3786"
             ],
             [
              0.5555555555555556,
              "#d8576b"
             ],
             [
              0.6666666666666666,
              "#ed7953"
             ],
             [
              0.7777777777777778,
              "#fb9f3a"
             ],
             [
              0.8888888888888888,
              "#fdca26"
             ],
             [
              1,
              "#f0f921"
             ]
            ],
            "type": "heatmap"
           }
          ],
          "histogram": [
           {
            "marker": {
             "pattern": {
              "fillmode": "overlay",
              "size": 10,
              "solidity": 0.2
             }
            },
            "type": "histogram"
           }
          ],
          "histogram2d": [
           {
            "colorbar": {
             "outlinewidth": 0,
             "ticks": ""
            },
            "colorscale": [
             [
              0,
              "#0d0887"
             ],
             [
              0.1111111111111111,
              "#46039f"
             ],
             [
              0.2222222222222222,
              "#7201a8"
             ],
             [
              0.3333333333333333,
              "#9c179e"
             ],
             [
              0.4444444444444444,
              "#bd3786"
             ],
             [
              0.5555555555555556,
              "#d8576b"
             ],
             [
              0.6666666666666666,
              "#ed7953"
             ],
             [
              0.7777777777777778,
              "#fb9f3a"
             ],
             [
              0.8888888888888888,
              "#fdca26"
             ],
             [
              1,
              "#f0f921"
             ]
            ],
            "type": "histogram2d"
           }
          ],
          "histogram2dcontour": [
           {
            "colorbar": {
             "outlinewidth": 0,
             "ticks": ""
            },
            "colorscale": [
             [
              0,
              "#0d0887"
             ],
             [
              0.1111111111111111,
              "#46039f"
             ],
             [
              0.2222222222222222,
              "#7201a8"
             ],
             [
              0.3333333333333333,
              "#9c179e"
             ],
             [
              0.4444444444444444,
              "#bd3786"
             ],
             [
              0.5555555555555556,
              "#d8576b"
             ],
             [
              0.6666666666666666,
              "#ed7953"
             ],
             [
              0.7777777777777778,
              "#fb9f3a"
             ],
             [
              0.8888888888888888,
              "#fdca26"
             ],
             [
              1,
              "#f0f921"
             ]
            ],
            "type": "histogram2dcontour"
           }
          ],
          "mesh3d": [
           {
            "colorbar": {
             "outlinewidth": 0,
             "ticks": ""
            },
            "type": "mesh3d"
           }
          ],
          "parcoords": [
           {
            "line": {
             "colorbar": {
              "outlinewidth": 0,
              "ticks": ""
             }
            },
            "type": "parcoords"
           }
          ],
          "pie": [
           {
            "automargin": true,
            "type": "pie"
           }
          ],
          "scatter": [
           {
            "fillpattern": {
             "fillmode": "overlay",
             "size": 10,
             "solidity": 0.2
            },
            "type": "scatter"
           }
          ],
          "scatter3d": [
           {
            "line": {
             "colorbar": {
              "outlinewidth": 0,
              "ticks": ""
             }
            },
            "marker": {
             "colorbar": {
              "outlinewidth": 0,
              "ticks": ""
             }
            },
            "type": "scatter3d"
           }
          ],
          "scattercarpet": [
           {
            "marker": {
             "colorbar": {
              "outlinewidth": 0,
              "ticks": ""
             }
            },
            "type": "scattercarpet"
           }
          ],
          "scattergeo": [
           {
            "marker": {
             "colorbar": {
              "outlinewidth": 0,
              "ticks": ""
             }
            },
            "type": "scattergeo"
           }
          ],
          "scattergl": [
           {
            "marker": {
             "colorbar": {
              "outlinewidth": 0,
              "ticks": ""
             }
            },
            "type": "scattergl"
           }
          ],
          "scattermap": [
           {
            "marker": {
             "colorbar": {
              "outlinewidth": 0,
              "ticks": ""
             }
            },
            "type": "scattermap"
           }
          ],
          "scattermapbox": [
           {
            "marker": {
             "colorbar": {
              "outlinewidth": 0,
              "ticks": ""
             }
            },
            "type": "scattermapbox"
           }
          ],
          "scatterpolar": [
           {
            "marker": {
             "colorbar": {
              "outlinewidth": 0,
              "ticks": ""
             }
            },
            "type": "scatterpolar"
           }
          ],
          "scatterpolargl": [
           {
            "marker": {
             "colorbar": {
              "outlinewidth": 0,
              "ticks": ""
             }
            },
            "type": "scatterpolargl"
           }
          ],
          "scatterternary": [
           {
            "marker": {
             "colorbar": {
              "outlinewidth": 0,
              "ticks": ""
             }
            },
            "type": "scatterternary"
           }
          ],
          "surface": [
           {
            "colorbar": {
             "outlinewidth": 0,
             "ticks": ""
            },
            "colorscale": [
             [
              0,
              "#0d0887"
             ],
             [
              0.1111111111111111,
              "#46039f"
             ],
             [
              0.2222222222222222,
              "#7201a8"
             ],
             [
              0.3333333333333333,
              "#9c179e"
             ],
             [
              0.4444444444444444,
              "#bd3786"
             ],
             [
              0.5555555555555556,
              "#d8576b"
             ],
             [
              0.6666666666666666,
              "#ed7953"
             ],
             [
              0.7777777777777778,
              "#fb9f3a"
             ],
             [
              0.8888888888888888,
              "#fdca26"
             ],
             [
              1,
              "#f0f921"
             ]
            ],
            "type": "surface"
           }
          ],
          "table": [
           {
            "cells": {
             "fill": {
              "color": "#EBF0F8"
             },
             "line": {
              "color": "white"
             }
            },
            "header": {
             "fill": {
              "color": "#C8D4E3"
             },
             "line": {
              "color": "white"
             }
            },
            "type": "table"
           }
          ]
         },
         "layout": {
          "annotationdefaults": {
           "arrowcolor": "#2a3f5f",
           "arrowhead": 0,
           "arrowwidth": 1
          },
          "autotypenumbers": "strict",
          "coloraxis": {
           "colorbar": {
            "outlinewidth": 0,
            "ticks": ""
           }
          },
          "colorscale": {
           "diverging": [
            [
             0,
             "#8e0152"
            ],
            [
             0.1,
             "#c51b7d"
            ],
            [
             0.2,
             "#de77ae"
            ],
            [
             0.3,
             "#f1b6da"
            ],
            [
             0.4,
             "#fde0ef"
            ],
            [
             0.5,
             "#f7f7f7"
            ],
            [
             0.6,
             "#e6f5d0"
            ],
            [
             0.7,
             "#b8e186"
            ],
            [
             0.8,
             "#7fbc41"
            ],
            [
             0.9,
             "#4d9221"
            ],
            [
             1,
             "#276419"
            ]
           ],
           "sequential": [
            [
             0,
             "#0d0887"
            ],
            [
             0.1111111111111111,
             "#46039f"
            ],
            [
             0.2222222222222222,
             "#7201a8"
            ],
            [
             0.3333333333333333,
             "#9c179e"
            ],
            [
             0.4444444444444444,
             "#bd3786"
            ],
            [
             0.5555555555555556,
             "#d8576b"
            ],
            [
             0.6666666666666666,
             "#ed7953"
            ],
            [
             0.7777777777777778,
             "#fb9f3a"
            ],
            [
             0.8888888888888888,
             "#fdca26"
            ],
            [
             1,
             "#f0f921"
            ]
           ],
           "sequentialminus": [
            [
             0,
             "#0d0887"
            ],
            [
             0.1111111111111111,
             "#46039f"
            ],
            [
             0.2222222222222222,
             "#7201a8"
            ],
            [
             0.3333333333333333,
             "#9c179e"
            ],
            [
             0.4444444444444444,
             "#bd3786"
            ],
            [
             0.5555555555555556,
             "#d8576b"
            ],
            [
             0.6666666666666666,
             "#ed7953"
            ],
            [
             0.7777777777777778,
             "#fb9f3a"
            ],
            [
             0.8888888888888888,
             "#fdca26"
            ],
            [
             1,
             "#f0f921"
            ]
           ]
          },
          "colorway": [
           "#636efa",
           "#EF553B",
           "#00cc96",
           "#ab63fa",
           "#FFA15A",
           "#19d3f3",
           "#FF6692",
           "#B6E880",
           "#FF97FF",
           "#FECB52"
          ],
          "font": {
           "color": "#2a3f5f"
          },
          "geo": {
           "bgcolor": "white",
           "lakecolor": "white",
           "landcolor": "#E5ECF6",
           "showlakes": true,
           "showland": true,
           "subunitcolor": "white"
          },
          "hoverlabel": {
           "align": "left"
          },
          "hovermode": "closest",
          "mapbox": {
           "style": "light"
          },
          "paper_bgcolor": "white",
          "plot_bgcolor": "#E5ECF6",
          "polar": {
           "angularaxis": {
            "gridcolor": "white",
            "linecolor": "white",
            "ticks": ""
           },
           "bgcolor": "#E5ECF6",
           "radialaxis": {
            "gridcolor": "white",
            "linecolor": "white",
            "ticks": ""
           }
          },
          "scene": {
           "xaxis": {
            "backgroundcolor": "#E5ECF6",
            "gridcolor": "white",
            "gridwidth": 2,
            "linecolor": "white",
            "showbackground": true,
            "ticks": "",
            "zerolinecolor": "white"
           },
           "yaxis": {
            "backgroundcolor": "#E5ECF6",
            "gridcolor": "white",
            "gridwidth": 2,
            "linecolor": "white",
            "showbackground": true,
            "ticks": "",
            "zerolinecolor": "white"
           },
           "zaxis": {
            "backgroundcolor": "#E5ECF6",
            "gridcolor": "white",
            "gridwidth": 2,
            "linecolor": "white",
            "showbackground": true,
            "ticks": "",
            "zerolinecolor": "white"
           }
          },
          "shapedefaults": {
           "line": {
            "color": "#2a3f5f"
           }
          },
          "ternary": {
           "aaxis": {
            "gridcolor": "white",
            "linecolor": "white",
            "ticks": ""
           },
           "baxis": {
            "gridcolor": "white",
            "linecolor": "white",
            "ticks": ""
           },
           "bgcolor": "#E5ECF6",
           "caxis": {
            "gridcolor": "white",
            "linecolor": "white",
            "ticks": ""
           }
          },
          "title": {
           "x": 0.05
          },
          "xaxis": {
           "automargin": true,
           "gridcolor": "white",
           "linecolor": "white",
           "ticks": "",
           "title": {
            "standoff": 15
           },
           "zerolinecolor": "white",
           "zerolinewidth": 2
          },
          "yaxis": {
           "automargin": true,
           "gridcolor": "white",
           "linecolor": "white",
           "ticks": "",
           "title": {
            "standoff": 15
           },
           "zerolinecolor": "white",
           "zerolinewidth": 2
          }
         }
        },
        "title": {
         "text": "Portfolio Performance Analysis (Optimized)"
        },
        "xaxis": {
         "anchor": "y",
         "domain": [
          0,
          0.45
         ]
        },
        "xaxis2": {
         "anchor": "y2",
         "domain": [
          0.55,
          1
         ]
        },
        "xaxis3": {
         "anchor": "y3",
         "domain": [
          0,
          0.45
         ]
        },
        "xaxis4": {
         "anchor": "y4",
         "domain": [
          0.55,
          1
         ]
        },
        "xaxis5": {
         "anchor": "y5",
         "domain": [
          0,
          0.45
         ]
        },
        "xaxis6": {
         "anchor": "y6",
         "domain": [
          0.55,
          1
         ]
        },
        "yaxis": {
         "anchor": "x",
         "domain": [
          0.7777777777777778,
          1
         ]
        },
        "yaxis2": {
         "anchor": "x2",
         "domain": [
          0.7777777777777778,
          1
         ]
        },
        "yaxis3": {
         "anchor": "x3",
         "domain": [
          0.3888888888888889,
          0.6111111111111112
         ]
        },
        "yaxis4": {
         "anchor": "x4",
         "domain": [
          0.3888888888888889,
          0.6111111111111112
         ]
        },
        "yaxis5": {
         "anchor": "x5",
         "domain": [
          0,
          0.22222222222222224
         ]
        },
        "yaxis6": {
         "anchor": "x6",
         "domain": [
          0,
          0.22222222222222224
         ]
        }
       }
      }
     },
     "metadata": {},
     "output_type": "display_data"
    }
   ],
   "source": [
    "# Cell 11: Visualize portfolio performance\n",
    "def plot_portfolio_performance(engine):\n",
    "    \"\"\"Plot portfolio performance\"\"\"\n",
    "    portfolio_history = engine.portfolio_history\n",
    "    \n",
    "    if not portfolio_history:\n",
    "        print(\"Không có dữ liệu portfolio history\")\n",
    "        return\n",
    "    \n",
    "    df = pd.DataFrame(portfolio_history)\n",
    "    df['date'] = pd.to_datetime(df['date'])\n",
    "    df.set_index('date', inplace=True)\n",
    "    \n",
    "    # Create subplots\n",
    "    fig = make_subplots(\n",
    "        rows=3, cols=2,\n",
    "        subplot_titles=('Portfolio Value', 'Daily Returns', 'Cumulative Returns', \n",
    "                       'Drawdown', 'Cash vs Positions', 'Trade Distribution'),\n",
    "        specs=[[{\"secondary_y\": False}, {\"secondary_y\": False}],\n",
    "               [{\"secondary_y\": False}, {\"secondary_y\": False}],\n",
    "               [{\"secondary_y\": False}, {\"secondary_y\": False}]]\n",
    "    )\n",
    "    \n",
    "    # Portfolio Value\n",
    "    fig.add_trace(\n",
    "        go.Scatter(x=df.index, y=df['total_value'], \n",
    "                  mode='lines', name='Portfolio Value'),\n",
    "        row=1, col=1\n",
    "    )\n",
    "    \n",
    "    # Daily Returns\n",
    "    daily_returns = df['total_value'].pct_change()\n",
    "    fig.add_trace(\n",
    "        go.Scatter(x=df.index, y=daily_returns, \n",
    "                  mode='lines', name='Daily Returns'),\n",
    "        row=1, col=2\n",
    "    )\n",
    "    \n",
    "    # Cumulative Returns\n",
    "    cumulative_returns = (1 + daily_returns).cumprod()\n",
    "    fig.add_trace(\n",
    "        go.Scatter(x=df.index, y=cumulative_returns, \n",
    "                  mode='lines', name='Cumulative Returns'),\n",
    "        row=2, col=1\n",
    "    )\n",
    "    \n",
    "    # Drawdown\n",
    "    running_max = df['total_value'].expanding().max()\n",
    "    drawdown = (df['total_value'] - running_max) / running_max\n",
    "    fig.add_trace(\n",
    "        go.Scatter(x=df.index, y=drawdown, \n",
    "                  mode='lines', name='Drawdown', fill='tonexty'),\n",
    "        row=2, col=2\n",
    "    )\n",
    "    \n",
    "    # Cash vs Positions\n",
    "    fig.add_trace(\n",
    "        go.Scatter(x=df.index, y=df['cash'], \n",
    "                  mode='lines', name='Cash'),\n",
    "        row=3, col=1\n",
    "    )\n",
    "    fig.add_trace(\n",
    "        go.Scatter(x=df.index, y=df['total_value'] - df['cash'], \n",
    "                  mode='lines', name='Positions'),\n",
    "        row=3, col=1\n",
    "    )\n",
    "    \n",
    "    # Trade Distribution (if available)\n",
    "    if hasattr(engine, 'trades') and engine.trades:\n",
    "        trade_returns = [trade.pnl for trade in engine.trades]\n",
    "        fig.add_trace(\n",
    "            go.Histogram(x=trade_returns, name='Trade Returns'),\n",
    "            row=3, col=2\n",
    "        )\n",
    "    \n",
    "    fig.update_layout(height=900, title_text=\"Portfolio Performance Analysis (Optimized)\")\n",
    "    fig.show()\n",
    "\n",
    "# Chạy visualization\n",
    "plot_portfolio_performance(engine)"
   ]
  },
  {
   "cell_type": "code",
   "execution_count": 12,
   "id": "3498d40f",
   "metadata": {},
   "outputs": [
    {
     "name": "stdout",
     "output_type": "stream",
     "text": [
      "\n",
      "=== CHI TIẾT TRADES (6 trades) ===\n",
      "            Symbol  Side  Quantity     Price           Timestamp  Commission  \\\n",
      "0  Bitstamp:BTCUSD   buy  0.167583  119344.0 2025-07-22 23:00:00   20.000000   \n",
      "1  Bitstamp:BTCUSD  sell  0.167583  115400.0 2025-07-25 07:00:00   19.339053   \n",
      "2  Bitstamp:BTCUSD   buy  0.167959  118243.0 2025-07-27 07:00:00   19.859943   \n",
      "3  Bitstamp:BTCUSD  sell  0.167959  118144.0 2025-07-30 07:00:00   19.843315   \n",
      "4  Bitstamp:BTCUSD   buy  0.167797  118290.0 2025-07-31 19:00:00   19.848677   \n",
      "5  Bitstamp:BTCUSD  sell  0.167797  116767.0 2025-07-31 23:00:00   19.593122   \n",
      "\n",
      "        Strategy  \n",
      "0  sma_crossover  \n",
      "1  sma_crossover  \n",
      "2  sma_crossover  \n",
      "3  sma_crossover  \n",
      "4  sma_crossover  \n",
      "5  sma_crossover  \n",
      "\n",
      "=== TRADE STATISTICS ===\n",
      "Total Trades: 6\n",
      "Buy Trades: 3\n",
      "Sell Trades: 3\n",
      "Average Trade Size: 0.17\n",
      "Total Commission: $118.48\n"
     ]
    }
   ],
   "source": [
    "# Cell 12: Hiển thị chi tiết trades\n",
    "if hasattr(engine, 'trades') and engine.trades:\n",
    "    print(f\"\\n=== CHI TIẾT TRADES ({len(engine.trades)} trades) ===\")\n",
    "    \n",
    "    trades_df = pd.DataFrame([\n",
    "        {\n",
    "            'Symbol': trade.symbol,\n",
    "            'Side': trade.side,\n",
    "            'Quantity': trade.quantity,\n",
    "            'Price': trade.price,\n",
    "            'Timestamp': trade.timestamp,\n",
    "            'Commission': trade.commission,\n",
    "            'Strategy': trade.strategy\n",
    "        }\n",
    "        for trade in engine.trades\n",
    "    ])\n",
    "    \n",
    "    print(trades_df.head(10))\n",
    "    \n",
    "    # Trade statistics\n",
    "    print(f\"\\n=== TRADE STATISTICS ===\")\n",
    "    print(f\"Total Trades: {len(engine.trades)}\")\n",
    "    print(f\"Buy Trades: {len(trades_df[trades_df['Side'] == 'buy'])}\")\n",
    "    print(f\"Sell Trades: {len(trades_df[trades_df['Side'] == 'sell'])}\")\n",
    "    print(f\"Average Trade Size: {trades_df['Quantity'].mean():.2f}\")\n",
    "    print(f\"Total Commission: ${trades_df['Commission'].sum():.2f}\")\n",
    "else:\n",
    "    print(\"Không có trades nào được thực hiện\")"
   ]
  },
  {
   "cell_type": "code",
   "execution_count": 13,
   "id": "75ceafd3",
   "metadata": {},
   "outputs": [
    {
     "data": {
      "application/vnd.plotly.v1+json": {
       "config": {
        "plotlyServerURL": "https://plot.ly"
       },
       "data": [
        {
         "close": {
          "bdata": "AAAAAOD7/EAAAAAAENr8QAAAAADA5vxAAAAAAMDR/EAAAAAAAAn9QAAAAADwDf1AAAAAALAe/UAAAAAAoF/9QAAAAACAKf1AAAAAAIAd/UAAAAAAUMv8QAAAAABQrPxAAAAAAGDQ/EAAAAAAwOj8QAAAAABA3/xAAAAAAJDn/EAAAAAAUNb8QAAAAACg0/xAAAAAAMDJ/EAAAAAAwNH8QAAAAACQ1PxAAAAAACDL/EAAAAAAcPz8QAAAAACA3vxAAAAAALCl/EAAAAAAUOv8QAAAAADAJf1AAAAAACDW/EAAAAAAEOf8QAAAAAAghPxAAAAAANCr/EAAAAAAIKD8QAAAAAAw0fxAAAAAAKAb/UAAAAAAMAv9QAAAAAAAI/1AAAAAALBM/UAAAAAAMPn8QAAAAADg6PxAAAAAAAD0/EAAAAAAgPf8QAAAAADw6PxAAAAAANAB/UAAAAAAYPL8QAAAAAAA7fxAAAAAAHD4/EAAAAAAEBf9QAAAAABAD/1AAAAAALDk/EAAAAAAgCz8QAAAAAAQKPxAAAAAACBy/EAAAAAAEEL8QAAAAAAQg/xAAAAAAFC5/EAAAAAA8LH8QAAAAACAp/xAAAAAAGDF/EAAAAAAcNn8QAAAAABA4PxAAAAAAKDM/EAAAAAAMN78QAAAAABA2fxAAAAAAIDX/EAAAAAAIPb8QAAAAAAADv1AAAAAANAq/UAAAAAAQCD9QAAAAABgB/1AAAAAAEAD/UAAAAAAcNn8QAAAAAAQ0/xAAAAAADDS/EAAAAAA8Pz8QAAAAAAgB/1AAAAAAFDz/EAAAAAAUKn8QAAAAACQrvxAAAAAAGDK/EAAAAAAANj8QAAAAAAQ1vxAAAAAAFCz/EAAAAAAAM78QAAAAABAjPxAAAAAAKDE/EAAAAAAcOr8QAAAAAAg+fxAAAAAALDk/EAAAAAAIOH8QAAAAADwgfxAAAAAAGBC/EAAAAAAsDv8QAAAAABwF/xAAAAAAHAj/EAAAAAAgCf8QAAAAADQpvtAAAAAALCl+0AAAAAAAMz7QAAAAADQ0ftAAAAAAJDR+0A=",
          "dtype": "f8"
         },
         "high": {
          "bdata": "AAAAAGBR/UAAAAAAoBr9QAAAAABgAv1AAAAAAMAc/UAAAAAAQBX9QAAAAAAgSP1AAAAAAICK/UAAAAAAIIH9QAAAAABAhP1AAAAAAIAw/UAAAAAA8DD9QAAAAACQ1vxAAAAAAGDU/EAAAAAAYOv8QAAAAACA6vxAAAAAAJDx/EAAAAAAwOf8QAAAAABQ3PxAAAAAAJDa/EAAAAAAMNz8QAAAAAAA3/xAAAAAAHDj/EAAAAAAkAL9QAAAAAAAB/1AAAAAAMDi/EAAAAAAsPj8QAAAAAAgOP1AAAAAANAu/UAAAAAAIB/9QAAAAACg6vxAAAAAAJC7/EAAAAAAUM38QAAAAAAQ9vxAAAAAAFAd/UAAAAAAoDT9QAAAAABwW/1AAAAAAJBe/UAAAAAAUFb9QAAAAADwD/1AAAAAAKD5/EAAAAAAEP78QAAAAABw9/xAAAAAAPAB/UAAAAAA4CD9QAAAAACA9/xAAAAAADAF/UAAAAAAUC79QAAAAADgKf1AAAAAAEAS/UAAAAAA0O78QAAAAAAgW/xAAAAAAACE/EAAAAAAQHr8QAAAAADglPxAAAAAAHC5/EAAAAAA4MD8QAAAAAAQtvxAAAAAAMDd/EAAAAAA4N/8QAAAAABA5PxAAAAAAIDi/EAAAAAA0Of8QAAAAADw7PxAAAAAAHDj/EAAAAAAwPb8QAAAAACwMf1AAAAAAGA//UAAAAAAIEH9QAAAAAAgOf1AAAAAABAV/UAAAAAAgBP9QAAAAACg5vxAAAAAAHDj/EAAAAAA4P/8QAAAAAAwHv1AAAAAAAAR/UAAAAAA0BD9QAAAAACg0PxAAAAAAGDM/EAAAAAAEN78QAAAAADw5vxAAAAAAGDr/EAAAAAAcP/8QAAAAAAg0fxAAAAAAMDI/EAAAAAAYPP8QAAAAACAB/1AAAAAAOD9/EAAAAAA4Pf8QAAAAAAwBf1AAAAAAHCO/EAAAAAAYFX8QAAAAACgSvxAAAAAAIAn/EAAAAAA8FD8QAAAAAAwPfxAAAAAAEDW+0AAAAAAAMz7QAAAAACA1ftAAAAAAPDS+0A=",
          "dtype": "f8"
         },
         "low": {
          "bdata": "AAAAADDt/EAAAAAAIL/8QAAAAACAyfxAAAAAANDQ/EAAAAAAILD8QAAAAACA6vxAAAAAABDu/EAAAAAAQBb9QAAAAACQJv1AAAAAALDs/EAAAAAAEKn8QAAAAACgnvxAAAAAADCL/EAAAAAA4Lz8QAAAAADQ2PxAAAAAALDR/EAAAAAAcL38QAAAAADwuPxAAAAAAICm/EAAAAAAYL78QAAAAABQxfxAAAAAAPDH/EAAAAAAwMH8QAAAAADQ0PxAAAAAAHB0/EAAAAAAIHf8QAAAAAAQ3fxAAAAAACDW/EAAAAAAcMT8QAAAAADwfvxAAAAAAGB+/EAAAAAAoF38QAAAAACgePxAAAAAAMCy/EAAAAAAoLf8QAAAAAAw7fxAAAAAAEAd/UAAAAAAIPX8QAAAAACA5fxAAAAAAMDI/EAAAAAAAKj8QAAAAACQqfxAAAAAAKCs/EAAAAAAsPH8QAAAAAAQnfxAAAAAALDR/EAAAAAAwMn8QAAAAACA6vxAAAAAABDe/EAAAAAAkCr8QAAAAABg9ftAAAAAAFAR/EAAAAAAoA78QAAAAABwMfxAAAAAAKB4/EAAAAAAwJz8QAAAAABwp/xAAAAAAPCn/EAAAAAAcMT8QAAAAAAQz/xAAAAAAIDL/EAAAAAAAMj8QAAAAADg1/xAAAAAAMDJ/EAAAAAAYMz8QAAAAAAg9vxAAAAAAPD//EAAAAAAIA79QAAAAADw//xAAAAAACDu/EAAAAAAwMj8QAAAAACAqfxAAAAAAPCv/EAAAAAAgK38QAAAAACg6fxAAAAAAKDa/EAAAAAAYJ/8QAAAAAAAjPxAAAAAALCT/EAAAAAA0Kr8QAAAAACQu/xAAAAAADCo/EAAAAAAUKf8QAAAAACARPxAAAAAAMCI/EAAAAAAEMH8QAAAAADA4PxAAAAAAODg/EAAAAAAMMP8QAAAAAAwgPxAAAAAAIAz/EAAAAAAIOn7QAAAAADQ+/tAAAAAAEDc+0AAAAAAwM77QAAAAABwoftAAAAAAICC+0AAAAAA4J/7QAAAAABwsvtAAAAAAFDQ+0A=",
          "dtype": "f8"
         },
         "open": {
          "bdata": "AAAAAPAf/UAAAAAAQPr8QAAAAAAQ2vxAAAAAAMDm/EAAAAAAwNH8QAAAAADwCP1AAAAAAAAQ/UAAAAAAsB79QAAAAACgX/1AAAAAAHAp/UAAAAAAcB39QAAAAADQyfxAAAAAAHCs/EAAAAAAcND8QAAAAADA6PxAAAAAADDf/EAAAAAAkOf8QAAAAABQ1vxAAAAAAJDT/EAAAAAA0Mn8QAAAAADA0fxAAAAAAJDU/EAAAAAA8Mr8QAAAAACg/fxAAAAAAKDc/EAAAAAAQJ78QAAAAAAg6/xAAAAAAMAl/UAAAAAAMNb8QAAAAAAQ5/xAAAAAADCE/EAAAAAA0Kv8QAAAAAAgoPxAAAAAAODP/EAAAAAAkBv9QAAAAABgC/1AAAAAAJAj/UAAAAAAsEz9QAAAAABA+fxAAAAAAODn/EAAAAAAAPT8QAAAAABw9/xAAAAAAKDr/EAAAAAAsAD9QAAAAADg8/xAAAAAAGDs/EAAAAAAoPb8QAAAAAAQF/1AAAAAABAP/UAAAAAAAOj8QAAAAACALPxAAAAAAPAn/EAAAAAAQHL8QAAAAAAAQvxAAAAAABCD/EAAAAAAQLn8QAAAAADgsfxAAAAAAPCn/EAAAAAAYMX8QAAAAABw2fxAAAAAAEDg/EAAAAAA8M38QAAAAACQ3vxAAAAAAEDZ/EAAAAAAcNf8QAAAAAAg9vxAAAAAACAN/UAAAAAAoC39QAAAAACQIP1AAAAAAFAH/UAAAAAAQAP9QAAAAAAw2fxAAAAAABDT/EAAAAAAQNP8QAAAAACA/fxAAAAAAMAG/UAAAAAAYPP8QAAAAABAqfxAAAAAAOCu/EAAAAAAYMr8QAAAAAAg2fxAAAAAABDW/EAAAAAAgLP8QAAAAAAAzvxAAAAAAHCJ/EAAAAAAkMT8QAAAAABw6/xAAAAAADD5/EAAAAAAoOT8QAAAAAAg4fxAAAAAAICB/EAAAAAAUEL8QAAAAABgO/xAAAAAAPAW/EAAAAAAwCP8QAAAAACAJ/xAAAAAAMCm+0AAAAAAsKX7QAAAAAAAzPtAAAAAAODR+0A=",
          "dtype": "f8"
         },
         "type": "candlestick",
         "x": [
          "2025-07-17T03:00:00.000000000",
          "2025-07-17T07:00:00.000000000",
          "2025-07-17T11:00:00.000000000",
          "2025-07-17T15:00:00.000000000",
          "2025-07-17T19:00:00.000000000",
          "2025-07-17T23:00:00.000000000",
          "2025-07-18T03:00:00.000000000",
          "2025-07-18T07:00:00.000000000",
          "2025-07-18T11:00:00.000000000",
          "2025-07-18T15:00:00.000000000",
          "2025-07-18T19:00:00.000000000",
          "2025-07-18T23:00:00.000000000",
          "2025-07-19T03:00:00.000000000",
          "2025-07-19T07:00:00.000000000",
          "2025-07-19T11:00:00.000000000",
          "2025-07-19T15:00:00.000000000",
          "2025-07-19T19:00:00.000000000",
          "2025-07-19T23:00:00.000000000",
          "2025-07-20T03:00:00.000000000",
          "2025-07-20T07:00:00.000000000",
          "2025-07-20T11:00:00.000000000",
          "2025-07-20T15:00:00.000000000",
          "2025-07-20T19:00:00.000000000",
          "2025-07-20T23:00:00.000000000",
          "2025-07-21T03:00:00.000000000",
          "2025-07-21T07:00:00.000000000",
          "2025-07-21T11:00:00.000000000",
          "2025-07-21T15:00:00.000000000",
          "2025-07-21T19:00:00.000000000",
          "2025-07-21T23:00:00.000000000",
          "2025-07-22T03:00:00.000000000",
          "2025-07-22T07:00:00.000000000",
          "2025-07-22T11:00:00.000000000",
          "2025-07-22T15:00:00.000000000",
          "2025-07-22T19:00:00.000000000",
          "2025-07-22T23:00:00.000000000",
          "2025-07-23T03:00:00.000000000",
          "2025-07-23T07:00:00.000000000",
          "2025-07-23T11:00:00.000000000",
          "2025-07-23T15:00:00.000000000",
          "2025-07-23T19:00:00.000000000",
          "2025-07-23T23:00:00.000000000",
          "2025-07-24T03:00:00.000000000",
          "2025-07-24T07:00:00.000000000",
          "2025-07-24T11:00:00.000000000",
          "2025-07-24T15:00:00.000000000",
          "2025-07-24T19:00:00.000000000",
          "2025-07-24T23:00:00.000000000",
          "2025-07-25T03:00:00.000000000",
          "2025-07-25T07:00:00.000000000",
          "2025-07-25T11:00:00.000000000",
          "2025-07-25T15:00:00.000000000",
          "2025-07-25T19:00:00.000000000",
          "2025-07-25T23:00:00.000000000",
          "2025-07-26T03:00:00.000000000",
          "2025-07-26T07:00:00.000000000",
          "2025-07-26T11:00:00.000000000",
          "2025-07-26T15:00:00.000000000",
          "2025-07-26T19:00:00.000000000",
          "2025-07-26T23:00:00.000000000",
          "2025-07-27T03:00:00.000000000",
          "2025-07-27T07:00:00.000000000",
          "2025-07-27T11:00:00.000000000",
          "2025-07-27T15:00:00.000000000",
          "2025-07-27T19:00:00.000000000",
          "2025-07-27T23:00:00.000000000",
          "2025-07-28T03:00:00.000000000",
          "2025-07-28T07:00:00.000000000",
          "2025-07-28T11:00:00.000000000",
          "2025-07-28T15:00:00.000000000",
          "2025-07-28T19:00:00.000000000",
          "2025-07-28T23:00:00.000000000",
          "2025-07-29T03:00:00.000000000",
          "2025-07-29T07:00:00.000000000",
          "2025-07-29T11:00:00.000000000",
          "2025-07-29T15:00:00.000000000",
          "2025-07-29T19:00:00.000000000",
          "2025-07-29T23:00:00.000000000",
          "2025-07-30T03:00:00.000000000",
          "2025-07-30T07:00:00.000000000",
          "2025-07-30T11:00:00.000000000",
          "2025-07-30T15:00:00.000000000",
          "2025-07-30T19:00:00.000000000",
          "2025-07-30T23:00:00.000000000",
          "2025-07-31T03:00:00.000000000",
          "2025-07-31T07:00:00.000000000",
          "2025-07-31T11:00:00.000000000",
          "2025-07-31T15:00:00.000000000",
          "2025-07-31T19:00:00.000000000",
          "2025-07-31T23:00:00.000000000",
          "2025-08-01T03:00:00.000000000",
          "2025-08-01T07:00:00.000000000",
          "2025-08-01T11:00:00.000000000",
          "2025-08-01T15:00:00.000000000",
          "2025-08-01T19:00:00.000000000",
          "2025-08-01T23:00:00.000000000",
          "2025-08-02T03:00:00.000000000",
          "2025-08-02T07:00:00.000000000",
          "2025-08-02T11:00:00.000000000",
          "2025-08-02T15:00:00.000000000"
         ],
         "xaxis": "x",
         "yaxis": "y"
        },
        {
         "marker": {
          "color": "green",
          "size": 12,
          "symbol": "triangle-up"
         },
         "mode": "markers+text",
         "name": "Buy",
         "text": [
          "Buy",
          "Buy",
          "Buy"
         ],
         "textposition": "bottom center",
         "type": "scatter",
         "x": [
          "2025-07-22T23:00:00.000000000",
          "2025-07-27T07:00:00.000000000",
          "2025-07-31T19:00:00.000000000"
         ],
         "xaxis": "x",
         "y": {
          "bdata": "gZVDi2De/EAlBoGVQ7n8QF66SQx2tPxA",
          "dtype": "f8"
         },
         "yaxis": "y"
        },
        {
         "marker": {
          "color": "red",
          "size": 12,
          "symbol": "triangle-down"
         },
         "mode": "markers+text",
         "name": "Sell",
         "text": [
          "Sell",
          "Sell",
          "Sell"
         ],
         "textposition": "top center",
         "type": "scatter",
         "x": [
          "2025-07-25T07:00:00.000000000",
          "2025-07-30T07:00:00.000000000",
          "2025-07-31T23:00:00.000000000"
         ],
         "xaxis": "x",
         "y": {
          "bdata": "NV66SaD9/EDLoUW21+z8QLTIdr4LFP1A",
          "dtype": "f8"
         },
         "yaxis": "y"
        },
        {
         "type": "bar",
         "x": [
          "2025-07-17T03:00:00.000000000",
          "2025-07-17T07:00:00.000000000",
          "2025-07-17T11:00:00.000000000",
          "2025-07-17T15:00:00.000000000",
          "2025-07-17T19:00:00.000000000",
          "2025-07-17T23:00:00.000000000",
          "2025-07-18T03:00:00.000000000",
          "2025-07-18T07:00:00.000000000",
          "2025-07-18T11:00:00.000000000",
          "2025-07-18T15:00:00.000000000",
          "2025-07-18T19:00:00.000000000",
          "2025-07-18T23:00:00.000000000",
          "2025-07-19T03:00:00.000000000",
          "2025-07-19T07:00:00.000000000",
          "2025-07-19T11:00:00.000000000",
          "2025-07-19T15:00:00.000000000",
          "2025-07-19T19:00:00.000000000",
          "2025-07-19T23:00:00.000000000",
          "2025-07-20T03:00:00.000000000",
          "2025-07-20T07:00:00.000000000",
          "2025-07-20T11:00:00.000000000",
          "2025-07-20T15:00:00.000000000",
          "2025-07-20T19:00:00.000000000",
          "2025-07-20T23:00:00.000000000",
          "2025-07-21T03:00:00.000000000",
          "2025-07-21T07:00:00.000000000",
          "2025-07-21T11:00:00.000000000",
          "2025-07-21T15:00:00.000000000",
          "2025-07-21T19:00:00.000000000",
          "2025-07-21T23:00:00.000000000",
          "2025-07-22T03:00:00.000000000",
          "2025-07-22T07:00:00.000000000",
          "2025-07-22T11:00:00.000000000",
          "2025-07-22T15:00:00.000000000",
          "2025-07-22T19:00:00.000000000",
          "2025-07-22T23:00:00.000000000",
          "2025-07-23T03:00:00.000000000",
          "2025-07-23T07:00:00.000000000",
          "2025-07-23T11:00:00.000000000",
          "2025-07-23T15:00:00.000000000",
          "2025-07-23T19:00:00.000000000",
          "2025-07-23T23:00:00.000000000",
          "2025-07-24T03:00:00.000000000",
          "2025-07-24T07:00:00.000000000",
          "2025-07-24T11:00:00.000000000",
          "2025-07-24T15:00:00.000000000",
          "2025-07-24T19:00:00.000000000",
          "2025-07-24T23:00:00.000000000",
          "2025-07-25T03:00:00.000000000",
          "2025-07-25T07:00:00.000000000",
          "2025-07-25T11:00:00.000000000",
          "2025-07-25T15:00:00.000000000",
          "2025-07-25T19:00:00.000000000",
          "2025-07-25T23:00:00.000000000",
          "2025-07-26T03:00:00.000000000",
          "2025-07-26T07:00:00.000000000",
          "2025-07-26T11:00:00.000000000",
          "2025-07-26T15:00:00.000000000",
          "2025-07-26T19:00:00.000000000",
          "2025-07-26T23:00:00.000000000",
          "2025-07-27T03:00:00.000000000",
          "2025-07-27T07:00:00.000000000",
          "2025-07-27T11:00:00.000000000",
          "2025-07-27T15:00:00.000000000",
          "2025-07-27T19:00:00.000000000",
          "2025-07-27T23:00:00.000000000",
          "2025-07-28T03:00:00.000000000",
          "2025-07-28T07:00:00.000000000",
          "2025-07-28T11:00:00.000000000",
          "2025-07-28T15:00:00.000000000",
          "2025-07-28T19:00:00.000000000",
          "2025-07-28T23:00:00.000000000",
          "2025-07-29T03:00:00.000000000",
          "2025-07-29T07:00:00.000000000",
          "2025-07-29T11:00:00.000000000",
          "2025-07-29T15:00:00.000000000",
          "2025-07-29T19:00:00.000000000",
          "2025-07-29T23:00:00.000000000",
          "2025-07-30T03:00:00.000000000",
          "2025-07-30T07:00:00.000000000",
          "2025-07-30T11:00:00.000000000",
          "2025-07-30T15:00:00.000000000",
          "2025-07-30T19:00:00.000000000",
          "2025-07-30T23:00:00.000000000",
          "2025-07-31T03:00:00.000000000",
          "2025-07-31T07:00:00.000000000",
          "2025-07-31T11:00:00.000000000",
          "2025-07-31T15:00:00.000000000",
          "2025-07-31T19:00:00.000000000",
          "2025-07-31T23:00:00.000000000",
          "2025-08-01T03:00:00.000000000",
          "2025-08-01T07:00:00.000000000",
          "2025-08-01T11:00:00.000000000",
          "2025-08-01T15:00:00.000000000",
          "2025-08-01T19:00:00.000000000",
          "2025-08-01T23:00:00.000000000",
          "2025-08-02T03:00:00.000000000",
          "2025-08-02T07:00:00.000000000",
          "2025-08-02T11:00:00.000000000",
          "2025-08-02T15:00:00.000000000"
         ],
         "xaxis": "x2",
         "y": {
          "bdata": "Qj2eEkeYbUDWBReGg15lQJQ/jM4BOV9AI0kQrgBGaUBmjrzeE1l1QKsHDmA4sHxAFmv65F/DdECcNoAKKbRrQOD0DdCmX2ZATYrqCPtqbUDCXvYlesaAQH6eDn0KHHxA0xa26kNRaUAubf6AgxZUQH4PZiz95EhAg/zoq5akUEABNnv7DmdXQBwd/GlIUV5AhzZ84ivqVUDW3SM4wSlXQFo7m5+sj0dA741jHAo5U0DvNhTjIYJaQKQq2AyRi1ZAdx4Nji9KaUCtEJh/uydlQEIXgW8iI2JAqY0kIKr+YkCdeJRr1kt3QN2BU4ISV3dADUSBBGaBXkD9nwWZ681vQOpjV72QAGtA+mLvxTcrZkBhulo4WklvQGF39J6uO29AVWc5+SLEYkAWcEu7gyNZQARU3chhgFNANA3tEH2HVkDVFugkRRBwQOFnluP55HJAUsEbsToHY0BwKYRhghpgQCArMhkyW2VAhSmpl0hBW0C0+13xF3ZvQKBHtR1t1mtADxZnb52KaEAvjfxN8jeVQAQRFAWbnZhAmxmirzlMlUBfjR6FJIWEQGWngv6QSH1A/VNHGh4KbkBfffrXC05kQL3opw+PIEpAjWDC7M7wYEAFdeNAfNJdQBps6jwqfUxAhfYkj6v8VkBLp1x+s6NUQNY8BcjpxEVAFj98T5vXUUA4L2+K3rNYQEI+KvY+KmZA6GV39ah+WkAr8UYHANJiQLKHk4cHzV5AOtyatjewUEDnnyrwLxB1QLjYH+6LR21AXtaj9LXSYkD3cI/GvWlgQHPMJn4U3lJA4HPUj1WKVkAh110L8CpxQNoyx48kynRAOQ68Wh4RcEBuAZmE6AxbQA+no07GGlRAlH+x5wAHX0BVw7j65QtwQOHZ9T2wgXhAomIYh6WDVECEKW/snvFgQICp0XEWCVRAJlMmsXsXUkCo/qRObjdzQNf/tZPzN25A1Ps6LhIuZ0BabRf9Ffd1QEW/dGKo5GJAzb1VEc32cUApP+sStA2FQLGd1gpG+oBASJxf3m0sdECLo/ZL+X1gQN+f92sXCGFAm1+kglDf/z8=",
          "dtype": "f8"
         },
         "yaxis": "y2"
        }
       ],
       "layout": {
        "height": 800,
        "template": {
         "data": {
          "bar": [
           {
            "error_x": {
             "color": "#2a3f5f"
            },
            "error_y": {
             "color": "#2a3f5f"
            },
            "marker": {
             "line": {
              "color": "#E5ECF6",
              "width": 0.5
             },
             "pattern": {
              "fillmode": "overlay",
              "size": 10,
              "solidity": 0.2
             }
            },
            "type": "bar"
           }
          ],
          "barpolar": [
           {
            "marker": {
             "line": {
              "color": "#E5ECF6",
              "width": 0.5
             },
             "pattern": {
              "fillmode": "overlay",
              "size": 10,
              "solidity": 0.2
             }
            },
            "type": "barpolar"
           }
          ],
          "carpet": [
           {
            "aaxis": {
             "endlinecolor": "#2a3f5f",
             "gridcolor": "white",
             "linecolor": "white",
             "minorgridcolor": "white",
             "startlinecolor": "#2a3f5f"
            },
            "baxis": {
             "endlinecolor": "#2a3f5f",
             "gridcolor": "white",
             "linecolor": "white",
             "minorgridcolor": "white",
             "startlinecolor": "#2a3f5f"
            },
            "type": "carpet"
           }
          ],
          "choropleth": [
           {
            "colorbar": {
             "outlinewidth": 0,
             "ticks": ""
            },
            "type": "choropleth"
           }
          ],
          "contour": [
           {
            "colorbar": {
             "outlinewidth": 0,
             "ticks": ""
            },
            "colorscale": [
             [
              0,
              "#0d0887"
             ],
             [
              0.1111111111111111,
              "#46039f"
             ],
             [
              0.2222222222222222,
              "#7201a8"
             ],
             [
              0.3333333333333333,
              "#9c179e"
             ],
             [
              0.4444444444444444,
              "#bd3786"
             ],
             [
              0.5555555555555556,
              "#d8576b"
             ],
             [
              0.6666666666666666,
              "#ed7953"
             ],
             [
              0.7777777777777778,
              "#fb9f3a"
             ],
             [
              0.8888888888888888,
              "#fdca26"
             ],
             [
              1,
              "#f0f921"
             ]
            ],
            "type": "contour"
           }
          ],
          "contourcarpet": [
           {
            "colorbar": {
             "outlinewidth": 0,
             "ticks": ""
            },
            "type": "contourcarpet"
           }
          ],
          "heatmap": [
           {
            "colorbar": {
             "outlinewidth": 0,
             "ticks": ""
            },
            "colorscale": [
             [
              0,
              "#0d0887"
             ],
             [
              0.1111111111111111,
              "#46039f"
             ],
             [
              0.2222222222222222,
              "#7201a8"
             ],
             [
              0.3333333333333333,
              "#9c179e"
             ],
             [
              0.4444444444444444,
              "#bd3786"
             ],
             [
              0.5555555555555556,
              "#d8576b"
             ],
             [
              0.6666666666666666,
              "#ed7953"
             ],
             [
              0.7777777777777778,
              "#fb9f3a"
             ],
             [
              0.8888888888888888,
              "#fdca26"
             ],
             [
              1,
              "#f0f921"
             ]
            ],
            "type": "heatmap"
           }
          ],
          "histogram": [
           {
            "marker": {
             "pattern": {
              "fillmode": "overlay",
              "size": 10,
              "solidity": 0.2
             }
            },
            "type": "histogram"
           }
          ],
          "histogram2d": [
           {
            "colorbar": {
             "outlinewidth": 0,
             "ticks": ""
            },
            "colorscale": [
             [
              0,
              "#0d0887"
             ],
             [
              0.1111111111111111,
              "#46039f"
             ],
             [
              0.2222222222222222,
              "#7201a8"
             ],
             [
              0.3333333333333333,
              "#9c179e"
             ],
             [
              0.4444444444444444,
              "#bd3786"
             ],
             [
              0.5555555555555556,
              "#d8576b"
             ],
             [
              0.6666666666666666,
              "#ed7953"
             ],
             [
              0.7777777777777778,
              "#fb9f3a"
             ],
             [
              0.8888888888888888,
              "#fdca26"
             ],
             [
              1,
              "#f0f921"
             ]
            ],
            "type": "histogram2d"
           }
          ],
          "histogram2dcontour": [
           {
            "colorbar": {
             "outlinewidth": 0,
             "ticks": ""
            },
            "colorscale": [
             [
              0,
              "#0d0887"
             ],
             [
              0.1111111111111111,
              "#46039f"
             ],
             [
              0.2222222222222222,
              "#7201a8"
             ],
             [
              0.3333333333333333,
              "#9c179e"
             ],
             [
              0.4444444444444444,
              "#bd3786"
             ],
             [
              0.5555555555555556,
              "#d8576b"
             ],
             [
              0.6666666666666666,
              "#ed7953"
             ],
             [
              0.7777777777777778,
              "#fb9f3a"
             ],
             [
              0.8888888888888888,
              "#fdca26"
             ],
             [
              1,
              "#f0f921"
             ]
            ],
            "type": "histogram2dcontour"
           }
          ],
          "mesh3d": [
           {
            "colorbar": {
             "outlinewidth": 0,
             "ticks": ""
            },
            "type": "mesh3d"
           }
          ],
          "parcoords": [
           {
            "line": {
             "colorbar": {
              "outlinewidth": 0,
              "ticks": ""
             }
            },
            "type": "parcoords"
           }
          ],
          "pie": [
           {
            "automargin": true,
            "type": "pie"
           }
          ],
          "scatter": [
           {
            "fillpattern": {
             "fillmode": "overlay",
             "size": 10,
             "solidity": 0.2
            },
            "type": "scatter"
           }
          ],
          "scatter3d": [
           {
            "line": {
             "colorbar": {
              "outlinewidth": 0,
              "ticks": ""
             }
            },
            "marker": {
             "colorbar": {
              "outlinewidth": 0,
              "ticks": ""
             }
            },
            "type": "scatter3d"
           }
          ],
          "scattercarpet": [
           {
            "marker": {
             "colorbar": {
              "outlinewidth": 0,
              "ticks": ""
             }
            },
            "type": "scattercarpet"
           }
          ],
          "scattergeo": [
           {
            "marker": {
             "colorbar": {
              "outlinewidth": 0,
              "ticks": ""
             }
            },
            "type": "scattergeo"
           }
          ],
          "scattergl": [
           {
            "marker": {
             "colorbar": {
              "outlinewidth": 0,
              "ticks": ""
             }
            },
            "type": "scattergl"
           }
          ],
          "scattermap": [
           {
            "marker": {
             "colorbar": {
              "outlinewidth": 0,
              "ticks": ""
             }
            },
            "type": "scattermap"
           }
          ],
          "scattermapbox": [
           {
            "marker": {
             "colorbar": {
              "outlinewidth": 0,
              "ticks": ""
             }
            },
            "type": "scattermapbox"
           }
          ],
          "scatterpolar": [
           {
            "marker": {
             "colorbar": {
              "outlinewidth": 0,
              "ticks": ""
             }
            },
            "type": "scatterpolar"
           }
          ],
          "scatterpolargl": [
           {
            "marker": {
             "colorbar": {
              "outlinewidth": 0,
              "ticks": ""
             }
            },
            "type": "scatterpolargl"
           }
          ],
          "scatterternary": [
           {
            "marker": {
             "colorbar": {
              "outlinewidth": 0,
              "ticks": ""
             }
            },
            "type": "scatterternary"
           }
          ],
          "surface": [
           {
            "colorbar": {
             "outlinewidth": 0,
             "ticks": ""
            },
            "colorscale": [
             [
              0,
              "#0d0887"
             ],
             [
              0.1111111111111111,
              "#46039f"
             ],
             [
              0.2222222222222222,
              "#7201a8"
             ],
             [
              0.3333333333333333,
              "#9c179e"
             ],
             [
              0.4444444444444444,
              "#bd3786"
             ],
             [
              0.5555555555555556,
              "#d8576b"
             ],
             [
              0.6666666666666666,
              "#ed7953"
             ],
             [
              0.7777777777777778,
              "#fb9f3a"
             ],
             [
              0.8888888888888888,
              "#fdca26"
             ],
             [
              1,
              "#f0f921"
             ]
            ],
            "type": "surface"
           }
          ],
          "table": [
           {
            "cells": {
             "fill": {
              "color": "#EBF0F8"
             },
             "line": {
              "color": "white"
             }
            },
            "header": {
             "fill": {
              "color": "#C8D4E3"
             },
             "line": {
              "color": "white"
             }
            },
            "type": "table"
           }
          ]
         },
         "layout": {
          "annotationdefaults": {
           "arrowcolor": "#2a3f5f",
           "arrowhead": 0,
           "arrowwidth": 1
          },
          "autotypenumbers": "strict",
          "coloraxis": {
           "colorbar": {
            "outlinewidth": 0,
            "ticks": ""
           }
          },
          "colorscale": {
           "diverging": [
            [
             0,
             "#8e0152"
            ],
            [
             0.1,
             "#c51b7d"
            ],
            [
             0.2,
             "#de77ae"
            ],
            [
             0.3,
             "#f1b6da"
            ],
            [
             0.4,
             "#fde0ef"
            ],
            [
             0.5,
             "#f7f7f7"
            ],
            [
             0.6,
             "#e6f5d0"
            ],
            [
             0.7,
             "#b8e186"
            ],
            [
             0.8,
             "#7fbc41"
            ],
            [
             0.9,
             "#4d9221"
            ],
            [
             1,
             "#276419"
            ]
           ],
           "sequential": [
            [
             0,
             "#0d0887"
            ],
            [
             0.1111111111111111,
             "#46039f"
            ],
            [
             0.2222222222222222,
             "#7201a8"
            ],
            [
             0.3333333333333333,
             "#9c179e"
            ],
            [
             0.4444444444444444,
             "#bd3786"
            ],
            [
             0.5555555555555556,
             "#d8576b"
            ],
            [
             0.6666666666666666,
             "#ed7953"
            ],
            [
             0.7777777777777778,
             "#fb9f3a"
            ],
            [
             0.8888888888888888,
             "#fdca26"
            ],
            [
             1,
             "#f0f921"
            ]
           ],
           "sequentialminus": [
            [
             0,
             "#0d0887"
            ],
            [
             0.1111111111111111,
             "#46039f"
            ],
            [
             0.2222222222222222,
             "#7201a8"
            ],
            [
             0.3333333333333333,
             "#9c179e"
            ],
            [
             0.4444444444444444,
             "#bd3786"
            ],
            [
             0.5555555555555556,
             "#d8576b"
            ],
            [
             0.6666666666666666,
             "#ed7953"
            ],
            [
             0.7777777777777778,
             "#fb9f3a"
            ],
            [
             0.8888888888888888,
             "#fdca26"
            ],
            [
             1,
             "#f0f921"
            ]
           ]
          },
          "colorway": [
           "#636efa",
           "#EF553B",
           "#00cc96",
           "#ab63fa",
           "#FFA15A",
           "#19d3f3",
           "#FF6692",
           "#B6E880",
           "#FF97FF",
           "#FECB52"
          ],
          "font": {
           "color": "#2a3f5f"
          },
          "geo": {
           "bgcolor": "white",
           "lakecolor": "white",
           "landcolor": "#E5ECF6",
           "showlakes": true,
           "showland": true,
           "subunitcolor": "white"
          },
          "hoverlabel": {
           "align": "left"
          },
          "hovermode": "closest",
          "mapbox": {
           "style": "light"
          },
          "paper_bgcolor": "white",
          "plot_bgcolor": "#E5ECF6",
          "polar": {
           "angularaxis": {
            "gridcolor": "white",
            "linecolor": "white",
            "ticks": ""
           },
           "bgcolor": "#E5ECF6",
           "radialaxis": {
            "gridcolor": "white",
            "linecolor": "white",
            "ticks": ""
           }
          },
          "scene": {
           "xaxis": {
            "backgroundcolor": "#E5ECF6",
            "gridcolor": "white",
            "gridwidth": 2,
            "linecolor": "white",
            "showbackground": true,
            "ticks": "",
            "zerolinecolor": "white"
           },
           "yaxis": {
            "backgroundcolor": "#E5ECF6",
            "gridcolor": "white",
            "gridwidth": 2,
            "linecolor": "white",
            "showbackground": true,
            "ticks": "",
            "zerolinecolor": "white"
           },
           "zaxis": {
            "backgroundcolor": "#E5ECF6",
            "gridcolor": "white",
            "gridwidth": 2,
            "linecolor": "white",
            "showbackground": true,
            "ticks": "",
            "zerolinecolor": "white"
           }
          },
          "shapedefaults": {
           "line": {
            "color": "#2a3f5f"
           }
          },
          "ternary": {
           "aaxis": {
            "gridcolor": "white",
            "linecolor": "white",
            "ticks": ""
           },
           "baxis": {
            "gridcolor": "white",
            "linecolor": "white",
            "ticks": ""
           },
           "bgcolor": "#E5ECF6",
           "caxis": {
            "gridcolor": "white",
            "linecolor": "white",
            "ticks": ""
           }
          },
          "title": {
           "x": 0.05
          },
          "xaxis": {
           "automargin": true,
           "gridcolor": "white",
           "linecolor": "white",
           "ticks": "",
           "title": {
            "standoff": 15
           },
           "zerolinecolor": "white",
           "zerolinewidth": 2
          },
          "yaxis": {
           "automargin": true,
           "gridcolor": "white",
           "linecolor": "white",
           "ticks": "",
           "title": {
            "standoff": 15
           },
           "zerolinecolor": "white",
           "zerolinewidth": 2
          }
         }
        },
        "title": {
         "text": "Bitstamp:BTCUSD"
        },
        "width": 1000,
        "xaxis": {
         "anchor": "y",
         "domain": [
          0,
          1
         ],
         "matches": "x2",
         "showticklabels": false,
         "title": {
          "text": "Date"
         }
        },
        "xaxis2": {
         "anchor": "y2",
         "domain": [
          0,
          1
         ]
        },
        "yaxis": {
         "anchor": "x",
         "domain": [
          0.24,
          1
         ],
         "range": [
          110426.4,
          123420
         ],
         "title": {
          "text": "Price"
         }
        },
        "yaxis2": {
         "anchor": "x2",
         "domain": [
          0,
          0.19
         ]
        }
       }
      }
     },
     "metadata": {},
     "output_type": "display_data"
    }
   ],
   "source": [
    "# Cell 13: Visualize trades\n",
    "def viz(symbol, trades_df, historical_data):\n",
    "    # Visualize\n",
    "    fig = make_subplots(rows=2, cols=1, shared_xaxes=True, vertical_spacing=0.05, row_heights=[0.8, 0.2])\n",
    "    fig.add_trace(go.Candlestick(x=historical_data[symbol].index,\n",
    "                    open=historical_data[symbol].open,\n",
    "                    high=historical_data[symbol].high,\n",
    "                    low=historical_data[symbol].low,\n",
    "                    close=historical_data[symbol].close,\n",
    "                    ), row=1, col=1)\n",
    "    set_ylim = (historical_data[symbol].low.min() * 0.98, historical_data[symbol].high.max() * 1.02)\n",
    "    # Add buy/sell markers from trades_df to the candlestick chart (row 1)\n",
    "    if 'trades_df' in locals():\n",
    "        buy_trades = trades_df[trades_df['Side'] == 'buy']\n",
    "        sell_trades = trades_df[trades_df['Side'] == 'sell']\n",
    "        # Buy markers\n",
    "        fig.add_trace(\n",
    "            go.Scatter(\n",
    "                x=buy_trades['Timestamp'],\n",
    "                y=historical_data[symbol][historical_data.index.isin(buy_trades['Timestamp'])].low * 0.998,\n",
    "                mode='markers+text',\n",
    "                marker=dict(symbol='triangle-up', color='green', size=12),\n",
    "                text=['Buy']*len(buy_trades),\n",
    "                textposition='bottom center',\n",
    "                name='Buy'\n",
    "            ),\n",
    "            row=1, col=1\n",
    "        )\n",
    "        # Sell markers\n",
    "        fig.add_trace(\n",
    "            go.Scatter(\n",
    "                x=sell_trades['Timestamp'],\n",
    "                y=historical_data[symbol][historical_data.index.isin(sell_trades['Timestamp'])].high * 1.002,\n",
    "                mode='markers+text',\n",
    "                marker=dict(symbol='triangle-down', color='red', size=12),\n",
    "                text=['Sell']*len(sell_trades),\n",
    "                textposition='top center',\n",
    "                name='Sell'\n",
    "            ),\n",
    "            row=1, col=1\n",
    "        )\n",
    "\n",
    "    fig.add_trace(go.Bar(x=historical_data[symbol].index,\n",
    "                        y=historical_data[symbol].volume,\n",
    "                        ), row=2, col=1)\n",
    "\n",
    "    fig.update_layout(title=f'{symbol}',\n",
    "                    yaxis_range=(set_ylim[0], set_ylim[1]),\n",
    "                    xaxis_title='Date',\n",
    "                    yaxis_title='Price', \n",
    "                    height=800, width=1000)\n",
    "    fig.show()\n",
    "\n",
    "viz(symbols[0], trades_df, historical_data)"
   ]
  },
  {
   "cell_type": "code",
   "execution_count": 14,
   "id": "6eaa7495",
   "metadata": {},
   "outputs": [
    {
     "name": "stderr",
     "output_type": "stream",
     "text": [
      "\u001b[32m2025-08-02 15:17:55.637\u001b[0m | \u001b[1mINFO    \u001b[0m | \u001b[36msrc.optimization.optimizer\u001b[0m:\u001b[36msave_optimization_results\u001b[0m:\u001b[36m325\u001b[0m - \u001b[1mOptimization results saved to ../../data/optimization_results/optimization_results_20250802_151755.json\u001b[0m\n"
     ]
    },
    {
     "name": "stdout",
     "output_type": "stream",
     "text": [
      "\n",
      "=== LƯU KẾT QUẢ OPTIMIZATION ===\n",
      "✅ Đã lưu optimization results: ../../data/optimization_results/optimization_results_20250802_151755.json\n",
      "✅ Đã lưu backtest results: ../../data/optimization_results/backtest_results_20250802_151755.csv\n"
     ]
    }
   ],
   "source": [
    "# Cell 14: Lưu kết quả optimization\n",
    "print(\"\\n=== LƯU KẾT QUẢ OPTIMIZATION ===\")\n",
    "\n",
    "# Tạo thư mục để lưu kết quả\n",
    "results_dir = \"../../data/optimization_results\"\n",
    "os.makedirs(results_dir, exist_ok=True)\n",
    "\n",
    "# Lưu optimization results\n",
    "timestamp = datetime.now().strftime(\"%Y%m%d_%H%M%S\")\n",
    "optimization_file = f\"{results_dir}/optimization_results_{timestamp}.json\"\n",
    "optimizer.save_optimization_results(optimization_file)\n",
    "print(f\"✅ Đã lưu optimization results: {optimization_file}\")\n",
    "\n",
    "# Lưu backtest results\n",
    "backtest_file = f\"{results_dir}/backtest_results_{timestamp}.csv\"\n",
    "if hasattr(engine, 'trades') and engine.trades:\n",
    "    trades_df.to_csv(backtest_file, index=False)\n",
    "    print(f\"✅ Đã lưu backtest results: {backtest_file}\")"
   ]
  },
  {
   "cell_type": "code",
   "execution_count": 17,
   "id": "0b335a16",
   "metadata": {},
   "outputs": [
    {
     "name": "stdout",
     "output_type": "stream",
     "text": [
      "\n",
      "=== HIỂN THỊ KẾT QUẢ OPTIMIZATION ===\n",
      "\n",
      "--- Visualization cho SMA_CROSSOVER ---\n"
     ]
    },
    {
     "data": {
      "application/vnd.plotly.v1+json": {
       "config": {
        "plotlyServerURL": "https://plot.ly"
       },
       "data": [
        {
         "name": "annualized_return",
         "opacity": 0.7,
         "type": "histogram",
         "x": {
          "bdata": "EMYP+R4noL/AbPoSgHGsP4BeqtKN36s/ALZGJFhHkT8AAAAAAAAAAPCIBaX4saC/oHLLM516n78A7E2g4CdIvwCL3+NSdHy/YMufoBe5pD8AAAAAAAAAAGBRXwG/iq4/wED1xI74nD/wiAWl+LGgv6ByyzOdep+/AOxNoOAnSL9A9NQlUb2QvwDfBcInDpk/IBV38pe8pz9gUV8Bv4quP8BA9cSO+Jw/8IgFpfixoL+gcssznXqfvwDsTaDgJ0i/4C8xXB4Sn79Arc2AA2qfP8Azn7Wbpag/YFFfAb+Krj/AQPXEjvicP/CIBaX4saC/oHLLM516n78A7E2g4CdIv/BL3Sb4tam/wCZqayBTkT8AelXGcUZiv2BRXwG/iq4/wED1xI74nD8AAAAAAAAAAPCIBaX4saC/oHLLM516n78A7E2g4CdIv6C5JxD/BqY/YFFfAb+Krj8Ao4BXW/qcPwAAAAAAAAAAoHLLM516n78AAAAAAAAAAADsTaDgJ0i/",
          "dtype": "f8"
         },
         "xaxis": "x",
         "yaxis": "y"
        },
        {
         "name": "volatility",
         "opacity": 0.7,
         "type": "histogram",
         "x": {
          "bdata": "n6+XjTq1oD+J5+bMcRKiP/BaGj8di5w/aJ4E2p/inT8AAAAAAAAAAC1ePepdUY8/pLVVaT4lhj+evP10b+k0P8rm4UEpO6A/c0DXaARmoj8AAAAAAAAAAEHYh7Ugvpw/flSKKKPqmD8tXj3qXVGPP6S1VWk+JYY/nrz9dG/pND8JXyzgRQ+dP7dBb/hgVKE/3mmmGpJ+nj9B2Ie1IL6cP35Uiiij6pg/LV496l1Rjz+ktVVpPiWGP568/XRv6TQ/5nl3YFGqmz8uJ6amuzehP0PeWk4DQZ4/QdiHtSC+nD9+VIooo+qYPy1ePepdUY8/pLVVaT4lhj+evP10b+k0P5es0CS1Npo/Lr2Wii+HoT9DfruNdsabP0HYh7Ugvpw/flSKKKPqmD8AAAAAAAAAAC1ePepdUY8/pLVVaT4lhj+evP10b+k0P+lwTO8STJ4/QdiHtSC+nD/ZueP9seqYPwAAAAAAAAAApLVVaT4lhj8AAAAAAAAAAJ68/XRv6TQ/",
          "dtype": "f8"
         },
         "xaxis": "x",
         "yaxis": "y"
        },
        {
         "name": "win_rate",
         "opacity": 0.7,
         "type": "histogram",
         "x": {
          "bdata": "AAAAAAAAAAAAAAAAAAAAAAAAAAAAAAAAAAAAAAAAAAAAAAAAAAAAAAAAAAAAAAAAAAAAAAAAAAAAAAAAAAAAAAAAAAAAAAAAAAAAAAAAAAAAAAAAAAAAAAAAAAAAAAAAAAAAAAAAAAAAAAAAAAAAAAAAAAAAAAAAAAAAAAAAAAAAAAAAAAAAAAAAAAAAAAAAAAAAAAAAAAAAAAAAAAAAAAAAAAAAAAAAAAAAAAAAAAAAAAAAAAAAAAAAAAAAAAAAAAAAAAAAAAAAAAAAAAAAAAAAAAAAAAAAAAAAAAAAAAAAAAAAAAAAAAAAAAAAAAAAAAAAAAAAAAAAAAAAAAAAAAAAAAAAAAAAAAAAAAAAAAAAAAAAAAAAAAAAAAAAAAAAAAAAAAAAAAAAAAAAAAAAAAAAAAAAAAAAAAAAAAAAAAAAAAAAAAAAAAAAAAAAAAAAAAAAAAAAAAAAAAAAAAAAAAAAAAAAAAAAAAAAAAAAAAAAAAAAAAAAAAAAAAAAAAAA",
          "dtype": "f8"
         },
         "xaxis": "x",
         "yaxis": "y"
        },
        {
         "mode": "markers",
         "name": "sharpe_ratio",
         "opacity": 0.6,
         "type": "scatter",
         "x": {
          "bdata": "AAECAwQFBgcICQoLDA0ODxAREhMUFRYXGBkaGxwdHh8gISIjJCUmJygpKissLS4v",
          "dtype": "i1"
         },
         "xaxis": "x2",
         "y": {
          "bdata": "J0yF4Cdm9L8Xoedx+UTgPx0rWvG6f+M/yVn3YcyZ0b8AAAAAADiPwIZt79M2YAbAht4ZLquzDsA6xyZehRFQwMHtecSBi+i/UGjWFzqdzD8AAAAAADiPwLVEqeRwQOc/0HBOn+24kr+Gbe/TNmAGwIbeGS6rsw7AOscmXoURUMA8zSo4nXfxv06QiusywLS/0m26QXs02T+1RKnkcEDnP9BwTp/tuJK/hm3v0zZgBsCG3hkuq7MOwDrHJl6FEVDAb19YEIM6+L+9FVdifKWlP3Ro1/X17ds/tUSp5HBA5z/QcE6f7biSv4Zt79M2YAbAht4ZLquzDsA6xyZehRFQwLdo/JGeQwHA7MMnk49Nzb9YZ8ssN/zov7VEqeRwQOc/0HBOn+24kr8AAAAAADiPwIZt79M2YAbAht4ZLquzDsA6xyZehRFQwJjV2pBmldQ/tUSp5HBA5z+Mor9HLoeSvwAAAAAAOI/Aht4ZLquzDsAAAAAAADiPwDrHJl6FEVDA",
          "dtype": "f8"
         },
         "yaxis": "y2"
        },
        {
         "mode": "markers",
         "name": "total_return",
         "opacity": 0.6,
         "type": "scatter",
         "x": {
          "bdata": "AAECAwQFBgcICQoLDA0ODxAREhMUFRYXGBkaGxwdHh8gISIjJCUmJygpKissLS4v",
          "dtype": "i1"
         },
         "xaxis": "x2",
         "y": {
          "bdata": "gFA23dq6gb8A5v8f8kCOPwAOGbypqI0/AA71as2hcj8AAAAAAAAAAIB7mcceVYK/gDMWTWBFgb8AQBzr4jYqvwDKYPET816/gJgnz7Mohj8AAAAAAAAAAAAa8FJBOJA/AD/4BdUcfz+Ae5nHHlWCv4AzFk1gRYG/AEAc6+I2Kr8A9HO7O0VyvwCziVC88Xo/ACSIiTNUiT8AGvBSQTiQPwA/+AXVHH8/gHuZxx5Vgr+AMxZNYEWBvwBAHOviNiq/wMXjHmULgb+AR2VWmNqAP4BreGSkSIo/ABrwUkE4kD8AP/gF1Rx/P4B7mcceVYK/gDMWTWBFgb8AQBzr4jYqv4DsPFeRa4y/AJJEKG6ucj8AeAxS7NdDvwAa8FJBOJA/AD/4BdUcfz8AAAAAAAAAAIB7mcceVYK/gDMWTWBFgb8AQBzr4jYqv4Cnh7BTiIc/ABrwUkE4kD8ALpSnvh5/PwAAAAAAAAAAgDMWTWBFgb8AAAAAAAAAAABAHOviNiq/",
          "dtype": "f8"
         },
         "yaxis": "y2"
        },
        {
         "mode": "markers",
         "name": "max_drawdown",
         "opacity": 0.6,
         "type": "scatter",
         "x": {
          "bdata": "AAECAwQFBgcICQoLDA0ODxAREhMUFRYXGBkaGxwdHh8gISIjJCUmJygpKissLS4v",
          "dtype": "i1"
         },
         "xaxis": "x2",
         "y": {
          "bdata": "35PEMlbrmr9WPfsrj0eJv0MicQyfdYm/Qj37K49Hib8AAAAAAAAAAG3iKUlZPYe/rcxz4r9xhb8tQxzr4jYqv5giFPpZUJS/vPonMLS2i78AAAAAAAAAAH1B3961lYm/jBB0GX3RiL9t4ilJWT2Hv63Mc+K/cYW/LUMc6+I2Kr89XQU6K1mSv2CdBTlD9oq/5ZYaATISib99Qd/etZWJv4wQdBl90Yi/beIpSVk9h7+tzHPiv3GFvy1DHOviNiq/fWcAmXU6kL+4lhoBMhKJv54z8UuK8Yi/fUHf3rWVib+MEHQZfdGIv23iKUlZPYe/rcxz4r9xhb8tQxzr4jYqv/9HFg85T5K/uXNG2T/gjr9KC4c+zLuHv31B3961lYm/jBB0GX3RiL8AAAAAAAAAAG3iKUlZPYe/rcxz4r9xhb8tQxzr4jYqv7/fZ50DEIm/fUHf3rWVib+MEHQZfdGIvwAAAAAAAAAArcxz4r9xhb8AAAAAAAAAAC1DHOviNiq/",
          "dtype": "f8"
         },
         "yaxis": "y2"
        },
        {
         "marker": {
          "color": {
           "bdata": "J0yF4Cdm9L8Xoedx+UTgPx0rWvG6f+M/yVn3YcyZ0b8AAAAAADiPwIZt79M2YAbAht4ZLquzDsA6xyZehRFQwMHtecSBi+i/UGjWFzqdzD8AAAAAADiPwLVEqeRwQOc/0HBOn+24kr+Gbe/TNmAGwIbeGS6rsw7AOscmXoURUMA8zSo4nXfxv06QiusywLS/0m26QXs02T+1RKnkcEDnP9BwTp/tuJK/hm3v0zZgBsCG3hkuq7MOwDrHJl6FEVDAb19YEIM6+L+9FVdifKWlP3Ro1/X17ds/tUSp5HBA5z/QcE6f7biSv4Zt79M2YAbAht4ZLquzDsA6xyZehRFQwLdo/JGeQwHA7MMnk49Nzb9YZ8ssN/zov7VEqeRwQOc/0HBOn+24kr8AAAAAADiPwIZt79M2YAbAht4ZLquzDsA6xyZehRFQwJjV2pBmldQ/tUSp5HBA5z+Mor9HLoeSvwAAAAAAOI/Aht4ZLquzDsAAAAAAADiPwDrHJl6FEVDA",
           "dtype": "f8"
          },
          "colorscale": [
           [
            0,
            "#440154"
           ],
           [
            0.1111111111111111,
            "#482878"
           ],
           [
            0.2222222222222222,
            "#3e4989"
           ],
           [
            0.3333333333333333,
            "#31688e"
           ],
           [
            0.4444444444444444,
            "#26828e"
           ],
           [
            0.5555555555555556,
            "#1f9e89"
           ],
           [
            0.6666666666666666,
            "#35b779"
           ],
           [
            0.7777777777777778,
            "#6ece58"
           ],
           [
            0.8888888888888888,
            "#b5de2b"
           ],
           [
            1,
            "#fde725"
           ]
          ]
         },
         "mode": "markers",
         "name": "Parameter Correlation",
         "type": "scatter",
         "x": {
          "bdata": "EMYP+R4noL/AbPoSgHGsP4BeqtKN36s/ALZGJFhHkT8AAAAAAAAAAPCIBaX4saC/oHLLM516n78A7E2g4CdIvwCL3+NSdHy/YMufoBe5pD8AAAAAAAAAAGBRXwG/iq4/wED1xI74nD/wiAWl+LGgv6ByyzOdep+/AOxNoOAnSL9A9NQlUb2QvwDfBcInDpk/IBV38pe8pz9gUV8Bv4quP8BA9cSO+Jw/8IgFpfixoL+gcssznXqfvwDsTaDgJ0i/4C8xXB4Sn79Arc2AA2qfP8Azn7Wbpag/YFFfAb+Krj/AQPXEjvicP/CIBaX4saC/oHLLM516n78A7E2g4CdIv/BL3Sb4tam/wCZqayBTkT8AelXGcUZiv2BRXwG/iq4/wED1xI74nD8AAAAAAAAAAPCIBaX4saC/oHLLM516n78A7E2g4CdIv6C5JxD/BqY/YFFfAb+Krj8Ao4BXW/qcPwAAAAAAAAAAoHLLM516n78AAAAAAAAAAADsTaDgJ0i/",
          "dtype": "f8"
         },
         "xaxis": "x3",
         "y": {
          "bdata": "n6+XjTq1oD+J5+bMcRKiP/BaGj8di5w/aJ4E2p/inT8AAAAAAAAAAC1ePepdUY8/pLVVaT4lhj+evP10b+k0P8rm4UEpO6A/c0DXaARmoj8AAAAAAAAAAEHYh7Ugvpw/flSKKKPqmD8tXj3qXVGPP6S1VWk+JYY/nrz9dG/pND8JXyzgRQ+dP7dBb/hgVKE/3mmmGpJ+nj9B2Ie1IL6cP35Uiiij6pg/LV496l1Rjz+ktVVpPiWGP568/XRv6TQ/5nl3YFGqmz8uJ6amuzehP0PeWk4DQZ4/QdiHtSC+nD9+VIooo+qYPy1ePepdUY8/pLVVaT4lhj+evP10b+k0P5es0CS1Npo/Lr2Wii+HoT9DfruNdsabP0HYh7Ugvpw/flSKKKPqmD8AAAAAAAAAAC1ePepdUY8/pLVVaT4lhj+evP10b+k0P+lwTO8STJ4/QdiHtSC+nD/ZueP9seqYPwAAAAAAAAAApLVVaT4lhj8AAAAAAAAAAJ68/XRv6TQ/",
          "dtype": "f8"
         },
         "yaxis": "y3"
        },
        {
         "name": "Top Sharpe Ratios",
         "type": "bar",
         "x": {
          "bdata": "CxMbIyoCARoSKQ==",
          "dtype": "i1"
         },
         "xaxis": "x4",
         "y": {
          "bdata": "tUSp5HBA5z+1RKnkcEDnP7VEqeRwQOc/tUSp5HBA5z+1RKnkcEDnPx0rWvG6f+M/F6HncflE4D90aNf19e3bP9JtukF7NNk/mNXakGaV1D8=",
          "dtype": "f8"
         },
         "yaxis": "y4"
        }
       ],
       "layout": {
        "annotations": [
         {
          "font": {
           "size": 16
          },
          "showarrow": false,
          "text": "Parameter Distribution",
          "x": 0.225,
          "xanchor": "center",
          "xref": "paper",
          "y": 1,
          "yanchor": "bottom",
          "yref": "paper"
         },
         {
          "font": {
           "size": 16
          },
          "showarrow": false,
          "text": "Performance Metrics",
          "x": 0.775,
          "xanchor": "center",
          "xref": "paper",
          "y": 1,
          "yanchor": "bottom",
          "yref": "paper"
         },
         {
          "font": {
           "size": 16
          },
          "showarrow": false,
          "text": "Parameter Correlation",
          "x": 0.225,
          "xanchor": "center",
          "xref": "paper",
          "y": 0.375,
          "yanchor": "bottom",
          "yref": "paper"
         },
         {
          "font": {
           "size": 16
          },
          "showarrow": false,
          "text": "Top Performers",
          "x": 0.775,
          "xanchor": "center",
          "xref": "paper",
          "y": 0.375,
          "yanchor": "bottom",
          "yref": "paper"
         }
        ],
        "height": 800,
        "showlegend": true,
        "template": {
         "data": {
          "bar": [
           {
            "error_x": {
             "color": "#2a3f5f"
            },
            "error_y": {
             "color": "#2a3f5f"
            },
            "marker": {
             "line": {
              "color": "#E5ECF6",
              "width": 0.5
             },
             "pattern": {
              "fillmode": "overlay",
              "size": 10,
              "solidity": 0.2
             }
            },
            "type": "bar"
           }
          ],
          "barpolar": [
           {
            "marker": {
             "line": {
              "color": "#E5ECF6",
              "width": 0.5
             },
             "pattern": {
              "fillmode": "overlay",
              "size": 10,
              "solidity": 0.2
             }
            },
            "type": "barpolar"
           }
          ],
          "carpet": [
           {
            "aaxis": {
             "endlinecolor": "#2a3f5f",
             "gridcolor": "white",
             "linecolor": "white",
             "minorgridcolor": "white",
             "startlinecolor": "#2a3f5f"
            },
            "baxis": {
             "endlinecolor": "#2a3f5f",
             "gridcolor": "white",
             "linecolor": "white",
             "minorgridcolor": "white",
             "startlinecolor": "#2a3f5f"
            },
            "type": "carpet"
           }
          ],
          "choropleth": [
           {
            "colorbar": {
             "outlinewidth": 0,
             "ticks": ""
            },
            "type": "choropleth"
           }
          ],
          "contour": [
           {
            "colorbar": {
             "outlinewidth": 0,
             "ticks": ""
            },
            "colorscale": [
             [
              0,
              "#0d0887"
             ],
             [
              0.1111111111111111,
              "#46039f"
             ],
             [
              0.2222222222222222,
              "#7201a8"
             ],
             [
              0.3333333333333333,
              "#9c179e"
             ],
             [
              0.4444444444444444,
              "#bd3786"
             ],
             [
              0.5555555555555556,
              "#d8576b"
             ],
             [
              0.6666666666666666,
              "#ed7953"
             ],
             [
              0.7777777777777778,
              "#fb9f3a"
             ],
             [
              0.8888888888888888,
              "#fdca26"
             ],
             [
              1,
              "#f0f921"
             ]
            ],
            "type": "contour"
           }
          ],
          "contourcarpet": [
           {
            "colorbar": {
             "outlinewidth": 0,
             "ticks": ""
            },
            "type": "contourcarpet"
           }
          ],
          "heatmap": [
           {
            "colorbar": {
             "outlinewidth": 0,
             "ticks": ""
            },
            "colorscale": [
             [
              0,
              "#0d0887"
             ],
             [
              0.1111111111111111,
              "#46039f"
             ],
             [
              0.2222222222222222,
              "#7201a8"
             ],
             [
              0.3333333333333333,
              "#9c179e"
             ],
             [
              0.4444444444444444,
              "#bd3786"
             ],
             [
              0.5555555555555556,
              "#d8576b"
             ],
             [
              0.6666666666666666,
              "#ed7953"
             ],
             [
              0.7777777777777778,
              "#fb9f3a"
             ],
             [
              0.8888888888888888,
              "#fdca26"
             ],
             [
              1,
              "#f0f921"
             ]
            ],
            "type": "heatmap"
           }
          ],
          "histogram": [
           {
            "marker": {
             "pattern": {
              "fillmode": "overlay",
              "size": 10,
              "solidity": 0.2
             }
            },
            "type": "histogram"
           }
          ],
          "histogram2d": [
           {
            "colorbar": {
             "outlinewidth": 0,
             "ticks": ""
            },
            "colorscale": [
             [
              0,
              "#0d0887"
             ],
             [
              0.1111111111111111,
              "#46039f"
             ],
             [
              0.2222222222222222,
              "#7201a8"
             ],
             [
              0.3333333333333333,
              "#9c179e"
             ],
             [
              0.4444444444444444,
              "#bd3786"
             ],
             [
              0.5555555555555556,
              "#d8576b"
             ],
             [
              0.6666666666666666,
              "#ed7953"
             ],
             [
              0.7777777777777778,
              "#fb9f3a"
             ],
             [
              0.8888888888888888,
              "#fdca26"
             ],
             [
              1,
              "#f0f921"
             ]
            ],
            "type": "histogram2d"
           }
          ],
          "histogram2dcontour": [
           {
            "colorbar": {
             "outlinewidth": 0,
             "ticks": ""
            },
            "colorscale": [
             [
              0,
              "#0d0887"
             ],
             [
              0.1111111111111111,
              "#46039f"
             ],
             [
              0.2222222222222222,
              "#7201a8"
             ],
             [
              0.3333333333333333,
              "#9c179e"
             ],
             [
              0.4444444444444444,
              "#bd3786"
             ],
             [
              0.5555555555555556,
              "#d8576b"
             ],
             [
              0.6666666666666666,
              "#ed7953"
             ],
             [
              0.7777777777777778,
              "#fb9f3a"
             ],
             [
              0.8888888888888888,
              "#fdca26"
             ],
             [
              1,
              "#f0f921"
             ]
            ],
            "type": "histogram2dcontour"
           }
          ],
          "mesh3d": [
           {
            "colorbar": {
             "outlinewidth": 0,
             "ticks": ""
            },
            "type": "mesh3d"
           }
          ],
          "parcoords": [
           {
            "line": {
             "colorbar": {
              "outlinewidth": 0,
              "ticks": ""
             }
            },
            "type": "parcoords"
           }
          ],
          "pie": [
           {
            "automargin": true,
            "type": "pie"
           }
          ],
          "scatter": [
           {
            "fillpattern": {
             "fillmode": "overlay",
             "size": 10,
             "solidity": 0.2
            },
            "type": "scatter"
           }
          ],
          "scatter3d": [
           {
            "line": {
             "colorbar": {
              "outlinewidth": 0,
              "ticks": ""
             }
            },
            "marker": {
             "colorbar": {
              "outlinewidth": 0,
              "ticks": ""
             }
            },
            "type": "scatter3d"
           }
          ],
          "scattercarpet": [
           {
            "marker": {
             "colorbar": {
              "outlinewidth": 0,
              "ticks": ""
             }
            },
            "type": "scattercarpet"
           }
          ],
          "scattergeo": [
           {
            "marker": {
             "colorbar": {
              "outlinewidth": 0,
              "ticks": ""
             }
            },
            "type": "scattergeo"
           }
          ],
          "scattergl": [
           {
            "marker": {
             "colorbar": {
              "outlinewidth": 0,
              "ticks": ""
             }
            },
            "type": "scattergl"
           }
          ],
          "scattermap": [
           {
            "marker": {
             "colorbar": {
              "outlinewidth": 0,
              "ticks": ""
             }
            },
            "type": "scattermap"
           }
          ],
          "scattermapbox": [
           {
            "marker": {
             "colorbar": {
              "outlinewidth": 0,
              "ticks": ""
             }
            },
            "type": "scattermapbox"
           }
          ],
          "scatterpolar": [
           {
            "marker": {
             "colorbar": {
              "outlinewidth": 0,
              "ticks": ""
             }
            },
            "type": "scatterpolar"
           }
          ],
          "scatterpolargl": [
           {
            "marker": {
             "colorbar": {
              "outlinewidth": 0,
              "ticks": ""
             }
            },
            "type": "scatterpolargl"
           }
          ],
          "scatterternary": [
           {
            "marker": {
             "colorbar": {
              "outlinewidth": 0,
              "ticks": ""
             }
            },
            "type": "scatterternary"
           }
          ],
          "surface": [
           {
            "colorbar": {
             "outlinewidth": 0,
             "ticks": ""
            },
            "colorscale": [
             [
              0,
              "#0d0887"
             ],
             [
              0.1111111111111111,
              "#46039f"
             ],
             [
              0.2222222222222222,
              "#7201a8"
             ],
             [
              0.3333333333333333,
              "#9c179e"
             ],
             [
              0.4444444444444444,
              "#bd3786"
             ],
             [
              0.5555555555555556,
              "#d8576b"
             ],
             [
              0.6666666666666666,
              "#ed7953"
             ],
             [
              0.7777777777777778,
              "#fb9f3a"
             ],
             [
              0.8888888888888888,
              "#fdca26"
             ],
             [
              1,
              "#f0f921"
             ]
            ],
            "type": "surface"
           }
          ],
          "table": [
           {
            "cells": {
             "fill": {
              "color": "#EBF0F8"
             },
             "line": {
              "color": "white"
             }
            },
            "header": {
             "fill": {
              "color": "#C8D4E3"
             },
             "line": {
              "color": "white"
             }
            },
            "type": "table"
           }
          ]
         },
         "layout": {
          "annotationdefaults": {
           "arrowcolor": "#2a3f5f",
           "arrowhead": 0,
           "arrowwidth": 1
          },
          "autotypenumbers": "strict",
          "coloraxis": {
           "colorbar": {
            "outlinewidth": 0,
            "ticks": ""
           }
          },
          "colorscale": {
           "diverging": [
            [
             0,
             "#8e0152"
            ],
            [
             0.1,
             "#c51b7d"
            ],
            [
             0.2,
             "#de77ae"
            ],
            [
             0.3,
             "#f1b6da"
            ],
            [
             0.4,
             "#fde0ef"
            ],
            [
             0.5,
             "#f7f7f7"
            ],
            [
             0.6,
             "#e6f5d0"
            ],
            [
             0.7,
             "#b8e186"
            ],
            [
             0.8,
             "#7fbc41"
            ],
            [
             0.9,
             "#4d9221"
            ],
            [
             1,
             "#276419"
            ]
           ],
           "sequential": [
            [
             0,
             "#0d0887"
            ],
            [
             0.1111111111111111,
             "#46039f"
            ],
            [
             0.2222222222222222,
             "#7201a8"
            ],
            [
             0.3333333333333333,
             "#9c179e"
            ],
            [
             0.4444444444444444,
             "#bd3786"
            ],
            [
             0.5555555555555556,
             "#d8576b"
            ],
            [
             0.6666666666666666,
             "#ed7953"
            ],
            [
             0.7777777777777778,
             "#fb9f3a"
            ],
            [
             0.8888888888888888,
             "#fdca26"
            ],
            [
             1,
             "#f0f921"
            ]
           ],
           "sequentialminus": [
            [
             0,
             "#0d0887"
            ],
            [
             0.1111111111111111,
             "#46039f"
            ],
            [
             0.2222222222222222,
             "#7201a8"
            ],
            [
             0.3333333333333333,
             "#9c179e"
            ],
            [
             0.4444444444444444,
             "#bd3786"
            ],
            [
             0.5555555555555556,
             "#d8576b"
            ],
            [
             0.6666666666666666,
             "#ed7953"
            ],
            [
             0.7777777777777778,
             "#fb9f3a"
            ],
            [
             0.8888888888888888,
             "#fdca26"
            ],
            [
             1,
             "#f0f921"
            ]
           ]
          },
          "colorway": [
           "#636efa",
           "#EF553B",
           "#00cc96",
           "#ab63fa",
           "#FFA15A",
           "#19d3f3",
           "#FF6692",
           "#B6E880",
           "#FF97FF",
           "#FECB52"
          ],
          "font": {
           "color": "#2a3f5f"
          },
          "geo": {
           "bgcolor": "white",
           "lakecolor": "white",
           "landcolor": "#E5ECF6",
           "showlakes": true,
           "showland": true,
           "subunitcolor": "white"
          },
          "hoverlabel": {
           "align": "left"
          },
          "hovermode": "closest",
          "mapbox": {
           "style": "light"
          },
          "paper_bgcolor": "white",
          "plot_bgcolor": "#E5ECF6",
          "polar": {
           "angularaxis": {
            "gridcolor": "white",
            "linecolor": "white",
            "ticks": ""
           },
           "bgcolor": "#E5ECF6",
           "radialaxis": {
            "gridcolor": "white",
            "linecolor": "white",
            "ticks": ""
           }
          },
          "scene": {
           "xaxis": {
            "backgroundcolor": "#E5ECF6",
            "gridcolor": "white",
            "gridwidth": 2,
            "linecolor": "white",
            "showbackground": true,
            "ticks": "",
            "zerolinecolor": "white"
           },
           "yaxis": {
            "backgroundcolor": "#E5ECF6",
            "gridcolor": "white",
            "gridwidth": 2,
            "linecolor": "white",
            "showbackground": true,
            "ticks": "",
            "zerolinecolor": "white"
           },
           "zaxis": {
            "backgroundcolor": "#E5ECF6",
            "gridcolor": "white",
            "gridwidth": 2,
            "linecolor": "white",
            "showbackground": true,
            "ticks": "",
            "zerolinecolor": "white"
           }
          },
          "shapedefaults": {
           "line": {
            "color": "#2a3f5f"
           }
          },
          "ternary": {
           "aaxis": {
            "gridcolor": "white",
            "linecolor": "white",
            "ticks": ""
           },
           "baxis": {
            "gridcolor": "white",
            "linecolor": "white",
            "ticks": ""
           },
           "bgcolor": "#E5ECF6",
           "caxis": {
            "gridcolor": "white",
            "linecolor": "white",
            "ticks": ""
           }
          },
          "title": {
           "x": 0.05
          },
          "xaxis": {
           "automargin": true,
           "gridcolor": "white",
           "linecolor": "white",
           "ticks": "",
           "title": {
            "standoff": 15
           },
           "zerolinecolor": "white",
           "zerolinewidth": 2
          },
          "yaxis": {
           "automargin": true,
           "gridcolor": "white",
           "linecolor": "white",
           "ticks": "",
           "title": {
            "standoff": 15
           },
           "zerolinecolor": "white",
           "zerolinewidth": 2
          }
         }
        },
        "title": {
         "text": "Optimization Results for SMA_CROSSOVER"
        },
        "xaxis": {
         "anchor": "y",
         "domain": [
          0,
          0.45
         ]
        },
        "xaxis2": {
         "anchor": "y2",
         "domain": [
          0.55,
          1
         ]
        },
        "xaxis3": {
         "anchor": "y3",
         "domain": [
          0,
          0.45
         ]
        },
        "xaxis4": {
         "anchor": "y4",
         "domain": [
          0.55,
          1
         ]
        },
        "yaxis": {
         "anchor": "x",
         "domain": [
          0.625,
          1
         ]
        },
        "yaxis2": {
         "anchor": "x2",
         "domain": [
          0.625,
          1
         ]
        },
        "yaxis3": {
         "anchor": "x3",
         "domain": [
          0,
          0.375
         ]
        },
        "yaxis4": {
         "anchor": "x4",
         "domain": [
          0,
          0.375
         ]
        }
       }
      }
     },
     "metadata": {},
     "output_type": "display_data"
    },
    {
     "ename": "TypeError",
     "evalue": "float() argument must be a string or a real number, not 'dict'",
     "output_type": "error",
     "traceback": [
      "\u001b[0;31m---------------------------------------------------------------------------\u001b[0m",
      "\u001b[0;31mTypeError\u001b[0m                                 Traceback (most recent call last)",
      "Cell \u001b[0;32mIn[17], line 13\u001b[0m\n\u001b[1;32m     10\u001b[0m plot_optimization_results(optimization_results, strategy_type)\n\u001b[1;32m     12\u001b[0m \u001b[38;5;66;03m# Plot parameter heatmap\u001b[39;00m\n\u001b[0;32m---> 13\u001b[0m \u001b[43mplot_parameter_heatmap\u001b[49m\u001b[43m(\u001b[49m\u001b[43moptimization_results\u001b[49m\u001b[43m,\u001b[49m\u001b[43m \u001b[49m\u001b[43mstrategy_type\u001b[49m\u001b[43m)\u001b[49m\n\u001b[1;32m     15\u001b[0m \u001b[38;5;66;03m# Plot optimization progress\u001b[39;00m\n\u001b[1;32m     16\u001b[0m plot_optimization_progress(optimization_results, strategy_type)\n",
      "File \u001b[0;32m~/Library/CloudStorage/OneDrive-y62x2/project/autotrading_system/src/notebooks/optimization_visualization.py:121\u001b[0m, in \u001b[0;36mplot_parameter_heatmap\u001b[0;34m(optimization_results, strategy_type)\u001b[0m\n\u001b[1;32m    119\u001b[0m \u001b[38;5;66;03m# Chọn columns có sẵn\u001b[39;00m\n\u001b[1;32m    120\u001b[0m available_cols \u001b[38;5;241m=\u001b[39m param_cols \u001b[38;5;241m+\u001b[39m [col \u001b[38;5;28;01mfor\u001b[39;00m col \u001b[38;5;129;01min\u001b[39;00m performance_cols \u001b[38;5;28;01mif\u001b[39;00m col \u001b[38;5;129;01min\u001b[39;00m df\u001b[38;5;241m.\u001b[39mcolumns]\n\u001b[0;32m--> 121\u001b[0m corr_matrix \u001b[38;5;241m=\u001b[39m \u001b[43mdf\u001b[49m\u001b[43m[\u001b[49m\u001b[43mavailable_cols\u001b[49m\u001b[43m]\u001b[49m\u001b[38;5;241;43m.\u001b[39;49m\u001b[43mcorr\u001b[49m\u001b[43m(\u001b[49m\u001b[43m)\u001b[49m\n\u001b[1;32m    123\u001b[0m \u001b[38;5;66;03m# Tạo heatmap\u001b[39;00m\n\u001b[1;32m    124\u001b[0m fig \u001b[38;5;241m=\u001b[39m go\u001b[38;5;241m.\u001b[39mFigure(data\u001b[38;5;241m=\u001b[39mgo\u001b[38;5;241m.\u001b[39mHeatmap(\n\u001b[1;32m    125\u001b[0m     z\u001b[38;5;241m=\u001b[39mcorr_matrix\u001b[38;5;241m.\u001b[39mvalues,\n\u001b[1;32m    126\u001b[0m     x\u001b[38;5;241m=\u001b[39mcorr_matrix\u001b[38;5;241m.\u001b[39mcolumns,\n\u001b[0;32m   (...)\u001b[0m\n\u001b[1;32m    129\u001b[0m     zmid\u001b[38;5;241m=\u001b[39m\u001b[38;5;241m0\u001b[39m\n\u001b[1;32m    130\u001b[0m ))\n",
      "File \u001b[0;32m/Library/Frameworks/Python.framework/Versions/3.12/lib/python3.12/site-packages/pandas/core/frame.py:11036\u001b[0m, in \u001b[0;36mDataFrame.corr\u001b[0;34m(self, method, min_periods, numeric_only)\u001b[0m\n\u001b[1;32m  11034\u001b[0m cols \u001b[38;5;241m=\u001b[39m data\u001b[38;5;241m.\u001b[39mcolumns\n\u001b[1;32m  11035\u001b[0m idx \u001b[38;5;241m=\u001b[39m cols\u001b[38;5;241m.\u001b[39mcopy()\n\u001b[0;32m> 11036\u001b[0m mat \u001b[38;5;241m=\u001b[39m \u001b[43mdata\u001b[49m\u001b[38;5;241;43m.\u001b[39;49m\u001b[43mto_numpy\u001b[49m\u001b[43m(\u001b[49m\u001b[43mdtype\u001b[49m\u001b[38;5;241;43m=\u001b[39;49m\u001b[38;5;28;43mfloat\u001b[39;49m\u001b[43m,\u001b[49m\u001b[43m \u001b[49m\u001b[43mna_value\u001b[49m\u001b[38;5;241;43m=\u001b[39;49m\u001b[43mnp\u001b[49m\u001b[38;5;241;43m.\u001b[39;49m\u001b[43mnan\u001b[49m\u001b[43m,\u001b[49m\u001b[43m \u001b[49m\u001b[43mcopy\u001b[49m\u001b[38;5;241;43m=\u001b[39;49m\u001b[38;5;28;43;01mFalse\u001b[39;49;00m\u001b[43m)\u001b[49m\n\u001b[1;32m  11038\u001b[0m \u001b[38;5;28;01mif\u001b[39;00m method \u001b[38;5;241m==\u001b[39m \u001b[38;5;124m\"\u001b[39m\u001b[38;5;124mpearson\u001b[39m\u001b[38;5;124m\"\u001b[39m:\n\u001b[1;32m  11039\u001b[0m     correl \u001b[38;5;241m=\u001b[39m libalgos\u001b[38;5;241m.\u001b[39mnancorr(mat, minp\u001b[38;5;241m=\u001b[39mmin_periods)\n",
      "File \u001b[0;32m/Library/Frameworks/Python.framework/Versions/3.12/lib/python3.12/site-packages/pandas/core/frame.py:1981\u001b[0m, in \u001b[0;36mDataFrame.to_numpy\u001b[0;34m(self, dtype, copy, na_value)\u001b[0m\n\u001b[1;32m   1979\u001b[0m \u001b[38;5;28;01mif\u001b[39;00m dtype \u001b[38;5;129;01mis\u001b[39;00m \u001b[38;5;129;01mnot\u001b[39;00m \u001b[38;5;28;01mNone\u001b[39;00m:\n\u001b[1;32m   1980\u001b[0m     dtype \u001b[38;5;241m=\u001b[39m np\u001b[38;5;241m.\u001b[39mdtype(dtype)\n\u001b[0;32m-> 1981\u001b[0m result \u001b[38;5;241m=\u001b[39m \u001b[38;5;28;43mself\u001b[39;49m\u001b[38;5;241;43m.\u001b[39;49m\u001b[43m_mgr\u001b[49m\u001b[38;5;241;43m.\u001b[39;49m\u001b[43mas_array\u001b[49m\u001b[43m(\u001b[49m\u001b[43mdtype\u001b[49m\u001b[38;5;241;43m=\u001b[39;49m\u001b[43mdtype\u001b[49m\u001b[43m,\u001b[49m\u001b[43m \u001b[49m\u001b[43mcopy\u001b[49m\u001b[38;5;241;43m=\u001b[39;49m\u001b[43mcopy\u001b[49m\u001b[43m,\u001b[49m\u001b[43m \u001b[49m\u001b[43mna_value\u001b[49m\u001b[38;5;241;43m=\u001b[39;49m\u001b[43mna_value\u001b[49m\u001b[43m)\u001b[49m\n\u001b[1;32m   1982\u001b[0m \u001b[38;5;28;01mif\u001b[39;00m result\u001b[38;5;241m.\u001b[39mdtype \u001b[38;5;129;01mis\u001b[39;00m \u001b[38;5;129;01mnot\u001b[39;00m dtype:\n\u001b[1;32m   1983\u001b[0m     result \u001b[38;5;241m=\u001b[39m np\u001b[38;5;241m.\u001b[39marray(result, dtype\u001b[38;5;241m=\u001b[39mdtype, copy\u001b[38;5;241m=\u001b[39m\u001b[38;5;28;01mFalse\u001b[39;00m)\n",
      "File \u001b[0;32m/Library/Frameworks/Python.framework/Versions/3.12/lib/python3.12/site-packages/pandas/core/internals/managers.py:1692\u001b[0m, in \u001b[0;36mBlockManager.as_array\u001b[0;34m(self, dtype, copy, na_value)\u001b[0m\n\u001b[1;32m   1690\u001b[0m         arr\u001b[38;5;241m.\u001b[39mflags\u001b[38;5;241m.\u001b[39mwriteable \u001b[38;5;241m=\u001b[39m \u001b[38;5;28;01mFalse\u001b[39;00m\n\u001b[1;32m   1691\u001b[0m \u001b[38;5;28;01melse\u001b[39;00m:\n\u001b[0;32m-> 1692\u001b[0m     arr \u001b[38;5;241m=\u001b[39m \u001b[38;5;28;43mself\u001b[39;49m\u001b[38;5;241;43m.\u001b[39;49m\u001b[43m_interleave\u001b[49m\u001b[43m(\u001b[49m\u001b[43mdtype\u001b[49m\u001b[38;5;241;43m=\u001b[39;49m\u001b[43mdtype\u001b[49m\u001b[43m,\u001b[49m\u001b[43m \u001b[49m\u001b[43mna_value\u001b[49m\u001b[38;5;241;43m=\u001b[39;49m\u001b[43mna_value\u001b[49m\u001b[43m)\u001b[49m\n\u001b[1;32m   1693\u001b[0m     \u001b[38;5;66;03m# The underlying data was copied within _interleave, so no need\u001b[39;00m\n\u001b[1;32m   1694\u001b[0m     \u001b[38;5;66;03m# to further copy if copy=True or setting na_value\u001b[39;00m\n\u001b[1;32m   1696\u001b[0m \u001b[38;5;28;01mif\u001b[39;00m na_value \u001b[38;5;129;01mis\u001b[39;00m lib\u001b[38;5;241m.\u001b[39mno_default:\n",
      "File \u001b[0;32m/Library/Frameworks/Python.framework/Versions/3.12/lib/python3.12/site-packages/pandas/core/internals/managers.py:1751\u001b[0m, in \u001b[0;36mBlockManager._interleave\u001b[0;34m(self, dtype, na_value)\u001b[0m\n\u001b[1;32m   1749\u001b[0m     \u001b[38;5;28;01melse\u001b[39;00m:\n\u001b[1;32m   1750\u001b[0m         arr \u001b[38;5;241m=\u001b[39m blk\u001b[38;5;241m.\u001b[39mget_values(dtype)\n\u001b[0;32m-> 1751\u001b[0m     \u001b[43mresult\u001b[49m\u001b[43m[\u001b[49m\u001b[43mrl\u001b[49m\u001b[38;5;241;43m.\u001b[39;49m\u001b[43mindexer\u001b[49m\u001b[43m]\u001b[49m \u001b[38;5;241m=\u001b[39m arr\n\u001b[1;32m   1752\u001b[0m     itemmask[rl\u001b[38;5;241m.\u001b[39mindexer] \u001b[38;5;241m=\u001b[39m \u001b[38;5;241m1\u001b[39m\n\u001b[1;32m   1754\u001b[0m \u001b[38;5;28;01mif\u001b[39;00m \u001b[38;5;129;01mnot\u001b[39;00m itemmask\u001b[38;5;241m.\u001b[39mall():\n",
      "\u001b[0;31mTypeError\u001b[0m: float() argument must be a string or a real number, not 'dict'"
     ]
    }
   ],
   "source": [
    "# Cell 15: Hiển thị kết quả optimization một cách trực quan\n",
    "print(\"\\n=== HIỂN THỊ KẾT QUẢ OPTIMIZATION ===\")\n",
    "\n",
    "# Hiển thị kết quả optimization cho từng strategy\n",
    "for strategy_type in strategy_types:\n",
    "    if strategy_type in optimization_results:\n",
    "        print(f\"\\n--- Visualization cho {strategy_type.upper()} ---\")\n",
    "        \n",
    "        # Plot optimization results\n",
    "        plot_optimization_results(optimization_results, strategy_type)\n",
    "        \n",
    "        # Plot parameter heatmap\n",
    "        plot_parameter_heatmap(optimization_results, strategy_type)\n",
    "        \n",
    "        # Plot optimization progress\n",
    "        plot_optimization_progress(optimization_results, strategy_type)\n",
    "\n",
    "# Tạo báo cáo tổng hợp\n",
    "print(\"\\n--- TẠO BÁO CÁO TỔNG HỢP ---\")\n",
    "report_path = f\"{results_dir}/optimization_report_{timestamp}.txt\"\n",
    "create_optimization_report(optimization_results, report_path)\n",
    "\n",
    "print(\"🎉 Hoàn thành optimization và backtest!\")\n",
    "# Gợi ý xử lý lỗi TypeError: float() argument must be a string or a real number, not 'dict'\n",
    "# Lỗi này thường xảy ra khi dữ liệu optimization_results có trường metrics là dict thay vì giá trị số.\n",
    "# Để debug, hãy kiểm tra cấu trúc optimization_results cho từng strategy_type:\n",
    "\n",
    "for strategy_type in strategy_types:\n",
    "    if strategy_type in optimization_results:\n",
    "        print(f\"\\n[DEBUG] {strategy_type} - Top 1 result:\")\n",
    "        best_result = optimization_results[strategy_type][0]\n",
    "        print(best_result)\n",
    "        print(\"metrics:\", best_result.get(\"metrics\"))\n",
    "        print(\"parameters:\", best_result.get(\"parameters\"))\n",
    "        # Kiểm tra các trường metrics có phải là dict lồng dict không\n",
    "        if isinstance(best_result.get(\"metrics\"), dict):\n",
    "            for k, v in best_result[\"metrics\"].items():\n",
    "                print(f\"  {k}: {v} ({type(v)})\")\n",
    "\n",
    "# Nếu metrics là dict lồng dict, cần flatten trước khi chuyển thành DataFrame hoặc dùng cho heatmap.\n"
   ]
  },
  {
   "cell_type": "code",
   "execution_count": null,
   "id": "0a7dfe91",
   "metadata": {},
   "outputs": [
    {
     "name": "stderr",
     "output_type": "stream",
     "text": [
      "\u001b[32m2025-08-02 12:16:48.465\u001b[0m | \u001b[1mINFO    \u001b[0m | \u001b[36msrc.strategies.base_strategy\u001b[0m:\u001b[36m__init__\u001b[0m:\u001b[36m34\u001b[0m - \u001b[1mInitialized strategy: sma_crossover\u001b[0m\n",
      "\u001b[32m2025-08-02 12:16:48.466\u001b[0m | \u001b[1mINFO    \u001b[0m | \u001b[36msrc.strategies.sma_crossover\u001b[0m:\u001b[36m__init__\u001b[0m:\u001b[36m48\u001b[0m - \u001b[1mSMA Crossover Strategy initialized: 5/30\u001b[0m\n",
      "\u001b[32m2025-08-02 12:16:48.467\u001b[0m | \u001b[1mINFO    \u001b[0m | \u001b[36msrc.core.trading_engine\u001b[0m:\u001b[36madd_strategy\u001b[0m:\u001b[36m82\u001b[0m - \u001b[1mAdded strategy: sma_crossover\u001b[0m\n",
      "\u001b[32m2025-08-02 12:16:48.468\u001b[0m | \u001b[1mINFO    \u001b[0m | \u001b[36msrc.strategies.base_strategy\u001b[0m:\u001b[36m__init__\u001b[0m:\u001b[36m34\u001b[0m - \u001b[1mInitialized strategy: rsi\u001b[0m\n",
      "\u001b[32m2025-08-02 12:16:48.469\u001b[0m | \u001b[1mINFO    \u001b[0m | \u001b[36msrc.strategies.rsi_strategy\u001b[0m:\u001b[36m__init__\u001b[0m:\u001b[36m56\u001b[0m - \u001b[1mRSI Strategy initialized: period=20, overbought=70, oversold=30\u001b[0m\n",
      "\u001b[32m2025-08-02 12:16:48.470\u001b[0m | \u001b[1mINFO    \u001b[0m | \u001b[36msrc.core.trading_engine\u001b[0m:\u001b[36madd_strategy\u001b[0m:\u001b[36m82\u001b[0m - \u001b[1mAdded strategy: rsi\u001b[0m\n",
      "\u001b[32m2025-08-02 12:16:48.470\u001b[0m | \u001b[1mINFO    \u001b[0m | \u001b[36msrc.strategies.base_strategy\u001b[0m:\u001b[36m__init__\u001b[0m:\u001b[36m34\u001b[0m - \u001b[1mInitialized strategy: macd\u001b[0m\n",
      "\u001b[32m2025-08-02 12:16:48.471\u001b[0m | \u001b[1mINFO    \u001b[0m | \u001b[36msrc.strategies.macd_strategy\u001b[0m:\u001b[36m__init__\u001b[0m:\u001b[36m54\u001b[0m - \u001b[1mMACD Strategy initialized: fast=15, slow=20, signal=7\u001b[0m\n",
      "\u001b[32m2025-08-02 12:16:48.471\u001b[0m | \u001b[1mINFO    \u001b[0m | \u001b[36msrc.core.trading_engine\u001b[0m:\u001b[36madd_strategy\u001b[0m:\u001b[36m82\u001b[0m - \u001b[1mAdded strategy: macd\u001b[0m\n"
     ]
    },
    {
     "name": "stdout",
     "output_type": "stream",
     "text": [
      "Đã thêm 3 strategies:\n",
      "  - sma_crossover: SMACrossoverStrategy\n",
      "  - rsi: RSIStrategy\n",
      "  - macd: MACDStrategy\n"
     ]
    }
   ],
   "source": [
    "# Cell 4: Thêm strategies\n",
    "# SMA Crossover Strategy\n",
    "sma_strategy = SMACrossoverStrategy({\n",
    "    \"short_window\": engine.config.get(\"strategies.sma_crossover.short_window\", 5),\n",
    "    \"long_window\": engine.config.get(\"strategies.sma_crossover.long_window\", 30),\n",
    "    \"name\": \"SMA_Crossover\"\n",
    "})\n",
    "engine.add_strategy(sma_strategy)\n",
    "\n",
    "# RSI Strategy\n",
    "rsi_strategy = RSIStrategy({\n",
    "    \"period\": engine.config.get(\"strategies.rsi.period\", 14),\n",
    "    \"oversold\": engine.config.get(\"strategies.rsi.oversold\", 30),\n",
    "    \"overbought\": engine.config.get(\"strategies.rsi.overbought\", 70),\n",
    "    \"name\": \"RSI_Strategy\"\n",
    "})\n",
    "engine.add_strategy(rsi_strategy)\n",
    "\n",
    "# MACD Strategy\n",
    "macd_strategy = MACDStrategy({\n",
    "    \"fast_period\": engine.config.get(\"strategies.macd.fast_period\", 15),\n",
    "    \"slow_period\": engine.config.get(\"strategies.macd.slow_period\", 20),\n",
    "    \"signal_period\": engine.config.get(\"strategies.macd.signal_period\", 7),\n",
    "    \"name\": \"MACD_Strategy\"\n",
    "})\n",
    "engine.add_strategy(macd_strategy)\n",
    "\n",
    "print(f\"Đã thêm {len(engine.strategies)} strategies:\")\n",
    "for name, strategy in engine.strategies.items():\n",
    "    print(f\"  - {name}: {strategy.__class__.__name__}\")"
   ]
  },
  {
   "cell_type": "code",
   "execution_count": 6,
   "id": "1186be44",
   "metadata": {},
   "outputs": [
    {
     "name": "stderr",
     "output_type": "stream",
     "text": [
      "\u001b[32m2025-08-02 12:16:48.478\u001b[0m | \u001b[1mINFO    \u001b[0m | \u001b[36msrc.core.trading_engine\u001b[0m:\u001b[36mrun_backtest\u001b[0m:\u001b[36m86\u001b[0m - \u001b[1mStarting backtest from 2023-01-01 to 2025-07-31\u001b[0m\n",
      "\u001b[32m2025-08-02 12:16:48.488\u001b[0m | \u001b[1mINFO    \u001b[0m | \u001b[36msrc.data.data_manager\u001b[0m:\u001b[36mget_historical_data_standardized\u001b[0m:\u001b[36m589\u001b[0m - \u001b[1mFetching standardized OHLCV data for ['Bitstamp:BTCUSD'] from 2023-01-01 to 2025-07-31\u001b[0m\n",
      "\u001b[32m2025-08-02 12:16:48.488\u001b[0m | \u001b[1mINFO    \u001b[0m | \u001b[36msrc.data.data_manager\u001b[0m:\u001b[36mget_historical_data\u001b[0m:\u001b[36m64\u001b[0m - \u001b[1mFetching historical OHLCV data for ['Bitstamp:BTCUSD'] from 2023-01-01 to 2025-07-31\u001b[0m\n"
     ]
    },
    {
     "name": "stdout",
     "output_type": "stream",
     "text": [
      "Bắt đầu chạy backtest...\n",
      "SMA Crossover: True\n",
      "RSI: False\n",
      "MACD: False \n",
      "\n"
     ]
    },
    {
     "name": "stderr",
     "output_type": "stream",
     "text": [
      "\u001b[32m2025-08-02 12:16:48.924\u001b[0m | \u001b[1mINFO    \u001b[0m | \u001b[36msrc.data.data_manager\u001b[0m:\u001b[36m_fetch_tradingview_ohlcv_data\u001b[0m:\u001b[36m159\u001b[0m - \u001b[1mSuccessfully fetched OHLCV data for 1 symbols\u001b[0m\n",
      "\u001b[32m2025-08-02 12:16:48.928\u001b[0m | \u001b[1mINFO    \u001b[0m | \u001b[36msrc.data.data_manager\u001b[0m:\u001b[36mget_historical_data\u001b[0m:\u001b[36m97\u001b[0m - \u001b[1mOHLCV data cached successfully\u001b[0m\n",
      "\u001b[32m2025-08-02 12:16:48.932\u001b[0m | \u001b[1mINFO    \u001b[0m | \u001b[36msrc.data.data_manager\u001b[0m:\u001b[36mensure_ohlcv_format\u001b[0m:\u001b[36m500\u001b[0m - \u001b[1mData formatted for Bitstamp:BTCUSD: (100, 5)\u001b[0m\n",
      "\u001b[32m2025-08-02 12:16:48.934\u001b[0m | \u001b[1mINFO    \u001b[0m | \u001b[36msrc.data.data_manager\u001b[0m:\u001b[36mget_historical_data_standardized\u001b[0m:\u001b[36m622\u001b[0m - \u001b[1mSuccessfully standardized OHLCV data for 1 symbols\u001b[0m\n",
      "\u001b[32m2025-08-02 12:16:48.941\u001b[0m | \u001b[1mINFO    \u001b[0m | \u001b[36msrc.core.trading_engine\u001b[0m:\u001b[36mrun_backtest\u001b[0m:\u001b[36m107\u001b[0m - \u001b[1mLoaded 100 data points for [('Bitstamp:BTCUSD', 'open'), ('Bitstamp:BTCUSD', 'high'), ('Bitstamp:BTCUSD', 'low'), ('Bitstamp:BTCUSD', 'close'), ('Bitstamp:BTCUSD', 'volume')]\u001b[0m\n",
      "\u001b[32m2025-08-02 12:16:48.958\u001b[0m | \u001b[1mINFO    \u001b[0m | \u001b[36msrc.strategies.sma_crossover\u001b[0m:\u001b[36m_generate_signal_for_symbol\u001b[0m:\u001b[36m109\u001b[0m - \u001b[1mGolden cross detected for Bitstamp:BTCUSD: 118563.60 > 118355.17\u001b[0m\n",
      "\u001b[32m2025-08-02 12:16:48.959\u001b[0m | \u001b[1mINFO    \u001b[0m | \u001b[36msrc.core.trading_engine\u001b[0m:\u001b[36m_execute_buy_order\u001b[0m:\u001b[36m236\u001b[0m - \u001b[1mBUY: 0.168 Bitstamp:BTCUSD @ $119344.00 (sma_crossover)\u001b[0m\n",
      "\u001b[32m2025-08-02 12:16:48.966\u001b[0m | \u001b[1mINFO    \u001b[0m | \u001b[36msrc.strategies.sma_crossover\u001b[0m:\u001b[36m_generate_signal_for_symbol\u001b[0m:\u001b[36m113\u001b[0m - \u001b[1mDeath cross detected for Bitstamp:BTCUSD: 118118.20 < 118364.77\u001b[0m\n",
      "\u001b[32m2025-08-02 12:16:48.967\u001b[0m | \u001b[1mINFO    \u001b[0m | \u001b[36msrc.core.trading_engine\u001b[0m:\u001b[36m_execute_sell_order\u001b[0m:\u001b[36m274\u001b[0m - \u001b[1mSELL: 0.17 Bitstamp:BTCUSD @ $115400.00 | P&L: $-680.29 (-3.40%) (sma_crossover)\u001b[0m\n",
      "\u001b[32m2025-08-02 12:16:48.972\u001b[0m | \u001b[1mINFO    \u001b[0m | \u001b[36msrc.strategies.sma_crossover\u001b[0m:\u001b[36m_generate_signal_for_symbol\u001b[0m:\u001b[36m109\u001b[0m - \u001b[1mGolden cross detected for Bitstamp:BTCUSD: 118098.80 > 118073.20\u001b[0m\n",
      "\u001b[32m2025-08-02 12:16:48.972\u001b[0m | \u001b[1mINFO    \u001b[0m | \u001b[36msrc.core.trading_engine\u001b[0m:\u001b[36m_execute_buy_order\u001b[0m:\u001b[36m236\u001b[0m - \u001b[1mBUY: 0.168 Bitstamp:BTCUSD @ $118243.00 (sma_crossover)\u001b[0m\n",
      "\u001b[32m2025-08-02 12:16:48.980\u001b[0m | \u001b[1mINFO    \u001b[0m | \u001b[36msrc.strategies.sma_crossover\u001b[0m:\u001b[36m_generate_signal_for_symbol\u001b[0m:\u001b[36m113\u001b[0m - \u001b[1mDeath cross detected for Bitstamp:BTCUSD: 117905.80 < 117976.97\u001b[0m\n",
      "\u001b[32m2025-08-02 12:16:48.980\u001b[0m | \u001b[1mINFO    \u001b[0m | \u001b[36msrc.core.trading_engine\u001b[0m:\u001b[36m_execute_sell_order\u001b[0m:\u001b[36m274\u001b[0m - \u001b[1mSELL: 0.17 Bitstamp:BTCUSD @ $118144.00 | P&L: $-36.47 (-0.18%) (sma_crossover)\u001b[0m\n",
      "\u001b[32m2025-08-02 12:16:48.984\u001b[0m | \u001b[1mINFO    \u001b[0m | \u001b[36msrc.strategies.sma_crossover\u001b[0m:\u001b[36m_generate_signal_for_symbol\u001b[0m:\u001b[36m109\u001b[0m - \u001b[1mGolden cross detected for Bitstamp:BTCUSD: 118316.80 > 118284.57\u001b[0m\n",
      "\u001b[32m2025-08-02 12:16:48.985\u001b[0m | \u001b[1mINFO    \u001b[0m | \u001b[36msrc.core.trading_engine\u001b[0m:\u001b[36m_execute_buy_order\u001b[0m:\u001b[36m236\u001b[0m - \u001b[1mBUY: 0.168 Bitstamp:BTCUSD @ $118290.00 (sma_crossover)\u001b[0m\n",
      "\u001b[32m2025-08-02 12:16:48.985\u001b[0m | \u001b[1mINFO    \u001b[0m | \u001b[36msrc.strategies.sma_crossover\u001b[0m:\u001b[36m_generate_signal_for_symbol\u001b[0m:\u001b[36m113\u001b[0m - \u001b[1mDeath cross detected for Bitstamp:BTCUSD: 118103.40 < 118234.27\u001b[0m\n",
      "\u001b[32m2025-08-02 12:16:48.985\u001b[0m | \u001b[1mINFO    \u001b[0m | \u001b[36msrc.core.trading_engine\u001b[0m:\u001b[36m_execute_sell_order\u001b[0m:\u001b[36m274\u001b[0m - \u001b[1mSELL: 0.17 Bitstamp:BTCUSD @ $116767.00 | P&L: $-275.15 (-1.39%) (sma_crossover)\u001b[0m\n",
      "\u001b[32m2025-08-02 12:16:48.991\u001b[0m | \u001b[1mINFO    \u001b[0m | \u001b[36msrc.core.trading_engine\u001b[0m:\u001b[36m_generate_backtest_report\u001b[0m:\u001b[36m326\u001b[0m - \u001b[1m=== BACKTEST RESULTS ===\u001b[0m\n",
      "\u001b[32m2025-08-02 12:16:48.991\u001b[0m | \u001b[1mINFO    \u001b[0m | \u001b[36msrc.core.trading_engine\u001b[0m:\u001b[36m_generate_backtest_report\u001b[0m:\u001b[36m327\u001b[0m - \u001b[1mInitial Capital: $100,000.00\u001b[0m\n",
      "\u001b[32m2025-08-02 12:16:48.991\u001b[0m | \u001b[1mINFO    \u001b[0m | \u001b[36msrc.core.trading_engine\u001b[0m:\u001b[36m_generate_backtest_report\u001b[0m:\u001b[36m328\u001b[0m - \u001b[1mFinal Portfolio Value: $98,948.39\u001b[0m\n",
      "\u001b[32m2025-08-02 12:16:48.991\u001b[0m | \u001b[1mINFO    \u001b[0m | \u001b[36msrc.core.trading_engine\u001b[0m:\u001b[36m_generate_backtest_report\u001b[0m:\u001b[36m329\u001b[0m - \u001b[1mTotal Return: -1.05%\u001b[0m\n",
      "\u001b[32m2025-08-02 12:16:48.992\u001b[0m | \u001b[1mINFO    \u001b[0m | \u001b[36msrc.core.trading_engine\u001b[0m:\u001b[36m_generate_backtest_report\u001b[0m:\u001b[36m330\u001b[0m - \u001b[1mAnnualized Volatility: 1.16%\u001b[0m\n",
      "\u001b[32m2025-08-02 12:16:48.993\u001b[0m | \u001b[1mINFO    \u001b[0m | \u001b[36msrc.core.trading_engine\u001b[0m:\u001b[36m_generate_backtest_report\u001b[0m:\u001b[36m331\u001b[0m - \u001b[1mSharpe Ratio: -2.31\u001b[0m\n",
      "\u001b[32m2025-08-02 12:16:48.993\u001b[0m | \u001b[1mINFO    \u001b[0m | \u001b[36msrc.core.trading_engine\u001b[0m:\u001b[36m_generate_backtest_report\u001b[0m:\u001b[36m332\u001b[0m - \u001b[1mMaximum Drawdown: -1.14%\u001b[0m\n",
      "\u001b[32m2025-08-02 12:16:48.994\u001b[0m | \u001b[1mINFO    \u001b[0m | \u001b[36msrc.core.trading_engine\u001b[0m:\u001b[36m_generate_backtest_report\u001b[0m:\u001b[36m333\u001b[0m - \u001b[1mTotal Trades: 6\u001b[0m\n",
      "\u001b[32m2025-08-02 12:16:48.994\u001b[0m | \u001b[1mINFO    \u001b[0m | \u001b[36msrc.core.trading_engine\u001b[0m:\u001b[36m_generate_backtest_report\u001b[0m:\u001b[36m334\u001b[0m - \u001b[1mBuy Trades: 3\u001b[0m\n",
      "\u001b[32m2025-08-02 12:16:48.994\u001b[0m | \u001b[1mINFO    \u001b[0m | \u001b[36msrc.core.trading_engine\u001b[0m:\u001b[36m_generate_backtest_report\u001b[0m:\u001b[36m335\u001b[0m - \u001b[1mSell Trades: 3\u001b[0m\n",
      "\u001b[32m2025-08-02 12:16:48.999\u001b[0m | \u001b[1mINFO    \u001b[0m | \u001b[36msrc.core.trading_engine\u001b[0m:\u001b[36m_generate_backtest_report\u001b[0m:\u001b[36m343\u001b[0m - \u001b[1mBacktest results saved to data/backtest_results.csv\u001b[0m\n",
      "\u001b[32m2025-08-02 12:16:49.001\u001b[0m | \u001b[1mINFO    \u001b[0m | \u001b[36msrc.core.trading_engine\u001b[0m:\u001b[36m_generate_backtest_report\u001b[0m:\u001b[36m360\u001b[0m - \u001b[1mTrade details saved to data/trades.csv\u001b[0m\n"
     ]
    }
   ],
   "source": [
    "# Cell 5: Chạy backtest\n",
    "print(\"Bắt đầu chạy backtest...\")\n",
    "\n",
    "# Chạy chiến lược\n",
    "print('SMA Crossover:', engine.config.get('strategies.sma_crossover.enabled', False))\n",
    "print('RSI:', engine.config.get('strategies.rsi.enabled', False))\n",
    "print('MACD:', engine.config.get('strategies.macd.enabled', False), '\\n')\n",
    "\n",
    "# Chạy backtest với chiến lược đã chọn\n",
    "engine.run_backtest(start_date, end_date)"
   ]
  },
  {
   "cell_type": "code",
   "execution_count": 7,
   "id": "d69ad71f",
   "metadata": {},
   "outputs": [
    {
     "name": "stdout",
     "output_type": "stream",
     "text": [
      "=== KẾT QUẢ BACKTEST ===\n",
      "Initial Capital: $100,000.00\n",
      "Final Portfolio Value: $98,948.39\n",
      "Total Return: -1.05%\n",
      "Annualized Return: -2.66%\n",
      "Sharpe Ratio: -2.31\n",
      "Max Drawdown: -1.14%\n",
      "Win Rate: 0.00%\n",
      "Total Trades: 6\n"
     ]
    }
   ],
   "source": [
    "# Cell 6: Lấy kết quả backtest\n",
    "portfolio_summary = engine.get_portfolio_summary()\n",
    "\n",
    "print(\"=== KẾT QUẢ BACKTEST ===\")\n",
    "print(f\"Initial Capital: ${portfolio_summary['initial_capital']:,.2f}\")\n",
    "print(f\"Final Portfolio Value: ${portfolio_summary['total_value']:,.2f}\")\n",
    "print(f\"Total Return: {portfolio_summary['total_return']:.2%}\")\n",
    "print(f\"Annualized Return: {portfolio_summary['annualized_return']:.2%}\")\n",
    "print(f\"Sharpe Ratio: {portfolio_summary['sharpe_ratio']:.2f}\")\n",
    "print(f\"Max Drawdown: {portfolio_summary['max_drawdown']:.2%}\")\n",
    "print(f\"Win Rate: {portfolio_summary['win_rate']:.2%}\")\n",
    "print(f\"Total Trades: {portfolio_summary['total_trades']}\")"
   ]
  },
  {
   "cell_type": "code",
   "execution_count": 8,
   "id": "4bb7ce37",
   "metadata": {},
   "outputs": [
    {
     "data": {
      "application/vnd.plotly.v1+json": {
       "config": {
        "plotlyServerURL": "https://plot.ly"
       },
       "data": [
        {
         "mode": "lines",
         "name": "Portfolio Value",
         "type": "scatter",
         "x": [
          "2025-07-16T23:00:00.000000000",
          "2025-07-17T03:00:00.000000000",
          "2025-07-17T07:00:00.000000000",
          "2025-07-17T11:00:00.000000000",
          "2025-07-17T15:00:00.000000000",
          "2025-07-17T19:00:00.000000000",
          "2025-07-17T23:00:00.000000000",
          "2025-07-18T03:00:00.000000000",
          "2025-07-18T07:00:00.000000000",
          "2025-07-18T11:00:00.000000000",
          "2025-07-18T15:00:00.000000000",
          "2025-07-18T19:00:00.000000000",
          "2025-07-18T23:00:00.000000000",
          "2025-07-19T03:00:00.000000000",
          "2025-07-19T07:00:00.000000000",
          "2025-07-19T11:00:00.000000000",
          "2025-07-19T15:00:00.000000000",
          "2025-07-19T19:00:00.000000000",
          "2025-07-19T23:00:00.000000000",
          "2025-07-20T03:00:00.000000000",
          "2025-07-20T07:00:00.000000000",
          "2025-07-20T11:00:00.000000000",
          "2025-07-20T15:00:00.000000000",
          "2025-07-20T19:00:00.000000000",
          "2025-07-20T23:00:00.000000000",
          "2025-07-21T03:00:00.000000000",
          "2025-07-21T07:00:00.000000000",
          "2025-07-21T11:00:00.000000000",
          "2025-07-21T15:00:00.000000000",
          "2025-07-21T19:00:00.000000000",
          "2025-07-21T23:00:00.000000000",
          "2025-07-22T03:00:00.000000000",
          "2025-07-22T07:00:00.000000000",
          "2025-07-22T11:00:00.000000000",
          "2025-07-22T15:00:00.000000000",
          "2025-07-22T19:00:00.000000000",
          "2025-07-22T23:00:00.000000000",
          "2025-07-23T03:00:00.000000000",
          "2025-07-23T07:00:00.000000000",
          "2025-07-23T11:00:00.000000000",
          "2025-07-23T15:00:00.000000000",
          "2025-07-23T19:00:00.000000000",
          "2025-07-23T23:00:00.000000000",
          "2025-07-24T03:00:00.000000000",
          "2025-07-24T07:00:00.000000000",
          "2025-07-24T11:00:00.000000000",
          "2025-07-24T15:00:00.000000000",
          "2025-07-24T19:00:00.000000000",
          "2025-07-24T23:00:00.000000000",
          "2025-07-25T03:00:00.000000000",
          "2025-07-25T07:00:00.000000000",
          "2025-07-25T11:00:00.000000000",
          "2025-07-25T15:00:00.000000000",
          "2025-07-25T19:00:00.000000000",
          "2025-07-25T23:00:00.000000000",
          "2025-07-26T03:00:00.000000000",
          "2025-07-26T07:00:00.000000000",
          "2025-07-26T11:00:00.000000000",
          "2025-07-26T15:00:00.000000000",
          "2025-07-26T19:00:00.000000000",
          "2025-07-26T23:00:00.000000000",
          "2025-07-27T03:00:00.000000000",
          "2025-07-27T07:00:00.000000000",
          "2025-07-27T11:00:00.000000000",
          "2025-07-27T15:00:00.000000000",
          "2025-07-27T19:00:00.000000000",
          "2025-07-27T23:00:00.000000000",
          "2025-07-28T03:00:00.000000000",
          "2025-07-28T07:00:00.000000000",
          "2025-07-28T11:00:00.000000000",
          "2025-07-28T15:00:00.000000000",
          "2025-07-28T19:00:00.000000000",
          "2025-07-28T23:00:00.000000000",
          "2025-07-29T03:00:00.000000000",
          "2025-07-29T07:00:00.000000000",
          "2025-07-29T11:00:00.000000000",
          "2025-07-29T15:00:00.000000000",
          "2025-07-29T19:00:00.000000000",
          "2025-07-29T23:00:00.000000000",
          "2025-07-30T03:00:00.000000000",
          "2025-07-30T07:00:00.000000000",
          "2025-07-30T11:00:00.000000000",
          "2025-07-30T15:00:00.000000000",
          "2025-07-30T19:00:00.000000000",
          "2025-07-30T23:00:00.000000000",
          "2025-07-31T03:00:00.000000000",
          "2025-07-31T07:00:00.000000000",
          "2025-07-31T11:00:00.000000000",
          "2025-07-31T15:00:00.000000000",
          "2025-07-31T19:00:00.000000000",
          "2025-07-31T23:00:00.000000000",
          "2025-08-01T03:00:00.000000000",
          "2025-08-01T07:00:00.000000000",
          "2025-08-01T11:00:00.000000000",
          "2025-08-01T15:00:00.000000000",
          "2025-08-01T19:00:00.000000000",
          "2025-08-01T23:00:00.000000000",
          "2025-08-02T03:00:00.000000000",
          "2025-08-02T07:00:00.000000000",
          "2025-08-02T11:00:00.000000000"
         ],
         "xaxis": "x",
         "y": {
          "bdata": "AAAAAABq+EAAAAAAAGr4QAAAAAAAavhAAAAAAABq+EAAAAAAAGr4QAAAAAAAavhAAAAAAABq+EAAAAAAAGr4QAAAAAAAavhAAAAAAABq+EAAAAAAAGr4QAAAAAAAavhAAAAAAABq+EAAAAAAAGr4QAAAAAAAavhAAAAAAABq+EAAAAAAAGr4QAAAAAAAavhAAAAAAABq+EAAAAAAAGr4QAAAAAAAavhAAAAAAABq+EAAAAAAAGr4QAAAAAAAavhAAAAAAABq+EAAAAAAAGr4QAAAAAAAavhAAAAAAABq+EAAAAAAAGr4QAAAAAAAavhAAAAAAABq+EAAAAAAAGr4QAAAAAAAavhAAAAAAABq+EAAAAAAAGr4QAAAAAAAavhAAAAAAMBo+EC4oYhxvG/4QC7LoDG+YfhArs4+XgJf+ECM8tek32D4QFYJUMx1YfhAOxiqDAVf+EAOcXY3MGP4QEB68u2ZYPhA+MTnVbNf+ECVWJkEnmH4QP0f9N2/ZvhAQzaRs3Bl+EDYjiq4Tl74QLiEV247PvhAuIRXbjs++EC4hFduOz74QLiEV247PvhAuIRXbjs++EC4hFduOz74QLiEV247PvhAuIRXbjs++EC4hFduOz74QLiEV247PvhAuIRXbjs++EC4hFduOz74QIELBKz9PPhAF+9CXyk8+EAfbWkg3jv4QJXPR+wCQfhAKhiWfAVF+EApfaVZ3En4QNj1ljAWSPhASPXwoOhD+EBaHqdDN0P4QJZhI28xPPhAsixUUx87+EC2a+ez+Tr4QPdkzdcnQvhASQcb4d1D+EAiGiH+iUD4QG7rxS4cNPhAVnFS6/00+EBaHgrJqTn4QF5x3SG2OvhAXnHdIbY6+EBecd0htjr4QF5x3SG2OvhAXnHdIbY6+EBecd0htjr4QF5x3SG2OvhAXnHdIbY6+EBecd0htjr4QN94r414OfhAFLtGMUYo+EAUu0YxRij4QBS7RjFGKPhAFLtGMUYo+EAUu0YxRij4QBS7RjFGKPhAFLtGMUYo+EAUu0YxRij4QBS7RjFGKPhAFLtGMUYo+EA=",
          "dtype": "f8"
         },
         "yaxis": "y"
        },
        {
         "mode": "lines",
         "name": "Daily Returns",
         "type": "scatter",
         "x": [
          "2025-07-16T23:00:00.000000000",
          "2025-07-17T03:00:00.000000000",
          "2025-07-17T07:00:00.000000000",
          "2025-07-17T11:00:00.000000000",
          "2025-07-17T15:00:00.000000000",
          "2025-07-17T19:00:00.000000000",
          "2025-07-17T23:00:00.000000000",
          "2025-07-18T03:00:00.000000000",
          "2025-07-18T07:00:00.000000000",
          "2025-07-18T11:00:00.000000000",
          "2025-07-18T15:00:00.000000000",
          "2025-07-18T19:00:00.000000000",
          "2025-07-18T23:00:00.000000000",
          "2025-07-19T03:00:00.000000000",
          "2025-07-19T07:00:00.000000000",
          "2025-07-19T11:00:00.000000000",
          "2025-07-19T15:00:00.000000000",
          "2025-07-19T19:00:00.000000000",
          "2025-07-19T23:00:00.000000000",
          "2025-07-20T03:00:00.000000000",
          "2025-07-20T07:00:00.000000000",
          "2025-07-20T11:00:00.000000000",
          "2025-07-20T15:00:00.000000000",
          "2025-07-20T19:00:00.000000000",
          "2025-07-20T23:00:00.000000000",
          "2025-07-21T03:00:00.000000000",
          "2025-07-21T07:00:00.000000000",
          "2025-07-21T11:00:00.000000000",
          "2025-07-21T15:00:00.000000000",
          "2025-07-21T19:00:00.000000000",
          "2025-07-21T23:00:00.000000000",
          "2025-07-22T03:00:00.000000000",
          "2025-07-22T07:00:00.000000000",
          "2025-07-22T11:00:00.000000000",
          "2025-07-22T15:00:00.000000000",
          "2025-07-22T19:00:00.000000000",
          "2025-07-22T23:00:00.000000000",
          "2025-07-23T03:00:00.000000000",
          "2025-07-23T07:00:00.000000000",
          "2025-07-23T11:00:00.000000000",
          "2025-07-23T15:00:00.000000000",
          "2025-07-23T19:00:00.000000000",
          "2025-07-23T23:00:00.000000000",
          "2025-07-24T03:00:00.000000000",
          "2025-07-24T07:00:00.000000000",
          "2025-07-24T11:00:00.000000000",
          "2025-07-24T15:00:00.000000000",
          "2025-07-24T19:00:00.000000000",
          "2025-07-24T23:00:00.000000000",
          "2025-07-25T03:00:00.000000000",
          "2025-07-25T07:00:00.000000000",
          "2025-07-25T11:00:00.000000000",
          "2025-07-25T15:00:00.000000000",
          "2025-07-25T19:00:00.000000000",
          "2025-07-25T23:00:00.000000000",
          "2025-07-26T03:00:00.000000000",
          "2025-07-26T07:00:00.000000000",
          "2025-07-26T11:00:00.000000000",
          "2025-07-26T15:00:00.000000000",
          "2025-07-26T19:00:00.000000000",
          "2025-07-26T23:00:00.000000000",
          "2025-07-27T03:00:00.000000000",
          "2025-07-27T07:00:00.000000000",
          "2025-07-27T11:00:00.000000000",
          "2025-07-27T15:00:00.000000000",
          "2025-07-27T19:00:00.000000000",
          "2025-07-27T23:00:00.000000000",
          "2025-07-28T03:00:00.000000000",
          "2025-07-28T07:00:00.000000000",
          "2025-07-28T11:00:00.000000000",
          "2025-07-28T15:00:00.000000000",
          "2025-07-28T19:00:00.000000000",
          "2025-07-28T23:00:00.000000000",
          "2025-07-29T03:00:00.000000000",
          "2025-07-29T07:00:00.000000000",
          "2025-07-29T11:00:00.000000000",
          "2025-07-29T15:00:00.000000000",
          "2025-07-29T19:00:00.000000000",
          "2025-07-29T23:00:00.000000000",
          "2025-07-30T03:00:00.000000000",
          "2025-07-30T07:00:00.000000000",
          "2025-07-30T11:00:00.000000000",
          "2025-07-30T15:00:00.000000000",
          "2025-07-30T19:00:00.000000000",
          "2025-07-30T23:00:00.000000000",
          "2025-07-31T03:00:00.000000000",
          "2025-07-31T07:00:00.000000000",
          "2025-07-31T11:00:00.000000000",
          "2025-07-31T15:00:00.000000000",
          "2025-07-31T19:00:00.000000000",
          "2025-07-31T23:00:00.000000000",
          "2025-08-01T03:00:00.000000000",
          "2025-08-01T07:00:00.000000000",
          "2025-08-01T11:00:00.000000000",
          "2025-08-01T15:00:00.000000000",
          "2025-08-01T19:00:00.000000000",
          "2025-08-01T23:00:00.000000000",
          "2025-08-02T03:00:00.000000000",
          "2025-08-02T07:00:00.000000000",
          "2025-08-02T11:00:00.000000000"
         ],
         "xaxis": "x2",
         "y": {
          "bdata": "AAAAAAAA+H8AAAAAAAAAAAAAAAAAAAAAAAAAAAAAAAAAAAAAAAAAAAAAAAAAAAAAAAAAAAAAAAAAAAAAAAAAAAAAAAAAAAAAAAAAAAAAAAAAAAAAAAAAAAAAAAAAAAAAAAAAAAAAAAAAAAAAAAAAAAAAAAAAAAAAAAAAAAAAAAAAAAAAAAAAAAAAAAAAAAAAAAAAAAAAAAAAAAAAAAAAAAAAAAAAAAAAAAAAAAAAAAAAAAAAAAAAAAAAAAAAAAAAAAAAAAAAAAAAAAAAAAAAAAAAAAAAAAAAAAAAAAAAAAAAAAAAAAAAAAAAAAAAAAAAAAAAAAAAAAAAAAAAAAAAAAAAAAAAAAAAAAAAAAAAAAAAAAAAAAAAAAAAAAAAAAAAAEAc6+I2Kr8A6PAyPFFSPwDTU1sFU2K/AAjmeemzPL8AgIVYapUzPwCAMechoxg/AFBKb+2fOb8AKDxZ4ORFPwBoR0YpKDu/ACBYIjDrIr8A8LCwqyE0PwAgn6ya8Uo/ADA2ypZ4K78A/H10MrZSvwBFK65vD3W/AAAAAAAAAAAAAAAAAAAAAAAAAAAAAAAAAAAAAAAAAAAAAAAAAAAAAAAAAAAAAAAAAAAAAAAAAAAAAAAAAAAAAAAAAAAAAAAAAAAAAAAAAAAAAAAAAAAAAAAwHOviNiq/ABCikouEIb8AAOOir9YIvwA4rHQkK0s/AMBQK64pRT8AuMTw3oVJPwAYWfvUsjK/AMy1kiwGRr8AQCzK0TwdvwBc1glVhlK/AHAUt+qeJr8AgNlawNf4vgDELJMa91I/AHAKEp0OMj8AZMjZwY1BvwDS2QNQZmC/AGBVLjanIj8AuJvDabNIPwDAZLiBJyY/AAAAAAAAAAAAAAAAAAAAAAAAAAAAAAAAAAAAAAAAAAAAAAAAAAAAAAAAAAAAAAAAAAAAAAAAAAAAAAAAAAAAAABAHOviNiq/AGbB0mq3Zr8AAAAAAAAAAAAAAAAAAAAAAAAAAAAAAAAAAAAAAAAAAAAAAAAAAAAAAAAAAAAAAAAAAAAAAAAAAAAAAAAAAAAAAAAAAAAAAAA=",
          "dtype": "f8"
         },
         "yaxis": "y2"
        },
        {
         "mode": "lines",
         "name": "Cumulative Returns",
         "type": "scatter",
         "x": [
          "2025-07-16T23:00:00.000000000",
          "2025-07-17T03:00:00.000000000",
          "2025-07-17T07:00:00.000000000",
          "2025-07-17T11:00:00.000000000",
          "2025-07-17T15:00:00.000000000",
          "2025-07-17T19:00:00.000000000",
          "2025-07-17T23:00:00.000000000",
          "2025-07-18T03:00:00.000000000",
          "2025-07-18T07:00:00.000000000",
          "2025-07-18T11:00:00.000000000",
          "2025-07-18T15:00:00.000000000",
          "2025-07-18T19:00:00.000000000",
          "2025-07-18T23:00:00.000000000",
          "2025-07-19T03:00:00.000000000",
          "2025-07-19T07:00:00.000000000",
          "2025-07-19T11:00:00.000000000",
          "2025-07-19T15:00:00.000000000",
          "2025-07-19T19:00:00.000000000",
          "2025-07-19T23:00:00.000000000",
          "2025-07-20T03:00:00.000000000",
          "2025-07-20T07:00:00.000000000",
          "2025-07-20T11:00:00.000000000",
          "2025-07-20T15:00:00.000000000",
          "2025-07-20T19:00:00.000000000",
          "2025-07-20T23:00:00.000000000",
          "2025-07-21T03:00:00.000000000",
          "2025-07-21T07:00:00.000000000",
          "2025-07-21T11:00:00.000000000",
          "2025-07-21T15:00:00.000000000",
          "2025-07-21T19:00:00.000000000",
          "2025-07-21T23:00:00.000000000",
          "2025-07-22T03:00:00.000000000",
          "2025-07-22T07:00:00.000000000",
          "2025-07-22T11:00:00.000000000",
          "2025-07-22T15:00:00.000000000",
          "2025-07-22T19:00:00.000000000",
          "2025-07-22T23:00:00.000000000",
          "2025-07-23T03:00:00.000000000",
          "2025-07-23T07:00:00.000000000",
          "2025-07-23T11:00:00.000000000",
          "2025-07-23T15:00:00.000000000",
          "2025-07-23T19:00:00.000000000",
          "2025-07-23T23:00:00.000000000",
          "2025-07-24T03:00:00.000000000",
          "2025-07-24T07:00:00.000000000",
          "2025-07-24T11:00:00.000000000",
          "2025-07-24T15:00:00.000000000",
          "2025-07-24T19:00:00.000000000",
          "2025-07-24T23:00:00.000000000",
          "2025-07-25T03:00:00.000000000",
          "2025-07-25T07:00:00.000000000",
          "2025-07-25T11:00:00.000000000",
          "2025-07-25T15:00:00.000000000",
          "2025-07-25T19:00:00.000000000",
          "2025-07-25T23:00:00.000000000",
          "2025-07-26T03:00:00.000000000",
          "2025-07-26T07:00:00.000000000",
          "2025-07-26T11:00:00.000000000",
          "2025-07-26T15:00:00.000000000",
          "2025-07-26T19:00:00.000000000",
          "2025-07-26T23:00:00.000000000",
          "2025-07-27T03:00:00.000000000",
          "2025-07-27T07:00:00.000000000",
          "2025-07-27T11:00:00.000000000",
          "2025-07-27T15:00:00.000000000",
          "2025-07-27T19:00:00.000000000",
          "2025-07-27T23:00:00.000000000",
          "2025-07-28T03:00:00.000000000",
          "2025-07-28T07:00:00.000000000",
          "2025-07-28T11:00:00.000000000",
          "2025-07-28T15:00:00.000000000",
          "2025-07-28T19:00:00.000000000",
          "2025-07-28T23:00:00.000000000",
          "2025-07-29T03:00:00.000000000",
          "2025-07-29T07:00:00.000000000",
          "2025-07-29T11:00:00.000000000",
          "2025-07-29T15:00:00.000000000",
          "2025-07-29T19:00:00.000000000",
          "2025-07-29T23:00:00.000000000",
          "2025-07-30T03:00:00.000000000",
          "2025-07-30T07:00:00.000000000",
          "2025-07-30T11:00:00.000000000",
          "2025-07-30T15:00:00.000000000",
          "2025-07-30T19:00:00.000000000",
          "2025-07-30T23:00:00.000000000",
          "2025-07-31T03:00:00.000000000",
          "2025-07-31T07:00:00.000000000",
          "2025-07-31T11:00:00.000000000",
          "2025-07-31T15:00:00.000000000",
          "2025-07-31T19:00:00.000000000",
          "2025-07-31T23:00:00.000000000",
          "2025-08-01T03:00:00.000000000",
          "2025-08-01T07:00:00.000000000",
          "2025-08-01T11:00:00.000000000",
          "2025-08-01T15:00:00.000000000",
          "2025-08-01T19:00:00.000000000",
          "2025-08-01T23:00:00.000000000",
          "2025-08-02T03:00:00.000000000",
          "2025-08-02T07:00:00.000000000",
          "2025-08-02T11:00:00.000000000"
         ],
         "xaxis": "x3",
         "y": {
          "bdata": "AAAAAAAA+H8AAAAAAADwPwAAAAAAAPA/AAAAAAAA8D8AAAAAAADwPwAAAAAAAPA/AAAAAAAA8D8AAAAAAADwPwAAAAAAAPA/AAAAAAAA8D8AAAAAAADwPwAAAAAAAPA/AAAAAAAA8D8AAAAAAADwPwAAAAAAAPA/AAAAAAAA8D8AAAAAAADwPwAAAAAAAPA/AAAAAAAA8D8AAAAAAADwPwAAAAAAAPA/AAAAAAAA8D8AAAAAAADwPwAAAAAAAPA/AAAAAAAA8D8AAAAAAADwPwAAAAAAAPA/AAAAAAAA8D8AAAAAAADwPwAAAAAAAPA/AAAAAAAA8D8AAAAAAADwPwAAAAAAAPA/AAAAAAAA8D8AAAAAAADwPwAAAAAAAPA/PE7RkVz+7z/Ls+9bwgPwP/smW2Qt9e8/7RHQHZjx7z9q5vywCfTvP2xrXoDO9O8/4BiEoZvx7z+b5WZjEvfvP80xtFCu8+8/Z9w5EoDy7z+f0+o3A/XvP3AfgE69++8/HruY/wX67z+CQLKlrPDvP8ONhfKhxu8/w42F8qHG7z/DjYXyocbvP8ONhfKhxu8/w42F8qHG7z/DjYXyocbvP8ONhfKhxu8/w42F8qHG7z/DjYXyocbvP8ONhfKhxu8/w42F8qHG7z/DjYXyocbvP3/jQ3QBxe8/JBJEMOvD7z+PSRCQiMPvP71/moNGyu8/Gmc4DYjP7z/UH9ba39XvP3W35pOM0+8/DIK9rhLO7z8a4B41Ks3vP8YwbsH1w+8/OR/WeY7C7z/vOrwpXcLvP3CDP3PGy+8/ia7alwTO7z87tCICqMnvP8Uk3otdue8/g355bIW67z8w6YvepMDvPyyB2ZgEwu8/LIHZmATC7z8sgdmYBMLvPyyB2ZgEwu8/LIHZmATC7z8sgdmYBMLvPyyB2ZgEwu8/LIHZmATC7z8sgdmYBMLvP6wIFFdkwO8/E+7bE9qp7z8T7tsT2qnvPxPu2xPaqe8/E+7bE9qp7z8T7tsT2qnvPxPu2xPaqe8/E+7bE9qp7z8T7tsT2qnvPxPu2xPaqe8/E+7bE9qp7z8=",
          "dtype": "f8"
         },
         "yaxis": "y3"
        },
        {
         "fill": "tonexty",
         "mode": "lines",
         "name": "Drawdown",
         "type": "scatter",
         "x": [
          "2025-07-16T23:00:00.000000000",
          "2025-07-17T03:00:00.000000000",
          "2025-07-17T07:00:00.000000000",
          "2025-07-17T11:00:00.000000000",
          "2025-07-17T15:00:00.000000000",
          "2025-07-17T19:00:00.000000000",
          "2025-07-17T23:00:00.000000000",
          "2025-07-18T03:00:00.000000000",
          "2025-07-18T07:00:00.000000000",
          "2025-07-18T11:00:00.000000000",
          "2025-07-18T15:00:00.000000000",
          "2025-07-18T19:00:00.000000000",
          "2025-07-18T23:00:00.000000000",
          "2025-07-19T03:00:00.000000000",
          "2025-07-19T07:00:00.000000000",
          "2025-07-19T11:00:00.000000000",
          "2025-07-19T15:00:00.000000000",
          "2025-07-19T19:00:00.000000000",
          "2025-07-19T23:00:00.000000000",
          "2025-07-20T03:00:00.000000000",
          "2025-07-20T07:00:00.000000000",
          "2025-07-20T11:00:00.000000000",
          "2025-07-20T15:00:00.000000000",
          "2025-07-20T19:00:00.000000000",
          "2025-07-20T23:00:00.000000000",
          "2025-07-21T03:00:00.000000000",
          "2025-07-21T07:00:00.000000000",
          "2025-07-21T11:00:00.000000000",
          "2025-07-21T15:00:00.000000000",
          "2025-07-21T19:00:00.000000000",
          "2025-07-21T23:00:00.000000000",
          "2025-07-22T03:00:00.000000000",
          "2025-07-22T07:00:00.000000000",
          "2025-07-22T11:00:00.000000000",
          "2025-07-22T15:00:00.000000000",
          "2025-07-22T19:00:00.000000000",
          "2025-07-22T23:00:00.000000000",
          "2025-07-23T03:00:00.000000000",
          "2025-07-23T07:00:00.000000000",
          "2025-07-23T11:00:00.000000000",
          "2025-07-23T15:00:00.000000000",
          "2025-07-23T19:00:00.000000000",
          "2025-07-23T23:00:00.000000000",
          "2025-07-24T03:00:00.000000000",
          "2025-07-24T07:00:00.000000000",
          "2025-07-24T11:00:00.000000000",
          "2025-07-24T15:00:00.000000000",
          "2025-07-24T19:00:00.000000000",
          "2025-07-24T23:00:00.000000000",
          "2025-07-25T03:00:00.000000000",
          "2025-07-25T07:00:00.000000000",
          "2025-07-25T11:00:00.000000000",
          "2025-07-25T15:00:00.000000000",
          "2025-07-25T19:00:00.000000000",
          "2025-07-25T23:00:00.000000000",
          "2025-07-26T03:00:00.000000000",
          "2025-07-26T07:00:00.000000000",
          "2025-07-26T11:00:00.000000000",
          "2025-07-26T15:00:00.000000000",
          "2025-07-26T19:00:00.000000000",
          "2025-07-26T23:00:00.000000000",
          "2025-07-27T03:00:00.000000000",
          "2025-07-27T07:00:00.000000000",
          "2025-07-27T11:00:00.000000000",
          "2025-07-27T15:00:00.000000000",
          "2025-07-27T19:00:00.000000000",
          "2025-07-27T23:00:00.000000000",
          "2025-07-28T03:00:00.000000000",
          "2025-07-28T07:00:00.000000000",
          "2025-07-28T11:00:00.000000000",
          "2025-07-28T15:00:00.000000000",
          "2025-07-28T19:00:00.000000000",
          "2025-07-28T23:00:00.000000000",
          "2025-07-29T03:00:00.000000000",
          "2025-07-29T07:00:00.000000000",
          "2025-07-29T11:00:00.000000000",
          "2025-07-29T15:00:00.000000000",
          "2025-07-29T19:00:00.000000000",
          "2025-07-29T23:00:00.000000000",
          "2025-07-30T03:00:00.000000000",
          "2025-07-30T07:00:00.000000000",
          "2025-07-30T11:00:00.000000000",
          "2025-07-30T15:00:00.000000000",
          "2025-07-30T19:00:00.000000000",
          "2025-07-30T23:00:00.000000000",
          "2025-07-31T03:00:00.000000000",
          "2025-07-31T07:00:00.000000000",
          "2025-07-31T11:00:00.000000000",
          "2025-07-31T15:00:00.000000000",
          "2025-07-31T19:00:00.000000000",
          "2025-07-31T23:00:00.000000000",
          "2025-08-01T03:00:00.000000000",
          "2025-08-01T07:00:00.000000000",
          "2025-08-01T11:00:00.000000000",
          "2025-08-01T15:00:00.000000000",
          "2025-08-01T19:00:00.000000000",
          "2025-08-01T23:00:00.000000000",
          "2025-08-02T03:00:00.000000000",
          "2025-08-02T07:00:00.000000000",
          "2025-08-02T11:00:00.000000000"
         ],
         "xaxis": "x4",
         "y": {
          "bdata": "AAAAAAAAAAAAAAAAAAAAAAAAAAAAAAAAAAAAAAAAAAAAAAAAAAAAAAAAAAAAAAAAAAAAAAAAAAAAAAAAAAAAAAAAAAAAAAAAAAAAAAAAAAAAAAAAAAAAAAAAAAAAAAAAAAAAAAAAAAAAAAAAAAAAAAAAAAAAAAAAAAAAAAAAAAAAAAAAAAAAAAAAAAAAAAAAAAAAAAAAAAAAAAAAAAAAAAAAAAAAAAAAAAAAAAAAAAAAAAAAAAAAAAAAAAAAAAAAAAAAAAAAAAAAAAAAAAAAAAAAAAAAAAAAAAAAAAAAAAAAAAAAAAAAAAAAAAAAAAAAAAAAAAAAAAAAAAAAAAAAAAAAAAAAAAAAAAAAAAAAAAAAAAAAAAAAAAAAAAAAAAAALUMc6+I2Kr8AAAAAAAAAABnTU1sFU2K/Go43lXTnZb9kNJ5AdHZjv+Aj3hHTsWK/oNZhtPHjZb93Fx8oeG5gv//OUha/0WO/alUenrb/ZL/saFjlJ31iv4+vjxhLiVe/N4xEqRr3Wr/2fCZttdJmv7BcoY3iNIC/sFyhjeI0gL+wXKGN4jSAv7BcoY3iNIC/sFyhjeI0gL+wXKGN4jSAv7BcoY3iNIC/sFyhjeI0gL+wXKGN4jSAv7BcoY3iNIC/sFyhjeI0gL+wXKGN4jSAv0PuCa3pnIC/n52WWGrigL97Kd+bDPuAv5Uy0wTql36/vbYXIsP3e78s3ELomsx4v+KZLoL49Xm/bv48jUayfL8LAJMTaCZ9v9TXzqzG34C/1R5XfYM5gb/CZPue1EWBv6VeHkIf2H2/xbhRV1C5fL/AYTwmGOd+v0PfGec0hYO/rztAHU47g7/AQn+UzbOBv3VnIaXzW4G/dWchpfNbgb91ZyGl81uBv3VnIaXzW4G/dWchpfNbgb91ZyGl81uBv3VnIaXzW4G/dWchpfNbgb91ZyGl81uBvyw0Cqnrw4G/R6r81yllh79HqvzXKWWHv0eq/NcpZYe/R6r81yllh79HqvzXKWWHv0eq/NcpZYe/R6r81yllh79HqvzXKWWHv0eq/NcpZYe/R6r81yllh78=",
          "dtype": "f8"
         },
         "yaxis": "y4"
        },
        {
         "mode": "lines",
         "name": "Cash",
         "type": "scatter",
         "x": [
          "2025-07-16T23:00:00.000000000",
          "2025-07-17T03:00:00.000000000",
          "2025-07-17T07:00:00.000000000",
          "2025-07-17T11:00:00.000000000",
          "2025-07-17T15:00:00.000000000",
          "2025-07-17T19:00:00.000000000",
          "2025-07-17T23:00:00.000000000",
          "2025-07-18T03:00:00.000000000",
          "2025-07-18T07:00:00.000000000",
          "2025-07-18T11:00:00.000000000",
          "2025-07-18T15:00:00.000000000",
          "2025-07-18T19:00:00.000000000",
          "2025-07-18T23:00:00.000000000",
          "2025-07-19T03:00:00.000000000",
          "2025-07-19T07:00:00.000000000",
          "2025-07-19T11:00:00.000000000",
          "2025-07-19T15:00:00.000000000",
          "2025-07-19T19:00:00.000000000",
          "2025-07-19T23:00:00.000000000",
          "2025-07-20T03:00:00.000000000",
          "2025-07-20T07:00:00.000000000",
          "2025-07-20T11:00:00.000000000",
          "2025-07-20T15:00:00.000000000",
          "2025-07-20T19:00:00.000000000",
          "2025-07-20T23:00:00.000000000",
          "2025-07-21T03:00:00.000000000",
          "2025-07-21T07:00:00.000000000",
          "2025-07-21T11:00:00.000000000",
          "2025-07-21T15:00:00.000000000",
          "2025-07-21T19:00:00.000000000",
          "2025-07-21T23:00:00.000000000",
          "2025-07-22T03:00:00.000000000",
          "2025-07-22T07:00:00.000000000",
          "2025-07-22T11:00:00.000000000",
          "2025-07-22T15:00:00.000000000",
          "2025-07-22T19:00:00.000000000",
          "2025-07-22T23:00:00.000000000",
          "2025-07-23T03:00:00.000000000",
          "2025-07-23T07:00:00.000000000",
          "2025-07-23T11:00:00.000000000",
          "2025-07-23T15:00:00.000000000",
          "2025-07-23T19:00:00.000000000",
          "2025-07-23T23:00:00.000000000",
          "2025-07-24T03:00:00.000000000",
          "2025-07-24T07:00:00.000000000",
          "2025-07-24T11:00:00.000000000",
          "2025-07-24T15:00:00.000000000",
          "2025-07-24T19:00:00.000000000",
          "2025-07-24T23:00:00.000000000",
          "2025-07-25T03:00:00.000000000",
          "2025-07-25T07:00:00.000000000",
          "2025-07-25T11:00:00.000000000",
          "2025-07-25T15:00:00.000000000",
          "2025-07-25T19:00:00.000000000",
          "2025-07-25T23:00:00.000000000",
          "2025-07-26T03:00:00.000000000",
          "2025-07-26T07:00:00.000000000",
          "2025-07-26T11:00:00.000000000",
          "2025-07-26T15:00:00.000000000",
          "2025-07-26T19:00:00.000000000",
          "2025-07-26T23:00:00.000000000",
          "2025-07-27T03:00:00.000000000",
          "2025-07-27T07:00:00.000000000",
          "2025-07-27T11:00:00.000000000",
          "2025-07-27T15:00:00.000000000",
          "2025-07-27T19:00:00.000000000",
          "2025-07-27T23:00:00.000000000",
          "2025-07-28T03:00:00.000000000",
          "2025-07-28T07:00:00.000000000",
          "2025-07-28T11:00:00.000000000",
          "2025-07-28T15:00:00.000000000",
          "2025-07-28T19:00:00.000000000",
          "2025-07-28T23:00:00.000000000",
          "2025-07-29T03:00:00.000000000",
          "2025-07-29T07:00:00.000000000",
          "2025-07-29T11:00:00.000000000",
          "2025-07-29T15:00:00.000000000",
          "2025-07-29T19:00:00.000000000",
          "2025-07-29T23:00:00.000000000",
          "2025-07-30T03:00:00.000000000",
          "2025-07-30T07:00:00.000000000",
          "2025-07-30T11:00:00.000000000",
          "2025-07-30T15:00:00.000000000",
          "2025-07-30T19:00:00.000000000",
          "2025-07-30T23:00:00.000000000",
          "2025-07-31T03:00:00.000000000",
          "2025-07-31T07:00:00.000000000",
          "2025-07-31T11:00:00.000000000",
          "2025-07-31T15:00:00.000000000",
          "2025-07-31T19:00:00.000000000",
          "2025-07-31T23:00:00.000000000",
          "2025-08-01T03:00:00.000000000",
          "2025-08-01T07:00:00.000000000",
          "2025-08-01T11:00:00.000000000",
          "2025-08-01T15:00:00.000000000",
          "2025-08-01T19:00:00.000000000",
          "2025-08-01T23:00:00.000000000",
          "2025-08-02T03:00:00.000000000",
          "2025-08-02T07:00:00.000000000",
          "2025-08-02T11:00:00.000000000"
         ],
         "xaxis": "x5",
         "y": {
          "bdata": "AAAAAABq+EAAAAAAAGr4QAAAAAAAavhAAAAAAABq+EAAAAAAAGr4QAAAAAAAavhAAAAAAABq+EAAAAAAAGr4QAAAAAAAavhAAAAAAABq+EAAAAAAAGr4QAAAAAAAavhAAAAAAABq+EAAAAAAAGr4QAAAAAAAavhAAAAAAABq+EAAAAAAAGr4QAAAAAAAavhAAAAAAABq+EAAAAAAAGr4QAAAAAAAavhAAAAAAABq+EAAAAAAAGr4QAAAAAAAavhAAAAAAABq+EAAAAAAAGr4QAAAAAAAavhAAAAAAABq+EAAAAAAAGr4QAAAAAAAavhAAAAAAABq+EAAAAAAAGr4QAAAAAAAavhAAAAAAABq+EAAAAAAAGr4QAAAAAAAavhAAAAAAMCG80AAAAAAwIbzQAAAAADAhvNAAAAAAMCG80AAAAAAwIbzQAAAAADAhvNAAAAAAMCG80AAAAAAwIbzQAAAAADAhvNAAAAAAMCG80AAAAAAwIbzQAAAAADAhvNAAAAAAMCG80AAAAAAwIbzQLiEV247PvhAuIRXbjs++EC4hFduOz74QLiEV247PvhAuIRXbjs++EC4hFduOz74QLiEV247PvhAuIRXbjs++EC4hFduOz74QLiEV247PvhAuIRXbjs++EC4hFduOz74QI+K8pW+Y/NAj4rylb5j80CPivKVvmPzQI+K8pW+Y/NAj4rylb5j80CPivKVvmPzQI+K8pW+Y/NAj4rylb5j80CPivKVvmPzQI+K8pW+Y/NAj4rylb5j80CPivKVvmPzQI+K8pW+Y/NAj4rylb5j80CPivKVvmPzQI+K8pW+Y/NAj4rylb5j80CPivKVvmPzQF5x3SG2OvhAXnHdIbY6+EBecd0htjr4QF5x3SG2OvhAXnHdIbY6+EBecd0htjr4QF5x3SG2OvhAXnHdIbY6+EBecd0htjr4QJnIHLrtYPNAFLtGMUYo+EAUu0YxRij4QBS7RjFGKPhAFLtGMUYo+EAUu0YxRij4QBS7RjFGKPhAFLtGMUYo+EAUu0YxRij4QBS7RjFGKPhAFLtGMUYo+EA=",
          "dtype": "f8"
         },
         "yaxis": "y5"
        },
        {
         "mode": "lines",
         "name": "Positions",
         "type": "scatter",
         "x": [
          "2025-07-16T23:00:00.000000000",
          "2025-07-17T03:00:00.000000000",
          "2025-07-17T07:00:00.000000000",
          "2025-07-17T11:00:00.000000000",
          "2025-07-17T15:00:00.000000000",
          "2025-07-17T19:00:00.000000000",
          "2025-07-17T23:00:00.000000000",
          "2025-07-18T03:00:00.000000000",
          "2025-07-18T07:00:00.000000000",
          "2025-07-18T11:00:00.000000000",
          "2025-07-18T15:00:00.000000000",
          "2025-07-18T19:00:00.000000000",
          "2025-07-18T23:00:00.000000000",
          "2025-07-19T03:00:00.000000000",
          "2025-07-19T07:00:00.000000000",
          "2025-07-19T11:00:00.000000000",
          "2025-07-19T15:00:00.000000000",
          "2025-07-19T19:00:00.000000000",
          "2025-07-19T23:00:00.000000000",
          "2025-07-20T03:00:00.000000000",
          "2025-07-20T07:00:00.000000000",
          "2025-07-20T11:00:00.000000000",
          "2025-07-20T15:00:00.000000000",
          "2025-07-20T19:00:00.000000000",
          "2025-07-20T23:00:00.000000000",
          "2025-07-21T03:00:00.000000000",
          "2025-07-21T07:00:00.000000000",
          "2025-07-21T11:00:00.000000000",
          "2025-07-21T15:00:00.000000000",
          "2025-07-21T19:00:00.000000000",
          "2025-07-21T23:00:00.000000000",
          "2025-07-22T03:00:00.000000000",
          "2025-07-22T07:00:00.000000000",
          "2025-07-22T11:00:00.000000000",
          "2025-07-22T15:00:00.000000000",
          "2025-07-22T19:00:00.000000000",
          "2025-07-22T23:00:00.000000000",
          "2025-07-23T03:00:00.000000000",
          "2025-07-23T07:00:00.000000000",
          "2025-07-23T11:00:00.000000000",
          "2025-07-23T15:00:00.000000000",
          "2025-07-23T19:00:00.000000000",
          "2025-07-23T23:00:00.000000000",
          "2025-07-24T03:00:00.000000000",
          "2025-07-24T07:00:00.000000000",
          "2025-07-24T11:00:00.000000000",
          "2025-07-24T15:00:00.000000000",
          "2025-07-24T19:00:00.000000000",
          "2025-07-24T23:00:00.000000000",
          "2025-07-25T03:00:00.000000000",
          "2025-07-25T07:00:00.000000000",
          "2025-07-25T11:00:00.000000000",
          "2025-07-25T15:00:00.000000000",
          "2025-07-25T19:00:00.000000000",
          "2025-07-25T23:00:00.000000000",
          "2025-07-26T03:00:00.000000000",
          "2025-07-26T07:00:00.000000000",
          "2025-07-26T11:00:00.000000000",
          "2025-07-26T15:00:00.000000000",
          "2025-07-26T19:00:00.000000000",
          "2025-07-26T23:00:00.000000000",
          "2025-07-27T03:00:00.000000000",
          "2025-07-27T07:00:00.000000000",
          "2025-07-27T11:00:00.000000000",
          "2025-07-27T15:00:00.000000000",
          "2025-07-27T19:00:00.000000000",
          "2025-07-27T23:00:00.000000000",
          "2025-07-28T03:00:00.000000000",
          "2025-07-28T07:00:00.000000000",
          "2025-07-28T11:00:00.000000000",
          "2025-07-28T15:00:00.000000000",
          "2025-07-28T19:00:00.000000000",
          "2025-07-28T23:00:00.000000000",
          "2025-07-29T03:00:00.000000000",
          "2025-07-29T07:00:00.000000000",
          "2025-07-29T11:00:00.000000000",
          "2025-07-29T15:00:00.000000000",
          "2025-07-29T19:00:00.000000000",
          "2025-07-29T23:00:00.000000000",
          "2025-07-30T03:00:00.000000000",
          "2025-07-30T07:00:00.000000000",
          "2025-07-30T11:00:00.000000000",
          "2025-07-30T15:00:00.000000000",
          "2025-07-30T19:00:00.000000000",
          "2025-07-30T23:00:00.000000000",
          "2025-07-31T03:00:00.000000000",
          "2025-07-31T07:00:00.000000000",
          "2025-07-31T11:00:00.000000000",
          "2025-07-31T15:00:00.000000000",
          "2025-07-31T19:00:00.000000000",
          "2025-07-31T23:00:00.000000000",
          "2025-08-01T03:00:00.000000000",
          "2025-08-01T07:00:00.000000000",
          "2025-08-01T11:00:00.000000000",
          "2025-08-01T15:00:00.000000000",
          "2025-08-01T19:00:00.000000000",
          "2025-08-01T23:00:00.000000000",
          "2025-08-02T03:00:00.000000000",
          "2025-08-02T07:00:00.000000000",
          "2025-08-02T11:00:00.000000000"
         ],
         "xaxis": "x5",
         "y": {
          "bdata": "AAAAAAAAAAAAAAAAAAAAAAAAAAAAAAAAAAAAAAAAAAAAAAAAAAAAAAAAAAAAAAAAAAAAAAAAAAAAAAAAAAAAAAAAAAAAAAAAAAAAAAAAAAAAAAAAAAAAAAAAAAAAAAAAAAAAAAAAAAAAAAAAAAAAAAAAAAAAAAAAAAAAAAAAAAAAAAAAAAAAAAAAAAAAAAAAAAAAAAAAAAAAAAAAAAAAAAAAAAAAAAAAAAAAAAAAAAAAAAAAAAAAAAAAAAAAAAAAAAAAAAAAAAAAAAAAAAAAAAAAAAAAAAAAAAAAAAAAAAAAAAAAAAAAAAAAAAAAAAAAAAAAAAAAAAAAAAAAAAAAAAAAAAAAAAAAAAAAAAAAAAAAAAAAAAAAAAAAAAAAAAAAAAAAAACI00DghiLG8aPTQLgsg8b4a9NAuDr7eAlh00Awyl+TfmjTQFglQDHXatNA7GCoMhRh00A4xNndwHHTQADpybdnZ9NA4BOfV81j00BUYmUSeGvTQPR/0Hf/f9NADNlEzsJ600BgO6rgOl7TQAAAAAAAAAAAAAAAAAAAAAAAAAAAAAAAAAAAAAAAAAAAAAAAAAAAAAAAAAAAAAAAAAAAAAAAAAAAAAAAAAAAAAAAAAAAAAAAAAAAAAAAAAAAAAAAAAAAAAAAAAAAAAAAAMgDRlj8ZNNAIJJBJath00BAitspfmDTQBgUVVkRddNAbDaOmhuF00BoyssOd5jTQCStkWpekdNA5Kr5K6iA00AsT9K24n3TQBxcw2TLYdNAjIiG9YJd00CchNN37FzTQKBpaweledNA6PKhLH2A00BMPrqgLXPTQHyDTWN2QdNAHJt/Vf1E00AsT17MrFfTQAAAAAAAAAAAAAAAAAAAAAAAAAAAAAAAAAAAAAAAAAAAAAAAAAAAAAAAAAAAAAAAAAAAAAAAAAAAAAAAAAAAAAAAAAAAAAAAABjBSk4rYtNAAAAAAAAAAAAAAAAAAAAAAAAAAAAAAAAAAAAAAAAAAAAAAAAAAAAAAAAAAAAAAAAAAAAAAAAAAAAAAAAAAAAAAAAAAAAAAAAAAAAAAAAAAAA=",
          "dtype": "f8"
         },
         "yaxis": "y5"
        },
        {
         "name": "Trade Returns",
         "type": "histogram",
         "x": [
          0,
          -680.2855610671686,
          0,
          -36.47122822006713,
          0,
          -275.14756082666645
         ],
         "xaxis": "x6",
         "yaxis": "y6"
        }
       ],
       "layout": {
        "annotations": [
         {
          "font": {
           "size": 16
          },
          "showarrow": false,
          "text": "Portfolio Value",
          "x": 0.225,
          "xanchor": "center",
          "xref": "paper",
          "y": 1,
          "yanchor": "bottom",
          "yref": "paper"
         },
         {
          "font": {
           "size": 16
          },
          "showarrow": false,
          "text": "Daily Returns",
          "x": 0.775,
          "xanchor": "center",
          "xref": "paper",
          "y": 1,
          "yanchor": "bottom",
          "yref": "paper"
         },
         {
          "font": {
           "size": 16
          },
          "showarrow": false,
          "text": "Cumulative Returns",
          "x": 0.225,
          "xanchor": "center",
          "xref": "paper",
          "y": 0.6111111111111112,
          "yanchor": "bottom",
          "yref": "paper"
         },
         {
          "font": {
           "size": 16
          },
          "showarrow": false,
          "text": "Drawdown",
          "x": 0.775,
          "xanchor": "center",
          "xref": "paper",
          "y": 0.6111111111111112,
          "yanchor": "bottom",
          "yref": "paper"
         },
         {
          "font": {
           "size": 16
          },
          "showarrow": false,
          "text": "Cash vs Positions",
          "x": 0.225,
          "xanchor": "center",
          "xref": "paper",
          "y": 0.22222222222222224,
          "yanchor": "bottom",
          "yref": "paper"
         },
         {
          "font": {
           "size": 16
          },
          "showarrow": false,
          "text": "Trade Distribution",
          "x": 0.775,
          "xanchor": "center",
          "xref": "paper",
          "y": 0.22222222222222224,
          "yanchor": "bottom",
          "yref": "paper"
         }
        ],
        "height": 900,
        "template": {
         "data": {
          "bar": [
           {
            "error_x": {
             "color": "#2a3f5f"
            },
            "error_y": {
             "color": "#2a3f5f"
            },
            "marker": {
             "line": {
              "color": "#E5ECF6",
              "width": 0.5
             },
             "pattern": {
              "fillmode": "overlay",
              "size": 10,
              "solidity": 0.2
             }
            },
            "type": "bar"
           }
          ],
          "barpolar": [
           {
            "marker": {
             "line": {
              "color": "#E5ECF6",
              "width": 0.5
             },
             "pattern": {
              "fillmode": "overlay",
              "size": 10,
              "solidity": 0.2
             }
            },
            "type": "barpolar"
           }
          ],
          "carpet": [
           {
            "aaxis": {
             "endlinecolor": "#2a3f5f",
             "gridcolor": "white",
             "linecolor": "white",
             "minorgridcolor": "white",
             "startlinecolor": "#2a3f5f"
            },
            "baxis": {
             "endlinecolor": "#2a3f5f",
             "gridcolor": "white",
             "linecolor": "white",
             "minorgridcolor": "white",
             "startlinecolor": "#2a3f5f"
            },
            "type": "carpet"
           }
          ],
          "choropleth": [
           {
            "colorbar": {
             "outlinewidth": 0,
             "ticks": ""
            },
            "type": "choropleth"
           }
          ],
          "contour": [
           {
            "colorbar": {
             "outlinewidth": 0,
             "ticks": ""
            },
            "colorscale": [
             [
              0,
              "#0d0887"
             ],
             [
              0.1111111111111111,
              "#46039f"
             ],
             [
              0.2222222222222222,
              "#7201a8"
             ],
             [
              0.3333333333333333,
              "#9c179e"
             ],
             [
              0.4444444444444444,
              "#bd3786"
             ],
             [
              0.5555555555555556,
              "#d8576b"
             ],
             [
              0.6666666666666666,
              "#ed7953"
             ],
             [
              0.7777777777777778,
              "#fb9f3a"
             ],
             [
              0.8888888888888888,
              "#fdca26"
             ],
             [
              1,
              "#f0f921"
             ]
            ],
            "type": "contour"
           }
          ],
          "contourcarpet": [
           {
            "colorbar": {
             "outlinewidth": 0,
             "ticks": ""
            },
            "type": "contourcarpet"
           }
          ],
          "heatmap": [
           {
            "colorbar": {
             "outlinewidth": 0,
             "ticks": ""
            },
            "colorscale": [
             [
              0,
              "#0d0887"
             ],
             [
              0.1111111111111111,
              "#46039f"
             ],
             [
              0.2222222222222222,
              "#7201a8"
             ],
             [
              0.3333333333333333,
              "#9c179e"
             ],
             [
              0.4444444444444444,
              "#bd3786"
             ],
             [
              0.5555555555555556,
              "#d8576b"
             ],
             [
              0.6666666666666666,
              "#ed7953"
             ],
             [
              0.7777777777777778,
              "#fb9f3a"
             ],
             [
              0.8888888888888888,
              "#fdca26"
             ],
             [
              1,
              "#f0f921"
             ]
            ],
            "type": "heatmap"
           }
          ],
          "histogram": [
           {
            "marker": {
             "pattern": {
              "fillmode": "overlay",
              "size": 10,
              "solidity": 0.2
             }
            },
            "type": "histogram"
           }
          ],
          "histogram2d": [
           {
            "colorbar": {
             "outlinewidth": 0,
             "ticks": ""
            },
            "colorscale": [
             [
              0,
              "#0d0887"
             ],
             [
              0.1111111111111111,
              "#46039f"
             ],
             [
              0.2222222222222222,
              "#7201a8"
             ],
             [
              0.3333333333333333,
              "#9c179e"
             ],
             [
              0.4444444444444444,
              "#bd3786"
             ],
             [
              0.5555555555555556,
              "#d8576b"
             ],
             [
              0.6666666666666666,
              "#ed7953"
             ],
             [
              0.7777777777777778,
              "#fb9f3a"
             ],
             [
              0.8888888888888888,
              "#fdca26"
             ],
             [
              1,
              "#f0f921"
             ]
            ],
            "type": "histogram2d"
           }
          ],
          "histogram2dcontour": [
           {
            "colorbar": {
             "outlinewidth": 0,
             "ticks": ""
            },
            "colorscale": [
             [
              0,
              "#0d0887"
             ],
             [
              0.1111111111111111,
              "#46039f"
             ],
             [
              0.2222222222222222,
              "#7201a8"
             ],
             [
              0.3333333333333333,
              "#9c179e"
             ],
             [
              0.4444444444444444,
              "#bd3786"
             ],
             [
              0.5555555555555556,
              "#d8576b"
             ],
             [
              0.6666666666666666,
              "#ed7953"
             ],
             [
              0.7777777777777778,
              "#fb9f3a"
             ],
             [
              0.8888888888888888,
              "#fdca26"
             ],
             [
              1,
              "#f0f921"
             ]
            ],
            "type": "histogram2dcontour"
           }
          ],
          "mesh3d": [
           {
            "colorbar": {
             "outlinewidth": 0,
             "ticks": ""
            },
            "type": "mesh3d"
           }
          ],
          "parcoords": [
           {
            "line": {
             "colorbar": {
              "outlinewidth": 0,
              "ticks": ""
             }
            },
            "type": "parcoords"
           }
          ],
          "pie": [
           {
            "automargin": true,
            "type": "pie"
           }
          ],
          "scatter": [
           {
            "fillpattern": {
             "fillmode": "overlay",
             "size": 10,
             "solidity": 0.2
            },
            "type": "scatter"
           }
          ],
          "scatter3d": [
           {
            "line": {
             "colorbar": {
              "outlinewidth": 0,
              "ticks": ""
             }
            },
            "marker": {
             "colorbar": {
              "outlinewidth": 0,
              "ticks": ""
             }
            },
            "type": "scatter3d"
           }
          ],
          "scattercarpet": [
           {
            "marker": {
             "colorbar": {
              "outlinewidth": 0,
              "ticks": ""
             }
            },
            "type": "scattercarpet"
           }
          ],
          "scattergeo": [
           {
            "marker": {
             "colorbar": {
              "outlinewidth": 0,
              "ticks": ""
             }
            },
            "type": "scattergeo"
           }
          ],
          "scattergl": [
           {
            "marker": {
             "colorbar": {
              "outlinewidth": 0,
              "ticks": ""
             }
            },
            "type": "scattergl"
           }
          ],
          "scattermap": [
           {
            "marker": {
             "colorbar": {
              "outlinewidth": 0,
              "ticks": ""
             }
            },
            "type": "scattermap"
           }
          ],
          "scattermapbox": [
           {
            "marker": {
             "colorbar": {
              "outlinewidth": 0,
              "ticks": ""
             }
            },
            "type": "scattermapbox"
           }
          ],
          "scatterpolar": [
           {
            "marker": {
             "colorbar": {
              "outlinewidth": 0,
              "ticks": ""
             }
            },
            "type": "scatterpolar"
           }
          ],
          "scatterpolargl": [
           {
            "marker": {
             "colorbar": {
              "outlinewidth": 0,
              "ticks": ""
             }
            },
            "type": "scatterpolargl"
           }
          ],
          "scatterternary": [
           {
            "marker": {
             "colorbar": {
              "outlinewidth": 0,
              "ticks": ""
             }
            },
            "type": "scatterternary"
           }
          ],
          "surface": [
           {
            "colorbar": {
             "outlinewidth": 0,
             "ticks": ""
            },
            "colorscale": [
             [
              0,
              "#0d0887"
             ],
             [
              0.1111111111111111,
              "#46039f"
             ],
             [
              0.2222222222222222,
              "#7201a8"
             ],
             [
              0.3333333333333333,
              "#9c179e"
             ],
             [
              0.4444444444444444,
              "#bd3786"
             ],
             [
              0.5555555555555556,
              "#d8576b"
             ],
             [
              0.6666666666666666,
              "#ed7953"
             ],
             [
              0.7777777777777778,
              "#fb9f3a"
             ],
             [
              0.8888888888888888,
              "#fdca26"
             ],
             [
              1,
              "#f0f921"
             ]
            ],
            "type": "surface"
           }
          ],
          "table": [
           {
            "cells": {
             "fill": {
              "color": "#EBF0F8"
             },
             "line": {
              "color": "white"
             }
            },
            "header": {
             "fill": {
              "color": "#C8D4E3"
             },
             "line": {
              "color": "white"
             }
            },
            "type": "table"
           }
          ]
         },
         "layout": {
          "annotationdefaults": {
           "arrowcolor": "#2a3f5f",
           "arrowhead": 0,
           "arrowwidth": 1
          },
          "autotypenumbers": "strict",
          "coloraxis": {
           "colorbar": {
            "outlinewidth": 0,
            "ticks": ""
           }
          },
          "colorscale": {
           "diverging": [
            [
             0,
             "#8e0152"
            ],
            [
             0.1,
             "#c51b7d"
            ],
            [
             0.2,
             "#de77ae"
            ],
            [
             0.3,
             "#f1b6da"
            ],
            [
             0.4,
             "#fde0ef"
            ],
            [
             0.5,
             "#f7f7f7"
            ],
            [
             0.6,
             "#e6f5d0"
            ],
            [
             0.7,
             "#b8e186"
            ],
            [
             0.8,
             "#7fbc41"
            ],
            [
             0.9,
             "#4d9221"
            ],
            [
             1,
             "#276419"
            ]
           ],
           "sequential": [
            [
             0,
             "#0d0887"
            ],
            [
             0.1111111111111111,
             "#46039f"
            ],
            [
             0.2222222222222222,
             "#7201a8"
            ],
            [
             0.3333333333333333,
             "#9c179e"
            ],
            [
             0.4444444444444444,
             "#bd3786"
            ],
            [
             0.5555555555555556,
             "#d8576b"
            ],
            [
             0.6666666666666666,
             "#ed7953"
            ],
            [
             0.7777777777777778,
             "#fb9f3a"
            ],
            [
             0.8888888888888888,
             "#fdca26"
            ],
            [
             1,
             "#f0f921"
            ]
           ],
           "sequentialminus": [
            [
             0,
             "#0d0887"
            ],
            [
             0.1111111111111111,
             "#46039f"
            ],
            [
             0.2222222222222222,
             "#7201a8"
            ],
            [
             0.3333333333333333,
             "#9c179e"
            ],
            [
             0.4444444444444444,
             "#bd3786"
            ],
            [
             0.5555555555555556,
             "#d8576b"
            ],
            [
             0.6666666666666666,
             "#ed7953"
            ],
            [
             0.7777777777777778,
             "#fb9f3a"
            ],
            [
             0.8888888888888888,
             "#fdca26"
            ],
            [
             1,
             "#f0f921"
            ]
           ]
          },
          "colorway": [
           "#636efa",
           "#EF553B",
           "#00cc96",
           "#ab63fa",
           "#FFA15A",
           "#19d3f3",
           "#FF6692",
           "#B6E880",
           "#FF97FF",
           "#FECB52"
          ],
          "font": {
           "color": "#2a3f5f"
          },
          "geo": {
           "bgcolor": "white",
           "lakecolor": "white",
           "landcolor": "#E5ECF6",
           "showlakes": true,
           "showland": true,
           "subunitcolor": "white"
          },
          "hoverlabel": {
           "align": "left"
          },
          "hovermode": "closest",
          "mapbox": {
           "style": "light"
          },
          "paper_bgcolor": "white",
          "plot_bgcolor": "#E5ECF6",
          "polar": {
           "angularaxis": {
            "gridcolor": "white",
            "linecolor": "white",
            "ticks": ""
           },
           "bgcolor": "#E5ECF6",
           "radialaxis": {
            "gridcolor": "white",
            "linecolor": "white",
            "ticks": ""
           }
          },
          "scene": {
           "xaxis": {
            "backgroundcolor": "#E5ECF6",
            "gridcolor": "white",
            "gridwidth": 2,
            "linecolor": "white",
            "showbackground": true,
            "ticks": "",
            "zerolinecolor": "white"
           },
           "yaxis": {
            "backgroundcolor": "#E5ECF6",
            "gridcolor": "white",
            "gridwidth": 2,
            "linecolor": "white",
            "showbackground": true,
            "ticks": "",
            "zerolinecolor": "white"
           },
           "zaxis": {
            "backgroundcolor": "#E5ECF6",
            "gridcolor": "white",
            "gridwidth": 2,
            "linecolor": "white",
            "showbackground": true,
            "ticks": "",
            "zerolinecolor": "white"
           }
          },
          "shapedefaults": {
           "line": {
            "color": "#2a3f5f"
           }
          },
          "ternary": {
           "aaxis": {
            "gridcolor": "white",
            "linecolor": "white",
            "ticks": ""
           },
           "baxis": {
            "gridcolor": "white",
            "linecolor": "white",
            "ticks": ""
           },
           "bgcolor": "#E5ECF6",
           "caxis": {
            "gridcolor": "white",
            "linecolor": "white",
            "ticks": ""
           }
          },
          "title": {
           "x": 0.05
          },
          "xaxis": {
           "automargin": true,
           "gridcolor": "white",
           "linecolor": "white",
           "ticks": "",
           "title": {
            "standoff": 15
           },
           "zerolinecolor": "white",
           "zerolinewidth": 2
          },
          "yaxis": {
           "automargin": true,
           "gridcolor": "white",
           "linecolor": "white",
           "ticks": "",
           "title": {
            "standoff": 15
           },
           "zerolinecolor": "white",
           "zerolinewidth": 2
          }
         }
        },
        "title": {
         "text": "Portfolio Performance Analysis"
        },
        "xaxis": {
         "anchor": "y",
         "domain": [
          0,
          0.45
         ]
        },
        "xaxis2": {
         "anchor": "y2",
         "domain": [
          0.55,
          1
         ]
        },
        "xaxis3": {
         "anchor": "y3",
         "domain": [
          0,
          0.45
         ]
        },
        "xaxis4": {
         "anchor": "y4",
         "domain": [
          0.55,
          1
         ]
        },
        "xaxis5": {
         "anchor": "y5",
         "domain": [
          0,
          0.45
         ]
        },
        "xaxis6": {
         "anchor": "y6",
         "domain": [
          0.55,
          1
         ]
        },
        "yaxis": {
         "anchor": "x",
         "domain": [
          0.7777777777777778,
          1
         ]
        },
        "yaxis2": {
         "anchor": "x2",
         "domain": [
          0.7777777777777778,
          1
         ]
        },
        "yaxis3": {
         "anchor": "x3",
         "domain": [
          0.3888888888888889,
          0.6111111111111112
         ]
        },
        "yaxis4": {
         "anchor": "x4",
         "domain": [
          0.3888888888888889,
          0.6111111111111112
         ]
        },
        "yaxis5": {
         "anchor": "x5",
         "domain": [
          0,
          0.22222222222222224
         ]
        },
        "yaxis6": {
         "anchor": "x6",
         "domain": [
          0,
          0.22222222222222224
         ]
        }
       }
      }
     },
     "metadata": {},
     "output_type": "display_data"
    }
   ],
   "source": [
    "# Cell 7: Visualize portfolio performance\n",
    "def plot_portfolio_performance(engine):\n",
    "    \"\"\"Plot portfolio performance\"\"\"\n",
    "    portfolio_history = engine.portfolio_history\n",
    "    \n",
    "    if not portfolio_history:\n",
    "        print(\"Không có dữ liệu portfolio history\")\n",
    "        return\n",
    "    \n",
    "    df = pd.DataFrame(portfolio_history)\n",
    "    df['date'] = pd.to_datetime(df['date'])\n",
    "    df.set_index('date', inplace=True)\n",
    "    \n",
    "    # Create subplots\n",
    "    fig = make_subplots(\n",
    "        rows=3, cols=2,\n",
    "        subplot_titles=('Portfolio Value', 'Daily Returns', 'Cumulative Returns', \n",
    "                       'Drawdown', 'Cash vs Positions', 'Trade Distribution'),\n",
    "        specs=[[{\"secondary_y\": False}, {\"secondary_y\": False}],\n",
    "               [{\"secondary_y\": False}, {\"secondary_y\": False}],\n",
    "               [{\"secondary_y\": False}, {\"secondary_y\": False}]]\n",
    "    )\n",
    "    \n",
    "    # Portfolio Value\n",
    "    fig.add_trace(\n",
    "        go.Scatter(x=df.index, y=df['total_value'], \n",
    "                  mode='lines', name='Portfolio Value'),\n",
    "        row=1, col=1\n",
    "    )\n",
    "    \n",
    "    # Daily Returns\n",
    "    daily_returns = df['total_value'].pct_change()\n",
    "    fig.add_trace(\n",
    "        go.Scatter(x=df.index, y=daily_returns, \n",
    "                  mode='lines', name='Daily Returns'),\n",
    "        row=1, col=2\n",
    "    )\n",
    "    \n",
    "    # Cumulative Returns\n",
    "    cumulative_returns = (1 + daily_returns).cumprod()\n",
    "    fig.add_trace(\n",
    "        go.Scatter(x=df.index, y=cumulative_returns, \n",
    "                  mode='lines', name='Cumulative Returns'),\n",
    "        row=2, col=1\n",
    "    )\n",
    "    \n",
    "    # Drawdown\n",
    "    running_max = df['total_value'].expanding().max()\n",
    "    drawdown = (df['total_value'] - running_max) / running_max\n",
    "    fig.add_trace(\n",
    "        go.Scatter(x=df.index, y=drawdown, \n",
    "                  mode='lines', name='Drawdown', fill='tonexty'),\n",
    "        row=2, col=2\n",
    "    )\n",
    "    \n",
    "    # Cash vs Positions\n",
    "    fig.add_trace(\n",
    "        go.Scatter(x=df.index, y=df['cash'], \n",
    "                  mode='lines', name='Cash'),\n",
    "        row=3, col=1\n",
    "    )\n",
    "    fig.add_trace(\n",
    "        go.Scatter(x=df.index, y=df['total_value'] - df['cash'], \n",
    "                  mode='lines', name='Positions'),\n",
    "        row=3, col=1\n",
    "    )\n",
    "    \n",
    "    # Trade Distribution (if available)\n",
    "    if hasattr(engine, 'trades') and engine.trades:\n",
    "        trade_returns = [trade.pnl for trade in engine.trades]\n",
    "        fig.add_trace(\n",
    "            go.Histogram(x=trade_returns, name='Trade Returns'),\n",
    "            row=3, col=2\n",
    "        )\n",
    "    \n",
    "    fig.update_layout(height=900, title_text=\"Portfolio Performance Analysis\")\n",
    "    fig.show()\n",
    "\n",
    "# Chạy visualization\n",
    "plot_portfolio_performance(engine)"
   ]
  },
  {
   "cell_type": "code",
   "execution_count": 9,
   "id": "f260b432",
   "metadata": {},
   "outputs": [
    {
     "name": "stdout",
     "output_type": "stream",
     "text": [
      "\n",
      "=== CHI TIẾT TRADES (6 trades) ===\n",
      "            Symbol  Side  Quantity     Price           Timestamp  Commission  \\\n",
      "0  Bitstamp:BTCUSD   buy  0.167583  119344.0 2025-07-22 23:00:00   20.000000   \n",
      "1  Bitstamp:BTCUSD  sell  0.167583  115400.0 2025-07-25 07:00:00   19.339053   \n",
      "2  Bitstamp:BTCUSD   buy  0.167959  118243.0 2025-07-27 07:00:00   19.859943   \n",
      "3  Bitstamp:BTCUSD  sell  0.167959  118144.0 2025-07-30 07:00:00   19.843315   \n",
      "4  Bitstamp:BTCUSD   buy  0.167797  118290.0 2025-07-31 19:00:00   19.848677   \n",
      "5  Bitstamp:BTCUSD  sell  0.167797  116767.0 2025-07-31 23:00:00   19.593122   \n",
      "\n",
      "        Strategy  \n",
      "0  sma_crossover  \n",
      "1  sma_crossover  \n",
      "2  sma_crossover  \n",
      "3  sma_crossover  \n",
      "4  sma_crossover  \n",
      "5  sma_crossover  \n",
      "\n",
      "=== TRADE STATISTICS ===\n",
      "Total Trades: 6\n",
      "Buy Trades: 3\n",
      "Sell Trades: 3\n",
      "Average Trade Size: 0.17\n",
      "Total Commission: $118.48\n"
     ]
    }
   ],
   "source": [
    "# Cell 8: Hiển thị chi tiết trades\n",
    "if hasattr(engine, 'trades') and engine.trades:\n",
    "    print(f\"\\n=== CHI TIẾT TRADES ({len(engine.trades)} trades) ===\")\n",
    "    \n",
    "    trades_df = pd.DataFrame([\n",
    "        {\n",
    "            'Symbol': trade.symbol,\n",
    "            'Side': trade.side,\n",
    "            'Quantity': trade.quantity,\n",
    "            'Price': trade.price,\n",
    "            'Timestamp': trade.timestamp,\n",
    "            'Commission': trade.commission,\n",
    "            'Strategy': trade.strategy\n",
    "        }\n",
    "        for trade in engine.trades\n",
    "    ])\n",
    "    \n",
    "    print(trades_df.head(10))\n",
    "    \n",
    "    # Trade statistics\n",
    "    print(f\"\\n=== TRADE STATISTICS ===\")\n",
    "    print(f\"Total Trades: {len(engine.trades)}\")\n",
    "    print(f\"Buy Trades: {len(trades_df[trades_df['Side'] == 'buy'])}\")\n",
    "    print(f\"Sell Trades: {len(trades_df[trades_df['Side'] == 'sell'])}\")\n",
    "    print(f\"Average Trade Size: {trades_df['Quantity'].mean():.2f}\")\n",
    "    print(f\"Total Commission: ${trades_df['Commission'].sum():.2f}\")\n",
    "else:\n",
    "    print(\"Không có trades nào được thực hiện\")"
   ]
  },
  {
   "cell_type": "code",
   "execution_count": 10,
   "id": "b0a8b853",
   "metadata": {},
   "outputs": [
    {
     "data": {
      "application/vnd.plotly.v1+json": {
       "config": {
        "plotlyServerURL": "https://plot.ly"
       },
       "data": [
        {
         "close": {
          "bdata": "AAAAACAg/UAAAAAA4Pv8QAAAAAAQ2vxAAAAAAMDm/EAAAAAAwNH8QAAAAAAACf1AAAAAAPAN/UAAAAAAsB79QAAAAACgX/1AAAAAAIAp/UAAAAAAgB39QAAAAABQy/xAAAAAAFCs/EAAAAAAYND8QAAAAADA6PxAAAAAAEDf/EAAAAAAkOf8QAAAAABQ1vxAAAAAAKDT/EAAAAAAwMn8QAAAAADA0fxAAAAAAJDU/EAAAAAAIMv8QAAAAABw/PxAAAAAAIDe/EAAAAAAsKX8QAAAAABQ6/xAAAAAAMAl/UAAAAAAINb8QAAAAAAQ5/xAAAAAACCE/EAAAAAA0Kv8QAAAAAAgoPxAAAAAADDR/EAAAAAAoBv9QAAAAAAwC/1AAAAAAAAj/UAAAAAAsEz9QAAAAAAw+fxAAAAAAODo/EAAAAAAAPT8QAAAAACA9/xAAAAAAPDo/EAAAAAA0AH9QAAAAABg8vxAAAAAAADt/EAAAAAAcPj8QAAAAAAQF/1AAAAAAEAP/UAAAAAAsOT8QAAAAACALPxAAAAAABAo/EAAAAAAIHL8QAAAAAAQQvxAAAAAABCD/EAAAAAAULn8QAAAAADwsfxAAAAAAICn/EAAAAAAYMX8QAAAAABw2fxAAAAAAEDg/EAAAAAAoMz8QAAAAAAw3vxAAAAAAEDZ/EAAAAAAgNf8QAAAAAAg9vxAAAAAAAAO/UAAAAAA0Cr9QAAAAABAIP1AAAAAAGAH/UAAAAAAQAP9QAAAAABw2fxAAAAAABDT/EAAAAAAMNL8QAAAAADw/PxAAAAAACAH/UAAAAAAUPP8QAAAAABQqfxAAAAAAJCu/EAAAAAAYMr8QAAAAAAA2PxAAAAAABDW/EAAAAAAULP8QAAAAAAAzvxAAAAAAECM/EAAAAAAoMT8QAAAAABw6vxAAAAAACD5/EAAAAAAsOT8QAAAAAAg4fxAAAAAAPCB/EAAAAAAYEL8QAAAAACwO/xAAAAAAHAX/EAAAAAAcCP8QAAAAACAJ/xAAAAAANCm+0AAAAAAsKX7QAAAAAAAzPtAAAAAAEDL+0A=",
          "dtype": "f8"
         },
         "high": {
          "bdata": "AAAAAEBL/UAAAAAAYFH9QAAAAACgGv1AAAAAAGAC/UAAAAAAwBz9QAAAAABAFf1AAAAAACBI/UAAAAAAgIr9QAAAAAAggf1AAAAAAECE/UAAAAAAgDD9QAAAAADwMP1AAAAAAJDW/EAAAAAAYNT8QAAAAABg6/xAAAAAAIDq/EAAAAAAkPH8QAAAAADA5/xAAAAAAFDc/EAAAAAAkNr8QAAAAAAw3PxAAAAAAADf/EAAAAAAcOP8QAAAAACQAv1AAAAAAAAH/UAAAAAAwOL8QAAAAACw+PxAAAAAACA4/UAAAAAA0C79QAAAAAAgH/1AAAAAAKDq/EAAAAAAkLv8QAAAAABQzfxAAAAAABD2/EAAAAAAUB39QAAAAACgNP1AAAAAAHBb/UAAAAAAkF79QAAAAABQVv1AAAAAAPAP/UAAAAAAoPn8QAAAAAAQ/vxAAAAAAHD3/EAAAAAA8AH9QAAAAADgIP1AAAAAAID3/EAAAAAAMAX9QAAAAABQLv1AAAAAAOAp/UAAAAAAQBL9QAAAAADQ7vxAAAAAACBb/EAAAAAAAIT8QAAAAABAevxAAAAAAOCU/EAAAAAAcLn8QAAAAADgwPxAAAAAABC2/EAAAAAAwN38QAAAAADg3/xAAAAAAEDk/EAAAAAAgOL8QAAAAADQ5/xAAAAAAPDs/EAAAAAAcOP8QAAAAADA9vxAAAAAALAx/UAAAAAAYD/9QAAAAAAgQf1AAAAAACA5/UAAAAAAEBX9QAAAAACAE/1AAAAAAKDm/EAAAAAAcOP8QAAAAADg//xAAAAAADAe/UAAAAAAABH9QAAAAADQEP1AAAAAAKDQ/EAAAAAAYMz8QAAAAAAQ3vxAAAAAAPDm/EAAAAAAYOv8QAAAAABw//xAAAAAACDR/EAAAAAAwMj8QAAAAABg8/xAAAAAAIAH/UAAAAAA4P38QAAAAADg9/xAAAAAADAF/UAAAAAAcI78QAAAAABgVfxAAAAAAKBK/EAAAAAAgCf8QAAAAADwUPxAAAAAADA9/EAAAAAAQNb7QAAAAAAAzPtAAAAAAIDV+0A=",
          "dtype": "f8"
         },
         "low": {
          "bdata": "AAAAAEDw/EAAAAAAMO38QAAAAAAgv/xAAAAAAIDJ/EAAAAAA0ND8QAAAAAAgsPxAAAAAAIDq/EAAAAAAEO78QAAAAABAFv1AAAAAAJAm/UAAAAAAsOz8QAAAAAAQqfxAAAAAAKCe/EAAAAAAMIv8QAAAAADgvPxAAAAAANDY/EAAAAAAsNH8QAAAAABwvfxAAAAAAPC4/EAAAAAAgKb8QAAAAABgvvxAAAAAAFDF/EAAAAAA8Mf8QAAAAADAwfxAAAAAANDQ/EAAAAAAcHT8QAAAAAAgd/xAAAAAABDd/EAAAAAAINb8QAAAAABwxPxAAAAAAPB+/EAAAAAAYH78QAAAAACgXfxAAAAAAKB4/EAAAAAAwLL8QAAAAACgt/xAAAAAADDt/EAAAAAAQB39QAAAAAAg9fxAAAAAAIDl/EAAAAAAwMj8QAAAAAAAqPxAAAAAAJCp/EAAAAAAoKz8QAAAAACw8fxAAAAAABCd/EAAAAAAsNH8QAAAAADAyfxAAAAAAIDq/EAAAAAAEN78QAAAAACQKvxAAAAAAGD1+0AAAAAAUBH8QAAAAACgDvxAAAAAAHAx/EAAAAAAoHj8QAAAAADAnPxAAAAAAHCn/EAAAAAA8Kf8QAAAAABwxPxAAAAAABDP/EAAAAAAgMv8QAAAAAAAyPxAAAAAAODX/EAAAAAAwMn8QAAAAABgzPxAAAAAACD2/EAAAAAA8P/8QAAAAAAgDv1AAAAAAPD//EAAAAAAIO78QAAAAADAyPxAAAAAAICp/EAAAAAA8K/8QAAAAACArfxAAAAAAKDp/EAAAAAAoNr8QAAAAABgn/xAAAAAAACM/EAAAAAAsJP8QAAAAADQqvxAAAAAAJC7/EAAAAAAMKj8QAAAAABQp/xAAAAAAIBE/EAAAAAAwIj8QAAAAAAQwfxAAAAAAMDg/EAAAAAA4OD8QAAAAAAww/xAAAAAADCA/EAAAAAAgDP8QAAAAAAg6ftAAAAAAND7+0AAAAAAQNz7QAAAAADAzvtAAAAAAHCh+0AAAAAAgIL7QAAAAADgn/tAAAAAAPDH+0A=",
          "dtype": "f8"
         },
         "open": {
          "bdata": "AAAAAPAV/UAAAAAA8B/9QAAAAABA+vxAAAAAABDa/EAAAAAAwOb8QAAAAADA0fxAAAAAAPAI/UAAAAAAABD9QAAAAACwHv1AAAAAAKBf/UAAAAAAcCn9QAAAAABwHf1AAAAAANDJ/EAAAAAAcKz8QAAAAABw0PxAAAAAAMDo/EAAAAAAMN/8QAAAAACQ5/xAAAAAAFDW/EAAAAAAkNP8QAAAAADQyfxAAAAAAMDR/EAAAAAAkNT8QAAAAADwyvxAAAAAAKD9/EAAAAAAoNz8QAAAAABAnvxAAAAAACDr/EAAAAAAwCX9QAAAAAAw1vxAAAAAABDn/EAAAAAAMIT8QAAAAADQq/xAAAAAACCg/EAAAAAA4M/8QAAAAACQG/1AAAAAAGAL/UAAAAAAkCP9QAAAAACwTP1AAAAAAED5/EAAAAAA4Of8QAAAAAAA9PxAAAAAAHD3/EAAAAAAoOv8QAAAAACwAP1AAAAAAODz/EAAAAAAYOz8QAAAAACg9vxAAAAAABAX/UAAAAAAEA/9QAAAAAAA6PxAAAAAAIAs/EAAAAAA8Cf8QAAAAABAcvxAAAAAAABC/EAAAAAAEIP8QAAAAABAufxAAAAAAOCx/EAAAAAA8Kf8QAAAAABgxfxAAAAAAHDZ/EAAAAAAQOD8QAAAAADwzfxAAAAAAJDe/EAAAAAAQNn8QAAAAABw1/xAAAAAACD2/EAAAAAAIA39QAAAAACgLf1AAAAAAJAg/UAAAAAAUAf9QAAAAABAA/1AAAAAADDZ/EAAAAAAENP8QAAAAABA0/xAAAAAAID9/EAAAAAAwAb9QAAAAABg8/xAAAAAAECp/EAAAAAA4K78QAAAAABgyvxAAAAAACDZ/EAAAAAAENb8QAAAAACAs/xAAAAAAADO/EAAAAAAcIn8QAAAAACQxPxAAAAAAHDr/EAAAAAAMPn8QAAAAACg5PxAAAAAACDh/EAAAAAAgIH8QAAAAABQQvxAAAAAAGA7/EAAAAAA8Bb8QAAAAADAI/xAAAAAAIAn/EAAAAAAwKb7QAAAAACwpftAAAAAAADM+0A=",
          "dtype": "f8"
         },
         "type": "candlestick",
         "x": [
          "2025-07-16T23:00:00.000000000",
          "2025-07-17T03:00:00.000000000",
          "2025-07-17T07:00:00.000000000",
          "2025-07-17T11:00:00.000000000",
          "2025-07-17T15:00:00.000000000",
          "2025-07-17T19:00:00.000000000",
          "2025-07-17T23:00:00.000000000",
          "2025-07-18T03:00:00.000000000",
          "2025-07-18T07:00:00.000000000",
          "2025-07-18T11:00:00.000000000",
          "2025-07-18T15:00:00.000000000",
          "2025-07-18T19:00:00.000000000",
          "2025-07-18T23:00:00.000000000",
          "2025-07-19T03:00:00.000000000",
          "2025-07-19T07:00:00.000000000",
          "2025-07-19T11:00:00.000000000",
          "2025-07-19T15:00:00.000000000",
          "2025-07-19T19:00:00.000000000",
          "2025-07-19T23:00:00.000000000",
          "2025-07-20T03:00:00.000000000",
          "2025-07-20T07:00:00.000000000",
          "2025-07-20T11:00:00.000000000",
          "2025-07-20T15:00:00.000000000",
          "2025-07-20T19:00:00.000000000",
          "2025-07-20T23:00:00.000000000",
          "2025-07-21T03:00:00.000000000",
          "2025-07-21T07:00:00.000000000",
          "2025-07-21T11:00:00.000000000",
          "2025-07-21T15:00:00.000000000",
          "2025-07-21T19:00:00.000000000",
          "2025-07-21T23:00:00.000000000",
          "2025-07-22T03:00:00.000000000",
          "2025-07-22T07:00:00.000000000",
          "2025-07-22T11:00:00.000000000",
          "2025-07-22T15:00:00.000000000",
          "2025-07-22T19:00:00.000000000",
          "2025-07-22T23:00:00.000000000",
          "2025-07-23T03:00:00.000000000",
          "2025-07-23T07:00:00.000000000",
          "2025-07-23T11:00:00.000000000",
          "2025-07-23T15:00:00.000000000",
          "2025-07-23T19:00:00.000000000",
          "2025-07-23T23:00:00.000000000",
          "2025-07-24T03:00:00.000000000",
          "2025-07-24T07:00:00.000000000",
          "2025-07-24T11:00:00.000000000",
          "2025-07-24T15:00:00.000000000",
          "2025-07-24T19:00:00.000000000",
          "2025-07-24T23:00:00.000000000",
          "2025-07-25T03:00:00.000000000",
          "2025-07-25T07:00:00.000000000",
          "2025-07-25T11:00:00.000000000",
          "2025-07-25T15:00:00.000000000",
          "2025-07-25T19:00:00.000000000",
          "2025-07-25T23:00:00.000000000",
          "2025-07-26T03:00:00.000000000",
          "2025-07-26T07:00:00.000000000",
          "2025-07-26T11:00:00.000000000",
          "2025-07-26T15:00:00.000000000",
          "2025-07-26T19:00:00.000000000",
          "2025-07-26T23:00:00.000000000",
          "2025-07-27T03:00:00.000000000",
          "2025-07-27T07:00:00.000000000",
          "2025-07-27T11:00:00.000000000",
          "2025-07-27T15:00:00.000000000",
          "2025-07-27T19:00:00.000000000",
          "2025-07-27T23:00:00.000000000",
          "2025-07-28T03:00:00.000000000",
          "2025-07-28T07:00:00.000000000",
          "2025-07-28T11:00:00.000000000",
          "2025-07-28T15:00:00.000000000",
          "2025-07-28T19:00:00.000000000",
          "2025-07-28T23:00:00.000000000",
          "2025-07-29T03:00:00.000000000",
          "2025-07-29T07:00:00.000000000",
          "2025-07-29T11:00:00.000000000",
          "2025-07-29T15:00:00.000000000",
          "2025-07-29T19:00:00.000000000",
          "2025-07-29T23:00:00.000000000",
          "2025-07-30T03:00:00.000000000",
          "2025-07-30T07:00:00.000000000",
          "2025-07-30T11:00:00.000000000",
          "2025-07-30T15:00:00.000000000",
          "2025-07-30T19:00:00.000000000",
          "2025-07-30T23:00:00.000000000",
          "2025-07-31T03:00:00.000000000",
          "2025-07-31T07:00:00.000000000",
          "2025-07-31T11:00:00.000000000",
          "2025-07-31T15:00:00.000000000",
          "2025-07-31T19:00:00.000000000",
          "2025-07-31T23:00:00.000000000",
          "2025-08-01T03:00:00.000000000",
          "2025-08-01T07:00:00.000000000",
          "2025-08-01T11:00:00.000000000",
          "2025-08-01T15:00:00.000000000",
          "2025-08-01T19:00:00.000000000",
          "2025-08-01T23:00:00.000000000",
          "2025-08-02T03:00:00.000000000",
          "2025-08-02T07:00:00.000000000",
          "2025-08-02T11:00:00.000000000"
         ],
         "xaxis": "x",
         "yaxis": "y"
        },
        {
         "marker": {
          "color": "green",
          "size": 12,
          "symbol": "triangle-up"
         },
         "mode": "markers+text",
         "name": "Buy",
         "text": [
          "Buy",
          "Buy",
          "Buy"
         ],
         "textposition": "bottom center",
         "type": "scatter",
         "x": [
          "2025-07-22T23:00:00.000000000",
          "2025-07-27T07:00:00.000000000",
          "2025-07-31T19:00:00.000000000"
         ],
         "xaxis": "x",
         "y": {
          "bdata": "gZVDi2De/EAlBoGVQ7n8QF66SQx2tPxA",
          "dtype": "f8"
         },
         "yaxis": "y"
        },
        {
         "marker": {
          "color": "red",
          "size": 12,
          "symbol": "triangle-down"
         },
         "mode": "markers+text",
         "name": "Sell",
         "text": [
          "Sell",
          "Sell",
          "Sell"
         ],
         "textposition": "top center",
         "type": "scatter",
         "x": [
          "2025-07-25T07:00:00.000000000",
          "2025-07-30T07:00:00.000000000",
          "2025-07-31T23:00:00.000000000"
         ],
         "xaxis": "x",
         "y": {
          "bdata": "NV66SaD9/EDLoUW21+z8QLTIdr4LFP1A",
          "dtype": "f8"
         },
         "yaxis": "y"
        },
        {
         "type": "bar",
         "x": [
          "2025-07-16T23:00:00.000000000",
          "2025-07-17T03:00:00.000000000",
          "2025-07-17T07:00:00.000000000",
          "2025-07-17T11:00:00.000000000",
          "2025-07-17T15:00:00.000000000",
          "2025-07-17T19:00:00.000000000",
          "2025-07-17T23:00:00.000000000",
          "2025-07-18T03:00:00.000000000",
          "2025-07-18T07:00:00.000000000",
          "2025-07-18T11:00:00.000000000",
          "2025-07-18T15:00:00.000000000",
          "2025-07-18T19:00:00.000000000",
          "2025-07-18T23:00:00.000000000",
          "2025-07-19T03:00:00.000000000",
          "2025-07-19T07:00:00.000000000",
          "2025-07-19T11:00:00.000000000",
          "2025-07-19T15:00:00.000000000",
          "2025-07-19T19:00:00.000000000",
          "2025-07-19T23:00:00.000000000",
          "2025-07-20T03:00:00.000000000",
          "2025-07-20T07:00:00.000000000",
          "2025-07-20T11:00:00.000000000",
          "2025-07-20T15:00:00.000000000",
          "2025-07-20T19:00:00.000000000",
          "2025-07-20T23:00:00.000000000",
          "2025-07-21T03:00:00.000000000",
          "2025-07-21T07:00:00.000000000",
          "2025-07-21T11:00:00.000000000",
          "2025-07-21T15:00:00.000000000",
          "2025-07-21T19:00:00.000000000",
          "2025-07-21T23:00:00.000000000",
          "2025-07-22T03:00:00.000000000",
          "2025-07-22T07:00:00.000000000",
          "2025-07-22T11:00:00.000000000",
          "2025-07-22T15:00:00.000000000",
          "2025-07-22T19:00:00.000000000",
          "2025-07-22T23:00:00.000000000",
          "2025-07-23T03:00:00.000000000",
          "2025-07-23T07:00:00.000000000",
          "2025-07-23T11:00:00.000000000",
          "2025-07-23T15:00:00.000000000",
          "2025-07-23T19:00:00.000000000",
          "2025-07-23T23:00:00.000000000",
          "2025-07-24T03:00:00.000000000",
          "2025-07-24T07:00:00.000000000",
          "2025-07-24T11:00:00.000000000",
          "2025-07-24T15:00:00.000000000",
          "2025-07-24T19:00:00.000000000",
          "2025-07-24T23:00:00.000000000",
          "2025-07-25T03:00:00.000000000",
          "2025-07-25T07:00:00.000000000",
          "2025-07-25T11:00:00.000000000",
          "2025-07-25T15:00:00.000000000",
          "2025-07-25T19:00:00.000000000",
          "2025-07-25T23:00:00.000000000",
          "2025-07-26T03:00:00.000000000",
          "2025-07-26T07:00:00.000000000",
          "2025-07-26T11:00:00.000000000",
          "2025-07-26T15:00:00.000000000",
          "2025-07-26T19:00:00.000000000",
          "2025-07-26T23:00:00.000000000",
          "2025-07-27T03:00:00.000000000",
          "2025-07-27T07:00:00.000000000",
          "2025-07-27T11:00:00.000000000",
          "2025-07-27T15:00:00.000000000",
          "2025-07-27T19:00:00.000000000",
          "2025-07-27T23:00:00.000000000",
          "2025-07-28T03:00:00.000000000",
          "2025-07-28T07:00:00.000000000",
          "2025-07-28T11:00:00.000000000",
          "2025-07-28T15:00:00.000000000",
          "2025-07-28T19:00:00.000000000",
          "2025-07-28T23:00:00.000000000",
          "2025-07-29T03:00:00.000000000",
          "2025-07-29T07:00:00.000000000",
          "2025-07-29T11:00:00.000000000",
          "2025-07-29T15:00:00.000000000",
          "2025-07-29T19:00:00.000000000",
          "2025-07-29T23:00:00.000000000",
          "2025-07-30T03:00:00.000000000",
          "2025-07-30T07:00:00.000000000",
          "2025-07-30T11:00:00.000000000",
          "2025-07-30T15:00:00.000000000",
          "2025-07-30T19:00:00.000000000",
          "2025-07-30T23:00:00.000000000",
          "2025-07-31T03:00:00.000000000",
          "2025-07-31T07:00:00.000000000",
          "2025-07-31T11:00:00.000000000",
          "2025-07-31T15:00:00.000000000",
          "2025-07-31T19:00:00.000000000",
          "2025-07-31T23:00:00.000000000",
          "2025-08-01T03:00:00.000000000",
          "2025-08-01T07:00:00.000000000",
          "2025-08-01T11:00:00.000000000",
          "2025-08-01T15:00:00.000000000",
          "2025-08-01T19:00:00.000000000",
          "2025-08-01T23:00:00.000000000",
          "2025-08-02T03:00:00.000000000",
          "2025-08-02T07:00:00.000000000",
          "2025-08-02T11:00:00.000000000"
         ],
         "xaxis": "x2",
         "y": {
          "bdata": "YrqU4yMEckBCPZ4SR5htQNYFF4aDXmVAlD+MzgE5X0AjSRCuAEZpQGaOvN4TWXVAqwcOYDiwfEAWa/rkX8N0QJw2gAoptGtA4PQN0KZfZkBNiuoI+2ptQMJe9iV6xoBAfp4OfQocfEDTFrbqQ1FpQC5t/oCDFlRAfg9mLP3kSECD/OirlqRQQAE2e/sOZ1dAHB38aUhRXkCHNnziK+pVQNbdIzjBKVdAWjubn6yPR0DvjWMcCjlTQO82FOMhglpApCrYDJGLVkB3Hg2OL0ppQK0QmH+7J2VAQheBbyIjYkCpjSQgqv5iQJ14lGvWS3dA3YFTghJXd0ANRIEEZoFeQP2fBZnrzW9A6mNXvZAAa0D6Yu/FNytmQGG6WjhaSW9AYXf0nq47b0BVZzn5IsRiQBZwS7uDI1lABFTdyGGAU0A0De0QfYdWQNUW6CRFEHBA4WeW4/nkckBSwRuxOgdjQHAphGGCGmBAICsyGTJbZUCFKamXSEFbQLT7XfEXdm9AoEe1HW3Wa0APFmdvnYpoQC+N/E3yN5VABBEUBZudmECbGaKvOUyVQF+NHoUkhYRAZaeC/pBIfUD9U0caHgpuQF99+tcLTmRAveinD48gSkCNYMLszvBgQAV140B80l1AGmzqPCp9TECF9iSPq/xWQEunXH6zo1RA1jwFyOnERUAWP3xPm9dRQDgvb4res1hAQj4q9j4qZkDoZXf1qH5aQCvxRgcA0mJAsoeThwfNXkA63Jq2N7BQQOefKvAvEHVAuNgf7otHbUBe1qP0tdJiQPdwj8a9aWBAc8wmfhTeUkDgc9SPVYpWQCHXXQvwKnFA2jLHjyTKdEA5DrxaHhFwQG4BmYToDFtAD6ejTsYaVECUf7HnAAdfQFXDuPrlC3BA4dn1PbCBeECiYhiHpYNUQIQpb+ye8WBAgKnRcRYJVEAmUyaxexdSQKj+pE5uN3NA1/+1k/M3bkDU+zouEi5nQFptF/0V93VARb90YqjkYkDNvVURzfZxQCk/6xK0DYVAsZ3WCkb6gEBInF/ebSx0QIuj9kv5fWBAfXjYPHU/QkA=",
          "dtype": "f8"
         },
         "yaxis": "y2"
        }
       ],
       "layout": {
        "height": 800,
        "template": {
         "data": {
          "bar": [
           {
            "error_x": {
             "color": "#2a3f5f"
            },
            "error_y": {
             "color": "#2a3f5f"
            },
            "marker": {
             "line": {
              "color": "#E5ECF6",
              "width": 0.5
             },
             "pattern": {
              "fillmode": "overlay",
              "size": 10,
              "solidity": 0.2
             }
            },
            "type": "bar"
           }
          ],
          "barpolar": [
           {
            "marker": {
             "line": {
              "color": "#E5ECF6",
              "width": 0.5
             },
             "pattern": {
              "fillmode": "overlay",
              "size": 10,
              "solidity": 0.2
             }
            },
            "type": "barpolar"
           }
          ],
          "carpet": [
           {
            "aaxis": {
             "endlinecolor": "#2a3f5f",
             "gridcolor": "white",
             "linecolor": "white",
             "minorgridcolor": "white",
             "startlinecolor": "#2a3f5f"
            },
            "baxis": {
             "endlinecolor": "#2a3f5f",
             "gridcolor": "white",
             "linecolor": "white",
             "minorgridcolor": "white",
             "startlinecolor": "#2a3f5f"
            },
            "type": "carpet"
           }
          ],
          "choropleth": [
           {
            "colorbar": {
             "outlinewidth": 0,
             "ticks": ""
            },
            "type": "choropleth"
           }
          ],
          "contour": [
           {
            "colorbar": {
             "outlinewidth": 0,
             "ticks": ""
            },
            "colorscale": [
             [
              0,
              "#0d0887"
             ],
             [
              0.1111111111111111,
              "#46039f"
             ],
             [
              0.2222222222222222,
              "#7201a8"
             ],
             [
              0.3333333333333333,
              "#9c179e"
             ],
             [
              0.4444444444444444,
              "#bd3786"
             ],
             [
              0.5555555555555556,
              "#d8576b"
             ],
             [
              0.6666666666666666,
              "#ed7953"
             ],
             [
              0.7777777777777778,
              "#fb9f3a"
             ],
             [
              0.8888888888888888,
              "#fdca26"
             ],
             [
              1,
              "#f0f921"
             ]
            ],
            "type": "contour"
           }
          ],
          "contourcarpet": [
           {
            "colorbar": {
             "outlinewidth": 0,
             "ticks": ""
            },
            "type": "contourcarpet"
           }
          ],
          "heatmap": [
           {
            "colorbar": {
             "outlinewidth": 0,
             "ticks": ""
            },
            "colorscale": [
             [
              0,
              "#0d0887"
             ],
             [
              0.1111111111111111,
              "#46039f"
             ],
             [
              0.2222222222222222,
              "#7201a8"
             ],
             [
              0.3333333333333333,
              "#9c179e"
             ],
             [
              0.4444444444444444,
              "#bd3786"
             ],
             [
              0.5555555555555556,
              "#d8576b"
             ],
             [
              0.6666666666666666,
              "#ed7953"
             ],
             [
              0.7777777777777778,
              "#fb9f3a"
             ],
             [
              0.8888888888888888,
              "#fdca26"
             ],
             [
              1,
              "#f0f921"
             ]
            ],
            "type": "heatmap"
           }
          ],
          "histogram": [
           {
            "marker": {
             "pattern": {
              "fillmode": "overlay",
              "size": 10,
              "solidity": 0.2
             }
            },
            "type": "histogram"
           }
          ],
          "histogram2d": [
           {
            "colorbar": {
             "outlinewidth": 0,
             "ticks": ""
            },
            "colorscale": [
             [
              0,
              "#0d0887"
             ],
             [
              0.1111111111111111,
              "#46039f"
             ],
             [
              0.2222222222222222,
              "#7201a8"
             ],
             [
              0.3333333333333333,
              "#9c179e"
             ],
             [
              0.4444444444444444,
              "#bd3786"
             ],
             [
              0.5555555555555556,
              "#d8576b"
             ],
             [
              0.6666666666666666,
              "#ed7953"
             ],
             [
              0.7777777777777778,
              "#fb9f3a"
             ],
             [
              0.8888888888888888,
              "#fdca26"
             ],
             [
              1,
              "#f0f921"
             ]
            ],
            "type": "histogram2d"
           }
          ],
          "histogram2dcontour": [
           {
            "colorbar": {
             "outlinewidth": 0,
             "ticks": ""
            },
            "colorscale": [
             [
              0,
              "#0d0887"
             ],
             [
              0.1111111111111111,
              "#46039f"
             ],
             [
              0.2222222222222222,
              "#7201a8"
             ],
             [
              0.3333333333333333,
              "#9c179e"
             ],
             [
              0.4444444444444444,
              "#bd3786"
             ],
             [
              0.5555555555555556,
              "#d8576b"
             ],
             [
              0.6666666666666666,
              "#ed7953"
             ],
             [
              0.7777777777777778,
              "#fb9f3a"
             ],
             [
              0.8888888888888888,
              "#fdca26"
             ],
             [
              1,
              "#f0f921"
             ]
            ],
            "type": "histogram2dcontour"
           }
          ],
          "mesh3d": [
           {
            "colorbar": {
             "outlinewidth": 0,
             "ticks": ""
            },
            "type": "mesh3d"
           }
          ],
          "parcoords": [
           {
            "line": {
             "colorbar": {
              "outlinewidth": 0,
              "ticks": ""
             }
            },
            "type": "parcoords"
           }
          ],
          "pie": [
           {
            "automargin": true,
            "type": "pie"
           }
          ],
          "scatter": [
           {
            "fillpattern": {
             "fillmode": "overlay",
             "size": 10,
             "solidity": 0.2
            },
            "type": "scatter"
           }
          ],
          "scatter3d": [
           {
            "line": {
             "colorbar": {
              "outlinewidth": 0,
              "ticks": ""
             }
            },
            "marker": {
             "colorbar": {
              "outlinewidth": 0,
              "ticks": ""
             }
            },
            "type": "scatter3d"
           }
          ],
          "scattercarpet": [
           {
            "marker": {
             "colorbar": {
              "outlinewidth": 0,
              "ticks": ""
             }
            },
            "type": "scattercarpet"
           }
          ],
          "scattergeo": [
           {
            "marker": {
             "colorbar": {
              "outlinewidth": 0,
              "ticks": ""
             }
            },
            "type": "scattergeo"
           }
          ],
          "scattergl": [
           {
            "marker": {
             "colorbar": {
              "outlinewidth": 0,
              "ticks": ""
             }
            },
            "type": "scattergl"
           }
          ],
          "scattermap": [
           {
            "marker": {
             "colorbar": {
              "outlinewidth": 0,
              "ticks": ""
             }
            },
            "type": "scattermap"
           }
          ],
          "scattermapbox": [
           {
            "marker": {
             "colorbar": {
              "outlinewidth": 0,
              "ticks": ""
             }
            },
            "type": "scattermapbox"
           }
          ],
          "scatterpolar": [
           {
            "marker": {
             "colorbar": {
              "outlinewidth": 0,
              "ticks": ""
             }
            },
            "type": "scatterpolar"
           }
          ],
          "scatterpolargl": [
           {
            "marker": {
             "colorbar": {
              "outlinewidth": 0,
              "ticks": ""
             }
            },
            "type": "scatterpolargl"
           }
          ],
          "scatterternary": [
           {
            "marker": {
             "colorbar": {
              "outlinewidth": 0,
              "ticks": ""
             }
            },
            "type": "scatterternary"
           }
          ],
          "surface": [
           {
            "colorbar": {
             "outlinewidth": 0,
             "ticks": ""
            },
            "colorscale": [
             [
              0,
              "#0d0887"
             ],
             [
              0.1111111111111111,
              "#46039f"
             ],
             [
              0.2222222222222222,
              "#7201a8"
             ],
             [
              0.3333333333333333,
              "#9c179e"
             ],
             [
              0.4444444444444444,
              "#bd3786"
             ],
             [
              0.5555555555555556,
              "#d8576b"
             ],
             [
              0.6666666666666666,
              "#ed7953"
             ],
             [
              0.7777777777777778,
              "#fb9f3a"
             ],
             [
              0.8888888888888888,
              "#fdca26"
             ],
             [
              1,
              "#f0f921"
             ]
            ],
            "type": "surface"
           }
          ],
          "table": [
           {
            "cells": {
             "fill": {
              "color": "#EBF0F8"
             },
             "line": {
              "color": "white"
             }
            },
            "header": {
             "fill": {
              "color": "#C8D4E3"
             },
             "line": {
              "color": "white"
             }
            },
            "type": "table"
           }
          ]
         },
         "layout": {
          "annotationdefaults": {
           "arrowcolor": "#2a3f5f",
           "arrowhead": 0,
           "arrowwidth": 1
          },
          "autotypenumbers": "strict",
          "coloraxis": {
           "colorbar": {
            "outlinewidth": 0,
            "ticks": ""
           }
          },
          "colorscale": {
           "diverging": [
            [
             0,
             "#8e0152"
            ],
            [
             0.1,
             "#c51b7d"
            ],
            [
             0.2,
             "#de77ae"
            ],
            [
             0.3,
             "#f1b6da"
            ],
            [
             0.4,
             "#fde0ef"
            ],
            [
             0.5,
             "#f7f7f7"
            ],
            [
             0.6,
             "#e6f5d0"
            ],
            [
             0.7,
             "#b8e186"
            ],
            [
             0.8,
             "#7fbc41"
            ],
            [
             0.9,
             "#4d9221"
            ],
            [
             1,
             "#276419"
            ]
           ],
           "sequential": [
            [
             0,
             "#0d0887"
            ],
            [
             0.1111111111111111,
             "#46039f"
            ],
            [
             0.2222222222222222,
             "#7201a8"
            ],
            [
             0.3333333333333333,
             "#9c179e"
            ],
            [
             0.4444444444444444,
             "#bd3786"
            ],
            [
             0.5555555555555556,
             "#d8576b"
            ],
            [
             0.6666666666666666,
             "#ed7953"
            ],
            [
             0.7777777777777778,
             "#fb9f3a"
            ],
            [
             0.8888888888888888,
             "#fdca26"
            ],
            [
             1,
             "#f0f921"
            ]
           ],
           "sequentialminus": [
            [
             0,
             "#0d0887"
            ],
            [
             0.1111111111111111,
             "#46039f"
            ],
            [
             0.2222222222222222,
             "#7201a8"
            ],
            [
             0.3333333333333333,
             "#9c179e"
            ],
            [
             0.4444444444444444,
             "#bd3786"
            ],
            [
             0.5555555555555556,
             "#d8576b"
            ],
            [
             0.6666666666666666,
             "#ed7953"
            ],
            [
             0.7777777777777778,
             "#fb9f3a"
            ],
            [
             0.8888888888888888,
             "#fdca26"
            ],
            [
             1,
             "#f0f921"
            ]
           ]
          },
          "colorway": [
           "#636efa",
           "#EF553B",
           "#00cc96",
           "#ab63fa",
           "#FFA15A",
           "#19d3f3",
           "#FF6692",
           "#B6E880",
           "#FF97FF",
           "#FECB52"
          ],
          "font": {
           "color": "#2a3f5f"
          },
          "geo": {
           "bgcolor": "white",
           "lakecolor": "white",
           "landcolor": "#E5ECF6",
           "showlakes": true,
           "showland": true,
           "subunitcolor": "white"
          },
          "hoverlabel": {
           "align": "left"
          },
          "hovermode": "closest",
          "mapbox": {
           "style": "light"
          },
          "paper_bgcolor": "white",
          "plot_bgcolor": "#E5ECF6",
          "polar": {
           "angularaxis": {
            "gridcolor": "white",
            "linecolor": "white",
            "ticks": ""
           },
           "bgcolor": "#E5ECF6",
           "radialaxis": {
            "gridcolor": "white",
            "linecolor": "white",
            "ticks": ""
           }
          },
          "scene": {
           "xaxis": {
            "backgroundcolor": "#E5ECF6",
            "gridcolor": "white",
            "gridwidth": 2,
            "linecolor": "white",
            "showbackground": true,
            "ticks": "",
            "zerolinecolor": "white"
           },
           "yaxis": {
            "backgroundcolor": "#E5ECF6",
            "gridcolor": "white",
            "gridwidth": 2,
            "linecolor": "white",
            "showbackground": true,
            "ticks": "",
            "zerolinecolor": "white"
           },
           "zaxis": {
            "backgroundcolor": "#E5ECF6",
            "gridcolor": "white",
            "gridwidth": 2,
            "linecolor": "white",
            "showbackground": true,
            "ticks": "",
            "zerolinecolor": "white"
           }
          },
          "shapedefaults": {
           "line": {
            "color": "#2a3f5f"
           }
          },
          "ternary": {
           "aaxis": {
            "gridcolor": "white",
            "linecolor": "white",
            "ticks": ""
           },
           "baxis": {
            "gridcolor": "white",
            "linecolor": "white",
            "ticks": ""
           },
           "bgcolor": "#E5ECF6",
           "caxis": {
            "gridcolor": "white",
            "linecolor": "white",
            "ticks": ""
           }
          },
          "title": {
           "x": 0.05
          },
          "xaxis": {
           "automargin": true,
           "gridcolor": "white",
           "linecolor": "white",
           "ticks": "",
           "title": {
            "standoff": 15
           },
           "zerolinecolor": "white",
           "zerolinewidth": 2
          },
          "yaxis": {
           "automargin": true,
           "gridcolor": "white",
           "linecolor": "white",
           "ticks": "",
           "title": {
            "standoff": 15
           },
           "zerolinecolor": "white",
           "zerolinewidth": 2
          }
         }
        },
        "title": {
         "text": "Bitstamp:BTCUSD"
        },
        "width": 1000,
        "xaxis": {
         "anchor": "y",
         "domain": [
          0,
          1
         ],
         "matches": "x2",
         "showticklabels": false,
         "title": {
          "text": "Date"
         }
        },
        "xaxis2": {
         "anchor": "y2",
         "domain": [
          0,
          1
         ]
        },
        "yaxis": {
         "anchor": "x",
         "domain": [
          0.24,
          1
         ],
         "range": [
          110426.4,
          123420
         ],
         "title": {
          "text": "Price"
         }
        },
        "yaxis2": {
         "anchor": "x2",
         "domain": [
          0,
          0.19
         ]
        }
       }
      }
     },
     "metadata": {},
     "output_type": "display_data"
    }
   ],
   "source": [
    "def viz(symbol, trades_df, historical_data):\n",
    "    # Visualize\n",
    "    fig = make_subplots(rows=2, cols=1, shared_xaxes=True, vertical_spacing=0.05, row_heights=[0.8, 0.2])\n",
    "    fig.add_trace(go.Candlestick(x=historical_data[symbol].index,\n",
    "                    open=historical_data[symbol].open,\n",
    "                    high=historical_data[symbol].high,\n",
    "                    low=historical_data[symbol].low,\n",
    "                    close=historical_data[symbol].close,\n",
    "                    ), row=1, col=1)\n",
    "    set_ylim = (historical_data[symbol].low.min() * 0.98, historical_data[symbol].high.max() * 1.02)\n",
    "    # Add buy/sell markers from trades_df to the candlestick chart (row 1)\n",
    "    if 'trades_df' in locals():\n",
    "        buy_trades = trades_df[trades_df['Side'] == 'buy']\n",
    "        sell_trades = trades_df[trades_df['Side'] == 'sell']\n",
    "        # Buy markers\n",
    "        fig.add_trace(\n",
    "            go.Scatter(\n",
    "                x=buy_trades['Timestamp'],\n",
    "                y=historical_data[symbol][historical_data.index.isin(buy_trades['Timestamp'])].low * 0.998,\n",
    "                mode='markers+text',\n",
    "                marker=dict(symbol='triangle-up', color='green', size=12),\n",
    "                text=['Buy']*len(buy_trades),\n",
    "                textposition='bottom center',\n",
    "                name='Buy'\n",
    "            ),\n",
    "            row=1, col=1\n",
    "        )\n",
    "        # Sell markers\n",
    "        fig.add_trace(\n",
    "            go.Scatter(\n",
    "                x=sell_trades['Timestamp'],\n",
    "                y=historical_data[symbol][historical_data.index.isin(sell_trades['Timestamp'])].high * 1.002,\n",
    "                mode='markers+text',\n",
    "                marker=dict(symbol='triangle-down', color='red', size=12),\n",
    "                text=['Sell']*len(sell_trades),\n",
    "                textposition='top center',\n",
    "                name='Sell'\n",
    "            ),\n",
    "            row=1, col=1\n",
    "        )\n",
    "\n",
    "    fig.add_trace(go.Bar(x=historical_data[symbol].index,\n",
    "                        y=historical_data[symbol].volume,\n",
    "                        ), row=2, col=1)\n",
    "\n",
    "    fig.update_layout(title=f'{symbol}',\n",
    "                    yaxis_range=(set_ylim[0], set_ylim[1]),\n",
    "                    xaxis_title='Date',\n",
    "                    yaxis_title='Price', \n",
    "                    height=800, width=1000)\n",
    "    fig.show()\n",
    "\n",
    "viz(symbols[0], trades_df, historical_data)"
   ]
  },
  {
   "cell_type": "code",
   "execution_count": 11,
   "id": "11567866",
   "metadata": {},
   "outputs": [
    {
     "name": "stdout",
     "output_type": "stream",
     "text": [
      "=== STRATEGY COMPARISON ===\n",
      "\n",
      "Strategy: sma_crossover\n",
      "Type: SMACrossoverStrategy\n",
      "Parameters: {'name': 'sma_crossover', 'strategy_type': 'SMA Crossover', 'short_window': 5, 'long_window': 30, 'description': 'SMA Crossover with 5/30 periods'}\n",
      "\n",
      "Strategy: rsi\n",
      "Type: RSIStrategy\n",
      "Parameters: {'name': 'rsi', 'strategy_type': 'RSI Strategy', 'period': 20, 'overbought_threshold': 70, 'oversold_threshold': 30, 'confirmation_period': 2, 'description': 'RSI Strategy with 20 period, 30/70 levels'}\n",
      "\n",
      "Strategy: macd\n",
      "Type: MACDStrategy\n",
      "Parameters: {'name': 'macd', 'strategy_type': 'MACD Strategy', 'fast_period': 15, 'slow_period': 20, 'signal_period': 7, 'histogram_threshold': 0.0, 'confirmation_period': 1, 'description': 'MACD Strategy with 15/20/7 periods'}\n"
     ]
    }
   ],
   "source": [
    "# Cell 9: So sánh performance của các strategies\n",
    "def compare_strategies(engine):\n",
    "    \"\"\"Compare performance of different strategies\"\"\"\n",
    "    if not hasattr(engine, 'strategies') or not engine.strategies:\n",
    "        print(\"Không có strategies để so sánh\")\n",
    "        return\n",
    "    \n",
    "    strategy_results = {}\n",
    "    \n",
    "    for name, strategy in engine.strategies.items():\n",
    "        # Calculate basic metrics for each strategy\n",
    "        # This is a simplified version - you might want to run separate backtests\n",
    "        strategy_results[name] = {\n",
    "            'name': name,\n",
    "            'type': strategy.__class__.__name__,\n",
    "            'parameters': strategy.get_summary()\n",
    "        }\n",
    "    \n",
    "    # Display strategy comparison\n",
    "    print(\"=== STRATEGY COMPARISON ===\")\n",
    "    for name, result in strategy_results.items():\n",
    "        print(f\"\\nStrategy: {name}\")\n",
    "        print(f\"Type: {result['type']}\")\n",
    "        print(f\"Parameters: {result['parameters']}\")\n",
    "\n",
    "compare_strategies(engine)"
   ]
  }
 ],
 "metadata": {
  "kernelspec": {
   "display_name": "Python 3",
   "language": "python",
   "name": "python3"
  },
  "language_info": {
   "codemirror_mode": {
    "name": "ipython",
    "version": 3
   },
   "file_extension": ".py",
   "mimetype": "text/x-python",
   "name": "python",
   "nbconvert_exporter": "python",
   "pygments_lexer": "ipython3",
   "version": "3.13.5"
  }
 },
 "nbformat": 4,
 "nbformat_minor": 5
}
