{
 "cells": [
  {
   "cell_type": "code",
   "execution_count": 1,
   "id": "b0806164",
   "metadata": {},
   "outputs": [
    {
     "name": "stderr",
     "output_type": "stream",
     "text": [
      "C:\\Users\\huynh.th\\AppData\\Local\\Packages\\PythonSoftwareFoundation.Python.3.13_qbz5n2kfra8p0\\LocalCache\\local-packages\\Python313\\site-packages\\vnai\\scope\\profile.py:562: UserWarning: pkg_resources is deprecated as an API. See https://setuptools.pypa.io/en/latest/pkg_resources.html. The pkg_resources package is slated for removal as early as 2025-11-30. Refrain from using this package or pin to Setuptools<81.\n",
      "  import pkg_resources\n"
     ]
    },
    {
     "name": "stdout",
     "output_type": "stream",
     "text": [
      "Import thành công!\n"
     ]
    }
   ],
   "source": [
    "# Cell 1: Setup imports\n",
    "import os\n",
    "import sys\n",
    "import pandas as pd\n",
    "import numpy as np\n",
    "from datetime import datetime, timedelta\n",
    "\n",
    "# Thêm đường dẫn gốc của dự án vào sys.path\n",
    "project_root = os.path.abspath(os.path.join(os.getcwd(), '..', '..'))\n",
    "if project_root not in sys.path:\n",
    "    sys.path.insert(0, project_root)\n",
    "\n",
    "# Import TradingEngine và components\n",
    "from src.core.trading_engine import TradingEngine\n",
    "from src.strategies.sma_crossover import SMACrossoverStrategy\n",
    "from src.strategies.rsi_strategy import RSIStrategy\n",
    "from src.strategies.macd_strategy import MACDStrategy\n",
    "from src.utils.config_manager import ConfigManager\n",
    "from src.data.data_manager import DataManager\n",
    "\n",
    "# Import visualization\n",
    "import plotly.graph_objects as go\n",
    "from plotly.subplots import make_subplots\n",
    "import matplotlib.pyplot as plt\n",
    "import seaborn as sns\n",
    "\n",
    "print(\"Import thành công!\")"
   ]
  },
  {
   "cell_type": "code",
   "execution_count": 2,
   "id": "75e3eb6d",
   "metadata": {},
   "outputs": [
    {
     "name": "stderr",
     "output_type": "stream",
     "text": [
      "\u001b[32m2025-08-01 15:44:53.367\u001b[0m | \u001b[1mINFO    \u001b[0m | \u001b[36msrc.utils.config_manager\u001b[0m:\u001b[36m__init__\u001b[0m:\u001b[36m31\u001b[0m - \u001b[1mConfiguration loaded from ../../config/config.yaml\u001b[0m\n",
      "\u001b[32m2025-08-01 15:44:53.368\u001b[0m | \u001b[1mINFO    \u001b[0m | \u001b[36msrc.risk.risk_manager\u001b[0m:\u001b[36m__init__\u001b[0m:\u001b[36m49\u001b[0m - \u001b[1mRisk manager initialized\u001b[0m\n",
      "\u001b[32m2025-08-01 15:44:53.368\u001b[0m | \u001b[1mINFO    \u001b[0m | \u001b[36msrc.core.trading_engine\u001b[0m:\u001b[36m__init__\u001b[0m:\u001b[36m77\u001b[0m - \u001b[1mTrading engine initialized with $100,000.00 initial capital\u001b[0m\n"
     ]
    },
    {
     "name": "stdout",
     "output_type": "stream",
     "text": [
      "TradingEngine đã được khởi tạo với vốn ban đầu: $100,000.00\n",
      "Config loaded: ['Bitstamp:BTCUSD']\n",
      "Config loaded: tradingview\n"
     ]
    }
   ],
   "source": [
    "# Cell 2: Khởi tạo TradingEngine\n",
    "config_path = \"../../config/config.yaml\"\n",
    "engine = TradingEngine(config_path)\n",
    "\n",
    "print(f\"TradingEngine đã được khởi tạo với vốn ban đầu: ${engine.cash:,.2f}\")\n",
    "print(f\"Config loaded: {engine.config.get('trading.symbols')}\")\n",
    "print(f\"Config loaded: {engine.config.get('data.source')}\")"
   ]
  },
  {
   "cell_type": "code",
   "execution_count": 3,
   "id": "b92987be",
   "metadata": {},
   "outputs": [
    {
     "name": "stderr",
     "output_type": "stream",
     "text": [
      "\u001b[32m2025-08-01 15:44:53.394\u001b[0m | \u001b[1mINFO    \u001b[0m | \u001b[36msrc.data.data_manager\u001b[0m:\u001b[36mget_historical_data\u001b[0m:\u001b[36m64\u001b[0m - \u001b[1mFetching historical OHLCV data for ['Bitstamp:BTCUSD'] from 2023-01-01 to 2025-07-31\u001b[0m\n"
     ]
    },
    {
     "name": "stderr",
     "output_type": "stream",
     "text": [
      "\u001b[32m2025-08-01 15:44:53.677\u001b[0m | \u001b[1mINFO    \u001b[0m | \u001b[36msrc.data.data_manager\u001b[0m:\u001b[36m_fetch_tradingview_ohlcv_data\u001b[0m:\u001b[36m158\u001b[0m - \u001b[1mSuccessfully fetched OHLCV data for 1 symbols\u001b[0m\n",
      "\u001b[32m2025-08-01 15:44:53.678\u001b[0m | \u001b[1mINFO    \u001b[0m | \u001b[36msrc.data.data_manager\u001b[0m:\u001b[36mget_historical_data\u001b[0m:\u001b[36m97\u001b[0m - \u001b[1mOHLCV data cached successfully\u001b[0m\n"
     ]
    },
    {
     "name": "stdout",
     "output_type": "stream",
     "text": [
      "Lấy data cho symbols: ['Bitstamp:BTCUSD']\n",
      "Data shape: (100, 5)\n",
      "Data columns: [('Bitstamp:BTCUSD', 'open'), ('Bitstamp:BTCUSD', 'high'), ('Bitstamp:BTCUSD', 'low'), ('Bitstamp:BTCUSD', 'close'), ('Bitstamp:BTCUSD', 'volume')]\n",
      "Date range: 2025-07-16 03:00:00         đến 2025-08-01 15:00:00             interval: 4h\n"
     ]
    }
   ],
   "source": [
    "# Cell 3: Chuẩn bị data\n",
    "# Sử dụng data có sẵn hoặc lấy từ DataManager\n",
    "symbols = engine.config.get(\"trading.symbols\", [\"AAPL\"])\n",
    "start_date = engine.config.get(\"data.start_date\", \"2023-01-01\")\n",
    "end_date = engine.config.get(\"data.end_date\", \"2023-12-31\")\n",
    "\n",
    "\n",
    "# Lấy data từ DataManager\n",
    "data_manager = DataManager(engine.config)\n",
    "historical_data = data_manager.get_historical_data(\n",
    "    symbols=symbols,\n",
    "    start_date=start_date,\n",
    "    end_date=end_date,\n",
    "    interval=engine.config.get(\"data.interval\", \"1d\"),\n",
    "    n_bars=engine.config.get(\"data.n_bars\", 1000)\n",
    ")\n",
    "\n",
    "print(f\"Lấy data cho symbols: {symbols}\")\n",
    "# print(f\"Period: {start_date} đến {end_date}\")\n",
    "print(f\"Data shape: {historical_data.shape}\")\n",
    "print(f\"Data columns: {historical_data.columns.tolist()}\")\n",
    "print(\n",
    "    f\"Date range: {historical_data.index.min()} \\\n",
    "        đến {historical_data.index.max()} \\\n",
    "            interval: {engine.config.get('data.interval', '1d')}\"\n",
    ")"
   ]
  },
  {
   "cell_type": "code",
   "execution_count": 4,
   "id": "576a4205",
   "metadata": {},
   "outputs": [
    {
     "data": {
      "text/html": [
       "<div>\n",
       "<style scoped>\n",
       "    .dataframe tbody tr th:only-of-type {\n",
       "        vertical-align: middle;\n",
       "    }\n",
       "\n",
       "    .dataframe tbody tr th {\n",
       "        vertical-align: top;\n",
       "    }\n",
       "\n",
       "    .dataframe thead tr th {\n",
       "        text-align: left;\n",
       "    }\n",
       "\n",
       "    .dataframe thead tr:last-of-type th {\n",
       "        text-align: right;\n",
       "    }\n",
       "</style>\n",
       "<table border=\"1\" class=\"dataframe\">\n",
       "  <thead>\n",
       "    <tr>\n",
       "      <th></th>\n",
       "      <th colspan=\"5\" halign=\"left\">Bitstamp:BTCUSD</th>\n",
       "    </tr>\n",
       "    <tr>\n",
       "      <th></th>\n",
       "      <th>open</th>\n",
       "      <th>high</th>\n",
       "      <th>low</th>\n",
       "      <th>close</th>\n",
       "      <th>volume</th>\n",
       "    </tr>\n",
       "    <tr>\n",
       "      <th>time</th>\n",
       "      <th></th>\n",
       "      <th></th>\n",
       "      <th></th>\n",
       "      <th></th>\n",
       "      <th></th>\n",
       "    </tr>\n",
       "  </thead>\n",
       "  <tbody>\n",
       "    <tr>\n",
       "      <th>2025-07-16 03:00:00</th>\n",
       "      <td>116413.0</td>\n",
       "      <td>117986.0</td>\n",
       "      <td>116237.0</td>\n",
       "      <td>117769.0</td>\n",
       "      <td>205.754048</td>\n",
       "    </tr>\n",
       "    <tr>\n",
       "      <th>2025-07-16 07:00:00</th>\n",
       "      <td>117770.0</td>\n",
       "      <td>118210.0</td>\n",
       "      <td>117047.0</td>\n",
       "      <td>117503.0</td>\n",
       "      <td>99.005487</td>\n",
       "    </tr>\n",
       "    <tr>\n",
       "      <th>2025-07-16 11:00:00</th>\n",
       "      <td>117504.0</td>\n",
       "      <td>118322.0</td>\n",
       "      <td>117280.0</td>\n",
       "      <td>118199.0</td>\n",
       "      <td>101.751413</td>\n",
       "    </tr>\n",
       "    <tr>\n",
       "      <th>2025-07-16 15:00:00</th>\n",
       "      <td>118199.0</td>\n",
       "      <td>119310.0</td>\n",
       "      <td>118143.0</td>\n",
       "      <td>118795.0</td>\n",
       "      <td>153.251405</td>\n",
       "    </tr>\n",
       "    <tr>\n",
       "      <th>2025-07-16 19:00:00</th>\n",
       "      <td>118798.0</td>\n",
       "      <td>119850.0</td>\n",
       "      <td>118213.0</td>\n",
       "      <td>119135.0</td>\n",
       "      <td>567.632188</td>\n",
       "    </tr>\n",
       "  </tbody>\n",
       "</table>\n",
       "</div>"
      ],
      "text/plain": [
       "                    Bitstamp:BTCUSD                                          \n",
       "                               open      high       low     close      volume\n",
       "time                                                                         \n",
       "2025-07-16 03:00:00        116413.0  117986.0  116237.0  117769.0  205.754048\n",
       "2025-07-16 07:00:00        117770.0  118210.0  117047.0  117503.0   99.005487\n",
       "2025-07-16 11:00:00        117504.0  118322.0  117280.0  118199.0  101.751413\n",
       "2025-07-16 15:00:00        118199.0  119310.0  118143.0  118795.0  153.251405\n",
       "2025-07-16 19:00:00        118798.0  119850.0  118213.0  119135.0  567.632188"
      ]
     },
     "execution_count": 4,
     "metadata": {},
     "output_type": "execute_result"
    }
   ],
   "source": [
    "historical_data.head()"
   ]
  },
  {
   "cell_type": "code",
   "execution_count": 4,
   "id": "0a7dfe91",
   "metadata": {},
   "outputs": [
    {
     "name": "stderr",
     "output_type": "stream",
     "text": [
      "\u001b[32m2025-08-01 15:44:59.605\u001b[0m | \u001b[1mINFO    \u001b[0m | \u001b[36msrc.strategies.base_strategy\u001b[0m:\u001b[36m__init__\u001b[0m:\u001b[36m34\u001b[0m - \u001b[1mInitialized strategy: sma_crossover\u001b[0m\n",
      "\u001b[32m2025-08-01 15:44:59.606\u001b[0m | \u001b[1mINFO    \u001b[0m | \u001b[36msrc.strategies.sma_crossover\u001b[0m:\u001b[36m__init__\u001b[0m:\u001b[36m48\u001b[0m - \u001b[1mSMA Crossover Strategy initialized: 5/30\u001b[0m\n",
      "\u001b[32m2025-08-01 15:44:59.607\u001b[0m | \u001b[1mINFO    \u001b[0m | \u001b[36msrc.core.trading_engine\u001b[0m:\u001b[36madd_strategy\u001b[0m:\u001b[36m82\u001b[0m - \u001b[1mAdded strategy: sma_crossover\u001b[0m\n",
      "\u001b[32m2025-08-01 15:44:59.608\u001b[0m | \u001b[1mINFO    \u001b[0m | \u001b[36msrc.strategies.base_strategy\u001b[0m:\u001b[36m__init__\u001b[0m:\u001b[36m34\u001b[0m - \u001b[1mInitialized strategy: rsi\u001b[0m\n",
      "\u001b[32m2025-08-01 15:44:59.608\u001b[0m | \u001b[1mINFO    \u001b[0m | \u001b[36msrc.strategies.rsi_strategy\u001b[0m:\u001b[36m__init__\u001b[0m:\u001b[36m56\u001b[0m - \u001b[1mRSI Strategy initialized: period=20, overbought=70, oversold=30\u001b[0m\n",
      "\u001b[32m2025-08-01 15:44:59.609\u001b[0m | \u001b[1mINFO    \u001b[0m | \u001b[36msrc.core.trading_engine\u001b[0m:\u001b[36madd_strategy\u001b[0m:\u001b[36m82\u001b[0m - \u001b[1mAdded strategy: rsi\u001b[0m\n",
      "\u001b[32m2025-08-01 15:44:59.609\u001b[0m | \u001b[1mINFO    \u001b[0m | \u001b[36msrc.strategies.base_strategy\u001b[0m:\u001b[36m__init__\u001b[0m:\u001b[36m34\u001b[0m - \u001b[1mInitialized strategy: macd\u001b[0m\n",
      "\u001b[32m2025-08-01 15:44:59.610\u001b[0m | \u001b[1mINFO    \u001b[0m | \u001b[36msrc.strategies.macd_strategy\u001b[0m:\u001b[36m__init__\u001b[0m:\u001b[36m54\u001b[0m - \u001b[1mMACD Strategy initialized: fast=15, slow=20, signal=7\u001b[0m\n",
      "\u001b[32m2025-08-01 15:44:59.610\u001b[0m | \u001b[1mINFO    \u001b[0m | \u001b[36msrc.core.trading_engine\u001b[0m:\u001b[36madd_strategy\u001b[0m:\u001b[36m82\u001b[0m - \u001b[1mAdded strategy: macd\u001b[0m\n"
     ]
    },
    {
     "name": "stdout",
     "output_type": "stream",
     "text": [
      "Đã thêm 3 strategies:\n",
      "  - sma_crossover: SMACrossoverStrategy\n",
      "  - rsi: RSIStrategy\n",
      "  - macd: MACDStrategy\n"
     ]
    }
   ],
   "source": [
    "# Cell 4: Thêm strategies\n",
    "# SMA Crossover Strategy\n",
    "sma_strategy = SMACrossoverStrategy({\n",
    "    \"short_window\": engine.config.get(\"strategies.sma_crossover.short_window\", 5),\n",
    "    \"long_window\": engine.config.get(\"strategies.sma_crossover.long_window\", 30),\n",
    "    \"name\": \"SMA_Crossover\"\n",
    "})\n",
    "engine.add_strategy(sma_strategy)\n",
    "\n",
    "# RSI Strategy\n",
    "rsi_strategy = RSIStrategy({\n",
    "    \"period\": engine.config.get(\"strategies.rsi.period\", 14),\n",
    "    \"oversold\": engine.config.get(\"strategies.rsi.oversold\", 30),\n",
    "    \"overbought\": engine.config.get(\"strategies.rsi.overbought\", 70),\n",
    "    \"name\": \"RSI_Strategy\"\n",
    "})\n",
    "engine.add_strategy(rsi_strategy)\n",
    "\n",
    "# MACD Strategy\n",
    "macd_strategy = MACDStrategy({\n",
    "    \"fast_period\": engine.config.get(\"strategies.macd.fast_period\", 15),\n",
    "    \"slow_period\": engine.config.get(\"strategies.macd.slow_period\", 20),\n",
    "    \"signal_period\": engine.config.get(\"strategies.macd.signal_period\", 7),\n",
    "    \"name\": \"MACD_Strategy\"\n",
    "})\n",
    "engine.add_strategy(macd_strategy)\n",
    "\n",
    "print(f\"Đã thêm {len(engine.strategies)} strategies:\")\n",
    "for name, strategy in engine.strategies.items():\n",
    "    print(f\"  - {name}: {strategy.__class__.__name__}\")"
   ]
  },
  {
   "cell_type": "code",
   "execution_count": 5,
   "id": "1186be44",
   "metadata": {},
   "outputs": [
    {
     "name": "stderr",
     "output_type": "stream",
     "text": [
      "\u001b[32m2025-08-01 15:45:00.650\u001b[0m | \u001b[1mINFO    \u001b[0m | \u001b[36msrc.core.trading_engine\u001b[0m:\u001b[36mrun_backtest\u001b[0m:\u001b[36m86\u001b[0m - \u001b[1mStarting backtest from 2023-01-01 to 2025-07-31\u001b[0m\n",
      "\u001b[32m2025-08-01 15:45:00.650\u001b[0m | \u001b[1mINFO    \u001b[0m | \u001b[36msrc.data.data_manager\u001b[0m:\u001b[36mget_historical_data_standardized\u001b[0m:\u001b[36m588\u001b[0m - \u001b[1mFetching standardized OHLCV data for ['Bitstamp:BTCUSD'] from 2023-01-01 to 2025-07-31\u001b[0m\n",
      "\u001b[32m2025-08-01 15:45:00.651\u001b[0m | \u001b[1mINFO    \u001b[0m | \u001b[36msrc.data.data_manager\u001b[0m:\u001b[36mget_historical_data\u001b[0m:\u001b[36m64\u001b[0m - \u001b[1mFetching historical OHLCV data for ['Bitstamp:BTCUSD'] from 2023-01-01 to 2025-07-31\u001b[0m\n"
     ]
    },
    {
     "name": "stdout",
     "output_type": "stream",
     "text": [
      "Bắt đầu chạy backtest...\n",
      "SMA Crossover: True\n",
      "RSI: False\n",
      "MACD: False \n",
      "\n"
     ]
    },
    {
     "name": "stderr",
     "output_type": "stream",
     "text": [
      "\u001b[32m2025-08-01 15:45:00.930\u001b[0m | \u001b[1mINFO    \u001b[0m | \u001b[36msrc.data.data_manager\u001b[0m:\u001b[36m_fetch_tradingview_ohlcv_data\u001b[0m:\u001b[36m158\u001b[0m - \u001b[1mSuccessfully fetched OHLCV data for 1 symbols\u001b[0m\n",
      "\u001b[32m2025-08-01 15:45:00.931\u001b[0m | \u001b[1mINFO    \u001b[0m | \u001b[36msrc.data.data_manager\u001b[0m:\u001b[36mget_historical_data\u001b[0m:\u001b[36m97\u001b[0m - \u001b[1mOHLCV data cached successfully\u001b[0m\n",
      "\u001b[32m2025-08-01 15:45:00.933\u001b[0m | \u001b[1mINFO    \u001b[0m | \u001b[36msrc.data.data_manager\u001b[0m:\u001b[36mensure_ohlcv_format\u001b[0m:\u001b[36m499\u001b[0m - \u001b[1mData formatted for Bitstamp:BTCUSD: (100, 5)\u001b[0m\n",
      "\u001b[32m2025-08-01 15:45:00.934\u001b[0m | \u001b[1mINFO    \u001b[0m | \u001b[36msrc.data.data_manager\u001b[0m:\u001b[36mget_historical_data_standardized\u001b[0m:\u001b[36m621\u001b[0m - \u001b[1mSuccessfully standardized OHLCV data for 1 symbols\u001b[0m\n",
      "\u001b[32m2025-08-01 15:45:00.937\u001b[0m | \u001b[1mINFO    \u001b[0m | \u001b[36msrc.core.trading_engine\u001b[0m:\u001b[36mrun_backtest\u001b[0m:\u001b[36m107\u001b[0m - \u001b[1mLoaded 100 data points for [('Bitstamp:BTCUSD', 'open'), ('Bitstamp:BTCUSD', 'high'), ('Bitstamp:BTCUSD', 'low'), ('Bitstamp:BTCUSD', 'close'), ('Bitstamp:BTCUSD', 'volume')]\u001b[0m\n",
      "\u001b[32m2025-08-01 15:45:00.950\u001b[0m | \u001b[1mINFO    \u001b[0m | \u001b[36msrc.strategies.sma_crossover\u001b[0m:\u001b[36m_generate_signal_for_symbol\u001b[0m:\u001b[36m109\u001b[0m - \u001b[1mGolden cross detected for Bitstamp:BTCUSD: 118563.60 > 118355.17\u001b[0m\n",
      "\u001b[32m2025-08-01 15:45:00.950\u001b[0m | \u001b[1mINFO    \u001b[0m | \u001b[36msrc.core.trading_engine\u001b[0m:\u001b[36m_execute_buy_order\u001b[0m:\u001b[36m236\u001b[0m - \u001b[1mBUY: 0.168 Bitstamp:BTCUSD @ $119344.00 (sma_crossover)\u001b[0m\n",
      "\u001b[32m2025-08-01 15:45:00.958\u001b[0m | \u001b[1mINFO    \u001b[0m | \u001b[36msrc.strategies.sma_crossover\u001b[0m:\u001b[36m_generate_signal_for_symbol\u001b[0m:\u001b[36m113\u001b[0m - \u001b[1mDeath cross detected for Bitstamp:BTCUSD: 118118.20 < 118364.77\u001b[0m\n",
      "\u001b[32m2025-08-01 15:45:00.959\u001b[0m | \u001b[1mINFO    \u001b[0m | \u001b[36msrc.core.trading_engine\u001b[0m:\u001b[36m_execute_sell_order\u001b[0m:\u001b[36m274\u001b[0m - \u001b[1mSELL: 0.17 Bitstamp:BTCUSD @ $115400.00 | P&L: $-680.29 (-3.40%) (sma_crossover)\u001b[0m\n",
      "\u001b[32m2025-08-01 15:45:00.987\u001b[0m | \u001b[1mINFO    \u001b[0m | \u001b[36msrc.strategies.sma_crossover\u001b[0m:\u001b[36m_generate_signal_for_symbol\u001b[0m:\u001b[36m109\u001b[0m - \u001b[1mGolden cross detected for Bitstamp:BTCUSD: 118098.80 > 118073.20\u001b[0m\n",
      "\u001b[32m2025-08-01 15:45:00.988\u001b[0m | \u001b[1mINFO    \u001b[0m | \u001b[36msrc.core.trading_engine\u001b[0m:\u001b[36m_execute_buy_order\u001b[0m:\u001b[36m236\u001b[0m - \u001b[1mBUY: 0.168 Bitstamp:BTCUSD @ $118243.00 (sma_crossover)\u001b[0m\n",
      "\u001b[32m2025-08-01 15:45:01.007\u001b[0m | \u001b[1mINFO    \u001b[0m | \u001b[36msrc.strategies.sma_crossover\u001b[0m:\u001b[36m_generate_signal_for_symbol\u001b[0m:\u001b[36m113\u001b[0m - \u001b[1mDeath cross detected for Bitstamp:BTCUSD: 117905.80 < 117976.97\u001b[0m\n",
      "\u001b[32m2025-08-01 15:45:01.009\u001b[0m | \u001b[1mINFO    \u001b[0m | \u001b[36msrc.core.trading_engine\u001b[0m:\u001b[36m_execute_sell_order\u001b[0m:\u001b[36m274\u001b[0m - \u001b[1mSELL: 0.17 Bitstamp:BTCUSD @ $118144.00 | P&L: $-36.47 (-0.18%) (sma_crossover)\u001b[0m\n",
      "\u001b[32m2025-08-01 15:45:01.023\u001b[0m | \u001b[1mINFO    \u001b[0m | \u001b[36msrc.strategies.sma_crossover\u001b[0m:\u001b[36m_generate_signal_for_symbol\u001b[0m:\u001b[36m109\u001b[0m - \u001b[1mGolden cross detected for Bitstamp:BTCUSD: 118316.80 > 118284.57\u001b[0m\n",
      "\u001b[32m2025-08-01 15:45:01.025\u001b[0m | \u001b[1mINFO    \u001b[0m | \u001b[36msrc.core.trading_engine\u001b[0m:\u001b[36m_execute_buy_order\u001b[0m:\u001b[36m236\u001b[0m - \u001b[1mBUY: 0.168 Bitstamp:BTCUSD @ $118290.00 (sma_crossover)\u001b[0m\n",
      "\u001b[32m2025-08-01 15:45:01.030\u001b[0m | \u001b[1mINFO    \u001b[0m | \u001b[36msrc.strategies.sma_crossover\u001b[0m:\u001b[36m_generate_signal_for_symbol\u001b[0m:\u001b[36m113\u001b[0m - \u001b[1mDeath cross detected for Bitstamp:BTCUSD: 118103.40 < 118234.27\u001b[0m\n",
      "\u001b[32m2025-08-01 15:45:01.031\u001b[0m | \u001b[1mINFO    \u001b[0m | \u001b[36msrc.core.trading_engine\u001b[0m:\u001b[36m_execute_sell_order\u001b[0m:\u001b[36m274\u001b[0m - \u001b[1mSELL: 0.17 Bitstamp:BTCUSD @ $116767.00 | P&L: $-275.15 (-1.39%) (sma_crossover)\u001b[0m\n",
      "\u001b[32m2025-08-01 15:45:01.044\u001b[0m | \u001b[1mINFO    \u001b[0m | \u001b[36msrc.core.trading_engine\u001b[0m:\u001b[36m_generate_backtest_report\u001b[0m:\u001b[36m326\u001b[0m - \u001b[1m=== BACKTEST RESULTS ===\u001b[0m\n",
      "\u001b[32m2025-08-01 15:45:01.046\u001b[0m | \u001b[1mINFO    \u001b[0m | \u001b[36msrc.core.trading_engine\u001b[0m:\u001b[36m_generate_backtest_report\u001b[0m:\u001b[36m327\u001b[0m - \u001b[1mInitial Capital: $100,000.00\u001b[0m\n",
      "\u001b[32m2025-08-01 15:45:01.046\u001b[0m | \u001b[1mINFO    \u001b[0m | \u001b[36msrc.core.trading_engine\u001b[0m:\u001b[36m_generate_backtest_report\u001b[0m:\u001b[36m328\u001b[0m - \u001b[1mFinal Portfolio Value: $98,948.39\u001b[0m\n",
      "\u001b[32m2025-08-01 15:45:01.047\u001b[0m | \u001b[1mINFO    \u001b[0m | \u001b[36msrc.core.trading_engine\u001b[0m:\u001b[36m_generate_backtest_report\u001b[0m:\u001b[36m329\u001b[0m - \u001b[1mTotal Return: -1.05%\u001b[0m\n",
      "\u001b[32m2025-08-01 15:45:01.047\u001b[0m | \u001b[1mINFO    \u001b[0m | \u001b[36msrc.core.trading_engine\u001b[0m:\u001b[36m_generate_backtest_report\u001b[0m:\u001b[36m330\u001b[0m - \u001b[1mAnnualized Volatility: 1.16%\u001b[0m\n",
      "\u001b[32m2025-08-01 15:45:01.048\u001b[0m | \u001b[1mINFO    \u001b[0m | \u001b[36msrc.core.trading_engine\u001b[0m:\u001b[36m_generate_backtest_report\u001b[0m:\u001b[36m331\u001b[0m - \u001b[1mSharpe Ratio: -2.31\u001b[0m\n",
      "\u001b[32m2025-08-01 15:45:01.048\u001b[0m | \u001b[1mINFO    \u001b[0m | \u001b[36msrc.core.trading_engine\u001b[0m:\u001b[36m_generate_backtest_report\u001b[0m:\u001b[36m332\u001b[0m - \u001b[1mMaximum Drawdown: -1.14%\u001b[0m\n",
      "\u001b[32m2025-08-01 15:45:01.048\u001b[0m | \u001b[1mINFO    \u001b[0m | \u001b[36msrc.core.trading_engine\u001b[0m:\u001b[36m_generate_backtest_report\u001b[0m:\u001b[36m333\u001b[0m - \u001b[1mTotal Trades: 6\u001b[0m\n",
      "\u001b[32m2025-08-01 15:45:01.049\u001b[0m | \u001b[1mINFO    \u001b[0m | \u001b[36msrc.core.trading_engine\u001b[0m:\u001b[36m_generate_backtest_report\u001b[0m:\u001b[36m334\u001b[0m - \u001b[1mBuy Trades: 3\u001b[0m\n",
      "\u001b[32m2025-08-01 15:45:01.049\u001b[0m | \u001b[1mINFO    \u001b[0m | \u001b[36msrc.core.trading_engine\u001b[0m:\u001b[36m_generate_backtest_report\u001b[0m:\u001b[36m335\u001b[0m - \u001b[1mSell Trades: 3\u001b[0m\n",
      "\u001b[32m2025-08-01 15:45:01.052\u001b[0m | \u001b[1mINFO    \u001b[0m | \u001b[36msrc.core.trading_engine\u001b[0m:\u001b[36m_generate_backtest_report\u001b[0m:\u001b[36m343\u001b[0m - \u001b[1mBacktest results saved to data/backtest_results.csv\u001b[0m\n",
      "\u001b[32m2025-08-01 15:45:01.055\u001b[0m | \u001b[1mINFO    \u001b[0m | \u001b[36msrc.core.trading_engine\u001b[0m:\u001b[36m_generate_backtest_report\u001b[0m:\u001b[36m360\u001b[0m - \u001b[1mTrade details saved to data/trades.csv\u001b[0m\n"
     ]
    }
   ],
   "source": [
    "# Cell 5: Chạy backtest\n",
    "print(\"Bắt đầu chạy backtest...\")\n",
    "\n",
    "# Chạy chiến lược\n",
    "print('SMA Crossover:', engine.config.get('strategies.sma_crossover.enabled', False))\n",
    "print('RSI:', engine.config.get('strategies.rsi.enabled', False))\n",
    "print('MACD:', engine.config.get('strategies.macd.enabled', False), '\\n')\n",
    "\n",
    "# Chạy backtest với chiến lược đã chọn\n",
    "engine.run_backtest(start_date, end_date)"
   ]
  },
  {
   "cell_type": "code",
   "execution_count": 26,
   "id": "c78dc4b4",
   "metadata": {},
   "outputs": [
    {
     "name": "stdout",
     "output_type": "stream",
     "text": [
      "Visualize data Bitstamp:BTCUSD\n"
     ]
    },
    {
     "data": {
      "application/vnd.plotly.v1+json": {
       "config": {
        "plotlyServerURL": "https://plot.ly"
       },
       "data": [
        {
         "close": {
          "bdata": "AAAAAJDA/EAAAAAA8K/8QAAAAABw2/xAAAAAALAA/UAAAAAA8BX9QAAAAAAgIP1AAAAAAOD7/EAAAAAAENr8QAAAAADA5vxAAAAAAMDR/EAAAAAAAAn9QAAAAADwDf1AAAAAALAe/UAAAAAAoF/9QAAAAACAKf1AAAAAAIAd/UAAAAAAUMv8QAAAAABQrPxAAAAAAGDQ/EAAAAAAwOj8QAAAAABA3/xAAAAAAJDn/EAAAAAAUNb8QAAAAACg0/xAAAAAAMDJ/EAAAAAAwNH8QAAAAACQ1PxAAAAAACDL/EAAAAAAcPz8QAAAAACA3vxAAAAAALCl/EAAAAAAUOv8QAAAAADAJf1AAAAAACDW/EAAAAAAEOf8QAAAAAAghPxAAAAAANCr/EAAAAAAIKD8QAAAAAAw0fxAAAAAAKAb/UAAAAAAMAv9QAAAAAAAI/1AAAAAALBM/UAAAAAAMPn8QAAAAADg6PxAAAAAAAD0/EAAAAAAgPf8QAAAAADw6PxAAAAAANAB/UAAAAAAYPL8QAAAAAAA7fxAAAAAAHD4/EAAAAAAEBf9QAAAAABAD/1AAAAAALDk/EAAAAAAgCz8QAAAAAAQKPxAAAAAACBy/EAAAAAAEEL8QAAAAAAQg/xAAAAAAFC5/EAAAAAA8LH8QAAAAACAp/xAAAAAAGDF/EAAAAAAcNn8QAAAAABA4PxAAAAAAKDM/EAAAAAAMN78QAAAAABA2fxAAAAAAIDX/EAAAAAAIPb8QAAAAAAADv1AAAAAANAq/UAAAAAAQCD9QAAAAABgB/1AAAAAAEAD/UAAAAAAcNn8QAAAAAAQ0/xAAAAAADDS/EAAAAAA8Pz8QAAAAAAgB/1AAAAAAFDz/EAAAAAAUKn8QAAAAACQrvxAAAAAAGDK/EAAAAAAANj8QAAAAAAQ1vxAAAAAAFCz/EAAAAAAAM78QAAAAABAjPxAAAAAAKDE/EAAAAAAcOr8QAAAAAAg+fxAAAAAALDk/EAAAAAAIOH8QAAAAADwgfxAAAAAAGBC/EAAAAAAsDv8QAAAAABwF/xAAAAAAGD7+0A=",
          "dtype": "f8"
         },
         "high": {
          "bdata": "AAAAACDO/EAAAAAAINz8QAAAAAAg4/xAAAAAAOAg/UAAAAAAoEL9QAAAAABAS/1AAAAAAGBR/UAAAAAAoBr9QAAAAABgAv1AAAAAAMAc/UAAAAAAQBX9QAAAAAAgSP1AAAAAAICK/UAAAAAAIIH9QAAAAABAhP1AAAAAAIAw/UAAAAAA8DD9QAAAAACQ1vxAAAAAAGDU/EAAAAAAYOv8QAAAAACA6vxAAAAAAJDx/EAAAAAAwOf8QAAAAABQ3PxAAAAAAJDa/EAAAAAAMNz8QAAAAAAA3/xAAAAAAHDj/EAAAAAAkAL9QAAAAAAAB/1AAAAAAMDi/EAAAAAAsPj8QAAAAAAgOP1AAAAAANAu/UAAAAAAIB/9QAAAAACg6vxAAAAAAJC7/EAAAAAAUM38QAAAAAAQ9vxAAAAAAFAd/UAAAAAAoDT9QAAAAABwW/1AAAAAAJBe/UAAAAAAUFb9QAAAAADwD/1AAAAAAKD5/EAAAAAAEP78QAAAAABw9/xAAAAAAPAB/UAAAAAA4CD9QAAAAACA9/xAAAAAADAF/UAAAAAAUC79QAAAAADgKf1AAAAAAEAS/UAAAAAA0O78QAAAAAAgW/xAAAAAAACE/EAAAAAAQHr8QAAAAADglPxAAAAAAHC5/EAAAAAA4MD8QAAAAAAQtvxAAAAAAMDd/EAAAAAA4N/8QAAAAABA5PxAAAAAAIDi/EAAAAAA0Of8QAAAAADw7PxAAAAAAHDj/EAAAAAAwPb8QAAAAACwMf1AAAAAAGA//UAAAAAAIEH9QAAAAAAgOf1AAAAAABAV/UAAAAAAgBP9QAAAAACg5vxAAAAAAHDj/EAAAAAA4P/8QAAAAAAwHv1AAAAAAAAR/UAAAAAA0BD9QAAAAACg0PxAAAAAAGDM/EAAAAAAEN78QAAAAADw5vxAAAAAAGDr/EAAAAAAcP/8QAAAAAAg0fxAAAAAAMDI/EAAAAAAYPP8QAAAAACAB/1AAAAAAOD9/EAAAAAA4Pf8QAAAAAAwBf1AAAAAAHCO/EAAAAAAYFX8QAAAAACgSvxAAAAAAPAW/EA=",
          "dtype": "f8"
         },
         "low": {
          "bdata": "AAAAANBg/EAAAAAAcJP8QAAAAAAAovxAAAAAAPDX/EAAAAAAUNz8QAAAAABA8PxAAAAAADDt/EAAAAAAIL/8QAAAAACAyfxAAAAAANDQ/EAAAAAAILD8QAAAAACA6vxAAAAAABDu/EAAAAAAQBb9QAAAAACQJv1AAAAAALDs/EAAAAAAEKn8QAAAAACgnvxAAAAAADCL/EAAAAAA4Lz8QAAAAADQ2PxAAAAAALDR/EAAAAAAcL38QAAAAADwuPxAAAAAAICm/EAAAAAAYL78QAAAAABQxfxAAAAAAPDH/EAAAAAAwMH8QAAAAADQ0PxAAAAAAHB0/EAAAAAAIHf8QAAAAAAQ3fxAAAAAACDW/EAAAAAAcMT8QAAAAADwfvxAAAAAAGB+/EAAAAAAoF38QAAAAACgePxAAAAAAMCy/EAAAAAAoLf8QAAAAAAw7fxAAAAAAEAd/UAAAAAAIPX8QAAAAACA5fxAAAAAAMDI/EAAAAAAAKj8QAAAAACQqfxAAAAAAKCs/EAAAAAAsPH8QAAAAAAQnfxAAAAAALDR/EAAAAAAwMn8QAAAAACA6vxAAAAAABDe/EAAAAAAkCr8QAAAAABg9ftAAAAAAFAR/EAAAAAAoA78QAAAAABwMfxAAAAAAKB4/EAAAAAAwJz8QAAAAABwp/xAAAAAAPCn/EAAAAAAcMT8QAAAAAAQz/xAAAAAAIDL/EAAAAAAAMj8QAAAAADg1/xAAAAAAMDJ/EAAAAAAYMz8QAAAAAAg9vxAAAAAAPD//EAAAAAAIA79QAAAAADw//xAAAAAACDu/EAAAAAAwMj8QAAAAACAqfxAAAAAAPCv/EAAAAAAgK38QAAAAACg6fxAAAAAAKDa/EAAAAAAYJ/8QAAAAAAAjPxAAAAAALCT/EAAAAAA0Kr8QAAAAACQu/xAAAAAADCo/EAAAAAAUKf8QAAAAACARPxAAAAAAMCI/EAAAAAAEMH8QAAAAADA4PxAAAAAAODg/EAAAAAAMMP8QAAAAAAwgPxAAAAAAIAz/EAAAAAAIOn7QAAAAADQ+/tAAAAAAEDc+0A=",
          "dtype": "f8"
         },
         "open": {
          "bdata": "AAAAANBr/EAAAAAAoMD8QAAAAAAAsPxAAAAAAHDb/EAAAAAA4AD9QAAAAADwFf1AAAAAAPAf/UAAAAAAQPr8QAAAAAAQ2vxAAAAAAMDm/EAAAAAAwNH8QAAAAADwCP1AAAAAAAAQ/UAAAAAAsB79QAAAAACgX/1AAAAAAHAp/UAAAAAAcB39QAAAAADQyfxAAAAAAHCs/EAAAAAAcND8QAAAAADA6PxAAAAAADDf/EAAAAAAkOf8QAAAAABQ1vxAAAAAAJDT/EAAAAAA0Mn8QAAAAADA0fxAAAAAAJDU/EAAAAAA8Mr8QAAAAACg/fxAAAAAAKDc/EAAAAAAQJ78QAAAAAAg6/xAAAAAAMAl/UAAAAAAMNb8QAAAAAAQ5/xAAAAAADCE/EAAAAAA0Kv8QAAAAAAgoPxAAAAAAODP/EAAAAAAkBv9QAAAAABgC/1AAAAAAJAj/UAAAAAAsEz9QAAAAABA+fxAAAAAAODn/EAAAAAAAPT8QAAAAABw9/xAAAAAAKDr/EAAAAAAsAD9QAAAAADg8/xAAAAAAGDs/EAAAAAAoPb8QAAAAAAQF/1AAAAAABAP/UAAAAAAAOj8QAAAAACALPxAAAAAAPAn/EAAAAAAQHL8QAAAAAAAQvxAAAAAABCD/EAAAAAAQLn8QAAAAADgsfxAAAAAAPCn/EAAAAAAYMX8QAAAAABw2fxAAAAAAEDg/EAAAAAA8M38QAAAAACQ3vxAAAAAAEDZ/EAAAAAAcNf8QAAAAAAg9vxAAAAAACAN/UAAAAAAoC39QAAAAACQIP1AAAAAAFAH/UAAAAAAQAP9QAAAAAAw2fxAAAAAABDT/EAAAAAAQNP8QAAAAACA/fxAAAAAAMAG/UAAAAAAYPP8QAAAAABAqfxAAAAAAOCu/EAAAAAAYMr8QAAAAAAg2fxAAAAAABDW/EAAAAAAgLP8QAAAAAAAzvxAAAAAAHCJ/EAAAAAAkMT8QAAAAABw6/xAAAAAADD5/EAAAAAAoOT8QAAAAAAg4fxAAAAAAICB/EAAAAAAUEL8QAAAAABgO/xAAAAAAPAW/EA=",
          "dtype": "f8"
         },
         "type": "candlestick",
         "x": [
          "2025-07-16T03:00:00",
          "2025-07-16T07:00:00",
          "2025-07-16T11:00:00",
          "2025-07-16T15:00:00",
          "2025-07-16T19:00:00",
          "2025-07-16T23:00:00",
          "2025-07-17T03:00:00",
          "2025-07-17T07:00:00",
          "2025-07-17T11:00:00",
          "2025-07-17T15:00:00",
          "2025-07-17T19:00:00",
          "2025-07-17T23:00:00",
          "2025-07-18T03:00:00",
          "2025-07-18T07:00:00",
          "2025-07-18T11:00:00",
          "2025-07-18T15:00:00",
          "2025-07-18T19:00:00",
          "2025-07-18T23:00:00",
          "2025-07-19T03:00:00",
          "2025-07-19T07:00:00",
          "2025-07-19T11:00:00",
          "2025-07-19T15:00:00",
          "2025-07-19T19:00:00",
          "2025-07-19T23:00:00",
          "2025-07-20T03:00:00",
          "2025-07-20T07:00:00",
          "2025-07-20T11:00:00",
          "2025-07-20T15:00:00",
          "2025-07-20T19:00:00",
          "2025-07-20T23:00:00",
          "2025-07-21T03:00:00",
          "2025-07-21T07:00:00",
          "2025-07-21T11:00:00",
          "2025-07-21T15:00:00",
          "2025-07-21T19:00:00",
          "2025-07-21T23:00:00",
          "2025-07-22T03:00:00",
          "2025-07-22T07:00:00",
          "2025-07-22T11:00:00",
          "2025-07-22T15:00:00",
          "2025-07-22T19:00:00",
          "2025-07-22T23:00:00",
          "2025-07-23T03:00:00",
          "2025-07-23T07:00:00",
          "2025-07-23T11:00:00",
          "2025-07-23T15:00:00",
          "2025-07-23T19:00:00",
          "2025-07-23T23:00:00",
          "2025-07-24T03:00:00",
          "2025-07-24T07:00:00",
          "2025-07-24T11:00:00",
          "2025-07-24T15:00:00",
          "2025-07-24T19:00:00",
          "2025-07-24T23:00:00",
          "2025-07-25T03:00:00",
          "2025-07-25T07:00:00",
          "2025-07-25T11:00:00",
          "2025-07-25T15:00:00",
          "2025-07-25T19:00:00",
          "2025-07-25T23:00:00",
          "2025-07-26T03:00:00",
          "2025-07-26T07:00:00",
          "2025-07-26T11:00:00",
          "2025-07-26T15:00:00",
          "2025-07-26T19:00:00",
          "2025-07-26T23:00:00",
          "2025-07-27T03:00:00",
          "2025-07-27T07:00:00",
          "2025-07-27T11:00:00",
          "2025-07-27T15:00:00",
          "2025-07-27T19:00:00",
          "2025-07-27T23:00:00",
          "2025-07-28T03:00:00",
          "2025-07-28T07:00:00",
          "2025-07-28T11:00:00",
          "2025-07-28T15:00:00",
          "2025-07-28T19:00:00",
          "2025-07-28T23:00:00",
          "2025-07-29T03:00:00",
          "2025-07-29T07:00:00",
          "2025-07-29T11:00:00",
          "2025-07-29T15:00:00",
          "2025-07-29T19:00:00",
          "2025-07-29T23:00:00",
          "2025-07-30T03:00:00",
          "2025-07-30T07:00:00",
          "2025-07-30T11:00:00",
          "2025-07-30T15:00:00",
          "2025-07-30T19:00:00",
          "2025-07-30T23:00:00",
          "2025-07-31T03:00:00",
          "2025-07-31T07:00:00",
          "2025-07-31T11:00:00",
          "2025-07-31T15:00:00",
          "2025-07-31T19:00:00",
          "2025-07-31T23:00:00",
          "2025-08-01T03:00:00",
          "2025-08-01T07:00:00",
          "2025-08-01T11:00:00",
          "2025-08-01T15:00:00"
         ],
         "xaxis": "x",
         "yaxis": "y"
        },
        {
         "type": "bar",
         "x": [
          "2025-07-16T03:00:00",
          "2025-07-16T07:00:00",
          "2025-07-16T11:00:00",
          "2025-07-16T15:00:00",
          "2025-07-16T19:00:00",
          "2025-07-16T23:00:00",
          "2025-07-17T03:00:00",
          "2025-07-17T07:00:00",
          "2025-07-17T11:00:00",
          "2025-07-17T15:00:00",
          "2025-07-17T19:00:00",
          "2025-07-17T23:00:00",
          "2025-07-18T03:00:00",
          "2025-07-18T07:00:00",
          "2025-07-18T11:00:00",
          "2025-07-18T15:00:00",
          "2025-07-18T19:00:00",
          "2025-07-18T23:00:00",
          "2025-07-19T03:00:00",
          "2025-07-19T07:00:00",
          "2025-07-19T11:00:00",
          "2025-07-19T15:00:00",
          "2025-07-19T19:00:00",
          "2025-07-19T23:00:00",
          "2025-07-20T03:00:00",
          "2025-07-20T07:00:00",
          "2025-07-20T11:00:00",
          "2025-07-20T15:00:00",
          "2025-07-20T19:00:00",
          "2025-07-20T23:00:00",
          "2025-07-21T03:00:00",
          "2025-07-21T07:00:00",
          "2025-07-21T11:00:00",
          "2025-07-21T15:00:00",
          "2025-07-21T19:00:00",
          "2025-07-21T23:00:00",
          "2025-07-22T03:00:00",
          "2025-07-22T07:00:00",
          "2025-07-22T11:00:00",
          "2025-07-22T15:00:00",
          "2025-07-22T19:00:00",
          "2025-07-22T23:00:00",
          "2025-07-23T03:00:00",
          "2025-07-23T07:00:00",
          "2025-07-23T11:00:00",
          "2025-07-23T15:00:00",
          "2025-07-23T19:00:00",
          "2025-07-23T23:00:00",
          "2025-07-24T03:00:00",
          "2025-07-24T07:00:00",
          "2025-07-24T11:00:00",
          "2025-07-24T15:00:00",
          "2025-07-24T19:00:00",
          "2025-07-24T23:00:00",
          "2025-07-25T03:00:00",
          "2025-07-25T07:00:00",
          "2025-07-25T11:00:00",
          "2025-07-25T15:00:00",
          "2025-07-25T19:00:00",
          "2025-07-25T23:00:00",
          "2025-07-26T03:00:00",
          "2025-07-26T07:00:00",
          "2025-07-26T11:00:00",
          "2025-07-26T15:00:00",
          "2025-07-26T19:00:00",
          "2025-07-26T23:00:00",
          "2025-07-27T03:00:00",
          "2025-07-27T07:00:00",
          "2025-07-27T11:00:00",
          "2025-07-27T15:00:00",
          "2025-07-27T19:00:00",
          "2025-07-27T23:00:00",
          "2025-07-28T03:00:00",
          "2025-07-28T07:00:00",
          "2025-07-28T11:00:00",
          "2025-07-28T15:00:00",
          "2025-07-28T19:00:00",
          "2025-07-28T23:00:00",
          "2025-07-29T03:00:00",
          "2025-07-29T07:00:00",
          "2025-07-29T11:00:00",
          "2025-07-29T15:00:00",
          "2025-07-29T19:00:00",
          "2025-07-29T23:00:00",
          "2025-07-30T03:00:00",
          "2025-07-30T07:00:00",
          "2025-07-30T11:00:00",
          "2025-07-30T15:00:00",
          "2025-07-30T19:00:00",
          "2025-07-30T23:00:00",
          "2025-07-31T03:00:00",
          "2025-07-31T07:00:00",
          "2025-07-31T11:00:00",
          "2025-07-31T15:00:00",
          "2025-07-31T19:00:00",
          "2025-07-31T23:00:00",
          "2025-08-01T03:00:00",
          "2025-08-01T07:00:00",
          "2025-08-01T11:00:00",
          "2025-08-01T15:00:00"
         ],
         "xaxis": "x2",
         "y": {
          "bdata": "LGjWKSG4aUA6rLLnWcBYQNMi7CUXcFlAKtXTgQsoY0Ds7Le4Dr2BQGK6lOMjBHJAQj2eEkeYbUDWBReGg15lQJQ/jM4BOV9AI0kQrgBGaUBmjrzeE1l1QKsHDmA4sHxAFmv65F/DdECcNoAKKbRrQOD0DdCmX2ZATYrqCPtqbUDCXvYlesaAQH6eDn0KHHxA0xa26kNRaUAubf6AgxZUQH4PZiz95EhAg/zoq5akUEABNnv7DmdXQBwd/GlIUV5AhzZ84ivqVUDW3SM4wSlXQFo7m5+sj0dA741jHAo5U0DvNhTjIYJaQKQq2AyRi1ZAdx4Nji9KaUCtEJh/uydlQEIXgW8iI2JAqY0kIKr+YkCdeJRr1kt3QN2BU4ISV3dADUSBBGaBXkD9nwWZ681vQOpjV72QAGtA+mLvxTcrZkBhulo4WklvQGF39J6uO29AVWc5+SLEYkAWcEu7gyNZQARU3chhgFNANA3tEH2HVkDVFugkRRBwQOFnluP55HJAUsEbsToHY0BwKYRhghpgQCArMhkyW2VAhSmpl0hBW0C0+13xF3ZvQKBHtR1t1mtADxZnb52KaEAvjfxN8jeVQAQRFAWbnZhAmxmirzlMlUBfjR6FJIWEQGWngv6QSH1A/VNHGh4KbkBfffrXC05kQL3opw+PIEpAjWDC7M7wYEAFdeNAfNJdQBps6jwqfUxAhfYkj6v8VkBLp1x+s6NUQNY8BcjpxEVAFj98T5vXUUA4L2+K3rNYQEI+KvY+KmZA6GV39ah+WkAr8UYHANJiQLKHk4cHzV5AOtyatjewUEDnnyrwLxB1QLjYH+6LR21AXtaj9LXSYkD3cI/GvWlgQHPMJn4U3lJA4HPUj1WKVkAh110L8CpxQNoyx48kynRARxFj46uMb0BuAZmE6AxbQA+no07GGlRAlH+x5wAHX0DHTKJeAApwQOHZ9T2wgXhAomIYh6WDVECEKW/snvFgQICp0XEWCVRAlyoHafwWUkCo/qRObjdzQNf/tZPzN25A1Ps6LhIuZ0BabRf9Ffd1QEW/dGKo5GJAG3Wd2/66UUA=",
          "dtype": "f8"
         },
         "yaxis": "y2"
        }
       ],
       "layout": {
        "height": 800,
        "template": {
         "data": {
          "bar": [
           {
            "error_x": {
             "color": "#2a3f5f"
            },
            "error_y": {
             "color": "#2a3f5f"
            },
            "marker": {
             "line": {
              "color": "#E5ECF6",
              "width": 0.5
             },
             "pattern": {
              "fillmode": "overlay",
              "size": 10,
              "solidity": 0.2
             }
            },
            "type": "bar"
           }
          ],
          "barpolar": [
           {
            "marker": {
             "line": {
              "color": "#E5ECF6",
              "width": 0.5
             },
             "pattern": {
              "fillmode": "overlay",
              "size": 10,
              "solidity": 0.2
             }
            },
            "type": "barpolar"
           }
          ],
          "carpet": [
           {
            "aaxis": {
             "endlinecolor": "#2a3f5f",
             "gridcolor": "white",
             "linecolor": "white",
             "minorgridcolor": "white",
             "startlinecolor": "#2a3f5f"
            },
            "baxis": {
             "endlinecolor": "#2a3f5f",
             "gridcolor": "white",
             "linecolor": "white",
             "minorgridcolor": "white",
             "startlinecolor": "#2a3f5f"
            },
            "type": "carpet"
           }
          ],
          "choropleth": [
           {
            "colorbar": {
             "outlinewidth": 0,
             "ticks": ""
            },
            "type": "choropleth"
           }
          ],
          "contour": [
           {
            "colorbar": {
             "outlinewidth": 0,
             "ticks": ""
            },
            "colorscale": [
             [
              0,
              "#0d0887"
             ],
             [
              0.1111111111111111,
              "#46039f"
             ],
             [
              0.2222222222222222,
              "#7201a8"
             ],
             [
              0.3333333333333333,
              "#9c179e"
             ],
             [
              0.4444444444444444,
              "#bd3786"
             ],
             [
              0.5555555555555556,
              "#d8576b"
             ],
             [
              0.6666666666666666,
              "#ed7953"
             ],
             [
              0.7777777777777778,
              "#fb9f3a"
             ],
             [
              0.8888888888888888,
              "#fdca26"
             ],
             [
              1,
              "#f0f921"
             ]
            ],
            "type": "contour"
           }
          ],
          "contourcarpet": [
           {
            "colorbar": {
             "outlinewidth": 0,
             "ticks": ""
            },
            "type": "contourcarpet"
           }
          ],
          "heatmap": [
           {
            "colorbar": {
             "outlinewidth": 0,
             "ticks": ""
            },
            "colorscale": [
             [
              0,
              "#0d0887"
             ],
             [
              0.1111111111111111,
              "#46039f"
             ],
             [
              0.2222222222222222,
              "#7201a8"
             ],
             [
              0.3333333333333333,
              "#9c179e"
             ],
             [
              0.4444444444444444,
              "#bd3786"
             ],
             [
              0.5555555555555556,
              "#d8576b"
             ],
             [
              0.6666666666666666,
              "#ed7953"
             ],
             [
              0.7777777777777778,
              "#fb9f3a"
             ],
             [
              0.8888888888888888,
              "#fdca26"
             ],
             [
              1,
              "#f0f921"
             ]
            ],
            "type": "heatmap"
           }
          ],
          "histogram": [
           {
            "marker": {
             "pattern": {
              "fillmode": "overlay",
              "size": 10,
              "solidity": 0.2
             }
            },
            "type": "histogram"
           }
          ],
          "histogram2d": [
           {
            "colorbar": {
             "outlinewidth": 0,
             "ticks": ""
            },
            "colorscale": [
             [
              0,
              "#0d0887"
             ],
             [
              0.1111111111111111,
              "#46039f"
             ],
             [
              0.2222222222222222,
              "#7201a8"
             ],
             [
              0.3333333333333333,
              "#9c179e"
             ],
             [
              0.4444444444444444,
              "#bd3786"
             ],
             [
              0.5555555555555556,
              "#d8576b"
             ],
             [
              0.6666666666666666,
              "#ed7953"
             ],
             [
              0.7777777777777778,
              "#fb9f3a"
             ],
             [
              0.8888888888888888,
              "#fdca26"
             ],
             [
              1,
              "#f0f921"
             ]
            ],
            "type": "histogram2d"
           }
          ],
          "histogram2dcontour": [
           {
            "colorbar": {
             "outlinewidth": 0,
             "ticks": ""
            },
            "colorscale": [
             [
              0,
              "#0d0887"
             ],
             [
              0.1111111111111111,
              "#46039f"
             ],
             [
              0.2222222222222222,
              "#7201a8"
             ],
             [
              0.3333333333333333,
              "#9c179e"
             ],
             [
              0.4444444444444444,
              "#bd3786"
             ],
             [
              0.5555555555555556,
              "#d8576b"
             ],
             [
              0.6666666666666666,
              "#ed7953"
             ],
             [
              0.7777777777777778,
              "#fb9f3a"
             ],
             [
              0.8888888888888888,
              "#fdca26"
             ],
             [
              1,
              "#f0f921"
             ]
            ],
            "type": "histogram2dcontour"
           }
          ],
          "mesh3d": [
           {
            "colorbar": {
             "outlinewidth": 0,
             "ticks": ""
            },
            "type": "mesh3d"
           }
          ],
          "parcoords": [
           {
            "line": {
             "colorbar": {
              "outlinewidth": 0,
              "ticks": ""
             }
            },
            "type": "parcoords"
           }
          ],
          "pie": [
           {
            "automargin": true,
            "type": "pie"
           }
          ],
          "scatter": [
           {
            "fillpattern": {
             "fillmode": "overlay",
             "size": 10,
             "solidity": 0.2
            },
            "type": "scatter"
           }
          ],
          "scatter3d": [
           {
            "line": {
             "colorbar": {
              "outlinewidth": 0,
              "ticks": ""
             }
            },
            "marker": {
             "colorbar": {
              "outlinewidth": 0,
              "ticks": ""
             }
            },
            "type": "scatter3d"
           }
          ],
          "scattercarpet": [
           {
            "marker": {
             "colorbar": {
              "outlinewidth": 0,
              "ticks": ""
             }
            },
            "type": "scattercarpet"
           }
          ],
          "scattergeo": [
           {
            "marker": {
             "colorbar": {
              "outlinewidth": 0,
              "ticks": ""
             }
            },
            "type": "scattergeo"
           }
          ],
          "scattergl": [
           {
            "marker": {
             "colorbar": {
              "outlinewidth": 0,
              "ticks": ""
             }
            },
            "type": "scattergl"
           }
          ],
          "scattermap": [
           {
            "marker": {
             "colorbar": {
              "outlinewidth": 0,
              "ticks": ""
             }
            },
            "type": "scattermap"
           }
          ],
          "scattermapbox": [
           {
            "marker": {
             "colorbar": {
              "outlinewidth": 0,
              "ticks": ""
             }
            },
            "type": "scattermapbox"
           }
          ],
          "scatterpolar": [
           {
            "marker": {
             "colorbar": {
              "outlinewidth": 0,
              "ticks": ""
             }
            },
            "type": "scatterpolar"
           }
          ],
          "scatterpolargl": [
           {
            "marker": {
             "colorbar": {
              "outlinewidth": 0,
              "ticks": ""
             }
            },
            "type": "scatterpolargl"
           }
          ],
          "scatterternary": [
           {
            "marker": {
             "colorbar": {
              "outlinewidth": 0,
              "ticks": ""
             }
            },
            "type": "scatterternary"
           }
          ],
          "surface": [
           {
            "colorbar": {
             "outlinewidth": 0,
             "ticks": ""
            },
            "colorscale": [
             [
              0,
              "#0d0887"
             ],
             [
              0.1111111111111111,
              "#46039f"
             ],
             [
              0.2222222222222222,
              "#7201a8"
             ],
             [
              0.3333333333333333,
              "#9c179e"
             ],
             [
              0.4444444444444444,
              "#bd3786"
             ],
             [
              0.5555555555555556,
              "#d8576b"
             ],
             [
              0.6666666666666666,
              "#ed7953"
             ],
             [
              0.7777777777777778,
              "#fb9f3a"
             ],
             [
              0.8888888888888888,
              "#fdca26"
             ],
             [
              1,
              "#f0f921"
             ]
            ],
            "type": "surface"
           }
          ],
          "table": [
           {
            "cells": {
             "fill": {
              "color": "#EBF0F8"
             },
             "line": {
              "color": "white"
             }
            },
            "header": {
             "fill": {
              "color": "#C8D4E3"
             },
             "line": {
              "color": "white"
             }
            },
            "type": "table"
           }
          ]
         },
         "layout": {
          "annotationdefaults": {
           "arrowcolor": "#2a3f5f",
           "arrowhead": 0,
           "arrowwidth": 1
          },
          "autotypenumbers": "strict",
          "coloraxis": {
           "colorbar": {
            "outlinewidth": 0,
            "ticks": ""
           }
          },
          "colorscale": {
           "diverging": [
            [
             0,
             "#8e0152"
            ],
            [
             0.1,
             "#c51b7d"
            ],
            [
             0.2,
             "#de77ae"
            ],
            [
             0.3,
             "#f1b6da"
            ],
            [
             0.4,
             "#fde0ef"
            ],
            [
             0.5,
             "#f7f7f7"
            ],
            [
             0.6,
             "#e6f5d0"
            ],
            [
             0.7,
             "#b8e186"
            ],
            [
             0.8,
             "#7fbc41"
            ],
            [
             0.9,
             "#4d9221"
            ],
            [
             1,
             "#276419"
            ]
           ],
           "sequential": [
            [
             0,
             "#0d0887"
            ],
            [
             0.1111111111111111,
             "#46039f"
            ],
            [
             0.2222222222222222,
             "#7201a8"
            ],
            [
             0.3333333333333333,
             "#9c179e"
            ],
            [
             0.4444444444444444,
             "#bd3786"
            ],
            [
             0.5555555555555556,
             "#d8576b"
            ],
            [
             0.6666666666666666,
             "#ed7953"
            ],
            [
             0.7777777777777778,
             "#fb9f3a"
            ],
            [
             0.8888888888888888,
             "#fdca26"
            ],
            [
             1,
             "#f0f921"
            ]
           ],
           "sequentialminus": [
            [
             0,
             "#0d0887"
            ],
            [
             0.1111111111111111,
             "#46039f"
            ],
            [
             0.2222222222222222,
             "#7201a8"
            ],
            [
             0.3333333333333333,
             "#9c179e"
            ],
            [
             0.4444444444444444,
             "#bd3786"
            ],
            [
             0.5555555555555556,
             "#d8576b"
            ],
            [
             0.6666666666666666,
             "#ed7953"
            ],
            [
             0.7777777777777778,
             "#fb9f3a"
            ],
            [
             0.8888888888888888,
             "#fdca26"
            ],
            [
             1,
             "#f0f921"
            ]
           ]
          },
          "colorway": [
           "#636efa",
           "#EF553B",
           "#00cc96",
           "#ab63fa",
           "#FFA15A",
           "#19d3f3",
           "#FF6692",
           "#B6E880",
           "#FF97FF",
           "#FECB52"
          ],
          "font": {
           "color": "#2a3f5f"
          },
          "geo": {
           "bgcolor": "white",
           "lakecolor": "white",
           "landcolor": "#E5ECF6",
           "showlakes": true,
           "showland": true,
           "subunitcolor": "white"
          },
          "hoverlabel": {
           "align": "left"
          },
          "hovermode": "closest",
          "mapbox": {
           "style": "light"
          },
          "paper_bgcolor": "white",
          "plot_bgcolor": "#E5ECF6",
          "polar": {
           "angularaxis": {
            "gridcolor": "white",
            "linecolor": "white",
            "ticks": ""
           },
           "bgcolor": "#E5ECF6",
           "radialaxis": {
            "gridcolor": "white",
            "linecolor": "white",
            "ticks": ""
           }
          },
          "scene": {
           "xaxis": {
            "backgroundcolor": "#E5ECF6",
            "gridcolor": "white",
            "gridwidth": 2,
            "linecolor": "white",
            "showbackground": true,
            "ticks": "",
            "zerolinecolor": "white"
           },
           "yaxis": {
            "backgroundcolor": "#E5ECF6",
            "gridcolor": "white",
            "gridwidth": 2,
            "linecolor": "white",
            "showbackground": true,
            "ticks": "",
            "zerolinecolor": "white"
           },
           "zaxis": {
            "backgroundcolor": "#E5ECF6",
            "gridcolor": "white",
            "gridwidth": 2,
            "linecolor": "white",
            "showbackground": true,
            "ticks": "",
            "zerolinecolor": "white"
           }
          },
          "shapedefaults": {
           "line": {
            "color": "#2a3f5f"
           }
          },
          "ternary": {
           "aaxis": {
            "gridcolor": "white",
            "linecolor": "white",
            "ticks": ""
           },
           "baxis": {
            "gridcolor": "white",
            "linecolor": "white",
            "ticks": ""
           },
           "bgcolor": "#E5ECF6",
           "caxis": {
            "gridcolor": "white",
            "linecolor": "white",
            "ticks": ""
           }
          },
          "title": {
           "x": 0.05
          },
          "xaxis": {
           "automargin": true,
           "gridcolor": "white",
           "linecolor": "white",
           "ticks": "",
           "title": {
            "standoff": 15
           },
           "zerolinecolor": "white",
           "zerolinewidth": 2
          },
          "yaxis": {
           "automargin": true,
           "gridcolor": "white",
           "linecolor": "white",
           "ticks": "",
           "title": {
            "standoff": 15
           },
           "zerolinecolor": "white",
           "zerolinewidth": 2
          }
         }
        },
        "title": {
         "text": "Bitstamp:BTCUSD"
        },
        "width": 1000,
        "xaxis": {
         "anchor": "y",
         "domain": [
          0,
          1
         ],
         "matches": "x2",
         "showticklabels": false,
         "title": {
          "text": "Date"
         }
        },
        "xaxis2": {
         "anchor": "y2",
         "domain": [
          0,
          1
         ]
        },
        "yaxis": {
         "anchor": "x",
         "domain": [
          0.24,
          1
         ],
         "range": [
          114116,
          127050
         ],
         "title": {
          "text": "Price"
         }
        },
        "yaxis2": {
         "anchor": "x2",
         "domain": [
          0,
          0.19
         ]
        }
       }
      }
     },
     "metadata": {},
     "output_type": "display_data"
    }
   ],
   "source": [
    "symbol = symbols[0]\n",
    "print(f'Visualize data {symbol}')\n",
    "# Visualize\n",
    "fig = make_subplots(rows=2, cols=1, shared_xaxes=True, vertical_spacing=0.05, row_heights=[0.8, 0.2])\n",
    "\n",
    "fig.add_trace(go.Candlestick(x=historical_data[symbol].index,\n",
    "                    open=historical_data[symbol].open,\n",
    "                    high=historical_data[symbol].high,\n",
    "                    low=historical_data[symbol].low,\n",
    "                    close=historical_data[symbol].close,\n",
    "                    ), row=1, col=1)\n",
    "set_ylim = (historical_data[symbol].low.min(), historical_data[symbol].high.max() * 1.05)\n",
    "\n",
    "fig.add_trace(go.Bar(x=historical_data[symbol].index,\n",
    "                    y=historical_data[symbol].volume,\n",
    "                    ), row=2, col=1)\n",
    "\n",
    "fig.update_layout(title=f'{symbol}',\n",
    "                  yaxis_range=(set_ylim[0], set_ylim[1]),\n",
    "                  xaxis_title='Date',\n",
    "                  yaxis_title='Price', \n",
    "                  height=800, width=1000)\n",
    "fig.show()"
   ]
  },
  {
   "cell_type": "code",
   "execution_count": 6,
   "id": "d69ad71f",
   "metadata": {},
   "outputs": [
    {
     "name": "stdout",
     "output_type": "stream",
     "text": [
      "=== KẾT QUẢ BACKTEST ===\n",
      "Initial Capital: $100,000.00\n",
      "Final Portfolio Value: $98,948.39\n",
      "Total Return: -1.05%\n",
      "Annualized Return: -2.66%\n",
      "Sharpe Ratio: -2.31\n",
      "Max Drawdown: -1.14%\n",
      "Win Rate: 0.00%\n",
      "Total Trades: 6\n"
     ]
    }
   ],
   "source": [
    "# Cell 6: Lấy kết quả backtest\n",
    "portfolio_summary = engine.get_portfolio_summary()\n",
    "\n",
    "print(\"=== KẾT QUẢ BACKTEST ===\")\n",
    "print(f\"Initial Capital: ${portfolio_summary['initial_capital']:,.2f}\")\n",
    "print(f\"Final Portfolio Value: ${portfolio_summary['total_value']:,.2f}\")\n",
    "print(f\"Total Return: {portfolio_summary['total_return']:.2%}\")\n",
    "print(f\"Annualized Return: {portfolio_summary['annualized_return']:.2%}\")\n",
    "print(f\"Sharpe Ratio: {portfolio_summary['sharpe_ratio']:.2f}\")\n",
    "print(f\"Max Drawdown: {portfolio_summary['max_drawdown']:.2%}\")\n",
    "print(f\"Win Rate: {portfolio_summary['win_rate']:.2%}\")\n",
    "print(f\"Total Trades: {portfolio_summary['total_trades']}\")"
   ]
  },
  {
   "cell_type": "code",
   "execution_count": 7,
   "id": "4bb7ce37",
   "metadata": {},
   "outputs": [
    {
     "data": {
      "application/vnd.plotly.v1+json": {
       "config": {
        "plotlyServerURL": "https://plot.ly"
       },
       "data": [
        {
         "mode": "lines",
         "name": "Portfolio Value",
         "type": "scatter",
         "x": [
          "2025-07-16T03:00:00",
          "2025-07-16T07:00:00",
          "2025-07-16T11:00:00",
          "2025-07-16T15:00:00",
          "2025-07-16T19:00:00",
          "2025-07-16T23:00:00",
          "2025-07-17T03:00:00",
          "2025-07-17T07:00:00",
          "2025-07-17T11:00:00",
          "2025-07-17T15:00:00",
          "2025-07-17T19:00:00",
          "2025-07-17T23:00:00",
          "2025-07-18T03:00:00",
          "2025-07-18T07:00:00",
          "2025-07-18T11:00:00",
          "2025-07-18T15:00:00",
          "2025-07-18T19:00:00",
          "2025-07-18T23:00:00",
          "2025-07-19T03:00:00",
          "2025-07-19T07:00:00",
          "2025-07-19T11:00:00",
          "2025-07-19T15:00:00",
          "2025-07-19T19:00:00",
          "2025-07-19T23:00:00",
          "2025-07-20T03:00:00",
          "2025-07-20T07:00:00",
          "2025-07-20T11:00:00",
          "2025-07-20T15:00:00",
          "2025-07-20T19:00:00",
          "2025-07-20T23:00:00",
          "2025-07-21T03:00:00",
          "2025-07-21T07:00:00",
          "2025-07-21T11:00:00",
          "2025-07-21T15:00:00",
          "2025-07-21T19:00:00",
          "2025-07-21T23:00:00",
          "2025-07-22T03:00:00",
          "2025-07-22T07:00:00",
          "2025-07-22T11:00:00",
          "2025-07-22T15:00:00",
          "2025-07-22T19:00:00",
          "2025-07-22T23:00:00",
          "2025-07-23T03:00:00",
          "2025-07-23T07:00:00",
          "2025-07-23T11:00:00",
          "2025-07-23T15:00:00",
          "2025-07-23T19:00:00",
          "2025-07-23T23:00:00",
          "2025-07-24T03:00:00",
          "2025-07-24T07:00:00",
          "2025-07-24T11:00:00",
          "2025-07-24T15:00:00",
          "2025-07-24T19:00:00",
          "2025-07-24T23:00:00",
          "2025-07-25T03:00:00",
          "2025-07-25T07:00:00",
          "2025-07-25T11:00:00",
          "2025-07-25T15:00:00",
          "2025-07-25T19:00:00",
          "2025-07-25T23:00:00",
          "2025-07-26T03:00:00",
          "2025-07-26T07:00:00",
          "2025-07-26T11:00:00",
          "2025-07-26T15:00:00",
          "2025-07-26T19:00:00",
          "2025-07-26T23:00:00",
          "2025-07-27T03:00:00",
          "2025-07-27T07:00:00",
          "2025-07-27T11:00:00",
          "2025-07-27T15:00:00",
          "2025-07-27T19:00:00",
          "2025-07-27T23:00:00",
          "2025-07-28T03:00:00",
          "2025-07-28T07:00:00",
          "2025-07-28T11:00:00",
          "2025-07-28T15:00:00",
          "2025-07-28T19:00:00",
          "2025-07-28T23:00:00",
          "2025-07-29T03:00:00",
          "2025-07-29T07:00:00",
          "2025-07-29T11:00:00",
          "2025-07-29T15:00:00",
          "2025-07-29T19:00:00",
          "2025-07-29T23:00:00",
          "2025-07-30T03:00:00",
          "2025-07-30T07:00:00",
          "2025-07-30T11:00:00",
          "2025-07-30T15:00:00",
          "2025-07-30T19:00:00",
          "2025-07-30T23:00:00",
          "2025-07-31T03:00:00",
          "2025-07-31T07:00:00",
          "2025-07-31T11:00:00",
          "2025-07-31T15:00:00",
          "2025-07-31T19:00:00",
          "2025-07-31T23:00:00",
          "2025-08-01T03:00:00",
          "2025-08-01T07:00:00",
          "2025-08-01T11:00:00",
          "2025-08-01T15:00:00"
         ],
         "xaxis": "x",
         "y": {
          "bdata": "AAAAAABq+EAAAAAAAGr4QAAAAAAAavhAAAAAAABq+EAAAAAAAGr4QAAAAAAAavhAAAAAAABq+EAAAAAAAGr4QAAAAAAAavhAAAAAAABq+EAAAAAAAGr4QAAAAAAAavhAAAAAAABq+EAAAAAAAGr4QAAAAAAAavhAAAAAAABq+EAAAAAAAGr4QAAAAAAAavhAAAAAAABq+EAAAAAAAGr4QAAAAAAAavhAAAAAAABq+EAAAAAAAGr4QAAAAAAAavhAAAAAAABq+EAAAAAAAGr4QAAAAAAAavhAAAAAAABq+EAAAAAAAGr4QAAAAAAAavhAAAAAAABq+EAAAAAAAGr4QAAAAAAAavhAAAAAAABq+EAAAAAAAGr4QAAAAAAAavhAAAAAAABq+EAAAAAAAGr4QAAAAAAAavhAAAAAAABq+EAAAAAAAGr4QAAAAADAaPhAuKGIcbxv+EAuy6AxvmH4QK7OPl4CX/hAjPLXpN9g+EBWCVDMdWH4QDsYqgwFX/hADnF2NzBj+EBAevLtmWD4QPjE51WzX/hAlViZBJ5h+ED9H/Tdv2b4QEM2kbNwZfhA2I4quE5e+EC4hFduOz74QLiEV247PvhAuIRXbjs++EC4hFduOz74QLiEV247PvhAuIRXbjs++EC4hFduOz74QLiEV247PvhAuIRXbjs++EC4hFduOz74QLiEV247PvhAuIRXbjs++ECBCwSs/Tz4QBfvQl8pPPhAH21pIN47+ECVz0fsAkH4QCoYlnwFRfhAKX2lWdxJ+EDY9ZYwFkj4QEj18KDoQ/hAWh6nQzdD+ECWYSNvMTz4QLIsVFMfO/hAtmvns/k6+ED3ZM3XJ0L4QEkHG+HdQ/hAIhoh/olA+EBu68UuHDT4QFZxUuv9NPhAWh4Kyak5+EBecd0htjr4QF5x3SG2OvhAXnHdIbY6+EBecd0htjr4QF5x3SG2OvhAXnHdIbY6+EBecd0htjr4QF5x3SG2OvhAXnHdIbY6+EDfeK+NeDn4QBS7RjFGKPhAFLtGMUYo+EAUu0YxRij4QBS7RjFGKPhAFLtGMUYo+EA=",
          "dtype": "f8"
         },
         "yaxis": "y"
        },
        {
         "mode": "lines",
         "name": "Daily Returns",
         "type": "scatter",
         "x": [
          "2025-07-16T03:00:00",
          "2025-07-16T07:00:00",
          "2025-07-16T11:00:00",
          "2025-07-16T15:00:00",
          "2025-07-16T19:00:00",
          "2025-07-16T23:00:00",
          "2025-07-17T03:00:00",
          "2025-07-17T07:00:00",
          "2025-07-17T11:00:00",
          "2025-07-17T15:00:00",
          "2025-07-17T19:00:00",
          "2025-07-17T23:00:00",
          "2025-07-18T03:00:00",
          "2025-07-18T07:00:00",
          "2025-07-18T11:00:00",
          "2025-07-18T15:00:00",
          "2025-07-18T19:00:00",
          "2025-07-18T23:00:00",
          "2025-07-19T03:00:00",
          "2025-07-19T07:00:00",
          "2025-07-19T11:00:00",
          "2025-07-19T15:00:00",
          "2025-07-19T19:00:00",
          "2025-07-19T23:00:00",
          "2025-07-20T03:00:00",
          "2025-07-20T07:00:00",
          "2025-07-20T11:00:00",
          "2025-07-20T15:00:00",
          "2025-07-20T19:00:00",
          "2025-07-20T23:00:00",
          "2025-07-21T03:00:00",
          "2025-07-21T07:00:00",
          "2025-07-21T11:00:00",
          "2025-07-21T15:00:00",
          "2025-07-21T19:00:00",
          "2025-07-21T23:00:00",
          "2025-07-22T03:00:00",
          "2025-07-22T07:00:00",
          "2025-07-22T11:00:00",
          "2025-07-22T15:00:00",
          "2025-07-22T19:00:00",
          "2025-07-22T23:00:00",
          "2025-07-23T03:00:00",
          "2025-07-23T07:00:00",
          "2025-07-23T11:00:00",
          "2025-07-23T15:00:00",
          "2025-07-23T19:00:00",
          "2025-07-23T23:00:00",
          "2025-07-24T03:00:00",
          "2025-07-24T07:00:00",
          "2025-07-24T11:00:00",
          "2025-07-24T15:00:00",
          "2025-07-24T19:00:00",
          "2025-07-24T23:00:00",
          "2025-07-25T03:00:00",
          "2025-07-25T07:00:00",
          "2025-07-25T11:00:00",
          "2025-07-25T15:00:00",
          "2025-07-25T19:00:00",
          "2025-07-25T23:00:00",
          "2025-07-26T03:00:00",
          "2025-07-26T07:00:00",
          "2025-07-26T11:00:00",
          "2025-07-26T15:00:00",
          "2025-07-26T19:00:00",
          "2025-07-26T23:00:00",
          "2025-07-27T03:00:00",
          "2025-07-27T07:00:00",
          "2025-07-27T11:00:00",
          "2025-07-27T15:00:00",
          "2025-07-27T19:00:00",
          "2025-07-27T23:00:00",
          "2025-07-28T03:00:00",
          "2025-07-28T07:00:00",
          "2025-07-28T11:00:00",
          "2025-07-28T15:00:00",
          "2025-07-28T19:00:00",
          "2025-07-28T23:00:00",
          "2025-07-29T03:00:00",
          "2025-07-29T07:00:00",
          "2025-07-29T11:00:00",
          "2025-07-29T15:00:00",
          "2025-07-29T19:00:00",
          "2025-07-29T23:00:00",
          "2025-07-30T03:00:00",
          "2025-07-30T07:00:00",
          "2025-07-30T11:00:00",
          "2025-07-30T15:00:00",
          "2025-07-30T19:00:00",
          "2025-07-30T23:00:00",
          "2025-07-31T03:00:00",
          "2025-07-31T07:00:00",
          "2025-07-31T11:00:00",
          "2025-07-31T15:00:00",
          "2025-07-31T19:00:00",
          "2025-07-31T23:00:00",
          "2025-08-01T03:00:00",
          "2025-08-01T07:00:00",
          "2025-08-01T11:00:00",
          "2025-08-01T15:00:00"
         ],
         "xaxis": "x2",
         "y": {
          "bdata": "AAAAAAAA+H8AAAAAAAAAAAAAAAAAAAAAAAAAAAAAAAAAAAAAAAAAAAAAAAAAAAAAAAAAAAAAAAAAAAAAAAAAAAAAAAAAAAAAAAAAAAAAAAAAAAAAAAAAAAAAAAAAAAAAAAAAAAAAAAAAAAAAAAAAAAAAAAAAAAAAAAAAAAAAAAAAAAAAAAAAAAAAAAAAAAAAAAAAAAAAAAAAAAAAAAAAAAAAAAAAAAAAAAAAAAAAAAAAAAAAAAAAAAAAAAAAAAAAAAAAAAAAAAAAAAAAAAAAAAAAAAAAAAAAAAAAAAAAAAAAAAAAAAAAAAAAAAAAAAAAAAAAAAAAAAAAAAAAAAAAAAAAAAAAAAAAAAAAAAAAAAAAAAAAAAAAAAAAAAAAAAAAAAAAAAAAAAAAAAAAAAAAAAAAAAAAAAAAAAAAAAAAAAAAAAAAAAAAAABAHOviNiq/AOjwMjxRUj8A01NbBVNivwAI5nnpszy/AICFWGqVMz8AgDHnIaMYPwBQSm/tnzm/ACg8WeDkRT8AaEdGKSg7vwAgWCIw6yK/APCwsKshND8AIJ+smvFKPwAwNsqWeCu/APx9dDK2Ur8ARSuubw91vwAAAAAAAAAAAAAAAAAAAAAAAAAAAAAAAAAAAAAAAAAAAAAAAAAAAAAAAAAAAAAAAAAAAAAAAAAAAAAAAAAAAAAAAAAAAAAAAAAAAAAAAAAAAAAAAAAAAAAAMBzr4jYqvwAQopKLhCG/AADjoq/WCL8AOKx0JCtLPwDAUCuuKUU/ALjE8N6FST8AGFn71LIyvwDMtZIsBka/AEAsytE8Hb8AXNYJVYZSvwBwFLfqnia/AIDZWsDX+L4AxCyTGvdSPwBwChKdDjI/AGTI2cGNQb8A0tkDUGZgvwBgVS42pyI/ALibw2mzSD8AwGS4gScmPwAAAAAAAAAAAAAAAAAAAAAAAAAAAAAAAAAAAAAAAAAAAAAAAAAAAAAAAAAAAAAAAAAAAAAAAAAAAAAAAAAAAAAAQBzr4jYqvwBmwdJqt2a/AAAAAAAAAAAAAAAAAAAAAAAAAAAAAAAAAAAAAAAAAAA=",
          "dtype": "f8"
         },
         "yaxis": "y2"
        },
        {
         "mode": "lines",
         "name": "Cumulative Returns",
         "type": "scatter",
         "x": [
          "2025-07-16T03:00:00",
          "2025-07-16T07:00:00",
          "2025-07-16T11:00:00",
          "2025-07-16T15:00:00",
          "2025-07-16T19:00:00",
          "2025-07-16T23:00:00",
          "2025-07-17T03:00:00",
          "2025-07-17T07:00:00",
          "2025-07-17T11:00:00",
          "2025-07-17T15:00:00",
          "2025-07-17T19:00:00",
          "2025-07-17T23:00:00",
          "2025-07-18T03:00:00",
          "2025-07-18T07:00:00",
          "2025-07-18T11:00:00",
          "2025-07-18T15:00:00",
          "2025-07-18T19:00:00",
          "2025-07-18T23:00:00",
          "2025-07-19T03:00:00",
          "2025-07-19T07:00:00",
          "2025-07-19T11:00:00",
          "2025-07-19T15:00:00",
          "2025-07-19T19:00:00",
          "2025-07-19T23:00:00",
          "2025-07-20T03:00:00",
          "2025-07-20T07:00:00",
          "2025-07-20T11:00:00",
          "2025-07-20T15:00:00",
          "2025-07-20T19:00:00",
          "2025-07-20T23:00:00",
          "2025-07-21T03:00:00",
          "2025-07-21T07:00:00",
          "2025-07-21T11:00:00",
          "2025-07-21T15:00:00",
          "2025-07-21T19:00:00",
          "2025-07-21T23:00:00",
          "2025-07-22T03:00:00",
          "2025-07-22T07:00:00",
          "2025-07-22T11:00:00",
          "2025-07-22T15:00:00",
          "2025-07-22T19:00:00",
          "2025-07-22T23:00:00",
          "2025-07-23T03:00:00",
          "2025-07-23T07:00:00",
          "2025-07-23T11:00:00",
          "2025-07-23T15:00:00",
          "2025-07-23T19:00:00",
          "2025-07-23T23:00:00",
          "2025-07-24T03:00:00",
          "2025-07-24T07:00:00",
          "2025-07-24T11:00:00",
          "2025-07-24T15:00:00",
          "2025-07-24T19:00:00",
          "2025-07-24T23:00:00",
          "2025-07-25T03:00:00",
          "2025-07-25T07:00:00",
          "2025-07-25T11:00:00",
          "2025-07-25T15:00:00",
          "2025-07-25T19:00:00",
          "2025-07-25T23:00:00",
          "2025-07-26T03:00:00",
          "2025-07-26T07:00:00",
          "2025-07-26T11:00:00",
          "2025-07-26T15:00:00",
          "2025-07-26T19:00:00",
          "2025-07-26T23:00:00",
          "2025-07-27T03:00:00",
          "2025-07-27T07:00:00",
          "2025-07-27T11:00:00",
          "2025-07-27T15:00:00",
          "2025-07-27T19:00:00",
          "2025-07-27T23:00:00",
          "2025-07-28T03:00:00",
          "2025-07-28T07:00:00",
          "2025-07-28T11:00:00",
          "2025-07-28T15:00:00",
          "2025-07-28T19:00:00",
          "2025-07-28T23:00:00",
          "2025-07-29T03:00:00",
          "2025-07-29T07:00:00",
          "2025-07-29T11:00:00",
          "2025-07-29T15:00:00",
          "2025-07-29T19:00:00",
          "2025-07-29T23:00:00",
          "2025-07-30T03:00:00",
          "2025-07-30T07:00:00",
          "2025-07-30T11:00:00",
          "2025-07-30T15:00:00",
          "2025-07-30T19:00:00",
          "2025-07-30T23:00:00",
          "2025-07-31T03:00:00",
          "2025-07-31T07:00:00",
          "2025-07-31T11:00:00",
          "2025-07-31T15:00:00",
          "2025-07-31T19:00:00",
          "2025-07-31T23:00:00",
          "2025-08-01T03:00:00",
          "2025-08-01T07:00:00",
          "2025-08-01T11:00:00",
          "2025-08-01T15:00:00"
         ],
         "xaxis": "x3",
         "y": {
          "bdata": "AAAAAAAA+H8AAAAAAADwPwAAAAAAAPA/AAAAAAAA8D8AAAAAAADwPwAAAAAAAPA/AAAAAAAA8D8AAAAAAADwPwAAAAAAAPA/AAAAAAAA8D8AAAAAAADwPwAAAAAAAPA/AAAAAAAA8D8AAAAAAADwPwAAAAAAAPA/AAAAAAAA8D8AAAAAAADwPwAAAAAAAPA/AAAAAAAA8D8AAAAAAADwPwAAAAAAAPA/AAAAAAAA8D8AAAAAAADwPwAAAAAAAPA/AAAAAAAA8D8AAAAAAADwPwAAAAAAAPA/AAAAAAAA8D8AAAAAAADwPwAAAAAAAPA/AAAAAAAA8D8AAAAAAADwPwAAAAAAAPA/AAAAAAAA8D8AAAAAAADwPwAAAAAAAPA/AAAAAAAA8D8AAAAAAADwPwAAAAAAAPA/AAAAAAAA8D8AAAAAAADwPzxO0ZFc/u8/y7PvW8ID8D/7JltkLfXvP+0R0B2Y8e8/aub8sAn07z9sa16AzvTvP+AYhKGb8e8/m+VmYxL37z/NMbRQrvPvP2fcORKA8u8/n9PqNwP17z9wH4BOvfvvPx67mP8F+u8/gkCypazw7z/DjYXyocbvP8ONhfKhxu8/w42F8qHG7z/DjYXyocbvP8ONhfKhxu8/w42F8qHG7z/DjYXyocbvP8ONhfKhxu8/w42F8qHG7z/DjYXyocbvP8ONhfKhxu8/w42F8qHG7z9/40N0AcXvPyQSRDDrw+8/j0kQkIjD7z+9f5qDRsrvPxpnOA2Iz+8/1B/W2t/V7z91t+aTjNPvPwyCva4Szu8/GuAeNSrN7z/GMG7B9cPvPzkf1nmOwu8/7zq8KV3C7z9wgz9zxsvvP4mu2pcEzu8/O7QiAqjJ7z/FJN6LXbnvP4N+eWyFuu8/MOmL3qTA7z8sgdmYBMLvPyyB2ZgEwu8/LIHZmATC7z8sgdmYBMLvPyyB2ZgEwu8/LIHZmATC7z8sgdmYBMLvPyyB2ZgEwu8/LIHZmATC7z+sCBRXZMDvPxPu2xPaqe8/E+7bE9qp7z8T7tsT2qnvPxPu2xPaqe8/E+7bE9qp7z8=",
          "dtype": "f8"
         },
         "yaxis": "y3"
        },
        {
         "fill": "tonexty",
         "mode": "lines",
         "name": "Drawdown",
         "type": "scatter",
         "x": [
          "2025-07-16T03:00:00",
          "2025-07-16T07:00:00",
          "2025-07-16T11:00:00",
          "2025-07-16T15:00:00",
          "2025-07-16T19:00:00",
          "2025-07-16T23:00:00",
          "2025-07-17T03:00:00",
          "2025-07-17T07:00:00",
          "2025-07-17T11:00:00",
          "2025-07-17T15:00:00",
          "2025-07-17T19:00:00",
          "2025-07-17T23:00:00",
          "2025-07-18T03:00:00",
          "2025-07-18T07:00:00",
          "2025-07-18T11:00:00",
          "2025-07-18T15:00:00",
          "2025-07-18T19:00:00",
          "2025-07-18T23:00:00",
          "2025-07-19T03:00:00",
          "2025-07-19T07:00:00",
          "2025-07-19T11:00:00",
          "2025-07-19T15:00:00",
          "2025-07-19T19:00:00",
          "2025-07-19T23:00:00",
          "2025-07-20T03:00:00",
          "2025-07-20T07:00:00",
          "2025-07-20T11:00:00",
          "2025-07-20T15:00:00",
          "2025-07-20T19:00:00",
          "2025-07-20T23:00:00",
          "2025-07-21T03:00:00",
          "2025-07-21T07:00:00",
          "2025-07-21T11:00:00",
          "2025-07-21T15:00:00",
          "2025-07-21T19:00:00",
          "2025-07-21T23:00:00",
          "2025-07-22T03:00:00",
          "2025-07-22T07:00:00",
          "2025-07-22T11:00:00",
          "2025-07-22T15:00:00",
          "2025-07-22T19:00:00",
          "2025-07-22T23:00:00",
          "2025-07-23T03:00:00",
          "2025-07-23T07:00:00",
          "2025-07-23T11:00:00",
          "2025-07-23T15:00:00",
          "2025-07-23T19:00:00",
          "2025-07-23T23:00:00",
          "2025-07-24T03:00:00",
          "2025-07-24T07:00:00",
          "2025-07-24T11:00:00",
          "2025-07-24T15:00:00",
          "2025-07-24T19:00:00",
          "2025-07-24T23:00:00",
          "2025-07-25T03:00:00",
          "2025-07-25T07:00:00",
          "2025-07-25T11:00:00",
          "2025-07-25T15:00:00",
          "2025-07-25T19:00:00",
          "2025-07-25T23:00:00",
          "2025-07-26T03:00:00",
          "2025-07-26T07:00:00",
          "2025-07-26T11:00:00",
          "2025-07-26T15:00:00",
          "2025-07-26T19:00:00",
          "2025-07-26T23:00:00",
          "2025-07-27T03:00:00",
          "2025-07-27T07:00:00",
          "2025-07-27T11:00:00",
          "2025-07-27T15:00:00",
          "2025-07-27T19:00:00",
          "2025-07-27T23:00:00",
          "2025-07-28T03:00:00",
          "2025-07-28T07:00:00",
          "2025-07-28T11:00:00",
          "2025-07-28T15:00:00",
          "2025-07-28T19:00:00",
          "2025-07-28T23:00:00",
          "2025-07-29T03:00:00",
          "2025-07-29T07:00:00",
          "2025-07-29T11:00:00",
          "2025-07-29T15:00:00",
          "2025-07-29T19:00:00",
          "2025-07-29T23:00:00",
          "2025-07-30T03:00:00",
          "2025-07-30T07:00:00",
          "2025-07-30T11:00:00",
          "2025-07-30T15:00:00",
          "2025-07-30T19:00:00",
          "2025-07-30T23:00:00",
          "2025-07-31T03:00:00",
          "2025-07-31T07:00:00",
          "2025-07-31T11:00:00",
          "2025-07-31T15:00:00",
          "2025-07-31T19:00:00",
          "2025-07-31T23:00:00",
          "2025-08-01T03:00:00",
          "2025-08-01T07:00:00",
          "2025-08-01T11:00:00",
          "2025-08-01T15:00:00"
         ],
         "xaxis": "x4",
         "y": {
          "bdata": "AAAAAAAAAAAAAAAAAAAAAAAAAAAAAAAAAAAAAAAAAAAAAAAAAAAAAAAAAAAAAAAAAAAAAAAAAAAAAAAAAAAAAAAAAAAAAAAAAAAAAAAAAAAAAAAAAAAAAAAAAAAAAAAAAAAAAAAAAAAAAAAAAAAAAAAAAAAAAAAAAAAAAAAAAAAAAAAAAAAAAAAAAAAAAAAAAAAAAAAAAAAAAAAAAAAAAAAAAAAAAAAAAAAAAAAAAAAAAAAAAAAAAAAAAAAAAAAAAAAAAAAAAAAAAAAAAAAAAAAAAAAAAAAAAAAAAAAAAAAAAAAAAAAAAAAAAAAAAAAAAAAAAAAAAAAAAAAAAAAAAAAAAAAAAAAAAAAAAAAAAAAAAAAAAAAAAAAAAAAAAAAAAAAAAAAAAAAAAAAAAAAAAAAAAAAAAAAAAAAAAAAAAAAAAAAAAAAAAC1DHOviNiq/AAAAAAAAAAAZ01NbBVNivxqON5V052W/ZDSeQHR2Y7/gI94R07Fiv6DWYbTx42W/dxcfKHhuYL//zlIWv9Fjv2pVHp62/2S/7GhY5Sd9Yr+Pr48YS4lXvzeMRKka91q/9nwmbbXSZr+wXKGN4jSAv7BcoY3iNIC/sFyhjeI0gL+wXKGN4jSAv7BcoY3iNIC/sFyhjeI0gL+wXKGN4jSAv7BcoY3iNIC/sFyhjeI0gL+wXKGN4jSAv7BcoY3iNIC/sFyhjeI0gL9D7gmt6ZyAv5+dllhq4oC/eynfmwz7gL+VMtME6pd+v722FyLD93u/LNxC6JrMeL/imS6C+PV5v27+PI1Gsny/CwCTE2gmfb/U186sxt+Av9UeV32DOYG/wmT7ntRFgb+lXh5CH9h9v8W4UVdQuXy/wGE8Jhjnfr9D3xnnNIWDv687QB1OO4O/wEJ/lM2zgb91ZyGl81uBv3VnIaXzW4G/dWchpfNbgb91ZyGl81uBv3VnIaXzW4G/dWchpfNbgb91ZyGl81uBv3VnIaXzW4G/dWchpfNbgb8sNAqp68OBv0eq/NcpZYe/R6r81yllh79HqvzXKWWHv0eq/NcpZYe/R6r81yllh78=",
          "dtype": "f8"
         },
         "yaxis": "y4"
        },
        {
         "mode": "lines",
         "name": "Cash",
         "type": "scatter",
         "x": [
          "2025-07-16T03:00:00",
          "2025-07-16T07:00:00",
          "2025-07-16T11:00:00",
          "2025-07-16T15:00:00",
          "2025-07-16T19:00:00",
          "2025-07-16T23:00:00",
          "2025-07-17T03:00:00",
          "2025-07-17T07:00:00",
          "2025-07-17T11:00:00",
          "2025-07-17T15:00:00",
          "2025-07-17T19:00:00",
          "2025-07-17T23:00:00",
          "2025-07-18T03:00:00",
          "2025-07-18T07:00:00",
          "2025-07-18T11:00:00",
          "2025-07-18T15:00:00",
          "2025-07-18T19:00:00",
          "2025-07-18T23:00:00",
          "2025-07-19T03:00:00",
          "2025-07-19T07:00:00",
          "2025-07-19T11:00:00",
          "2025-07-19T15:00:00",
          "2025-07-19T19:00:00",
          "2025-07-19T23:00:00",
          "2025-07-20T03:00:00",
          "2025-07-20T07:00:00",
          "2025-07-20T11:00:00",
          "2025-07-20T15:00:00",
          "2025-07-20T19:00:00",
          "2025-07-20T23:00:00",
          "2025-07-21T03:00:00",
          "2025-07-21T07:00:00",
          "2025-07-21T11:00:00",
          "2025-07-21T15:00:00",
          "2025-07-21T19:00:00",
          "2025-07-21T23:00:00",
          "2025-07-22T03:00:00",
          "2025-07-22T07:00:00",
          "2025-07-22T11:00:00",
          "2025-07-22T15:00:00",
          "2025-07-22T19:00:00",
          "2025-07-22T23:00:00",
          "2025-07-23T03:00:00",
          "2025-07-23T07:00:00",
          "2025-07-23T11:00:00",
          "2025-07-23T15:00:00",
          "2025-07-23T19:00:00",
          "2025-07-23T23:00:00",
          "2025-07-24T03:00:00",
          "2025-07-24T07:00:00",
          "2025-07-24T11:00:00",
          "2025-07-24T15:00:00",
          "2025-07-24T19:00:00",
          "2025-07-24T23:00:00",
          "2025-07-25T03:00:00",
          "2025-07-25T07:00:00",
          "2025-07-25T11:00:00",
          "2025-07-25T15:00:00",
          "2025-07-25T19:00:00",
          "2025-07-25T23:00:00",
          "2025-07-26T03:00:00",
          "2025-07-26T07:00:00",
          "2025-07-26T11:00:00",
          "2025-07-26T15:00:00",
          "2025-07-26T19:00:00",
          "2025-07-26T23:00:00",
          "2025-07-27T03:00:00",
          "2025-07-27T07:00:00",
          "2025-07-27T11:00:00",
          "2025-07-27T15:00:00",
          "2025-07-27T19:00:00",
          "2025-07-27T23:00:00",
          "2025-07-28T03:00:00",
          "2025-07-28T07:00:00",
          "2025-07-28T11:00:00",
          "2025-07-28T15:00:00",
          "2025-07-28T19:00:00",
          "2025-07-28T23:00:00",
          "2025-07-29T03:00:00",
          "2025-07-29T07:00:00",
          "2025-07-29T11:00:00",
          "2025-07-29T15:00:00",
          "2025-07-29T19:00:00",
          "2025-07-29T23:00:00",
          "2025-07-30T03:00:00",
          "2025-07-30T07:00:00",
          "2025-07-30T11:00:00",
          "2025-07-30T15:00:00",
          "2025-07-30T19:00:00",
          "2025-07-30T23:00:00",
          "2025-07-31T03:00:00",
          "2025-07-31T07:00:00",
          "2025-07-31T11:00:00",
          "2025-07-31T15:00:00",
          "2025-07-31T19:00:00",
          "2025-07-31T23:00:00",
          "2025-08-01T03:00:00",
          "2025-08-01T07:00:00",
          "2025-08-01T11:00:00",
          "2025-08-01T15:00:00"
         ],
         "xaxis": "x5",
         "y": {
          "bdata": "AAAAAABq+EAAAAAAAGr4QAAAAAAAavhAAAAAAABq+EAAAAAAAGr4QAAAAAAAavhAAAAAAABq+EAAAAAAAGr4QAAAAAAAavhAAAAAAABq+EAAAAAAAGr4QAAAAAAAavhAAAAAAABq+EAAAAAAAGr4QAAAAAAAavhAAAAAAABq+EAAAAAAAGr4QAAAAAAAavhAAAAAAABq+EAAAAAAAGr4QAAAAAAAavhAAAAAAABq+EAAAAAAAGr4QAAAAAAAavhAAAAAAABq+EAAAAAAAGr4QAAAAAAAavhAAAAAAABq+EAAAAAAAGr4QAAAAAAAavhAAAAAAABq+EAAAAAAAGr4QAAAAAAAavhAAAAAAABq+EAAAAAAAGr4QAAAAAAAavhAAAAAAABq+EAAAAAAAGr4QAAAAAAAavhAAAAAAABq+EAAAAAAAGr4QAAAAADAhvNAAAAAAMCG80AAAAAAwIbzQAAAAADAhvNAAAAAAMCG80AAAAAAwIbzQAAAAADAhvNAAAAAAMCG80AAAAAAwIbzQAAAAADAhvNAAAAAAMCG80AAAAAAwIbzQAAAAADAhvNAAAAAAMCG80C4hFduOz74QLiEV247PvhAuIRXbjs++EC4hFduOz74QLiEV247PvhAuIRXbjs++EC4hFduOz74QLiEV247PvhAuIRXbjs++EC4hFduOz74QLiEV247PvhAuIRXbjs++ECPivKVvmPzQI+K8pW+Y/NAj4rylb5j80CPivKVvmPzQI+K8pW+Y/NAj4rylb5j80CPivKVvmPzQI+K8pW+Y/NAj4rylb5j80CPivKVvmPzQI+K8pW+Y/NAj4rylb5j80CPivKVvmPzQI+K8pW+Y/NAj4rylb5j80CPivKVvmPzQI+K8pW+Y/NAj4rylb5j80Becd0htjr4QF5x3SG2OvhAXnHdIbY6+EBecd0htjr4QF5x3SG2OvhAXnHdIbY6+EBecd0htjr4QF5x3SG2OvhAXnHdIbY6+ECZyBy67WDzQBS7RjFGKPhAFLtGMUYo+EAUu0YxRij4QBS7RjFGKPhAFLtGMUYo+EA=",
          "dtype": "f8"
         },
         "yaxis": "y5"
        },
        {
         "mode": "lines",
         "name": "Positions",
         "type": "scatter",
         "x": [
          "2025-07-16T03:00:00",
          "2025-07-16T07:00:00",
          "2025-07-16T11:00:00",
          "2025-07-16T15:00:00",
          "2025-07-16T19:00:00",
          "2025-07-16T23:00:00",
          "2025-07-17T03:00:00",
          "2025-07-17T07:00:00",
          "2025-07-17T11:00:00",
          "2025-07-17T15:00:00",
          "2025-07-17T19:00:00",
          "2025-07-17T23:00:00",
          "2025-07-18T03:00:00",
          "2025-07-18T07:00:00",
          "2025-07-18T11:00:00",
          "2025-07-18T15:00:00",
          "2025-07-18T19:00:00",
          "2025-07-18T23:00:00",
          "2025-07-19T03:00:00",
          "2025-07-19T07:00:00",
          "2025-07-19T11:00:00",
          "2025-07-19T15:00:00",
          "2025-07-19T19:00:00",
          "2025-07-19T23:00:00",
          "2025-07-20T03:00:00",
          "2025-07-20T07:00:00",
          "2025-07-20T11:00:00",
          "2025-07-20T15:00:00",
          "2025-07-20T19:00:00",
          "2025-07-20T23:00:00",
          "2025-07-21T03:00:00",
          "2025-07-21T07:00:00",
          "2025-07-21T11:00:00",
          "2025-07-21T15:00:00",
          "2025-07-21T19:00:00",
          "2025-07-21T23:00:00",
          "2025-07-22T03:00:00",
          "2025-07-22T07:00:00",
          "2025-07-22T11:00:00",
          "2025-07-22T15:00:00",
          "2025-07-22T19:00:00",
          "2025-07-22T23:00:00",
          "2025-07-23T03:00:00",
          "2025-07-23T07:00:00",
          "2025-07-23T11:00:00",
          "2025-07-23T15:00:00",
          "2025-07-23T19:00:00",
          "2025-07-23T23:00:00",
          "2025-07-24T03:00:00",
          "2025-07-24T07:00:00",
          "2025-07-24T11:00:00",
          "2025-07-24T15:00:00",
          "2025-07-24T19:00:00",
          "2025-07-24T23:00:00",
          "2025-07-25T03:00:00",
          "2025-07-25T07:00:00",
          "2025-07-25T11:00:00",
          "2025-07-25T15:00:00",
          "2025-07-25T19:00:00",
          "2025-07-25T23:00:00",
          "2025-07-26T03:00:00",
          "2025-07-26T07:00:00",
          "2025-07-26T11:00:00",
          "2025-07-26T15:00:00",
          "2025-07-26T19:00:00",
          "2025-07-26T23:00:00",
          "2025-07-27T03:00:00",
          "2025-07-27T07:00:00",
          "2025-07-27T11:00:00",
          "2025-07-27T15:00:00",
          "2025-07-27T19:00:00",
          "2025-07-27T23:00:00",
          "2025-07-28T03:00:00",
          "2025-07-28T07:00:00",
          "2025-07-28T11:00:00",
          "2025-07-28T15:00:00",
          "2025-07-28T19:00:00",
          "2025-07-28T23:00:00",
          "2025-07-29T03:00:00",
          "2025-07-29T07:00:00",
          "2025-07-29T11:00:00",
          "2025-07-29T15:00:00",
          "2025-07-29T19:00:00",
          "2025-07-29T23:00:00",
          "2025-07-30T03:00:00",
          "2025-07-30T07:00:00",
          "2025-07-30T11:00:00",
          "2025-07-30T15:00:00",
          "2025-07-30T19:00:00",
          "2025-07-30T23:00:00",
          "2025-07-31T03:00:00",
          "2025-07-31T07:00:00",
          "2025-07-31T11:00:00",
          "2025-07-31T15:00:00",
          "2025-07-31T19:00:00",
          "2025-07-31T23:00:00",
          "2025-08-01T03:00:00",
          "2025-08-01T07:00:00",
          "2025-08-01T11:00:00",
          "2025-08-01T15:00:00"
         ],
         "xaxis": "x5",
         "y": {
          "bdata": "AAAAAAAAAAAAAAAAAAAAAAAAAAAAAAAAAAAAAAAAAAAAAAAAAAAAAAAAAAAAAAAAAAAAAAAAAAAAAAAAAAAAAAAAAAAAAAAAAAAAAAAAAAAAAAAAAAAAAAAAAAAAAAAAAAAAAAAAAAAAAAAAAAAAAAAAAAAAAAAAAAAAAAAAAAAAAAAAAAAAAAAAAAAAAAAAAAAAAAAAAAAAAAAAAAAAAAAAAAAAAAAAAAAAAAAAAAAAAAAAAAAAAAAAAAAAAAAAAAAAAAAAAAAAAAAAAAAAAAAAAAAAAAAAAAAAAAAAAAAAAAAAAAAAAAAAAAAAAAAAAAAAAAAAAAAAAAAAAAAAAAAAAAAAAAAAAAAAAAAAAAAAAAAAAAAAAAAAAAAAAAAAAAAAAAAAAAAAAAAAAAAAAAAAAAAAAAAAAAAAAAAAAAAAAAAAAAAAAAAAAAAAiNNA4IYixvGj00C4LIPG+GvTQLg6+3gJYdNAMMpfk35o00BYJUAx12rTQOxgqDIUYdNAOMTZ3cBx00AA6cm3Z2fTQOATn1fNY9NAVGJlEnhr00D0f9B3/3/TQAzZRM7CetNAYDuq4Dpe00AAAAAAAAAAAAAAAAAAAAAAAAAAAAAAAAAAAAAAAAAAAAAAAAAAAAAAAAAAAAAAAAAAAAAAAAAAAAAAAAAAAAAAAAAAAAAAAAAAAAAAAAAAAAAAAAAAAAAAAAAAAAAAAADIA0ZY/GTTQCCSQSWrYdNAQIrbKX5g00AYFFVZEXXTQGw2jpobhdNAaMrLDneY00AkrZFqXpHTQOSq+SuogNNALE/StuJ900AcXMNky2HTQIyIhvWCXdNAnITTd+xc00CgaWsHpXnTQOjyoSx9gNNATD66oC1z00B8g01jdkHTQBybf1X9RNNALE9ezKxX00AAAAAAAAAAAAAAAAAAAAAAAAAAAAAAAAAAAAAAAAAAAAAAAAAAAAAAAAAAAAAAAAAAAAAAAAAAAAAAAAAAAAAAAAAAAAAAAAAYwUpOK2LTQAAAAAAAAAAAAAAAAAAAAAAAAAAAAAAAAAAAAAAAAAAAAAAAAAAAAAA=",
          "dtype": "f8"
         },
         "yaxis": "y5"
        },
        {
         "name": "Trade Returns",
         "type": "histogram",
         "x": [
          0,
          -680.2855610671686,
          0,
          -36.47122822006713,
          0,
          -275.14756082666645
         ],
         "xaxis": "x6",
         "yaxis": "y6"
        }
       ],
       "layout": {
        "annotations": [
         {
          "font": {
           "size": 16
          },
          "showarrow": false,
          "text": "Portfolio Value",
          "x": 0.225,
          "xanchor": "center",
          "xref": "paper",
          "y": 1,
          "yanchor": "bottom",
          "yref": "paper"
         },
         {
          "font": {
           "size": 16
          },
          "showarrow": false,
          "text": "Daily Returns",
          "x": 0.775,
          "xanchor": "center",
          "xref": "paper",
          "y": 1,
          "yanchor": "bottom",
          "yref": "paper"
         },
         {
          "font": {
           "size": 16
          },
          "showarrow": false,
          "text": "Cumulative Returns",
          "x": 0.225,
          "xanchor": "center",
          "xref": "paper",
          "y": 0.6111111111111112,
          "yanchor": "bottom",
          "yref": "paper"
         },
         {
          "font": {
           "size": 16
          },
          "showarrow": false,
          "text": "Drawdown",
          "x": 0.775,
          "xanchor": "center",
          "xref": "paper",
          "y": 0.6111111111111112,
          "yanchor": "bottom",
          "yref": "paper"
         },
         {
          "font": {
           "size": 16
          },
          "showarrow": false,
          "text": "Cash vs Positions",
          "x": 0.225,
          "xanchor": "center",
          "xref": "paper",
          "y": 0.22222222222222224,
          "yanchor": "bottom",
          "yref": "paper"
         },
         {
          "font": {
           "size": 16
          },
          "showarrow": false,
          "text": "Trade Distribution",
          "x": 0.775,
          "xanchor": "center",
          "xref": "paper",
          "y": 0.22222222222222224,
          "yanchor": "bottom",
          "yref": "paper"
         }
        ],
        "height": 900,
        "template": {
         "data": {
          "bar": [
           {
            "error_x": {
             "color": "#2a3f5f"
            },
            "error_y": {
             "color": "#2a3f5f"
            },
            "marker": {
             "line": {
              "color": "#E5ECF6",
              "width": 0.5
             },
             "pattern": {
              "fillmode": "overlay",
              "size": 10,
              "solidity": 0.2
             }
            },
            "type": "bar"
           }
          ],
          "barpolar": [
           {
            "marker": {
             "line": {
              "color": "#E5ECF6",
              "width": 0.5
             },
             "pattern": {
              "fillmode": "overlay",
              "size": 10,
              "solidity": 0.2
             }
            },
            "type": "barpolar"
           }
          ],
          "carpet": [
           {
            "aaxis": {
             "endlinecolor": "#2a3f5f",
             "gridcolor": "white",
             "linecolor": "white",
             "minorgridcolor": "white",
             "startlinecolor": "#2a3f5f"
            },
            "baxis": {
             "endlinecolor": "#2a3f5f",
             "gridcolor": "white",
             "linecolor": "white",
             "minorgridcolor": "white",
             "startlinecolor": "#2a3f5f"
            },
            "type": "carpet"
           }
          ],
          "choropleth": [
           {
            "colorbar": {
             "outlinewidth": 0,
             "ticks": ""
            },
            "type": "choropleth"
           }
          ],
          "contour": [
           {
            "colorbar": {
             "outlinewidth": 0,
             "ticks": ""
            },
            "colorscale": [
             [
              0,
              "#0d0887"
             ],
             [
              0.1111111111111111,
              "#46039f"
             ],
             [
              0.2222222222222222,
              "#7201a8"
             ],
             [
              0.3333333333333333,
              "#9c179e"
             ],
             [
              0.4444444444444444,
              "#bd3786"
             ],
             [
              0.5555555555555556,
              "#d8576b"
             ],
             [
              0.6666666666666666,
              "#ed7953"
             ],
             [
              0.7777777777777778,
              "#fb9f3a"
             ],
             [
              0.8888888888888888,
              "#fdca26"
             ],
             [
              1,
              "#f0f921"
             ]
            ],
            "type": "contour"
           }
          ],
          "contourcarpet": [
           {
            "colorbar": {
             "outlinewidth": 0,
             "ticks": ""
            },
            "type": "contourcarpet"
           }
          ],
          "heatmap": [
           {
            "colorbar": {
             "outlinewidth": 0,
             "ticks": ""
            },
            "colorscale": [
             [
              0,
              "#0d0887"
             ],
             [
              0.1111111111111111,
              "#46039f"
             ],
             [
              0.2222222222222222,
              "#7201a8"
             ],
             [
              0.3333333333333333,
              "#9c179e"
             ],
             [
              0.4444444444444444,
              "#bd3786"
             ],
             [
              0.5555555555555556,
              "#d8576b"
             ],
             [
              0.6666666666666666,
              "#ed7953"
             ],
             [
              0.7777777777777778,
              "#fb9f3a"
             ],
             [
              0.8888888888888888,
              "#fdca26"
             ],
             [
              1,
              "#f0f921"
             ]
            ],
            "type": "heatmap"
           }
          ],
          "histogram": [
           {
            "marker": {
             "pattern": {
              "fillmode": "overlay",
              "size": 10,
              "solidity": 0.2
             }
            },
            "type": "histogram"
           }
          ],
          "histogram2d": [
           {
            "colorbar": {
             "outlinewidth": 0,
             "ticks": ""
            },
            "colorscale": [
             [
              0,
              "#0d0887"
             ],
             [
              0.1111111111111111,
              "#46039f"
             ],
             [
              0.2222222222222222,
              "#7201a8"
             ],
             [
              0.3333333333333333,
              "#9c179e"
             ],
             [
              0.4444444444444444,
              "#bd3786"
             ],
             [
              0.5555555555555556,
              "#d8576b"
             ],
             [
              0.6666666666666666,
              "#ed7953"
             ],
             [
              0.7777777777777778,
              "#fb9f3a"
             ],
             [
              0.8888888888888888,
              "#fdca26"
             ],
             [
              1,
              "#f0f921"
             ]
            ],
            "type": "histogram2d"
           }
          ],
          "histogram2dcontour": [
           {
            "colorbar": {
             "outlinewidth": 0,
             "ticks": ""
            },
            "colorscale": [
             [
              0,
              "#0d0887"
             ],
             [
              0.1111111111111111,
              "#46039f"
             ],
             [
              0.2222222222222222,
              "#7201a8"
             ],
             [
              0.3333333333333333,
              "#9c179e"
             ],
             [
              0.4444444444444444,
              "#bd3786"
             ],
             [
              0.5555555555555556,
              "#d8576b"
             ],
             [
              0.6666666666666666,
              "#ed7953"
             ],
             [
              0.7777777777777778,
              "#fb9f3a"
             ],
             [
              0.8888888888888888,
              "#fdca26"
             ],
             [
              1,
              "#f0f921"
             ]
            ],
            "type": "histogram2dcontour"
           }
          ],
          "mesh3d": [
           {
            "colorbar": {
             "outlinewidth": 0,
             "ticks": ""
            },
            "type": "mesh3d"
           }
          ],
          "parcoords": [
           {
            "line": {
             "colorbar": {
              "outlinewidth": 0,
              "ticks": ""
             }
            },
            "type": "parcoords"
           }
          ],
          "pie": [
           {
            "automargin": true,
            "type": "pie"
           }
          ],
          "scatter": [
           {
            "fillpattern": {
             "fillmode": "overlay",
             "size": 10,
             "solidity": 0.2
            },
            "type": "scatter"
           }
          ],
          "scatter3d": [
           {
            "line": {
             "colorbar": {
              "outlinewidth": 0,
              "ticks": ""
             }
            },
            "marker": {
             "colorbar": {
              "outlinewidth": 0,
              "ticks": ""
             }
            },
            "type": "scatter3d"
           }
          ],
          "scattercarpet": [
           {
            "marker": {
             "colorbar": {
              "outlinewidth": 0,
              "ticks": ""
             }
            },
            "type": "scattercarpet"
           }
          ],
          "scattergeo": [
           {
            "marker": {
             "colorbar": {
              "outlinewidth": 0,
              "ticks": ""
             }
            },
            "type": "scattergeo"
           }
          ],
          "scattergl": [
           {
            "marker": {
             "colorbar": {
              "outlinewidth": 0,
              "ticks": ""
             }
            },
            "type": "scattergl"
           }
          ],
          "scattermap": [
           {
            "marker": {
             "colorbar": {
              "outlinewidth": 0,
              "ticks": ""
             }
            },
            "type": "scattermap"
           }
          ],
          "scattermapbox": [
           {
            "marker": {
             "colorbar": {
              "outlinewidth": 0,
              "ticks": ""
             }
            },
            "type": "scattermapbox"
           }
          ],
          "scatterpolar": [
           {
            "marker": {
             "colorbar": {
              "outlinewidth": 0,
              "ticks": ""
             }
            },
            "type": "scatterpolar"
           }
          ],
          "scatterpolargl": [
           {
            "marker": {
             "colorbar": {
              "outlinewidth": 0,
              "ticks": ""
             }
            },
            "type": "scatterpolargl"
           }
          ],
          "scatterternary": [
           {
            "marker": {
             "colorbar": {
              "outlinewidth": 0,
              "ticks": ""
             }
            },
            "type": "scatterternary"
           }
          ],
          "surface": [
           {
            "colorbar": {
             "outlinewidth": 0,
             "ticks": ""
            },
            "colorscale": [
             [
              0,
              "#0d0887"
             ],
             [
              0.1111111111111111,
              "#46039f"
             ],
             [
              0.2222222222222222,
              "#7201a8"
             ],
             [
              0.3333333333333333,
              "#9c179e"
             ],
             [
              0.4444444444444444,
              "#bd3786"
             ],
             [
              0.5555555555555556,
              "#d8576b"
             ],
             [
              0.6666666666666666,
              "#ed7953"
             ],
             [
              0.7777777777777778,
              "#fb9f3a"
             ],
             [
              0.8888888888888888,
              "#fdca26"
             ],
             [
              1,
              "#f0f921"
             ]
            ],
            "type": "surface"
           }
          ],
          "table": [
           {
            "cells": {
             "fill": {
              "color": "#EBF0F8"
             },
             "line": {
              "color": "white"
             }
            },
            "header": {
             "fill": {
              "color": "#C8D4E3"
             },
             "line": {
              "color": "white"
             }
            },
            "type": "table"
           }
          ]
         },
         "layout": {
          "annotationdefaults": {
           "arrowcolor": "#2a3f5f",
           "arrowhead": 0,
           "arrowwidth": 1
          },
          "autotypenumbers": "strict",
          "coloraxis": {
           "colorbar": {
            "outlinewidth": 0,
            "ticks": ""
           }
          },
          "colorscale": {
           "diverging": [
            [
             0,
             "#8e0152"
            ],
            [
             0.1,
             "#c51b7d"
            ],
            [
             0.2,
             "#de77ae"
            ],
            [
             0.3,
             "#f1b6da"
            ],
            [
             0.4,
             "#fde0ef"
            ],
            [
             0.5,
             "#f7f7f7"
            ],
            [
             0.6,
             "#e6f5d0"
            ],
            [
             0.7,
             "#b8e186"
            ],
            [
             0.8,
             "#7fbc41"
            ],
            [
             0.9,
             "#4d9221"
            ],
            [
             1,
             "#276419"
            ]
           ],
           "sequential": [
            [
             0,
             "#0d0887"
            ],
            [
             0.1111111111111111,
             "#46039f"
            ],
            [
             0.2222222222222222,
             "#7201a8"
            ],
            [
             0.3333333333333333,
             "#9c179e"
            ],
            [
             0.4444444444444444,
             "#bd3786"
            ],
            [
             0.5555555555555556,
             "#d8576b"
            ],
            [
             0.6666666666666666,
             "#ed7953"
            ],
            [
             0.7777777777777778,
             "#fb9f3a"
            ],
            [
             0.8888888888888888,
             "#fdca26"
            ],
            [
             1,
             "#f0f921"
            ]
           ],
           "sequentialminus": [
            [
             0,
             "#0d0887"
            ],
            [
             0.1111111111111111,
             "#46039f"
            ],
            [
             0.2222222222222222,
             "#7201a8"
            ],
            [
             0.3333333333333333,
             "#9c179e"
            ],
            [
             0.4444444444444444,
             "#bd3786"
            ],
            [
             0.5555555555555556,
             "#d8576b"
            ],
            [
             0.6666666666666666,
             "#ed7953"
            ],
            [
             0.7777777777777778,
             "#fb9f3a"
            ],
            [
             0.8888888888888888,
             "#fdca26"
            ],
            [
             1,
             "#f0f921"
            ]
           ]
          },
          "colorway": [
           "#636efa",
           "#EF553B",
           "#00cc96",
           "#ab63fa",
           "#FFA15A",
           "#19d3f3",
           "#FF6692",
           "#B6E880",
           "#FF97FF",
           "#FECB52"
          ],
          "font": {
           "color": "#2a3f5f"
          },
          "geo": {
           "bgcolor": "white",
           "lakecolor": "white",
           "landcolor": "#E5ECF6",
           "showlakes": true,
           "showland": true,
           "subunitcolor": "white"
          },
          "hoverlabel": {
           "align": "left"
          },
          "hovermode": "closest",
          "mapbox": {
           "style": "light"
          },
          "paper_bgcolor": "white",
          "plot_bgcolor": "#E5ECF6",
          "polar": {
           "angularaxis": {
            "gridcolor": "white",
            "linecolor": "white",
            "ticks": ""
           },
           "bgcolor": "#E5ECF6",
           "radialaxis": {
            "gridcolor": "white",
            "linecolor": "white",
            "ticks": ""
           }
          },
          "scene": {
           "xaxis": {
            "backgroundcolor": "#E5ECF6",
            "gridcolor": "white",
            "gridwidth": 2,
            "linecolor": "white",
            "showbackground": true,
            "ticks": "",
            "zerolinecolor": "white"
           },
           "yaxis": {
            "backgroundcolor": "#E5ECF6",
            "gridcolor": "white",
            "gridwidth": 2,
            "linecolor": "white",
            "showbackground": true,
            "ticks": "",
            "zerolinecolor": "white"
           },
           "zaxis": {
            "backgroundcolor": "#E5ECF6",
            "gridcolor": "white",
            "gridwidth": 2,
            "linecolor": "white",
            "showbackground": true,
            "ticks": "",
            "zerolinecolor": "white"
           }
          },
          "shapedefaults": {
           "line": {
            "color": "#2a3f5f"
           }
          },
          "ternary": {
           "aaxis": {
            "gridcolor": "white",
            "linecolor": "white",
            "ticks": ""
           },
           "baxis": {
            "gridcolor": "white",
            "linecolor": "white",
            "ticks": ""
           },
           "bgcolor": "#E5ECF6",
           "caxis": {
            "gridcolor": "white",
            "linecolor": "white",
            "ticks": ""
           }
          },
          "title": {
           "x": 0.05
          },
          "xaxis": {
           "automargin": true,
           "gridcolor": "white",
           "linecolor": "white",
           "ticks": "",
           "title": {
            "standoff": 15
           },
           "zerolinecolor": "white",
           "zerolinewidth": 2
          },
          "yaxis": {
           "automargin": true,
           "gridcolor": "white",
           "linecolor": "white",
           "ticks": "",
           "title": {
            "standoff": 15
           },
           "zerolinecolor": "white",
           "zerolinewidth": 2
          }
         }
        },
        "title": {
         "text": "Portfolio Performance Analysis"
        },
        "xaxis": {
         "anchor": "y",
         "domain": [
          0,
          0.45
         ]
        },
        "xaxis2": {
         "anchor": "y2",
         "domain": [
          0.55,
          1
         ]
        },
        "xaxis3": {
         "anchor": "y3",
         "domain": [
          0,
          0.45
         ]
        },
        "xaxis4": {
         "anchor": "y4",
         "domain": [
          0.55,
          1
         ]
        },
        "xaxis5": {
         "anchor": "y5",
         "domain": [
          0,
          0.45
         ]
        },
        "xaxis6": {
         "anchor": "y6",
         "domain": [
          0.55,
          1
         ]
        },
        "yaxis": {
         "anchor": "x",
         "domain": [
          0.7777777777777778,
          1
         ]
        },
        "yaxis2": {
         "anchor": "x2",
         "domain": [
          0.7777777777777778,
          1
         ]
        },
        "yaxis3": {
         "anchor": "x3",
         "domain": [
          0.3888888888888889,
          0.6111111111111112
         ]
        },
        "yaxis4": {
         "anchor": "x4",
         "domain": [
          0.3888888888888889,
          0.6111111111111112
         ]
        },
        "yaxis5": {
         "anchor": "x5",
         "domain": [
          0,
          0.22222222222222224
         ]
        },
        "yaxis6": {
         "anchor": "x6",
         "domain": [
          0,
          0.22222222222222224
         ]
        }
       }
      }
     },
     "metadata": {},
     "output_type": "display_data"
    }
   ],
   "source": [
    "# Cell 7: Visualize portfolio performance\n",
    "def plot_portfolio_performance(engine):\n",
    "    \"\"\"Plot portfolio performance\"\"\"\n",
    "    portfolio_history = engine.portfolio_history\n",
    "    \n",
    "    if not portfolio_history:\n",
    "        print(\"Không có dữ liệu portfolio history\")\n",
    "        return\n",
    "    \n",
    "    df = pd.DataFrame(portfolio_history)\n",
    "    df['date'] = pd.to_datetime(df['date'])\n",
    "    df.set_index('date', inplace=True)\n",
    "    \n",
    "    # Create subplots\n",
    "    fig = make_subplots(\n",
    "        rows=3, cols=2,\n",
    "        subplot_titles=('Portfolio Value', 'Daily Returns', 'Cumulative Returns', \n",
    "                       'Drawdown', 'Cash vs Positions', 'Trade Distribution'),\n",
    "        specs=[[{\"secondary_y\": False}, {\"secondary_y\": False}],\n",
    "               [{\"secondary_y\": False}, {\"secondary_y\": False}],\n",
    "               [{\"secondary_y\": False}, {\"secondary_y\": False}]]\n",
    "    )\n",
    "    \n",
    "    # Portfolio Value\n",
    "    fig.add_trace(\n",
    "        go.Scatter(x=df.index, y=df['total_value'], \n",
    "                  mode='lines', name='Portfolio Value'),\n",
    "        row=1, col=1\n",
    "    )\n",
    "    \n",
    "    # Daily Returns\n",
    "    daily_returns = df['total_value'].pct_change()\n",
    "    fig.add_trace(\n",
    "        go.Scatter(x=df.index, y=daily_returns, \n",
    "                  mode='lines', name='Daily Returns'),\n",
    "        row=1, col=2\n",
    "    )\n",
    "    \n",
    "    # Cumulative Returns\n",
    "    cumulative_returns = (1 + daily_returns).cumprod()\n",
    "    fig.add_trace(\n",
    "        go.Scatter(x=df.index, y=cumulative_returns, \n",
    "                  mode='lines', name='Cumulative Returns'),\n",
    "        row=2, col=1\n",
    "    )\n",
    "    \n",
    "    # Drawdown\n",
    "    running_max = df['total_value'].expanding().max()\n",
    "    drawdown = (df['total_value'] - running_max) / running_max\n",
    "    fig.add_trace(\n",
    "        go.Scatter(x=df.index, y=drawdown, \n",
    "                  mode='lines', name='Drawdown', fill='tonexty'),\n",
    "        row=2, col=2\n",
    "    )\n",
    "    \n",
    "    # Cash vs Positions\n",
    "    fig.add_trace(\n",
    "        go.Scatter(x=df.index, y=df['cash'], \n",
    "                  mode='lines', name='Cash'),\n",
    "        row=3, col=1\n",
    "    )\n",
    "    fig.add_trace(\n",
    "        go.Scatter(x=df.index, y=df['total_value'] - df['cash'], \n",
    "                  mode='lines', name='Positions'),\n",
    "        row=3, col=1\n",
    "    )\n",
    "    \n",
    "    # Trade Distribution (if available)\n",
    "    if hasattr(engine, 'trades') and engine.trades:\n",
    "        trade_returns = [trade.pnl for trade in engine.trades]\n",
    "        fig.add_trace(\n",
    "            go.Histogram(x=trade_returns, name='Trade Returns'),\n",
    "            row=3, col=2\n",
    "        )\n",
    "    \n",
    "    fig.update_layout(height=900, title_text=\"Portfolio Performance Analysis\")\n",
    "    fig.show()\n",
    "\n",
    "# Chạy visualization\n",
    "plot_portfolio_performance(engine)"
   ]
  },
  {
   "cell_type": "code",
   "execution_count": 28,
   "id": "f260b432",
   "metadata": {},
   "outputs": [
    {
     "name": "stdout",
     "output_type": "stream",
     "text": [
      "\n",
      "=== CHI TIẾT TRADES (6 trades) ===\n",
      "            Symbol  Side  Quantity     Price           Timestamp  Commission  \\\n",
      "0  Bitstamp:BTCUSD   buy  0.167583  119344.0 2025-07-22 23:00:00   20.000000   \n",
      "1  Bitstamp:BTCUSD  sell  0.167583  115400.0 2025-07-25 07:00:00   19.339053   \n",
      "2  Bitstamp:BTCUSD   buy  0.167959  118243.0 2025-07-27 07:00:00   19.859943   \n",
      "3  Bitstamp:BTCUSD  sell  0.167959  118144.0 2025-07-30 07:00:00   19.843315   \n",
      "4  Bitstamp:BTCUSD   buy  0.167797  118290.0 2025-07-31 19:00:00   19.848677   \n",
      "5  Bitstamp:BTCUSD  sell  0.167797  116767.0 2025-07-31 23:00:00   19.593122   \n",
      "\n",
      "        Strategy  \n",
      "0  sma_crossover  \n",
      "1  sma_crossover  \n",
      "2  sma_crossover  \n",
      "3  sma_crossover  \n",
      "4  sma_crossover  \n",
      "5  sma_crossover  \n",
      "\n",
      "=== TRADE STATISTICS ===\n",
      "Total Trades: 6\n",
      "Buy Trades: 3\n",
      "Sell Trades: 3\n",
      "Average Trade Size: 0.17\n",
      "Total Commission: $118.48\n"
     ]
    }
   ],
   "source": [
    "# Cell 8: Hiển thị chi tiết trades\n",
    "if hasattr(engine, 'trades') and engine.trades:\n",
    "    print(f\"\\n=== CHI TIẾT TRADES ({len(engine.trades)} trades) ===\")\n",
    "    \n",
    "    trades_df = pd.DataFrame([\n",
    "        {\n",
    "            'Symbol': trade.symbol,\n",
    "            'Side': trade.side,\n",
    "            'Quantity': trade.quantity,\n",
    "            'Price': trade.price,\n",
    "            'Timestamp': trade.timestamp,\n",
    "            'Commission': trade.commission,\n",
    "            'Strategy': trade.strategy\n",
    "        }\n",
    "        for trade in engine.trades\n",
    "    ])\n",
    "    \n",
    "    print(trades_df.head(10))\n",
    "    \n",
    "    # Trade statistics\n",
    "    print(f\"\\n=== TRADE STATISTICS ===\")\n",
    "    print(f\"Total Trades: {len(engine.trades)}\")\n",
    "    print(f\"Buy Trades: {len(trades_df[trades_df['Side'] == 'buy'])}\")\n",
    "    print(f\"Sell Trades: {len(trades_df[trades_df['Side'] == 'sell'])}\")\n",
    "    print(f\"Average Trade Size: {trades_df['Quantity'].mean():.2f}\")\n",
    "    print(f\"Total Commission: ${trades_df['Commission'].sum():.2f}\")\n",
    "else:\n",
    "    print(\"Không có trades nào được thực hiện\")"
   ]
  },
  {
   "cell_type": "code",
   "execution_count": 59,
   "id": "a2acdbbc",
   "metadata": {},
   "outputs": [
    {
     "data": {
      "text/plain": [
       "0   2025-07-22 23:00:00\n",
       "2   2025-07-27 07:00:00\n",
       "4   2025-07-31 19:00:00\n",
       "Name: Timestamp, dtype: datetime64[ns]"
      ]
     },
     "execution_count": 59,
     "metadata": {},
     "output_type": "execute_result"
    }
   ],
   "source": [
    "buy_trades['Timestamp']"
   ]
  },
  {
   "cell_type": "code",
   "execution_count": null,
   "id": "bd57d384",
   "metadata": {},
   "outputs": [
    {
     "data": {
      "text/html": [
       "<div>\n",
       "<style scoped>\n",
       "    .dataframe tbody tr th:only-of-type {\n",
       "        vertical-align: middle;\n",
       "    }\n",
       "\n",
       "    .dataframe tbody tr th {\n",
       "        vertical-align: top;\n",
       "    }\n",
       "\n",
       "    .dataframe thead th {\n",
       "        text-align: right;\n",
       "    }\n",
       "</style>\n",
       "<table border=\"1\" class=\"dataframe\">\n",
       "  <thead>\n",
       "    <tr style=\"text-align: right;\">\n",
       "      <th></th>\n",
       "      <th>open</th>\n",
       "      <th>high</th>\n",
       "      <th>low</th>\n",
       "      <th>close</th>\n",
       "      <th>volume</th>\n",
       "    </tr>\n",
       "    <tr>\n",
       "      <th>time</th>\n",
       "      <th></th>\n",
       "      <th></th>\n",
       "      <th></th>\n",
       "      <th></th>\n",
       "      <th></th>\n",
       "    </tr>\n",
       "  </thead>\n",
       "  <tbody>\n",
       "    <tr>\n",
       "      <th>2025-07-22 23:00:00</th>\n",
       "      <td>118966.0</td>\n",
       "      <td>120247.0</td>\n",
       "      <td>118483.0</td>\n",
       "      <td>119344.0</td>\n",
       "      <td>249.865066</td>\n",
       "    </tr>\n",
       "    <tr>\n",
       "      <th>2025-07-27 07:00:00</th>\n",
       "      <td>117983.0</td>\n",
       "      <td>118397.0</td>\n",
       "      <td>117888.0</td>\n",
       "      <td>118243.0</td>\n",
       "      <td>82.557830</td>\n",
       "    </tr>\n",
       "    <tr>\n",
       "      <th>2025-07-31 19:00:00</th>\n",
       "      <td>118346.0</td>\n",
       "      <td>118654.0</td>\n",
       "      <td>117811.0</td>\n",
       "      <td>118290.0</td>\n",
       "      <td>307.464430</td>\n",
       "    </tr>\n",
       "  </tbody>\n",
       "</table>\n",
       "</div>"
      ],
      "text/plain": [
       "                         open      high       low     close      volume\n",
       "time                                                                   \n",
       "2025-07-22 23:00:00  118966.0  120247.0  118483.0  119344.0  249.865066\n",
       "2025-07-27 07:00:00  117983.0  118397.0  117888.0  118243.0   82.557830\n",
       "2025-07-31 19:00:00  118346.0  118654.0  117811.0  118290.0  307.464430"
      ]
     },
     "execution_count": 66,
     "metadata": {},
     "output_type": "execute_result"
    }
   ],
   "source": [
    "historical_data[symbol][historical_data.index.isin(buy_trades['Timestamp'])].low"
   ]
  },
  {
   "cell_type": "code",
   "execution_count": 87,
   "id": "b0a8b853",
   "metadata": {},
   "outputs": [
    {
     "data": {
      "application/vnd.plotly.v1+json": {
       "config": {
        "plotlyServerURL": "https://plot.ly"
       },
       "data": [
        {
         "close": {
          "bdata": "AAAAAJDA/EAAAAAA8K/8QAAAAABw2/xAAAAAALAA/UAAAAAA8BX9QAAAAAAgIP1AAAAAAOD7/EAAAAAAENr8QAAAAADA5vxAAAAAAMDR/EAAAAAAAAn9QAAAAADwDf1AAAAAALAe/UAAAAAAoF/9QAAAAACAKf1AAAAAAIAd/UAAAAAAUMv8QAAAAABQrPxAAAAAAGDQ/EAAAAAAwOj8QAAAAABA3/xAAAAAAJDn/EAAAAAAUNb8QAAAAACg0/xAAAAAAMDJ/EAAAAAAwNH8QAAAAACQ1PxAAAAAACDL/EAAAAAAcPz8QAAAAACA3vxAAAAAALCl/EAAAAAAUOv8QAAAAADAJf1AAAAAACDW/EAAAAAAEOf8QAAAAAAghPxAAAAAANCr/EAAAAAAIKD8QAAAAAAw0fxAAAAAAKAb/UAAAAAAMAv9QAAAAAAAI/1AAAAAALBM/UAAAAAAMPn8QAAAAADg6PxAAAAAAAD0/EAAAAAAgPf8QAAAAADw6PxAAAAAANAB/UAAAAAAYPL8QAAAAAAA7fxAAAAAAHD4/EAAAAAAEBf9QAAAAABAD/1AAAAAALDk/EAAAAAAgCz8QAAAAAAQKPxAAAAAACBy/EAAAAAAEEL8QAAAAAAQg/xAAAAAAFC5/EAAAAAA8LH8QAAAAACAp/xAAAAAAGDF/EAAAAAAcNn8QAAAAABA4PxAAAAAAKDM/EAAAAAAMN78QAAAAABA2fxAAAAAAIDX/EAAAAAAIPb8QAAAAAAADv1AAAAAANAq/UAAAAAAQCD9QAAAAABgB/1AAAAAAEAD/UAAAAAAcNn8QAAAAAAQ0/xAAAAAADDS/EAAAAAA8Pz8QAAAAAAgB/1AAAAAAFDz/EAAAAAAUKn8QAAAAACQrvxAAAAAAGDK/EAAAAAAANj8QAAAAAAQ1vxAAAAAAFCz/EAAAAAAAM78QAAAAABAjPxAAAAAAKDE/EAAAAAAcOr8QAAAAAAg+fxAAAAAALDk/EAAAAAAIOH8QAAAAADwgfxAAAAAAGBC/EAAAAAAsDv8QAAAAABwF/xAAAAAAGD7+0A=",
          "dtype": "f8"
         },
         "high": {
          "bdata": "AAAAACDO/EAAAAAAINz8QAAAAAAg4/xAAAAAAOAg/UAAAAAAoEL9QAAAAABAS/1AAAAAAGBR/UAAAAAAoBr9QAAAAABgAv1AAAAAAMAc/UAAAAAAQBX9QAAAAAAgSP1AAAAAAICK/UAAAAAAIIH9QAAAAABAhP1AAAAAAIAw/UAAAAAA8DD9QAAAAACQ1vxAAAAAAGDU/EAAAAAAYOv8QAAAAACA6vxAAAAAAJDx/EAAAAAAwOf8QAAAAABQ3PxAAAAAAJDa/EAAAAAAMNz8QAAAAAAA3/xAAAAAAHDj/EAAAAAAkAL9QAAAAAAAB/1AAAAAAMDi/EAAAAAAsPj8QAAAAAAgOP1AAAAAANAu/UAAAAAAIB/9QAAAAACg6vxAAAAAAJC7/EAAAAAAUM38QAAAAAAQ9vxAAAAAAFAd/UAAAAAAoDT9QAAAAABwW/1AAAAAAJBe/UAAAAAAUFb9QAAAAADwD/1AAAAAAKD5/EAAAAAAEP78QAAAAABw9/xAAAAAAPAB/UAAAAAA4CD9QAAAAACA9/xAAAAAADAF/UAAAAAAUC79QAAAAADgKf1AAAAAAEAS/UAAAAAA0O78QAAAAAAgW/xAAAAAAACE/EAAAAAAQHr8QAAAAADglPxAAAAAAHC5/EAAAAAA4MD8QAAAAAAQtvxAAAAAAMDd/EAAAAAA4N/8QAAAAABA5PxAAAAAAIDi/EAAAAAA0Of8QAAAAADw7PxAAAAAAHDj/EAAAAAAwPb8QAAAAACwMf1AAAAAAGA//UAAAAAAIEH9QAAAAAAgOf1AAAAAABAV/UAAAAAAgBP9QAAAAACg5vxAAAAAAHDj/EAAAAAA4P/8QAAAAAAwHv1AAAAAAAAR/UAAAAAA0BD9QAAAAACg0PxAAAAAAGDM/EAAAAAAEN78QAAAAADw5vxAAAAAAGDr/EAAAAAAcP/8QAAAAAAg0fxAAAAAAMDI/EAAAAAAYPP8QAAAAACAB/1AAAAAAOD9/EAAAAAA4Pf8QAAAAAAwBf1AAAAAAHCO/EAAAAAAYFX8QAAAAACgSvxAAAAAAPAW/EA=",
          "dtype": "f8"
         },
         "low": {
          "bdata": "AAAAANBg/EAAAAAAcJP8QAAAAAAAovxAAAAAAPDX/EAAAAAAUNz8QAAAAABA8PxAAAAAADDt/EAAAAAAIL/8QAAAAACAyfxAAAAAANDQ/EAAAAAAILD8QAAAAACA6vxAAAAAABDu/EAAAAAAQBb9QAAAAACQJv1AAAAAALDs/EAAAAAAEKn8QAAAAACgnvxAAAAAADCL/EAAAAAA4Lz8QAAAAADQ2PxAAAAAALDR/EAAAAAAcL38QAAAAADwuPxAAAAAAICm/EAAAAAAYL78QAAAAABQxfxAAAAAAPDH/EAAAAAAwMH8QAAAAADQ0PxAAAAAAHB0/EAAAAAAIHf8QAAAAAAQ3fxAAAAAACDW/EAAAAAAcMT8QAAAAADwfvxAAAAAAGB+/EAAAAAAoF38QAAAAACgePxAAAAAAMCy/EAAAAAAoLf8QAAAAAAw7fxAAAAAAEAd/UAAAAAAIPX8QAAAAACA5fxAAAAAAMDI/EAAAAAAAKj8QAAAAACQqfxAAAAAAKCs/EAAAAAAsPH8QAAAAAAQnfxAAAAAALDR/EAAAAAAwMn8QAAAAACA6vxAAAAAABDe/EAAAAAAkCr8QAAAAABg9ftAAAAAAFAR/EAAAAAAoA78QAAAAABwMfxAAAAAAKB4/EAAAAAAwJz8QAAAAABwp/xAAAAAAPCn/EAAAAAAcMT8QAAAAAAQz/xAAAAAAIDL/EAAAAAAAMj8QAAAAADg1/xAAAAAAMDJ/EAAAAAAYMz8QAAAAAAg9vxAAAAAAPD//EAAAAAAIA79QAAAAADw//xAAAAAACDu/EAAAAAAwMj8QAAAAACAqfxAAAAAAPCv/EAAAAAAgK38QAAAAACg6fxAAAAAAKDa/EAAAAAAYJ/8QAAAAAAAjPxAAAAAALCT/EAAAAAA0Kr8QAAAAACQu/xAAAAAADCo/EAAAAAAUKf8QAAAAACARPxAAAAAAMCI/EAAAAAAEMH8QAAAAADA4PxAAAAAAODg/EAAAAAAMMP8QAAAAAAwgPxAAAAAAIAz/EAAAAAAIOn7QAAAAADQ+/tAAAAAAEDc+0A=",
          "dtype": "f8"
         },
         "open": {
          "bdata": "AAAAANBr/EAAAAAAoMD8QAAAAAAAsPxAAAAAAHDb/EAAAAAA4AD9QAAAAADwFf1AAAAAAPAf/UAAAAAAQPr8QAAAAAAQ2vxAAAAAAMDm/EAAAAAAwNH8QAAAAADwCP1AAAAAAAAQ/UAAAAAAsB79QAAAAACgX/1AAAAAAHAp/UAAAAAAcB39QAAAAADQyfxAAAAAAHCs/EAAAAAAcND8QAAAAADA6PxAAAAAADDf/EAAAAAAkOf8QAAAAABQ1vxAAAAAAJDT/EAAAAAA0Mn8QAAAAADA0fxAAAAAAJDU/EAAAAAA8Mr8QAAAAACg/fxAAAAAAKDc/EAAAAAAQJ78QAAAAAAg6/xAAAAAAMAl/UAAAAAAMNb8QAAAAAAQ5/xAAAAAADCE/EAAAAAA0Kv8QAAAAAAgoPxAAAAAAODP/EAAAAAAkBv9QAAAAABgC/1AAAAAAJAj/UAAAAAAsEz9QAAAAABA+fxAAAAAAODn/EAAAAAAAPT8QAAAAABw9/xAAAAAAKDr/EAAAAAAsAD9QAAAAADg8/xAAAAAAGDs/EAAAAAAoPb8QAAAAAAQF/1AAAAAABAP/UAAAAAAAOj8QAAAAACALPxAAAAAAPAn/EAAAAAAQHL8QAAAAAAAQvxAAAAAABCD/EAAAAAAQLn8QAAAAADgsfxAAAAAAPCn/EAAAAAAYMX8QAAAAABw2fxAAAAAAEDg/EAAAAAA8M38QAAAAACQ3vxAAAAAAEDZ/EAAAAAAcNf8QAAAAAAg9vxAAAAAACAN/UAAAAAAoC39QAAAAACQIP1AAAAAAFAH/UAAAAAAQAP9QAAAAAAw2fxAAAAAABDT/EAAAAAAQNP8QAAAAACA/fxAAAAAAMAG/UAAAAAAYPP8QAAAAABAqfxAAAAAAOCu/EAAAAAAYMr8QAAAAAAg2fxAAAAAABDW/EAAAAAAgLP8QAAAAAAAzvxAAAAAAHCJ/EAAAAAAkMT8QAAAAABw6/xAAAAAADD5/EAAAAAAoOT8QAAAAAAg4fxAAAAAAICB/EAAAAAAUEL8QAAAAABgO/xAAAAAAPAW/EA=",
          "dtype": "f8"
         },
         "type": "candlestick",
         "x": [
          "2025-07-16T03:00:00",
          "2025-07-16T07:00:00",
          "2025-07-16T11:00:00",
          "2025-07-16T15:00:00",
          "2025-07-16T19:00:00",
          "2025-07-16T23:00:00",
          "2025-07-17T03:00:00",
          "2025-07-17T07:00:00",
          "2025-07-17T11:00:00",
          "2025-07-17T15:00:00",
          "2025-07-17T19:00:00",
          "2025-07-17T23:00:00",
          "2025-07-18T03:00:00",
          "2025-07-18T07:00:00",
          "2025-07-18T11:00:00",
          "2025-07-18T15:00:00",
          "2025-07-18T19:00:00",
          "2025-07-18T23:00:00",
          "2025-07-19T03:00:00",
          "2025-07-19T07:00:00",
          "2025-07-19T11:00:00",
          "2025-07-19T15:00:00",
          "2025-07-19T19:00:00",
          "2025-07-19T23:00:00",
          "2025-07-20T03:00:00",
          "2025-07-20T07:00:00",
          "2025-07-20T11:00:00",
          "2025-07-20T15:00:00",
          "2025-07-20T19:00:00",
          "2025-07-20T23:00:00",
          "2025-07-21T03:00:00",
          "2025-07-21T07:00:00",
          "2025-07-21T11:00:00",
          "2025-07-21T15:00:00",
          "2025-07-21T19:00:00",
          "2025-07-21T23:00:00",
          "2025-07-22T03:00:00",
          "2025-07-22T07:00:00",
          "2025-07-22T11:00:00",
          "2025-07-22T15:00:00",
          "2025-07-22T19:00:00",
          "2025-07-22T23:00:00",
          "2025-07-23T03:00:00",
          "2025-07-23T07:00:00",
          "2025-07-23T11:00:00",
          "2025-07-23T15:00:00",
          "2025-07-23T19:00:00",
          "2025-07-23T23:00:00",
          "2025-07-24T03:00:00",
          "2025-07-24T07:00:00",
          "2025-07-24T11:00:00",
          "2025-07-24T15:00:00",
          "2025-07-24T19:00:00",
          "2025-07-24T23:00:00",
          "2025-07-25T03:00:00",
          "2025-07-25T07:00:00",
          "2025-07-25T11:00:00",
          "2025-07-25T15:00:00",
          "2025-07-25T19:00:00",
          "2025-07-25T23:00:00",
          "2025-07-26T03:00:00",
          "2025-07-26T07:00:00",
          "2025-07-26T11:00:00",
          "2025-07-26T15:00:00",
          "2025-07-26T19:00:00",
          "2025-07-26T23:00:00",
          "2025-07-27T03:00:00",
          "2025-07-27T07:00:00",
          "2025-07-27T11:00:00",
          "2025-07-27T15:00:00",
          "2025-07-27T19:00:00",
          "2025-07-27T23:00:00",
          "2025-07-28T03:00:00",
          "2025-07-28T07:00:00",
          "2025-07-28T11:00:00",
          "2025-07-28T15:00:00",
          "2025-07-28T19:00:00",
          "2025-07-28T23:00:00",
          "2025-07-29T03:00:00",
          "2025-07-29T07:00:00",
          "2025-07-29T11:00:00",
          "2025-07-29T15:00:00",
          "2025-07-29T19:00:00",
          "2025-07-29T23:00:00",
          "2025-07-30T03:00:00",
          "2025-07-30T07:00:00",
          "2025-07-30T11:00:00",
          "2025-07-30T15:00:00",
          "2025-07-30T19:00:00",
          "2025-07-30T23:00:00",
          "2025-07-31T03:00:00",
          "2025-07-31T07:00:00",
          "2025-07-31T11:00:00",
          "2025-07-31T15:00:00",
          "2025-07-31T19:00:00",
          "2025-07-31T23:00:00",
          "2025-08-01T03:00:00",
          "2025-08-01T07:00:00",
          "2025-08-01T11:00:00",
          "2025-08-01T15:00:00"
         ],
         "xaxis": "x",
         "yaxis": "y"
        },
        {
         "marker": {
          "color": "green",
          "size": 12,
          "symbol": "triangle-up"
         },
         "mode": "markers+text",
         "name": "Buy",
         "text": [
          "Buy",
          "Buy",
          "Buy"
         ],
         "textposition": "bottom center",
         "type": "scatter",
         "x": [
          "2025-07-22T23:00:00",
          "2025-07-27T07:00:00",
          "2025-07-31T19:00:00"
         ],
         "xaxis": "x",
         "y": {
          "bdata": "gZVDi2De/EAlBoGVQ7n8QF66SQx2tPxA",
          "dtype": "f8"
         },
         "yaxis": "y"
        },
        {
         "marker": {
          "color": "red",
          "size": 12,
          "symbol": "triangle-down"
         },
         "mode": "markers+text",
         "name": "Sell",
         "text": [
          "Sell",
          "Sell",
          "Sell"
         ],
         "textposition": "top center",
         "type": "scatter",
         "x": [
          "2025-07-25T07:00:00",
          "2025-07-30T07:00:00",
          "2025-07-31T23:00:00"
         ],
         "xaxis": "x",
         "y": {
          "bdata": "NV66SaD9/EDLoUW21+z8QLTIdr4LFP1A",
          "dtype": "f8"
         },
         "yaxis": "y"
        },
        {
         "type": "bar",
         "x": [
          "2025-07-16T03:00:00",
          "2025-07-16T07:00:00",
          "2025-07-16T11:00:00",
          "2025-07-16T15:00:00",
          "2025-07-16T19:00:00",
          "2025-07-16T23:00:00",
          "2025-07-17T03:00:00",
          "2025-07-17T07:00:00",
          "2025-07-17T11:00:00",
          "2025-07-17T15:00:00",
          "2025-07-17T19:00:00",
          "2025-07-17T23:00:00",
          "2025-07-18T03:00:00",
          "2025-07-18T07:00:00",
          "2025-07-18T11:00:00",
          "2025-07-18T15:00:00",
          "2025-07-18T19:00:00",
          "2025-07-18T23:00:00",
          "2025-07-19T03:00:00",
          "2025-07-19T07:00:00",
          "2025-07-19T11:00:00",
          "2025-07-19T15:00:00",
          "2025-07-19T19:00:00",
          "2025-07-19T23:00:00",
          "2025-07-20T03:00:00",
          "2025-07-20T07:00:00",
          "2025-07-20T11:00:00",
          "2025-07-20T15:00:00",
          "2025-07-20T19:00:00",
          "2025-07-20T23:00:00",
          "2025-07-21T03:00:00",
          "2025-07-21T07:00:00",
          "2025-07-21T11:00:00",
          "2025-07-21T15:00:00",
          "2025-07-21T19:00:00",
          "2025-07-21T23:00:00",
          "2025-07-22T03:00:00",
          "2025-07-22T07:00:00",
          "2025-07-22T11:00:00",
          "2025-07-22T15:00:00",
          "2025-07-22T19:00:00",
          "2025-07-22T23:00:00",
          "2025-07-23T03:00:00",
          "2025-07-23T07:00:00",
          "2025-07-23T11:00:00",
          "2025-07-23T15:00:00",
          "2025-07-23T19:00:00",
          "2025-07-23T23:00:00",
          "2025-07-24T03:00:00",
          "2025-07-24T07:00:00",
          "2025-07-24T11:00:00",
          "2025-07-24T15:00:00",
          "2025-07-24T19:00:00",
          "2025-07-24T23:00:00",
          "2025-07-25T03:00:00",
          "2025-07-25T07:00:00",
          "2025-07-25T11:00:00",
          "2025-07-25T15:00:00",
          "2025-07-25T19:00:00",
          "2025-07-25T23:00:00",
          "2025-07-26T03:00:00",
          "2025-07-26T07:00:00",
          "2025-07-26T11:00:00",
          "2025-07-26T15:00:00",
          "2025-07-26T19:00:00",
          "2025-07-26T23:00:00",
          "2025-07-27T03:00:00",
          "2025-07-27T07:00:00",
          "2025-07-27T11:00:00",
          "2025-07-27T15:00:00",
          "2025-07-27T19:00:00",
          "2025-07-27T23:00:00",
          "2025-07-28T03:00:00",
          "2025-07-28T07:00:00",
          "2025-07-28T11:00:00",
          "2025-07-28T15:00:00",
          "2025-07-28T19:00:00",
          "2025-07-28T23:00:00",
          "2025-07-29T03:00:00",
          "2025-07-29T07:00:00",
          "2025-07-29T11:00:00",
          "2025-07-29T15:00:00",
          "2025-07-29T19:00:00",
          "2025-07-29T23:00:00",
          "2025-07-30T03:00:00",
          "2025-07-30T07:00:00",
          "2025-07-30T11:00:00",
          "2025-07-30T15:00:00",
          "2025-07-30T19:00:00",
          "2025-07-30T23:00:00",
          "2025-07-31T03:00:00",
          "2025-07-31T07:00:00",
          "2025-07-31T11:00:00",
          "2025-07-31T15:00:00",
          "2025-07-31T19:00:00",
          "2025-07-31T23:00:00",
          "2025-08-01T03:00:00",
          "2025-08-01T07:00:00",
          "2025-08-01T11:00:00",
          "2025-08-01T15:00:00"
         ],
         "xaxis": "x2",
         "y": {
          "bdata": "LGjWKSG4aUA6rLLnWcBYQNMi7CUXcFlAKtXTgQsoY0Ds7Le4Dr2BQGK6lOMjBHJAQj2eEkeYbUDWBReGg15lQJQ/jM4BOV9AI0kQrgBGaUBmjrzeE1l1QKsHDmA4sHxAFmv65F/DdECcNoAKKbRrQOD0DdCmX2ZATYrqCPtqbUDCXvYlesaAQH6eDn0KHHxA0xa26kNRaUAubf6AgxZUQH4PZiz95EhAg/zoq5akUEABNnv7DmdXQBwd/GlIUV5AhzZ84ivqVUDW3SM4wSlXQFo7m5+sj0dA741jHAo5U0DvNhTjIYJaQKQq2AyRi1ZAdx4Nji9KaUCtEJh/uydlQEIXgW8iI2JAqY0kIKr+YkCdeJRr1kt3QN2BU4ISV3dADUSBBGaBXkD9nwWZ681vQOpjV72QAGtA+mLvxTcrZkBhulo4WklvQGF39J6uO29AVWc5+SLEYkAWcEu7gyNZQARU3chhgFNANA3tEH2HVkDVFugkRRBwQOFnluP55HJAUsEbsToHY0BwKYRhghpgQCArMhkyW2VAhSmpl0hBW0C0+13xF3ZvQKBHtR1t1mtADxZnb52KaEAvjfxN8jeVQAQRFAWbnZhAmxmirzlMlUBfjR6FJIWEQGWngv6QSH1A/VNHGh4KbkBfffrXC05kQL3opw+PIEpAjWDC7M7wYEAFdeNAfNJdQBps6jwqfUxAhfYkj6v8VkBLp1x+s6NUQNY8BcjpxEVAFj98T5vXUUA4L2+K3rNYQEI+KvY+KmZA6GV39ah+WkAr8UYHANJiQLKHk4cHzV5AOtyatjewUEDnnyrwLxB1QLjYH+6LR21AXtaj9LXSYkD3cI/GvWlgQHPMJn4U3lJA4HPUj1WKVkAh110L8CpxQNoyx48kynRARxFj46uMb0BuAZmE6AxbQA+no07GGlRAlH+x5wAHX0DHTKJeAApwQOHZ9T2wgXhAomIYh6WDVECEKW/snvFgQICp0XEWCVRAlyoHafwWUkCo/qRObjdzQNf/tZPzN25A1Ps6LhIuZ0BabRf9Ffd1QEW/dGKo5GJAG3Wd2/66UUA=",
          "dtype": "f8"
         },
         "yaxis": "y2"
        }
       ],
       "layout": {
        "height": 800,
        "template": {
         "data": {
          "bar": [
           {
            "error_x": {
             "color": "#2a3f5f"
            },
            "error_y": {
             "color": "#2a3f5f"
            },
            "marker": {
             "line": {
              "color": "#E5ECF6",
              "width": 0.5
             },
             "pattern": {
              "fillmode": "overlay",
              "size": 10,
              "solidity": 0.2
             }
            },
            "type": "bar"
           }
          ],
          "barpolar": [
           {
            "marker": {
             "line": {
              "color": "#E5ECF6",
              "width": 0.5
             },
             "pattern": {
              "fillmode": "overlay",
              "size": 10,
              "solidity": 0.2
             }
            },
            "type": "barpolar"
           }
          ],
          "carpet": [
           {
            "aaxis": {
             "endlinecolor": "#2a3f5f",
             "gridcolor": "white",
             "linecolor": "white",
             "minorgridcolor": "white",
             "startlinecolor": "#2a3f5f"
            },
            "baxis": {
             "endlinecolor": "#2a3f5f",
             "gridcolor": "white",
             "linecolor": "white",
             "minorgridcolor": "white",
             "startlinecolor": "#2a3f5f"
            },
            "type": "carpet"
           }
          ],
          "choropleth": [
           {
            "colorbar": {
             "outlinewidth": 0,
             "ticks": ""
            },
            "type": "choropleth"
           }
          ],
          "contour": [
           {
            "colorbar": {
             "outlinewidth": 0,
             "ticks": ""
            },
            "colorscale": [
             [
              0,
              "#0d0887"
             ],
             [
              0.1111111111111111,
              "#46039f"
             ],
             [
              0.2222222222222222,
              "#7201a8"
             ],
             [
              0.3333333333333333,
              "#9c179e"
             ],
             [
              0.4444444444444444,
              "#bd3786"
             ],
             [
              0.5555555555555556,
              "#d8576b"
             ],
             [
              0.6666666666666666,
              "#ed7953"
             ],
             [
              0.7777777777777778,
              "#fb9f3a"
             ],
             [
              0.8888888888888888,
              "#fdca26"
             ],
             [
              1,
              "#f0f921"
             ]
            ],
            "type": "contour"
           }
          ],
          "contourcarpet": [
           {
            "colorbar": {
             "outlinewidth": 0,
             "ticks": ""
            },
            "type": "contourcarpet"
           }
          ],
          "heatmap": [
           {
            "colorbar": {
             "outlinewidth": 0,
             "ticks": ""
            },
            "colorscale": [
             [
              0,
              "#0d0887"
             ],
             [
              0.1111111111111111,
              "#46039f"
             ],
             [
              0.2222222222222222,
              "#7201a8"
             ],
             [
              0.3333333333333333,
              "#9c179e"
             ],
             [
              0.4444444444444444,
              "#bd3786"
             ],
             [
              0.5555555555555556,
              "#d8576b"
             ],
             [
              0.6666666666666666,
              "#ed7953"
             ],
             [
              0.7777777777777778,
              "#fb9f3a"
             ],
             [
              0.8888888888888888,
              "#fdca26"
             ],
             [
              1,
              "#f0f921"
             ]
            ],
            "type": "heatmap"
           }
          ],
          "histogram": [
           {
            "marker": {
             "pattern": {
              "fillmode": "overlay",
              "size": 10,
              "solidity": 0.2
             }
            },
            "type": "histogram"
           }
          ],
          "histogram2d": [
           {
            "colorbar": {
             "outlinewidth": 0,
             "ticks": ""
            },
            "colorscale": [
             [
              0,
              "#0d0887"
             ],
             [
              0.1111111111111111,
              "#46039f"
             ],
             [
              0.2222222222222222,
              "#7201a8"
             ],
             [
              0.3333333333333333,
              "#9c179e"
             ],
             [
              0.4444444444444444,
              "#bd3786"
             ],
             [
              0.5555555555555556,
              "#d8576b"
             ],
             [
              0.6666666666666666,
              "#ed7953"
             ],
             [
              0.7777777777777778,
              "#fb9f3a"
             ],
             [
              0.8888888888888888,
              "#fdca26"
             ],
             [
              1,
              "#f0f921"
             ]
            ],
            "type": "histogram2d"
           }
          ],
          "histogram2dcontour": [
           {
            "colorbar": {
             "outlinewidth": 0,
             "ticks": ""
            },
            "colorscale": [
             [
              0,
              "#0d0887"
             ],
             [
              0.1111111111111111,
              "#46039f"
             ],
             [
              0.2222222222222222,
              "#7201a8"
             ],
             [
              0.3333333333333333,
              "#9c179e"
             ],
             [
              0.4444444444444444,
              "#bd3786"
             ],
             [
              0.5555555555555556,
              "#d8576b"
             ],
             [
              0.6666666666666666,
              "#ed7953"
             ],
             [
              0.7777777777777778,
              "#fb9f3a"
             ],
             [
              0.8888888888888888,
              "#fdca26"
             ],
             [
              1,
              "#f0f921"
             ]
            ],
            "type": "histogram2dcontour"
           }
          ],
          "mesh3d": [
           {
            "colorbar": {
             "outlinewidth": 0,
             "ticks": ""
            },
            "type": "mesh3d"
           }
          ],
          "parcoords": [
           {
            "line": {
             "colorbar": {
              "outlinewidth": 0,
              "ticks": ""
             }
            },
            "type": "parcoords"
           }
          ],
          "pie": [
           {
            "automargin": true,
            "type": "pie"
           }
          ],
          "scatter": [
           {
            "fillpattern": {
             "fillmode": "overlay",
             "size": 10,
             "solidity": 0.2
            },
            "type": "scatter"
           }
          ],
          "scatter3d": [
           {
            "line": {
             "colorbar": {
              "outlinewidth": 0,
              "ticks": ""
             }
            },
            "marker": {
             "colorbar": {
              "outlinewidth": 0,
              "ticks": ""
             }
            },
            "type": "scatter3d"
           }
          ],
          "scattercarpet": [
           {
            "marker": {
             "colorbar": {
              "outlinewidth": 0,
              "ticks": ""
             }
            },
            "type": "scattercarpet"
           }
          ],
          "scattergeo": [
           {
            "marker": {
             "colorbar": {
              "outlinewidth": 0,
              "ticks": ""
             }
            },
            "type": "scattergeo"
           }
          ],
          "scattergl": [
           {
            "marker": {
             "colorbar": {
              "outlinewidth": 0,
              "ticks": ""
             }
            },
            "type": "scattergl"
           }
          ],
          "scattermap": [
           {
            "marker": {
             "colorbar": {
              "outlinewidth": 0,
              "ticks": ""
             }
            },
            "type": "scattermap"
           }
          ],
          "scattermapbox": [
           {
            "marker": {
             "colorbar": {
              "outlinewidth": 0,
              "ticks": ""
             }
            },
            "type": "scattermapbox"
           }
          ],
          "scatterpolar": [
           {
            "marker": {
             "colorbar": {
              "outlinewidth": 0,
              "ticks": ""
             }
            },
            "type": "scatterpolar"
           }
          ],
          "scatterpolargl": [
           {
            "marker": {
             "colorbar": {
              "outlinewidth": 0,
              "ticks": ""
             }
            },
            "type": "scatterpolargl"
           }
          ],
          "scatterternary": [
           {
            "marker": {
             "colorbar": {
              "outlinewidth": 0,
              "ticks": ""
             }
            },
            "type": "scatterternary"
           }
          ],
          "surface": [
           {
            "colorbar": {
             "outlinewidth": 0,
             "ticks": ""
            },
            "colorscale": [
             [
              0,
              "#0d0887"
             ],
             [
              0.1111111111111111,
              "#46039f"
             ],
             [
              0.2222222222222222,
              "#7201a8"
             ],
             [
              0.3333333333333333,
              "#9c179e"
             ],
             [
              0.4444444444444444,
              "#bd3786"
             ],
             [
              0.5555555555555556,
              "#d8576b"
             ],
             [
              0.6666666666666666,
              "#ed7953"
             ],
             [
              0.7777777777777778,
              "#fb9f3a"
             ],
             [
              0.8888888888888888,
              "#fdca26"
             ],
             [
              1,
              "#f0f921"
             ]
            ],
            "type": "surface"
           }
          ],
          "table": [
           {
            "cells": {
             "fill": {
              "color": "#EBF0F8"
             },
             "line": {
              "color": "white"
             }
            },
            "header": {
             "fill": {
              "color": "#C8D4E3"
             },
             "line": {
              "color": "white"
             }
            },
            "type": "table"
           }
          ]
         },
         "layout": {
          "annotationdefaults": {
           "arrowcolor": "#2a3f5f",
           "arrowhead": 0,
           "arrowwidth": 1
          },
          "autotypenumbers": "strict",
          "coloraxis": {
           "colorbar": {
            "outlinewidth": 0,
            "ticks": ""
           }
          },
          "colorscale": {
           "diverging": [
            [
             0,
             "#8e0152"
            ],
            [
             0.1,
             "#c51b7d"
            ],
            [
             0.2,
             "#de77ae"
            ],
            [
             0.3,
             "#f1b6da"
            ],
            [
             0.4,
             "#fde0ef"
            ],
            [
             0.5,
             "#f7f7f7"
            ],
            [
             0.6,
             "#e6f5d0"
            ],
            [
             0.7,
             "#b8e186"
            ],
            [
             0.8,
             "#7fbc41"
            ],
            [
             0.9,
             "#4d9221"
            ],
            [
             1,
             "#276419"
            ]
           ],
           "sequential": [
            [
             0,
             "#0d0887"
            ],
            [
             0.1111111111111111,
             "#46039f"
            ],
            [
             0.2222222222222222,
             "#7201a8"
            ],
            [
             0.3333333333333333,
             "#9c179e"
            ],
            [
             0.4444444444444444,
             "#bd3786"
            ],
            [
             0.5555555555555556,
             "#d8576b"
            ],
            [
             0.6666666666666666,
             "#ed7953"
            ],
            [
             0.7777777777777778,
             "#fb9f3a"
            ],
            [
             0.8888888888888888,
             "#fdca26"
            ],
            [
             1,
             "#f0f921"
            ]
           ],
           "sequentialminus": [
            [
             0,
             "#0d0887"
            ],
            [
             0.1111111111111111,
             "#46039f"
            ],
            [
             0.2222222222222222,
             "#7201a8"
            ],
            [
             0.3333333333333333,
             "#9c179e"
            ],
            [
             0.4444444444444444,
             "#bd3786"
            ],
            [
             0.5555555555555556,
             "#d8576b"
            ],
            [
             0.6666666666666666,
             "#ed7953"
            ],
            [
             0.7777777777777778,
             "#fb9f3a"
            ],
            [
             0.8888888888888888,
             "#fdca26"
            ],
            [
             1,
             "#f0f921"
            ]
           ]
          },
          "colorway": [
           "#636efa",
           "#EF553B",
           "#00cc96",
           "#ab63fa",
           "#FFA15A",
           "#19d3f3",
           "#FF6692",
           "#B6E880",
           "#FF97FF",
           "#FECB52"
          ],
          "font": {
           "color": "#2a3f5f"
          },
          "geo": {
           "bgcolor": "white",
           "lakecolor": "white",
           "landcolor": "#E5ECF6",
           "showlakes": true,
           "showland": true,
           "subunitcolor": "white"
          },
          "hoverlabel": {
           "align": "left"
          },
          "hovermode": "closest",
          "mapbox": {
           "style": "light"
          },
          "paper_bgcolor": "white",
          "plot_bgcolor": "#E5ECF6",
          "polar": {
           "angularaxis": {
            "gridcolor": "white",
            "linecolor": "white",
            "ticks": ""
           },
           "bgcolor": "#E5ECF6",
           "radialaxis": {
            "gridcolor": "white",
            "linecolor": "white",
            "ticks": ""
           }
          },
          "scene": {
           "xaxis": {
            "backgroundcolor": "#E5ECF6",
            "gridcolor": "white",
            "gridwidth": 2,
            "linecolor": "white",
            "showbackground": true,
            "ticks": "",
            "zerolinecolor": "white"
           },
           "yaxis": {
            "backgroundcolor": "#E5ECF6",
            "gridcolor": "white",
            "gridwidth": 2,
            "linecolor": "white",
            "showbackground": true,
            "ticks": "",
            "zerolinecolor": "white"
           },
           "zaxis": {
            "backgroundcolor": "#E5ECF6",
            "gridcolor": "white",
            "gridwidth": 2,
            "linecolor": "white",
            "showbackground": true,
            "ticks": "",
            "zerolinecolor": "white"
           }
          },
          "shapedefaults": {
           "line": {
            "color": "#2a3f5f"
           }
          },
          "ternary": {
           "aaxis": {
            "gridcolor": "white",
            "linecolor": "white",
            "ticks": ""
           },
           "baxis": {
            "gridcolor": "white",
            "linecolor": "white",
            "ticks": ""
           },
           "bgcolor": "#E5ECF6",
           "caxis": {
            "gridcolor": "white",
            "linecolor": "white",
            "ticks": ""
           }
          },
          "title": {
           "x": 0.05
          },
          "xaxis": {
           "automargin": true,
           "gridcolor": "white",
           "linecolor": "white",
           "ticks": "",
           "title": {
            "standoff": 15
           },
           "zerolinecolor": "white",
           "zerolinewidth": 2
          },
          "yaxis": {
           "automargin": true,
           "gridcolor": "white",
           "linecolor": "white",
           "ticks": "",
           "title": {
            "standoff": 15
           },
           "zerolinecolor": "white",
           "zerolinewidth": 2
          }
         }
        },
        "title": {
         "text": "Bitstamp:BTCUSD"
        },
        "width": 1000,
        "xaxis": {
         "anchor": "y",
         "domain": [
          0,
          1
         ],
         "matches": "x2",
         "showticklabels": false,
         "title": {
          "text": "Date"
         }
        },
        "xaxis2": {
         "anchor": "y2",
         "domain": [
          0,
          1
         ]
        },
        "yaxis": {
         "anchor": "x",
         "domain": [
          0.24,
          1
         ],
         "range": [
          111833.68,
          123420
         ],
         "title": {
          "text": "Price"
         }
        },
        "yaxis2": {
         "anchor": "x2",
         "domain": [
          0,
          0.19
         ]
        }
       }
      }
     },
     "metadata": {},
     "output_type": "display_data"
    }
   ],
   "source": [
    "def viz(symbol, trades_df, historical_data):\n",
    "    # Visualize\n",
    "    fig = make_subplots(rows=2, cols=1, shared_xaxes=True, vertical_spacing=0.05, row_heights=[0.8, 0.2])\n",
    "    fig.add_trace(go.Candlestick(x=historical_data[symbol].index,\n",
    "                    open=historical_data[symbol].open,\n",
    "                    high=historical_data[symbol].high,\n",
    "                    low=historical_data[symbol].low,\n",
    "                    close=historical_data[symbol].close,\n",
    "                    ), row=1, col=1)\n",
    "    set_ylim = (historical_data[symbol].low.min() * 0.98, historical_data[symbol].high.max() * 1.02)\n",
    "    # Add buy/sell markers from trades_df to the candlestick chart (row 1)\n",
    "    if 'trades_df' in locals():\n",
    "        buy_trades = trades_df[trades_df['Side'] == 'buy']\n",
    "        sell_trades = trades_df[trades_df['Side'] == 'sell']\n",
    "        # Buy markers\n",
    "        fig.add_trace(\n",
    "            go.Scatter(\n",
    "                x=buy_trades['Timestamp'],\n",
    "                y=historical_data[symbol][historical_data.index.isin(buy_trades['Timestamp'])].low * 0.998,\n",
    "                mode='markers+text',\n",
    "                marker=dict(symbol='triangle-up', color='green', size=12),\n",
    "                text=['Buy']*len(buy_trades),\n",
    "                textposition='bottom center',\n",
    "                name='Buy'\n",
    "            ),\n",
    "            row=1, col=1\n",
    "        )\n",
    "        # Sell markers\n",
    "        fig.add_trace(\n",
    "            go.Scatter(\n",
    "                x=sell_trades['Timestamp'],\n",
    "                y=historical_data[symbol][historical_data.index.isin(sell_trades['Timestamp'])].high * 1.002,\n",
    "                mode='markers+text',\n",
    "                marker=dict(symbol='triangle-down', color='red', size=12),\n",
    "                text=['Sell']*len(sell_trades),\n",
    "                textposition='top center',\n",
    "                name='Sell'\n",
    "            ),\n",
    "            row=1, col=1\n",
    "        )\n",
    "\n",
    "    fig.add_trace(go.Bar(x=historical_data[symbol].index,\n",
    "                        y=historical_data[symbol].volume,\n",
    "                        ), row=2, col=1)\n",
    "\n",
    "    fig.update_layout(title=f'{symbol}',\n",
    "                    yaxis_range=(set_ylim[0], set_ylim[1]),\n",
    "                    xaxis_title='Date',\n",
    "                    yaxis_title='Price', \n",
    "                    height=800, width=1000)\n",
    "    fig.show()\n",
    "\n",
    "viz(symbols[0], trades_df, historical_data)"
   ]
  },
  {
   "cell_type": "code",
   "execution_count": 72,
   "id": "27798c42",
   "metadata": {},
   "outputs": [
    {
     "name": "stdout",
     "output_type": "stream",
     "text": [
      "Visualize data Bitstamp:BTCUSD\n"
     ]
    },
    {
     "data": {
      "application/vnd.plotly.v1+json": {
       "config": {
        "plotlyServerURL": "https://plot.ly"
       },
       "data": [
        {
         "close": {
          "bdata": "AAAAAJDA/EAAAAAA8K/8QAAAAABw2/xAAAAAALAA/UAAAAAA8BX9QAAAAAAgIP1AAAAAAOD7/EAAAAAAENr8QAAAAADA5vxAAAAAAMDR/EAAAAAAAAn9QAAAAADwDf1AAAAAALAe/UAAAAAAoF/9QAAAAACAKf1AAAAAAIAd/UAAAAAAUMv8QAAAAABQrPxAAAAAAGDQ/EAAAAAAwOj8QAAAAABA3/xAAAAAAJDn/EAAAAAAUNb8QAAAAACg0/xAAAAAAMDJ/EAAAAAAwNH8QAAAAACQ1PxAAAAAACDL/EAAAAAAcPz8QAAAAACA3vxAAAAAALCl/EAAAAAAUOv8QAAAAADAJf1AAAAAACDW/EAAAAAAEOf8QAAAAAAghPxAAAAAANCr/EAAAAAAIKD8QAAAAAAw0fxAAAAAAKAb/UAAAAAAMAv9QAAAAAAAI/1AAAAAALBM/UAAAAAAMPn8QAAAAADg6PxAAAAAAAD0/EAAAAAAgPf8QAAAAADw6PxAAAAAANAB/UAAAAAAYPL8QAAAAAAA7fxAAAAAAHD4/EAAAAAAEBf9QAAAAABAD/1AAAAAALDk/EAAAAAAgCz8QAAAAAAQKPxAAAAAACBy/EAAAAAAEEL8QAAAAAAQg/xAAAAAAFC5/EAAAAAA8LH8QAAAAACAp/xAAAAAAGDF/EAAAAAAcNn8QAAAAABA4PxAAAAAAKDM/EAAAAAAMN78QAAAAABA2fxAAAAAAIDX/EAAAAAAIPb8QAAAAAAADv1AAAAAANAq/UAAAAAAQCD9QAAAAABgB/1AAAAAAEAD/UAAAAAAcNn8QAAAAAAQ0/xAAAAAADDS/EAAAAAA8Pz8QAAAAAAgB/1AAAAAAFDz/EAAAAAAUKn8QAAAAACQrvxAAAAAAGDK/EAAAAAAANj8QAAAAAAQ1vxAAAAAAFCz/EAAAAAAAM78QAAAAABAjPxAAAAAAKDE/EAAAAAAcOr8QAAAAAAg+fxAAAAAALDk/EAAAAAAIOH8QAAAAADwgfxAAAAAAGBC/EAAAAAAsDv8QAAAAABwF/xAAAAAAGD7+0A=",
          "dtype": "f8"
         },
         "high": {
          "bdata": "AAAAACDO/EAAAAAAINz8QAAAAAAg4/xAAAAAAOAg/UAAAAAAoEL9QAAAAABAS/1AAAAAAGBR/UAAAAAAoBr9QAAAAABgAv1AAAAAAMAc/UAAAAAAQBX9QAAAAAAgSP1AAAAAAICK/UAAAAAAIIH9QAAAAABAhP1AAAAAAIAw/UAAAAAA8DD9QAAAAACQ1vxAAAAAAGDU/EAAAAAAYOv8QAAAAACA6vxAAAAAAJDx/EAAAAAAwOf8QAAAAABQ3PxAAAAAAJDa/EAAAAAAMNz8QAAAAAAA3/xAAAAAAHDj/EAAAAAAkAL9QAAAAAAAB/1AAAAAAMDi/EAAAAAAsPj8QAAAAAAgOP1AAAAAANAu/UAAAAAAIB/9QAAAAACg6vxAAAAAAJC7/EAAAAAAUM38QAAAAAAQ9vxAAAAAAFAd/UAAAAAAoDT9QAAAAABwW/1AAAAAAJBe/UAAAAAAUFb9QAAAAADwD/1AAAAAAKD5/EAAAAAAEP78QAAAAABw9/xAAAAAAPAB/UAAAAAA4CD9QAAAAACA9/xAAAAAADAF/UAAAAAAUC79QAAAAADgKf1AAAAAAEAS/UAAAAAA0O78QAAAAAAgW/xAAAAAAACE/EAAAAAAQHr8QAAAAADglPxAAAAAAHC5/EAAAAAA4MD8QAAAAAAQtvxAAAAAAMDd/EAAAAAA4N/8QAAAAABA5PxAAAAAAIDi/EAAAAAA0Of8QAAAAADw7PxAAAAAAHDj/EAAAAAAwPb8QAAAAACwMf1AAAAAAGA//UAAAAAAIEH9QAAAAAAgOf1AAAAAABAV/UAAAAAAgBP9QAAAAACg5vxAAAAAAHDj/EAAAAAA4P/8QAAAAAAwHv1AAAAAAAAR/UAAAAAA0BD9QAAAAACg0PxAAAAAAGDM/EAAAAAAEN78QAAAAADw5vxAAAAAAGDr/EAAAAAAcP/8QAAAAAAg0fxAAAAAAMDI/EAAAAAAYPP8QAAAAACAB/1AAAAAAOD9/EAAAAAA4Pf8QAAAAAAwBf1AAAAAAHCO/EAAAAAAYFX8QAAAAACgSvxAAAAAAPAW/EA=",
          "dtype": "f8"
         },
         "low": {
          "bdata": "AAAAANBg/EAAAAAAcJP8QAAAAAAAovxAAAAAAPDX/EAAAAAAUNz8QAAAAABA8PxAAAAAADDt/EAAAAAAIL/8QAAAAACAyfxAAAAAANDQ/EAAAAAAILD8QAAAAACA6vxAAAAAABDu/EAAAAAAQBb9QAAAAACQJv1AAAAAALDs/EAAAAAAEKn8QAAAAACgnvxAAAAAADCL/EAAAAAA4Lz8QAAAAADQ2PxAAAAAALDR/EAAAAAAcL38QAAAAADwuPxAAAAAAICm/EAAAAAAYL78QAAAAABQxfxAAAAAAPDH/EAAAAAAwMH8QAAAAADQ0PxAAAAAAHB0/EAAAAAAIHf8QAAAAAAQ3fxAAAAAACDW/EAAAAAAcMT8QAAAAADwfvxAAAAAAGB+/EAAAAAAoF38QAAAAACgePxAAAAAAMCy/EAAAAAAoLf8QAAAAAAw7fxAAAAAAEAd/UAAAAAAIPX8QAAAAACA5fxAAAAAAMDI/EAAAAAAAKj8QAAAAACQqfxAAAAAAKCs/EAAAAAAsPH8QAAAAAAQnfxAAAAAALDR/EAAAAAAwMn8QAAAAACA6vxAAAAAABDe/EAAAAAAkCr8QAAAAABg9ftAAAAAAFAR/EAAAAAAoA78QAAAAABwMfxAAAAAAKB4/EAAAAAAwJz8QAAAAABwp/xAAAAAAPCn/EAAAAAAcMT8QAAAAAAQz/xAAAAAAIDL/EAAAAAAAMj8QAAAAADg1/xAAAAAAMDJ/EAAAAAAYMz8QAAAAAAg9vxAAAAAAPD//EAAAAAAIA79QAAAAADw//xAAAAAACDu/EAAAAAAwMj8QAAAAACAqfxAAAAAAPCv/EAAAAAAgK38QAAAAACg6fxAAAAAAKDa/EAAAAAAYJ/8QAAAAAAAjPxAAAAAALCT/EAAAAAA0Kr8QAAAAACQu/xAAAAAADCo/EAAAAAAUKf8QAAAAACARPxAAAAAAMCI/EAAAAAAEMH8QAAAAADA4PxAAAAAAODg/EAAAAAAMMP8QAAAAAAwgPxAAAAAAIAz/EAAAAAAIOn7QAAAAADQ+/tAAAAAAEDc+0A=",
          "dtype": "f8"
         },
         "open": {
          "bdata": "AAAAANBr/EAAAAAAoMD8QAAAAAAAsPxAAAAAAHDb/EAAAAAA4AD9QAAAAADwFf1AAAAAAPAf/UAAAAAAQPr8QAAAAAAQ2vxAAAAAAMDm/EAAAAAAwNH8QAAAAADwCP1AAAAAAAAQ/UAAAAAAsB79QAAAAACgX/1AAAAAAHAp/UAAAAAAcB39QAAAAADQyfxAAAAAAHCs/EAAAAAAcND8QAAAAADA6PxAAAAAADDf/EAAAAAAkOf8QAAAAABQ1vxAAAAAAJDT/EAAAAAA0Mn8QAAAAADA0fxAAAAAAJDU/EAAAAAA8Mr8QAAAAACg/fxAAAAAAKDc/EAAAAAAQJ78QAAAAAAg6/xAAAAAAMAl/UAAAAAAMNb8QAAAAAAQ5/xAAAAAADCE/EAAAAAA0Kv8QAAAAAAgoPxAAAAAAODP/EAAAAAAkBv9QAAAAABgC/1AAAAAAJAj/UAAAAAAsEz9QAAAAABA+fxAAAAAAODn/EAAAAAAAPT8QAAAAABw9/xAAAAAAKDr/EAAAAAAsAD9QAAAAADg8/xAAAAAAGDs/EAAAAAAoPb8QAAAAAAQF/1AAAAAABAP/UAAAAAAAOj8QAAAAACALPxAAAAAAPAn/EAAAAAAQHL8QAAAAAAAQvxAAAAAABCD/EAAAAAAQLn8QAAAAADgsfxAAAAAAPCn/EAAAAAAYMX8QAAAAABw2fxAAAAAAEDg/EAAAAAA8M38QAAAAACQ3vxAAAAAAEDZ/EAAAAAAcNf8QAAAAAAg9vxAAAAAACAN/UAAAAAAoC39QAAAAACQIP1AAAAAAFAH/UAAAAAAQAP9QAAAAAAw2fxAAAAAABDT/EAAAAAAQNP8QAAAAACA/fxAAAAAAMAG/UAAAAAAYPP8QAAAAABAqfxAAAAAAOCu/EAAAAAAYMr8QAAAAAAg2fxAAAAAABDW/EAAAAAAgLP8QAAAAAAAzvxAAAAAAHCJ/EAAAAAAkMT8QAAAAABw6/xAAAAAADD5/EAAAAAAoOT8QAAAAAAg4fxAAAAAAICB/EAAAAAAUEL8QAAAAABgO/xAAAAAAPAW/EA=",
          "dtype": "f8"
         },
         "type": "candlestick",
         "x": [
          "2025-07-16T03:00:00",
          "2025-07-16T07:00:00",
          "2025-07-16T11:00:00",
          "2025-07-16T15:00:00",
          "2025-07-16T19:00:00",
          "2025-07-16T23:00:00",
          "2025-07-17T03:00:00",
          "2025-07-17T07:00:00",
          "2025-07-17T11:00:00",
          "2025-07-17T15:00:00",
          "2025-07-17T19:00:00",
          "2025-07-17T23:00:00",
          "2025-07-18T03:00:00",
          "2025-07-18T07:00:00",
          "2025-07-18T11:00:00",
          "2025-07-18T15:00:00",
          "2025-07-18T19:00:00",
          "2025-07-18T23:00:00",
          "2025-07-19T03:00:00",
          "2025-07-19T07:00:00",
          "2025-07-19T11:00:00",
          "2025-07-19T15:00:00",
          "2025-07-19T19:00:00",
          "2025-07-19T23:00:00",
          "2025-07-20T03:00:00",
          "2025-07-20T07:00:00",
          "2025-07-20T11:00:00",
          "2025-07-20T15:00:00",
          "2025-07-20T19:00:00",
          "2025-07-20T23:00:00",
          "2025-07-21T03:00:00",
          "2025-07-21T07:00:00",
          "2025-07-21T11:00:00",
          "2025-07-21T15:00:00",
          "2025-07-21T19:00:00",
          "2025-07-21T23:00:00",
          "2025-07-22T03:00:00",
          "2025-07-22T07:00:00",
          "2025-07-22T11:00:00",
          "2025-07-22T15:00:00",
          "2025-07-22T19:00:00",
          "2025-07-22T23:00:00",
          "2025-07-23T03:00:00",
          "2025-07-23T07:00:00",
          "2025-07-23T11:00:00",
          "2025-07-23T15:00:00",
          "2025-07-23T19:00:00",
          "2025-07-23T23:00:00",
          "2025-07-24T03:00:00",
          "2025-07-24T07:00:00",
          "2025-07-24T11:00:00",
          "2025-07-24T15:00:00",
          "2025-07-24T19:00:00",
          "2025-07-24T23:00:00",
          "2025-07-25T03:00:00",
          "2025-07-25T07:00:00",
          "2025-07-25T11:00:00",
          "2025-07-25T15:00:00",
          "2025-07-25T19:00:00",
          "2025-07-25T23:00:00",
          "2025-07-26T03:00:00",
          "2025-07-26T07:00:00",
          "2025-07-26T11:00:00",
          "2025-07-26T15:00:00",
          "2025-07-26T19:00:00",
          "2025-07-26T23:00:00",
          "2025-07-27T03:00:00",
          "2025-07-27T07:00:00",
          "2025-07-27T11:00:00",
          "2025-07-27T15:00:00",
          "2025-07-27T19:00:00",
          "2025-07-27T23:00:00",
          "2025-07-28T03:00:00",
          "2025-07-28T07:00:00",
          "2025-07-28T11:00:00",
          "2025-07-28T15:00:00",
          "2025-07-28T19:00:00",
          "2025-07-28T23:00:00",
          "2025-07-29T03:00:00",
          "2025-07-29T07:00:00",
          "2025-07-29T11:00:00",
          "2025-07-29T15:00:00",
          "2025-07-29T19:00:00",
          "2025-07-29T23:00:00",
          "2025-07-30T03:00:00",
          "2025-07-30T07:00:00",
          "2025-07-30T11:00:00",
          "2025-07-30T15:00:00",
          "2025-07-30T19:00:00",
          "2025-07-30T23:00:00",
          "2025-07-31T03:00:00",
          "2025-07-31T07:00:00",
          "2025-07-31T11:00:00",
          "2025-07-31T15:00:00",
          "2025-07-31T19:00:00",
          "2025-07-31T23:00:00",
          "2025-08-01T03:00:00",
          "2025-08-01T07:00:00",
          "2025-08-01T11:00:00",
          "2025-08-01T15:00:00"
         ],
         "xaxis": "x",
         "yaxis": "y"
        },
        {
         "marker": {
          "color": "green",
          "size": 12,
          "symbol": "triangle-up"
         },
         "mode": "markers+text",
         "name": "Buy",
         "text": [
          "Buy",
          "Buy",
          "Buy"
         ],
         "textposition": "bottom center",
         "type": "scatter",
         "x": [
          "2025-07-22T23:00:00",
          "2025-07-27T07:00:00",
          "2025-07-31T19:00:00"
         ],
         "xaxis": "x",
         "y": {
          "bdata": "gZVDi2De/EAlBoGVQ7n8QF66SQx2tPxA",
          "dtype": "f8"
         },
         "yaxis": "y"
        },
        {
         "marker": {
          "color": "red",
          "size": 12,
          "symbol": "triangle-down"
         },
         "mode": "markers+text",
         "name": "Sell",
         "text": [
          "Sell",
          "Sell",
          "Sell"
         ],
         "textposition": "top center",
         "type": "scatter",
         "x": [
          "2025-07-25T07:00:00",
          "2025-07-30T07:00:00",
          "2025-07-31T23:00:00"
         ],
         "xaxis": "x",
         "y": {
          "bdata": "NV66SaD9/EDLoUW21+z8QLTIdr4LFP1A",
          "dtype": "f8"
         },
         "yaxis": "y"
        },
        {
         "type": "bar",
         "x": [
          "2025-07-16T03:00:00",
          "2025-07-16T07:00:00",
          "2025-07-16T11:00:00",
          "2025-07-16T15:00:00",
          "2025-07-16T19:00:00",
          "2025-07-16T23:00:00",
          "2025-07-17T03:00:00",
          "2025-07-17T07:00:00",
          "2025-07-17T11:00:00",
          "2025-07-17T15:00:00",
          "2025-07-17T19:00:00",
          "2025-07-17T23:00:00",
          "2025-07-18T03:00:00",
          "2025-07-18T07:00:00",
          "2025-07-18T11:00:00",
          "2025-07-18T15:00:00",
          "2025-07-18T19:00:00",
          "2025-07-18T23:00:00",
          "2025-07-19T03:00:00",
          "2025-07-19T07:00:00",
          "2025-07-19T11:00:00",
          "2025-07-19T15:00:00",
          "2025-07-19T19:00:00",
          "2025-07-19T23:00:00",
          "2025-07-20T03:00:00",
          "2025-07-20T07:00:00",
          "2025-07-20T11:00:00",
          "2025-07-20T15:00:00",
          "2025-07-20T19:00:00",
          "2025-07-20T23:00:00",
          "2025-07-21T03:00:00",
          "2025-07-21T07:00:00",
          "2025-07-21T11:00:00",
          "2025-07-21T15:00:00",
          "2025-07-21T19:00:00",
          "2025-07-21T23:00:00",
          "2025-07-22T03:00:00",
          "2025-07-22T07:00:00",
          "2025-07-22T11:00:00",
          "2025-07-22T15:00:00",
          "2025-07-22T19:00:00",
          "2025-07-22T23:00:00",
          "2025-07-23T03:00:00",
          "2025-07-23T07:00:00",
          "2025-07-23T11:00:00",
          "2025-07-23T15:00:00",
          "2025-07-23T19:00:00",
          "2025-07-23T23:00:00",
          "2025-07-24T03:00:00",
          "2025-07-24T07:00:00",
          "2025-07-24T11:00:00",
          "2025-07-24T15:00:00",
          "2025-07-24T19:00:00",
          "2025-07-24T23:00:00",
          "2025-07-25T03:00:00",
          "2025-07-25T07:00:00",
          "2025-07-25T11:00:00",
          "2025-07-25T15:00:00",
          "2025-07-25T19:00:00",
          "2025-07-25T23:00:00",
          "2025-07-26T03:00:00",
          "2025-07-26T07:00:00",
          "2025-07-26T11:00:00",
          "2025-07-26T15:00:00",
          "2025-07-26T19:00:00",
          "2025-07-26T23:00:00",
          "2025-07-27T03:00:00",
          "2025-07-27T07:00:00",
          "2025-07-27T11:00:00",
          "2025-07-27T15:00:00",
          "2025-07-27T19:00:00",
          "2025-07-27T23:00:00",
          "2025-07-28T03:00:00",
          "2025-07-28T07:00:00",
          "2025-07-28T11:00:00",
          "2025-07-28T15:00:00",
          "2025-07-28T19:00:00",
          "2025-07-28T23:00:00",
          "2025-07-29T03:00:00",
          "2025-07-29T07:00:00",
          "2025-07-29T11:00:00",
          "2025-07-29T15:00:00",
          "2025-07-29T19:00:00",
          "2025-07-29T23:00:00",
          "2025-07-30T03:00:00",
          "2025-07-30T07:00:00",
          "2025-07-30T11:00:00",
          "2025-07-30T15:00:00",
          "2025-07-30T19:00:00",
          "2025-07-30T23:00:00",
          "2025-07-31T03:00:00",
          "2025-07-31T07:00:00",
          "2025-07-31T11:00:00",
          "2025-07-31T15:00:00",
          "2025-07-31T19:00:00",
          "2025-07-31T23:00:00",
          "2025-08-01T03:00:00",
          "2025-08-01T07:00:00",
          "2025-08-01T11:00:00",
          "2025-08-01T15:00:00"
         ],
         "xaxis": "x2",
         "y": {
          "bdata": "LGjWKSG4aUA6rLLnWcBYQNMi7CUXcFlAKtXTgQsoY0Ds7Le4Dr2BQGK6lOMjBHJAQj2eEkeYbUDWBReGg15lQJQ/jM4BOV9AI0kQrgBGaUBmjrzeE1l1QKsHDmA4sHxAFmv65F/DdECcNoAKKbRrQOD0DdCmX2ZATYrqCPtqbUDCXvYlesaAQH6eDn0KHHxA0xa26kNRaUAubf6AgxZUQH4PZiz95EhAg/zoq5akUEABNnv7DmdXQBwd/GlIUV5AhzZ84ivqVUDW3SM4wSlXQFo7m5+sj0dA741jHAo5U0DvNhTjIYJaQKQq2AyRi1ZAdx4Nji9KaUCtEJh/uydlQEIXgW8iI2JAqY0kIKr+YkCdeJRr1kt3QN2BU4ISV3dADUSBBGaBXkD9nwWZ681vQOpjV72QAGtA+mLvxTcrZkBhulo4WklvQGF39J6uO29AVWc5+SLEYkAWcEu7gyNZQARU3chhgFNANA3tEH2HVkDVFugkRRBwQOFnluP55HJAUsEbsToHY0BwKYRhghpgQCArMhkyW2VAhSmpl0hBW0C0+13xF3ZvQKBHtR1t1mtADxZnb52KaEAvjfxN8jeVQAQRFAWbnZhAmxmirzlMlUBfjR6FJIWEQGWngv6QSH1A/VNHGh4KbkBfffrXC05kQL3opw+PIEpAjWDC7M7wYEAFdeNAfNJdQBps6jwqfUxAhfYkj6v8VkBLp1x+s6NUQNY8BcjpxEVAFj98T5vXUUA4L2+K3rNYQEI+KvY+KmZA6GV39ah+WkAr8UYHANJiQLKHk4cHzV5AOtyatjewUEDnnyrwLxB1QLjYH+6LR21AXtaj9LXSYkD3cI/GvWlgQHPMJn4U3lJA4HPUj1WKVkAh110L8CpxQNoyx48kynRARxFj46uMb0BuAZmE6AxbQA+no07GGlRAlH+x5wAHX0DHTKJeAApwQOHZ9T2wgXhAomIYh6WDVECEKW/snvFgQICp0XEWCVRAlyoHafwWUkCo/qRObjdzQNf/tZPzN25A1Ps6LhIuZ0BabRf9Ffd1QEW/dGKo5GJAG3Wd2/66UUA=",
          "dtype": "f8"
         },
         "yaxis": "y2"
        }
       ],
       "layout": {
        "height": 800,
        "template": {
         "data": {
          "bar": [
           {
            "error_x": {
             "color": "#2a3f5f"
            },
            "error_y": {
             "color": "#2a3f5f"
            },
            "marker": {
             "line": {
              "color": "#E5ECF6",
              "width": 0.5
             },
             "pattern": {
              "fillmode": "overlay",
              "size": 10,
              "solidity": 0.2
             }
            },
            "type": "bar"
           }
          ],
          "barpolar": [
           {
            "marker": {
             "line": {
              "color": "#E5ECF6",
              "width": 0.5
             },
             "pattern": {
              "fillmode": "overlay",
              "size": 10,
              "solidity": 0.2
             }
            },
            "type": "barpolar"
           }
          ],
          "carpet": [
           {
            "aaxis": {
             "endlinecolor": "#2a3f5f",
             "gridcolor": "white",
             "linecolor": "white",
             "minorgridcolor": "white",
             "startlinecolor": "#2a3f5f"
            },
            "baxis": {
             "endlinecolor": "#2a3f5f",
             "gridcolor": "white",
             "linecolor": "white",
             "minorgridcolor": "white",
             "startlinecolor": "#2a3f5f"
            },
            "type": "carpet"
           }
          ],
          "choropleth": [
           {
            "colorbar": {
             "outlinewidth": 0,
             "ticks": ""
            },
            "type": "choropleth"
           }
          ],
          "contour": [
           {
            "colorbar": {
             "outlinewidth": 0,
             "ticks": ""
            },
            "colorscale": [
             [
              0,
              "#0d0887"
             ],
             [
              0.1111111111111111,
              "#46039f"
             ],
             [
              0.2222222222222222,
              "#7201a8"
             ],
             [
              0.3333333333333333,
              "#9c179e"
             ],
             [
              0.4444444444444444,
              "#bd3786"
             ],
             [
              0.5555555555555556,
              "#d8576b"
             ],
             [
              0.6666666666666666,
              "#ed7953"
             ],
             [
              0.7777777777777778,
              "#fb9f3a"
             ],
             [
              0.8888888888888888,
              "#fdca26"
             ],
             [
              1,
              "#f0f921"
             ]
            ],
            "type": "contour"
           }
          ],
          "contourcarpet": [
           {
            "colorbar": {
             "outlinewidth": 0,
             "ticks": ""
            },
            "type": "contourcarpet"
           }
          ],
          "heatmap": [
           {
            "colorbar": {
             "outlinewidth": 0,
             "ticks": ""
            },
            "colorscale": [
             [
              0,
              "#0d0887"
             ],
             [
              0.1111111111111111,
              "#46039f"
             ],
             [
              0.2222222222222222,
              "#7201a8"
             ],
             [
              0.3333333333333333,
              "#9c179e"
             ],
             [
              0.4444444444444444,
              "#bd3786"
             ],
             [
              0.5555555555555556,
              "#d8576b"
             ],
             [
              0.6666666666666666,
              "#ed7953"
             ],
             [
              0.7777777777777778,
              "#fb9f3a"
             ],
             [
              0.8888888888888888,
              "#fdca26"
             ],
             [
              1,
              "#f0f921"
             ]
            ],
            "type": "heatmap"
           }
          ],
          "histogram": [
           {
            "marker": {
             "pattern": {
              "fillmode": "overlay",
              "size": 10,
              "solidity": 0.2
             }
            },
            "type": "histogram"
           }
          ],
          "histogram2d": [
           {
            "colorbar": {
             "outlinewidth": 0,
             "ticks": ""
            },
            "colorscale": [
             [
              0,
              "#0d0887"
             ],
             [
              0.1111111111111111,
              "#46039f"
             ],
             [
              0.2222222222222222,
              "#7201a8"
             ],
             [
              0.3333333333333333,
              "#9c179e"
             ],
             [
              0.4444444444444444,
              "#bd3786"
             ],
             [
              0.5555555555555556,
              "#d8576b"
             ],
             [
              0.6666666666666666,
              "#ed7953"
             ],
             [
              0.7777777777777778,
              "#fb9f3a"
             ],
             [
              0.8888888888888888,
              "#fdca26"
             ],
             [
              1,
              "#f0f921"
             ]
            ],
            "type": "histogram2d"
           }
          ],
          "histogram2dcontour": [
           {
            "colorbar": {
             "outlinewidth": 0,
             "ticks": ""
            },
            "colorscale": [
             [
              0,
              "#0d0887"
             ],
             [
              0.1111111111111111,
              "#46039f"
             ],
             [
              0.2222222222222222,
              "#7201a8"
             ],
             [
              0.3333333333333333,
              "#9c179e"
             ],
             [
              0.4444444444444444,
              "#bd3786"
             ],
             [
              0.5555555555555556,
              "#d8576b"
             ],
             [
              0.6666666666666666,
              "#ed7953"
             ],
             [
              0.7777777777777778,
              "#fb9f3a"
             ],
             [
              0.8888888888888888,
              "#fdca26"
             ],
             [
              1,
              "#f0f921"
             ]
            ],
            "type": "histogram2dcontour"
           }
          ],
          "mesh3d": [
           {
            "colorbar": {
             "outlinewidth": 0,
             "ticks": ""
            },
            "type": "mesh3d"
           }
          ],
          "parcoords": [
           {
            "line": {
             "colorbar": {
              "outlinewidth": 0,
              "ticks": ""
             }
            },
            "type": "parcoords"
           }
          ],
          "pie": [
           {
            "automargin": true,
            "type": "pie"
           }
          ],
          "scatter": [
           {
            "fillpattern": {
             "fillmode": "overlay",
             "size": 10,
             "solidity": 0.2
            },
            "type": "scatter"
           }
          ],
          "scatter3d": [
           {
            "line": {
             "colorbar": {
              "outlinewidth": 0,
              "ticks": ""
             }
            },
            "marker": {
             "colorbar": {
              "outlinewidth": 0,
              "ticks": ""
             }
            },
            "type": "scatter3d"
           }
          ],
          "scattercarpet": [
           {
            "marker": {
             "colorbar": {
              "outlinewidth": 0,
              "ticks": ""
             }
            },
            "type": "scattercarpet"
           }
          ],
          "scattergeo": [
           {
            "marker": {
             "colorbar": {
              "outlinewidth": 0,
              "ticks": ""
             }
            },
            "type": "scattergeo"
           }
          ],
          "scattergl": [
           {
            "marker": {
             "colorbar": {
              "outlinewidth": 0,
              "ticks": ""
             }
            },
            "type": "scattergl"
           }
          ],
          "scattermap": [
           {
            "marker": {
             "colorbar": {
              "outlinewidth": 0,
              "ticks": ""
             }
            },
            "type": "scattermap"
           }
          ],
          "scattermapbox": [
           {
            "marker": {
             "colorbar": {
              "outlinewidth": 0,
              "ticks": ""
             }
            },
            "type": "scattermapbox"
           }
          ],
          "scatterpolar": [
           {
            "marker": {
             "colorbar": {
              "outlinewidth": 0,
              "ticks": ""
             }
            },
            "type": "scatterpolar"
           }
          ],
          "scatterpolargl": [
           {
            "marker": {
             "colorbar": {
              "outlinewidth": 0,
              "ticks": ""
             }
            },
            "type": "scatterpolargl"
           }
          ],
          "scatterternary": [
           {
            "marker": {
             "colorbar": {
              "outlinewidth": 0,
              "ticks": ""
             }
            },
            "type": "scatterternary"
           }
          ],
          "surface": [
           {
            "colorbar": {
             "outlinewidth": 0,
             "ticks": ""
            },
            "colorscale": [
             [
              0,
              "#0d0887"
             ],
             [
              0.1111111111111111,
              "#46039f"
             ],
             [
              0.2222222222222222,
              "#7201a8"
             ],
             [
              0.3333333333333333,
              "#9c179e"
             ],
             [
              0.4444444444444444,
              "#bd3786"
             ],
             [
              0.5555555555555556,
              "#d8576b"
             ],
             [
              0.6666666666666666,
              "#ed7953"
             ],
             [
              0.7777777777777778,
              "#fb9f3a"
             ],
             [
              0.8888888888888888,
              "#fdca26"
             ],
             [
              1,
              "#f0f921"
             ]
            ],
            "type": "surface"
           }
          ],
          "table": [
           {
            "cells": {
             "fill": {
              "color": "#EBF0F8"
             },
             "line": {
              "color": "white"
             }
            },
            "header": {
             "fill": {
              "color": "#C8D4E3"
             },
             "line": {
              "color": "white"
             }
            },
            "type": "table"
           }
          ]
         },
         "layout": {
          "annotationdefaults": {
           "arrowcolor": "#2a3f5f",
           "arrowhead": 0,
           "arrowwidth": 1
          },
          "autotypenumbers": "strict",
          "coloraxis": {
           "colorbar": {
            "outlinewidth": 0,
            "ticks": ""
           }
          },
          "colorscale": {
           "diverging": [
            [
             0,
             "#8e0152"
            ],
            [
             0.1,
             "#c51b7d"
            ],
            [
             0.2,
             "#de77ae"
            ],
            [
             0.3,
             "#f1b6da"
            ],
            [
             0.4,
             "#fde0ef"
            ],
            [
             0.5,
             "#f7f7f7"
            ],
            [
             0.6,
             "#e6f5d0"
            ],
            [
             0.7,
             "#b8e186"
            ],
            [
             0.8,
             "#7fbc41"
            ],
            [
             0.9,
             "#4d9221"
            ],
            [
             1,
             "#276419"
            ]
           ],
           "sequential": [
            [
             0,
             "#0d0887"
            ],
            [
             0.1111111111111111,
             "#46039f"
            ],
            [
             0.2222222222222222,
             "#7201a8"
            ],
            [
             0.3333333333333333,
             "#9c179e"
            ],
            [
             0.4444444444444444,
             "#bd3786"
            ],
            [
             0.5555555555555556,
             "#d8576b"
            ],
            [
             0.6666666666666666,
             "#ed7953"
            ],
            [
             0.7777777777777778,
             "#fb9f3a"
            ],
            [
             0.8888888888888888,
             "#fdca26"
            ],
            [
             1,
             "#f0f921"
            ]
           ],
           "sequentialminus": [
            [
             0,
             "#0d0887"
            ],
            [
             0.1111111111111111,
             "#46039f"
            ],
            [
             0.2222222222222222,
             "#7201a8"
            ],
            [
             0.3333333333333333,
             "#9c179e"
            ],
            [
             0.4444444444444444,
             "#bd3786"
            ],
            [
             0.5555555555555556,
             "#d8576b"
            ],
            [
             0.6666666666666666,
             "#ed7953"
            ],
            [
             0.7777777777777778,
             "#fb9f3a"
            ],
            [
             0.8888888888888888,
             "#fdca26"
            ],
            [
             1,
             "#f0f921"
            ]
           ]
          },
          "colorway": [
           "#636efa",
           "#EF553B",
           "#00cc96",
           "#ab63fa",
           "#FFA15A",
           "#19d3f3",
           "#FF6692",
           "#B6E880",
           "#FF97FF",
           "#FECB52"
          ],
          "font": {
           "color": "#2a3f5f"
          },
          "geo": {
           "bgcolor": "white",
           "lakecolor": "white",
           "landcolor": "#E5ECF6",
           "showlakes": true,
           "showland": true,
           "subunitcolor": "white"
          },
          "hoverlabel": {
           "align": "left"
          },
          "hovermode": "closest",
          "mapbox": {
           "style": "light"
          },
          "paper_bgcolor": "white",
          "plot_bgcolor": "#E5ECF6",
          "polar": {
           "angularaxis": {
            "gridcolor": "white",
            "linecolor": "white",
            "ticks": ""
           },
           "bgcolor": "#E5ECF6",
           "radialaxis": {
            "gridcolor": "white",
            "linecolor": "white",
            "ticks": ""
           }
          },
          "scene": {
           "xaxis": {
            "backgroundcolor": "#E5ECF6",
            "gridcolor": "white",
            "gridwidth": 2,
            "linecolor": "white",
            "showbackground": true,
            "ticks": "",
            "zerolinecolor": "white"
           },
           "yaxis": {
            "backgroundcolor": "#E5ECF6",
            "gridcolor": "white",
            "gridwidth": 2,
            "linecolor": "white",
            "showbackground": true,
            "ticks": "",
            "zerolinecolor": "white"
           },
           "zaxis": {
            "backgroundcolor": "#E5ECF6",
            "gridcolor": "white",
            "gridwidth": 2,
            "linecolor": "white",
            "showbackground": true,
            "ticks": "",
            "zerolinecolor": "white"
           }
          },
          "shapedefaults": {
           "line": {
            "color": "#2a3f5f"
           }
          },
          "ternary": {
           "aaxis": {
            "gridcolor": "white",
            "linecolor": "white",
            "ticks": ""
           },
           "baxis": {
            "gridcolor": "white",
            "linecolor": "white",
            "ticks": ""
           },
           "bgcolor": "#E5ECF6",
           "caxis": {
            "gridcolor": "white",
            "linecolor": "white",
            "ticks": ""
           }
          },
          "title": {
           "x": 0.05
          },
          "xaxis": {
           "automargin": true,
           "gridcolor": "white",
           "linecolor": "white",
           "ticks": "",
           "title": {
            "standoff": 15
           },
           "zerolinecolor": "white",
           "zerolinewidth": 2
          },
          "yaxis": {
           "automargin": true,
           "gridcolor": "white",
           "linecolor": "white",
           "ticks": "",
           "title": {
            "standoff": 15
           },
           "zerolinecolor": "white",
           "zerolinewidth": 2
          }
         }
        },
        "title": {
         "text": "Bitstamp:BTCUSD"
        },
        "width": 1000,
        "xaxis": {
         "anchor": "y",
         "domain": [
          0,
          1
         ],
         "matches": "x2",
         "showticklabels": false,
         "title": {
          "text": "Date"
         }
        },
        "xaxis2": {
         "anchor": "y2",
         "domain": [
          0,
          1
         ]
        },
        "yaxis": {
         "anchor": "x",
         "domain": [
          0.24,
          1
         ],
         "range": [
          114116,
          127050
         ],
         "title": {
          "text": "Price"
         }
        },
        "yaxis2": {
         "anchor": "x2",
         "domain": [
          0,
          0.19
         ]
        }
       }
      }
     },
     "metadata": {},
     "output_type": "display_data"
    }
   ],
   "source": [
    "symbol = symbols[0]\n",
    "print(f'Visualize data {symbol}')\n",
    "# Visualize\n",
    "fig = make_subplots(rows=2, cols=1, shared_xaxes=True, vertical_spacing=0.05, row_heights=[0.8, 0.2])\n",
    "\n",
    "fig.add_trace(go.Candlestick(x=historical_data[symbol].index,\n",
    "                    open=historical_data[symbol].open,\n",
    "                    high=historical_data[symbol].high,\n",
    "                    low=historical_data[symbol].low,\n",
    "                    close=historical_data[symbol].close,\n",
    "                    ), row=1, col=1)\n",
    "set_ylim = (historical_data[symbol].low.min(), historical_data[symbol].high.max() * 1.05)\n",
    "# Add buy/sell markers from trades_df to the candlestick chart (row 1)\n",
    "if 'trades_df' in locals():\n",
    "    buy_trades = trades_df[trades_df['Side'] == 'buy']\n",
    "    sell_trades = trades_df[trades_df['Side'] == 'sell']\n",
    "    # Buy markers\n",
    "    fig.add_trace(\n",
    "        go.Scatter(\n",
    "            x=buy_trades['Timestamp'],\n",
    "            y=historical_data[symbol][historical_data.index.isin(buy_trades['Timestamp'])].low * 0.998,\n",
    "            mode='markers+text',\n",
    "            marker=dict(symbol='triangle-up', color='green', size=12),\n",
    "            text=['Buy']*len(buy_trades),\n",
    "            textposition='bottom center',\n",
    "            name='Buy'\n",
    "        ),\n",
    "        row=1, col=1\n",
    "    )\n",
    "    # Sell markers\n",
    "    fig.add_trace(\n",
    "        go.Scatter(\n",
    "            x=sell_trades['Timestamp'],\n",
    "            y=historical_data[symbol][historical_data.index.isin(sell_trades['Timestamp'])].high * 1.002,\n",
    "            mode='markers+text',\n",
    "            marker=dict(symbol='triangle-down', color='red', size=12),\n",
    "            text=['Sell']*len(sell_trades),\n",
    "            textposition='top center',\n",
    "            name='Sell'\n",
    "        ),\n",
    "        row=1, col=1\n",
    "    )\n",
    "\n",
    "fig.add_trace(go.Bar(x=historical_data[symbol].index,\n",
    "                    y=historical_data[symbol].volume,\n",
    "                    ), row=2, col=1)\n",
    "\n",
    "fig.update_layout(title=f'{symbol}',\n",
    "                  yaxis_range=(set_ylim[0], set_ylim[1]),\n",
    "                  xaxis_title='Date',\n",
    "                  yaxis_title='Price', \n",
    "                  height=800, width=1000)\n",
    "fig.show()"
   ]
  },
  {
   "cell_type": "code",
   "execution_count": 16,
   "id": "11567866",
   "metadata": {},
   "outputs": [
    {
     "name": "stdout",
     "output_type": "stream",
     "text": [
      "=== STRATEGY COMPARISON ===\n",
      "\n",
      "Strategy: sma_crossover\n",
      "Type: SMACrossoverStrategy\n",
      "Parameters: {'name': 'sma_crossover', 'strategy_type': 'SMA Crossover', 'short_window': 5, 'long_window': 30, 'description': 'SMA Crossover with 5/30 periods'}\n",
      "\n",
      "Strategy: rsi\n",
      "Type: RSIStrategy\n",
      "Parameters: {'name': 'rsi', 'strategy_type': 'RSI Strategy', 'period': 20, 'overbought_threshold': 70, 'oversold_threshold': 30, 'confirmation_period': 2, 'description': 'RSI Strategy with 20 period, 30/70 levels'}\n",
      "\n",
      "Strategy: macd\n",
      "Type: MACDStrategy\n",
      "Parameters: {'name': 'macd', 'strategy_type': 'MACD Strategy', 'fast_period': 15, 'slow_period': 20, 'signal_period': 7, 'histogram_threshold': 0.0, 'confirmation_period': 1, 'description': 'MACD Strategy with 15/20/7 periods'}\n"
     ]
    }
   ],
   "source": [
    "# Cell 9: So sánh performance của các strategies\n",
    "def compare_strategies(engine):\n",
    "    \"\"\"Compare performance of different strategies\"\"\"\n",
    "    if not hasattr(engine, 'strategies') or not engine.strategies:\n",
    "        print(\"Không có strategies để so sánh\")\n",
    "        return\n",
    "    \n",
    "    strategy_results = {}\n",
    "    \n",
    "    for name, strategy in engine.strategies.items():\n",
    "        # Calculate basic metrics for each strategy\n",
    "        # This is a simplified version - you might want to run separate backtests\n",
    "        strategy_results[name] = {\n",
    "            'name': name,\n",
    "            'type': strategy.__class__.__name__,\n",
    "            'parameters': strategy.get_summary()\n",
    "        }\n",
    "    \n",
    "    # Display strategy comparison\n",
    "    print(\"=== STRATEGY COMPARISON ===\")\n",
    "    for name, result in strategy_results.items():\n",
    "        print(f\"\\nStrategy: {name}\")\n",
    "        print(f\"Type: {result['type']}\")\n",
    "        print(f\"Parameters: {result['parameters']}\")\n",
    "\n",
    "compare_strategies(engine)"
   ]
  }
 ],
 "metadata": {
  "kernelspec": {
   "display_name": "Python 3",
   "language": "python",
   "name": "python3"
  },
  "language_info": {
   "codemirror_mode": {
    "name": "ipython",
    "version": 3
   },
   "file_extension": ".py",
   "mimetype": "text/x-python",
   "name": "python",
   "nbconvert_exporter": "python",
   "pygments_lexer": "ipython3",
   "version": "3.13.5"
  }
 },
 "nbformat": 4,
 "nbformat_minor": 5
}
